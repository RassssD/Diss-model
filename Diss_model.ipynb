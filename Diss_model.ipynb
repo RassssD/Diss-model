{
 "cells": [
  {
   "attachments": {},
   "cell_type": "markdown",
   "metadata": {},
   "source": [
    "### Imports"
   ]
  },
  {
   "cell_type": "code",
   "execution_count": 1,
   "metadata": {},
   "outputs": [],
   "source": [
    "\n",
    "import networkx as nx\n",
    "import numpy as np\n",
    "import random, math\n",
    "import graphviz\n",
    "import functools, collections, operator\n",
    "\n",
    "import time\n",
    "\n",
    "import kaleido\n",
    "\n",
    "import pandas as pd\n",
    "\n",
    "\n",
    "import matplotlib.pyplot as plt\n",
    "import matplotlib.colors as mcolors\n",
    "import matplotlib.cm as cm\n",
    "\n",
    "import plotly.graph_objects as go\n",
    "from pyvis.network import Network\n",
    "from networkx.drawing.nx_agraph import graphviz_layout\n",
    "import plotly.express as px\n",
    "\n",
    "\n",
    "#import pygraphviz\n"
   ]
  },
  {
   "attachments": {},
   "cell_type": "markdown",
   "metadata": {},
   "source": [
    "Jackson model\n",
    "* Start with m nodes\n",
    "* New nodes are introduced to m nodes\n",
    "* Befriend with probability pm\n",
    "* New nodes are then introduced to n of those pm nodes' connections\n",
    "* Befriend with probability pn\n",
    "* Continue for as many iterations as would like"
   ]
  },
  {
   "cell_type": "markdown",
   "metadata": {},
   "source": [
    "### Simulation version 2"
   ]
  },
  {
   "attachments": {},
   "cell_type": "markdown",
   "metadata": {},
   "source": [
    "Updates:\n",
    "* Attributes of encountered nodes (i.e., the exposure group)\n",
    "* CORRECTED: will now find parent neighbours even if not connected to parents\n",
    "* Rewrtitten connection search functions to include two stages for easier access to targets/connection group\n",
    "* Add connection chance as f of cross/within\n",
    "* Create function to check number of cross/within depending on the group\n",
    "* Caluclate SES assortativity\n",
    "\n",
    "TODO\n",
    "\n",
    "Create functions for\n",
    "* Calculate average bias and exposure for nodes in the network\n",
    "* Calculate all 5 characteristics of real social networks\n",
    "* Find a measure of segregation on networks?\n",
    "* Making samples / lots of simulations, and timing them \n",
    "\n",
    "\n"
   ]
  },
  {
   "cell_type": "code",
   "execution_count": 42,
   "metadata": {},
   "outputs": [],
   "source": [
    "\n",
    "class JacksonSimulationV2():\n",
    "\n",
    "    def __init__(self, initial_n, T, m, pm_o, n, pn_o, p_SES_high, biased = False, rho = 1):\n",
    "\n",
    "        # parameters\n",
    "        self.initial_n = initial_n # initial number of nodes\n",
    "        self.T = T # number of iterations / final nodes - initial_n\n",
    "        self.m = m # number of parent nodes encountered\n",
    "        self.pm_o = pm_o # probability of befriending a parent node of same SES\n",
    "        self.n = n # number of parent neighbour nodes encountered\n",
    "        self.pn_o = pn_o # probability of befriending parent neighbour nodes of same SES\n",
    "        self.p_SES_high = p_SES_high # probability of each node's SES to be High\n",
    "        self.biased = biased # whether or not to use a class-biased simulation\n",
    "        self.rho = rho # ratio (within friendship probatility)/(cross friendship probatility): rho = how many times more likely to befriend within-class than across-class (rho = 2 => twice as likely, rho = 1/3 => three times less likely)\n",
    "        # NB rho is initialised as 1, hence no bias, per default. If biased, specify rho value\n",
    "        \n",
    "        # calculate cross-friendship probabilities: rho = po/px => px = po/rho\n",
    "        self.pm_x = pm_o / rho\n",
    "        self.pn_x = pn_o / rho\n",
    "\n",
    "        if biased == True and rho == 1:\n",
    "            print('Warning: Biased simulation requested, but rho = 1.')\n",
    "        if biased == False and rho != 1:\n",
    "            print(f'Warning: Unbiased simulation requested, but rho = {self.rho}')\n",
    "\n",
    "        # also maybe add options for the functions used\n",
    "        # self.initialiser_function = \n",
    "\n",
    "        # simulation memory\n",
    "        self.period = 0\n",
    "        self.graph_history = []\n",
    "        # will also need a matrix history to make it easier to save simulations to a csv or the like\n",
    "\n",
    "        # starting stuff\n",
    "        #self.initial_nodes = [i+1 for i in range(initial_n)] # create n initial nodes, +1 for name to start at 1\n",
    "\n",
    "        self.main()\n",
    "\n",
    "\n",
    "    '''MAIN'''\n",
    "    def main(self):\n",
    "        # make the initial graph\n",
    "        self.save_update_to_memory(self.initial_node_connector_basic())\n",
    "\n",
    "\n",
    "        for t in range(self.T):\n",
    "            self.update_simulation(self.graph_history[-1])\n",
    "\n",
    "        # calculate exposure and friending bias\n",
    "\n",
    "\n",
    "\n",
    "\n",
    "    '''INITIALISATION'''\n",
    "    # basic version: all nodes get a certain number of connections\n",
    "    def initial_node_connector_basic(self):\n",
    "        initial_graph = nx.Graph()\n",
    "\n",
    "        # add nodes until we have enough to start with\n",
    "        while len(initial_graph.nodes) < self.initial_n:\n",
    "            new_node = self.new_node_birth(initial_graph)\n",
    "            initial_graph.add_nodes_from([new_node])\n",
    "\n",
    "\n",
    "        #initial_graph.add_nodes_from(self.initial_nodes)\n",
    "\n",
    "        initial_nodes = list(initial_graph.nodes)\n",
    "\n",
    "\n",
    "        for node in initial_nodes:\n",
    "            possible_links = initial_nodes.copy()\n",
    "            possible_links.remove(node) # remove own node\n",
    "            \n",
    "            # randomly chooses m+n nodes without replacement from the initial nodes to connect (correction for taking the number of nodes instead if m+n>initial_n)\n",
    "            initial_neighbours = list(np.random.choice(possible_links, min(self.m + self.n, self.initial_n-1), replace=False))\n",
    "            \n",
    "            # creates the edges\n",
    "            '''for some reason it's treating this as 3 arguments?'''\n",
    "            initial_edges = self.helper_functions().edge_creator_helper(node, initial_neighbours)\n",
    "            initial_graph.add_edges_from(initial_edges)\n",
    "\n",
    "        return initial_graph\n",
    "\n",
    "\n",
    "    '''UPDATING'''\n",
    "    # big simulation update\n",
    "    def update_simulation(self, current_graph):\n",
    "\n",
    "\n",
    "        # copy graph with the added connections\n",
    "        new_graph = current_graph.copy()\n",
    "\n",
    "        # add the new node\n",
    "        new_node = self.new_node_birth(current_graph) # DONE\n",
    "        new_graph.add_nodes_from([new_node])\n",
    "\n",
    "        # get the connections for the new node\n",
    "        parent_targets = self.find_parent_nodes_targets(self.graph_history[-1]) # DONE\n",
    "        parent_neighbour_targets = self.find_parent_neighbour_targets(self.graph_history[-1], parent_targets) # DONE\n",
    "\n",
    "\n",
    "        # add the exposure group of the node to its attributes\n",
    "        new_node_targets = list(np.concatenate((parent_targets, parent_neighbour_targets)))\n",
    "        new_node[1]['Exposure Group'].extend(new_node_targets)\n",
    "\n",
    "        # get the connections based on the targets\n",
    "        new_node_edges = self.new_node_connections(new_node, parent_targets, parent_neighbour_targets, new_graph)\n",
    "\n",
    "\n",
    "        # add the connections\n",
    "        new_graph.add_edges_from(new_node_edges)\n",
    "\n",
    "        # save and update\n",
    "        self.save_update_to_memory(new_graph)\n",
    "        self.period += 1\n",
    "\n",
    "\n",
    "    # save to history\n",
    "    def save_update_to_memory(self, updated_graph):\n",
    "        # save new graph to history\n",
    "        '''may need to make a history for t as well, if I end up not creating new nodes every iteration'''\n",
    "        self.graph_history.append(updated_graph)\n",
    "\n",
    "\n",
    "    # create new node, indexed as the next number in the list\n",
    "    def new_node_birth(self, graph):\n",
    "        current_nodes = graph.nodes()\n",
    "        new_node = max(current_nodes) + 1 if len(current_nodes) > 0 else 1\n",
    "\n",
    "        '''currently SES determined at birth, this can be changed'''\n",
    "        new_node_SES = np.random.choice([1, 0], 1, p=[self.p_SES_high, 1-self.p_SES_high])[0]\n",
    "\n",
    "        return (new_node, {'SES_High': new_node_SES, 'Exposure Group': []})\n",
    "\n",
    "\n",
    "    # find parent nodes connections\n",
    "    def find_parent_nodes_targets(self, graph):\n",
    "        # get the current existing nodes\n",
    "        current_nodes = graph.nodes()\n",
    "\n",
    "        # get m parent nodes\n",
    "        parent_targets = np.random.choice(current_nodes, min(m, len(current_nodes)), replace=False)\n",
    "\n",
    "        return parent_targets\n",
    "\n",
    "\n",
    "    # find parent neighbour connections\n",
    "    def find_parent_neighbour_targets(self, graph, parent_target_list):\n",
    "        # take the list of parents and find their (unique) neighbours\n",
    "        parent_neighbours = np.unique(self.helper_functions().find_neighbours(graph, parent_target_list))\n",
    "\n",
    "        # to avoid issues: if the parents have in total less than n neighbours, take their number of neighbours instead\n",
    "        n_possible_encounters = min(len(parent_neighbours), self.n)\n",
    "\n",
    "        # get n parent neighbour nodes\n",
    "        parent_neighbour_targets = np.random.choice(parent_neighbours, n_possible_encounters, replace=False)\n",
    "\n",
    "        return parent_neighbour_targets\n",
    "\n",
    "\n",
    "    # returns a list of connections to form based on targets and probabilties\n",
    "    def new_node_connections(self, new_node, parent_target_list, parent_neighbour_target_list, graph):\n",
    "          \n",
    "        '''\n",
    "        UGLY AF list comprehension: do not use but fun\n",
    "        [np.random.choice([0,1], size=1, p=[1-prob, prob])[0] for prob in [po if edge_type == 'cross' else px for edge_type in [SES_edge_classifier(G, 1, i) for i in targets]]]\n",
    "        '''\n",
    "\n",
    "        '''parents'''\n",
    "        # probability pm to connect to each m of them\n",
    "        # first get edge types\n",
    "        parent_edge_types = [self.helper_functions().SES_edge_classifier(graph, new_node[0], i) for i in parent_target_list]\n",
    "        # get list of probs depending on the probs\n",
    "        parent_edge_probs = [self.pm_x if edge_type == 'cross' else self.pm_o for edge_type in parent_edge_types]\n",
    "        # realised outcome per prob: vector of connections\n",
    "        parent_edges = [np.random.choice([0,1], size=1, p=[1-prob, prob])[0] for prob in parent_edge_probs]\n",
    "\n",
    "        # realised connections: cross product of the two vectors\n",
    "        parent_connections = parent_target_list * parent_edges\n",
    "        parent_connections = parent_connections[parent_connections > 0] # filter out the ones with no connection\n",
    "\n",
    "        '''parent neighbours'''\n",
    "        # probability pn to connect to each n of them\n",
    "        parent_neighbour_edge_types = [self.helper_functions().SES_edge_classifier(graph, new_node[0], i) for i in parent_neighbour_target_list]\n",
    "        parent_neighbour_edge_probs = [self.pm_x if edge_type == 'cross' else self.pm_o for edge_type in parent_neighbour_edge_types]\n",
    "        parent_neighbour_edges = [np.random.choice([0,1], size=1, p=[1-prob, prob])[0] for prob in parent_neighbour_edge_probs]\n",
    "\n",
    "        # realised connections: cross product of the two vectors\n",
    "        parent_neighbour_connections = parent_neighbour_target_list * parent_neighbour_edges\n",
    "        parent_neighbour_connections = parent_neighbour_connections[parent_neighbour_connections > 0] # filter out the ones with no connection\n",
    "\n",
    "\n",
    "        '''form the connections'''\n",
    "        # combine the two\n",
    "        new_node_connections = np.concatenate((parent_connections, parent_neighbour_connections))\n",
    "        new_node_edges = self.helper_functions().edge_creator_helper(new_node[0], new_node_connections)\n",
    "\n",
    "\n",
    "        return new_node_edges\n",
    "\n",
    "\n",
    "\n",
    "    # calculates exposure and friending bias across the graph\n",
    "    def graph_exposure_friending_bias(self, graph, return_dicts = False, return_hist_lists = False):\n",
    "        # calculates exposure and friending bias for a given node. Returns a dict with the two\n",
    "        def node_exposure_friending_bias(graph, node):\n",
    "            \n",
    "            # gets the exposure group of the given node: number of H nodes encountered\n",
    "            exposure_group = self.helper_functions().get_select_node_attributes(graph, 'SES_High', graph.nodes()[node]['Exposure Group'])\n",
    "\n",
    "            n_encountered = len(list(exposure_group.values()))\n",
    "            n_H_encountered = sum(list(exposure_group.values()))\n",
    "            node_SES = graph.nodes[node]['SES_High']\n",
    "\n",
    "            # remove initial nodes\n",
    "            if n_encountered == 0:\n",
    "                exposure = 0\n",
    "                friending_bias = 0\n",
    "            \n",
    "            # calculate correctly if encounter some H nodes\n",
    "            elif n_H_encountered != 0:\n",
    "                exposure = n_H_encountered / ((n_encountered)*self.p_SES_high)\n",
    "\n",
    "                '''alternative here: n_H_encountered / n_encountered'''\n",
    "                '''HAVE A SECOND LOOK AT THIS'''\n",
    "\n",
    "                neighbours_types = self.helper_functions().find_neighbour_types(graph)\n",
    "                # take the appropriate dict from the former\n",
    "                # calculate share of friends who are H\n",
    "                if node_SES == 1:\n",
    "                    friend_H_share = neighbours_types[0][node]['H Share']\n",
    "                else:\n",
    "                    friend_H_share = neighbours_types[1][node]['H Share']\n",
    "\n",
    "                # friending bias: 1 - share of H friends / share of H encounters (=0 if no bias)\n",
    "                friending_bias = 1 - friend_H_share / n_H_encountered\n",
    "            \n",
    "            else:\n",
    "                exposure = n_H_encountered / ((n_encountered)*self.p_SES_high)\n",
    "                friending_bias = 0\n",
    "\n",
    "\n",
    "            return {'Exposure Effect': exposure, 'Friending Bias': friending_bias, 'SES': node_SES}\n",
    "\n",
    "        # list for each\n",
    "        H_expo, H_bias = [], []\n",
    "        L_expo, L_bias = [], []\n",
    "\n",
    "        node_dict = {}\n",
    "\n",
    "\n",
    "        nodes = graph.nodes()\n",
    "        for node in nodes:\n",
    "            node_expo_fb = node_exposure_friending_bias(graph, node)\n",
    "\n",
    "            if node_expo_fb['SES'] == 1:\n",
    "                H_expo.append(node_expo_fb['Exposure Effect'])\n",
    "                H_bias.append(node_expo_fb['Friending Bias'])\n",
    "            else:\n",
    "                L_expo.append(node_expo_fb['Exposure Effect'])\n",
    "                L_bias.append(node_expo_fb['Friending Bias'])\n",
    "\n",
    "            # append to the dict if requested\n",
    "            if return_dicts == True:\n",
    "                node_dict[str(node)] = node_expo_fb\n",
    "\n",
    "\n",
    "        # take averages in each category\n",
    "        H_expo_avg, H_bias_avg = sum(H_expo)/len(H_expo), sum(H_bias)/len(H_bias)\n",
    "        L_expo_avg, L_bias_avg = sum(L_expo)/len(L_expo), sum(L_bias)/len(L_bias)\n",
    "        all_expo_avg = (sum(H_expo)+sum(L_expo)) / (len(H_expo) + len(L_expo))\n",
    "        all_bias_avg = (sum(H_bias)+sum(L_bias)) / (len(H_bias) + len(L_bias))\n",
    "\n",
    "        values_dict = {'All': (all_expo_avg, all_bias_avg),\n",
    "                       'High': (H_expo_avg, H_bias_avg),\n",
    "                       'Low': (L_expo_avg, L_bias_avg)}\n",
    "        \n",
    "        return values_dict\n",
    "        '''later, incorporate returning hists etc but who cares now'''\n",
    "\n",
    "\n",
    "    class helper_functions:\n",
    "        '''useful functions'''\n",
    "        # return the indicated attribute for a list of nodes\n",
    "        def get_select_node_attributes(self, graph, attribute, node_list):\n",
    "            attribute_dict_all_nodes = nx.get_node_attributes(graph, attribute)\n",
    "            attribute_dict = {node: attribute_dict_all_nodes[node] for node in node_list}\n",
    "\n",
    "            return attribute_dict\n",
    "\n",
    "        # creates a list of edges based on targets \n",
    "        def edge_creator_helper(self, node, connection_targets):\n",
    "            edges = [(node, connection_target) for connection_target in connection_targets]\n",
    "\n",
    "            return edges\n",
    "\n",
    "        # returns list of neighbours for all the nodes in the given list\n",
    "        def find_neighbours(self, graph, node_list):\n",
    "            if len(node_list) != 0:\n",
    "                all_neighbours_list = list(np.concatenate(([list(graph[node]) for node in node_list])))\n",
    "            else:\n",
    "                all_neighbours_list = []\n",
    "\n",
    "            return all_neighbours_list\n",
    "\n",
    "        \n",
    "        # check connection type of two connected nodes: cross(-class) or within(-class)\n",
    "        def SES_edge_classifier(self, graph, node1, node2):\n",
    "            SES_values = list(self.get_select_node_attributes(graph, 'SES_High', [node1, node2]).values())\n",
    "            link_type = 'within' if SES_values[0] == SES_values[1] else 'cross'\n",
    "\n",
    "            return link_type\n",
    "\n",
    "        # same, but now for all edges\n",
    "        def SES_edge_classifier_all(self, graph, return_counts = False):\n",
    "            edges = graph.edges()\n",
    "\n",
    "            list_edge_type = [self.SES_edge_classifier(graph, edge[0], edge[1]) for edge in edges]\n",
    "\n",
    "            dict_edge_type = dict(zip(edges, list_edge_type))\n",
    "            dict_edge_type = {edge: {'Edge type': dict_edge_type[edge]} for edge in edges}\n",
    "\n",
    "\n",
    "            # counts the number of each\n",
    "            if return_counts == True:\n",
    "                edge_type_counts = np.asarray(np.unique(self.SES_edge_classifier_all(graph)[0], return_counts=True)).T\n",
    "                \n",
    "\n",
    "            if return_counts == True:\n",
    "                return list_edge_type, dict_edge_type, edge_type_counts\n",
    "            \n",
    "            else:\n",
    "                return list_edge_type, dict_edge_type\n",
    "\n",
    "\n",
    "        # returns a tuple: \n",
    "        # 0: Pearson correlation coefficient between a node's degree and the average clustering of its neighbours\n",
    "        # 1: Dict with each node's degree and the average correlation of its neighbours\n",
    "        # 2: List with two lists: degree and neighbour clustering for each node (ex for plotting)\n",
    "        def degree_neighbour_clustering_corr(self, graph):\n",
    "            nodes = list(graph.nodes())\n",
    "            node_dict = {}\n",
    "            \n",
    "            # calculate degree and clustering at the beginning\n",
    "            node_degree = dict(nx.degree(graph))\n",
    "            node_clustering = dict(nx.clustering(graph))\n",
    "\n",
    "            # iterate over nodes\n",
    "            for node in nodes:\n",
    "                # find the neighbours\n",
    "                node_neighbours = self.find_neighbours(graph, [node])\n",
    "                neighbour_clustering = []\n",
    "\n",
    "                # get clustering for each neighbour and calculate the average\n",
    "                for neighbour in node_neighbours:\n",
    "                    neighbour_clustering.append(node_clustering[neighbour])\n",
    "                avg_neighbour_clustering = np.average(neighbour_clustering)\n",
    "\n",
    "                # append to the dict: tuple with node's own degree, and its neighbours avg clustering\n",
    "                node_dict[node] = (node_degree[node], avg_neighbour_clustering)\n",
    "\n",
    "            # calculate correlation across the nodes\n",
    "            data = np.transpose(list(node_dict.values()))\n",
    "            corr = np.corrcoef(data)[0][1]\n",
    "\n",
    "\n",
    "            return (corr, node_dict, data)\n",
    "\n",
    "\n",
    "        # returns a dict with the characteristics of social networks\n",
    "        def graph_social_network_chars(self, graph, summarise = True):\n",
    "            # summarising function\n",
    "            def summ_graph_social_network_chars(GSNC_output):\n",
    "                summary_dict = {\n",
    "                    'Diameter': GSNC_output['Diameter'],\n",
    "                    'APL': GSNC_output['APL'],\n",
    "                    'Clustering': GSNC_output['Clustering'],\n",
    "                    'Degree': GSNC_output['Degree'],\n",
    "                    'Assortativity': GSNC_output['Assortativity'],\n",
    "                    'Degree-neighbour-clustering': GSNC_output['Degree-neighbour-clustering'][0]\n",
    "                }\n",
    "\n",
    "                return summary_dict\n",
    "            \n",
    "            degree_hist = nx.degree_histogram(graph)\n",
    "            avg_degree = np.average(degree_hist)\n",
    "            var_degree = np.var(degree_hist)\n",
    "\n",
    "            small_world_char_dict = {\n",
    "                'Diameter': nx.diameter(graph),     # low diameter\n",
    "                'APL': nx.average_shortest_path_length(graph),      # relatively low APL (order of log n)\n",
    "                'Clustering': nx.average_clustering(graph),     # relatively high clustering\n",
    "                'Degree': (avg_degree, var_degree),     # fat degree tails\n",
    "                'Degree histogram': degree_hist,\n",
    "                #nx.degree_histogram(G) # returns a list a where a[x] = number of nodes with a degree of x, up until the highest amount     \n",
    "                'Assortativity': nx.assortativity.degree_assortativity_coefficient(graph),      # assortativity: positive degree correlation\n",
    "                'Degree-neighbour-clustering': self.degree_neighbour_clustering_corr(graph)     # negative correlation between own degree and neighbours' clustering\n",
    "            }\n",
    "\n",
    "            # can return more detailed\n",
    "            if summarise == True:\n",
    "                return summ_graph_social_network_chars(small_world_char_dict)\n",
    "            else:\n",
    "                return small_world_char_dict\n",
    "\n",
    "\n",
    "        # finds the number of H and L friends for each node, as well as the share\n",
    "        # returns 2 dicts: one for H, one for L; each containing [0] H share, [1] H neighbours, [2] L neighbours\n",
    "        def find_neighbour_types(self, graph):\n",
    "\n",
    "            # sort all nodes into either H or L\n",
    "            H_nodes = []\n",
    "            L_nodes = []\n",
    "\n",
    "            node_degrees = graph.degree()\n",
    "\n",
    "            for node, attrs in graph.nodes(data=True):\n",
    "                if attrs['SES_High'] == 1:\n",
    "                    H_nodes.append(node)\n",
    "                else:\n",
    "                    L_nodes.append(node)\n",
    "\n",
    "            H_graph_dict = {}\n",
    "            L_graph_dict = {}\n",
    "\n",
    "            # loop over nodes\n",
    "            for node in graph.nodes():\n",
    "                neighbours = graph.neighbors(node)\n",
    "                H_neighbours = []\n",
    "                L_neighbours = []\n",
    "\n",
    "                # loop over each node's neighbours\n",
    "                # sort into one of two lists\n",
    "                for neighbour in neighbours:\n",
    "                    if neighbour in H_nodes:\n",
    "                        H_neighbours.append(neighbour)\n",
    "                    else:\n",
    "                        L_neighbours.append(neighbour)\n",
    "\n",
    "                H_share = len(H_neighbours) / node_degrees[node] if node_degrees[node] > 0 else 0\n",
    "\n",
    "                # put into a dict for each node: share of H friends, number of H and low friends\n",
    "                node_dict = {'H Share': H_share, 'NH': len(H_neighbours), 'NL': len(L_neighbours)}\n",
    "\n",
    "                # append this dict for a dict of the whole graph\n",
    "                if node in H_nodes:\n",
    "                    H_graph_dict[node] = node_dict\n",
    "                else:\n",
    "                    L_graph_dict[node] = node_dict\n",
    "\n",
    "\n",
    "            return (H_graph_dict, L_graph_dict)\n",
    "\n",
    "        # returns a tuple: average share of H friends for H and L\n",
    "        def average_neighbour_type_per_SES(self, graph, return_dicts = False, return_hist_lists = False):\n",
    "            H_dict, L_dict = self.find_neighbour_types(graph)\n",
    "\n",
    "            H_share_list = [H_dict[node]['H Share'] for node in H_dict]\n",
    "            L_share_list = [L_dict[node]['H Share'] for node in L_dict]\n",
    "\n",
    "\n",
    "            # if H and L nodes both exist, calculate averages, otherwise just 1\n",
    "            if len(list(H_dict.keys())) != 0 and len(list(L_dict.keys())) != 0:\n",
    "                H_average = sum(H_share_list) / len(list(H_dict.keys()))\n",
    "                L_average = sum(L_share_list) / len(list(L_dict.keys()))\n",
    "\n",
    "            elif len(list(H_dict.keys())) == 0:\n",
    "                H_average = 0\n",
    "                L_average = 1\n",
    "            \n",
    "            else:\n",
    "                H_average = 1\n",
    "                L_average = 0\n",
    "\n",
    "\n",
    "            if return_dicts == True:\n",
    "                if return_hist_lists == True:\n",
    "                    return ((H_average, L_average), (H_dict, L_dict), (H_share_list, L_share_list))\n",
    "                else:\n",
    "                    return ((H_average, L_average), (H_dict, L_dict))\n",
    "                \n",
    "            else:\n",
    "                if return_hist_lists == True:\n",
    "                    return ((H_average, L_average), (H_share_list, L_share_list))\n",
    "                else:\n",
    "                    return (H_average, L_average)\n",
    "            # return dicts as well for the plotly drawing\n",
    "\n"
   ]
  },
  {
   "cell_type": "markdown",
   "metadata": {},
   "source": [
    "### Plotly drawing"
   ]
  },
  {
   "cell_type": "code",
   "execution_count": 3,
   "metadata": {},
   "outputs": [],
   "source": [
    "\n",
    "class plotly_sim_drawing(object):\n",
    "    '''HELPER FUNCTIONS'''\n",
    "    '''MODIFY THESE TO TAKE A SPECIFIC TIME INSTEAD'''\n",
    "    # gets a tuple of arrays of edge positions\n",
    "    def go_get_edge_positions(self, graph, graph_layout):\n",
    "\n",
    "        edge_x = []\n",
    "        edge_y = []\n",
    "\n",
    "        for edge in graph.edges():\n",
    "            x0, y0 = graph_layout[edge[0]]\n",
    "            x1, y1 = graph_layout[edge[1]]\n",
    "            edge_x.append(x0)\n",
    "            edge_x.append(x1)\n",
    "            edge_x.append(None)\n",
    "            edge_y.append(y0)\n",
    "            edge_y.append(y1)\n",
    "            edge_y.append(None)\n",
    "\n",
    "\n",
    "        return (edge_x, edge_y)\n",
    "\n",
    "    # gets a edge trace based on a wanted layout and graph\n",
    "    #to add color list later: https://stackoverflow.com/questions/62601052/option-to-add-edge-colouring-in-networkx-trace-using-plotly\n",
    "\n",
    "    def go_get_edge_trace(self, graph, graph_layout):#, edge_color_list):\n",
    "        edge_x, edge_y = self.go_get_edge_positions(graph, graph_layout)\n",
    "\n",
    "        edge_trace = go.Scatter(\n",
    "            x=edge_x, y=edge_y,\n",
    "            hoverinfo=None,\n",
    "            mode='lines',\n",
    "\n",
    "            line=dict(\n",
    "                width=0.5, \n",
    "                color='#888')\n",
    "        )\n",
    "\n",
    "        return edge_trace\n",
    "\n",
    "\n",
    "    # returns a tuple with an array for each of x pos and y pos\n",
    "    def go_get_node_positions(self, graph, graph_layout):\n",
    "\n",
    "        node_x_list = []\n",
    "        node_y_list = []\n",
    "\n",
    "        for node in graph.nodes():\n",
    "            node_x, node_y = graph_layout[node]\n",
    "            node_x_list.append(node_x)\n",
    "            node_y_list.append(node_y)\n",
    "\n",
    "\n",
    "        return (node_x_list, node_y_list)\n",
    "\n",
    "    # gets a node trace based on a wanted layout and graph\n",
    "    def go_get_node_trace(self, graph, graph_layout, node_color_list, node_text):\n",
    "        node_x, node_y = self.go_get_node_positions(graph, graph_layout)\n",
    "\n",
    "        node_trace = go.Scatter(\n",
    "            x=node_x, y=node_y,\n",
    "            hoverinfo='text',\n",
    "            mode='markers',\n",
    "            text=node_text,\n",
    "            #IDEA: add text for number of friends in each group\n",
    "\n",
    "            marker=dict(\n",
    "                size=5,\n",
    "                color=node_color_list),\n",
    "        )\n",
    "\n",
    "        return node_trace\n",
    "\n",
    "\n",
    "    def get_legend_text(self, simulation, graph):\n",
    "        # share of H friends\n",
    "        H_shares = simulation.helper_functions().average_neighbour_type_per_SES(graph)\n",
    "        text_H_shares = f\"Mean share of High-SES friends:<br> • High SES: {round(H_shares[0], 2)}<br> • Low SES: {round(H_shares[1], 2)}<br>\"\n",
    "\n",
    "        # attribute assortativity\n",
    "        attr_assortativity = nx.assortativity.attribute_assortativity_coefficient(graph, 'SES_High')\n",
    "        text_attr_assortativity = f\"High SES assortativity: {round(attr_assortativity, 2)}\"\n",
    "\n",
    "        # edge types\n",
    "        edge_type_counts = simulation.helper_functions().SES_edge_classifier_all(graph, return_counts = True)[2]\n",
    "        \n",
    "        within_count, cross_count = int(edge_type_counts[0][1]), int(edge_type_counts[1][1])\n",
    "        total_count = within_count + cross_count\n",
    "        text_edge_type_counts = f\"<br>Edge types<br> • Within-SES: {round(within_count / total_count, 2)}<br> • Across-SES: {round(cross_count / total_count, 2)}<br> • Total: {total_count}\"\n",
    "\n",
    "\n",
    "        # largest connected component / unconnected nodes\n",
    "        n_in_largest_cc = len(max(nx.connected_components(graph), key=len))\n",
    "        text_largest_cc = f\"<br> Nodes in largest CC: {n_in_largest_cc} / {simulation.T + simulation.initial_n}\"\n",
    "\n",
    "        # expected number of connections per node without bias vs realised average degree and variance\n",
    "        degree_hist = nx.degree_histogram(graph)\n",
    "        avg_degree = round(np.average(degree_hist), 2)\n",
    "        var_degree = round(np.var(degree_hist), 2)\n",
    "\n",
    "        no_bias_expected_degree = simulation.m*simulation.pm_o + simulation.n*simulation.pn_o\n",
    "        realised_degree_dist = (avg_degree, var_degree)\n",
    "        text_encpn = f\"<br>Expected average degree <br>without bias: {no_bias_expected_degree}<br>Realised degree <br>mean, var: {realised_degree_dist}\"\n",
    "\n",
    "\n",
    "        # parameters?\n",
    "        text_parameters = f\"<br><br><br>Parameters<br> • Initial nodes: {simulation.initial_n}<br> • T: {simulation.T}<br> • m: {simulation.m}<br> • pm_o: {simulation.pm_o}<br> • n: {simulation.n}<br> • pn_o: {simulation.pn_o}<br> • p_SES_high: {simulation.p_SES_high}<br> • rho: {simulation.rho}<br> • pm_x: {simulation.pm_o / simulation.rho}<br> • pn_x: {simulation.pn_o / simulation.rho}\"\n",
    "\n",
    "        # combine everything\n",
    "        all_texts = [text_H_shares, text_attr_assortativity, text_edge_type_counts, text_encpn, text_largest_cc, text_parameters]\n",
    "        \n",
    "        final_text = '<br>'.join(all_texts)\n",
    "        return final_text\n",
    "\n",
    "\n",
    "\n",
    "\n",
    "    '''ACTUAL DRAWINGS'''\n",
    "\n",
    "    # basic plotly draw\n",
    "    def plotly_draw(self, simulation, t=-1, layout='spring', draw_largest_CC=True, legend=False, title = None):\n",
    "        graph = simulation.graph_history[t]\n",
    "\n",
    "        # only draw the largest connected component (since there are always a few nodes with no connections which makes the graph ugly)\n",
    "        if draw_largest_CC == True:\n",
    "            largest_CC = max(nx.connected_components(graph), key=len)\n",
    "            graph = graph.subgraph(largest_CC).copy()\n",
    "\n",
    "        SES_list = list(simulation.helper_functions().get_select_node_attributes(graph, 'SES_High', graph.nodes()).values())\n",
    "        SES_color_list = ['blue' if SES == 1 else 'red' for SES in SES_list]\n",
    "\n",
    "\n",
    "        # node texts\n",
    "        '''also add share of H/L neighbour and degree'''\n",
    "        node_text = [str(i) + '_' + str(j) for i, j in zip(list(graph.nodes()), SES_list)]\n",
    "\n",
    "        graph_layout = nx.spring_layout(graph, seed=42, scale=10) if layout =='spring' else nx.random_layout(graph)\n",
    "\n",
    "        edge_trace = self.go_get_edge_trace(graph, graph_layout)\n",
    "        node_trace = self.go_get_node_trace(graph, graph_layout, SES_color_list, node_text)\n",
    "\n",
    "\n",
    "        # Get annotations if needed\n",
    "        if legend == True:\n",
    "            # legend: parameters, realised values of a bunch of things\n",
    "            legend_text = self.get_legend_text(simulation, graph)\n",
    "            annotations = [dict(\n",
    "                            text=legend_text,\n",
    "                            align='left',\n",
    "                            showarrow=False,\n",
    "                            xref=\"paper\", yref=\"paper\",\n",
    "                            x=1.35, y=1)]\n",
    "            l_margin = 205\n",
    "            width, height = 800, 600\n",
    "        \n",
    "        else:\n",
    "            annotations = []\n",
    "            l_margin = 5\n",
    "            width, height = 600, 600\n",
    "\n",
    "\n",
    "        # make custom title\n",
    "        if title == None:\n",
    "            title_dict = None\n",
    "            t_margin = 5\n",
    "\n",
    "        else:\n",
    "            title = f'' if title == '' else title\n",
    "            title_dict = {'text': title, 'x': 0.5, 'y': 0.98}\n",
    "            t_margin = 30\n",
    "\n",
    "        '''actual figure'''\n",
    "        fig = go.Figure(data=[edge_trace, node_trace],\n",
    "                    layout=go.Layout(\n",
    "                        title=title_dict,\n",
    "                        titlefont_size=16,\n",
    "                        showlegend=False,\n",
    "                        hovermode='closest',\n",
    "                        margin=dict(b=5,l=5,r=l_margin,t=t_margin),\n",
    "                        annotations=annotations,\n",
    "                        xaxis=dict(showgrid=False, zeroline=False, showticklabels=False),\n",
    "                        yaxis=dict(showgrid=False, zeroline=False, showticklabels=False),\n",
    "                        width=width, height=height)                      \n",
    "                        )\n",
    "\n",
    "\n",
    "        return fig\n",
    "\n",
    "\n",
    "#plotly_sim_drawing.plotly_draw(plotly_sim_drawing(), new_sim, -1, layout='spring', draw_largest_CC=True, title=None, legend=True)\n"
   ]
  },
  {
   "cell_type": "code",
   "execution_count": 13,
   "metadata": {},
   "outputs": [
    {
     "ename": "ZeroDivisionError",
     "evalue": "division by zero",
     "output_type": "error",
     "traceback": [
      "\u001b[1;31m---------------------------------------------------------------------------\u001b[0m",
      "\u001b[1;31mZeroDivisionError\u001b[0m                         Traceback (most recent call last)",
      "\u001b[1;32mc:\\Programming\\Code\\Dissertation\\Diss model\\Diss_model.ipynb Cell 9\u001b[0m in \u001b[0;36m<cell line: 1>\u001b[1;34m()\u001b[0m\n\u001b[1;32m----> <a href='vscode-notebook-cell:/c%3A/Programming/Code/Dissertation/Diss%20model/Diss_model.ipynb#X11sZmlsZQ%3D%3D?line=0'>1</a>\u001b[0m vals \u001b[39m=\u001b[39m new_sim\u001b[39m.\u001b[39;49mhelper_functions()\u001b[39m.\u001b[39;49maverage_neighbour_type_per_SES(new_sim\u001b[39m.\u001b[39;49mgraph_history[\u001b[39m-\u001b[39;49m\u001b[39m1\u001b[39;49m], return_hist_lists \u001b[39m=\u001b[39;49m \u001b[39mTrue\u001b[39;49;00m)[\u001b[39m1\u001b[39m]\n\u001b[0;32m      <a href='vscode-notebook-cell:/c%3A/Programming/Code/Dissertation/Diss%20model/Diss_model.ipynb#X11sZmlsZQ%3D%3D?line=2'>3</a>\u001b[0m bins \u001b[39m=\u001b[39m np\u001b[39m.\u001b[39mlinspace(\u001b[39m0\u001b[39m, \u001b[39m1\u001b[39m, \u001b[39m8\u001b[39m)\n\u001b[0;32m      <a href='vscode-notebook-cell:/c%3A/Programming/Code/Dissertation/Diss%20model/Diss_model.ipynb#X11sZmlsZQ%3D%3D?line=3'>4</a>\u001b[0m \u001b[39m#plt.hist(H_vals, bins, alpha=0.5, label='High SES')\u001b[39;00m\n",
      "\u001b[1;32mc:\\Programming\\Code\\Dissertation\\Diss model\\Diss_model.ipynb Cell 9\u001b[0m in \u001b[0;36mJacksonSimulationV2.helper_functions.average_neighbour_type_per_SES\u001b[1;34m(self, graph, return_dicts, return_hist_lists)\u001b[0m\n\u001b[0;32m    <a href='vscode-notebook-cell:/c%3A/Programming/Code/Dissertation/Diss%20model/Diss_model.ipynb#X11sZmlsZQ%3D%3D?line=377'>378</a>\u001b[0m L_share_list \u001b[39m=\u001b[39m [L_dict[node][\u001b[39m'\u001b[39m\u001b[39mH Share\u001b[39m\u001b[39m'\u001b[39m] \u001b[39mfor\u001b[39;00m node \u001b[39min\u001b[39;00m L_dict]\n\u001b[0;32m    <a href='vscode-notebook-cell:/c%3A/Programming/Code/Dissertation/Diss%20model/Diss_model.ipynb#X11sZmlsZQ%3D%3D?line=380'>381</a>\u001b[0m H_average \u001b[39m=\u001b[39m \u001b[39mmax\u001b[39m(\u001b[39msum\u001b[39m(H_share_list) \u001b[39m/\u001b[39m \u001b[39mlen\u001b[39m(\u001b[39mlist\u001b[39m(H_dict\u001b[39m.\u001b[39mkeys())), \u001b[39m0\u001b[39m)\n\u001b[1;32m--> <a href='vscode-notebook-cell:/c%3A/Programming/Code/Dissertation/Diss%20model/Diss_model.ipynb#X11sZmlsZQ%3D%3D?line=381'>382</a>\u001b[0m L_average \u001b[39m=\u001b[39m \u001b[39mmax\u001b[39m(\u001b[39msum\u001b[39;49m(L_share_list) \u001b[39m/\u001b[39;49m \u001b[39mlen\u001b[39;49m(\u001b[39mlist\u001b[39;49m(L_dict\u001b[39m.\u001b[39;49mkeys())), \u001b[39m0\u001b[39m)\n\u001b[0;32m    <a href='vscode-notebook-cell:/c%3A/Programming/Code/Dissertation/Diss%20model/Diss_model.ipynb#X11sZmlsZQ%3D%3D?line=383'>384</a>\u001b[0m \u001b[39mif\u001b[39;00m return_dicts \u001b[39m==\u001b[39m \u001b[39mTrue\u001b[39;00m:\n\u001b[0;32m    <a href='vscode-notebook-cell:/c%3A/Programming/Code/Dissertation/Diss%20model/Diss_model.ipynb#X11sZmlsZQ%3D%3D?line=384'>385</a>\u001b[0m     \u001b[39mif\u001b[39;00m return_hist_lists \u001b[39m==\u001b[39m \u001b[39mTrue\u001b[39;00m:\n",
      "\u001b[1;31mZeroDivisionError\u001b[0m: division by zero"
     ]
    }
   ],
   "source": [
    "\n",
    "vals = new_sim.helper_functions().average_neighbour_type_per_SES(new_sim.graph_history[-1], return_hist_lists = True)[1]\n",
    "\n",
    "bins = np.linspace(0, 1, 8)\n",
    "#plt.hist(H_vals, bins, alpha=0.5, label='High SES')\n",
    "plt.hist(vals, bins, alpha=0.5, label='Low SES')\n",
    "plt.legend(loc='upper right')\n",
    "plt.show()\n",
    "\n",
    "\n",
    "\n",
    "\n"
   ]
  },
  {
   "attachments": {},
   "cell_type": "markdown",
   "metadata": {},
   "source": [
    "# Actual work"
   ]
  },
  {
   "cell_type": "code",
   "execution_count": 48,
   "metadata": {},
   "outputs": [
    {
     "name": "stdout",
     "output_type": "stream",
     "text": [
      "Warning: Biased simulation requested, but rho = 1.\n"
     ]
    },
    {
     "data": {
      "text/plain": [
       "{'All': (0.9028511376136766, 0.9326505488419371),\n",
       " 'High': (0.8997259864574302, 0.9280855405184305),\n",
       " 'Low': (0.9057824809462798, 0.9369324558740633)}"
      ]
     },
     "execution_count": 48,
     "metadata": {},
     "output_type": "execute_result"
    }
   ],
   "source": [
    "\n",
    "# parameter selection\n",
    "\n",
    "# initial nodes and time\n",
    "initial_n = 0\n",
    "T = 250\n",
    "\n",
    "p = 0.25\n",
    "\n",
    "# parent nodes and prob\n",
    "m = 4\n",
    "pm_o = p\n",
    "\n",
    "# parent neighbours and prob\n",
    "n = 16\n",
    "pn_o = p\n",
    "\n",
    "rho = 1\n",
    "\n",
    "# p high SES\n",
    "p_SES_high = 0.5\n",
    "\n",
    "new_sim = JacksonSimulationV2(initial_n, T, m, pm_o, n, pn_o, p_SES_high, biased=True, rho=rho)\n",
    "\n",
    "\n",
    "plotly_sim_drawing.plotly_draw(plotly_sim_drawing(), new_sim, layout='spring', draw_largest_CC=True, title=f'Network after {T} iterations, rho={rho}')\n",
    "\n",
    "\n",
    "graph = new_sim.graph_history[-1]\n",
    "node = 25\n",
    "\n",
    "new_sim.graph_exposure_friending_bias(graph)\n",
    "\n"
   ]
  },
  {
   "attachments": {},
   "cell_type": "markdown",
   "metadata": {},
   "source": [
    "## Testing"
   ]
  },
  {
   "attachments": {},
   "cell_type": "markdown",
   "metadata": {},
   "source": [
    "### Rho effect on HSES assortativity"
   ]
  },
  {
   "cell_type": "code",
   "execution_count": 260,
   "metadata": {},
   "outputs": [],
   "source": [
    "\n",
    "# initial nodes and time\n",
    "initial_n = 0\n",
    "T = 100\n",
    "\n",
    "p = 0.25\n",
    "\n",
    "# parent nodes and prob\n",
    "m = 4\n",
    "pm_o = p\n",
    "\n",
    "# parent neighbours and prob\n",
    "n = 16\n",
    "pn_o = p\n",
    "\n",
    "rho = 3\n",
    "\n",
    "# p high SES\n",
    "p_SES_high = 0.5\n",
    "\n",
    "rho_list = np.arange(0.25, 5, 0.05)\n",
    "rho_list = [rho_val for rho_val in rho_list]\n",
    "test_sims = [JacksonSimulationV2(initial_n, T, m, pm_o, n, pn_o, p_SES_high, biased=True, rho=rho_val) for rho_val in rho_list]\n",
    "\n",
    "\n",
    "SES_assortativity_list = [nx.assortativity.attribute_assortativity_coefficient(sim.graph_history[-1], 'SES_High') for sim in test_sims]\n",
    "\n",
    "\n",
    "#plt.plot(rho_list, SES_assortativity_list)\n",
    "\n",
    "\n",
    "\n",
    "\n"
   ]
  },
  {
   "cell_type": "code",
   "execution_count": 279,
   "metadata": {},
   "outputs": [
    {
     "data": {
      "application/vnd.plotly.v1+json": {
       "config": {
        "plotlyServerURL": "https://plot.ly"
       },
       "data": [
        {
         "hovertemplate": "Rho=%{x}<br>SES Assortativity=%{y}<extra></extra>",
         "legendgroup": "",
         "line": {
          "color": "rgb(250, 20, 250)",
          "dash": "solid"
         },
         "marker": {
          "symbol": "circle"
         },
         "mode": "lines",
         "name": "",
         "orientation": "v",
         "showlegend": false,
         "type": "scatter",
         "x": [
          0.25,
          0.3,
          0.35,
          0.39999999999999997,
          0.44999999999999996,
          0.49999999999999994,
          0.5499999999999999,
          0.5999999999999999,
          0.6499999999999999,
          0.7,
          0.7499999999999999,
          0.7999999999999998,
          0.8499999999999999,
          0.8999999999999999,
          0.9499999999999998,
          0.9999999999999998,
          1.0499999999999998,
          1.0999999999999999,
          1.15,
          1.1999999999999997,
          1.2499999999999998,
          1.2999999999999998,
          1.3499999999999996,
          1.3999999999999997,
          1.4499999999999997,
          1.4999999999999998,
          1.5499999999999998,
          1.5999999999999996,
          1.6499999999999997,
          1.6999999999999997,
          1.7499999999999996,
          1.7999999999999996,
          1.8499999999999996,
          1.8999999999999997,
          1.9499999999999997,
          1.9999999999999996,
          2.05,
          2.0999999999999996,
          2.1499999999999995,
          2.1999999999999993,
          2.2499999999999996,
          2.2999999999999994,
          2.3499999999999996,
          2.3999999999999995,
          2.4499999999999993,
          2.4999999999999996,
          2.5499999999999994,
          2.5999999999999996,
          2.6499999999999995,
          2.6999999999999993,
          2.7499999999999996,
          2.7999999999999994,
          2.8499999999999996,
          2.8999999999999995,
          2.9499999999999993,
          2.9999999999999996,
          3.0499999999999994,
          3.099999999999999,
          3.1499999999999995,
          3.1999999999999993,
          3.249999999999999,
          3.2999999999999994,
          3.349999999999999,
          3.3999999999999995,
          3.4499999999999993,
          3.499999999999999,
          3.5499999999999994,
          3.599999999999999,
          3.6499999999999995,
          3.6999999999999993,
          3.749999999999999,
          3.7999999999999994,
          3.849999999999999,
          3.899999999999999,
          3.9499999999999993,
          3.999999999999999,
          4.049999999999999,
          4.1,
          4.149999999999999,
          4.199999999999999,
          4.249999999999999,
          4.299999999999999,
          4.349999999999999,
          4.3999999999999995,
          4.449999999999999,
          4.499999999999999,
          4.549999999999999,
          4.599999999999999,
          4.649999999999999,
          4.699999999999999,
          4.749999999999999,
          4.799999999999999,
          4.849999999999999,
          4.899999999999999,
          4.949999999999999
         ],
         "xaxis": "x",
         "y": [
          -0.5727909642621892,
          -0.5415654465351835,
          -0.4466832905917248,
          -0.40298824341179873,
          -0.40414861658875895,
          -0.27768856110020695,
          -0.22716522980584242,
          -0.2492198520925063,
          -0.1981660723382579,
          -0.16982386174808897,
          -0.09799552016118261,
          -0.13989687594783137,
          -0.13004032258064543,
          -0.06336429308565544,
          -0.03252305739143399,
          0.022399682836349175,
          0.041023997218343766,
          0.06840947299569151,
          0.03119682359614295,
          0.08085867620751346,
          0.13226898887276228,
          0.07804329591490738,
          0.13968547641073076,
          0.18821611890918816,
          0.1610969969383102,
          0.14326893380460523,
          0.22392862366535027,
          0.16422672672672683,
          0.17898193760262715,
          0.14947797300738486,
          0.3017258382642997,
          0.3251811594202899,
          0.24320869287312252,
          0.3937728937728938,
          0.31899039722936434,
          0.3209094374220931,
          0.2689583441676633,
          0.33236842105263154,
          0.38245614035087705,
          0.3176730995365567,
          0.25726827510523637,
          0.3267177838238931,
          0.44154992911909524,
          0.3850361545090106,
          0.28748531906564,
          0.2701298701298701,
          0.6157673172598545,
          0.3032600946270011,
          0.49630793401414,
          0.4511680270194202,
          0.4565302144249514,
          0.5125973431058176,
          0.5254615961572219,
          0.28154706795154333,
          0.39609669798116653,
          0.4578343812994779,
          0.4876380139538035,
          0.516327336303649,
          0.5449834424530449,
          0.4953087167070219,
          0.47724430427926684,
          0.5669172932330828,
          0.6087431693989072,
          0.578409090909091,
          0.42819499341238465,
          0.5022103488852844,
          0.46171401589675,
          0.4279103632392201,
          0.520421607378129,
          0.589010989010989,
          0.6635569523149638,
          0.5537001897533206,
          0.5927374199115127,
          0.6248196248196246,
          0.5254407051282053,
          0.45304437564499467,
          0.5278455284552847,
          0.6335232668566001,
          0.5644028103044496,
          0.6710526315789473,
          0.5088276836158191,
          0.6075036075036075,
          0.6818610782389862,
          0.5044025157232703,
          0.5961591422329118,
          0.6474497126436782,
          0.5846870520783565,
          0.6622915650902,
          0.6390577507598785,
          0.710352264557872,
          0.7267508610792194,
          0.6107282547960514,
          0.5709149607454692,
          0.6286542443064183,
          0.7224425059476606
         ],
         "yaxis": "y"
        }
       ],
       "layout": {
        "annotations": [
         {
          "showarrow": false,
          "text": "Equal share",
          "x": 1,
          "xanchor": "right",
          "xref": "x domain",
          "y": 0,
          "yanchor": "bottom",
          "yref": "y"
         },
         {
          "showarrow": false,
          "text": "rho=1: no bias",
          "x": 1,
          "xanchor": "left",
          "xref": "x",
          "y": 1,
          "yanchor": "top",
          "yref": "y domain"
         }
        ],
        "font": {
         "size": 18
        },
        "height": 500,
        "legend": {
         "title": {
          "text": ""
         },
         "tracegroupgap": 0,
         "x": 0.75,
         "y": 1
        },
        "margin": {
         "b": 5,
         "l": 5,
         "r": 5,
         "t": 5
        },
        "plot_bgcolor": "rgba(0,0,0,0)",
        "shapes": [
         {
          "line": {
           "width": 1
          },
          "type": "line",
          "x0": 0,
          "x1": 1,
          "xref": "x domain",
          "y0": 0,
          "y1": 0,
          "yref": "y"
         },
         {
          "line": {
           "width": 1
          },
          "type": "line",
          "x0": 1,
          "x1": 1,
          "xref": "x",
          "y0": 0,
          "y1": 1,
          "yref": "y domain"
         }
        ],
        "showlegend": true,
        "template": {
         "data": {
          "bar": [
           {
            "error_x": {
             "color": "#2a3f5f"
            },
            "error_y": {
             "color": "#2a3f5f"
            },
            "marker": {
             "line": {
              "color": "#E5ECF6",
              "width": 0.5
             },
             "pattern": {
              "fillmode": "overlay",
              "size": 10,
              "solidity": 0.2
             }
            },
            "type": "bar"
           }
          ],
          "barpolar": [
           {
            "marker": {
             "line": {
              "color": "#E5ECF6",
              "width": 0.5
             },
             "pattern": {
              "fillmode": "overlay",
              "size": 10,
              "solidity": 0.2
             }
            },
            "type": "barpolar"
           }
          ],
          "carpet": [
           {
            "aaxis": {
             "endlinecolor": "#2a3f5f",
             "gridcolor": "white",
             "linecolor": "white",
             "minorgridcolor": "white",
             "startlinecolor": "#2a3f5f"
            },
            "baxis": {
             "endlinecolor": "#2a3f5f",
             "gridcolor": "white",
             "linecolor": "white",
             "minorgridcolor": "white",
             "startlinecolor": "#2a3f5f"
            },
            "type": "carpet"
           }
          ],
          "choropleth": [
           {
            "colorbar": {
             "outlinewidth": 0,
             "ticks": ""
            },
            "type": "choropleth"
           }
          ],
          "contour": [
           {
            "colorbar": {
             "outlinewidth": 0,
             "ticks": ""
            },
            "colorscale": [
             [
              0,
              "#0d0887"
             ],
             [
              0.1111111111111111,
              "#46039f"
             ],
             [
              0.2222222222222222,
              "#7201a8"
             ],
             [
              0.3333333333333333,
              "#9c179e"
             ],
             [
              0.4444444444444444,
              "#bd3786"
             ],
             [
              0.5555555555555556,
              "#d8576b"
             ],
             [
              0.6666666666666666,
              "#ed7953"
             ],
             [
              0.7777777777777778,
              "#fb9f3a"
             ],
             [
              0.8888888888888888,
              "#fdca26"
             ],
             [
              1,
              "#f0f921"
             ]
            ],
            "type": "contour"
           }
          ],
          "contourcarpet": [
           {
            "colorbar": {
             "outlinewidth": 0,
             "ticks": ""
            },
            "type": "contourcarpet"
           }
          ],
          "heatmap": [
           {
            "colorbar": {
             "outlinewidth": 0,
             "ticks": ""
            },
            "colorscale": [
             [
              0,
              "#0d0887"
             ],
             [
              0.1111111111111111,
              "#46039f"
             ],
             [
              0.2222222222222222,
              "#7201a8"
             ],
             [
              0.3333333333333333,
              "#9c179e"
             ],
             [
              0.4444444444444444,
              "#bd3786"
             ],
             [
              0.5555555555555556,
              "#d8576b"
             ],
             [
              0.6666666666666666,
              "#ed7953"
             ],
             [
              0.7777777777777778,
              "#fb9f3a"
             ],
             [
              0.8888888888888888,
              "#fdca26"
             ],
             [
              1,
              "#f0f921"
             ]
            ],
            "type": "heatmap"
           }
          ],
          "heatmapgl": [
           {
            "colorbar": {
             "outlinewidth": 0,
             "ticks": ""
            },
            "colorscale": [
             [
              0,
              "#0d0887"
             ],
             [
              0.1111111111111111,
              "#46039f"
             ],
             [
              0.2222222222222222,
              "#7201a8"
             ],
             [
              0.3333333333333333,
              "#9c179e"
             ],
             [
              0.4444444444444444,
              "#bd3786"
             ],
             [
              0.5555555555555556,
              "#d8576b"
             ],
             [
              0.6666666666666666,
              "#ed7953"
             ],
             [
              0.7777777777777778,
              "#fb9f3a"
             ],
             [
              0.8888888888888888,
              "#fdca26"
             ],
             [
              1,
              "#f0f921"
             ]
            ],
            "type": "heatmapgl"
           }
          ],
          "histogram": [
           {
            "marker": {
             "pattern": {
              "fillmode": "overlay",
              "size": 10,
              "solidity": 0.2
             }
            },
            "type": "histogram"
           }
          ],
          "histogram2d": [
           {
            "colorbar": {
             "outlinewidth": 0,
             "ticks": ""
            },
            "colorscale": [
             [
              0,
              "#0d0887"
             ],
             [
              0.1111111111111111,
              "#46039f"
             ],
             [
              0.2222222222222222,
              "#7201a8"
             ],
             [
              0.3333333333333333,
              "#9c179e"
             ],
             [
              0.4444444444444444,
              "#bd3786"
             ],
             [
              0.5555555555555556,
              "#d8576b"
             ],
             [
              0.6666666666666666,
              "#ed7953"
             ],
             [
              0.7777777777777778,
              "#fb9f3a"
             ],
             [
              0.8888888888888888,
              "#fdca26"
             ],
             [
              1,
              "#f0f921"
             ]
            ],
            "type": "histogram2d"
           }
          ],
          "histogram2dcontour": [
           {
            "colorbar": {
             "outlinewidth": 0,
             "ticks": ""
            },
            "colorscale": [
             [
              0,
              "#0d0887"
             ],
             [
              0.1111111111111111,
              "#46039f"
             ],
             [
              0.2222222222222222,
              "#7201a8"
             ],
             [
              0.3333333333333333,
              "#9c179e"
             ],
             [
              0.4444444444444444,
              "#bd3786"
             ],
             [
              0.5555555555555556,
              "#d8576b"
             ],
             [
              0.6666666666666666,
              "#ed7953"
             ],
             [
              0.7777777777777778,
              "#fb9f3a"
             ],
             [
              0.8888888888888888,
              "#fdca26"
             ],
             [
              1,
              "#f0f921"
             ]
            ],
            "type": "histogram2dcontour"
           }
          ],
          "mesh3d": [
           {
            "colorbar": {
             "outlinewidth": 0,
             "ticks": ""
            },
            "type": "mesh3d"
           }
          ],
          "parcoords": [
           {
            "line": {
             "colorbar": {
              "outlinewidth": 0,
              "ticks": ""
             }
            },
            "type": "parcoords"
           }
          ],
          "pie": [
           {
            "automargin": true,
            "type": "pie"
           }
          ],
          "scatter": [
           {
            "fillpattern": {
             "fillmode": "overlay",
             "size": 10,
             "solidity": 0.2
            },
            "type": "scatter"
           }
          ],
          "scatter3d": [
           {
            "line": {
             "colorbar": {
              "outlinewidth": 0,
              "ticks": ""
             }
            },
            "marker": {
             "colorbar": {
              "outlinewidth": 0,
              "ticks": ""
             }
            },
            "type": "scatter3d"
           }
          ],
          "scattercarpet": [
           {
            "marker": {
             "colorbar": {
              "outlinewidth": 0,
              "ticks": ""
             }
            },
            "type": "scattercarpet"
           }
          ],
          "scattergeo": [
           {
            "marker": {
             "colorbar": {
              "outlinewidth": 0,
              "ticks": ""
             }
            },
            "type": "scattergeo"
           }
          ],
          "scattergl": [
           {
            "marker": {
             "colorbar": {
              "outlinewidth": 0,
              "ticks": ""
             }
            },
            "type": "scattergl"
           }
          ],
          "scattermapbox": [
           {
            "marker": {
             "colorbar": {
              "outlinewidth": 0,
              "ticks": ""
             }
            },
            "type": "scattermapbox"
           }
          ],
          "scatterpolar": [
           {
            "marker": {
             "colorbar": {
              "outlinewidth": 0,
              "ticks": ""
             }
            },
            "type": "scatterpolar"
           }
          ],
          "scatterpolargl": [
           {
            "marker": {
             "colorbar": {
              "outlinewidth": 0,
              "ticks": ""
             }
            },
            "type": "scatterpolargl"
           }
          ],
          "scatterternary": [
           {
            "marker": {
             "colorbar": {
              "outlinewidth": 0,
              "ticks": ""
             }
            },
            "type": "scatterternary"
           }
          ],
          "surface": [
           {
            "colorbar": {
             "outlinewidth": 0,
             "ticks": ""
            },
            "colorscale": [
             [
              0,
              "#0d0887"
             ],
             [
              0.1111111111111111,
              "#46039f"
             ],
             [
              0.2222222222222222,
              "#7201a8"
             ],
             [
              0.3333333333333333,
              "#9c179e"
             ],
             [
              0.4444444444444444,
              "#bd3786"
             ],
             [
              0.5555555555555556,
              "#d8576b"
             ],
             [
              0.6666666666666666,
              "#ed7953"
             ],
             [
              0.7777777777777778,
              "#fb9f3a"
             ],
             [
              0.8888888888888888,
              "#fdca26"
             ],
             [
              1,
              "#f0f921"
             ]
            ],
            "type": "surface"
           }
          ],
          "table": [
           {
            "cells": {
             "fill": {
              "color": "#EBF0F8"
             },
             "line": {
              "color": "white"
             }
            },
            "header": {
             "fill": {
              "color": "#C8D4E3"
             },
             "line": {
              "color": "white"
             }
            },
            "type": "table"
           }
          ]
         },
         "layout": {
          "annotationdefaults": {
           "arrowcolor": "#2a3f5f",
           "arrowhead": 0,
           "arrowwidth": 1
          },
          "autotypenumbers": "strict",
          "coloraxis": {
           "colorbar": {
            "outlinewidth": 0,
            "ticks": ""
           }
          },
          "colorscale": {
           "diverging": [
            [
             0,
             "#8e0152"
            ],
            [
             0.1,
             "#c51b7d"
            ],
            [
             0.2,
             "#de77ae"
            ],
            [
             0.3,
             "#f1b6da"
            ],
            [
             0.4,
             "#fde0ef"
            ],
            [
             0.5,
             "#f7f7f7"
            ],
            [
             0.6,
             "#e6f5d0"
            ],
            [
             0.7,
             "#b8e186"
            ],
            [
             0.8,
             "#7fbc41"
            ],
            [
             0.9,
             "#4d9221"
            ],
            [
             1,
             "#276419"
            ]
           ],
           "sequential": [
            [
             0,
             "#0d0887"
            ],
            [
             0.1111111111111111,
             "#46039f"
            ],
            [
             0.2222222222222222,
             "#7201a8"
            ],
            [
             0.3333333333333333,
             "#9c179e"
            ],
            [
             0.4444444444444444,
             "#bd3786"
            ],
            [
             0.5555555555555556,
             "#d8576b"
            ],
            [
             0.6666666666666666,
             "#ed7953"
            ],
            [
             0.7777777777777778,
             "#fb9f3a"
            ],
            [
             0.8888888888888888,
             "#fdca26"
            ],
            [
             1,
             "#f0f921"
            ]
           ],
           "sequentialminus": [
            [
             0,
             "#0d0887"
            ],
            [
             0.1111111111111111,
             "#46039f"
            ],
            [
             0.2222222222222222,
             "#7201a8"
            ],
            [
             0.3333333333333333,
             "#9c179e"
            ],
            [
             0.4444444444444444,
             "#bd3786"
            ],
            [
             0.5555555555555556,
             "#d8576b"
            ],
            [
             0.6666666666666666,
             "#ed7953"
            ],
            [
             0.7777777777777778,
             "#fb9f3a"
            ],
            [
             0.8888888888888888,
             "#fdca26"
            ],
            [
             1,
             "#f0f921"
            ]
           ]
          },
          "colorway": [
           "#636efa",
           "#EF553B",
           "#00cc96",
           "#ab63fa",
           "#FFA15A",
           "#19d3f3",
           "#FF6692",
           "#B6E880",
           "#FF97FF",
           "#FECB52"
          ],
          "font": {
           "color": "#2a3f5f"
          },
          "geo": {
           "bgcolor": "white",
           "lakecolor": "white",
           "landcolor": "#E5ECF6",
           "showlakes": true,
           "showland": true,
           "subunitcolor": "white"
          },
          "hoverlabel": {
           "align": "left"
          },
          "hovermode": "closest",
          "mapbox": {
           "style": "light"
          },
          "paper_bgcolor": "white",
          "plot_bgcolor": "#E5ECF6",
          "polar": {
           "angularaxis": {
            "gridcolor": "white",
            "linecolor": "white",
            "ticks": ""
           },
           "bgcolor": "#E5ECF6",
           "radialaxis": {
            "gridcolor": "white",
            "linecolor": "white",
            "ticks": ""
           }
          },
          "scene": {
           "xaxis": {
            "backgroundcolor": "#E5ECF6",
            "gridcolor": "white",
            "gridwidth": 2,
            "linecolor": "white",
            "showbackground": true,
            "ticks": "",
            "zerolinecolor": "white"
           },
           "yaxis": {
            "backgroundcolor": "#E5ECF6",
            "gridcolor": "white",
            "gridwidth": 2,
            "linecolor": "white",
            "showbackground": true,
            "ticks": "",
            "zerolinecolor": "white"
           },
           "zaxis": {
            "backgroundcolor": "#E5ECF6",
            "gridcolor": "white",
            "gridwidth": 2,
            "linecolor": "white",
            "showbackground": true,
            "ticks": "",
            "zerolinecolor": "white"
           }
          },
          "shapedefaults": {
           "line": {
            "color": "#2a3f5f"
           }
          },
          "ternary": {
           "aaxis": {
            "gridcolor": "white",
            "linecolor": "white",
            "ticks": ""
           },
           "baxis": {
            "gridcolor": "white",
            "linecolor": "white",
            "ticks": ""
           },
           "bgcolor": "#E5ECF6",
           "caxis": {
            "gridcolor": "white",
            "linecolor": "white",
            "ticks": ""
           }
          },
          "title": {
           "x": 0.05
          },
          "xaxis": {
           "automargin": true,
           "gridcolor": "white",
           "linecolor": "white",
           "ticks": "",
           "title": {
            "standoff": 15
           },
           "zerolinecolor": "white",
           "zerolinewidth": 2
          },
          "yaxis": {
           "automargin": true,
           "gridcolor": "white",
           "linecolor": "white",
           "ticks": "",
           "title": {
            "standoff": 15
           },
           "zerolinecolor": "white",
           "zerolinewidth": 2
          }
         }
        },
        "title": {},
        "width": 500,
        "xaxis": {
         "anchor": "y",
         "domain": [
          0,
          1
         ],
         "linecolor": "rgb(0,0,0)",
         "linewidth": 2,
         "range": [
          0,
          5
         ],
         "showgrid": false,
         "showline": true,
         "title": {
          "text": "Rho"
         }
        },
        "yaxis": {
         "anchor": "x",
         "domain": [
          0,
          1
         ],
         "linecolor": "rgb(0,0,0)",
         "linewidth": 2,
         "range": [
          -1,
          1
         ],
         "showgrid": false,
         "showline": true,
         "title": {
          "text": "SES Assortativity"
         }
        }
       }
      }
     },
     "metadata": {},
     "output_type": "display_data"
    }
   ],
   "source": [
    "\n",
    "df_rho_SES_ass = pd.DataFrame(np.transpose([rho_list, SES_assortativity_list]), columns=['Rho', 'SES Assortativity'])\n",
    "\n",
    "rho_ass = px.line(df_rho_SES_ass, x='Rho', y='SES Assortativity')\n",
    "\n",
    "rho_ass.update_layout(\n",
    "    title = None, \n",
    "    font=dict(size = 18),\n",
    "    xaxis_title = 'Rho', \n",
    "    yaxis_title = 'SES Assortativity',\n",
    "    width = 500, height = 500,\n",
    "    showlegend = True, \n",
    "    legend=dict(x=0.75,y=1),\n",
    "    legend_title_text = '',\n",
    "    xaxis_range = [0,5],\n",
    "    yaxis_range = [-1,1],\n",
    "    margin=dict(b=5,l=5,r=5,t=5),\n",
    "    xaxis = dict(showgrid = False, showline = True, linecolor = 'rgb(0,0,0)', linewidth = 2), \n",
    "    yaxis = dict(showgrid = False, showline = True, linecolor = 'rgb(0,0,0)', linewidth = 2),\n",
    "    plot_bgcolor='rgba(0,0,0,0)')\n",
    "\n",
    "rho_ass.data[0].line.color = \"rgb(250, 20, 250)\"\n",
    "rho_ass.add_hline(y=0, line_width=1, annotation_text = 'Equal share')\n",
    "rho_ass.add_vline(x=1, line_width=1, annotation_text = 'rho=1: no bias')\n"
   ]
  },
  {
   "attachments": {},
   "cell_type": "markdown",
   "metadata": {},
   "source": [
    "### Rho effect on share HSES"
   ]
  },
  {
   "cell_type": "code",
   "execution_count": 282,
   "metadata": {},
   "outputs": [],
   "source": [
    "\n",
    "# initial nodes and time\n",
    "initial_n = 0\n",
    "T = 100\n",
    "\n",
    "p = 0.25\n",
    "\n",
    "# parent nodes and prob\n",
    "m = 4\n",
    "pm_o = p\n",
    "\n",
    "# parent neighbours and prob\n",
    "n = 16\n",
    "pn_o = p\n",
    "\n",
    "rho = 3\n",
    "\n",
    "# p high SES\n",
    "p_SES_high = 0.5\n",
    "\n",
    "# run several simulations\n",
    "rho_list = np.arange(0.25, 5, 0.05)\n",
    "n_per_rho = 10\n",
    "\n",
    "test_sims = [[JacksonSimulationV2(initial_n, T, m, pm_o, n, pn_o, p_SES_high, biased=True, rho=rho_val) for i in range(n_per_rho)] for rho_val in rho_list]\n",
    "\n",
    "\n",
    "\n"
   ]
  },
  {
   "cell_type": "code",
   "execution_count": 283,
   "metadata": {},
   "outputs": [
    {
     "data": {
      "application/vnd.plotly.v1+json": {
       "config": {
        "plotlyServerURL": "https://plot.ly"
       },
       "data": [
        {
         "hovertemplate": "variable=High SES<br>Rho_val=%{x}<br>value=%{y}<extra></extra>",
         "legendgroup": "High SES",
         "line": {
          "color": "rgb(200, 20, 0)",
          "dash": "solid"
         },
         "marker": {
          "symbol": "circle"
         },
         "mode": "lines",
         "name": "High SES",
         "orientation": "v",
         "showlegend": true,
         "type": "scatter",
         "x": [
          0.25,
          0.3,
          0.35,
          0.39999999999999997,
          0.44999999999999996,
          0.49999999999999994,
          0.5499999999999999,
          0.5999999999999999,
          0.6499999999999999,
          0.7,
          0.7499999999999999,
          0.7999999999999998,
          0.8499999999999999,
          0.8999999999999999,
          0.9499999999999998,
          0.9999999999999998,
          1.0499999999999998,
          1.0999999999999999,
          1.15,
          1.1999999999999997,
          1.2499999999999998,
          1.2999999999999998,
          1.3499999999999996,
          1.3999999999999997,
          1.4499999999999997,
          1.4999999999999998,
          1.5499999999999998,
          1.5999999999999996,
          1.6499999999999997,
          1.6999999999999997,
          1.7499999999999996,
          1.7999999999999996,
          1.8499999999999996,
          1.8999999999999997,
          1.9499999999999997,
          1.9999999999999996,
          2.05,
          2.0999999999999996,
          2.1499999999999995,
          2.1999999999999993,
          2.2499999999999996,
          2.2999999999999994,
          2.3499999999999996,
          2.3999999999999995,
          2.4499999999999993,
          2.4999999999999996,
          2.5499999999999994,
          2.5999999999999996,
          2.6499999999999995,
          2.6999999999999993,
          2.7499999999999996,
          2.7999999999999994,
          2.8499999999999996,
          2.8999999999999995,
          2.9499999999999993,
          2.9999999999999996,
          3.0499999999999994,
          3.099999999999999,
          3.1499999999999995,
          3.1999999999999993,
          3.249999999999999,
          3.2999999999999994,
          3.349999999999999,
          3.3999999999999995,
          3.4499999999999993,
          3.499999999999999,
          3.5499999999999994,
          3.599999999999999,
          3.6499999999999995,
          3.6999999999999993,
          3.749999999999999,
          3.7999999999999994,
          3.849999999999999,
          3.899999999999999,
          3.9499999999999993,
          3.999999999999999,
          4.049999999999999,
          4.1,
          4.149999999999999,
          4.199999999999999,
          4.249999999999999,
          4.299999999999999,
          4.349999999999999,
          4.3999999999999995,
          4.449999999999999,
          4.499999999999999,
          4.549999999999999,
          4.599999999999999,
          4.649999999999999,
          4.699999999999999,
          4.749999999999999,
          4.799999999999999,
          4.849999999999999,
          4.899999999999999,
          4.949999999999999
         ],
         "xaxis": "x",
         "y": [
          0.20216334747318504,
          0.21915679453294995,
          0.25080496125262847,
          0.3016465143270622,
          0.3217590777023589,
          0.34904350510169346,
          0.3677965175447545,
          0.3546222275877491,
          0.3810436085826073,
          0.40066462511655987,
          0.4211359246465025,
          0.45704611359670116,
          0.4593962834842872,
          0.46179152727606604,
          0.5234197090195478,
          0.4891223342240417,
          0.5363204499327867,
          0.5170753342019198,
          0.5194845283901816,
          0.5579459868617358,
          0.5676696007990529,
          0.5097948515451761,
          0.5462796859270393,
          0.5491422446591345,
          0.6013378815157356,
          0.6222223719012823,
          0.5974077192991278,
          0.6097035722543509,
          0.6069093063077238,
          0.5979113995196259,
          0.5877503245261917,
          0.6505837720808607,
          0.6445277431301643,
          0.646241439932702,
          0.6298338641565253,
          0.6346513536571325,
          0.608841457141098,
          0.68913039340708,
          0.6276915643427512,
          0.6718920624008236,
          0.6678679670022099,
          0.6438590303291168,
          0.7048939101549068,
          0.6456017539830581,
          0.6391260147788826,
          0.6849733292706995,
          0.7287442237288351,
          0.6963562070362024,
          0.6822954292486731,
          0.7167480466472,
          0.6585529060566541,
          0.6949031166359559,
          0.6415757740884094,
          0.7027542895892579,
          0.6993953638884968,
          0.7356596995965418,
          0.7042433051811494,
          0.7132523565758209,
          0.6615000664379732,
          0.7377229013832565,
          0.7397124295858857,
          0.7191759492620552,
          0.7169939746594445,
          0.6892131494571585,
          0.6678423857925883,
          0.724963659472493,
          0.7433220580444919,
          0.7189727651170252,
          0.7205729914221556,
          0.7349896202454773,
          0.7185827445125134,
          0.723666704470175,
          0.7732782605127576,
          0.7493800020940221,
          0.7835945830653117,
          0.72369794545173,
          0.6947633534001187,
          0.7248124165359388,
          0.7375983211496386,
          0.7394986725545756,
          0.7301922223441647,
          0.7054392794766344,
          0.7399117118814705,
          0.7379959213710015,
          0.7718519207535612,
          0.7202799012128812,
          0.7503327965513475,
          0.7291819835325215,
          0.7241890506283081,
          0.7469204273835544,
          0.7477191000192144,
          0.7888069676757856,
          0.7359245579755787,
          0.7223887725123905,
          0.757649161789782
         ],
         "yaxis": "y"
        },
        {
         "hovertemplate": "variable=Low SES<br>Rho_val=%{x}<br>value=%{y}<extra></extra>",
         "legendgroup": "Low SES",
         "line": {
          "color": "rgb(0, 20, 200)",
          "dash": "solid"
         },
         "marker": {
          "symbol": "circle"
         },
         "mode": "lines",
         "name": "Low SES",
         "orientation": "v",
         "showlegend": true,
         "type": "scatter",
         "x": [
          0.25,
          0.3,
          0.35,
          0.39999999999999997,
          0.44999999999999996,
          0.49999999999999994,
          0.5499999999999999,
          0.5999999999999999,
          0.6499999999999999,
          0.7,
          0.7499999999999999,
          0.7999999999999998,
          0.8499999999999999,
          0.8999999999999999,
          0.9499999999999998,
          0.9999999999999998,
          1.0499999999999998,
          1.0999999999999999,
          1.15,
          1.1999999999999997,
          1.2499999999999998,
          1.2999999999999998,
          1.3499999999999996,
          1.3999999999999997,
          1.4499999999999997,
          1.4999999999999998,
          1.5499999999999998,
          1.5999999999999996,
          1.6499999999999997,
          1.6999999999999997,
          1.7499999999999996,
          1.7999999999999996,
          1.8499999999999996,
          1.8999999999999997,
          1.9499999999999997,
          1.9999999999999996,
          2.05,
          2.0999999999999996,
          2.1499999999999995,
          2.1999999999999993,
          2.2499999999999996,
          2.2999999999999994,
          2.3499999999999996,
          2.3999999999999995,
          2.4499999999999993,
          2.4999999999999996,
          2.5499999999999994,
          2.5999999999999996,
          2.6499999999999995,
          2.6999999999999993,
          2.7499999999999996,
          2.7999999999999994,
          2.8499999999999996,
          2.8999999999999995,
          2.9499999999999993,
          2.9999999999999996,
          3.0499999999999994,
          3.099999999999999,
          3.1499999999999995,
          3.1999999999999993,
          3.249999999999999,
          3.2999999999999994,
          3.349999999999999,
          3.3999999999999995,
          3.4499999999999993,
          3.499999999999999,
          3.5499999999999994,
          3.599999999999999,
          3.6499999999999995,
          3.6999999999999993,
          3.749999999999999,
          3.7999999999999994,
          3.849999999999999,
          3.899999999999999,
          3.9499999999999993,
          3.999999999999999,
          4.049999999999999,
          4.1,
          4.149999999999999,
          4.199999999999999,
          4.249999999999999,
          4.299999999999999,
          4.349999999999999,
          4.3999999999999995,
          4.449999999999999,
          4.499999999999999,
          4.549999999999999,
          4.599999999999999,
          4.649999999999999,
          4.699999999999999,
          4.749999999999999,
          4.799999999999999,
          4.849999999999999,
          4.899999999999999,
          4.949999999999999
         ],
         "xaxis": "x",
         "y": [
          0.7968943017270393,
          0.7595434962661862,
          0.7115482203693173,
          0.7336898511164536,
          0.7005536797472132,
          0.6775696937619486,
          0.6715073520205852,
          0.6273752394511292,
          0.6071484165606191,
          0.6039998452428843,
          0.5857963839518552,
          0.5821093897401397,
          0.5287566518695797,
          0.5312516915726325,
          0.516454448777814,
          0.48160270116154946,
          0.48232885778487855,
          0.4735283258208879,
          0.43600621750576607,
          0.48369115691531384,
          0.45446446522636774,
          0.39209807774821803,
          0.44583181244476977,
          0.38939352670531224,
          0.45454590703184544,
          0.4366659733031799,
          0.3833277972797256,
          0.4170430496145115,
          0.4115831947616849,
          0.3571492887868002,
          0.3708627900856693,
          0.3643354027204516,
          0.37824493066990017,
          0.3384891209524895,
          0.32755422456036887,
          0.334694051306097,
          0.30606771302234426,
          0.3495638631410108,
          0.29498114349257665,
          0.3286309762387234,
          0.2934214556558504,
          0.3051973695438998,
          0.30152916499817184,
          0.2775499103988694,
          0.29460721159794534,
          0.29712877675602084,
          0.29902760164253406,
          0.25969765099389397,
          0.29243274716244994,
          0.2896687964071694,
          0.25703983007473785,
          0.2457751102980948,
          0.22365164220877704,
          0.2529663723704795,
          0.25796941441407173,
          0.24559982737212294,
          0.2295946771542206,
          0.2602064195827719,
          0.19889377819619877,
          0.2626936722609043,
          0.23072867461400862,
          0.2435296432190457,
          0.24297485158844095,
          0.20269750605240017,
          0.18087488885845865,
          0.2397876973302829,
          0.2308125085909681,
          0.21500816234632714,
          0.22041670467110466,
          0.2646759670584481,
          0.20364904939625972,
          0.18564275467851607,
          0.2538816778154633,
          0.20580547721742642,
          0.224824348223036,
          0.1961867477240236,
          0.16565462199472883,
          0.18636099537316334,
          0.18218700377829083,
          0.21251738437788967,
          0.18863883689858785,
          0.17766748659687953,
          0.16865902050113293,
          0.15367568861978767,
          0.1821064205393943,
          0.18480655117812678,
          0.2000289078827573,
          0.19666679478513,
          0.1697752102672294,
          0.16013775460770152,
          0.1846305117090985,
          0.15743612766751042,
          0.14668649461215139,
          0.17724510044609335,
          0.16568502082838238
         ],
         "yaxis": "y"
        }
       ],
       "layout": {
        "annotations": [
         {
          "showarrow": false,
          "text": "Equal share",
          "x": 1,
          "xanchor": "right",
          "xref": "x domain",
          "y": 0.5,
          "yanchor": "bottom",
          "yref": "y"
         },
         {
          "showarrow": false,
          "text": "rho=1: no bias",
          "x": 1,
          "xanchor": "left",
          "xref": "x",
          "y": 1,
          "yanchor": "top",
          "yref": "y domain"
         }
        ],
        "font": {
         "size": 18
        },
        "height": 500,
        "legend": {
         "title": {
          "text": ""
         },
         "tracegroupgap": 0,
         "x": 0.75,
         "y": 1
        },
        "margin": {
         "b": 5,
         "l": 5,
         "r": 5,
         "t": 5
        },
        "plot_bgcolor": "rgba(0,0,0,0)",
        "shapes": [
         {
          "line": {
           "width": 1
          },
          "type": "line",
          "x0": 0,
          "x1": 1,
          "xref": "x domain",
          "y0": 0.5,
          "y1": 0.5,
          "yref": "y"
         },
         {
          "line": {
           "width": 1
          },
          "type": "line",
          "x0": 1,
          "x1": 1,
          "xref": "x",
          "y0": 0,
          "y1": 1,
          "yref": "y domain"
         }
        ],
        "showlegend": true,
        "template": {
         "data": {
          "bar": [
           {
            "error_x": {
             "color": "#2a3f5f"
            },
            "error_y": {
             "color": "#2a3f5f"
            },
            "marker": {
             "line": {
              "color": "#E5ECF6",
              "width": 0.5
             },
             "pattern": {
              "fillmode": "overlay",
              "size": 10,
              "solidity": 0.2
             }
            },
            "type": "bar"
           }
          ],
          "barpolar": [
           {
            "marker": {
             "line": {
              "color": "#E5ECF6",
              "width": 0.5
             },
             "pattern": {
              "fillmode": "overlay",
              "size": 10,
              "solidity": 0.2
             }
            },
            "type": "barpolar"
           }
          ],
          "carpet": [
           {
            "aaxis": {
             "endlinecolor": "#2a3f5f",
             "gridcolor": "white",
             "linecolor": "white",
             "minorgridcolor": "white",
             "startlinecolor": "#2a3f5f"
            },
            "baxis": {
             "endlinecolor": "#2a3f5f",
             "gridcolor": "white",
             "linecolor": "white",
             "minorgridcolor": "white",
             "startlinecolor": "#2a3f5f"
            },
            "type": "carpet"
           }
          ],
          "choropleth": [
           {
            "colorbar": {
             "outlinewidth": 0,
             "ticks": ""
            },
            "type": "choropleth"
           }
          ],
          "contour": [
           {
            "colorbar": {
             "outlinewidth": 0,
             "ticks": ""
            },
            "colorscale": [
             [
              0,
              "#0d0887"
             ],
             [
              0.1111111111111111,
              "#46039f"
             ],
             [
              0.2222222222222222,
              "#7201a8"
             ],
             [
              0.3333333333333333,
              "#9c179e"
             ],
             [
              0.4444444444444444,
              "#bd3786"
             ],
             [
              0.5555555555555556,
              "#d8576b"
             ],
             [
              0.6666666666666666,
              "#ed7953"
             ],
             [
              0.7777777777777778,
              "#fb9f3a"
             ],
             [
              0.8888888888888888,
              "#fdca26"
             ],
             [
              1,
              "#f0f921"
             ]
            ],
            "type": "contour"
           }
          ],
          "contourcarpet": [
           {
            "colorbar": {
             "outlinewidth": 0,
             "ticks": ""
            },
            "type": "contourcarpet"
           }
          ],
          "heatmap": [
           {
            "colorbar": {
             "outlinewidth": 0,
             "ticks": ""
            },
            "colorscale": [
             [
              0,
              "#0d0887"
             ],
             [
              0.1111111111111111,
              "#46039f"
             ],
             [
              0.2222222222222222,
              "#7201a8"
             ],
             [
              0.3333333333333333,
              "#9c179e"
             ],
             [
              0.4444444444444444,
              "#bd3786"
             ],
             [
              0.5555555555555556,
              "#d8576b"
             ],
             [
              0.6666666666666666,
              "#ed7953"
             ],
             [
              0.7777777777777778,
              "#fb9f3a"
             ],
             [
              0.8888888888888888,
              "#fdca26"
             ],
             [
              1,
              "#f0f921"
             ]
            ],
            "type": "heatmap"
           }
          ],
          "heatmapgl": [
           {
            "colorbar": {
             "outlinewidth": 0,
             "ticks": ""
            },
            "colorscale": [
             [
              0,
              "#0d0887"
             ],
             [
              0.1111111111111111,
              "#46039f"
             ],
             [
              0.2222222222222222,
              "#7201a8"
             ],
             [
              0.3333333333333333,
              "#9c179e"
             ],
             [
              0.4444444444444444,
              "#bd3786"
             ],
             [
              0.5555555555555556,
              "#d8576b"
             ],
             [
              0.6666666666666666,
              "#ed7953"
             ],
             [
              0.7777777777777778,
              "#fb9f3a"
             ],
             [
              0.8888888888888888,
              "#fdca26"
             ],
             [
              1,
              "#f0f921"
             ]
            ],
            "type": "heatmapgl"
           }
          ],
          "histogram": [
           {
            "marker": {
             "pattern": {
              "fillmode": "overlay",
              "size": 10,
              "solidity": 0.2
             }
            },
            "type": "histogram"
           }
          ],
          "histogram2d": [
           {
            "colorbar": {
             "outlinewidth": 0,
             "ticks": ""
            },
            "colorscale": [
             [
              0,
              "#0d0887"
             ],
             [
              0.1111111111111111,
              "#46039f"
             ],
             [
              0.2222222222222222,
              "#7201a8"
             ],
             [
              0.3333333333333333,
              "#9c179e"
             ],
             [
              0.4444444444444444,
              "#bd3786"
             ],
             [
              0.5555555555555556,
              "#d8576b"
             ],
             [
              0.6666666666666666,
              "#ed7953"
             ],
             [
              0.7777777777777778,
              "#fb9f3a"
             ],
             [
              0.8888888888888888,
              "#fdca26"
             ],
             [
              1,
              "#f0f921"
             ]
            ],
            "type": "histogram2d"
           }
          ],
          "histogram2dcontour": [
           {
            "colorbar": {
             "outlinewidth": 0,
             "ticks": ""
            },
            "colorscale": [
             [
              0,
              "#0d0887"
             ],
             [
              0.1111111111111111,
              "#46039f"
             ],
             [
              0.2222222222222222,
              "#7201a8"
             ],
             [
              0.3333333333333333,
              "#9c179e"
             ],
             [
              0.4444444444444444,
              "#bd3786"
             ],
             [
              0.5555555555555556,
              "#d8576b"
             ],
             [
              0.6666666666666666,
              "#ed7953"
             ],
             [
              0.7777777777777778,
              "#fb9f3a"
             ],
             [
              0.8888888888888888,
              "#fdca26"
             ],
             [
              1,
              "#f0f921"
             ]
            ],
            "type": "histogram2dcontour"
           }
          ],
          "mesh3d": [
           {
            "colorbar": {
             "outlinewidth": 0,
             "ticks": ""
            },
            "type": "mesh3d"
           }
          ],
          "parcoords": [
           {
            "line": {
             "colorbar": {
              "outlinewidth": 0,
              "ticks": ""
             }
            },
            "type": "parcoords"
           }
          ],
          "pie": [
           {
            "automargin": true,
            "type": "pie"
           }
          ],
          "scatter": [
           {
            "fillpattern": {
             "fillmode": "overlay",
             "size": 10,
             "solidity": 0.2
            },
            "type": "scatter"
           }
          ],
          "scatter3d": [
           {
            "line": {
             "colorbar": {
              "outlinewidth": 0,
              "ticks": ""
             }
            },
            "marker": {
             "colorbar": {
              "outlinewidth": 0,
              "ticks": ""
             }
            },
            "type": "scatter3d"
           }
          ],
          "scattercarpet": [
           {
            "marker": {
             "colorbar": {
              "outlinewidth": 0,
              "ticks": ""
             }
            },
            "type": "scattercarpet"
           }
          ],
          "scattergeo": [
           {
            "marker": {
             "colorbar": {
              "outlinewidth": 0,
              "ticks": ""
             }
            },
            "type": "scattergeo"
           }
          ],
          "scattergl": [
           {
            "marker": {
             "colorbar": {
              "outlinewidth": 0,
              "ticks": ""
             }
            },
            "type": "scattergl"
           }
          ],
          "scattermapbox": [
           {
            "marker": {
             "colorbar": {
              "outlinewidth": 0,
              "ticks": ""
             }
            },
            "type": "scattermapbox"
           }
          ],
          "scatterpolar": [
           {
            "marker": {
             "colorbar": {
              "outlinewidth": 0,
              "ticks": ""
             }
            },
            "type": "scatterpolar"
           }
          ],
          "scatterpolargl": [
           {
            "marker": {
             "colorbar": {
              "outlinewidth": 0,
              "ticks": ""
             }
            },
            "type": "scatterpolargl"
           }
          ],
          "scatterternary": [
           {
            "marker": {
             "colorbar": {
              "outlinewidth": 0,
              "ticks": ""
             }
            },
            "type": "scatterternary"
           }
          ],
          "surface": [
           {
            "colorbar": {
             "outlinewidth": 0,
             "ticks": ""
            },
            "colorscale": [
             [
              0,
              "#0d0887"
             ],
             [
              0.1111111111111111,
              "#46039f"
             ],
             [
              0.2222222222222222,
              "#7201a8"
             ],
             [
              0.3333333333333333,
              "#9c179e"
             ],
             [
              0.4444444444444444,
              "#bd3786"
             ],
             [
              0.5555555555555556,
              "#d8576b"
             ],
             [
              0.6666666666666666,
              "#ed7953"
             ],
             [
              0.7777777777777778,
              "#fb9f3a"
             ],
             [
              0.8888888888888888,
              "#fdca26"
             ],
             [
              1,
              "#f0f921"
             ]
            ],
            "type": "surface"
           }
          ],
          "table": [
           {
            "cells": {
             "fill": {
              "color": "#EBF0F8"
             },
             "line": {
              "color": "white"
             }
            },
            "header": {
             "fill": {
              "color": "#C8D4E3"
             },
             "line": {
              "color": "white"
             }
            },
            "type": "table"
           }
          ]
         },
         "layout": {
          "annotationdefaults": {
           "arrowcolor": "#2a3f5f",
           "arrowhead": 0,
           "arrowwidth": 1
          },
          "autotypenumbers": "strict",
          "coloraxis": {
           "colorbar": {
            "outlinewidth": 0,
            "ticks": ""
           }
          },
          "colorscale": {
           "diverging": [
            [
             0,
             "#8e0152"
            ],
            [
             0.1,
             "#c51b7d"
            ],
            [
             0.2,
             "#de77ae"
            ],
            [
             0.3,
             "#f1b6da"
            ],
            [
             0.4,
             "#fde0ef"
            ],
            [
             0.5,
             "#f7f7f7"
            ],
            [
             0.6,
             "#e6f5d0"
            ],
            [
             0.7,
             "#b8e186"
            ],
            [
             0.8,
             "#7fbc41"
            ],
            [
             0.9,
             "#4d9221"
            ],
            [
             1,
             "#276419"
            ]
           ],
           "sequential": [
            [
             0,
             "#0d0887"
            ],
            [
             0.1111111111111111,
             "#46039f"
            ],
            [
             0.2222222222222222,
             "#7201a8"
            ],
            [
             0.3333333333333333,
             "#9c179e"
            ],
            [
             0.4444444444444444,
             "#bd3786"
            ],
            [
             0.5555555555555556,
             "#d8576b"
            ],
            [
             0.6666666666666666,
             "#ed7953"
            ],
            [
             0.7777777777777778,
             "#fb9f3a"
            ],
            [
             0.8888888888888888,
             "#fdca26"
            ],
            [
             1,
             "#f0f921"
            ]
           ],
           "sequentialminus": [
            [
             0,
             "#0d0887"
            ],
            [
             0.1111111111111111,
             "#46039f"
            ],
            [
             0.2222222222222222,
             "#7201a8"
            ],
            [
             0.3333333333333333,
             "#9c179e"
            ],
            [
             0.4444444444444444,
             "#bd3786"
            ],
            [
             0.5555555555555556,
             "#d8576b"
            ],
            [
             0.6666666666666666,
             "#ed7953"
            ],
            [
             0.7777777777777778,
             "#fb9f3a"
            ],
            [
             0.8888888888888888,
             "#fdca26"
            ],
            [
             1,
             "#f0f921"
            ]
           ]
          },
          "colorway": [
           "#636efa",
           "#EF553B",
           "#00cc96",
           "#ab63fa",
           "#FFA15A",
           "#19d3f3",
           "#FF6692",
           "#B6E880",
           "#FF97FF",
           "#FECB52"
          ],
          "font": {
           "color": "#2a3f5f"
          },
          "geo": {
           "bgcolor": "white",
           "lakecolor": "white",
           "landcolor": "#E5ECF6",
           "showlakes": true,
           "showland": true,
           "subunitcolor": "white"
          },
          "hoverlabel": {
           "align": "left"
          },
          "hovermode": "closest",
          "mapbox": {
           "style": "light"
          },
          "paper_bgcolor": "white",
          "plot_bgcolor": "#E5ECF6",
          "polar": {
           "angularaxis": {
            "gridcolor": "white",
            "linecolor": "white",
            "ticks": ""
           },
           "bgcolor": "#E5ECF6",
           "radialaxis": {
            "gridcolor": "white",
            "linecolor": "white",
            "ticks": ""
           }
          },
          "scene": {
           "xaxis": {
            "backgroundcolor": "#E5ECF6",
            "gridcolor": "white",
            "gridwidth": 2,
            "linecolor": "white",
            "showbackground": true,
            "ticks": "",
            "zerolinecolor": "white"
           },
           "yaxis": {
            "backgroundcolor": "#E5ECF6",
            "gridcolor": "white",
            "gridwidth": 2,
            "linecolor": "white",
            "showbackground": true,
            "ticks": "",
            "zerolinecolor": "white"
           },
           "zaxis": {
            "backgroundcolor": "#E5ECF6",
            "gridcolor": "white",
            "gridwidth": 2,
            "linecolor": "white",
            "showbackground": true,
            "ticks": "",
            "zerolinecolor": "white"
           }
          },
          "shapedefaults": {
           "line": {
            "color": "#2a3f5f"
           }
          },
          "ternary": {
           "aaxis": {
            "gridcolor": "white",
            "linecolor": "white",
            "ticks": ""
           },
           "baxis": {
            "gridcolor": "white",
            "linecolor": "white",
            "ticks": ""
           },
           "bgcolor": "#E5ECF6",
           "caxis": {
            "gridcolor": "white",
            "linecolor": "white",
            "ticks": ""
           }
          },
          "title": {
           "x": 0.05
          },
          "xaxis": {
           "automargin": true,
           "gridcolor": "white",
           "linecolor": "white",
           "ticks": "",
           "title": {
            "standoff": 15
           },
           "zerolinecolor": "white",
           "zerolinewidth": 2
          },
          "yaxis": {
           "automargin": true,
           "gridcolor": "white",
           "linecolor": "white",
           "ticks": "",
           "title": {
            "standoff": 15
           },
           "zerolinecolor": "white",
           "zerolinewidth": 2
          }
         }
        },
        "title": {},
        "width": 500,
        "xaxis": {
         "anchor": "y",
         "domain": [
          0,
          1
         ],
         "linecolor": "rgb(0,0,0)",
         "linewidth": 2,
         "range": [
          0.025,
          5
         ],
         "showgrid": false,
         "showline": true,
         "title": {
          "text": "Rho"
         }
        },
        "yaxis": {
         "anchor": "x",
         "domain": [
          0,
          1
         ],
         "linecolor": "rgb(0,0,0)",
         "linewidth": 2,
         "range": [
          0,
          1
         ],
         "showgrid": false,
         "showline": true,
         "title": {
          "text": "Share of HSES friends"
         }
        }
       }
      }
     },
     "metadata": {},
     "output_type": "display_data"
    }
   ],
   "source": [
    "\n",
    "# \n",
    "H_shares = [np.transpose([new_sim.helper_functions().average_neighbour_type_per_SES(test_sims[i][j].graph_history[-1]) for j in range(n_per_rho)]) for i in range(len(rho_list))]\n",
    "avg_H_shares = np.transpose(np.average(H_shares, axis=2))\n",
    "df_avg_H_shares = pd.DataFrame(np.transpose(avg_H_shares), columns=['High SES', 'Low SES'])\n",
    "df_avg_H_shares['Rho_val'] = rho_list\n",
    "\n",
    "rho_lines = px.line(df_avg_H_shares, x='Rho_val', y=['High SES', 'Low SES'])\n",
    "\n",
    "rho_lines.update_layout(\n",
    "    title = None, \n",
    "    font=dict(size = 18),\n",
    "    xaxis_title = 'Rho', \n",
    "    yaxis_title = 'Share of HSES friends',\n",
    "    width = 500, height = 500,\n",
    "    showlegend = True, \n",
    "    legend=dict(x=0.75,y=1),\n",
    "    legend_title_text = '',\n",
    "    xaxis_range = [0.025,5],\n",
    "    yaxis_range = [0,1],\n",
    "    margin=dict(b=5,l=5,r=5,t=5),\n",
    "    xaxis = dict(showgrid = False, showline = True, linecolor = 'rgb(0,0,0)', linewidth = 2), \n",
    "    yaxis = dict(showgrid = False, showline = True, linecolor = 'rgb(0,0,0)', linewidth = 2),\n",
    "    plot_bgcolor='rgba(0,0,0,0)')\n",
    "\n",
    "rho_lines.data[0].line.color = \"rgb(200, 20, 0)\"\n",
    "rho_lines.data[1].line.color = \"rgb(0, 20, 200)\"\n",
    "rho_lines.add_hline(y=0.5, line_width=1, annotation_text = 'Equal share')\n",
    "rho_lines.add_vline(x=1, line_width=1, annotation_text = 'rho=1: no bias')\n",
    "\n",
    "rho_lines\n",
    "\n"
   ]
  },
  {
   "attachments": {},
   "cell_type": "markdown",
   "metadata": {},
   "source": [
    "### Varying p"
   ]
  },
  {
   "attachments": {},
   "cell_type": "markdown",
   "metadata": {},
   "source": [
    "Varying p"
   ]
  },
  {
   "cell_type": "code",
   "execution_count": 152,
   "metadata": {},
   "outputs": [
    {
     "name": "stderr",
     "output_type": "stream",
     "text": [
      "c:\\Programming\\Python\\lib\\site-packages\\networkx\\algorithms\\assortativity\\correlation.py:278: RuntimeWarning:\n",
      "\n",
      "invalid value encountered in double_scalars\n",
      "\n"
     ]
    },
    {
     "data": {
      "text/plain": [
       "[<matplotlib.lines.Line2D at 0x20ee44c8040>]"
      ]
     },
     "execution_count": 152,
     "metadata": {},
     "output_type": "execute_result"
    },
    {
     "data": {
      "image/png": "[encoded data removed]",
      "text/plain": [
       "<Figure size 432x288 with 1 Axes>"
      ]
     },
     "metadata": {
      "needs_background": "light"
     },
     "output_type": "display_data"
    }
   ],
   "source": [
    "\n",
    "# initial nodes and time\n",
    "initial_n = 0\n",
    "T = 100\n",
    "\n",
    "p = 0.25\n",
    "\n",
    "# parent nodes and prob\n",
    "m = 4\n",
    "pm_o = p\n",
    "\n",
    "# parent neighbours and prob\n",
    "n = 16\n",
    "pn_o = p\n",
    "\n",
    "rho = 3\n",
    "\n",
    "# p high SES\n",
    "p_SES_high = 0.5\n",
    "\n",
    "p_list = np.arange(0, 1, 0.01)\n",
    "test_sims = [JacksonSimulationV2(initial_n, T, m, pm_o=p, n=n, pn_o=p, p_SES_high=p_SES_high, biased=True, rho=3) for p in p_list]\n",
    "\n",
    "\n",
    "SES_assortativity_list = [nx.assortativity.attribute_assortativity_coefficient(sim.graph_history[-1], 'SES_High') for sim in test_sims]\n",
    "\n",
    "\n",
    "plt.plot(p_list, SES_assortativity_list)\n"
   ]
  }
 ],
 "metadata": {
  "kernelspec": {
   "display_name": "Python 3",
   "language": "python",
   "name": "python3"
  },
  "language_info": {
   "codemirror_mode": {
    "name": "ipython",
    "version": 3
   },
   "file_extension": ".py",
   "mimetype": "text/x-python",
   "name": "python",
   "nbconvert_exporter": "python",
   "pygments_lexer": "ipython3",
   "version": "3.10.6"
  },
  "orig_nbformat": 4,
  "vscode": {
   "interpreter": {
    "hash": "289e6dbf0cbe13abb58a8c6441fb07dbab3e022f897dda6d31a08b19d28acfde"
   }
  }
 },
 "nbformat": 4,
 "nbformat_minor": 2
}
