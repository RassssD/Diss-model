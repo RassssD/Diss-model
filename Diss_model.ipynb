{
 "cells": [
  {
   "attachments": {},
   "cell_type": "markdown",
   "metadata": {},
   "source": [
    "### Imports"
   ]
  },
  {
   "cell_type": "code",
   "execution_count": 6,
   "metadata": {},
   "outputs": [],
   "source": [
    "\n",
    "import networkx as nx\n",
    "import numpy as np\n",
    "import random, math\n",
    "import graphviz\n",
    "import functools, collections, operator\n",
    "\n",
    "import time\n",
    "\n",
    "import kaleido\n",
    "\n",
    "import pandas as pd\n",
    "\n",
    "\n",
    "import matplotlib.pyplot as plt\n",
    "import matplotlib.colors as mcolors\n",
    "import matplotlib.cm as cm\n",
    "\n",
    "import plotly.graph_objects as go\n",
    "from pyvis.network import Network\n",
    "from networkx.drawing.nx_agraph import graphviz_layout\n",
    "import plotly.express as px\n",
    "\n",
    "\n",
    "# import models\n",
    "from classes.jackson_model import JacksonSimulationV2\n",
    "from classes.network_drawing import plotly_sim_drawing\n"
   ]
  },
  {
   "attachments": {},
   "cell_type": "markdown",
   "metadata": {},
   "source": [
    "Jackson model\n",
    "* Start with m nodes\n",
    "* New nodes are introduced to m nodes\n",
    "* Befriend with probability pm\n",
    "* New nodes are then introduced to n of those pm nodes' connections\n",
    "* Befriend with probability pn\n",
    "* Continue for as many iterations as would like"
   ]
  },
  {
   "cell_type": "markdown",
   "metadata": {},
   "source": [
    "### Simulation version 2"
   ]
  },
  {
   "attachments": {},
   "cell_type": "markdown",
   "metadata": {},
   "source": [
    "Updates:\n",
    "* Attributes of encountered nodes (i.e., the exposure group)\n",
    "* CORRECTED: will now find parent neighbours even if not connected to parents\n",
    "* Rewrtitten connection search functions to include two stages for easier access to targets/connection group\n",
    "* Add connection chance as f of cross/within\n",
    "* Create function to check number of cross/within depending on the group\n",
    "* Caluclate SES assortativity\n",
    "\n",
    "TODO\n",
    "\n",
    "Create functions for\n",
    "* Calculate average bias and exposure for nodes in the network\n",
    "* Calculate all 5 characteristics of real social networks\n",
    "* Find a measure of segregation on networks?\n",
    "* Making samples / lots of simulations, and timing them \n",
    "\n",
    "\n"
   ]
  },
  {
   "cell_type": "code",
   "execution_count": 2,
   "metadata": {},
   "outputs": [],
   "source": [
    "\n",
    "class JacksonSimulationV2():\n",
    "\n",
    "    def __init__(self, initial_n, T, m, pm_o, n, pn_o, p_SES_high, biased = False, rho = 1):\n",
    "\n",
    "        # parameters\n",
    "        self.initial_n = initial_n # initial number of nodes\n",
    "        self.T = T # number of iterations / final nodes - initial_n\n",
    "        self.m = m # number of parent nodes encountered\n",
    "        self.pm_o = pm_o # probability of befriending a parent node of same SES\n",
    "        self.n = n # number of parent neighbour nodes encountered\n",
    "        self.pn_o = pn_o # probability of befriending parent neighbour nodes of same SES\n",
    "        self.p_SES_high = p_SES_high # probability of each node's SES to be High\n",
    "        self.biased = biased # whether or not to use a class-biased simulation\n",
    "        self.rho = rho # ratio (within friendship probatility)/(cross friendship probatility): rho = how many times more likely to befriend within-class than across-class (rho = 2 => twice as likely, rho = 1/3 => three times less likely)\n",
    "        # NB rho is initialised as 1, hence no bias, per default. If biased, specify rho value\n",
    "        \n",
    "        # calculate cross-friendship probabilities: rho = po/px => px = po/rho\n",
    "        self.pm_x = pm_o / rho\n",
    "        self.pn_x = pn_o / rho\n",
    "\n",
    "        if biased == True and rho == 1:\n",
    "            print('Warning: Biased simulation requested, but rho = 1.')\n",
    "        if biased == False and rho != 1:\n",
    "            print(f'Warning: Unbiased simulation requested, but rho = {self.rho}')\n",
    "\n",
    "        # also maybe add options for the functions used\n",
    "        # self.initialiser_function = \n",
    "\n",
    "        # simulation memory\n",
    "        self.period = 0\n",
    "        self.graph_history = []\n",
    "        # will also need a matrix history to make it easier to save simulations to a csv or the like\n",
    "\n",
    "        # starting stuff\n",
    "        #self.initial_nodes = [i+1 for i in range(initial_n)] # create n initial nodes, +1 for name to start at 1\n",
    "\n",
    "        self.main()\n",
    "\n",
    "\n",
    "    '''MAIN'''\n",
    "    def main(self):\n",
    "        # make the initial graph\n",
    "        self.save_update_to_memory(self.initial_node_connector_basic())\n",
    "\n",
    "\n",
    "        for t in range(self.T):\n",
    "            self.update_simulation(self.graph_history[-1])\n",
    "\n",
    "        # calculate exposure and friending bias\n",
    "\n",
    "\n",
    "\n",
    "\n",
    "    '''INITIALISATION'''\n",
    "    # basic version: all nodes get a certain number of connections\n",
    "    def initial_node_connector_basic(self):\n",
    "        initial_graph = nx.Graph()\n",
    "\n",
    "        # add nodes until we have enough to start with\n",
    "        while len(initial_graph.nodes) < self.initial_n:\n",
    "            new_node = self.new_node_birth(initial_graph)\n",
    "            initial_graph.add_nodes_from([new_node])\n",
    "\n",
    "\n",
    "        #initial_graph.add_nodes_from(self.initial_nodes)\n",
    "\n",
    "        initial_nodes = list(initial_graph.nodes)\n",
    "\n",
    "\n",
    "        for node in initial_nodes:\n",
    "            possible_links = initial_nodes.copy()\n",
    "            possible_links.remove(node) # remove own node\n",
    "            \n",
    "            # randomly chooses m+n nodes without replacement from the initial nodes to connect (correction for taking the number of nodes instead if m+n>initial_n)\n",
    "            initial_neighbours = list(np.random.choice(possible_links, min(self.m + self.n, self.initial_n-1), replace=False))\n",
    "            \n",
    "            # creates the edges\n",
    "            '''for some reason it's treating this as 3 arguments?'''\n",
    "            initial_edges = self.helper_functions().edge_creator_helper(node, initial_neighbours)\n",
    "            initial_graph.add_edges_from(initial_edges)\n",
    "\n",
    "        return initial_graph\n",
    "\n",
    "\n",
    "    '''UPDATING'''\n",
    "    # big simulation update\n",
    "    def update_simulation(self, current_graph):\n",
    "\n",
    "\n",
    "        # copy graph with the added connections\n",
    "        new_graph = current_graph.copy()\n",
    "\n",
    "        # add the new node\n",
    "        new_node = self.new_node_birth(current_graph) # DONE\n",
    "        new_graph.add_nodes_from([new_node])\n",
    "\n",
    "        # get the connections for the new node\n",
    "        parent_targets = self.find_parent_nodes_targets(self.graph_history[-1]) # DONE\n",
    "        parent_neighbour_targets = self.find_parent_neighbour_targets(self.graph_history[-1], parent_targets) # DONE\n",
    "\n",
    "\n",
    "        # add the exposure group of the node to its attributes\n",
    "        new_node_targets = list(np.concatenate((parent_targets, parent_neighbour_targets)))\n",
    "        new_node[1]['Exposure Group'].extend(new_node_targets)\n",
    "\n",
    "        # get the connections based on the targets\n",
    "        new_node_edges = self.new_node_connections(new_node, parent_targets, parent_neighbour_targets, new_graph)\n",
    "\n",
    "\n",
    "        # add the connections\n",
    "        new_graph.add_edges_from(new_node_edges)\n",
    "\n",
    "        # save and update\n",
    "        self.save_update_to_memory(new_graph)\n",
    "        self.period += 1\n",
    "\n",
    "\n",
    "    # save to history\n",
    "    def save_update_to_memory(self, updated_graph):\n",
    "        # save new graph to history\n",
    "        '''may need to make a history for t as well, if I end up not creating new nodes every iteration'''\n",
    "        self.graph_history.append(updated_graph)\n",
    "\n",
    "\n",
    "    # create new node, indexed as the next number in the list\n",
    "    def new_node_birth(self, graph):\n",
    "        current_nodes = graph.nodes()\n",
    "        new_node = max(current_nodes) + 1 if len(current_nodes) > 0 else 1\n",
    "\n",
    "        '''currently SES determined at birth, this can be changed'''\n",
    "        new_node_SES = np.random.choice([1, 0], 1, p=[self.p_SES_high, 1-self.p_SES_high])[0]\n",
    "\n",
    "        return (new_node, {'SES_High': new_node_SES, 'Exposure Group': []})\n",
    "\n",
    "\n",
    "    # find parent nodes connections\n",
    "    def find_parent_nodes_targets(self, graph):\n",
    "        # get the current existing nodes\n",
    "        current_nodes = graph.nodes()\n",
    "\n",
    "        # get m parent nodes\n",
    "        parent_targets = np.random.choice(current_nodes, min(self.m, len(current_nodes)), replace=False)\n",
    "\n",
    "        return parent_targets\n",
    "\n",
    "\n",
    "    # find parent neighbour connections\n",
    "    def find_parent_neighbour_targets(self, graph, parent_target_list):\n",
    "        # take the list of parents and find their (unique) neighbours\n",
    "        parent_neighbours = np.unique(self.helper_functions().find_neighbours(graph, parent_target_list))\n",
    "\n",
    "        # to avoid issues: if the parents have in total less than n neighbours, take their number of neighbours instead\n",
    "        n_possible_encounters = min(len(parent_neighbours), self.n)\n",
    "\n",
    "        # get n parent neighbour nodes\n",
    "        parent_neighbour_targets = np.random.choice(parent_neighbours, n_possible_encounters, replace=False)\n",
    "\n",
    "        return parent_neighbour_targets\n",
    "\n",
    "\n",
    "    # returns a list of connections to form based on targets and probabilties\n",
    "    def new_node_connections(self, new_node, parent_target_list, parent_neighbour_target_list, graph):\n",
    "          \n",
    "        '''\n",
    "        UGLY AF list comprehension: do not use but fun\n",
    "        [np.random.choice([0,1], size=1, p=[1-prob, prob])[0] for prob in [po if edge_type == 'cross' else px for edge_type in [SES_edge_classifier(G, 1, i) for i in targets]]]\n",
    "        '''\n",
    "\n",
    "        '''parents'''\n",
    "        # probability pm to connect to each m of them\n",
    "        # first get edge types\n",
    "        parent_edge_types = [self.helper_functions().SES_edge_classifier(graph, new_node[0], i) for i in parent_target_list]\n",
    "        # get list of probs depending on the probs\n",
    "        parent_edge_probs = [self.pm_x if edge_type == 'cross' else self.pm_o for edge_type in parent_edge_types]\n",
    "        # realised outcome per prob: vector of connections\n",
    "        parent_edges = [np.random.choice([0,1], size=1, p=[1-prob, prob])[0] for prob in parent_edge_probs]\n",
    "\n",
    "        # realised connections: cross product of the two vectors\n",
    "        parent_connections = parent_target_list * parent_edges\n",
    "        parent_connections = parent_connections[parent_connections > 0] # filter out the ones with no connection\n",
    "\n",
    "        '''parent neighbours'''\n",
    "        # probability pn to connect to each n of them\n",
    "        parent_neighbour_edge_types = [self.helper_functions().SES_edge_classifier(graph, new_node[0], i) for i in parent_neighbour_target_list]\n",
    "        parent_neighbour_edge_probs = [self.pm_x if edge_type == 'cross' else self.pm_o for edge_type in parent_neighbour_edge_types]\n",
    "        parent_neighbour_edges = [np.random.choice([0,1], size=1, p=[1-prob, prob])[0] for prob in parent_neighbour_edge_probs]\n",
    "\n",
    "        # realised connections: cross product of the two vectors\n",
    "        parent_neighbour_connections = parent_neighbour_target_list * parent_neighbour_edges\n",
    "        parent_neighbour_connections = parent_neighbour_connections[parent_neighbour_connections > 0] # filter out the ones with no connection\n",
    "\n",
    "\n",
    "        '''form the connections'''\n",
    "        # combine the two\n",
    "        new_node_connections = np.concatenate((parent_connections, parent_neighbour_connections))\n",
    "        new_node_edges = self.helper_functions().edge_creator_helper(new_node[0], new_node_connections)\n",
    "\n",
    "\n",
    "        return new_node_edges\n",
    "\n",
    "\n",
    "\n",
    "    # calculates exposure and friending bias across the graph\n",
    "    def graph_exposure_friending_bias(self, graph, return_dicts = False, return_hist_lists = False):\n",
    "        # calculates exposure and friending bias for a given node. Returns a dict with the two\n",
    "        def node_exposure_friending_bias(graph, node):\n",
    "            \n",
    "            # gets the exposure group of the given node: number of H nodes encountered\n",
    "            exposure_group = self.helper_functions().get_select_node_attributes(graph, 'SES_High', graph.nodes()[node]['Exposure Group'])\n",
    "\n",
    "            n_encountered = len(list(exposure_group.values()))\n",
    "            n_H_encountered = sum(list(exposure_group.values()))\n",
    "            node_SES = graph.nodes[node]['SES_High']\n",
    "\n",
    "            # remove initial nodes\n",
    "            if n_encountered == 0:\n",
    "                exposure = 0\n",
    "                friending_bias = 0\n",
    "            \n",
    "            # calculate correctly if encounter some H nodes\n",
    "            elif n_H_encountered != 0:\n",
    "                exposure = n_H_encountered / ((n_encountered)*self.p_SES_high)\n",
    "\n",
    "                '''alternative here: n_H_encountered / n_encountered'''\n",
    "                '''HAVE A SECOND LOOK AT THIS'''\n",
    "\n",
    "                neighbours_types = self.helper_functions().find_neighbour_types(graph)\n",
    "                # take the appropriate dict from the former\n",
    "                # calculate share of friends who are H\n",
    "                if node_SES == 1:\n",
    "                    friend_H_share = neighbours_types[0][node]['H Share']\n",
    "                else:\n",
    "                    friend_H_share = neighbours_types[1][node]['H Share']\n",
    "\n",
    "                # friending bias: 1 - share of H friends / share of H encounters (=0 if no bias)\n",
    "                friending_bias = 1 - friend_H_share / n_H_encountered\n",
    "            \n",
    "            else:\n",
    "                exposure = n_H_encountered / ((n_encountered)*self.p_SES_high)\n",
    "                friending_bias = 0\n",
    "\n",
    "\n",
    "            return {'Exposure Effect': exposure, 'Friending Bias': friending_bias, 'SES': node_SES}\n",
    "\n",
    "        # list for each\n",
    "        H_expo, H_bias = [], []\n",
    "        L_expo, L_bias = [], []\n",
    "\n",
    "        node_dict = {}\n",
    "\n",
    "\n",
    "        nodes = graph.nodes()\n",
    "        for node in nodes:\n",
    "            node_expo_fb = node_exposure_friending_bias(graph, node)\n",
    "\n",
    "            if node_expo_fb['SES'] == 1:\n",
    "                H_expo.append(node_expo_fb['Exposure Effect'])\n",
    "                H_bias.append(node_expo_fb['Friending Bias'])\n",
    "            else:\n",
    "                L_expo.append(node_expo_fb['Exposure Effect'])\n",
    "                L_bias.append(node_expo_fb['Friending Bias'])\n",
    "\n",
    "            # append to the dict if requested\n",
    "            if return_dicts == True:\n",
    "                node_dict[str(node)] = node_expo_fb\n",
    "\n",
    "\n",
    "        # take averages in each category\n",
    "        H_expo_avg, H_bias_avg = sum(H_expo)/len(H_expo), sum(H_bias)/len(H_bias)\n",
    "        L_expo_avg, L_bias_avg = sum(L_expo)/len(L_expo), sum(L_bias)/len(L_bias)\n",
    "        all_expo_avg = (sum(H_expo)+sum(L_expo)) / (len(H_expo) + len(L_expo))\n",
    "        all_bias_avg = (sum(H_bias)+sum(L_bias)) / (len(H_bias) + len(L_bias))\n",
    "\n",
    "        values_dict = {'All': (all_expo_avg, all_bias_avg),\n",
    "                       'High': (H_expo_avg, H_bias_avg),\n",
    "                       'Low': (L_expo_avg, L_bias_avg)}\n",
    "        \n",
    "        return values_dict\n",
    "        '''later, incorporate returning hists etc but who cares now'''\n",
    "\n",
    "\n",
    "    class helper_functions:\n",
    "        '''useful functions'''\n",
    "        # return the indicated attribute for a list of nodes\n",
    "        def get_select_node_attributes(self, graph, attribute, node_list):\n",
    "            attribute_dict_all_nodes = nx.get_node_attributes(graph, attribute)\n",
    "            attribute_dict = {node: attribute_dict_all_nodes[node] for node in node_list}\n",
    "\n",
    "            return attribute_dict\n",
    "\n",
    "        # creates a list of edges based on targets \n",
    "        def edge_creator_helper(self, node, connection_targets):\n",
    "            edges = [(node, connection_target) for connection_target in connection_targets]\n",
    "\n",
    "            return edges\n",
    "\n",
    "        # returns list of neighbours for all the nodes in the given list\n",
    "        def find_neighbours(self, graph, node_list):\n",
    "            if len(node_list) != 0:\n",
    "                all_neighbours_list = list(np.concatenate(([list(graph[node]) for node in node_list])))\n",
    "            else:\n",
    "                all_neighbours_list = []\n",
    "\n",
    "            return all_neighbours_list\n",
    "\n",
    "        \n",
    "        # check connection type of two connected nodes: cross(-class) or within(-class)\n",
    "        def SES_edge_classifier(self, graph, node1, node2):\n",
    "            SES_values = list(self.get_select_node_attributes(graph, 'SES_High', [node1, node2]).values())\n",
    "            link_type = 'within' if SES_values[0] == SES_values[1] else 'cross'\n",
    "\n",
    "            return link_type\n",
    "\n",
    "        # same, but now for all edges\n",
    "        def SES_edge_classifier_all(self, graph, return_counts = False):\n",
    "            edges = graph.edges()\n",
    "\n",
    "            list_edge_type = [self.SES_edge_classifier(graph, edge[0], edge[1]) for edge in edges]\n",
    "\n",
    "            dict_edge_type = dict(zip(edges, list_edge_type))\n",
    "            dict_edge_type = {edge: {'Edge type': dict_edge_type[edge]} for edge in edges}\n",
    "\n",
    "\n",
    "            # counts the number of each\n",
    "            if return_counts == True:\n",
    "                edge_type_counts = np.asarray(np.unique(self.SES_edge_classifier_all(graph)[0], return_counts=True)).T\n",
    "                \n",
    "\n",
    "            if return_counts == True:\n",
    "                return list_edge_type, dict_edge_type, edge_type_counts\n",
    "            \n",
    "            else:\n",
    "                return list_edge_type, dict_edge_type\n",
    "\n",
    "\n",
    "        # returns a tuple: \n",
    "        # 0: Pearson correlation coefficient between a node's degree and the average clustering of its neighbours\n",
    "        # 1: Dict with each node's degree and the average correlation of its neighbours\n",
    "        # 2: List with two lists: degree and neighbour clustering for each node (ex for plotting)\n",
    "        def degree_neighbour_clustering_corr(self, graph):\n",
    "            nodes = list(graph.nodes())\n",
    "            node_dict = {}\n",
    "            \n",
    "            # calculate degree and clustering at the beginning\n",
    "            node_degree = dict(nx.degree(graph))\n",
    "            node_clustering = dict(nx.clustering(graph))\n",
    "\n",
    "            # iterate over nodes\n",
    "            for node in nodes:\n",
    "                # find the neighbours\n",
    "                node_neighbours = self.find_neighbours(graph, [node])\n",
    "                neighbour_clustering = []\n",
    "\n",
    "                # get clustering for each neighbour and calculate the average\n",
    "                for neighbour in node_neighbours:\n",
    "                    neighbour_clustering.append(node_clustering[neighbour])\n",
    "                avg_neighbour_clustering = np.average(neighbour_clustering)\n",
    "\n",
    "                # append to the dict: tuple with node's own degree, and its neighbours avg clustering\n",
    "                node_dict[node] = (node_degree[node], avg_neighbour_clustering)\n",
    "\n",
    "            # calculate correlation across the nodes\n",
    "            data = np.transpose(list(node_dict.values()))\n",
    "            corr = np.corrcoef(data)[0][1]\n",
    "\n",
    "\n",
    "            return (corr, node_dict, data)\n",
    "\n",
    "\n",
    "        # returns a dict with the characteristics of social networks\n",
    "        def graph_social_network_chars(self, graph, summarise = True):\n",
    "            # summarising function\n",
    "            def summ_graph_social_network_chars(GSNC_output):\n",
    "                summary_dict = {\n",
    "                    'Diameter': GSNC_output['Diameter'],\n",
    "                    'APL': GSNC_output['APL'],\n",
    "                    'Clustering': GSNC_output['Clustering'],\n",
    "                    'Degree': GSNC_output['Degree'],\n",
    "                    'Assortativity': GSNC_output['Assortativity'],\n",
    "                    'Degree-neighbour-clustering': GSNC_output['Degree-neighbour-clustering'][0]\n",
    "                }\n",
    "\n",
    "                return summary_dict\n",
    "            \n",
    "            degree_hist = nx.degree_histogram(graph)\n",
    "            avg_degree = np.average(degree_hist)\n",
    "            var_degree = np.var(degree_hist)\n",
    "\n",
    "            small_world_char_dict = {\n",
    "                'Diameter': nx.diameter(graph),     # low diameter\n",
    "                'APL': nx.average_shortest_path_length(graph),      # relatively low APL (order of log n)\n",
    "                'Clustering': nx.average_clustering(graph),     # relatively high clustering\n",
    "                'Degree': (avg_degree, var_degree),     # fat degree tails\n",
    "                'Degree histogram': degree_hist,\n",
    "                #nx.degree_histogram(G) # returns a list a where a[x] = number of nodes with a degree of x, up until the highest amount     \n",
    "                'Assortativity': nx.assortativity.degree_assortativity_coefficient(graph),      # assortativity: positive degree correlation\n",
    "                'Degree-neighbour-clustering': self.degree_neighbour_clustering_corr(graph)     # negative correlation between own degree and neighbours' clustering\n",
    "            }\n",
    "\n",
    "            # can return more detailed\n",
    "            if summarise == True:\n",
    "                return summ_graph_social_network_chars(small_world_char_dict)\n",
    "            else:\n",
    "                return small_world_char_dict\n",
    "\n",
    "\n",
    "        # finds the number of H and L friends for each node, as well as the share\n",
    "        # returns 2 dicts: one for H, one for L; each containing [0] H share, [1] H neighbours, [2] L neighbours\n",
    "        def find_neighbour_types(self, graph):\n",
    "\n",
    "            # sort all nodes into either H or L\n",
    "            H_nodes = []\n",
    "            L_nodes = []\n",
    "\n",
    "            node_degrees = graph.degree()\n",
    "\n",
    "            for node, attrs in graph.nodes(data=True):\n",
    "                if attrs['SES_High'] == 1:\n",
    "                    H_nodes.append(node)\n",
    "                else:\n",
    "                    L_nodes.append(node)\n",
    "\n",
    "            H_graph_dict = {}\n",
    "            L_graph_dict = {}\n",
    "\n",
    "            # loop over nodes\n",
    "            for node in graph.nodes():\n",
    "                neighbours = graph.neighbors(node)\n",
    "                H_neighbours = []\n",
    "                L_neighbours = []\n",
    "\n",
    "                # loop over each node's neighbours\n",
    "                # sort into one of two lists\n",
    "                for neighbour in neighbours:\n",
    "                    if neighbour in H_nodes:\n",
    "                        H_neighbours.append(neighbour)\n",
    "                    else:\n",
    "                        L_neighbours.append(neighbour)\n",
    "\n",
    "                H_share = len(H_neighbours) / node_degrees[node] if node_degrees[node] > 0 else 0\n",
    "\n",
    "                # put into a dict for each node: share of H friends, number of H and low friends\n",
    "                node_dict = {'H Share': H_share, 'NH': len(H_neighbours), 'NL': len(L_neighbours)}\n",
    "\n",
    "                # append this dict for a dict of the whole graph\n",
    "                if node in H_nodes:\n",
    "                    H_graph_dict[node] = node_dict\n",
    "                else:\n",
    "                    L_graph_dict[node] = node_dict\n",
    "\n",
    "\n",
    "            return (H_graph_dict, L_graph_dict)\n",
    "\n",
    "        # returns a tuple: average share of H friends for H and L\n",
    "        def average_neighbour_type_per_SES(self, graph, return_dicts = False, return_hist_lists = False):\n",
    "            H_dict, L_dict = self.find_neighbour_types(graph)\n",
    "\n",
    "            H_share_list = [H_dict[node]['H Share'] for node in H_dict]\n",
    "            L_share_list = [L_dict[node]['H Share'] for node in L_dict]\n",
    "\n",
    "\n",
    "            # if H and L nodes both exist, calculate averages, otherwise just 1\n",
    "            if len(list(H_dict.keys())) != 0 and len(list(L_dict.keys())) != 0:\n",
    "                H_average = sum(H_share_list) / len(list(H_dict.keys()))\n",
    "                L_average = sum(L_share_list) / len(list(L_dict.keys()))\n",
    "\n",
    "            elif len(list(H_dict.keys())) == 0:\n",
    "                H_average = 0\n",
    "                L_average = 1\n",
    "            \n",
    "            else:\n",
    "                H_average = 1\n",
    "                L_average = 0\n",
    "\n",
    "\n",
    "            if return_dicts == True:\n",
    "                if return_hist_lists == True:\n",
    "                    return ((H_average, L_average), (H_dict, L_dict), (H_share_list, L_share_list))\n",
    "                else:\n",
    "                    return ((H_average, L_average), (H_dict, L_dict))\n",
    "                \n",
    "            else:\n",
    "                if return_hist_lists == True:\n",
    "                    return ((H_average, L_average), (H_share_list, L_share_list))\n",
    "                else:\n",
    "                    return (H_average, L_average)\n",
    "            # return dicts as well for the plotly drawing\n",
    "\n"
   ]
  },
  {
   "cell_type": "markdown",
   "metadata": {},
   "source": [
    "### Plotly drawing"
   ]
  },
  {
   "cell_type": "code",
   "execution_count": 4,
   "metadata": {},
   "outputs": [],
   "source": [
    "\n",
    "class plotly_sim_drawing(object):\n",
    "    '''HELPER FUNCTIONS'''\n",
    "    '''MODIFY THESE TO TAKE A SPECIFIC TIME INSTEAD'''\n",
    "    # gets a tuple of arrays of edge positions\n",
    "    def go_get_edge_positions(self, graph, graph_layout):\n",
    "\n",
    "        edge_x = []\n",
    "        edge_y = []\n",
    "\n",
    "        for edge in graph.edges():\n",
    "            x0, y0 = graph_layout[edge[0]]\n",
    "            x1, y1 = graph_layout[edge[1]]\n",
    "            edge_x.append(x0)\n",
    "            edge_x.append(x1)\n",
    "            edge_x.append(None)\n",
    "            edge_y.append(y0)\n",
    "            edge_y.append(y1)\n",
    "            edge_y.append(None)\n",
    "\n",
    "\n",
    "        return (edge_x, edge_y)\n",
    "\n",
    "    # gets a edge trace based on a wanted layout and graph\n",
    "    #to add color list later: https://stackoverflow.com/questions/62601052/option-to-add-edge-colouring-in-networkx-trace-using-plotly\n",
    "\n",
    "    def go_get_edge_trace(self, graph, graph_layout):#, edge_color_list):\n",
    "        edge_x, edge_y = self.go_get_edge_positions(graph, graph_layout)\n",
    "\n",
    "        edge_trace = go.Scatter(\n",
    "            x=edge_x, y=edge_y,\n",
    "            hoverinfo=None,\n",
    "            mode='lines',\n",
    "\n",
    "            line=dict(\n",
    "                width=0.5, \n",
    "                color='#888')\n",
    "        )\n",
    "\n",
    "        return edge_trace\n",
    "\n",
    "\n",
    "    # returns a tuple with an array for each of x pos and y pos\n",
    "    def go_get_node_positions(self, graph, graph_layout):\n",
    "\n",
    "        node_x_list = []\n",
    "        node_y_list = []\n",
    "\n",
    "        for node in graph.nodes():\n",
    "            node_x, node_y = graph_layout[node]\n",
    "            node_x_list.append(node_x)\n",
    "            node_y_list.append(node_y)\n",
    "\n",
    "\n",
    "        return (node_x_list, node_y_list)\n",
    "\n",
    "    # gets a node trace based on a wanted layout and graph\n",
    "    def go_get_node_trace(self, graph, graph_layout, node_color_list, node_text):\n",
    "        node_x, node_y = self.go_get_node_positions(graph, graph_layout)\n",
    "\n",
    "        node_trace = go.Scatter(\n",
    "            x=node_x, y=node_y,\n",
    "            hoverinfo='text',\n",
    "            mode='markers',\n",
    "            text=node_text,\n",
    "            #IDEA: add text for number of friends in each group\n",
    "\n",
    "            marker=dict(\n",
    "                size=5,\n",
    "                color=node_color_list),\n",
    "        )\n",
    "\n",
    "        return node_trace\n",
    "\n",
    "\n",
    "    def get_legend_text(self, simulation, graph):\n",
    "        # share of H friends\n",
    "        H_shares = simulation.helper_functions().average_neighbour_type_per_SES(graph)\n",
    "        text_H_shares = f\"Mean share of High-SES friends:<br> • High SES: {round(H_shares[0], 2)}<br> • Low SES: {round(H_shares[1], 2)}<br>\"\n",
    "\n",
    "        # attribute assortativity\n",
    "        attr_assortativity = nx.assortativity.attribute_assortativity_coefficient(graph, 'SES_High')\n",
    "        text_attr_assortativity = f\"High SES assortativity: {round(attr_assortativity, 2)}\"\n",
    "\n",
    "        # edge types\n",
    "        edge_type_counts = simulation.helper_functions().SES_edge_classifier_all(graph, return_counts = True)[2]\n",
    "        \n",
    "        within_count, cross_count = int(edge_type_counts[0][1]), int(edge_type_counts[1][1])\n",
    "        total_count = within_count + cross_count\n",
    "        text_edge_type_counts = f\"<br>Edge types<br> • Within-SES: {round(within_count / total_count, 2)}<br> • Across-SES: {round(cross_count / total_count, 2)}<br> • Total: {total_count}\"\n",
    "\n",
    "\n",
    "        # largest connected component / unconnected nodes\n",
    "        n_in_largest_cc = len(max(nx.connected_components(graph), key=len))\n",
    "        text_largest_cc = f\"<br> Nodes in largest CC: {n_in_largest_cc} / {simulation.T + simulation.initial_n}\"\n",
    "\n",
    "        # expected number of connections per node without bias vs realised average degree and variance\n",
    "        degree_hist = nx.degree_histogram(graph)\n",
    "        avg_degree = round(np.average(degree_hist), 2)\n",
    "        var_degree = round(np.var(degree_hist), 2)\n",
    "\n",
    "        no_bias_expected_degree = simulation.m*simulation.pm_o + simulation.n*simulation.pn_o\n",
    "        realised_degree_dist = (avg_degree, var_degree)\n",
    "        text_encpn = f\"<br>Expected average degree <br>without bias: {no_bias_expected_degree}<br>Realised degree <br>mean, var: {realised_degree_dist}\"\n",
    "\n",
    "\n",
    "        # parameters?\n",
    "        text_parameters = f\"<br><br><br>Parameters<br> • Initial nodes: {simulation.initial_n}<br> • T: {simulation.T}<br> • m: {simulation.m}<br> • pm_o: {simulation.pm_o}<br> • n: {simulation.n}<br> • pn_o: {simulation.pn_o}<br> • p_SES_high: {simulation.p_SES_high}<br> • rho: {simulation.rho}<br> • pm_x: {simulation.pm_o / simulation.rho}<br> • pn_x: {simulation.pn_o / simulation.rho}\"\n",
    "\n",
    "        # combine everything\n",
    "        all_texts = [text_H_shares, text_attr_assortativity, text_edge_type_counts, text_encpn, text_largest_cc, text_parameters]\n",
    "        \n",
    "        final_text = '<br>'.join(all_texts)\n",
    "        return final_text\n",
    "\n",
    "\n",
    "\n",
    "\n",
    "    '''ACTUAL DRAWINGS'''\n",
    "\n",
    "    # basic plotly draw\n",
    "    def plotly_draw(self, simulation, t=-1, layout='spring', draw_largest_CC=True, legend=False, title = None):\n",
    "        graph = simulation.graph_history[t]\n",
    "\n",
    "        # only draw the largest connected component (since there are always a few nodes with no connections which makes the graph ugly)\n",
    "        if draw_largest_CC == True:\n",
    "            largest_CC = max(nx.connected_components(graph), key=len)\n",
    "            graph = graph.subgraph(largest_CC).copy()\n",
    "\n",
    "        SES_list = list(simulation.helper_functions().get_select_node_attributes(graph, 'SES_High', graph.nodes()).values())\n",
    "        SES_color_list = ['blue' if SES == 1 else 'red' for SES in SES_list]\n",
    "\n",
    "\n",
    "        # node texts\n",
    "        '''also add share of H/L neighbour and degree'''\n",
    "        node_text = [str(i) + '_' + str(j) for i, j in zip(list(graph.nodes()), SES_list)]\n",
    "\n",
    "        graph_layout = nx.spring_layout(graph, seed=42, scale=10) if layout =='spring' else nx.random_layout(graph)\n",
    "\n",
    "        edge_trace = self.go_get_edge_trace(graph, graph_layout)\n",
    "        node_trace = self.go_get_node_trace(graph, graph_layout, SES_color_list, node_text)\n",
    "\n",
    "\n",
    "        # Get annotations if needed\n",
    "        if legend == True:\n",
    "            # legend: parameters, realised values of a bunch of things\n",
    "            legend_text = self.get_legend_text(simulation, graph)\n",
    "            annotations = [dict(\n",
    "                            text=legend_text,\n",
    "                            align='left',\n",
    "                            showarrow=False,\n",
    "                            xref=\"paper\", yref=\"paper\",\n",
    "                            x=1.35, y=1)]\n",
    "            l_margin = 205\n",
    "            width, height = 800, 600\n",
    "        \n",
    "        else:\n",
    "            annotations = []\n",
    "            l_margin = 5\n",
    "            width, height = 600, 600\n",
    "\n",
    "\n",
    "        # make custom title\n",
    "        if title == None:\n",
    "            title_dict = None\n",
    "            t_margin = 5\n",
    "\n",
    "        else:\n",
    "            title = f'' if title == '' else title\n",
    "            title_dict = {'text': title, 'x': 0.5, 'y': 0.98}\n",
    "            t_margin = 30\n",
    "\n",
    "        '''actual figure'''\n",
    "        fig = go.Figure(data=[edge_trace, node_trace],\n",
    "                    layout=go.Layout(\n",
    "                        title=title_dict,\n",
    "                        titlefont_size=16,\n",
    "                        showlegend=False,\n",
    "                        hovermode='closest',\n",
    "                        margin=dict(b=5,l=5,r=l_margin,t=t_margin),\n",
    "                        annotations=annotations,\n",
    "                        xaxis=dict(showgrid=False, zeroline=False, showticklabels=False),\n",
    "                        yaxis=dict(showgrid=False, zeroline=False, showticklabels=False),\n",
    "                        width=width, height=height)                      \n",
    "                        )\n",
    "\n",
    "\n",
    "        return fig\n",
    "\n",
    "\n",
    "#plotly_sim_drawing.plotly_draw(plotly_sim_drawing(), new_sim, -1, layout='spring', draw_largest_CC=True, title=None, legend=True)\n"
   ]
  },
  {
   "cell_type": "code",
   "execution_count": 13,
   "metadata": {},
   "outputs": [
    {
     "ename": "ZeroDivisionError",
     "evalue": "division by zero",
     "output_type": "error",
     "traceback": [
      "\u001b[1;31m---------------------------------------------------------------------------\u001b[0m",
      "\u001b[1;31mZeroDivisionError\u001b[0m                         Traceback (most recent call last)",
      "\u001b[1;32mc:\\Programming\\Code\\Dissertation\\Diss model\\Diss_model.ipynb Cell 9\u001b[0m in \u001b[0;36m<cell line: 1>\u001b[1;34m()\u001b[0m\n\u001b[1;32m----> <a href='vscode-notebook-cell:/c%3A/Programming/Code/Dissertation/Diss%20model/Diss_model.ipynb#X11sZmlsZQ%3D%3D?line=0'>1</a>\u001b[0m vals \u001b[39m=\u001b[39m new_sim\u001b[39m.\u001b[39;49mhelper_functions()\u001b[39m.\u001b[39;49maverage_neighbour_type_per_SES(new_sim\u001b[39m.\u001b[39;49mgraph_history[\u001b[39m-\u001b[39;49m\u001b[39m1\u001b[39;49m], return_hist_lists \u001b[39m=\u001b[39;49m \u001b[39mTrue\u001b[39;49;00m)[\u001b[39m1\u001b[39m]\n\u001b[0;32m      <a href='vscode-notebook-cell:/c%3A/Programming/Code/Dissertation/Diss%20model/Diss_model.ipynb#X11sZmlsZQ%3D%3D?line=2'>3</a>\u001b[0m bins \u001b[39m=\u001b[39m np\u001b[39m.\u001b[39mlinspace(\u001b[39m0\u001b[39m, \u001b[39m1\u001b[39m, \u001b[39m8\u001b[39m)\n\u001b[0;32m      <a href='vscode-notebook-cell:/c%3A/Programming/Code/Dissertation/Diss%20model/Diss_model.ipynb#X11sZmlsZQ%3D%3D?line=3'>4</a>\u001b[0m \u001b[39m#plt.hist(H_vals, bins, alpha=0.5, label='High SES')\u001b[39;00m\n",
      "\u001b[1;32mc:\\Programming\\Code\\Dissertation\\Diss model\\Diss_model.ipynb Cell 9\u001b[0m in \u001b[0;36mJacksonSimulationV2.helper_functions.average_neighbour_type_per_SES\u001b[1;34m(self, graph, return_dicts, return_hist_lists)\u001b[0m\n\u001b[0;32m    <a href='vscode-notebook-cell:/c%3A/Programming/Code/Dissertation/Diss%20model/Diss_model.ipynb#X11sZmlsZQ%3D%3D?line=377'>378</a>\u001b[0m L_share_list \u001b[39m=\u001b[39m [L_dict[node][\u001b[39m'\u001b[39m\u001b[39mH Share\u001b[39m\u001b[39m'\u001b[39m] \u001b[39mfor\u001b[39;00m node \u001b[39min\u001b[39;00m L_dict]\n\u001b[0;32m    <a href='vscode-notebook-cell:/c%3A/Programming/Code/Dissertation/Diss%20model/Diss_model.ipynb#X11sZmlsZQ%3D%3D?line=380'>381</a>\u001b[0m H_average \u001b[39m=\u001b[39m \u001b[39mmax\u001b[39m(\u001b[39msum\u001b[39m(H_share_list) \u001b[39m/\u001b[39m \u001b[39mlen\u001b[39m(\u001b[39mlist\u001b[39m(H_dict\u001b[39m.\u001b[39mkeys())), \u001b[39m0\u001b[39m)\n\u001b[1;32m--> <a href='vscode-notebook-cell:/c%3A/Programming/Code/Dissertation/Diss%20model/Diss_model.ipynb#X11sZmlsZQ%3D%3D?line=381'>382</a>\u001b[0m L_average \u001b[39m=\u001b[39m \u001b[39mmax\u001b[39m(\u001b[39msum\u001b[39;49m(L_share_list) \u001b[39m/\u001b[39;49m \u001b[39mlen\u001b[39;49m(\u001b[39mlist\u001b[39;49m(L_dict\u001b[39m.\u001b[39;49mkeys())), \u001b[39m0\u001b[39m)\n\u001b[0;32m    <a href='vscode-notebook-cell:/c%3A/Programming/Code/Dissertation/Diss%20model/Diss_model.ipynb#X11sZmlsZQ%3D%3D?line=383'>384</a>\u001b[0m \u001b[39mif\u001b[39;00m return_dicts \u001b[39m==\u001b[39m \u001b[39mTrue\u001b[39;00m:\n\u001b[0;32m    <a href='vscode-notebook-cell:/c%3A/Programming/Code/Dissertation/Diss%20model/Diss_model.ipynb#X11sZmlsZQ%3D%3D?line=384'>385</a>\u001b[0m     \u001b[39mif\u001b[39;00m return_hist_lists \u001b[39m==\u001b[39m \u001b[39mTrue\u001b[39;00m:\n",
      "\u001b[1;31mZeroDivisionError\u001b[0m: division by zero"
     ]
    }
   ],
   "source": [
    "\n",
    "vals = new_sim.helper_functions().average_neighbour_type_per_SES(new_sim.graph_history[-1], return_hist_lists = True)[1]\n",
    "\n",
    "bins = np.linspace(0, 1, 8)\n",
    "#plt.hist(H_vals, bins, alpha=0.5, label='High SES')\n",
    "plt.hist(vals, bins, alpha=0.5, label='Low SES')\n",
    "plt.legend(loc='upper right')\n",
    "plt.show()\n",
    "\n",
    "\n",
    "\n",
    "\n"
   ]
  },
  {
   "attachments": {},
   "cell_type": "markdown",
   "metadata": {},
   "source": [
    "# Actual work"
   ]
  },
  {
   "cell_type": "code",
   "execution_count": 7,
   "metadata": {},
   "outputs": [
    {
     "data": {
      "application/vnd.plotly.v1+json": {
       "config": {
        "plotlyServerURL": "https://plot.ly"
       },
       "data": [
        {
         "line": {
          "color": "#888",
          "width": 0.5
         },
         "mode": "lines",
         "type": "scatter",
         "x": [
          -0.24998975087471256,
          0.03162141085852474,
          null,
          -0.24998975087471256,
          -1.145759969857251,
          null,
          -0.24998975087471256,
          -1.4488259280472833,
          null,
          -0.24998975087471256,
          0.02069549045824974,
          null,
          -0.24998975087471256,
          -1.2766083672752673,
          null,
          -0.24998975087471256,
          1.3109345128653913,
          null,
          -0.24998975087471256,
          2.0761350489708983,
          null,
          -0.24998975087471256,
          -2.1178130841636857,
          null,
          -0.24998975087471256,
          -1.6281560004406779,
          null,
          -0.24998975087471256,
          -1.7626126926349224,
          null,
          -0.24998975087471256,
          2.2569572079340867,
          null,
          -0.24998975087471256,
          -0.7429618898685868,
          null,
          0.03162141085852474,
          -1.145759969857251,
          null,
          0.03162141085852474,
          0.1654054258946137,
          null,
          0.03162141085852474,
          -2.069798042598877,
          null,
          0.03162141085852474,
          0.611769397508264,
          null,
          0.03162141085852474,
          -1.1955489560645112,
          null,
          0.03162141085852474,
          -1.1525474331733685,
          null,
          0.03162141085852474,
          1.5176221198730797,
          null,
          0.03162141085852474,
          0.17458897826102077,
          null,
          0.03162141085852474,
          -1.1915800285197797,
          null,
          0.03162141085852474,
          2.278034597218359,
          null,
          -1.145759969857251,
          -2.069798042598877,
          null,
          -1.145759969857251,
          -1.5171819114491845,
          null,
          -1.145759969857251,
          0.611769397508264,
          null,
          -1.145759969857251,
          -3.4379270799228197,
          null,
          -1.145759969857251,
          0.3925080580207568,
          null,
          -1.145759969857251,
          0.17458897826102077,
          null,
          -1.145759969857251,
          -0.5010869368449609,
          null,
          -1.145759969857251,
          -2.4501908662588456,
          null,
          0.1654054258946137,
          -0.4866083252080733,
          null,
          0.1654054258946137,
          0.2781857776769539,
          null,
          0.1654054258946137,
          1.2978288333261119,
          null,
          0.1654054258946137,
          -0.38796205679579504,
          null,
          0.1654054258946137,
          0.02069549045824974,
          null,
          0.1654054258946137,
          -2.3766421671493263,
          null,
          0.1654054258946137,
          1.5173403719423826,
          null,
          0.1654054258946137,
          -0.4600298046078083,
          null,
          0.1654054258946137,
          2.1424119482653152,
          null,
          0.1654054258946137,
          -0.2385278907650706,
          null,
          -2.069798042598877,
          -2.432377042075129,
          null,
          -2.069798042598877,
          -1.934412884771962,
          null,
          -2.069798042598877,
          -0.6090325581373476,
          null,
          -2.069798042598877,
          -0.38796205679579504,
          null,
          -2.069798042598877,
          -2.9021857166411875,
          null,
          -2.069798042598877,
          -4.107735462920428,
          null,
          -2.432377042075129,
          -1.2766083672752673,
          null,
          -2.432377042075129,
          -3.4379270799228197,
          null,
          -2.432377042075129,
          1.3109345128653913,
          null,
          -2.432377042075129,
          -4.404972476990067,
          null,
          -2.432377042075129,
          -4.46531113034553,
          null,
          -1.934412884771962,
          -0.6090325581373476,
          null,
          -1.934412884771962,
          -1.0877544811579587,
          null,
          -1.934412884771962,
          -2.917773783570049,
          null,
          -1.934412884771962,
          -1.1915800285197797,
          null,
          -1.934412884771962,
          0.9628424542528196,
          null,
          -1.934412884771962,
          -4.155171762728122,
          null,
          -0.4866083252080733,
          3.278853069330012,
          null,
          -0.4866083252080733,
          -1.9024218635087176,
          null,
          -0.4866083252080733,
          -2.1175072765844236,
          null,
          -0.4866083252080733,
          0.026602923002466083,
          null,
          -0.4866083252080733,
          -1.6718545301301864,
          null,
          -0.4866083252080733,
          -3.2837743218692323,
          null,
          -0.4866083252080733,
          0.9718328976299329,
          null,
          -0.4866083252080733,
          -2.0600963233702982,
          null,
          -0.6090325581373476,
          1.2978288333261119,
          null,
          -0.6090325581373476,
          -1.0877544811579587,
          null,
          -0.6090325581373476,
          -2.917773783570049,
          null,
          -0.6090325581373476,
          2.5070987131437072,
          null,
          -0.6090325581373476,
          -0.5127319123411868,
          null,
          -0.6090325581373476,
          2.0912605462739515,
          null,
          -0.6090325581373476,
          -0.5941568571554954,
          null,
          -0.6090325581373476,
          -2.0124000078865305,
          null,
          -0.6090325581373476,
          0.44955748776620347,
          null,
          -0.6090325581373476,
          -2.8887433730554397,
          null,
          -0.6090325581373476,
          0.6772833094012204,
          null,
          -0.6090325581373476,
          -0.6614283561636668,
          null,
          -0.6090325581373476,
          -3.4194195559343363,
          null,
          -0.6090325581373476,
          -1.823169162740436,
          null,
          0.2781857776769539,
          -1.2766083672752673,
          null,
          0.2781857776769539,
          0.4032282235834868,
          null,
          0.2781857776769539,
          1.767614636781317,
          null,
          0.2781857776769539,
          1.5098006368048644,
          null,
          0.2781857776769539,
          -0.2385278907650706,
          null,
          0.2781857776769539,
          -0.026905133233326706,
          null,
          0.2781857776769539,
          -0.6761293981340702,
          null,
          3.278853069330012,
          2.5070987131437072,
          null,
          3.278853069330012,
          0.17458897826102077,
          null,
          3.278853069330012,
          5.438444880755259,
          null,
          3.278853069330012,
          6.865070118980753,
          null,
          -1.5171819114491845,
          1.2978288333261119,
          null,
          -1.5171819114491845,
          -3.498302507158283,
          null,
          1.2978288333261119,
          1.5868706650571784,
          null,
          1.2978288333261119,
          1.5176221198730797,
          null,
          1.2978288333261119,
          -0.7660110458672548,
          null,
          1.2978288333261119,
          2.0912605462739515,
          null,
          1.2978288333261119,
          4.358246351673391,
          null,
          1.2978288333261119,
          0.8691509645394038,
          null,
          1.2978288333261119,
          3.37007349090929,
          null,
          -1.9024218635087176,
          -0.38796205679579504,
          null,
          -1.9024218635087176,
          0.17458897826102077,
          null,
          -1.9024218635087176,
          -3.2837743218692323,
          null,
          -1.9024218635087176,
          -2.3574223163122965,
          null,
          0.611769397508264,
          3.3921828155729052,
          null,
          0.611769397508264,
          -0.37104684903168916,
          null,
          0.611769397508264,
          -0.6614283561636668,
          null,
          -1.0877544811579587,
          0.42321774705872484,
          null,
          -1.0877544811579587,
          0.3925080580207568,
          null,
          -1.0877544811579587,
          -0.37104684903168916,
          null,
          -1.0877544811579587,
          -2.3444767197237484,
          null,
          -1.0877544811579587,
          -2.203838197199209,
          null,
          -1.0877544811579587,
          -0.6761293981340702,
          null,
          -1.4488259280472833,
          -1.1955489560645112,
          null,
          -1.4488259280472833,
          0.32309448068205027,
          null,
          -1.4488259280472833,
          -0.050950004420867515,
          null,
          -1.4488259280472833,
          -3.74651860263333,
          null,
          -1.4488259280472833,
          -2.256943553180357,
          null,
          -0.16508246167934815,
          -2.9157952799271096,
          null,
          -0.16508246167934815,
          -1.2766083672752673,
          null,
          -0.16508246167934815,
          0.5398769173683199,
          null,
          -0.16508246167934815,
          2.1171505128672776,
          null,
          -0.16508246167934815,
          -3.6806828176338424,
          null,
          -0.16508246167934815,
          2.925810968512076,
          null,
          -0.16508246167934815,
          1.4317645549846245,
          null,
          -0.38796205679579504,
          1.5868706650571784,
          null,
          -0.38796205679579504,
          2.1424119482653152,
          null,
          -0.38796205679579504,
          -2.3574223163122965,
          null,
          -2.9157952799271096,
          -2.3766421671493263,
          null,
          -2.9157952799271096,
          -3.4379270799228197,
          null,
          -2.9157952799271096,
          -2.1175072765844236,
          null,
          -2.9157952799271096,
          -4.886443134039926,
          null,
          0.02069549045824974,
          0.4032282235834868,
          null,
          0.02069549045824974,
          2.1424119482653152,
          null,
          0.02069549045824974,
          0.4614466275549654,
          null,
          0.02069549045824974,
          -2.4501908662588456,
          null,
          -2.3766421671493263,
          -3.357653546621568,
          null,
          -2.3766421671493263,
          -2.1175072765844236,
          null,
          -2.3766421671493263,
          0.3925080580207568,
          null,
          -2.3766421671493263,
          -4.934744532774456,
          null,
          -3.357653546621568,
          -1.6281560004406779,
          null,
          -3.357653546621568,
          -3.177591360869386,
          null,
          -1.2766083672752673,
          -0.72398220258621,
          null,
          -1.2766083672752673,
          -2.559401399469489,
          null,
          0.4032282235834868,
          1.4309082596430913,
          null,
          0.4032282235834868,
          1.767614636781317,
          null,
          0.4032282235834868,
          -0.050950004420867515,
          null,
          0.4032282235834868,
          0.5842564863392941,
          null,
          0.4032282235834868,
          -1.8163630812458895,
          null,
          1.5868706650571784,
          1.5098006368048644,
          null,
          1.5868706650571784,
          0.7599807448382521,
          null,
          1.5868706650571784,
          3.032804975682905,
          null,
          1.8942136887815828,
          0.32309448068205027,
          null,
          1.8942136887815828,
          0.42321774705872484,
          null,
          1.8942136887815828,
          2.5070987131437072,
          null,
          1.8942136887815828,
          -0.31675195971935316,
          null,
          1.8942136887815828,
          1.5176221198730797,
          null,
          1.8942136887815828,
          1.4309082596430913,
          null,
          1.8942136887815828,
          3.1760067949328805,
          null,
          1.8942136887815828,
          -1.1686419006918052,
          null,
          1.8942136887815828,
          2.510282182806139,
          null,
          1.8942136887815828,
          1.1570883259265843,
          null,
          1.8942136887815828,
          4.6757053903559695,
          null,
          1.8942136887815828,
          3.46467559800548,
          null,
          -3.4379270799228197,
          -3.1875720675728214,
          null,
          -3.4379270799228197,
          -4.934744532774456,
          null,
          -3.4379270799228197,
          -4.249835314168941,
          null,
          -3.4379270799228197,
          -2.404678457344779,
          null,
          -3.4379270799228197,
          -4.371956411352611,
          null,
          -1.1955489560645112,
          -0.050950004420867515,
          null,
          -1.1955489560645112,
          -1.2859484553183327,
          null,
          -1.1955489560645112,
          0.5842564863392941,
          null,
          -1.1955489560645112,
          -2.0124000078865305,
          null,
          -1.1955489560645112,
          -2.256943553180357,
          null,
          -3.1875720675728214,
          -0.050950004420867515,
          null,
          -3.1875720675728214,
          -2.1178130841636857,
          null,
          -3.1875720675728214,
          -4.64500662951833,
          null,
          -3.1875720675728214,
          -4.371956411352611,
          null,
          1.9049003971627159,
          0.5398769173683199,
          null,
          1.9049003971627159,
          -0.2385278907650706,
          null,
          1.9049003971627159,
          1.159614263519003,
          null,
          1.9049003971627159,
          4.354163244761008,
          null,
          0.4680473880932147,
          1.5176221198730797,
          null,
          0.4680473880932147,
          -0.050950004420867515,
          null,
          0.4680473880932147,
          0.17458897826102077,
          null,
          0.4680473880932147,
          -0.2632556283594976,
          null,
          0.32309448068205027,
          -0.2632556283594976,
          null,
          -2.1175072765844236,
          -1.1525474331733685,
          null,
          -2.1175072765844236,
          -2.9021857166411875,
          null,
          -2.1175072765844236,
          -2.1178130841636857,
          null,
          -2.1175072765844236,
          1.8731391501948251,
          null,
          -2.1175072765844236,
          -5.590386194337934,
          null,
          -2.1175072765844236,
          -2.075439702756192,
          null,
          0.5398769173683199,
          1.2765407762197771,
          null,
          0.5398769173683199,
          -1.6247573921153864,
          null,
          -2.917773783570049,
          -2.9021857166411875,
          null,
          -2.917773783570049,
          -2.3444767197237484,
          null,
          -2.917773783570049,
          -2.8887433730554397,
          null,
          -2.917773783570049,
          -1.270458615590081,
          null,
          -2.917773783570049,
          -4.950966312577352,
          null,
          0.42321774705872484,
          -1.1915800285197797,
          null,
          0.42321774705872484,
          -1.6718545301301864,
          null,
          0.42321774705872484,
          3.3921828155729052,
          null,
          0.42321774705872484,
          -1.270458615590081,
          null,
          2.860953688347791,
          1.767614636781317,
          null,
          2.860953688347791,
          3.1760067949328805,
          null,
          2.860953688347791,
          1.159614263519003,
          null,
          2.5070987131437072,
          3.832431818812677,
          null,
          2.5070987131437072,
          0.6202374691695299,
          null,
          2.5070987131437072,
          4.570340443318879,
          null,
          -2.5513263088773517,
          -1.0727958862640423,
          null,
          -0.31675195971935316,
          -2.9021857166411875,
          null,
          -0.31675195971935316,
          0.8691509645394038,
          null,
          -0.31675195971935316,
          -0.5311144000568948,
          null,
          3.832431818812677,
          2.2298288421002583,
          null,
          -1.1525474331733685,
          1.4309082596430913,
          null,
          -1.1525474331733685,
          0.17458897826102077,
          null,
          -1.1525474331733685,
          -3.8057108340559935,
          null,
          -1.1525474331733685,
          -0.2385278907650706,
          null,
          -1.1525474331733685,
          -3.1533384408053693,
          null,
          -1.1525474331733685,
          0.8497207851968617,
          null,
          1.3109345128653913,
          1.7827683712267326,
          null,
          1.3109345128653913,
          1.159614263519003,
          null,
          1.3109345128653913,
          5.252676447810082,
          null,
          1.3109345128653913,
          0.6772833094012204,
          null,
          1.5176221198730797,
          2.1171505128672776,
          null,
          1.5176221198730797,
          -1.2859484553183327,
          null,
          1.5176221198730797,
          4.358246351673391,
          null,
          -2.9021857166411875,
          -0.5010869368449609,
          null,
          -2.9021857166411875,
          -5.232158725962757,
          null,
          -2.9021857166411875,
          -4.155171762728122,
          null,
          1.4309082596430913,
          0.3925080580207568,
          null,
          1.4309082596430913,
          3.1760067949328805,
          null,
          1.4309082596430913,
          -0.7660110458672548,
          null,
          1.4309082596430913,
          3.3666125601490067,
          null,
          1.4309082596430913,
          2.4737416805728225,
          null,
          1.4309082596430913,
          4.082329519323579,
          null,
          1.4309082596430913,
          -1.4933974793817613,
          null,
          1.5173403719423826,
          2.2298288421002583,
          null,
          2.1171505128672776,
          3.3666125601490067,
          null,
          2.1171505128672776,
          1.4317645549846245,
          null,
          0.3925080580207568,
          -1.6281560004406779,
          null,
          0.3925080580207568,
          0.5842564863392941,
          null,
          0.3925080580207568,
          3.1460000978052896,
          null,
          0.3925080580207568,
          -0.6761293981340702,
          null,
          0.3925080580207568,
          0.23361570410263238,
          null,
          0.3925080580207568,
          1.2768302366336721,
          null,
          0.3925080580207568,
          2.5312903321265505,
          null,
          0.026602923002466083,
          -2.0124000078865305,
          null,
          0.026602923002466083,
          2.2569572079340867,
          null,
          0.026602923002466083,
          1.1663679056493808,
          null,
          0.026602923002466083,
          -0.7429618898685868,
          null,
          2.0761350489708983,
          3.032804975682905,
          null,
          3.1760067949328805,
          4.172852817382844,
          null,
          -0.4600298046078083,
          -1.381985706200334,
          null,
          -1.1686419006918052,
          -3.74651860263333,
          null,
          -1.1686419006918052,
          1.1570883259265843,
          null,
          -1.1686419006918052,
          -3.6376032750143925,
          null,
          2.1424119482653152,
          3.553475827041422,
          null,
          2.1424119482653152,
          2.613874526710803,
          null,
          2.1424119482653152,
          2.2569572079340867,
          null,
          2.1424119482653152,
          4.105371488509957,
          null,
          2.1424119482653152,
          2.5312903321265505,
          null,
          2.2298288421002583,
          -0.5010869368449609,
          null,
          2.2298288421002583,
          1.54930457717678,
          null,
          2.2298288421002583,
          3.032804975682905,
          null,
          -0.050950004420867515,
          2.510282182806139,
          null,
          -0.050950004420867515,
          -0.5127319123411868,
          null,
          -0.050950004420867515,
          2.187989436821442,
          null,
          -0.050950004420867515,
          0.9628424542528196,
          null,
          5.337643162484604,
          4.1201014244843925,
          null,
          1.7827683712267326,
          3.46467559800548,
          null,
          1.7827683712267326,
          2.0767315148328764,
          null,
          1.7827683712267326,
          -0.48216954191301814,
          null,
          8.4678153873979,
          5.9698429150064385,
          null,
          -2.755869972502648,
          -1.1915800285197797,
          null,
          -2.755869972502648,
          -2.203838197199209,
          null,
          2.510282182806139,
          -1.2859484553183327,
          null,
          2.510282182806139,
          3.340577372559506,
          null,
          2.510282182806139,
          5.9698429150064385,
          null,
          2.510282182806139,
          3.9562331637820374,
          null,
          1.5098006368048644,
          3.394474103822435,
          null,
          1.5098006368048644,
          0.8896320892916353,
          null,
          5.836565236675933,
          3.3921828155729052,
          null,
          5.836565236675933,
          5.303948611877471,
          null,
          -0.5127319123411868,
          -1.0727958862640423,
          null,
          -0.5127319123411868,
          -0.5311144000568948,
          null,
          -0.5127319123411868,
          0.23361570410263238,
          null,
          0.5472063777307187,
          0.23361570410263238,
          null,
          -2.1178130841636857,
          -1.2859484553183327,
          null,
          -2.1178130841636857,
          0.9718328976299329,
          null,
          -2.1178130841636857,
          -3.8761542925718926,
          null,
          -2.1178130841636857,
          -4.371956411352611,
          null,
          -1.0727958862640423,
          1.0216618616376514,
          null,
          -1.6281560004406779,
          0.7599807448382521,
          null,
          -1.6281560004406779,
          -4.314158700405374,
          null,
          -1.6281560004406779,
          -2.203838197199209,
          null,
          -1.6281560004406779,
          -0.48216954191301814,
          null,
          -4.812842322732704,
          -3.534741860203504,
          null,
          0.4614466275549654,
          -1.381985706200334,
          null,
          0.4614466275549654,
          3.340577372559506,
          null,
          0.4614466275549654,
          0.7599807448382521,
          null,
          0.4614466275549654,
          -1.823169162740436,
          null,
          -1.522980125158646,
          -0.5311144000568948,
          null,
          -0.11138102760468148,
          -1.9585087420251852,
          null,
          -0.11138102760468148,
          1.2768302366336721,
          null,
          -0.7660110458672548,
          -0.2385278907650706,
          null,
          -0.7660110458672548,
          -2.4501908662588456,
          null,
          -0.7660110458672548,
          -2.8887433730554397,
          null,
          -1.381985706200334,
          -2.0600963233702982,
          null,
          0.17458897826102077,
          -0.2632556283594976,
          null,
          0.17458897826102077,
          0.9628424542528196,
          null,
          0.17458897826102077,
          -0.5941568571554954,
          null,
          2.0912605462739515,
          3.8832560322313894,
          null,
          2.0912605462739515,
          0.7599807448382521,
          null,
          2.0912605462739515,
          1.0216618616376514,
          null,
          2.0912605462739515,
          4.099443505064696,
          null,
          -3.8057108340559935,
          -2.0124000078865305,
          null,
          -3.8057108340559935,
          -4.612168703820741,
          null,
          -3.8057108340559935,
          -4.950966312577352,
          null,
          -3.8057108340559935,
          -6.296546038650223,
          null,
          -3.8057108340559935,
          -1.823169162740436,
          null,
          -1.2859484553183327,
          -4.027993861712624,
          null,
          -1.2859484553183327,
          -4.46531113034553,
          null,
          3.8832560322313894,
          3.46467559800548,
          null,
          3.8832560322313894,
          3.37007349090929,
          null,
          -4.404972476990067,
          -3.2837743218692323,
          null,
          -0.2385278907650706,
          1.54930457717678,
          null,
          -0.2385278907650706,
          -4.027993861712624,
          null,
          -0.2385278907650706,
          -0.72398220258621,
          null,
          -0.2385278907650706,
          1.1663679056493808,
          null,
          3.340577372559506,
          5.303948611877471,
          null,
          -1.6718545301301864,
          -2.0600963233702982,
          null,
          -1.6718545301301864,
          -2.53363742502913,
          null,
          3.3921828155729052,
          2.187989436821442,
          null,
          3.3921828155729052,
          0.9628424542528196,
          null,
          3.3921828155729052,
          4.4774805956610635,
          null,
          3.3921828155729052,
          5.303948611877471,
          null,
          3.3921828155729052,
          5.705325316144526,
          null,
          -3.534741860203504,
          -2.0124000078865305,
          null,
          -3.534741860203504,
          -2.3444767197237484,
          null,
          2.187989436821442,
          1.0216618616376514,
          null,
          4.172852817382844,
          4.6757053903559695,
          null,
          4.172852817382844,
          5.438444880755259,
          null,
          4.172852817382844,
          1.8731391501948251,
          null,
          4.172852817382844,
          5.720425686790054,
          null,
          4.172852817382844,
          4.105371488509957,
          null,
          4.172852817382844,
          4.0099507117830795,
          null,
          4.172852817382844,
          1.4317645549846245,
          null,
          4.772383944705061,
          4.082329519323579,
          null,
          4.772383944705061,
          4.099443505064696,
          null,
          4.772383944705061,
          4.024535510929959,
          null,
          4.772383944705061,
          2.925810968512076,
          null,
          -3.74651860263333,
          -6.194443101253863,
          null,
          -3.74651860263333,
          -3.498302507158283,
          null,
          1.1570883259265843,
          1.9809778599040084,
          null,
          -9.162902004704781,
          -6.976560752851134,
          null,
          1.159614263519003,
          -0.72398220258621,
          null,
          0.2562464283871592,
          -1.9585087420251852,
          null,
          0.2562464283871592,
          1.1663679056493808,
          null,
          0.2562464283871592,
          1.4317645549846245,
          null,
          -0.2632556283594976,
          -1.905542102042272,
          null,
          -0.2632556283594976,
          -0.4107113130643363,
          null,
          0.5842564863392941,
          1.6925875434286894,
          null,
          2.4737416805728225,
          1.8731391501948251,
          null,
          2.4737416805728225,
          4.099443505064696,
          null,
          2.4737416805728225,
          -0.026905133233326706,
          null,
          -4.314158700405374,
          -3.498302507158283,
          null,
          -4.027993861712624,
          -5.6508754243803505,
          null,
          -4.027993861712624,
          -6.976560752851134,
          null,
          4.6757053903559695,
          5.452747185283861,
          null,
          -3.2837743218692323,
          -4.886443134039926,
          null,
          0.9628424542528196,
          -1.7180793189165016,
          null,
          0.9628424542528196,
          1.9398368189671433,
          null,
          0.9628424542528196,
          4.024535510929959,
          null,
          5.9698429150064385,
          5.252676447810082,
          null,
          6.9881528601234475,
          4.354163244761008,
          null,
          -0.5941568571554954,
          -1.4529109743500401,
          null,
          -1.7180793189165016,
          -1.4529109743500401,
          null,
          -1.7180793189165016,
          -3.498302507158283,
          null,
          -1.7180793189165016,
          -1.931662663459908,
          null,
          3.1460000978052896,
          4.099443505064696,
          null,
          3.1460000978052896,
          2.2569572079340867,
          null,
          3.1460000978052896,
          4.354163244761008,
          null,
          -3.6806828176338424,
          -2.3444767197237484,
          null,
          -3.6806828176338424,
          -7.149907964017236,
          null,
          3.394474103822435,
          2.2569572079340867,
          null,
          3.394474103822435,
          4.4774805956610635,
          null,
          3.394474103822435,
          5.359739433912329,
          null,
          3.394474103822435,
          0.8497207851968617,
          null,
          1.8731391501948251,
          4.354163244761008,
          null,
          2.613874526710803,
          0.9718328976299329,
          null,
          2.613874526710803,
          4.024535510929959,
          null,
          2.613874526710803,
          1.8728242303575182,
          null,
          3.46467559800548,
          2.0767315148328764,
          null,
          3.46467559800548,
          5.417557220578476,
          null,
          3.9562331637820374,
          2.278034597218359,
          null,
          5.252676447810082,
          7.796315494584187,
          null,
          6.751452412134089,
          5.720425686790054,
          null,
          6.751452412134089,
          5.359739433912329,
          null,
          2.0767315148328764,
          -0.37923995430927215,
          null,
          4.099443505064696,
          5.417557220578476,
          null,
          4.099443505064696,
          2.925810968512076,
          null,
          4.358246351673391,
          7.308143043505326,
          null,
          4.358246351673391,
          6.403804882590344,
          null,
          5.417557220578476,
          5.303948611877471,
          null,
          -1.9585087420251852,
          -4.107735462920428,
          null,
          0.9718328976299329,
          2.925810968512076,
          null,
          0.9718328976299329,
          1.8728242303575182,
          null,
          0.9718328976299329,
          0.23361570410263238,
          null,
          0.8691509645394038,
          1.6925875434286894,
          null,
          0.8691509645394038,
          -0.5311144000568948,
          null,
          -1.7626126926349224,
          -3.177591360869386,
          null,
          -0.72398220258621,
          -1.8163630812458895,
          null,
          -0.72398220258621,
          -1.931662663459908,
          null,
          -0.72398220258621,
          -2.256943553180357,
          null,
          -0.72398220258621,
          1.4317645549846245,
          null,
          6.865070118980753,
          9.254420806289243,
          null,
          -2.3444767197237484,
          0.6202374691695299,
          null,
          -2.203838197199209,
          -0.37923995430927215,
          null,
          -2.203838197199209,
          -1.905542102042272,
          null,
          -2.203838197199209,
          -4.612168703820741,
          null,
          -5.590386194337934,
          -6.976560752851134,
          null,
          -5.590386194337934,
          -7.574638348908319,
          null,
          5.720425686790054,
          4.0099507117830795,
          null,
          5.720425686790054,
          6.403804882590344,
          null,
          -1.8163630812458895,
          -3.8761542925718926,
          null,
          5.452747185283861,
          2.925810968512076,
          null,
          2.2569572079340867,
          1.2768302366336721,
          null,
          2.2569572079340867,
          4.1201014244843925,
          null,
          -3.8761542925718926,
          -5.603701486384827,
          null,
          -3.177591360869386,
          -1.931662663459908,
          null,
          4.024535510929959,
          4.105371488509957,
          null,
          4.024535510929959,
          5.823670318288846,
          null,
          -4.249835314168941,
          -1.4933974793817613,
          null,
          -4.249835314168941,
          -5.375630790628391,
          null,
          -4.46531113034553,
          -7.814200181420838,
          null,
          -4.46531113034553,
          -2.8887433730554397,
          null,
          4.105371488509957,
          2.5312903321265505,
          null,
          4.0099507117830795,
          1.1663679056493808,
          null,
          0.6202374691695299,
          1.9809778599040084,
          null,
          1.1663679056493808,
          -0.026905133233326706,
          null,
          -3.6376032750143925,
          -5.331648353904955,
          null,
          -0.026905133233326706,
          -2.075439702756192,
          null,
          -0.026905133233326706,
          -2.404678457344779,
          null,
          -7.814200181420838,
          -10,
          null,
          -5.6508754243803505,
          -4.107735462920428,
          null,
          1.8728242303575182,
          0.44955748776620347,
          null,
          1.8728242303575182,
          2.505004416684976,
          null,
          -5.375630790628391,
          -3.4194195559343363,
          null,
          9.23774718870823,
          7.308143043505326,
          null,
          -2.4501908662588456,
          -4.64500662951833,
          null,
          -1.931662663459908,
          -2.488027664077627,
          null,
          -2.53363742502913,
          -1.6247573921153864,
          null,
          -9.497147884743374,
          -7.149907964017236,
          null,
          1.2768302366336721,
          2.5312903321265505,
          null,
          -4.107735462920428,
          -5.956676923302114,
          null,
          -4.155171762728122,
          -5.331648353904955,
          null,
          -2.404678457344779,
          -1.6247573921153864,
          null,
          -0.6614283561636668,
          -1.823169162740436,
          null
         ],
         "y": [
          0.08729562695524215,
          -1.0997866627285668,
          null,
          0.08729562695524215,
          -1.1267208670347928,
          null,
          0.08729562695524215,
          1.074528281108887,
          null,
          0.08729562695524215,
          -2.0130795572650277,
          null,
          0.08729562695524215,
          2.529381325273694,
          null,
          0.08729562695524215,
          2.11502228456973,
          null,
          0.08729562695524215,
          -0.8691727110282242,
          null,
          0.08729562695524215,
          -1.6929050174223288,
          null,
          0.08729562695524215,
          0.2446524990743301,
          null,
          0.08729562695524215,
          -2.682542929435129,
          null,
          0.08729562695524215,
          1.6758184244187866,
          null,
          0.08729562695524215,
          2.1124830718970875,
          null,
          -1.0997866627285668,
          -1.1267208670347928,
          null,
          -1.0997866627285668,
          -1.4890410422800922,
          null,
          -1.0997866627285668,
          0.2450108178631398,
          null,
          -1.0997866627285668,
          -2.837783316554245,
          null,
          -1.0997866627285668,
          -0.6668647595296796,
          null,
          -1.0997866627285668,
          0.6257203604597488,
          null,
          -1.0997866627285668,
          1.041945207043947,
          null,
          -1.0997866627285668,
          -0.47520955753360067,
          null,
          -1.0997866627285668,
          -1.8662783100739024,
          null,
          -1.0997866627285668,
          -3.3339179258129135,
          null,
          -1.1267208670347928,
          0.2450108178631398,
          null,
          -1.1267208670347928,
          -0.4886775290020854,
          null,
          -1.1267208670347928,
          -2.837783316554245,
          null,
          -1.1267208670347928,
          0.2217140584437955,
          null,
          -1.1267208670347928,
          -0.5522335788326096,
          null,
          -1.1267208670347928,
          -0.47520955753360067,
          null,
          -1.1267208670347928,
          -2.3850239292488693,
          null,
          -1.1267208670347928,
          -2.115306543295012,
          null,
          -1.4890410422800922,
          -0.7411662029543012,
          null,
          -1.4890410422800922,
          1.4829524931218414,
          null,
          -1.4890410422800922,
          0.27862251292466406,
          null,
          -1.4890410422800922,
          -1.2597821243027043,
          null,
          -1.4890410422800922,
          -2.0130795572650277,
          null,
          -1.4890410422800922,
          -0.6363858865141329,
          null,
          -1.4890410422800922,
          -3.9336068041603602,
          null,
          -1.4890410422800922,
          -4.5401754619799,
          null,
          -1.4890410422800922,
          -1.768798142391317,
          null,
          -1.4890410422800922,
          0.9393070070786147,
          null,
          0.2450108178631398,
          1.8972090802977641,
          null,
          0.2450108178631398,
          -1.3603242206914785,
          null,
          0.2450108178631398,
          -2.038237993227261,
          null,
          0.2450108178631398,
          -1.2597821243027043,
          null,
          0.2450108178631398,
          -0.2900080281569269,
          null,
          0.2450108178631398,
          3.4888770701948317,
          null,
          1.8972090802977641,
          2.529381325273694,
          null,
          1.8972090802977641,
          0.2217140584437955,
          null,
          1.8972090802977641,
          2.11502228456973,
          null,
          1.8972090802977641,
          2.5294051654407244,
          null,
          1.8972090802977641,
          0.8744924953033426,
          null,
          -1.3603242206914785,
          -2.038237993227261,
          null,
          -1.3603242206914785,
          -1.454323062479998,
          null,
          -1.3603242206914785,
          -2.5059195481100813,
          null,
          -1.3603242206914785,
          -1.8662783100739024,
          null,
          -1.3603242206914785,
          -2.7685496815160637,
          null,
          -1.3603242206914785,
          0.9138296327382182,
          null,
          -0.7411662029543012,
          -0.5499024607265164,
          null,
          -0.7411662029543012,
          -0.8528417171030982,
          null,
          -0.7411662029543012,
          0.1162023027204254,
          null,
          -0.7411662029543012,
          0.808582033465771,
          null,
          -0.7411662029543012,
          0.4582505196316311,
          null,
          -0.7411662029543012,
          0.8169689526477129,
          null,
          -0.7411662029543012,
          -3.034645573085048,
          null,
          -0.7411662029543012,
          -2.1386232168720447,
          null,
          -2.038237993227261,
          0.27862251292466406,
          null,
          -2.038237993227261,
          -1.454323062479998,
          null,
          -2.038237993227261,
          -2.5059195481100813,
          null,
          -2.038237993227261,
          -2.600587053162034,
          null,
          -2.038237993227261,
          -0.032738271650542654,
          null,
          -2.038237993227261,
          0.09815601589401775,
          null,
          -2.038237993227261,
          -3.4888983391931223,
          null,
          -2.038237993227261,
          -2.2632883059201516,
          null,
          -2.038237993227261,
          -5.053841479446893,
          null,
          -2.038237993227261,
          -1.0828279460316783,
          null,
          -2.038237993227261,
          0.17774438868773704,
          null,
          -2.038237993227261,
          -4.229583573802577,
          null,
          -2.038237993227261,
          -3.8313732936791443,
          null,
          -2.038237993227261,
          -3.6902727695010964,
          null,
          1.4829524931218414,
          2.529381325273694,
          null,
          1.4829524931218414,
          -0.32356977268402765,
          null,
          1.4829524931218414,
          1.9279497496218265,
          null,
          1.4829524931218414,
          3.695446926436317,
          null,
          1.4829524931218414,
          0.9393070070786147,
          null,
          1.4829524931218414,
          2.9770325771416988,
          null,
          1.4829524931218414,
          0.18635147587453943,
          null,
          -0.5499024607265164,
          -2.600587053162034,
          null,
          -0.5499024607265164,
          -0.47520955753360067,
          null,
          -0.5499024607265164,
          0.5749817057672916,
          null,
          -0.5499024607265164,
          0.10965125024817524,
          null,
          -0.4886775290020854,
          0.27862251292466406,
          null,
          -0.4886775290020854,
          -1.1969633235461317,
          null,
          0.27862251292466406,
          0.46765827378023966,
          null,
          0.27862251292466406,
          1.041945207043947,
          null,
          0.27862251292466406,
          -0.6016106382064824,
          null,
          0.27862251292466406,
          0.09815601589401775,
          null,
          0.27862251292466406,
          2.655671921763259,
          null,
          0.27862251292466406,
          -0.22654504879571163,
          null,
          0.27862251292466406,
          1.9129672434962914,
          null,
          -0.8528417171030982,
          -1.2597821243027043,
          null,
          -0.8528417171030982,
          -0.47520955753360067,
          null,
          -0.8528417171030982,
          0.8169689526477129,
          null,
          -0.8528417171030982,
          -2.6185108751661152,
          null,
          -2.837783316554245,
          -1.8918089524318455,
          null,
          -2.837783316554245,
          -3.8584178775425744,
          null,
          -2.837783316554245,
          -4.229583573802577,
          null,
          -1.454323062479998,
          -1.4690641647261908,
          null,
          -1.454323062479998,
          -0.5522335788326096,
          null,
          -1.454323062479998,
          -3.8584178775425744,
          null,
          -1.454323062479998,
          -3.0873808528965423,
          null,
          -1.454323062479998,
          1.629029410208228,
          null,
          -1.454323062479998,
          0.18635147587453943,
          null,
          1.074528281108887,
          -0.6668647595296796,
          null,
          1.074528281108887,
          2.3043721056857636,
          null,
          1.074528281108887,
          -0.6892681504624992,
          null,
          1.074528281108887,
          1.5427168724194769,
          null,
          1.074528281108887,
          0.9851592522879178,
          null,
          1.9197304529102093,
          1.3169893667953152,
          null,
          1.9197304529102093,
          2.529381325273694,
          null,
          1.9197304529102093,
          5.180023630566523,
          null,
          1.9197304529102093,
          2.4904605619173172,
          null,
          1.9197304529102093,
          -0.11143982994852143,
          null,
          1.9197304529102093,
          -0.5826257412960363,
          null,
          1.9197304529102093,
          2.829963399082207,
          null,
          -1.2597821243027043,
          0.46765827378023966,
          null,
          -1.2597821243027043,
          -1.768798142391317,
          null,
          -1.2597821243027043,
          -2.6185108751661152,
          null,
          1.3169893667953152,
          -0.6363858865141329,
          null,
          1.3169893667953152,
          0.2217140584437955,
          null,
          1.3169893667953152,
          0.1162023027204254,
          null,
          1.3169893667953152,
          1.9024759780342981,
          null,
          -2.0130795572650277,
          -0.32356977268402765,
          null,
          -2.0130795572650277,
          -1.768798142391317,
          null,
          -2.0130795572650277,
          -3.5372989090830074,
          null,
          -2.0130795572650277,
          -2.115306543295012,
          null,
          -0.6363858865141329,
          -1.9128603380057516,
          null,
          -0.6363858865141329,
          0.1162023027204254,
          null,
          -0.6363858865141329,
          -0.5522335788326096,
          null,
          -0.6363858865141329,
          -0.41673347532817956,
          null,
          -1.9128603380057516,
          0.2446524990743301,
          null,
          -1.9128603380057516,
          -3.91899091393785,
          null,
          2.529381325273694,
          0.5531736361690475,
          null,
          2.529381325273694,
          5.0544711289170445,
          null,
          -0.32356977268402765,
          -0.05949316701485903,
          null,
          -0.32356977268402765,
          1.9279497496218265,
          null,
          -0.32356977268402765,
          -0.6892681504624992,
          null,
          -0.32356977268402765,
          -1.8353514027354207,
          null,
          -0.32356977268402765,
          -1.797969593258604,
          null,
          0.46765827378023966,
          3.695446926436317,
          null,
          0.46765827378023966,
          -1.1275387947980908,
          null,
          0.46765827378023966,
          -1.5323218022450078,
          null,
          0.5566884587580231,
          2.3043721056857636,
          null,
          0.5566884587580231,
          -1.4690641647261908,
          null,
          0.5566884587580231,
          -2.600587053162034,
          null,
          0.5566884587580231,
          0.6035106953640774,
          null,
          0.5566884587580231,
          1.041945207043947,
          null,
          0.5566884587580231,
          -0.05949316701485903,
          null,
          0.5566884587580231,
          1.590793053944569,
          null,
          0.5566884587580231,
          1.7826407527135657,
          null,
          0.5566884587580231,
          -1.1402606405810503,
          null,
          0.5566884587580231,
          -0.3240793232931015,
          null,
          0.5566884587580231,
          0.7888821748380945,
          null,
          0.5566884587580231,
          2.9486168713129963,
          null,
          0.2217140584437955,
          -1.3610651695064853,
          null,
          0.2217140584437955,
          -0.41673347532817956,
          null,
          0.2217140584437955,
          -2.1963151523615903,
          null,
          0.2217140584437955,
          3.2793554725296037,
          null,
          0.2217140584437955,
          -1.287752541429568,
          null,
          -0.6668647595296796,
          -0.6892681504624992,
          null,
          -0.6668647595296796,
          -0.026396560100586202,
          null,
          -0.6668647595296796,
          -1.8353514027354207,
          null,
          -0.6668647595296796,
          -2.2632883059201516,
          null,
          -0.6668647595296796,
          0.9851592522879178,
          null,
          -1.3610651695064853,
          -0.6892681504624992,
          null,
          -1.3610651695064853,
          -1.6929050174223288,
          null,
          -1.3610651695064853,
          -2.6147031767587285,
          null,
          -1.3610651695064853,
          -1.287752541429568,
          null,
          3.3011811540602665,
          5.180023630566523,
          null,
          3.3011811540602665,
          0.9393070070786147,
          null,
          3.3011811540602665,
          2.7845986724262572,
          null,
          3.3011811540602665,
          2.336752031698474,
          null,
          1.2251872688138206,
          1.041945207043947,
          null,
          1.2251872688138206,
          -0.6892681504624992,
          null,
          1.2251872688138206,
          -0.47520955753360067,
          null,
          1.2251872688138206,
          3.0622480007958446,
          null,
          2.3043721056857636,
          3.0622480007958446,
          null,
          0.1162023027204254,
          0.6257203604597488,
          null,
          0.1162023027204254,
          -0.2900080281569269,
          null,
          0.1162023027204254,
          -1.6929050174223288,
          null,
          0.1162023027204254,
          1.4774087534326086,
          null,
          0.1162023027204254,
          -1.8600203826450878,
          null,
          0.1162023027204254,
          2.622986534011405,
          null,
          5.180023630566523,
          7.692832386284371,
          null,
          5.180023630566523,
          5.334334137616411,
          null,
          -2.5059195481100813,
          -0.2900080281569269,
          null,
          -2.5059195481100813,
          -3.0873808528965423,
          null,
          -2.5059195481100813,
          -1.0828279460316783,
          null,
          -2.5059195481100813,
          -3.430596865903789,
          null,
          -2.5059195481100813,
          -3.3964962082791903,
          null,
          -1.4690641647261908,
          -1.8662783100739024,
          null,
          -1.4690641647261908,
          0.4582505196316311,
          null,
          -1.4690641647261908,
          -1.8918089524318455,
          null,
          -1.4690641647261908,
          -3.430596865903789,
          null,
          3.2702873852838854,
          1.9279497496218265,
          null,
          3.2702873852838854,
          1.590793053944569,
          null,
          3.2702873852838854,
          2.7845986724262572,
          null,
          -2.600587053162034,
          -4.270301423585101,
          null,
          -2.600587053162034,
          -3.972562549298489,
          null,
          -2.600587053162034,
          -4.5084751331872805,
          null,
          5.730345482409854,
          3.207838979861504,
          null,
          0.6035106953640774,
          -0.2900080281569269,
          null,
          0.6035106953640774,
          -0.22654504879571163,
          null,
          0.6035106953640774,
          1.9016454867455823,
          null,
          -4.270301423585101,
          -3.130058708055574,
          null,
          0.6257203604597488,
          -0.05949316701485903,
          null,
          0.6257203604597488,
          -0.47520955753360067,
          null,
          0.6257203604597488,
          -1.9284068258612954,
          null,
          0.6257203604597488,
          0.9393070070786147,
          null,
          0.6257203604597488,
          2.5119513660787716,
          null,
          0.6257203604597488,
          3.2541798314182047,
          null,
          2.11502228456973,
          4.163482440459657,
          null,
          2.11502228456973,
          2.7845986724262572,
          null,
          2.11502228456973,
          1.9244907865151502,
          null,
          2.11502228456973,
          0.17774438868773704,
          null,
          1.041945207043947,
          2.4904605619173172,
          null,
          1.041945207043947,
          -0.026396560100586202,
          null,
          1.041945207043947,
          2.655671921763259,
          null,
          -0.2900080281569269,
          -2.3850239292488693,
          null,
          -0.2900080281569269,
          1.2742439006147273,
          null,
          -0.2900080281569269,
          0.9138296327382182,
          null,
          -0.05949316701485903,
          -0.5522335788326096,
          null,
          -0.05949316701485903,
          1.590793053944569,
          null,
          -0.05949316701485903,
          -0.6016106382064824,
          null,
          -0.05949316701485903,
          1.2763256349969767,
          null,
          -0.05949316701485903,
          1.6310191007235413,
          null,
          -0.05949316701485903,
          -1.2364382426670664,
          null,
          -0.05949316701485903,
          -1.7754111187985913,
          null,
          -3.9336068041603602,
          -3.130058708055574,
          null,
          2.4904605619173172,
          1.2763256349969767,
          null,
          2.4904605619173172,
          2.829963399082207,
          null,
          -0.5522335788326096,
          0.2446524990743301,
          null,
          -0.5522335788326096,
          -1.8353514027354207,
          null,
          -0.5522335788326096,
          0.7537304814457692,
          null,
          -0.5522335788326096,
          0.18635147587453943,
          null,
          -0.5522335788326096,
          -3.030060026220267,
          null,
          -0.5522335788326096,
          1.721599593143887,
          null,
          -0.5522335788326096,
          -0.3494818958653079,
          null,
          0.808582033465771,
          -2.2632883059201516,
          null,
          0.808582033465771,
          1.6758184244187866,
          null,
          0.808582033465771,
          3.217942945402467,
          null,
          0.808582033465771,
          2.1124830718970875,
          null,
          -0.8691727110282242,
          -1.5323218022450078,
          null,
          1.590793053944569,
          2.0432706033544807,
          null,
          -4.5401754619799,
          -4.569465809281608,
          null,
          1.7826407527135657,
          1.5427168724194769,
          null,
          1.7826407527135657,
          -0.3240793232931015,
          null,
          1.7826407527135657,
          3.6200170407053385,
          null,
          -1.768798142391317,
          -4.164525632025935,
          null,
          -1.768798142391317,
          -4.265615324647684,
          null,
          -1.768798142391317,
          1.6758184244187866,
          null,
          -1.768798142391317,
          -0.9227947832187213,
          null,
          -1.768798142391317,
          -0.3494818958653079,
          null,
          -3.130058708055574,
          -2.3850239292488693,
          null,
          -3.130058708055574,
          -1.3895146850233187,
          null,
          -3.130058708055574,
          -1.5323218022450078,
          null,
          -0.6892681504624992,
          -1.1402606405810503,
          null,
          -0.6892681504624992,
          -0.032738271650542654,
          null,
          -0.6892681504624992,
          -0.25880223127454594,
          null,
          -0.6892681504624992,
          -2.7685496815160637,
          null,
          7.031106888911134,
          4.841885027917991,
          null,
          4.163482440459657,
          2.9486168713129963,
          null,
          4.163482440459657,
          5.095182854969124,
          null,
          4.163482440459657,
          3.26700614253583,
          null,
          -0.8970124621449401,
          -0.3467240692002984,
          null,
          -0.2737308498573265,
          -1.8662783100739024,
          null,
          -0.2737308498573265,
          1.629029410208228,
          null,
          -1.1402606405810503,
          -0.026396560100586202,
          null,
          -1.1402606405810503,
          -2.9301486262750824,
          null,
          -1.1402606405810503,
          -0.3467240692002984,
          null,
          -1.1402606405810503,
          -3.0480031622845334,
          null,
          3.695446926436317,
          3.631369468504682,
          null,
          3.695446926436317,
          6.493553239053409,
          null,
          -2.6392715852742312,
          -1.8918089524318455,
          null,
          -2.6392715852742312,
          -1.6910444463691336,
          null,
          -0.032738271650542654,
          3.207838979861504,
          null,
          -0.032738271650542654,
          1.9016454867455823,
          null,
          -0.032738271650542654,
          -3.030060026220267,
          null,
          -5.915583752117525,
          -3.030060026220267,
          null,
          -1.6929050174223288,
          -0.026396560100586202,
          null,
          -1.6929050174223288,
          -3.034645573085048,
          null,
          -1.6929050174223288,
          -3.8198633487361833,
          null,
          -1.6929050174223288,
          -1.287752541429568,
          null,
          3.207838979861504,
          1.8104305909514335,
          null,
          0.2446524990743301,
          -1.1275387947980908,
          null,
          0.2446524990743301,
          -0.35121483022591476,
          null,
          0.2446524990743301,
          1.629029410208228,
          null,
          0.2446524990743301,
          3.26700614253583,
          null,
          -7.141761585076444,
          -4.958802735142486,
          null,
          -3.5372989090830074,
          -4.569465809281608,
          null,
          -3.5372989090830074,
          -2.9301486262750824,
          null,
          -3.5372989090830074,
          -1.1275387947980908,
          null,
          -3.5372989090830074,
          -3.6902727695010964,
          null,
          4.431753721340509,
          1.9016454867455823,
          null,
          4.395121545276051,
          5.2417539654376375,
          null,
          4.395121545276051,
          1.721599593143887,
          null,
          -0.6016106382064824,
          0.9393070070786147,
          null,
          -0.6016106382064824,
          -2.115306543295012,
          null,
          -0.6016106382064824,
          -1.0828279460316783,
          null,
          -4.569465809281608,
          -2.1386232168720447,
          null,
          -0.47520955753360067,
          3.0622480007958446,
          null,
          -0.47520955753360067,
          -2.7685496815160637,
          null,
          -0.47520955753360067,
          -3.4888983391931223,
          null,
          0.09815601589401775,
          1.986386635107708,
          null,
          0.09815601589401775,
          -1.1275387947980908,
          null,
          0.09815601589401775,
          1.8104305909514335,
          null,
          0.09815601589401775,
          0.14616720180565101,
          null,
          -1.9284068258612954,
          -2.2632883059201516,
          null,
          -1.9284068258612954,
          0.21108769201998792,
          null,
          -1.9284068258612954,
          -3.3964962082791903,
          null,
          -1.9284068258612954,
          -3.1245248793663745,
          null,
          -1.9284068258612954,
          -3.6902727695010964,
          null,
          -0.026396560100586202,
          0.3315977991173817,
          null,
          -0.026396560100586202,
          0.8744924953033426,
          null,
          1.986386635107708,
          2.9486168713129963,
          null,
          1.986386635107708,
          1.9129672434962914,
          null,
          2.5294051654407244,
          0.8169689526477129,
          null,
          0.9393070070786147,
          -1.3895146850233187,
          null,
          0.9393070070786147,
          0.3315977991173817,
          null,
          0.9393070070786147,
          0.5531736361690475,
          null,
          0.9393070070786147,
          3.217942945402467,
          null,
          -2.9301486262750824,
          -1.6910444463691336,
          null,
          0.4582505196316311,
          -2.1386232168720447,
          null,
          0.4582505196316311,
          3.633333936085621,
          null,
          -1.8918089524318455,
          -0.25880223127454594,
          null,
          -1.8918089524318455,
          -2.7685496815160637,
          null,
          -1.8918089524318455,
          1.0530612370167318,
          null,
          -1.8918089524318455,
          -1.6910444463691336,
          null,
          -1.8918089524318455,
          -3.3529876533418297,
          null,
          -4.958802735142486,
          -2.2632883059201516,
          null,
          -4.958802735142486,
          -3.0873808528965423,
          null,
          -0.25880223127454594,
          1.8104305909514335,
          null,
          2.0432706033544807,
          0.7888821748380945,
          null,
          2.0432706033544807,
          0.5749817057672916,
          null,
          2.0432706033544807,
          1.4774087534326086,
          null,
          2.0432706033544807,
          4.46274305478537,
          null,
          2.0432706033544807,
          -0.9227947832187213,
          null,
          2.0432706033544807,
          4.027358959718725,
          null,
          2.0432706033544807,
          2.829963399082207,
          null,
          -1.7236915086257525,
          -1.2364382426670664,
          null,
          -1.7236915086257525,
          0.14616720180565101,
          null,
          -1.7236915086257525,
          -3.451022931684205,
          null,
          -1.7236915086257525,
          -0.5826257412960363,
          null,
          1.5427168724194769,
          2.9041921156924393,
          null,
          1.5427168724194769,
          -1.1969633235461317,
          null,
          -0.3240793232931015,
          -2.8185923706582754,
          null,
          -2.8174163552556486,
          -1.5760622047335133,
          null,
          2.7845986724262572,
          0.5531736361690475,
          null,
          4.912508440172477,
          5.2417539654376375,
          null,
          4.912508440172477,
          3.217942945402467,
          null,
          4.912508440172477,
          2.829963399082207,
          null,
          3.0622480007958446,
          3.917236883626839,
          null,
          3.0622480007958446,
          5.921164731637044,
          null,
          -1.8353514027354207,
          -2.5111193774589315,
          null,
          1.6310191007235413,
          1.4774087534326086,
          null,
          1.6310191007235413,
          0.14616720180565101,
          null,
          1.6310191007235413,
          2.9770325771416988,
          null,
          -0.35121483022591476,
          -1.1969633235461317,
          null,
          0.3315977991173817,
          2.314024508593084,
          null,
          0.3315977991173817,
          -1.5760622047335133,
          null,
          0.7888821748380945,
          -0.3572926915709365,
          null,
          0.8169689526477129,
          1.9024759780342981,
          null,
          -2.7685496815160637,
          -3.8543436802717936,
          null,
          -2.7685496815160637,
          -5.342884791375104,
          null,
          -2.7685496815160637,
          -3.451022931684205,
          null,
          -0.3467240692002984,
          1.9244907865151502,
          null,
          2.5993703294181927,
          2.336752031698474,
          null,
          -3.4888983391931223,
          -5.614391189756507,
          null,
          -3.8543436802717936,
          -5.614391189756507,
          null,
          -3.8543436802717936,
          -1.1969633235461317,
          null,
          -3.8543436802717936,
          -3.320568222997253,
          null,
          0.7537304814457692,
          0.14616720180565101,
          null,
          0.7537304814457692,
          1.6758184244187866,
          null,
          0.7537304814457692,
          2.336752031698474,
          null,
          -0.11143982994852143,
          -3.0873808528965423,
          null,
          -0.11143982994852143,
          0.26704772269921734,
          null,
          3.631369468504682,
          1.6758184244187866,
          null,
          3.631369468504682,
          1.0530612370167318,
          null,
          3.631369468504682,
          5.757105904132111,
          null,
          3.631369468504682,
          3.2541798314182047,
          null,
          1.4774087534326086,
          2.336752031698474,
          null,
          -4.265615324647684,
          -3.034645573085048,
          null,
          -4.265615324647684,
          -3.451022931684205,
          null,
          -4.265615324647684,
          -5.9445295519671655,
          null,
          2.9486168713129963,
          5.095182854969124,
          null,
          2.9486168713129963,
          0.9155232827581711,
          null,
          -3.0480031622845334,
          -3.3339179258129135,
          null,
          1.9244907865151502,
          2.7164232944211686,
          null,
          6.23755359899205,
          4.46274305478537,
          null,
          6.23755359899205,
          5.757105904132111,
          null,
          5.095182854969124,
          4.5384662185819336,
          null,
          0.14616720180565101,
          0.9155232827581711,
          null,
          0.14616720180565101,
          -0.5826257412960363,
          null,
          2.655671921763259,
          4.354498488740533,
          null,
          2.655671921763259,
          4.128656904703157,
          null,
          0.9155232827581711,
          -1.6910444463691336,
          null,
          5.2417539654376375,
          3.4888770701948317,
          null,
          -3.034645573085048,
          -0.5826257412960363,
          null,
          -3.034645573085048,
          -5.9445295519671655,
          null,
          -3.034645573085048,
          -3.030060026220267,
          null,
          -0.22654504879571163,
          -2.5111193774589315,
          null,
          -0.22654504879571163,
          1.9016454867455823,
          null,
          -2.682542929435129,
          -3.91899091393785,
          null,
          0.5531736361690475,
          -1.797969593258604,
          null,
          0.5531736361690475,
          -3.320568222997253,
          null,
          0.5531736361690475,
          0.9851592522879178,
          null,
          0.5531736361690475,
          2.829963399082207,
          null,
          0.10965125024817524,
          0.7182657685922382,
          null,
          -3.0873808528965423,
          -3.972562549298489,
          null,
          1.629029410208228,
          4.5384662185819336,
          null,
          1.629029410208228,
          3.917236883626839,
          null,
          1.629029410208228,
          0.21108769201998792,
          null,
          -1.8600203826450878,
          -1.5760622047335133,
          null,
          -1.8600203826450878,
          -3.5853771465815747,
          null,
          4.46274305478537,
          4.027358959718725,
          null,
          4.46274305478537,
          4.128656904703157,
          null,
          -1.797969593258604,
          -3.8198633487361833,
          null,
          -0.3572926915709365,
          -0.5826257412960363,
          null,
          1.6758184244187866,
          1.721599593143887,
          null,
          1.6758184244187866,
          4.841885027917991,
          null,
          -3.8198633487361833,
          -5.795739503850778,
          null,
          -3.91899091393785,
          -3.320568222997253,
          null,
          -3.451022931684205,
          -0.9227947832187213,
          null,
          -3.451022931684205,
          -5.391782279090043,
          null,
          -2.1963151523615903,
          -1.7754111187985913,
          null,
          -2.1963151523615903,
          -4.054259323219808,
          null,
          0.8744924953033426,
          1.8667278801847302,
          null,
          0.8744924953033426,
          -1.0828279460316783,
          null,
          -0.9227947832187213,
          -0.3494818958653079,
          null,
          4.027358959718725,
          3.217942945402467,
          null,
          -3.972562549298489,
          -2.8185923706582754,
          null,
          3.217942945402467,
          2.9770325771416988,
          null,
          3.6200170407053385,
          3.205816736482075,
          null,
          2.9770325771416988,
          2.622986534011405,
          null,
          2.9770325771416988,
          3.2793554725296037,
          null,
          1.8667278801847302,
          2.532981275402851,
          null,
          2.314024508593084,
          3.4888770701948317,
          null,
          -5.9445295519671655,
          -5.053841479446893,
          null,
          -5.9445295519671655,
          -8.366274112428801,
          null,
          -4.054259323219808,
          -3.8313732936791443,
          null,
          5.476317108163902,
          4.354498488740533,
          null,
          -2.115306543295012,
          -2.6147031767587285,
          null,
          -3.320568222997253,
          -6.082325013901944,
          null,
          3.633333936085621,
          5.334334137616411,
          null,
          0.5310804437830741,
          0.26704772269921734,
          null,
          1.721599593143887,
          -0.3494818958653079,
          null,
          3.4888770701948317,
          5.278258047084037,
          null,
          0.9138296327382182,
          3.205816736482075,
          null,
          3.2793554725296037,
          5.334334137616411,
          null,
          -4.229583573802577,
          -3.6902727695010964,
          null
         ]
        },
        {
         "hoverinfo": "text",
         "marker": {
          "color": [
           "blue",
           "red",
           "red",
           "blue",
           "red",
           "red",
           "red",
           "blue",
           "red",
           "blue",
           "blue",
           "red",
           "red",
           "blue",
           "red",
           "red",
           "red",
           "blue",
           "blue",
           "blue",
           "blue",
           "blue",
           "blue",
           "blue",
           "blue",
           "blue",
           "red",
           "red",
           "red",
           "red",
           "blue",
           "red",
           "red",
           "blue",
           "blue",
           "red",
           "red",
           "red",
           "blue",
           "blue",
           "blue",
           "blue",
           "blue",
           "blue",
           "red",
           "blue",
           "red",
           "blue",
           "blue",
           "blue",
           "red",
           "blue",
           "blue",
           "red",
           "blue",
           "red",
           "blue",
           "blue",
           "red",
           "blue",
           "red",
           "red",
           "red",
           "red",
           "blue",
           "red",
           "blue",
           "red",
           "blue",
           "blue",
           "blue",
           "blue",
           "blue",
           "red",
           "blue",
           "red",
           "blue",
           "blue",
           "red",
           "red",
           "red",
           "red",
           "red",
           "red",
           "blue",
           "blue",
           "red",
           "blue",
           "blue",
           "red",
           "blue",
           "red",
           "red",
           "blue",
           "red",
           "red",
           "red",
           "blue",
           "blue",
           "blue",
           "blue",
           "red",
           "blue",
           "blue",
           "blue",
           "red",
           "blue",
           "blue",
           "red",
           "red",
           "red",
           "red",
           "red",
           "red",
           "blue",
           "blue",
           "red",
           "red",
           "blue",
           "blue",
           "red",
           "red",
           "blue",
           "blue",
           "red",
           "red",
           "blue",
           "red",
           "red",
           "red",
           "red",
           "blue",
           "red",
           "red",
           "red",
           "red",
           "blue",
           "red",
           "blue",
           "red",
           "red",
           "red",
           "red",
           "blue",
           "blue",
           "red",
           "red",
           "blue",
           "blue",
           "blue",
           "red",
           "blue",
           "blue",
           "red",
           "red",
           "red",
           "red",
           "blue",
           "blue",
           "blue",
           "red",
           "red",
           "blue",
           "red",
           "blue",
           "blue",
           "blue",
           "blue",
           "blue",
           "blue",
           "red",
           "red",
           "blue",
           "blue",
           "red",
           "blue",
           "blue",
           "red",
           "red",
           "blue",
           "red",
           "red",
           "blue",
           "blue",
           "red",
           "blue",
           "blue",
           "blue",
           "blue",
           "blue",
           "red",
           "blue",
           "blue",
           "blue",
           "blue",
           "red",
           "blue",
           "blue",
           "red",
           "red",
           "red",
           "red",
           "red",
           "blue",
           "blue",
           "red",
           "red",
           "red",
           "blue",
           "blue",
           "red",
           "red",
           "blue",
           "red",
           "red",
           "red",
           "red",
           "red",
           "blue",
           "red",
           "blue",
           "blue",
           "blue",
           "blue",
           "red",
           "blue",
           "blue",
           "blue",
           "red",
           "blue",
           "red",
           "red",
           "red",
           "red",
           "red",
           "blue"
          ],
          "size": 5
         },
         "mode": "markers",
         "text": [
          "1_1",
          "2_0",
          "3_0",
          "4_1",
          "5_0",
          "6_0",
          "7_0",
          "8_1",
          "9_0",
          "10_1",
          "11_1",
          "12_0",
          "13_0",
          "14_1",
          "15_0",
          "16_0",
          "17_0",
          "18_1",
          "19_1",
          "20_1",
          "21_1",
          "22_1",
          "23_1",
          "24_1",
          "25_1",
          "26_1",
          "27_0",
          "28_0",
          "29_0",
          "30_0",
          "31_1",
          "32_0",
          "33_0",
          "34_1",
          "35_1",
          "36_0",
          "37_0",
          "38_0",
          "39_1",
          "40_1",
          "41_1",
          "42_1",
          "43_1",
          "44_1",
          "45_0",
          "46_1",
          "47_0",
          "49_1",
          "50_1",
          "51_1",
          "52_0",
          "53_1",
          "54_1",
          "55_0",
          "56_1",
          "57_0",
          "58_1",
          "59_1",
          "61_0",
          "62_1",
          "63_0",
          "64_0",
          "65_0",
          "66_0",
          "67_1",
          "68_0",
          "69_1",
          "70_0",
          "71_1",
          "72_1",
          "73_1",
          "74_1",
          "75_1",
          "76_0",
          "77_1",
          "78_0",
          "79_1",
          "80_1",
          "81_0",
          "82_0",
          "83_0",
          "84_0",
          "85_0",
          "86_0",
          "87_1",
          "88_1",
          "89_0",
          "90_1",
          "91_1",
          "92_0",
          "93_1",
          "94_0",
          "95_0",
          "96_1",
          "97_0",
          "98_0",
          "99_0",
          "100_1",
          "101_1",
          "102_1",
          "103_1",
          "104_0",
          "105_1",
          "106_1",
          "108_1",
          "110_0",
          "111_1",
          "112_1",
          "113_0",
          "114_0",
          "115_0",
          "116_0",
          "117_0",
          "118_0",
          "119_1",
          "120_1",
          "121_0",
          "122_0",
          "123_1",
          "124_1",
          "125_0",
          "127_0",
          "128_1",
          "129_1",
          "130_0",
          "131_0",
          "132_1",
          "133_0",
          "134_0",
          "135_0",
          "136_0",
          "137_1",
          "138_0",
          "139_0",
          "140_0",
          "141_0",
          "142_1",
          "143_0",
          "144_1",
          "145_0",
          "146_0",
          "147_0",
          "148_0",
          "149_1",
          "150_1",
          "151_0",
          "152_0",
          "153_1",
          "154_1",
          "155_1",
          "156_0",
          "157_1",
          "158_1",
          "159_0",
          "160_0",
          "161_0",
          "162_0",
          "163_1",
          "164_1",
          "165_1",
          "166_0",
          "167_0",
          "168_1",
          "169_0",
          "170_1",
          "171_1",
          "172_1",
          "173_1",
          "174_1",
          "175_1",
          "176_0",
          "177_0",
          "179_1",
          "181_1",
          "182_0",
          "183_1",
          "184_1",
          "186_0",
          "187_0",
          "188_1",
          "189_0",
          "190_0",
          "191_1",
          "192_1",
          "193_0",
          "194_1",
          "195_1",
          "196_1",
          "197_1",
          "198_1",
          "199_0",
          "200_1",
          "201_1",
          "202_1",
          "203_1",
          "204_0",
          "205_1",
          "206_1",
          "207_0",
          "208_0",
          "209_0",
          "210_0",
          "211_0",
          "212_1",
          "213_1",
          "214_0",
          "215_0",
          "216_0",
          "217_1",
          "218_1",
          "219_0",
          "221_0",
          "222_1",
          "223_0",
          "224_0",
          "225_0",
          "226_0",
          "227_0",
          "228_1",
          "229_0",
          "230_1",
          "231_1",
          "233_1",
          "234_1",
          "235_0",
          "236_1",
          "237_1",
          "238_1",
          "239_0",
          "241_1",
          "243_0",
          "245_0",
          "247_0",
          "248_0",
          "249_0",
          "250_1"
         ],
         "type": "scatter",
         "x": [
          -0.24998975087471256,
          0.03162141085852474,
          -1.145759969857251,
          0.1654054258946137,
          -2.069798042598877,
          -2.432377042075129,
          -1.934412884771962,
          -0.4866083252080733,
          -0.6090325581373476,
          0.2781857776769539,
          3.278853069330012,
          -1.5171819114491845,
          1.2978288333261119,
          -1.9024218635087176,
          0.611769397508264,
          -1.0877544811579587,
          -1.4488259280472833,
          -0.16508246167934815,
          -0.38796205679579504,
          -2.9157952799271096,
          0.02069549045824974,
          -2.3766421671493263,
          -3.357653546621568,
          -1.2766083672752673,
          0.4032282235834868,
          1.5868706650571784,
          1.8942136887815828,
          -3.4379270799228197,
          -1.1955489560645112,
          -3.1875720675728214,
          1.9049003971627159,
          0.4680473880932147,
          0.32309448068205027,
          -2.1175072765844236,
          0.5398769173683199,
          -2.917773783570049,
          0.42321774705872484,
          2.860953688347791,
          2.5070987131437072,
          -2.5513263088773517,
          -0.31675195971935316,
          3.832431818812677,
          -1.1525474331733685,
          1.3109345128653913,
          1.5176221198730797,
          -2.9021857166411875,
          1.4309082596430913,
          1.5173403719423826,
          2.1171505128672776,
          0.3925080580207568,
          1.767614636781317,
          0.026602923002466083,
          2.0761350489708983,
          3.1760067949328805,
          -0.4600298046078083,
          -1.1686419006918052,
          2.1424119482653152,
          2.2298288421002583,
          -0.050950004420867515,
          5.337643162484604,
          1.7827683712267326,
          8.4678153873979,
          -2.755869972502648,
          2.510282182806139,
          1.5098006368048644,
          5.836565236675933,
          -0.5127319123411868,
          0.5472063777307187,
          -2.1178130841636857,
          -1.0727958862640423,
          -1.6281560004406779,
          -4.812842322732704,
          0.4614466275549654,
          -1.522980125158646,
          -0.11138102760468148,
          -0.7660110458672548,
          -1.381985706200334,
          0.17458897826102077,
          2.0912605462739515,
          -3.8057108340559935,
          -1.2859484553183327,
          -1.1915800285197797,
          3.8832560322313894,
          -4.404972476990067,
          -0.2385278907650706,
          3.340577372559506,
          -0.5010869368449609,
          0.7599807448382521,
          -1.6718545301301864,
          3.3921828155729052,
          -3.534741860203504,
          2.187989436821442,
          -4.934744532774456,
          4.172852817382844,
          4.772383944705061,
          -3.74651860263333,
          1.1570883259265843,
          -9.162902004704781,
          3.3666125601490067,
          1.159614263519003,
          0.2562464283871592,
          -0.2632556283594976,
          1.54930457717678,
          3.553475827041422,
          0.5842564863392941,
          2.4737416805728225,
          -4.314158700405374,
          -4.027993861712624,
          4.6757053903559695,
          -3.2837743218692323,
          4.082329519323579,
          0.9628424542528196,
          5.9698429150064385,
          -0.37104684903168916,
          6.9881528601234475,
          5.438444880755259,
          -0.5941568571554954,
          -1.7180793189165016,
          3.1460000978052896,
          -3.6806828176338424,
          1.0216618616376514,
          1.2765407762197771,
          3.394474103822435,
          1.8731391501948251,
          -2.0124000078865305,
          2.613874526710803,
          1.9398368189671433,
          -1.4529109743500401,
          3.46467559800548,
          3.9562331637820374,
          5.252676447810082,
          6.751452412134089,
          2.0767315148328764,
          4.099443505064696,
          4.358246351673391,
          5.417557220578476,
          -1.9585087420251852,
          0.9718328976299329,
          -3.1533384408053693,
          -6.194443101253863,
          0.8691509645394038,
          -3.498302507158283,
          -1.7626126926349224,
          -0.72398220258621,
          6.865070118980753,
          -2.3444767197237484,
          -2.203838197199209,
          -5.590386194337934,
          5.720425686790054,
          -1.8163630812458895,
          5.452747185283861,
          2.2569572079340867,
          -3.8761542925718926,
          -3.177591360869386,
          4.024535510929959,
          -4.249835314168941,
          -4.46531113034553,
          -2.3574223163122965,
          4.105371488509957,
          4.0099507117830795,
          -0.37923995430927215,
          2.925810968512076,
          0.6202374691695299,
          -1.905542102042272,
          1.1663679056493808,
          -0.7429618898685868,
          1.9809778599040084,
          0.8896320892916353,
          -3.6376032750143925,
          -0.026905133233326706,
          -1.4933974793817613,
          -7.814200181420838,
          -5.6508754243803505,
          1.6925875434286894,
          1.8728242303575182,
          -5.375630790628391,
          9.23774718870823,
          -2.4501908662588456,
          -4.612168703820741,
          3.032804975682905,
          -0.6761293981340702,
          0.44955748776620347,
          -5.232158725962757,
          4.4774805956610635,
          -1.931662663459908,
          -5.603701486384827,
          -0.5311144000568948,
          -2.0600963233702982,
          -2.075439702756192,
          0.23361570410263238,
          -0.48216954191301814,
          7.308143043505326,
          5.359739433912329,
          -6.976560752851134,
          -2.53363742502913,
          -2.8887433730554397,
          9.254420806289243,
          0.8497207851968617,
          5.823670318288846,
          -2.256943553180357,
          -9.497147884743374,
          0.6772833094012204,
          -10,
          4.354163244761008,
          4.570340443318879,
          -4.64500662951833,
          7.796315494584187,
          -1.270458615590081,
          1.2768302366336721,
          1.4317645549846245,
          -2.488027664077627,
          -4.950966312577352,
          -4.107735462920428,
          5.303948611877471,
          2.278034597218359,
          -0.4107113130643363,
          -6.296546038650223,
          -4.886443134039926,
          -4.155171762728122,
          -7.574638348908319,
          -5.331648353904955,
          -7.149907964017236,
          -2.404678457344779,
          -1.6247573921153864,
          2.505004416684976,
          2.5312903321265505,
          4.1201014244843925,
          3.37007349090929,
          -0.6614283561636668,
          -3.4194195559343363,
          5.705325316144526,
          -5.956676923302114,
          -4.371956411352611,
          6.403804882590344,
          -1.823169162740436,
          -2.559401399469489
         ],
         "y": [
          0.08729562695524215,
          -1.0997866627285668,
          -1.1267208670347928,
          -1.4890410422800922,
          0.2450108178631398,
          1.8972090802977641,
          -1.3603242206914785,
          -0.7411662029543012,
          -2.038237993227261,
          1.4829524931218414,
          -0.5499024607265164,
          -0.4886775290020854,
          0.27862251292466406,
          -0.8528417171030982,
          -2.837783316554245,
          -1.454323062479998,
          1.074528281108887,
          1.9197304529102093,
          -1.2597821243027043,
          1.3169893667953152,
          -2.0130795572650277,
          -0.6363858865141329,
          -1.9128603380057516,
          2.529381325273694,
          -0.32356977268402765,
          0.46765827378023966,
          0.5566884587580231,
          0.2217140584437955,
          -0.6668647595296796,
          -1.3610651695064853,
          3.3011811540602665,
          1.2251872688138206,
          2.3043721056857636,
          0.1162023027204254,
          5.180023630566523,
          -2.5059195481100813,
          -1.4690641647261908,
          3.2702873852838854,
          -2.600587053162034,
          5.730345482409854,
          0.6035106953640774,
          -4.270301423585101,
          0.6257203604597488,
          2.11502228456973,
          1.041945207043947,
          -0.2900080281569269,
          -0.05949316701485903,
          -3.9336068041603602,
          2.4904605619173172,
          -0.5522335788326096,
          1.9279497496218265,
          0.808582033465771,
          -0.8691727110282242,
          1.590793053944569,
          -4.5401754619799,
          1.7826407527135657,
          -1.768798142391317,
          -3.130058708055574,
          -0.6892681504624992,
          7.031106888911134,
          4.163482440459657,
          -0.8970124621449401,
          -0.2737308498573265,
          -1.1402606405810503,
          3.695446926436317,
          -2.6392715852742312,
          -0.032738271650542654,
          -5.915583752117525,
          -1.6929050174223288,
          3.207838979861504,
          0.2446524990743301,
          -7.141761585076444,
          -3.5372989090830074,
          4.431753721340509,
          4.395121545276051,
          -0.6016106382064824,
          -4.569465809281608,
          -0.47520955753360067,
          0.09815601589401775,
          -1.9284068258612954,
          -0.026396560100586202,
          -1.8662783100739024,
          1.986386635107708,
          2.5294051654407244,
          0.9393070070786147,
          -2.9301486262750824,
          -2.3850239292488693,
          -1.1275387947980908,
          0.4582505196316311,
          -1.8918089524318455,
          -4.958802735142486,
          -0.25880223127454594,
          -0.41673347532817956,
          2.0432706033544807,
          -1.7236915086257525,
          1.5427168724194769,
          -0.3240793232931015,
          -2.8174163552556486,
          1.2763256349969767,
          2.7845986724262572,
          4.912508440172477,
          3.0622480007958446,
          -1.3895146850233187,
          -4.164525632025935,
          -1.8353514027354207,
          1.6310191007235413,
          -0.35121483022591476,
          0.3315977991173817,
          0.7888821748380945,
          0.8169689526477129,
          -1.2364382426670664,
          -2.7685496815160637,
          -0.3467240692002984,
          -3.8584178775425744,
          2.5993703294181927,
          0.5749817057672916,
          -3.4888983391931223,
          -3.8543436802717936,
          0.7537304814457692,
          -0.11143982994852143,
          1.8104305909514335,
          7.692832386284371,
          3.631369468504682,
          1.4774087534326086,
          -2.2632883059201516,
          -4.265615324647684,
          -5.342884791375104,
          -5.614391189756507,
          2.9486168713129963,
          -3.0480031622845334,
          1.9244907865151502,
          6.23755359899205,
          5.095182854969124,
          0.14616720180565101,
          2.655671921763259,
          0.9155232827581711,
          5.2417539654376375,
          -3.034645573085048,
          2.5119513660787716,
          2.9041921156924393,
          -0.22654504879571163,
          -1.1969633235461317,
          -2.682542929435129,
          0.5531736361690475,
          0.10965125024817524,
          -3.0873808528965423,
          1.629029410208228,
          -1.8600203826450878,
          4.46274305478537,
          -1.797969593258604,
          -0.3572926915709365,
          1.6758184244187866,
          -3.8198633487361833,
          -3.91899091393785,
          -3.451022931684205,
          -2.1963151523615903,
          0.8744924953033426,
          -2.6185108751661152,
          -0.9227947832187213,
          4.027358959718725,
          4.5384662185819336,
          -0.5826257412960363,
          -3.972562549298489,
          3.917236883626839,
          3.217942945402467,
          2.1124830718970875,
          -2.8185923706582754,
          6.493553239053409,
          3.6200170407053385,
          2.9770325771416988,
          -1.7754111187985913,
          1.8667278801847302,
          2.314024508593084,
          -2.5111193774589315,
          -5.9445295519671655,
          -4.054259323219808,
          5.476317108163902,
          -2.115306543295012,
          0.21108769201998792,
          -1.5323218022450078,
          0.18635147587453943,
          -5.053841479446893,
          1.2742439006147273,
          1.0530612370167318,
          -3.320568222997253,
          -5.795739503850778,
          1.9016454867455823,
          -2.1386232168720447,
          2.622986534011405,
          -3.030060026220267,
          3.26700614253583,
          4.354498488740533,
          5.757105904132111,
          -1.5760622047335133,
          3.633333936085621,
          -1.0828279460316783,
          0.7182657685922382,
          3.2541798314182047,
          -5.391782279090043,
          0.9851592522879178,
          0.5310804437830741,
          0.17774438868773704,
          2.532981275402851,
          2.336752031698474,
          -4.5084751331872805,
          -2.6147031767587285,
          2.7164232944211686,
          -3.430596865903789,
          1.721599593143887,
          2.829963399082207,
          -6.082325013901944,
          -3.3964962082791903,
          3.4888770701948317,
          -1.6910444463691336,
          -3.3339179258129135,
          5.921164731637044,
          -3.1245248793663745,
          1.9024759780342981,
          0.9138296327382182,
          -3.5853771465815747,
          3.205816736482075,
          0.26704772269921734,
          3.2793554725296037,
          5.334334137616411,
          -8.366274112428801,
          -0.3494818958653079,
          4.841885027917991,
          1.9129672434962914,
          -4.229583573802577,
          -3.8313732936791443,
          -3.3529876533418297,
          5.278258047084037,
          -1.287752541429568,
          4.128656904703157,
          -3.6902727695010964,
          5.0544711289170445
         ]
        }
       ],
       "layout": {
        "height": 600,
        "hovermode": "closest",
        "margin": {
         "b": 5,
         "l": 5,
         "r": 5,
         "t": 30
        },
        "showlegend": false,
        "template": {
         "data": {
          "bar": [
           {
            "error_x": {
             "color": "#2a3f5f"
            },
            "error_y": {
             "color": "#2a3f5f"
            },
            "marker": {
             "line": {
              "color": "#E5ECF6",
              "width": 0.5
             },
             "pattern": {
              "fillmode": "overlay",
              "size": 10,
              "solidity": 0.2
             }
            },
            "type": "bar"
           }
          ],
          "barpolar": [
           {
            "marker": {
             "line": {
              "color": "#E5ECF6",
              "width": 0.5
             },
             "pattern": {
              "fillmode": "overlay",
              "size": 10,
              "solidity": 0.2
             }
            },
            "type": "barpolar"
           }
          ],
          "carpet": [
           {
            "aaxis": {
             "endlinecolor": "#2a3f5f",
             "gridcolor": "white",
             "linecolor": "white",
             "minorgridcolor": "white",
             "startlinecolor": "#2a3f5f"
            },
            "baxis": {
             "endlinecolor": "#2a3f5f",
             "gridcolor": "white",
             "linecolor": "white",
             "minorgridcolor": "white",
             "startlinecolor": "#2a3f5f"
            },
            "type": "carpet"
           }
          ],
          "choropleth": [
           {
            "colorbar": {
             "outlinewidth": 0,
             "ticks": ""
            },
            "type": "choropleth"
           }
          ],
          "contour": [
           {
            "colorbar": {
             "outlinewidth": 0,
             "ticks": ""
            },
            "colorscale": [
             [
              0,
              "#0d0887"
             ],
             [
              0.1111111111111111,
              "#46039f"
             ],
             [
              0.2222222222222222,
              "#7201a8"
             ],
             [
              0.3333333333333333,
              "#9c179e"
             ],
             [
              0.4444444444444444,
              "#bd3786"
             ],
             [
              0.5555555555555556,
              "#d8576b"
             ],
             [
              0.6666666666666666,
              "#ed7953"
             ],
             [
              0.7777777777777778,
              "#fb9f3a"
             ],
             [
              0.8888888888888888,
              "#fdca26"
             ],
             [
              1,
              "#f0f921"
             ]
            ],
            "type": "contour"
           }
          ],
          "contourcarpet": [
           {
            "colorbar": {
             "outlinewidth": 0,
             "ticks": ""
            },
            "type": "contourcarpet"
           }
          ],
          "heatmap": [
           {
            "colorbar": {
             "outlinewidth": 0,
             "ticks": ""
            },
            "colorscale": [
             [
              0,
              "#0d0887"
             ],
             [
              0.1111111111111111,
              "#46039f"
             ],
             [
              0.2222222222222222,
              "#7201a8"
             ],
             [
              0.3333333333333333,
              "#9c179e"
             ],
             [
              0.4444444444444444,
              "#bd3786"
             ],
             [
              0.5555555555555556,
              "#d8576b"
             ],
             [
              0.6666666666666666,
              "#ed7953"
             ],
             [
              0.7777777777777778,
              "#fb9f3a"
             ],
             [
              0.8888888888888888,
              "#fdca26"
             ],
             [
              1,
              "#f0f921"
             ]
            ],
            "type": "heatmap"
           }
          ],
          "heatmapgl": [
           {
            "colorbar": {
             "outlinewidth": 0,
             "ticks": ""
            },
            "colorscale": [
             [
              0,
              "#0d0887"
             ],
             [
              0.1111111111111111,
              "#46039f"
             ],
             [
              0.2222222222222222,
              "#7201a8"
             ],
             [
              0.3333333333333333,
              "#9c179e"
             ],
             [
              0.4444444444444444,
              "#bd3786"
             ],
             [
              0.5555555555555556,
              "#d8576b"
             ],
             [
              0.6666666666666666,
              "#ed7953"
             ],
             [
              0.7777777777777778,
              "#fb9f3a"
             ],
             [
              0.8888888888888888,
              "#fdca26"
             ],
             [
              1,
              "#f0f921"
             ]
            ],
            "type": "heatmapgl"
           }
          ],
          "histogram": [
           {
            "marker": {
             "pattern": {
              "fillmode": "overlay",
              "size": 10,
              "solidity": 0.2
             }
            },
            "type": "histogram"
           }
          ],
          "histogram2d": [
           {
            "colorbar": {
             "outlinewidth": 0,
             "ticks": ""
            },
            "colorscale": [
             [
              0,
              "#0d0887"
             ],
             [
              0.1111111111111111,
              "#46039f"
             ],
             [
              0.2222222222222222,
              "#7201a8"
             ],
             [
              0.3333333333333333,
              "#9c179e"
             ],
             [
              0.4444444444444444,
              "#bd3786"
             ],
             [
              0.5555555555555556,
              "#d8576b"
             ],
             [
              0.6666666666666666,
              "#ed7953"
             ],
             [
              0.7777777777777778,
              "#fb9f3a"
             ],
             [
              0.8888888888888888,
              "#fdca26"
             ],
             [
              1,
              "#f0f921"
             ]
            ],
            "type": "histogram2d"
           }
          ],
          "histogram2dcontour": [
           {
            "colorbar": {
             "outlinewidth": 0,
             "ticks": ""
            },
            "colorscale": [
             [
              0,
              "#0d0887"
             ],
             [
              0.1111111111111111,
              "#46039f"
             ],
             [
              0.2222222222222222,
              "#7201a8"
             ],
             [
              0.3333333333333333,
              "#9c179e"
             ],
             [
              0.4444444444444444,
              "#bd3786"
             ],
             [
              0.5555555555555556,
              "#d8576b"
             ],
             [
              0.6666666666666666,
              "#ed7953"
             ],
             [
              0.7777777777777778,
              "#fb9f3a"
             ],
             [
              0.8888888888888888,
              "#fdca26"
             ],
             [
              1,
              "#f0f921"
             ]
            ],
            "type": "histogram2dcontour"
           }
          ],
          "mesh3d": [
           {
            "colorbar": {
             "outlinewidth": 0,
             "ticks": ""
            },
            "type": "mesh3d"
           }
          ],
          "parcoords": [
           {
            "line": {
             "colorbar": {
              "outlinewidth": 0,
              "ticks": ""
             }
            },
            "type": "parcoords"
           }
          ],
          "pie": [
           {
            "automargin": true,
            "type": "pie"
           }
          ],
          "scatter": [
           {
            "fillpattern": {
             "fillmode": "overlay",
             "size": 10,
             "solidity": 0.2
            },
            "type": "scatter"
           }
          ],
          "scatter3d": [
           {
            "line": {
             "colorbar": {
              "outlinewidth": 0,
              "ticks": ""
             }
            },
            "marker": {
             "colorbar": {
              "outlinewidth": 0,
              "ticks": ""
             }
            },
            "type": "scatter3d"
           }
          ],
          "scattercarpet": [
           {
            "marker": {
             "colorbar": {
              "outlinewidth": 0,
              "ticks": ""
             }
            },
            "type": "scattercarpet"
           }
          ],
          "scattergeo": [
           {
            "marker": {
             "colorbar": {
              "outlinewidth": 0,
              "ticks": ""
             }
            },
            "type": "scattergeo"
           }
          ],
          "scattergl": [
           {
            "marker": {
             "colorbar": {
              "outlinewidth": 0,
              "ticks": ""
             }
            },
            "type": "scattergl"
           }
          ],
          "scattermapbox": [
           {
            "marker": {
             "colorbar": {
              "outlinewidth": 0,
              "ticks": ""
             }
            },
            "type": "scattermapbox"
           }
          ],
          "scatterpolar": [
           {
            "marker": {
             "colorbar": {
              "outlinewidth": 0,
              "ticks": ""
             }
            },
            "type": "scatterpolar"
           }
          ],
          "scatterpolargl": [
           {
            "marker": {
             "colorbar": {
              "outlinewidth": 0,
              "ticks": ""
             }
            },
            "type": "scatterpolargl"
           }
          ],
          "scatterternary": [
           {
            "marker": {
             "colorbar": {
              "outlinewidth": 0,
              "ticks": ""
             }
            },
            "type": "scatterternary"
           }
          ],
          "surface": [
           {
            "colorbar": {
             "outlinewidth": 0,
             "ticks": ""
            },
            "colorscale": [
             [
              0,
              "#0d0887"
             ],
             [
              0.1111111111111111,
              "#46039f"
             ],
             [
              0.2222222222222222,
              "#7201a8"
             ],
             [
              0.3333333333333333,
              "#9c179e"
             ],
             [
              0.4444444444444444,
              "#bd3786"
             ],
             [
              0.5555555555555556,
              "#d8576b"
             ],
             [
              0.6666666666666666,
              "#ed7953"
             ],
             [
              0.7777777777777778,
              "#fb9f3a"
             ],
             [
              0.8888888888888888,
              "#fdca26"
             ],
             [
              1,
              "#f0f921"
             ]
            ],
            "type": "surface"
           }
          ],
          "table": [
           {
            "cells": {
             "fill": {
              "color": "#EBF0F8"
             },
             "line": {
              "color": "white"
             }
            },
            "header": {
             "fill": {
              "color": "#C8D4E3"
             },
             "line": {
              "color": "white"
             }
            },
            "type": "table"
           }
          ]
         },
         "layout": {
          "annotationdefaults": {
           "arrowcolor": "#2a3f5f",
           "arrowhead": 0,
           "arrowwidth": 1
          },
          "autotypenumbers": "strict",
          "coloraxis": {
           "colorbar": {
            "outlinewidth": 0,
            "ticks": ""
           }
          },
          "colorscale": {
           "diverging": [
            [
             0,
             "#8e0152"
            ],
            [
             0.1,
             "#c51b7d"
            ],
            [
             0.2,
             "#de77ae"
            ],
            [
             0.3,
             "#f1b6da"
            ],
            [
             0.4,
             "#fde0ef"
            ],
            [
             0.5,
             "#f7f7f7"
            ],
            [
             0.6,
             "#e6f5d0"
            ],
            [
             0.7,
             "#b8e186"
            ],
            [
             0.8,
             "#7fbc41"
            ],
            [
             0.9,
             "#4d9221"
            ],
            [
             1,
             "#276419"
            ]
           ],
           "sequential": [
            [
             0,
             "#0d0887"
            ],
            [
             0.1111111111111111,
             "#46039f"
            ],
            [
             0.2222222222222222,
             "#7201a8"
            ],
            [
             0.3333333333333333,
             "#9c179e"
            ],
            [
             0.4444444444444444,
             "#bd3786"
            ],
            [
             0.5555555555555556,
             "#d8576b"
            ],
            [
             0.6666666666666666,
             "#ed7953"
            ],
            [
             0.7777777777777778,
             "#fb9f3a"
            ],
            [
             0.8888888888888888,
             "#fdca26"
            ],
            [
             1,
             "#f0f921"
            ]
           ],
           "sequentialminus": [
            [
             0,
             "#0d0887"
            ],
            [
             0.1111111111111111,
             "#46039f"
            ],
            [
             0.2222222222222222,
             "#7201a8"
            ],
            [
             0.3333333333333333,
             "#9c179e"
            ],
            [
             0.4444444444444444,
             "#bd3786"
            ],
            [
             0.5555555555555556,
             "#d8576b"
            ],
            [
             0.6666666666666666,
             "#ed7953"
            ],
            [
             0.7777777777777778,
             "#fb9f3a"
            ],
            [
             0.8888888888888888,
             "#fdca26"
            ],
            [
             1,
             "#f0f921"
            ]
           ]
          },
          "colorway": [
           "#636efa",
           "#EF553B",
           "#00cc96",
           "#ab63fa",
           "#FFA15A",
           "#19d3f3",
           "#FF6692",
           "#B6E880",
           "#FF97FF",
           "#FECB52"
          ],
          "font": {
           "color": "#2a3f5f"
          },
          "geo": {
           "bgcolor": "white",
           "lakecolor": "white",
           "landcolor": "#E5ECF6",
           "showlakes": true,
           "showland": true,
           "subunitcolor": "white"
          },
          "hoverlabel": {
           "align": "left"
          },
          "hovermode": "closest",
          "mapbox": {
           "style": "light"
          },
          "paper_bgcolor": "white",
          "plot_bgcolor": "#E5ECF6",
          "polar": {
           "angularaxis": {
            "gridcolor": "white",
            "linecolor": "white",
            "ticks": ""
           },
           "bgcolor": "#E5ECF6",
           "radialaxis": {
            "gridcolor": "white",
            "linecolor": "white",
            "ticks": ""
           }
          },
          "scene": {
           "xaxis": {
            "backgroundcolor": "#E5ECF6",
            "gridcolor": "white",
            "gridwidth": 2,
            "linecolor": "white",
            "showbackground": true,
            "ticks": "",
            "zerolinecolor": "white"
           },
           "yaxis": {
            "backgroundcolor": "#E5ECF6",
            "gridcolor": "white",
            "gridwidth": 2,
            "linecolor": "white",
            "showbackground": true,
            "ticks": "",
            "zerolinecolor": "white"
           },
           "zaxis": {
            "backgroundcolor": "#E5ECF6",
            "gridcolor": "white",
            "gridwidth": 2,
            "linecolor": "white",
            "showbackground": true,
            "ticks": "",
            "zerolinecolor": "white"
           }
          },
          "shapedefaults": {
           "line": {
            "color": "#2a3f5f"
           }
          },
          "ternary": {
           "aaxis": {
            "gridcolor": "white",
            "linecolor": "white",
            "ticks": ""
           },
           "baxis": {
            "gridcolor": "white",
            "linecolor": "white",
            "ticks": ""
           },
           "bgcolor": "#E5ECF6",
           "caxis": {
            "gridcolor": "white",
            "linecolor": "white",
            "ticks": ""
           }
          },
          "title": {
           "x": 0.05
          },
          "xaxis": {
           "automargin": true,
           "gridcolor": "white",
           "linecolor": "white",
           "ticks": "",
           "title": {
            "standoff": 15
           },
           "zerolinecolor": "white",
           "zerolinewidth": 2
          },
          "yaxis": {
           "automargin": true,
           "gridcolor": "white",
           "linecolor": "white",
           "ticks": "",
           "title": {
            "standoff": 15
           },
           "zerolinecolor": "white",
           "zerolinewidth": 2
          }
         }
        },
        "title": {
         "font": {
          "size": 16
         },
         "text": "Network after 250 iterations, rho=3",
         "x": 0.5,
         "y": 0.98
        },
        "width": 600,
        "xaxis": {
         "showgrid": false,
         "showticklabels": false,
         "zeroline": false
        },
        "yaxis": {
         "showgrid": false,
         "showticklabels": false,
         "zeroline": false
        }
       }
      }
     },
     "metadata": {},
     "output_type": "display_data"
    }
   ],
   "source": [
    "\n",
    "# parameter selection\n",
    "\n",
    "# initial nodes and time\n",
    "initial_n = 0\n",
    "T = 250\n",
    "\n",
    "p = 0.25\n",
    "\n",
    "# parent nodes and prob\n",
    "m = 8\n",
    "pm_o = p\n",
    "\n",
    "# parent neighbours and prob\n",
    "n = 4\n",
    "pn_o = p\n",
    "\n",
    "rho = 3\n",
    "\n",
    "# p high SES\n",
    "p_SES_high = 0.5\n",
    "\n",
    "new_sim = JacksonSimulationV2(initial_n, T, m, pm_o, n, pn_o, p_SES_high, biased=True, rho=rho)\n",
    "\n",
    "\n",
    "plotly_sim_drawing.plotly_draw(plotly_sim_drawing(), new_sim, layout='spring', draw_largest_CC=True, title=f'Network after {T} iterations, rho={rho}')\n",
    "\n",
    "\n",
    "\n"
   ]
  },
  {
   "attachments": {},
   "cell_type": "markdown",
   "metadata": {},
   "source": [
    "## Testing"
   ]
  },
  {
   "attachments": {},
   "cell_type": "markdown",
   "metadata": {},
   "source": [
    "### Rho effect on HSES assortativity"
   ]
  },
  {
   "cell_type": "code",
   "execution_count": 260,
   "metadata": {},
   "outputs": [],
   "source": [
    "\n",
    "# initial nodes and time\n",
    "initial_n = 0\n",
    "T = 100\n",
    "\n",
    "p = 0.25\n",
    "\n",
    "# parent nodes and prob\n",
    "m = 4\n",
    "pm_o = p\n",
    "\n",
    "# parent neighbours and prob\n",
    "n = 16\n",
    "pn_o = p\n",
    "\n",
    "rho = 3\n",
    "\n",
    "# p high SES\n",
    "p_SES_high = 0.5\n",
    "\n",
    "rho_list = np.arange(0.25, 5, 0.05)\n",
    "rho_list = [rho_val for rho_val in rho_list]\n",
    "test_sims = [JacksonSimulationV2(initial_n, T, m, pm_o, n, pn_o, p_SES_high, biased=True, rho=rho_val) for rho_val in rho_list]\n",
    "\n",
    "\n",
    "SES_assortativity_list = [nx.assortativity.attribute_assortativity_coefficient(sim.graph_history[-1], 'SES_High') for sim in test_sims]\n",
    "\n",
    "\n",
    "#plt.plot(rho_list, SES_assortativity_list)\n",
    "\n",
    "\n",
    "\n",
    "\n"
   ]
  },
  {
   "cell_type": "code",
   "execution_count": 279,
   "metadata": {},
   "outputs": [
    {
     "data": {
      "application/vnd.plotly.v1+json": {
       "config": {
        "plotlyServerURL": "https://plot.ly"
       },
       "data": [
        {
         "hovertemplate": "Rho=%{x}<br>SES Assortativity=%{y}<extra></extra>",
         "legendgroup": "",
         "line": {
          "color": "rgb(250, 20, 250)",
          "dash": "solid"
         },
         "marker": {
          "symbol": "circle"
         },
         "mode": "lines",
         "name": "",
         "orientation": "v",
         "showlegend": false,
         "type": "scatter",
         "x": [
          0.25,
          0.3,
          0.35,
          0.39999999999999997,
          0.44999999999999996,
          0.49999999999999994,
          0.5499999999999999,
          0.5999999999999999,
          0.6499999999999999,
          0.7,
          0.7499999999999999,
          0.7999999999999998,
          0.8499999999999999,
          0.8999999999999999,
          0.9499999999999998,
          0.9999999999999998,
          1.0499999999999998,
          1.0999999999999999,
          1.15,
          1.1999999999999997,
          1.2499999999999998,
          1.2999999999999998,
          1.3499999999999996,
          1.3999999999999997,
          1.4499999999999997,
          1.4999999999999998,
          1.5499999999999998,
          1.5999999999999996,
          1.6499999999999997,
          1.6999999999999997,
          1.7499999999999996,
          1.7999999999999996,
          1.8499999999999996,
          1.8999999999999997,
          1.9499999999999997,
          1.9999999999999996,
          2.05,
          2.0999999999999996,
          2.1499999999999995,
          2.1999999999999993,
          2.2499999999999996,
          2.2999999999999994,
          2.3499999999999996,
          2.3999999999999995,
          2.4499999999999993,
          2.4999999999999996,
          2.5499999999999994,
          2.5999999999999996,
          2.6499999999999995,
          2.6999999999999993,
          2.7499999999999996,
          2.7999999999999994,
          2.8499999999999996,
          2.8999999999999995,
          2.9499999999999993,
          2.9999999999999996,
          3.0499999999999994,
          3.099999999999999,
          3.1499999999999995,
          3.1999999999999993,
          3.249999999999999,
          3.2999999999999994,
          3.349999999999999,
          3.3999999999999995,
          3.4499999999999993,
          3.499999999999999,
          3.5499999999999994,
          3.599999999999999,
          3.6499999999999995,
          3.6999999999999993,
          3.749999999999999,
          3.7999999999999994,
          3.849999999999999,
          3.899999999999999,
          3.9499999999999993,
          3.999999999999999,
          4.049999999999999,
          4.1,
          4.149999999999999,
          4.199999999999999,
          4.249999999999999,
          4.299999999999999,
          4.349999999999999,
          4.3999999999999995,
          4.449999999999999,
          4.499999999999999,
          4.549999999999999,
          4.599999999999999,
          4.649999999999999,
          4.699999999999999,
          4.749999999999999,
          4.799999999999999,
          4.849999999999999,
          4.899999999999999,
          4.949999999999999
         ],
         "xaxis": "x",
         "y": [
          -0.5727909642621892,
          -0.5415654465351835,
          -0.4466832905917248,
          -0.40298824341179873,
          -0.40414861658875895,
          -0.27768856110020695,
          -0.22716522980584242,
          -0.2492198520925063,
          -0.1981660723382579,
          -0.16982386174808897,
          -0.09799552016118261,
          -0.13989687594783137,
          -0.13004032258064543,
          -0.06336429308565544,
          -0.03252305739143399,
          0.022399682836349175,
          0.041023997218343766,
          0.06840947299569151,
          0.03119682359614295,
          0.08085867620751346,
          0.13226898887276228,
          0.07804329591490738,
          0.13968547641073076,
          0.18821611890918816,
          0.1610969969383102,
          0.14326893380460523,
          0.22392862366535027,
          0.16422672672672683,
          0.17898193760262715,
          0.14947797300738486,
          0.3017258382642997,
          0.3251811594202899,
          0.24320869287312252,
          0.3937728937728938,
          0.31899039722936434,
          0.3209094374220931,
          0.2689583441676633,
          0.33236842105263154,
          0.38245614035087705,
          0.3176730995365567,
          0.25726827510523637,
          0.3267177838238931,
          0.44154992911909524,
          0.3850361545090106,
          0.28748531906564,
          0.2701298701298701,
          0.6157673172598545,
          0.3032600946270011,
          0.49630793401414,
          0.4511680270194202,
          0.4565302144249514,
          0.5125973431058176,
          0.5254615961572219,
          0.28154706795154333,
          0.39609669798116653,
          0.4578343812994779,
          0.4876380139538035,
          0.516327336303649,
          0.5449834424530449,
          0.4953087167070219,
          0.47724430427926684,
          0.5669172932330828,
          0.6087431693989072,
          0.578409090909091,
          0.42819499341238465,
          0.5022103488852844,
          0.46171401589675,
          0.4279103632392201,
          0.520421607378129,
          0.589010989010989,
          0.6635569523149638,
          0.5537001897533206,
          0.5927374199115127,
          0.6248196248196246,
          0.5254407051282053,
          0.45304437564499467,
          0.5278455284552847,
          0.6335232668566001,
          0.5644028103044496,
          0.6710526315789473,
          0.5088276836158191,
          0.6075036075036075,
          0.6818610782389862,
          0.5044025157232703,
          0.5961591422329118,
          0.6474497126436782,
          0.5846870520783565,
          0.6622915650902,
          0.6390577507598785,
          0.710352264557872,
          0.7267508610792194,
          0.6107282547960514,
          0.5709149607454692,
          0.6286542443064183,
          0.7224425059476606
         ],
         "yaxis": "y"
        }
       ],
       "layout": {
        "annotations": [
         {
          "showarrow": false,
          "text": "Equal share",
          "x": 1,
          "xanchor": "right",
          "xref": "x domain",
          "y": 0,
          "yanchor": "bottom",
          "yref": "y"
         },
         {
          "showarrow": false,
          "text": "rho=1: no bias",
          "x": 1,
          "xanchor": "left",
          "xref": "x",
          "y": 1,
          "yanchor": "top",
          "yref": "y domain"
         }
        ],
        "font": {
         "size": 18
        },
        "height": 500,
        "legend": {
         "title": {
          "text": ""
         },
         "tracegroupgap": 0,
         "x": 0.75,
         "y": 1
        },
        "margin": {
         "b": 5,
         "l": 5,
         "r": 5,
         "t": 5
        },
        "plot_bgcolor": "rgba(0,0,0,0)",
        "shapes": [
         {
          "line": {
           "width": 1
          },
          "type": "line",
          "x0": 0,
          "x1": 1,
          "xref": "x domain",
          "y0": 0,
          "y1": 0,
          "yref": "y"
         },
         {
          "line": {
           "width": 1
          },
          "type": "line",
          "x0": 1,
          "x1": 1,
          "xref": "x",
          "y0": 0,
          "y1": 1,
          "yref": "y domain"
         }
        ],
        "showlegend": true,
        "template": {
         "data": {
          "bar": [
           {
            "error_x": {
             "color": "#2a3f5f"
            },
            "error_y": {
             "color": "#2a3f5f"
            },
            "marker": {
             "line": {
              "color": "#E5ECF6",
              "width": 0.5
             },
             "pattern": {
              "fillmode": "overlay",
              "size": 10,
              "solidity": 0.2
             }
            },
            "type": "bar"
           }
          ],
          "barpolar": [
           {
            "marker": {
             "line": {
              "color": "#E5ECF6",
              "width": 0.5
             },
             "pattern": {
              "fillmode": "overlay",
              "size": 10,
              "solidity": 0.2
             }
            },
            "type": "barpolar"
           }
          ],
          "carpet": [
           {
            "aaxis": {
             "endlinecolor": "#2a3f5f",
             "gridcolor": "white",
             "linecolor": "white",
             "minorgridcolor": "white",
             "startlinecolor": "#2a3f5f"
            },
            "baxis": {
             "endlinecolor": "#2a3f5f",
             "gridcolor": "white",
             "linecolor": "white",
             "minorgridcolor": "white",
             "startlinecolor": "#2a3f5f"
            },
            "type": "carpet"
           }
          ],
          "choropleth": [
           {
            "colorbar": {
             "outlinewidth": 0,
             "ticks": ""
            },
            "type": "choropleth"
           }
          ],
          "contour": [
           {
            "colorbar": {
             "outlinewidth": 0,
             "ticks": ""
            },
            "colorscale": [
             [
              0,
              "#0d0887"
             ],
             [
              0.1111111111111111,
              "#46039f"
             ],
             [
              0.2222222222222222,
              "#7201a8"
             ],
             [
              0.3333333333333333,
              "#9c179e"
             ],
             [
              0.4444444444444444,
              "#bd3786"
             ],
             [
              0.5555555555555556,
              "#d8576b"
             ],
             [
              0.6666666666666666,
              "#ed7953"
             ],
             [
              0.7777777777777778,
              "#fb9f3a"
             ],
             [
              0.8888888888888888,
              "#fdca26"
             ],
             [
              1,
              "#f0f921"
             ]
            ],
            "type": "contour"
           }
          ],
          "contourcarpet": [
           {
            "colorbar": {
             "outlinewidth": 0,
             "ticks": ""
            },
            "type": "contourcarpet"
           }
          ],
          "heatmap": [
           {
            "colorbar": {
             "outlinewidth": 0,
             "ticks": ""
            },
            "colorscale": [
             [
              0,
              "#0d0887"
             ],
             [
              0.1111111111111111,
              "#46039f"
             ],
             [
              0.2222222222222222,
              "#7201a8"
             ],
             [
              0.3333333333333333,
              "#9c179e"
             ],
             [
              0.4444444444444444,
              "#bd3786"
             ],
             [
              0.5555555555555556,
              "#d8576b"
             ],
             [
              0.6666666666666666,
              "#ed7953"
             ],
             [
              0.7777777777777778,
              "#fb9f3a"
             ],
             [
              0.8888888888888888,
              "#fdca26"
             ],
             [
              1,
              "#f0f921"
             ]
            ],
            "type": "heatmap"
           }
          ],
          "heatmapgl": [
           {
            "colorbar": {
             "outlinewidth": 0,
             "ticks": ""
            },
            "colorscale": [
             [
              0,
              "#0d0887"
             ],
             [
              0.1111111111111111,
              "#46039f"
             ],
             [
              0.2222222222222222,
              "#7201a8"
             ],
             [
              0.3333333333333333,
              "#9c179e"
             ],
             [
              0.4444444444444444,
              "#bd3786"
             ],
             [
              0.5555555555555556,
              "#d8576b"
             ],
             [
              0.6666666666666666,
              "#ed7953"
             ],
             [
              0.7777777777777778,
              "#fb9f3a"
             ],
             [
              0.8888888888888888,
              "#fdca26"
             ],
             [
              1,
              "#f0f921"
             ]
            ],
            "type": "heatmapgl"
           }
          ],
          "histogram": [
           {
            "marker": {
             "pattern": {
              "fillmode": "overlay",
              "size": 10,
              "solidity": 0.2
             }
            },
            "type": "histogram"
           }
          ],
          "histogram2d": [
           {
            "colorbar": {
             "outlinewidth": 0,
             "ticks": ""
            },
            "colorscale": [
             [
              0,
              "#0d0887"
             ],
             [
              0.1111111111111111,
              "#46039f"
             ],
             [
              0.2222222222222222,
              "#7201a8"
             ],
             [
              0.3333333333333333,
              "#9c179e"
             ],
             [
              0.4444444444444444,
              "#bd3786"
             ],
             [
              0.5555555555555556,
              "#d8576b"
             ],
             [
              0.6666666666666666,
              "#ed7953"
             ],
             [
              0.7777777777777778,
              "#fb9f3a"
             ],
             [
              0.8888888888888888,
              "#fdca26"
             ],
             [
              1,
              "#f0f921"
             ]
            ],
            "type": "histogram2d"
           }
          ],
          "histogram2dcontour": [
           {
            "colorbar": {
             "outlinewidth": 0,
             "ticks": ""
            },
            "colorscale": [
             [
              0,
              "#0d0887"
             ],
             [
              0.1111111111111111,
              "#46039f"
             ],
             [
              0.2222222222222222,
              "#7201a8"
             ],
             [
              0.3333333333333333,
              "#9c179e"
             ],
             [
              0.4444444444444444,
              "#bd3786"
             ],
             [
              0.5555555555555556,
              "#d8576b"
             ],
             [
              0.6666666666666666,
              "#ed7953"
             ],
             [
              0.7777777777777778,
              "#fb9f3a"
             ],
             [
              0.8888888888888888,
              "#fdca26"
             ],
             [
              1,
              "#f0f921"
             ]
            ],
            "type": "histogram2dcontour"
           }
          ],
          "mesh3d": [
           {
            "colorbar": {
             "outlinewidth": 0,
             "ticks": ""
            },
            "type": "mesh3d"
           }
          ],
          "parcoords": [
           {
            "line": {
             "colorbar": {
              "outlinewidth": 0,
              "ticks": ""
             }
            },
            "type": "parcoords"
           }
          ],
          "pie": [
           {
            "automargin": true,
            "type": "pie"
           }
          ],
          "scatter": [
           {
            "fillpattern": {
             "fillmode": "overlay",
             "size": 10,
             "solidity": 0.2
            },
            "type": "scatter"
           }
          ],
          "scatter3d": [
           {
            "line": {
             "colorbar": {
              "outlinewidth": 0,
              "ticks": ""
             }
            },
            "marker": {
             "colorbar": {
              "outlinewidth": 0,
              "ticks": ""
             }
            },
            "type": "scatter3d"
           }
          ],
          "scattercarpet": [
           {
            "marker": {
             "colorbar": {
              "outlinewidth": 0,
              "ticks": ""
             }
            },
            "type": "scattercarpet"
           }
          ],
          "scattergeo": [
           {
            "marker": {
             "colorbar": {
              "outlinewidth": 0,
              "ticks": ""
             }
            },
            "type": "scattergeo"
           }
          ],
          "scattergl": [
           {
            "marker": {
             "colorbar": {
              "outlinewidth": 0,
              "ticks": ""
             }
            },
            "type": "scattergl"
           }
          ],
          "scattermapbox": [
           {
            "marker": {
             "colorbar": {
              "outlinewidth": 0,
              "ticks": ""
             }
            },
            "type": "scattermapbox"
           }
          ],
          "scatterpolar": [
           {
            "marker": {
             "colorbar": {
              "outlinewidth": 0,
              "ticks": ""
             }
            },
            "type": "scatterpolar"
           }
          ],
          "scatterpolargl": [
           {
            "marker": {
             "colorbar": {
              "outlinewidth": 0,
              "ticks": ""
             }
            },
            "type": "scatterpolargl"
           }
          ],
          "scatterternary": [
           {
            "marker": {
             "colorbar": {
              "outlinewidth": 0,
              "ticks": ""
             }
            },
            "type": "scatterternary"
           }
          ],
          "surface": [
           {
            "colorbar": {
             "outlinewidth": 0,
             "ticks": ""
            },
            "colorscale": [
             [
              0,
              "#0d0887"
             ],
             [
              0.1111111111111111,
              "#46039f"
             ],
             [
              0.2222222222222222,
              "#7201a8"
             ],
             [
              0.3333333333333333,
              "#9c179e"
             ],
             [
              0.4444444444444444,
              "#bd3786"
             ],
             [
              0.5555555555555556,
              "#d8576b"
             ],
             [
              0.6666666666666666,
              "#ed7953"
             ],
             [
              0.7777777777777778,
              "#fb9f3a"
             ],
             [
              0.8888888888888888,
              "#fdca26"
             ],
             [
              1,
              "#f0f921"
             ]
            ],
            "type": "surface"
           }
          ],
          "table": [
           {
            "cells": {
             "fill": {
              "color": "#EBF0F8"
             },
             "line": {
              "color": "white"
             }
            },
            "header": {
             "fill": {
              "color": "#C8D4E3"
             },
             "line": {
              "color": "white"
             }
            },
            "type": "table"
           }
          ]
         },
         "layout": {
          "annotationdefaults": {
           "arrowcolor": "#2a3f5f",
           "arrowhead": 0,
           "arrowwidth": 1
          },
          "autotypenumbers": "strict",
          "coloraxis": {
           "colorbar": {
            "outlinewidth": 0,
            "ticks": ""
           }
          },
          "colorscale": {
           "diverging": [
            [
             0,
             "#8e0152"
            ],
            [
             0.1,
             "#c51b7d"
            ],
            [
             0.2,
             "#de77ae"
            ],
            [
             0.3,
             "#f1b6da"
            ],
            [
             0.4,
             "#fde0ef"
            ],
            [
             0.5,
             "#f7f7f7"
            ],
            [
             0.6,
             "#e6f5d0"
            ],
            [
             0.7,
             "#b8e186"
            ],
            [
             0.8,
             "#7fbc41"
            ],
            [
             0.9,
             "#4d9221"
            ],
            [
             1,
             "#276419"
            ]
           ],
           "sequential": [
            [
             0,
             "#0d0887"
            ],
            [
             0.1111111111111111,
             "#46039f"
            ],
            [
             0.2222222222222222,
             "#7201a8"
            ],
            [
             0.3333333333333333,
             "#9c179e"
            ],
            [
             0.4444444444444444,
             "#bd3786"
            ],
            [
             0.5555555555555556,
             "#d8576b"
            ],
            [
             0.6666666666666666,
             "#ed7953"
            ],
            [
             0.7777777777777778,
             "#fb9f3a"
            ],
            [
             0.8888888888888888,
             "#fdca26"
            ],
            [
             1,
             "#f0f921"
            ]
           ],
           "sequentialminus": [
            [
             0,
             "#0d0887"
            ],
            [
             0.1111111111111111,
             "#46039f"
            ],
            [
             0.2222222222222222,
             "#7201a8"
            ],
            [
             0.3333333333333333,
             "#9c179e"
            ],
            [
             0.4444444444444444,
             "#bd3786"
            ],
            [
             0.5555555555555556,
             "#d8576b"
            ],
            [
             0.6666666666666666,
             "#ed7953"
            ],
            [
             0.7777777777777778,
             "#fb9f3a"
            ],
            [
             0.8888888888888888,
             "#fdca26"
            ],
            [
             1,
             "#f0f921"
            ]
           ]
          },
          "colorway": [
           "#636efa",
           "#EF553B",
           "#00cc96",
           "#ab63fa",
           "#FFA15A",
           "#19d3f3",
           "#FF6692",
           "#B6E880",
           "#FF97FF",
           "#FECB52"
          ],
          "font": {
           "color": "#2a3f5f"
          },
          "geo": {
           "bgcolor": "white",
           "lakecolor": "white",
           "landcolor": "#E5ECF6",
           "showlakes": true,
           "showland": true,
           "subunitcolor": "white"
          },
          "hoverlabel": {
           "align": "left"
          },
          "hovermode": "closest",
          "mapbox": {
           "style": "light"
          },
          "paper_bgcolor": "white",
          "plot_bgcolor": "#E5ECF6",
          "polar": {
           "angularaxis": {
            "gridcolor": "white",
            "linecolor": "white",
            "ticks": ""
           },
           "bgcolor": "#E5ECF6",
           "radialaxis": {
            "gridcolor": "white",
            "linecolor": "white",
            "ticks": ""
           }
          },
          "scene": {
           "xaxis": {
            "backgroundcolor": "#E5ECF6",
            "gridcolor": "white",
            "gridwidth": 2,
            "linecolor": "white",
            "showbackground": true,
            "ticks": "",
            "zerolinecolor": "white"
           },
           "yaxis": {
            "backgroundcolor": "#E5ECF6",
            "gridcolor": "white",
            "gridwidth": 2,
            "linecolor": "white",
            "showbackground": true,
            "ticks": "",
            "zerolinecolor": "white"
           },
           "zaxis": {
            "backgroundcolor": "#E5ECF6",
            "gridcolor": "white",
            "gridwidth": 2,
            "linecolor": "white",
            "showbackground": true,
            "ticks": "",
            "zerolinecolor": "white"
           }
          },
          "shapedefaults": {
           "line": {
            "color": "#2a3f5f"
           }
          },
          "ternary": {
           "aaxis": {
            "gridcolor": "white",
            "linecolor": "white",
            "ticks": ""
           },
           "baxis": {
            "gridcolor": "white",
            "linecolor": "white",
            "ticks": ""
           },
           "bgcolor": "#E5ECF6",
           "caxis": {
            "gridcolor": "white",
            "linecolor": "white",
            "ticks": ""
           }
          },
          "title": {
           "x": 0.05
          },
          "xaxis": {
           "automargin": true,
           "gridcolor": "white",
           "linecolor": "white",
           "ticks": "",
           "title": {
            "standoff": 15
           },
           "zerolinecolor": "white",
           "zerolinewidth": 2
          },
          "yaxis": {
           "automargin": true,
           "gridcolor": "white",
           "linecolor": "white",
           "ticks": "",
           "title": {
            "standoff": 15
           },
           "zerolinecolor": "white",
           "zerolinewidth": 2
          }
         }
        },
        "title": {},
        "width": 500,
        "xaxis": {
         "anchor": "y",
         "domain": [
          0,
          1
         ],
         "linecolor": "rgb(0,0,0)",
         "linewidth": 2,
         "range": [
          0,
          5
         ],
         "showgrid": false,
         "showline": true,
         "title": {
          "text": "Rho"
         }
        },
        "yaxis": {
         "anchor": "x",
         "domain": [
          0,
          1
         ],
         "linecolor": "rgb(0,0,0)",
         "linewidth": 2,
         "range": [
          -1,
          1
         ],
         "showgrid": false,
         "showline": true,
         "title": {
          "text": "SES Assortativity"
         }
        }
       }
      }
     },
     "metadata": {},
     "output_type": "display_data"
    }
   ],
   "source": [
    "\n",
    "df_rho_SES_ass = pd.DataFrame(np.transpose([rho_list, SES_assortativity_list]), columns=['Rho', 'SES Assortativity'])\n",
    "\n",
    "rho_ass = px.line(df_rho_SES_ass, x='Rho', y='SES Assortativity')\n",
    "\n",
    "rho_ass.update_layout(\n",
    "    title = None, \n",
    "    font=dict(size = 18),\n",
    "    xaxis_title = 'Rho', \n",
    "    yaxis_title = 'SES Assortativity',\n",
    "    width = 500, height = 500,\n",
    "    showlegend = True, \n",
    "    legend=dict(x=0.75,y=1),\n",
    "    legend_title_text = '',\n",
    "    xaxis_range = [0,5],\n",
    "    yaxis_range = [-1,1],\n",
    "    margin=dict(b=5,l=5,r=5,t=5),\n",
    "    xaxis = dict(showgrid = False, showline = True, linecolor = 'rgb(0,0,0)', linewidth = 2), \n",
    "    yaxis = dict(showgrid = False, showline = True, linecolor = 'rgb(0,0,0)', linewidth = 2),\n",
    "    plot_bgcolor='rgba(0,0,0,0)')\n",
    "\n",
    "rho_ass.data[0].line.color = \"rgb(250, 20, 250)\"\n",
    "rho_ass.add_hline(y=0, line_width=1, annotation_text = 'Equal share')\n",
    "rho_ass.add_vline(x=1, line_width=1, annotation_text = 'rho=1: no bias')\n"
   ]
  },
  {
   "attachments": {},
   "cell_type": "markdown",
   "metadata": {},
   "source": [
    "### Rho effect on share HSES"
   ]
  },
  {
   "cell_type": "code",
   "execution_count": 282,
   "metadata": {},
   "outputs": [],
   "source": [
    "\n",
    "# initial nodes and time\n",
    "initial_n = 0\n",
    "T = 100\n",
    "\n",
    "p = 0.25\n",
    "\n",
    "# parent nodes and prob\n",
    "m = 4\n",
    "pm_o = p\n",
    "\n",
    "# parent neighbours and prob\n",
    "n = 16\n",
    "pn_o = p\n",
    "\n",
    "rho = 3\n",
    "\n",
    "# p high SES\n",
    "p_SES_high = 0.5\n",
    "\n",
    "# run several simulations\n",
    "rho_list = np.arange(0.25, 5, 0.05)\n",
    "n_per_rho = 10\n",
    "\n",
    "test_sims = [[JacksonSimulationV2(initial_n, T, m, pm_o, n, pn_o, p_SES_high, biased=True, rho=rho_val) for i in range(n_per_rho)] for rho_val in rho_list]\n",
    "\n",
    "\n",
    "\n"
   ]
  },
  {
   "cell_type": "code",
   "execution_count": 283,
   "metadata": {},
   "outputs": [
    {
     "data": {
      "application/vnd.plotly.v1+json": {
       "config": {
        "plotlyServerURL": "https://plot.ly"
       },
       "data": [
        {
         "hovertemplate": "variable=High SES<br>Rho_val=%{x}<br>value=%{y}<extra></extra>",
         "legendgroup": "High SES",
         "line": {
          "color": "rgb(200, 20, 0)",
          "dash": "solid"
         },
         "marker": {
          "symbol": "circle"
         },
         "mode": "lines",
         "name": "High SES",
         "orientation": "v",
         "showlegend": true,
         "type": "scatter",
         "x": [
          0.25,
          0.3,
          0.35,
          0.39999999999999997,
          0.44999999999999996,
          0.49999999999999994,
          0.5499999999999999,
          0.5999999999999999,
          0.6499999999999999,
          0.7,
          0.7499999999999999,
          0.7999999999999998,
          0.8499999999999999,
          0.8999999999999999,
          0.9499999999999998,
          0.9999999999999998,
          1.0499999999999998,
          1.0999999999999999,
          1.15,
          1.1999999999999997,
          1.2499999999999998,
          1.2999999999999998,
          1.3499999999999996,
          1.3999999999999997,
          1.4499999999999997,
          1.4999999999999998,
          1.5499999999999998,
          1.5999999999999996,
          1.6499999999999997,
          1.6999999999999997,
          1.7499999999999996,
          1.7999999999999996,
          1.8499999999999996,
          1.8999999999999997,
          1.9499999999999997,
          1.9999999999999996,
          2.05,
          2.0999999999999996,
          2.1499999999999995,
          2.1999999999999993,
          2.2499999999999996,
          2.2999999999999994,
          2.3499999999999996,
          2.3999999999999995,
          2.4499999999999993,
          2.4999999999999996,
          2.5499999999999994,
          2.5999999999999996,
          2.6499999999999995,
          2.6999999999999993,
          2.7499999999999996,
          2.7999999999999994,
          2.8499999999999996,
          2.8999999999999995,
          2.9499999999999993,
          2.9999999999999996,
          3.0499999999999994,
          3.099999999999999,
          3.1499999999999995,
          3.1999999999999993,
          3.249999999999999,
          3.2999999999999994,
          3.349999999999999,
          3.3999999999999995,
          3.4499999999999993,
          3.499999999999999,
          3.5499999999999994,
          3.599999999999999,
          3.6499999999999995,
          3.6999999999999993,
          3.749999999999999,
          3.7999999999999994,
          3.849999999999999,
          3.899999999999999,
          3.9499999999999993,
          3.999999999999999,
          4.049999999999999,
          4.1,
          4.149999999999999,
          4.199999999999999,
          4.249999999999999,
          4.299999999999999,
          4.349999999999999,
          4.3999999999999995,
          4.449999999999999,
          4.499999999999999,
          4.549999999999999,
          4.599999999999999,
          4.649999999999999,
          4.699999999999999,
          4.749999999999999,
          4.799999999999999,
          4.849999999999999,
          4.899999999999999,
          4.949999999999999
         ],
         "xaxis": "x",
         "y": [
          0.20216334747318504,
          0.21915679453294995,
          0.25080496125262847,
          0.3016465143270622,
          0.3217590777023589,
          0.34904350510169346,
          0.3677965175447545,
          0.3546222275877491,
          0.3810436085826073,
          0.40066462511655987,
          0.4211359246465025,
          0.45704611359670116,
          0.4593962834842872,
          0.46179152727606604,
          0.5234197090195478,
          0.4891223342240417,
          0.5363204499327867,
          0.5170753342019198,
          0.5194845283901816,
          0.5579459868617358,
          0.5676696007990529,
          0.5097948515451761,
          0.5462796859270393,
          0.5491422446591345,
          0.6013378815157356,
          0.6222223719012823,
          0.5974077192991278,
          0.6097035722543509,
          0.6069093063077238,
          0.5979113995196259,
          0.5877503245261917,
          0.6505837720808607,
          0.6445277431301643,
          0.646241439932702,
          0.6298338641565253,
          0.6346513536571325,
          0.608841457141098,
          0.68913039340708,
          0.6276915643427512,
          0.6718920624008236,
          0.6678679670022099,
          0.6438590303291168,
          0.7048939101549068,
          0.6456017539830581,
          0.6391260147788826,
          0.6849733292706995,
          0.7287442237288351,
          0.6963562070362024,
          0.6822954292486731,
          0.7167480466472,
          0.6585529060566541,
          0.6949031166359559,
          0.6415757740884094,
          0.7027542895892579,
          0.6993953638884968,
          0.7356596995965418,
          0.7042433051811494,
          0.7132523565758209,
          0.6615000664379732,
          0.7377229013832565,
          0.7397124295858857,
          0.7191759492620552,
          0.7169939746594445,
          0.6892131494571585,
          0.6678423857925883,
          0.724963659472493,
          0.7433220580444919,
          0.7189727651170252,
          0.7205729914221556,
          0.7349896202454773,
          0.7185827445125134,
          0.723666704470175,
          0.7732782605127576,
          0.7493800020940221,
          0.7835945830653117,
          0.72369794545173,
          0.6947633534001187,
          0.7248124165359388,
          0.7375983211496386,
          0.7394986725545756,
          0.7301922223441647,
          0.7054392794766344,
          0.7399117118814705,
          0.7379959213710015,
          0.7718519207535612,
          0.7202799012128812,
          0.7503327965513475,
          0.7291819835325215,
          0.7241890506283081,
          0.7469204273835544,
          0.7477191000192144,
          0.7888069676757856,
          0.7359245579755787,
          0.7223887725123905,
          0.757649161789782
         ],
         "yaxis": "y"
        },
        {
         "hovertemplate": "variable=Low SES<br>Rho_val=%{x}<br>value=%{y}<extra></extra>",
         "legendgroup": "Low SES",
         "line": {
          "color": "rgb(0, 20, 200)",
          "dash": "solid"
         },
         "marker": {
          "symbol": "circle"
         },
         "mode": "lines",
         "name": "Low SES",
         "orientation": "v",
         "showlegend": true,
         "type": "scatter",
         "x": [
          0.25,
          0.3,
          0.35,
          0.39999999999999997,
          0.44999999999999996,
          0.49999999999999994,
          0.5499999999999999,
          0.5999999999999999,
          0.6499999999999999,
          0.7,
          0.7499999999999999,
          0.7999999999999998,
          0.8499999999999999,
          0.8999999999999999,
          0.9499999999999998,
          0.9999999999999998,
          1.0499999999999998,
          1.0999999999999999,
          1.15,
          1.1999999999999997,
          1.2499999999999998,
          1.2999999999999998,
          1.3499999999999996,
          1.3999999999999997,
          1.4499999999999997,
          1.4999999999999998,
          1.5499999999999998,
          1.5999999999999996,
          1.6499999999999997,
          1.6999999999999997,
          1.7499999999999996,
          1.7999999999999996,
          1.8499999999999996,
          1.8999999999999997,
          1.9499999999999997,
          1.9999999999999996,
          2.05,
          2.0999999999999996,
          2.1499999999999995,
          2.1999999999999993,
          2.2499999999999996,
          2.2999999999999994,
          2.3499999999999996,
          2.3999999999999995,
          2.4499999999999993,
          2.4999999999999996,
          2.5499999999999994,
          2.5999999999999996,
          2.6499999999999995,
          2.6999999999999993,
          2.7499999999999996,
          2.7999999999999994,
          2.8499999999999996,
          2.8999999999999995,
          2.9499999999999993,
          2.9999999999999996,
          3.0499999999999994,
          3.099999999999999,
          3.1499999999999995,
          3.1999999999999993,
          3.249999999999999,
          3.2999999999999994,
          3.349999999999999,
          3.3999999999999995,
          3.4499999999999993,
          3.499999999999999,
          3.5499999999999994,
          3.599999999999999,
          3.6499999999999995,
          3.6999999999999993,
          3.749999999999999,
          3.7999999999999994,
          3.849999999999999,
          3.899999999999999,
          3.9499999999999993,
          3.999999999999999,
          4.049999999999999,
          4.1,
          4.149999999999999,
          4.199999999999999,
          4.249999999999999,
          4.299999999999999,
          4.349999999999999,
          4.3999999999999995,
          4.449999999999999,
          4.499999999999999,
          4.549999999999999,
          4.599999999999999,
          4.649999999999999,
          4.699999999999999,
          4.749999999999999,
          4.799999999999999,
          4.849999999999999,
          4.899999999999999,
          4.949999999999999
         ],
         "xaxis": "x",
         "y": [
          0.7968943017270393,
          0.7595434962661862,
          0.7115482203693173,
          0.7336898511164536,
          0.7005536797472132,
          0.6775696937619486,
          0.6715073520205852,
          0.6273752394511292,
          0.6071484165606191,
          0.6039998452428843,
          0.5857963839518552,
          0.5821093897401397,
          0.5287566518695797,
          0.5312516915726325,
          0.516454448777814,
          0.48160270116154946,
          0.48232885778487855,
          0.4735283258208879,
          0.43600621750576607,
          0.48369115691531384,
          0.45446446522636774,
          0.39209807774821803,
          0.44583181244476977,
          0.38939352670531224,
          0.45454590703184544,
          0.4366659733031799,
          0.3833277972797256,
          0.4170430496145115,
          0.4115831947616849,
          0.3571492887868002,
          0.3708627900856693,
          0.3643354027204516,
          0.37824493066990017,
          0.3384891209524895,
          0.32755422456036887,
          0.334694051306097,
          0.30606771302234426,
          0.3495638631410108,
          0.29498114349257665,
          0.3286309762387234,
          0.2934214556558504,
          0.3051973695438998,
          0.30152916499817184,
          0.2775499103988694,
          0.29460721159794534,
          0.29712877675602084,
          0.29902760164253406,
          0.25969765099389397,
          0.29243274716244994,
          0.2896687964071694,
          0.25703983007473785,
          0.2457751102980948,
          0.22365164220877704,
          0.2529663723704795,
          0.25796941441407173,
          0.24559982737212294,
          0.2295946771542206,
          0.2602064195827719,
          0.19889377819619877,
          0.2626936722609043,
          0.23072867461400862,
          0.2435296432190457,
          0.24297485158844095,
          0.20269750605240017,
          0.18087488885845865,
          0.2397876973302829,
          0.2308125085909681,
          0.21500816234632714,
          0.22041670467110466,
          0.2646759670584481,
          0.20364904939625972,
          0.18564275467851607,
          0.2538816778154633,
          0.20580547721742642,
          0.224824348223036,
          0.1961867477240236,
          0.16565462199472883,
          0.18636099537316334,
          0.18218700377829083,
          0.21251738437788967,
          0.18863883689858785,
          0.17766748659687953,
          0.16865902050113293,
          0.15367568861978767,
          0.1821064205393943,
          0.18480655117812678,
          0.2000289078827573,
          0.19666679478513,
          0.1697752102672294,
          0.16013775460770152,
          0.1846305117090985,
          0.15743612766751042,
          0.14668649461215139,
          0.17724510044609335,
          0.16568502082838238
         ],
         "yaxis": "y"
        }
       ],
       "layout": {
        "annotations": [
         {
          "showarrow": false,
          "text": "Equal share",
          "x": 1,
          "xanchor": "right",
          "xref": "x domain",
          "y": 0.5,
          "yanchor": "bottom",
          "yref": "y"
         },
         {
          "showarrow": false,
          "text": "rho=1: no bias",
          "x": 1,
          "xanchor": "left",
          "xref": "x",
          "y": 1,
          "yanchor": "top",
          "yref": "y domain"
         }
        ],
        "font": {
         "size": 18
        },
        "height": 500,
        "legend": {
         "title": {
          "text": ""
         },
         "tracegroupgap": 0,
         "x": 0.75,
         "y": 1
        },
        "margin": {
         "b": 5,
         "l": 5,
         "r": 5,
         "t": 5
        },
        "plot_bgcolor": "rgba(0,0,0,0)",
        "shapes": [
         {
          "line": {
           "width": 1
          },
          "type": "line",
          "x0": 0,
          "x1": 1,
          "xref": "x domain",
          "y0": 0.5,
          "y1": 0.5,
          "yref": "y"
         },
         {
          "line": {
           "width": 1
          },
          "type": "line",
          "x0": 1,
          "x1": 1,
          "xref": "x",
          "y0": 0,
          "y1": 1,
          "yref": "y domain"
         }
        ],
        "showlegend": true,
        "template": {
         "data": {
          "bar": [
           {
            "error_x": {
             "color": "#2a3f5f"
            },
            "error_y": {
             "color": "#2a3f5f"
            },
            "marker": {
             "line": {
              "color": "#E5ECF6",
              "width": 0.5
             },
             "pattern": {
              "fillmode": "overlay",
              "size": 10,
              "solidity": 0.2
             }
            },
            "type": "bar"
           }
          ],
          "barpolar": [
           {
            "marker": {
             "line": {
              "color": "#E5ECF6",
              "width": 0.5
             },
             "pattern": {
              "fillmode": "overlay",
              "size": 10,
              "solidity": 0.2
             }
            },
            "type": "barpolar"
           }
          ],
          "carpet": [
           {
            "aaxis": {
             "endlinecolor": "#2a3f5f",
             "gridcolor": "white",
             "linecolor": "white",
             "minorgridcolor": "white",
             "startlinecolor": "#2a3f5f"
            },
            "baxis": {
             "endlinecolor": "#2a3f5f",
             "gridcolor": "white",
             "linecolor": "white",
             "minorgridcolor": "white",
             "startlinecolor": "#2a3f5f"
            },
            "type": "carpet"
           }
          ],
          "choropleth": [
           {
            "colorbar": {
             "outlinewidth": 0,
             "ticks": ""
            },
            "type": "choropleth"
           }
          ],
          "contour": [
           {
            "colorbar": {
             "outlinewidth": 0,
             "ticks": ""
            },
            "colorscale": [
             [
              0,
              "#0d0887"
             ],
             [
              0.1111111111111111,
              "#46039f"
             ],
             [
              0.2222222222222222,
              "#7201a8"
             ],
             [
              0.3333333333333333,
              "#9c179e"
             ],
             [
              0.4444444444444444,
              "#bd3786"
             ],
             [
              0.5555555555555556,
              "#d8576b"
             ],
             [
              0.6666666666666666,
              "#ed7953"
             ],
             [
              0.7777777777777778,
              "#fb9f3a"
             ],
             [
              0.8888888888888888,
              "#fdca26"
             ],
             [
              1,
              "#f0f921"
             ]
            ],
            "type": "contour"
           }
          ],
          "contourcarpet": [
           {
            "colorbar": {
             "outlinewidth": 0,
             "ticks": ""
            },
            "type": "contourcarpet"
           }
          ],
          "heatmap": [
           {
            "colorbar": {
             "outlinewidth": 0,
             "ticks": ""
            },
            "colorscale": [
             [
              0,
              "#0d0887"
             ],
             [
              0.1111111111111111,
              "#46039f"
             ],
             [
              0.2222222222222222,
              "#7201a8"
             ],
             [
              0.3333333333333333,
              "#9c179e"
             ],
             [
              0.4444444444444444,
              "#bd3786"
             ],
             [
              0.5555555555555556,
              "#d8576b"
             ],
             [
              0.6666666666666666,
              "#ed7953"
             ],
             [
              0.7777777777777778,
              "#fb9f3a"
             ],
             [
              0.8888888888888888,
              "#fdca26"
             ],
             [
              1,
              "#f0f921"
             ]
            ],
            "type": "heatmap"
           }
          ],
          "heatmapgl": [
           {
            "colorbar": {
             "outlinewidth": 0,
             "ticks": ""
            },
            "colorscale": [
             [
              0,
              "#0d0887"
             ],
             [
              0.1111111111111111,
              "#46039f"
             ],
             [
              0.2222222222222222,
              "#7201a8"
             ],
             [
              0.3333333333333333,
              "#9c179e"
             ],
             [
              0.4444444444444444,
              "#bd3786"
             ],
             [
              0.5555555555555556,
              "#d8576b"
             ],
             [
              0.6666666666666666,
              "#ed7953"
             ],
             [
              0.7777777777777778,
              "#fb9f3a"
             ],
             [
              0.8888888888888888,
              "#fdca26"
             ],
             [
              1,
              "#f0f921"
             ]
            ],
            "type": "heatmapgl"
           }
          ],
          "histogram": [
           {
            "marker": {
             "pattern": {
              "fillmode": "overlay",
              "size": 10,
              "solidity": 0.2
             }
            },
            "type": "histogram"
           }
          ],
          "histogram2d": [
           {
            "colorbar": {
             "outlinewidth": 0,
             "ticks": ""
            },
            "colorscale": [
             [
              0,
              "#0d0887"
             ],
             [
              0.1111111111111111,
              "#46039f"
             ],
             [
              0.2222222222222222,
              "#7201a8"
             ],
             [
              0.3333333333333333,
              "#9c179e"
             ],
             [
              0.4444444444444444,
              "#bd3786"
             ],
             [
              0.5555555555555556,
              "#d8576b"
             ],
             [
              0.6666666666666666,
              "#ed7953"
             ],
             [
              0.7777777777777778,
              "#fb9f3a"
             ],
             [
              0.8888888888888888,
              "#fdca26"
             ],
             [
              1,
              "#f0f921"
             ]
            ],
            "type": "histogram2d"
           }
          ],
          "histogram2dcontour": [
           {
            "colorbar": {
             "outlinewidth": 0,
             "ticks": ""
            },
            "colorscale": [
             [
              0,
              "#0d0887"
             ],
             [
              0.1111111111111111,
              "#46039f"
             ],
             [
              0.2222222222222222,
              "#7201a8"
             ],
             [
              0.3333333333333333,
              "#9c179e"
             ],
             [
              0.4444444444444444,
              "#bd3786"
             ],
             [
              0.5555555555555556,
              "#d8576b"
             ],
             [
              0.6666666666666666,
              "#ed7953"
             ],
             [
              0.7777777777777778,
              "#fb9f3a"
             ],
             [
              0.8888888888888888,
              "#fdca26"
             ],
             [
              1,
              "#f0f921"
             ]
            ],
            "type": "histogram2dcontour"
           }
          ],
          "mesh3d": [
           {
            "colorbar": {
             "outlinewidth": 0,
             "ticks": ""
            },
            "type": "mesh3d"
           }
          ],
          "parcoords": [
           {
            "line": {
             "colorbar": {
              "outlinewidth": 0,
              "ticks": ""
             }
            },
            "type": "parcoords"
           }
          ],
          "pie": [
           {
            "automargin": true,
            "type": "pie"
           }
          ],
          "scatter": [
           {
            "fillpattern": {
             "fillmode": "overlay",
             "size": 10,
             "solidity": 0.2
            },
            "type": "scatter"
           }
          ],
          "scatter3d": [
           {
            "line": {
             "colorbar": {
              "outlinewidth": 0,
              "ticks": ""
             }
            },
            "marker": {
             "colorbar": {
              "outlinewidth": 0,
              "ticks": ""
             }
            },
            "type": "scatter3d"
           }
          ],
          "scattercarpet": [
           {
            "marker": {
             "colorbar": {
              "outlinewidth": 0,
              "ticks": ""
             }
            },
            "type": "scattercarpet"
           }
          ],
          "scattergeo": [
           {
            "marker": {
             "colorbar": {
              "outlinewidth": 0,
              "ticks": ""
             }
            },
            "type": "scattergeo"
           }
          ],
          "scattergl": [
           {
            "marker": {
             "colorbar": {
              "outlinewidth": 0,
              "ticks": ""
             }
            },
            "type": "scattergl"
           }
          ],
          "scattermapbox": [
           {
            "marker": {
             "colorbar": {
              "outlinewidth": 0,
              "ticks": ""
             }
            },
            "type": "scattermapbox"
           }
          ],
          "scatterpolar": [
           {
            "marker": {
             "colorbar": {
              "outlinewidth": 0,
              "ticks": ""
             }
            },
            "type": "scatterpolar"
           }
          ],
          "scatterpolargl": [
           {
            "marker": {
             "colorbar": {
              "outlinewidth": 0,
              "ticks": ""
             }
            },
            "type": "scatterpolargl"
           }
          ],
          "scatterternary": [
           {
            "marker": {
             "colorbar": {
              "outlinewidth": 0,
              "ticks": ""
             }
            },
            "type": "scatterternary"
           }
          ],
          "surface": [
           {
            "colorbar": {
             "outlinewidth": 0,
             "ticks": ""
            },
            "colorscale": [
             [
              0,
              "#0d0887"
             ],
             [
              0.1111111111111111,
              "#46039f"
             ],
             [
              0.2222222222222222,
              "#7201a8"
             ],
             [
              0.3333333333333333,
              "#9c179e"
             ],
             [
              0.4444444444444444,
              "#bd3786"
             ],
             [
              0.5555555555555556,
              "#d8576b"
             ],
             [
              0.6666666666666666,
              "#ed7953"
             ],
             [
              0.7777777777777778,
              "#fb9f3a"
             ],
             [
              0.8888888888888888,
              "#fdca26"
             ],
             [
              1,
              "#f0f921"
             ]
            ],
            "type": "surface"
           }
          ],
          "table": [
           {
            "cells": {
             "fill": {
              "color": "#EBF0F8"
             },
             "line": {
              "color": "white"
             }
            },
            "header": {
             "fill": {
              "color": "#C8D4E3"
             },
             "line": {
              "color": "white"
             }
            },
            "type": "table"
           }
          ]
         },
         "layout": {
          "annotationdefaults": {
           "arrowcolor": "#2a3f5f",
           "arrowhead": 0,
           "arrowwidth": 1
          },
          "autotypenumbers": "strict",
          "coloraxis": {
           "colorbar": {
            "outlinewidth": 0,
            "ticks": ""
           }
          },
          "colorscale": {
           "diverging": [
            [
             0,
             "#8e0152"
            ],
            [
             0.1,
             "#c51b7d"
            ],
            [
             0.2,
             "#de77ae"
            ],
            [
             0.3,
             "#f1b6da"
            ],
            [
             0.4,
             "#fde0ef"
            ],
            [
             0.5,
             "#f7f7f7"
            ],
            [
             0.6,
             "#e6f5d0"
            ],
            [
             0.7,
             "#b8e186"
            ],
            [
             0.8,
             "#7fbc41"
            ],
            [
             0.9,
             "#4d9221"
            ],
            [
             1,
             "#276419"
            ]
           ],
           "sequential": [
            [
             0,
             "#0d0887"
            ],
            [
             0.1111111111111111,
             "#46039f"
            ],
            [
             0.2222222222222222,
             "#7201a8"
            ],
            [
             0.3333333333333333,
             "#9c179e"
            ],
            [
             0.4444444444444444,
             "#bd3786"
            ],
            [
             0.5555555555555556,
             "#d8576b"
            ],
            [
             0.6666666666666666,
             "#ed7953"
            ],
            [
             0.7777777777777778,
             "#fb9f3a"
            ],
            [
             0.8888888888888888,
             "#fdca26"
            ],
            [
             1,
             "#f0f921"
            ]
           ],
           "sequentialminus": [
            [
             0,
             "#0d0887"
            ],
            [
             0.1111111111111111,
             "#46039f"
            ],
            [
             0.2222222222222222,
             "#7201a8"
            ],
            [
             0.3333333333333333,
             "#9c179e"
            ],
            [
             0.4444444444444444,
             "#bd3786"
            ],
            [
             0.5555555555555556,
             "#d8576b"
            ],
            [
             0.6666666666666666,
             "#ed7953"
            ],
            [
             0.7777777777777778,
             "#fb9f3a"
            ],
            [
             0.8888888888888888,
             "#fdca26"
            ],
            [
             1,
             "#f0f921"
            ]
           ]
          },
          "colorway": [
           "#636efa",
           "#EF553B",
           "#00cc96",
           "#ab63fa",
           "#FFA15A",
           "#19d3f3",
           "#FF6692",
           "#B6E880",
           "#FF97FF",
           "#FECB52"
          ],
          "font": {
           "color": "#2a3f5f"
          },
          "geo": {
           "bgcolor": "white",
           "lakecolor": "white",
           "landcolor": "#E5ECF6",
           "showlakes": true,
           "showland": true,
           "subunitcolor": "white"
          },
          "hoverlabel": {
           "align": "left"
          },
          "hovermode": "closest",
          "mapbox": {
           "style": "light"
          },
          "paper_bgcolor": "white",
          "plot_bgcolor": "#E5ECF6",
          "polar": {
           "angularaxis": {
            "gridcolor": "white",
            "linecolor": "white",
            "ticks": ""
           },
           "bgcolor": "#E5ECF6",
           "radialaxis": {
            "gridcolor": "white",
            "linecolor": "white",
            "ticks": ""
           }
          },
          "scene": {
           "xaxis": {
            "backgroundcolor": "#E5ECF6",
            "gridcolor": "white",
            "gridwidth": 2,
            "linecolor": "white",
            "showbackground": true,
            "ticks": "",
            "zerolinecolor": "white"
           },
           "yaxis": {
            "backgroundcolor": "#E5ECF6",
            "gridcolor": "white",
            "gridwidth": 2,
            "linecolor": "white",
            "showbackground": true,
            "ticks": "",
            "zerolinecolor": "white"
           },
           "zaxis": {
            "backgroundcolor": "#E5ECF6",
            "gridcolor": "white",
            "gridwidth": 2,
            "linecolor": "white",
            "showbackground": true,
            "ticks": "",
            "zerolinecolor": "white"
           }
          },
          "shapedefaults": {
           "line": {
            "color": "#2a3f5f"
           }
          },
          "ternary": {
           "aaxis": {
            "gridcolor": "white",
            "linecolor": "white",
            "ticks": ""
           },
           "baxis": {
            "gridcolor": "white",
            "linecolor": "white",
            "ticks": ""
           },
           "bgcolor": "#E5ECF6",
           "caxis": {
            "gridcolor": "white",
            "linecolor": "white",
            "ticks": ""
           }
          },
          "title": {
           "x": 0.05
          },
          "xaxis": {
           "automargin": true,
           "gridcolor": "white",
           "linecolor": "white",
           "ticks": "",
           "title": {
            "standoff": 15
           },
           "zerolinecolor": "white",
           "zerolinewidth": 2
          },
          "yaxis": {
           "automargin": true,
           "gridcolor": "white",
           "linecolor": "white",
           "ticks": "",
           "title": {
            "standoff": 15
           },
           "zerolinecolor": "white",
           "zerolinewidth": 2
          }
         }
        },
        "title": {},
        "width": 500,
        "xaxis": {
         "anchor": "y",
         "domain": [
          0,
          1
         ],
         "linecolor": "rgb(0,0,0)",
         "linewidth": 2,
         "range": [
          0.025,
          5
         ],
         "showgrid": false,
         "showline": true,
         "title": {
          "text": "Rho"
         }
        },
        "yaxis": {
         "anchor": "x",
         "domain": [
          0,
          1
         ],
         "linecolor": "rgb(0,0,0)",
         "linewidth": 2,
         "range": [
          0,
          1
         ],
         "showgrid": false,
         "showline": true,
         "title": {
          "text": "Share of HSES friends"
         }
        }
       }
      }
     },
     "metadata": {},
     "output_type": "display_data"
    }
   ],
   "source": [
    "\n",
    "# \n",
    "H_shares = [np.transpose([new_sim.helper_functions().average_neighbour_type_per_SES(test_sims[i][j].graph_history[-1]) for j in range(n_per_rho)]) for i in range(len(rho_list))]\n",
    "avg_H_shares = np.transpose(np.average(H_shares, axis=2))\n",
    "df_avg_H_shares = pd.DataFrame(np.transpose(avg_H_shares), columns=['High SES', 'Low SES'])\n",
    "df_avg_H_shares['Rho_val'] = rho_list\n",
    "\n",
    "rho_lines = px.line(df_avg_H_shares, x='Rho_val', y=['High SES', 'Low SES'])\n",
    "\n",
    "rho_lines.update_layout(\n",
    "    title = None, \n",
    "    font=dict(size = 18),\n",
    "    xaxis_title = 'Rho', \n",
    "    yaxis_title = 'Share of HSES friends',\n",
    "    width = 500, height = 500,\n",
    "    showlegend = True, \n",
    "    legend=dict(x=0.75,y=1),\n",
    "    legend_title_text = '',\n",
    "    xaxis_range = [0.025,5],\n",
    "    yaxis_range = [0,1],\n",
    "    margin=dict(b=5,l=5,r=5,t=5),\n",
    "    xaxis = dict(showgrid = False, showline = True, linecolor = 'rgb(0,0,0)', linewidth = 2), \n",
    "    yaxis = dict(showgrid = False, showline = True, linecolor = 'rgb(0,0,0)', linewidth = 2),\n",
    "    plot_bgcolor='rgba(0,0,0,0)')\n",
    "\n",
    "rho_lines.data[0].line.color = \"rgb(200, 20, 0)\"\n",
    "rho_lines.data[1].line.color = \"rgb(0, 20, 200)\"\n",
    "rho_lines.add_hline(y=0.5, line_width=1, annotation_text = 'Equal share')\n",
    "rho_lines.add_vline(x=1, line_width=1, annotation_text = 'rho=1: no bias')\n",
    "\n",
    "rho_lines\n",
    "\n"
   ]
  },
  {
   "attachments": {},
   "cell_type": "markdown",
   "metadata": {},
   "source": [
    "### Varying p"
   ]
  },
  {
   "attachments": {},
   "cell_type": "markdown",
   "metadata": {},
   "source": [
    "Varying p"
   ]
  },
  {
   "cell_type": "code",
   "execution_count": 152,
   "metadata": {},
   "outputs": [
    {
     "name": "stderr",
     "output_type": "stream",
     "text": [
      "c:\\Programming\\Python\\lib\\site-packages\\networkx\\algorithms\\assortativity\\correlation.py:278: RuntimeWarning:\n",
      "\n",
      "invalid value encountered in double_scalars\n",
      "\n"
     ]
    },
    {
     "data": {
      "text/plain": [
       "[<matplotlib.lines.Line2D at 0x20ee44c8040>]"
      ]
     },
     "execution_count": 152,
     "metadata": {},
     "output_type": "execute_result"
    },
    {
     "data": {
      "image/png": "[encoded data removed]",
      "text/plain": [
       "<Figure size 432x288 with 1 Axes>"
      ]
     },
     "metadata": {
      "needs_background": "light"
     },
     "output_type": "display_data"
    }
   ],
   "source": [
    "\n",
    "# initial nodes and time\n",
    "initial_n = 0\n",
    "T = 100\n",
    "\n",
    "p = 0.25\n",
    "\n",
    "# parent nodes and prob\n",
    "m = 4\n",
    "pm_o = p\n",
    "\n",
    "# parent neighbours and prob\n",
    "n = 16\n",
    "pn_o = p\n",
    "\n",
    "rho = 3\n",
    "\n",
    "# p high SES\n",
    "p_SES_high = 0.5\n",
    "\n",
    "p_list = np.arange(0, 1, 0.01)\n",
    "test_sims = [JacksonSimulationV2(initial_n, T, m, pm_o=p, n=n, pn_o=p, p_SES_high=p_SES_high, biased=True, rho=3) for p in p_list]\n",
    "\n",
    "\n",
    "SES_assortativity_list = [nx.assortativity.attribute_assortativity_coefficient(sim.graph_history[-1], 'SES_High') for sim in test_sims]\n",
    "\n",
    "\n",
    "plt.plot(p_list, SES_assortativity_list)\n"
   ]
  }
 ],
 "metadata": {
  "kernelspec": {
   "display_name": "Python 3",
   "language": "python",
   "name": "python3"
  },
  "language_info": {
   "codemirror_mode": {
    "name": "ipython",
    "version": 3
   },
   "file_extension": ".py",
   "mimetype": "text/x-python",
   "name": "python",
   "nbconvert_exporter": "python",
   "pygments_lexer": "ipython3",
   "version": "3.10.6"
  },
  "orig_nbformat": 4,
  "vscode": {
   "interpreter": {
    "hash": "289e6dbf0cbe13abb58a8c6441fb07dbab3e022f897dda6d31a08b19d28acfde"
   }
  }
 },
 "nbformat": 4,
 "nbformat_minor": 2
}
