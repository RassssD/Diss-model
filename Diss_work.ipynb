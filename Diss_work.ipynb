{
 "cells": [
  {
   "attachments": {},
   "cell_type": "markdown",
   "metadata": {},
   "source": [
    "### Imports"
   ]
  },
  {
   "cell_type": "code",
   "execution_count": 7,
   "metadata": {},
   "outputs": [],
   "source": [
    "\n",
    "import networkx as nx\n",
    "import numpy as np\n",
    "import random, math\n",
    "import graphviz\n",
    "import functools, collections, operator\n",
    "import seaborn as sns\n",
    "\n",
    "from scipy.stats import shapiro\n",
    "import scipy.stats as scs\n",
    "from scipy.stats import describe\n",
    "\n",
    "import plotly.figure_factory as ff\n",
    "\n",
    "from scipy.stats import norm\n",
    "import scipy.stats as stats\n",
    "from scipy.stats import pearsonr\n",
    "\n",
    "import os\n",
    "import time\n",
    "\n",
    "import pylab\n",
    "\n",
    "from statsmodels.graphics.gofplots import qqplot\n",
    "\n",
    "#import kaleido\n",
    "\n",
    "import pandas as pd\n",
    "\n",
    "\n",
    "import matplotlib.pyplot as plt\n",
    "import matplotlib.colors as mcolors\n",
    "import matplotlib.cm as cm\n",
    "\n",
    "import plotly.graph_objects as go\n",
    "from pyvis.network import Network\n",
    "from networkx.drawing.nx_agraph import graphviz_layout\n",
    "import plotly.express as px\n",
    "from plotly._subplots import make_subplots\n",
    "import plotly\n",
    "\n",
    "import statsmodels.formula.api as sm\n",
    "\n",
    "from stargazer.stargazer import Stargazer\n",
    "\n",
    "\n",
    "# import models\n",
    "from classes.jackson_model import JacksonSimulationV2\n",
    "from classes.network_drawing import plotly_sim_drawing\n",
    "from classes.plotly_drawings import plotly_lines\n",
    "\n",
    "\n",
    "def MTO_simulator(initial_n=0, T=100, m=10, pm_o=1, n=10, pn_o=1, p_SES_high=0.5, list_rho_values=[1], list_eps_values=[1], num_sim_per_param=1, num_MTO_per_sim=10):\n",
    "\n",
    "    total_sims = 0\n",
    "    list_sim_stats = []\n",
    "    n_sims = len(list_eps_values) * len(list_rho_values) * num_sim_per_param * num_MTO_per_sim\n",
    "    t0 = time.time()\n",
    "\n",
    "    print(f'Running {n_sims} simulations over {len(list_eps_values) * len(list_rho_values)} parameter combinations')\n",
    "\n",
    "    # iterate over eps values\n",
    "    for i in range(len(list_eps_values)):\n",
    "\n",
    "        # iterate over rho values\n",
    "        for j in range(len(list_rho_values)):\n",
    "\n",
    "            # create a network and run MTO sims\n",
    "            for k in range(num_sim_per_param):\n",
    "                # create network\n",
    "                network_sim = JacksonSimulationV2(initial_n, T, m, pm_o, n, pn_o, p_SES_high, biased=True, epsilon = list_eps_values[i], rho=list_rho_values[j])\n",
    "\n",
    "                # run MTO simulations\n",
    "                df_MTO_sim = network_sim.MTO_sim_many(network_sim.graph_history[-1], n_sims=num_MTO_per_sim)\n",
    "\n",
    "\n",
    "                # calculate network-wide characteristics\n",
    "                SES_assortativity = nx.assortativity.attribute_assortativity_coefficient(network_sim.graph_history[-1], 'SES_High')\n",
    "                H_Share_H, H_Share_L = network_sim.helper_functions().average_neighbour_type_per_SES(network_sim.graph_history[-1])\n",
    "                Network_Degree = sum(dict(network_sim.graph_history[-1].degree()).values()) / len(network_sim.graph_history[-1])\n",
    "                Network_Clustering = nx.average_clustering(network_sim.graph_history[-1])\n",
    "\n",
    "                list_network_chars = [SES_assortativity, H_Share_H, H_Share_L, Network_Degree, Network_Clustering]\n",
    "                list_network_char_names = ['Network_SES_assortativity', 'Network_H_Share_H', 'Network_H_Share_L', 'Network_Degree', 'Network_Clustering']\n",
    "\n",
    "                # add the values to the df\n",
    "                for n in range(len(list_network_chars)):\n",
    "                    df_MTO_sim[list_network_char_names[n]] = list_network_chars[n]\n",
    "\n",
    "                # append to list\n",
    "                list_sim_stats.append(df_MTO_sim)\n",
    "                print('\\r', f'Finished simulation {k}/{num_sim_per_param} for combination {total_sims}/{len(list_eps_values)*len(list_rho_values)}', end='')\n",
    "        \n",
    "            total_sims += 1\n",
    "\n",
    "    delta_t = round((time.time()-t0)/60, 2)\n",
    "\n",
    "    print('\\r', f'Finished {n_sims} simulations in {delta_t} minutes, average time: {delta_t/n_sims} min/sim', end='')\n",
    "    df_MTO_output = pd.concat(list_sim_stats).reset_index(drop=True)\n",
    "\n",
    "    # add predicted values\n",
    "    df_MTO_output['Predicted_H_Share'] = 1/((1+df_MTO_output['epsilon'])*(df_MTO_output['rho']))\n",
    "    df_MTO_output['Predicted_Exposure'] = 1/(df_MTO_output['p_SES_high']*(1+df_MTO_output['epsilon']))\n",
    "    df_MTO_output['Predicted_Friend_Bias'] = (df_MTO_output['epsilon']*(df_MTO_output['rho']-1))/(df_MTO_output['epsilon']*df_MTO_output['rho']+1)\n",
    "\n",
    "\n",
    "    return df_MTO_output\n"
   ]
  },
  {
   "attachments": {},
   "cell_type": "markdown",
   "metadata": {},
   "source": [
    "### Showcases"
   ]
  },
  {
   "cell_type": "code",
   "execution_count": 12,
   "metadata": {},
   "outputs": [],
   "source": [
    "\n",
    "# showcases\n",
    "showcase_sim_no_bias = JacksonSimulationV2(0, 100, 10, 1, 10, 1, 0.5, biased=False, rho=1, epsilon=1)\n",
    "showcase_sim_expo = JacksonSimulationV2(0, 100, 10, 1, 10, 1, 0.5, biased=True, rho=1, epsilon=1.75)\n",
    "showcase_sim_fb = JacksonSimulationV2(0, 100, 10, 1, 10, 1, 0.5, biased=True, rho=1.75, epsilon=1)\n",
    "showcase_sim_expo_fb = JacksonSimulationV2(0, 100, 10, 1, 10, 1, 0.5, biased=True, rho=1.5, epsilon=1.5)\n",
    "\n",
    "showcase_sims = [showcase_sim_no_bias, showcase_sim_expo, showcase_sim_fb, showcase_sim_expo_fb]\n",
    "\n",
    "showcase_plots = [plotly_sim_drawing.plotly_draw(plotly_sim_drawing(), showcase_sim, layout='spring', draw_largest_CC=True, title=None) for showcase_sim in showcase_sims]\n",
    "\n",
    "\n",
    "\n"
   ]
  },
  {
   "attachments": {},
   "cell_type": "markdown",
   "metadata": {},
   "source": [
    "### Rho and Epsilon distributions"
   ]
  },
  {
   "cell_type": "code",
   "execution_count": 29,
   "metadata": {},
   "outputs": [
    {
     "name": "stdout",
     "output_type": "stream",
     "text": [
      "PearsonRResult(statistic=0.3270609836794669, pvalue=3.5985301884551014e-150)\n"
     ]
    },
    {
     "data": {
      "text/html": [
       "<div>\n",
       "<style scoped>\n",
       "    .dataframe tbody tr th:only-of-type {\n",
       "        vertical-align: middle;\n",
       "    }\n",
       "\n",
       "    .dataframe tbody tr th {\n",
       "        vertical-align: top;\n",
       "    }\n",
       "\n",
       "    .dataframe thead th {\n",
       "        text-align: right;\n",
       "    }\n",
       "</style>\n",
       "<table border=\"1\" class=\"dataframe\">\n",
       "  <thead>\n",
       "    <tr style=\"text-align: right;\">\n",
       "      <th></th>\n",
       "      <th>county</th>\n",
       "      <th>exposure_grp_mem_county</th>\n",
       "      <th>exposure_grp_mem_high_county</th>\n",
       "      <th>bias_grp_mem_county</th>\n",
       "      <th>bias_grp_mem_high_county</th>\n",
       "      <th>Epsilon</th>\n",
       "      <th>EpsilonHigh</th>\n",
       "      <th>Rho</th>\n",
       "      <th>RhoHigh</th>\n",
       "    </tr>\n",
       "  </thead>\n",
       "  <tbody>\n",
       "    <tr>\n",
       "      <th>count</th>\n",
       "      <td>3012.000000</td>\n",
       "      <td>3012.000000</td>\n",
       "      <td>3012.000000</td>\n",
       "      <td>3012.000000</td>\n",
       "      <td>3012.000000</td>\n",
       "      <td>3012.000000</td>\n",
       "      <td>3012.000000</td>\n",
       "      <td>3012.000000</td>\n",
       "      <td>3012.000000</td>\n",
       "    </tr>\n",
       "    <tr>\n",
       "      <th>mean</th>\n",
       "      <td>30206.501328</td>\n",
       "      <td>0.906089</td>\n",
       "      <td>1.078581</td>\n",
       "      <td>0.064161</td>\n",
       "      <td>-0.187968</td>\n",
       "      <td>1.354583</td>\n",
       "      <td>0.932459</td>\n",
       "      <td>1.131563</td>\n",
       "      <td>0.661774</td>\n",
       "    </tr>\n",
       "    <tr>\n",
       "      <th>std</th>\n",
       "      <td>15139.364060</td>\n",
       "      <td>0.211814</td>\n",
       "      <td>0.209551</td>\n",
       "      <td>0.050633</td>\n",
       "      <td>0.064644</td>\n",
       "      <td>0.675489</td>\n",
       "      <td>0.416315</td>\n",
       "      <td>0.113567</td>\n",
       "      <td>0.052487</td>\n",
       "    </tr>\n",
       "    <tr>\n",
       "      <th>min</th>\n",
       "      <td>1001.000000</td>\n",
       "      <td>0.255200</td>\n",
       "      <td>0.510130</td>\n",
       "      <td>-0.108090</td>\n",
       "      <td>-0.536180</td>\n",
       "      <td>0.345641</td>\n",
       "      <td>0.200365</td>\n",
       "      <td>0.796738</td>\n",
       "      <td>0.499872</td>\n",
       "    </tr>\n",
       "    <tr>\n",
       "      <th>25%</th>\n",
       "      <td>18166.500000</td>\n",
       "      <td>0.765533</td>\n",
       "      <td>0.931867</td>\n",
       "      <td>0.030808</td>\n",
       "      <td>-0.221698</td>\n",
       "      <td>0.899858</td>\n",
       "      <td>0.629484</td>\n",
       "      <td>1.059508</td>\n",
       "      <td>0.625343</td>\n",
       "    </tr>\n",
       "    <tr>\n",
       "      <th>50%</th>\n",
       "      <td>29116.000000</td>\n",
       "      <td>0.905695</td>\n",
       "      <td>1.081650</td>\n",
       "      <td>0.063970</td>\n",
       "      <td>-0.179075</td>\n",
       "      <td>1.208249</td>\n",
       "      <td>0.849027</td>\n",
       "      <td>1.125496</td>\n",
       "      <td>0.657728</td>\n",
       "    </tr>\n",
       "    <tr>\n",
       "      <th>75%</th>\n",
       "      <td>45037.500000</td>\n",
       "      <td>1.052710</td>\n",
       "      <td>1.227383</td>\n",
       "      <td>0.095450</td>\n",
       "      <td>-0.143335</td>\n",
       "      <td>1.612561</td>\n",
       "      <td>1.146228</td>\n",
       "      <td>1.192859</td>\n",
       "      <td>0.692894</td>\n",
       "    </tr>\n",
       "    <tr>\n",
       "      <th>max</th>\n",
       "      <td>56045.000000</td>\n",
       "      <td>1.486280</td>\n",
       "      <td>1.666160</td>\n",
       "      <td>0.334570</td>\n",
       "      <td>-0.043250</td>\n",
       "      <td>6.836991</td>\n",
       "      <td>2.920569</td>\n",
       "      <td>2.529641</td>\n",
       "      <td>0.930369</td>\n",
       "    </tr>\n",
       "  </tbody>\n",
       "</table>\n",
       "</div>"
      ],
      "text/plain": [
       "             county  exposure_grp_mem_county  exposure_grp_mem_high_county  \\\n",
       "count   3012.000000              3012.000000                   3012.000000   \n",
       "mean   30206.501328                 0.906089                      1.078581   \n",
       "std    15139.364060                 0.211814                      0.209551   \n",
       "min     1001.000000                 0.255200                      0.510130   \n",
       "25%    18166.500000                 0.765533                      0.931867   \n",
       "50%    29116.000000                 0.905695                      1.081650   \n",
       "75%    45037.500000                 1.052710                      1.227383   \n",
       "max    56045.000000                 1.486280                      1.666160   \n",
       "\n",
       "       bias_grp_mem_county  bias_grp_mem_high_county      Epsilon  \\\n",
       "count          3012.000000               3012.000000  3012.000000   \n",
       "mean              0.064161                 -0.187968     1.354583   \n",
       "std               0.050633                  0.064644     0.675489   \n",
       "min              -0.108090                 -0.536180     0.345641   \n",
       "25%               0.030808                 -0.221698     0.899858   \n",
       "50%               0.063970                 -0.179075     1.208249   \n",
       "75%               0.095450                 -0.143335     1.612561   \n",
       "max               0.334570                 -0.043250     6.836991   \n",
       "\n",
       "       EpsilonHigh          Rho      RhoHigh  \n",
       "count  3012.000000  3012.000000  3012.000000  \n",
       "mean      0.932459     1.131563     0.661774  \n",
       "std       0.416315     0.113567     0.052487  \n",
       "min       0.200365     0.796738     0.499872  \n",
       "25%       0.629484     1.059508     0.625343  \n",
       "50%       0.849027     1.125496     0.657728  \n",
       "75%       1.146228     1.192859     0.692894  \n",
       "max       2.920569     2.529641     0.930369  "
      ]
     },
     "execution_count": 29,
     "metadata": {},
     "output_type": "execute_result"
    }
   ],
   "source": [
    "\n",
    "'''DESCRIPTIVE STATISTICS'''\n",
    "df_eps_rho_chetty = pd.read_csv('EpsRhoCalcs.csv')[['county', 'county_name', 'exposure_grp_mem_county', 'exposure_grp_mem_high_county', 'bias_grp_mem_county', 'bias_grp_mem_high_county', 'Epsilon', 'EpsilonHigh', 'Rho', 'RhoHigh']].dropna()\n",
    "\n",
    "df_eps_rho_chetty = df_eps_rho_chetty.apply(pd.to_numeric, errors='ignore')\n",
    "\n",
    "\n",
    "df_chetty_summ = df_eps_rho_chetty[['Epsilon', 'Rho']].describe().round(4)\n",
    "#df_chetty_summ.loc['skew'] = df_chetty_summ.skew()\n",
    "#df_chetty_summ.to_latex('data.tex')\n",
    "\n",
    "#Stargazer(df_chetty_summ)\n",
    "#df_eps_rho_chetty.skew()\n",
    "\n",
    "eps_all = list(df_eps_rho_chetty['Epsilon'].values) + list(df_eps_rho_chetty['EpsilonHigh'].values)\n",
    "rho_all = list(df_eps_rho_chetty['Rho'].values) + list(df_eps_rho_chetty['RhoHigh'].values)\n",
    "\n",
    "print(pearsonr(eps_all, rho_all))\n",
    "\n",
    "df_eps_rho_chetty[['Epsilon', 'Rho', 'EpsilonHigh', 'RhoHigh']].corr()\n",
    "\n",
    "np.mean(rho_all)\n",
    "\n",
    "df_eps_rho_chetty.describe()\n"
   ]
  },
  {
   "cell_type": "code",
   "execution_count": 3,
   "metadata": {},
   "outputs": [
    {
     "name": "stdout",
     "output_type": "stream",
     "text": [
      "Epsilon has a SW stat of 0.901 with p-value 2.6e-40\n",
      "Rho has a SW stat of 0.992 with p-value 5.1e-12\n"
     ]
    }
   ],
   "source": [
    "\n",
    "'''FIGURES'''\n",
    "\n",
    "# import the data, convert\n",
    "df_eps_rho_chetty = pd.read_csv('EpsRhoCalcs.csv')[['county', 'county_name', 'exposure_grp_mem_county', 'exposure_grp_mem_high_county', 'bias_grp_mem_county', 'bias_grp_mem_high_county', 'Epsilon', 'EpsilonHigh', 'Rho', 'RhoHigh']].dropna()\n",
    "df_eps_rho_chetty = df_eps_rho_chetty.apply(pd.to_numeric, errors='ignore')\n",
    "df_eps_rho_chetty[\"EpsilonColor\"] = np.where(df_eps_rho_chetty[\"Epsilon\"]<1, 'red', 'blue')\n",
    "df_eps_rho_chetty[\"RhoColor\"] = np.where(df_eps_rho_chetty[\"Rho\"]<1, 'red', 'blue')\n",
    "\n",
    "\n",
    "vars = ['Epsilon', 'Rho']# 'EpsilonHigh', 'Rho', 'RhoHigh']\n",
    "figs = []\n",
    "\n",
    "for var in vars:\n",
    "    # Winsorize at the 0.5% level\n",
    "    df_eps_rho_chetty = df_eps_rho_chetty[(df_eps_rho_chetty[var] <= df_eps_rho_chetty[var].quantile(0.995)) & df_eps_rho_chetty[var] >= df_eps_rho_chetty[var].quantile(0.005)]\n",
    "\n",
    "    #calculate mean and variance\n",
    "    mu, std = norm.fit(df_eps_rho_chetty[var])\n",
    "\n",
    "    # Shapiro Wilk test (want p<0.05)\n",
    "    stat, p = shapiro(df_eps_rho_chetty[var])\n",
    "\n",
    "    # count share below 1\n",
    "    below_one_share = len([x for x in list(df_eps_rho_chetty[var]) if x < 1]) / len(list(df_eps_rho_chetty[var]))\n",
    "\n",
    "    fig_title = f'{var} density plot<br>Winsorised at 0.5% level<br>Normal distribution: mean={round(mu,3)}, se={round(std, 3)}<br>Shapiro-Wilk stat and prob: {format(stat, \".3f\")}, {\"{:.1e}\".format(p)}<br>Prob <1: {round(below_one_share, 3)}'\n",
    "\n",
    "    # Create a histogram of the column\n",
    "    fig = px.histogram(df_eps_rho_chetty, x=var, nbins=100, opacity=0.9, marginal=None, histnorm='probability density', title=fig_title, width=600, height=600)#, color=df_eps_rho_chetty[var + 'Color'])\n",
    "\n",
    "    # Add a normal distribution curve to the histogram\n",
    "    x_axis = np.linspace(df_eps_rho_chetty[var].min(), df_eps_rho_chetty[var].max(), 100)\n",
    "    y_axis = norm.pdf(x_axis, mu, std)\n",
    "    curve = go.Scatter(x=x_axis, y=y_axis, mode='lines', line=dict(width=2, color='black'), name=f'Normal Distribution: ', showlegend=False)\n",
    "    fig.add_trace(curve)\n",
    "\n",
    "    figs.append(fig)\n",
    "\n",
    "for var in vars:\n",
    "    stat, p = shapiro(df_eps_rho_chetty[var])\n",
    "    print(f'{var} has a SW stat of {format(stat, \".3f\")} with p-value {\"{:.1e}\".format(p)}')\n",
    "\n",
    "\n"
   ]
  },
  {
   "attachments": {},
   "cell_type": "markdown",
   "metadata": {},
   "source": [
    "# New stuff"
   ]
  },
  {
   "attachments": {},
   "cell_type": "markdown",
   "metadata": {},
   "source": [
    "### General simulation code"
   ]
  },
  {
   "cell_type": "code",
   "execution_count": 3,
   "metadata": {},
   "outputs": [],
   "source": [
    "\n",
    "# runs a lot of MTO simulations for a givne list of epsilon and rho values, returning a df\n",
    "def MTO_simulator(initial_n=0, T=100, m=10, pm_o=1, n=10, pn_o=1, p_SES_high=0.5, list_rho_values=[1], list_eps_values=[1], num_sim_per_param=1, num_MTO_per_sim=10):\n",
    "\n",
    "    total_sims = 0\n",
    "    list_sim_stats = []\n",
    "    n_sims = len(list_eps_values) * len(list_rho_values) * num_sim_per_param * num_MTO_per_sim\n",
    "    t0 = time.time()\n",
    "\n",
    "    print(f'Running {n_sims} simulations over {len(list_eps_values) * len(list_rho_values)} parameter combinations')\n",
    "\n",
    "    # iterate over eps values\n",
    "    for i in range(len(list_eps_values)):\n",
    "\n",
    "        # iterate over rho values\n",
    "        for j in range(len(list_rho_values)):\n",
    "\n",
    "            # create a network and run MTO sims\n",
    "            for k in range(num_sim_per_param):\n",
    "                # create network\n",
    "                network_sim = JacksonSimulationV2(initial_n, T, m, pm_o, n, pn_o, p_SES_high, biased=True, epsilon = list_eps_values[i], rho=list_rho_values[j])\n",
    "\n",
    "                # run MTO simulations\n",
    "                df_MTO_sim = network_sim.MTO_sim_many(network_sim.graph_history[-1], n_sims=num_MTO_per_sim)\n",
    "\n",
    "\n",
    "                # calculate network-wide characteristics\n",
    "                SES_assortativity = nx.assortativity.attribute_assortativity_coefficient(network_sim.graph_history[-1], 'SES_High')\n",
    "                H_Share_H, H_Share_L = network_sim.helper_functions().average_neighbour_type_per_SES(network_sim.graph_history[-1])\n",
    "                Network_Degree = sum(dict(network_sim.graph_history[-1].degree()).values()) / len(network_sim.graph_history[-1])\n",
    "                Network_Clustering = nx.average_clustering(network_sim.graph_history[-1])\n",
    "\n",
    "                list_network_chars = [SES_assortativity, H_Share_H, H_Share_L, Network_Degree, Network_Clustering]\n",
    "                list_network_char_names = ['Network_SES_assortativity', 'Network_H_Share_H', 'Network_H_Share_L', 'Network_Degree', 'Network_Clustering']\n",
    "\n",
    "                # add the values to the df\n",
    "                for n in range(len(list_network_chars)):\n",
    "                    df_MTO_sim[list_network_char_names[n]] = list_network_chars[n]\n",
    "\n",
    "                # append to list\n",
    "                list_sim_stats.append(df_MTO_sim)\n",
    "                print('\\r', f'Finished simulation {k}/{num_sim_per_param} for combination {total_sims}/{len(list_eps_values)*len(list_rho_values)}', end='')\n",
    "        \n",
    "            total_sims += 1\n",
    "\n",
    "    delta_t = round((time.time()-t0)/60, 2)\n",
    "\n",
    "    print('\\r', f'Finished {n_sims} simulations in {delta_t} minutes, average time: {delta_t/n_sims} min/sim', end='')\n",
    "    df_MTO_output = pd.concat(list_sim_stats).reset_index(drop=True)\n",
    "\n",
    "    # add predicted values\n",
    "    df_MTO_output['Predicted_H_Share'] = 1/((1+df_MTO_output['epsilon'])*(df_MTO_output['rho']))\n",
    "    df_MTO_output['Predicted_Exposure'] = 1/(df_MTO_output['p_SES_high']*(1+df_MTO_output['epsilon']))\n",
    "    df_MTO_output['Predicted_Friend_Bias'] = (df_MTO_output['epsilon']*(df_MTO_output['rho']-1))/(df_MTO_output['epsilon']*df_MTO_output['rho']+1)\n",
    "\n",
    "\n",
    "    return df_MTO_output\n",
    "\n",
    "\n",
    "#df_test = MTO_simulator(list_rho_values=[1,2], list_eps_values=[1,2], num_MTO_per_sim=100, num_sim_per_param=5)\n",
    "#df_test.sample(5)\n"
   ]
  },
  {
   "attachments": {},
   "cell_type": "markdown",
   "metadata": {},
   "source": [
    "### Epsilon effect on MTO"
   ]
  },
  {
   "cell_type": "code",
   "execution_count": 20,
   "metadata": {},
   "outputs": [
    {
     "data": {
      "text/html": [
       "<div>\n",
       "<style scoped>\n",
       "    .dataframe tbody tr th:only-of-type {\n",
       "        vertical-align: middle;\n",
       "    }\n",
       "\n",
       "    .dataframe tbody tr th {\n",
       "        vertical-align: top;\n",
       "    }\n",
       "\n",
       "    .dataframe thead th {\n",
       "        text-align: right;\n",
       "    }\n",
       "</style>\n",
       "<table border=\"1\" class=\"dataframe\">\n",
       "  <thead>\n",
       "    <tr style=\"text-align: right;\">\n",
       "      <th></th>\n",
       "      <th>sim_id</th>\n",
       "      <th>p_SES_high</th>\n",
       "      <th>epsilon</th>\n",
       "      <th>rho</th>\n",
       "      <th>H_Share</th>\n",
       "      <th>Exposure</th>\n",
       "      <th>Friend_Bias</th>\n",
       "      <th>N_exposure</th>\n",
       "      <th>Degree</th>\n",
       "      <th>Network_SES_assortativity</th>\n",
       "      <th>Network_H_Share_H</th>\n",
       "      <th>Network_H_Share_L</th>\n",
       "      <th>Network_Degree</th>\n",
       "      <th>Network_Clustering</th>\n",
       "      <th>Predicted_H_Share</th>\n",
       "      <th>Predicted_Exposure</th>\n",
       "      <th>Predicted_Friend_Bias</th>\n",
       "    </tr>\n",
       "  </thead>\n",
       "  <tbody>\n",
       "    <tr>\n",
       "      <th>106154</th>\n",
       "      <td>bldKBovX</td>\n",
       "      <td>0.5</td>\n",
       "      <td>0.85</td>\n",
       "      <td>1.25</td>\n",
       "      <td>0.230769</td>\n",
       "      <td>0.461538</td>\n",
       "      <td>0.923077</td>\n",
       "      <td>14</td>\n",
       "      <td>13</td>\n",
       "      <td>0.032058</td>\n",
       "      <td>0.458220</td>\n",
       "      <td>0.431050</td>\n",
       "      <td>22.42</td>\n",
       "      <td>0.273586</td>\n",
       "      <td>0.432432</td>\n",
       "      <td>1.081081</td>\n",
       "      <td>0.103030</td>\n",
       "    </tr>\n",
       "    <tr>\n",
       "      <th>416007</th>\n",
       "      <td>snxbiIlt</td>\n",
       "      <td>0.5</td>\n",
       "      <td>1.88</td>\n",
       "      <td>1.50</td>\n",
       "      <td>0.153846</td>\n",
       "      <td>0.428571</td>\n",
       "      <td>0.948718</td>\n",
       "      <td>14</td>\n",
       "      <td>13</td>\n",
       "      <td>0.422161</td>\n",
       "      <td>0.763697</td>\n",
       "      <td>0.323370</td>\n",
       "      <td>21.04</td>\n",
       "      <td>0.275803</td>\n",
       "      <td>0.231481</td>\n",
       "      <td>0.694444</td>\n",
       "      <td>0.246073</td>\n",
       "    </tr>\n",
       "    <tr>\n",
       "      <th>71895</th>\n",
       "      <td>pwRtAKJI</td>\n",
       "      <td>0.5</td>\n",
       "      <td>0.73</td>\n",
       "      <td>1.50</td>\n",
       "      <td>0.214286</td>\n",
       "      <td>0.428571</td>\n",
       "      <td>0.928571</td>\n",
       "      <td>14</td>\n",
       "      <td>14</td>\n",
       "      <td>0.076316</td>\n",
       "      <td>0.385028</td>\n",
       "      <td>0.306018</td>\n",
       "      <td>20.64</td>\n",
       "      <td>0.261309</td>\n",
       "      <td>0.385356</td>\n",
       "      <td>1.156069</td>\n",
       "      <td>0.174224</td>\n",
       "    </tr>\n",
       "    <tr>\n",
       "      <th>403060</th>\n",
       "      <td>dBDDFyoI</td>\n",
       "      <td>0.5</td>\n",
       "      <td>1.84</td>\n",
       "      <td>1.25</td>\n",
       "      <td>0.454545</td>\n",
       "      <td>1.142857</td>\n",
       "      <td>0.943182</td>\n",
       "      <td>14</td>\n",
       "      <td>11</td>\n",
       "      <td>0.327096</td>\n",
       "      <td>0.700388</td>\n",
       "      <td>0.354626</td>\n",
       "      <td>22.02</td>\n",
       "      <td>0.284262</td>\n",
       "      <td>0.281690</td>\n",
       "      <td>0.704225</td>\n",
       "      <td>0.139394</td>\n",
       "    </tr>\n",
       "    <tr>\n",
       "      <th>106424</th>\n",
       "      <td>ZcWDAUYc</td>\n",
       "      <td>0.5</td>\n",
       "      <td>0.85</td>\n",
       "      <td>1.25</td>\n",
       "      <td>0.363636</td>\n",
       "      <td>1.000000</td>\n",
       "      <td>0.948052</td>\n",
       "      <td>14</td>\n",
       "      <td>11</td>\n",
       "      <td>0.002612</td>\n",
       "      <td>0.516520</td>\n",
       "      <td>0.497920</td>\n",
       "      <td>22.14</td>\n",
       "      <td>0.274465</td>\n",
       "      <td>0.432432</td>\n",
       "      <td>1.081081</td>\n",
       "      <td>0.103030</td>\n",
       "    </tr>\n",
       "  </tbody>\n",
       "</table>\n",
       "</div>"
      ],
      "text/plain": [
       "          sim_id  p_SES_high  epsilon   rho   H_Share  Exposure  Friend_Bias  \\\n",
       "106154  bldKBovX         0.5     0.85  1.25  0.230769  0.461538     0.923077   \n",
       "416007  snxbiIlt         0.5     1.88  1.50  0.153846  0.428571     0.948718   \n",
       "71895   pwRtAKJI         0.5     0.73  1.50  0.214286  0.428571     0.928571   \n",
       "403060  dBDDFyoI         0.5     1.84  1.25  0.454545  1.142857     0.943182   \n",
       "106424  ZcWDAUYc         0.5     0.85  1.25  0.363636  1.000000     0.948052   \n",
       "\n",
       "        N_exposure  Degree  Network_SES_assortativity  Network_H_Share_H  \\\n",
       "106154          14      13                   0.032058           0.458220   \n",
       "416007          14      13                   0.422161           0.763697   \n",
       "71895           14      14                   0.076316           0.385028   \n",
       "403060          14      11                   0.327096           0.700388   \n",
       "106424          14      11                   0.002612           0.516520   \n",
       "\n",
       "        Network_H_Share_L  Network_Degree  Network_Clustering  \\\n",
       "106154           0.431050           22.42            0.273586   \n",
       "416007           0.323370           21.04            0.275803   \n",
       "71895            0.306018           20.64            0.261309   \n",
       "403060           0.354626           22.02            0.284262   \n",
       "106424           0.497920           22.14            0.274465   \n",
       "\n",
       "        Predicted_H_Share  Predicted_Exposure  Predicted_Friend_Bias  \n",
       "106154           0.432432            1.081081               0.103030  \n",
       "416007           0.231481            0.694444               0.246073  \n",
       "71895            0.385356            1.156069               0.174224  \n",
       "403060           0.281690            0.704225               0.139394  \n",
       "106424           0.432432            1.081081               0.103030  "
      ]
     },
     "execution_count": 20,
     "metadata": {},
     "output_type": "execute_result"
    }
   ],
   "source": [
    "\n",
    "# general simulation stuff\n",
    "list_eps_values = np.arange(0.5, 2, 0.01)\n",
    "\n",
    "num_sim_per_param = 10 # number of simulations with given parameter set\n",
    "num_MTO_per_sim = 100 # number of simulations on each network\n",
    "\n",
    "\n",
    "#df_eps = MTO_simulator(list_rho_values=[1, 1.25, 1.5], list_eps_values=list_eps_values, num_MTO_per_sim=num_MTO_per_sim, num_sim_per_param=num_sim_per_param)\n",
    "#df_eps.sample(5)\n",
    "#df_eps.to_csv('eps_sim.csv')\n",
    "\n",
    "df_eps = pd.read_csv('SimulationData/eps_sim.csv')\n",
    "df_eps.sample(5)\n",
    "\n"
   ]
  },
  {
   "cell_type": "code",
   "execution_count": 29,
   "metadata": {},
   "outputs": [
    {
     "data": {
      "application/vnd.plotly.v1+json": {
       "config": {
        "plotlyServerURL": "https://plot.ly"
       },
       "data": [
        {
         "line": {
          "color": "rgba(255,0,0,1)",
          "width": 2
         },
         "mode": "lines",
         "name": "",
         "showlegend": true,
         "type": "scatter",
         "x": [
          0.5,
          0.51,
          0.52,
          0.53,
          0.54,
          0.55,
          0.56,
          0.57,
          0.58,
          0.59,
          0.6,
          0.61,
          0.62,
          0.63,
          0.64,
          0.65,
          0.66,
          0.67,
          0.68,
          0.69,
          0.7,
          0.71,
          0.72,
          0.73,
          0.74,
          0.75,
          0.76,
          0.77,
          0.78,
          0.79,
          0.8,
          0.81,
          0.82,
          0.83,
          0.84,
          0.85,
          0.86,
          0.87,
          0.88,
          0.89,
          0.9,
          0.91,
          0.92,
          0.93,
          0.94,
          0.95,
          0.96,
          0.97,
          0.98,
          0.99,
          1,
          1.01,
          1.02,
          1.03,
          1.04,
          1.05,
          1.06,
          1.07,
          1.08,
          1.09,
          1.1,
          1.11,
          1.12,
          1.13,
          1.14,
          1.15,
          1.16,
          1.17,
          1.18,
          1.19,
          1.2,
          1.21,
          1.22,
          1.23,
          1.24,
          1.25,
          1.26,
          1.27,
          1.28,
          1.29,
          1.3,
          1.31,
          1.32,
          1.33,
          1.34,
          1.35,
          1.36,
          1.37,
          1.38,
          1.39,
          1.4,
          1.41,
          1.42,
          1.43,
          1.44,
          1.45,
          1.46,
          1.47,
          1.48,
          1.49,
          1.5,
          1.51,
          1.52,
          1.53,
          1.54,
          1.55,
          1.56,
          1.57,
          1.58,
          1.59,
          1.6,
          1.61,
          1.62,
          1.63,
          1.64,
          1.65,
          1.66,
          1.67,
          1.68,
          1.69,
          1.7,
          1.71,
          1.72,
          1.73,
          1.74,
          1.75,
          1.76,
          1.77,
          1.78,
          1.79,
          1.8,
          1.81,
          1.82,
          1.83,
          1.84,
          1.85,
          1.86,
          1.87,
          1.88,
          1.89,
          1.9,
          1.91,
          1.92,
          1.93,
          1.94,
          1.95,
          1.96,
          1.97,
          1.98,
          1.99
         ],
         "y": [
          0.6458265404,
          0.6346333506999999,
          0.6286232448000001,
          0.623078431,
          0.5690068565,
          0.6310652701,
          0.6066466014,
          0.6465364091,
          0.6281002375000001,
          0.5990354727,
          0.5952747263,
          0.5942726368,
          0.5950370687,
          0.5907148862,
          0.5913581528999999,
          0.6116884837,
          0.5937816606999999,
          0.5862092817,
          0.5990895392,
          0.59987064,
          0.5769584917,
          0.5447148004,
          0.5748182357,
          0.5656978027,
          0.5637813007999999,
          0.5703367153000001,
          0.5540474600999999,
          0.5318680983,
          0.5470113798,
          0.5383310053,
          0.5493600707,
          0.5404951413,
          0.5412736834999999,
          0.5261590501000001,
          0.5178319422,
          0.526839422,
          0.5443439055,
          0.5473838338,
          0.5374031286,
          0.5391164363000001,
          0.5205728404000001,
          0.5436487181,
          0.4969023879,
          0.4828716561,
          0.5313203937,
          0.5034558538,
          0.49407291670000003,
          0.5078837886,
          0.5214694,
          0.4996487107,
          0.5025228523999999,
          0.5181430675,
          0.4924751321,
          0.4939169819,
          0.4807510305,
          0.5050954819,
          0.5103537503,
          0.5107601008,
          0.4816764135,
          0.4869431755,
          0.4602579965,
          0.4914405864,
          0.4716517775,
          0.4490755872,
          0.4506838987,
          0.4851499841,
          0.45450712499999996,
          0.48479001200000005,
          0.4579174152,
          0.4617088298,
          0.47958146890000003,
          0.4653948995,
          0.4521351288,
          0.4895735813,
          0.491645557,
          0.44690710159999997,
          0.48478392070000004,
          0.4269088856,
          0.46855845479999997,
          0.4835497735,
          0.45233021500000004,
          0.4519730424,
          0.4745792925,
          0.4699370676,
          0.4305212489,
          0.4482370967,
          0.41518460929999995,
          0.4233319191,
          0.42885763930000004,
          0.4287609799,
          0.46119726809999995,
          0.4265389022,
          0.4268440179,
          0.39750728649999995,
          0.4090587912,
          0.4187459944,
          0.4452080658,
          0.4311765938,
          0.4342838326,
          0.4489808609,
          0.412199213,
          0.41896087249999997,
          0.4122761527,
          0.40621819420000005,
          0.41234265859999997,
          0.4330671866,
          0.4185876527,
          0.4145218519,
          0.38517483900000005,
          0.4115002485,
          0.3917821747,
          0.3998493974,
          0.4132609459,
          0.3938914758,
          0.3917450215,
          0.40066003590000004,
          0.3966903663,
          0.39695441189999997,
          0.38072220170000004,
          0.4495440861,
          0.3943141374,
          0.40420165579999995,
          0.3873841126,
          0.3997474186,
          0.41094944679999995,
          0.37315084530000003,
          0.3862574967,
          0.39918031280000005,
          0.41341798669999996,
          0.38625516419999995,
          0.3902124915,
          0.3891482443,
          0.39304371400000004,
          0.4125305118,
          0.3936369964,
          0.3906580397,
          0.3931886304,
          0.368702157,
          0.38223573,
          0.3767966004,
          0.3875950828,
          0.37105402019999995,
          0.3825089607,
          0.37146719310000004,
          0.3596190685,
          0.3801367265,
          0.37509465399999997,
          0.34909505960000003,
          0.3646368709,
          0.3708148805
         ]
        },
        {
         "line": {
          "color": "rgba(255,0,0,0.25)",
          "width": 2
         },
         "mode": "lines",
         "showlegend": false,
         "type": "scatter",
         "x": [
          0.5,
          0.51,
          0.52,
          0.53,
          0.54,
          0.55,
          0.56,
          0.57,
          0.58,
          0.59,
          0.6,
          0.61,
          0.62,
          0.63,
          0.64,
          0.65,
          0.66,
          0.67,
          0.68,
          0.69,
          0.7,
          0.71,
          0.72,
          0.73,
          0.74,
          0.75,
          0.76,
          0.77,
          0.78,
          0.79,
          0.8,
          0.81,
          0.82,
          0.83,
          0.84,
          0.85,
          0.86,
          0.87,
          0.88,
          0.89,
          0.9,
          0.91,
          0.92,
          0.93,
          0.94,
          0.95,
          0.96,
          0.97,
          0.98,
          0.99,
          1,
          1.01,
          1.02,
          1.03,
          1.04,
          1.05,
          1.06,
          1.07,
          1.08,
          1.09,
          1.1,
          1.11,
          1.12,
          1.13,
          1.14,
          1.15,
          1.16,
          1.17,
          1.18,
          1.19,
          1.2,
          1.21,
          1.22,
          1.23,
          1.24,
          1.25,
          1.26,
          1.27,
          1.28,
          1.29,
          1.3,
          1.31,
          1.32,
          1.33,
          1.34,
          1.35,
          1.36,
          1.37,
          1.38,
          1.39,
          1.4,
          1.41,
          1.42,
          1.43,
          1.44,
          1.45,
          1.46,
          1.47,
          1.48,
          1.49,
          1.5,
          1.51,
          1.52,
          1.53,
          1.54,
          1.55,
          1.56,
          1.57,
          1.58,
          1.59,
          1.6,
          1.61,
          1.62,
          1.63,
          1.64,
          1.65,
          1.66,
          1.67,
          1.68,
          1.69,
          1.7,
          1.71,
          1.72,
          1.73,
          1.74,
          1.75,
          1.76,
          1.77,
          1.78,
          1.79,
          1.8,
          1.81,
          1.82,
          1.83,
          1.84,
          1.85,
          1.86,
          1.87,
          1.88,
          1.89,
          1.9,
          1.91,
          1.92,
          1.93,
          1.94,
          1.95,
          1.96,
          1.97,
          1.98,
          1.99
         ],
         "y": [
          0.6465798373668186,
          0.6355123407039464,
          0.6294609121940269,
          0.623550292824231,
          0.5697145302652427,
          0.6318370563499253,
          0.607308144314868,
          0.647086518732169,
          0.628605955379606,
          0.5997852385990035,
          0.5960790775971501,
          0.5950548789408108,
          0.5956302209088074,
          0.5912344792264241,
          0.5922530417838366,
          0.6124022841983563,
          0.5944270225528664,
          0.5869368588329802,
          0.5996345842005409,
          0.600549399472106,
          0.5778470930728951,
          0.5454989791259798,
          0.5754116075420943,
          0.5663255687448012,
          0.5643153247327453,
          0.5706873161540134,
          0.5547051879433581,
          0.5325083548606456,
          0.5475751163115127,
          0.5391172546589852,
          0.5500530584647457,
          0.5412731171347456,
          0.5421109781935405,
          0.527135893526538,
          0.5184287114420651,
          0.5273917541589533,
          0.545031467258893,
          0.5479668779352113,
          0.537924334695864,
          0.53971791084926,
          0.5213755336921013,
          0.5444677387177862,
          0.4973654806086835,
          0.48346663643273896,
          0.5319048930686937,
          0.5039863545281456,
          0.4948764849561624,
          0.5085531750932486,
          0.5221053552940919,
          0.5003638958179336,
          0.5030494738638404,
          0.5188344026323841,
          0.4931760227293424,
          0.4947497856521385,
          0.48113346775393934,
          0.5056121107008665,
          0.5110953489099909,
          0.5114758015145114,
          0.4821534663559889,
          0.4872760111594762,
          0.4608413780305875,
          0.4922245962998771,
          0.47236224741719235,
          0.4496264069092876,
          0.45121784443902907,
          0.4858024704499232,
          0.4551811563018218,
          0.4852415846559965,
          0.45862456178158617,
          0.46229742475782787,
          0.480121204677189,
          0.46593985750697636,
          0.4526421393622034,
          0.4902623062829805,
          0.4923358708544139,
          0.4479291796347185,
          0.48535364118621444,
          0.42742469174580694,
          0.46918671121140426,
          0.484027263698516,
          0.4529905599435649,
          0.45252506606768006,
          0.4750560824083376,
          0.47057415644228323,
          0.43110021893698175,
          0.4488183388896966,
          0.4159275916412111,
          0.42412013742100885,
          0.42941569140504465,
          0.4294392660327139,
          0.46193989228594423,
          0.42742794965232583,
          0.42715120804480855,
          0.39825510906650463,
          0.40962424133457986,
          0.41904983352009134,
          0.44587525352453383,
          0.4318501000491747,
          0.4347030755711887,
          0.4496963225235736,
          0.4127759589816351,
          0.4194310419152097,
          0.41306054075772924,
          0.4070570915749374,
          0.413076274531653,
          0.4336022021483367,
          0.41921032827775007,
          0.41517526578056896,
          0.38562603211467256,
          0.41200982348566806,
          0.39239784430360414,
          0.40044291027321166,
          0.4139947678318114,
          0.39430282612264284,
          0.39245380617936587,
          0.40139485370147887,
          0.3972624932920167,
          0.3976175521885319,
          0.3811808337294521,
          0.4503630852557342,
          0.39469398385352006,
          0.4045898958093937,
          0.3876486201997756,
          0.40028941873760715,
          0.4115201668368094,
          0.3737583445198012,
          0.38674985684410756,
          0.3996057046319839,
          0.41400992646929946,
          0.386911387163886,
          0.3907246377997719,
          0.3897762703795108,
          0.39381178706703374,
          0.413075965922004,
          0.3943517569563568,
          0.3915295934557351,
          0.39383197599021696,
          0.36911906422340646,
          0.38286673734650845,
          0.3772241980988263,
          0.3883239472367504,
          0.3717360099455061,
          0.38335641821032096,
          0.3721398532885591,
          0.35983599732186766,
          0.3806714211125704,
          0.37581212701338224,
          0.34947329198508076,
          0.3651736348709341,
          0.3715134817995355
         ]
        },
        {
         "fill": "tonexty",
         "fillcolor": "rgba(68, 68, 68, 0.2)",
         "line": {
          "color": "rgba(255,0,0,0.25)",
          "width": 2
         },
         "mode": "lines",
         "showlegend": false,
         "type": "scatter",
         "x": [
          0.5,
          0.51,
          0.52,
          0.53,
          0.54,
          0.55,
          0.56,
          0.57,
          0.58,
          0.59,
          0.6,
          0.61,
          0.62,
          0.63,
          0.64,
          0.65,
          0.66,
          0.67,
          0.68,
          0.69,
          0.7,
          0.71,
          0.72,
          0.73,
          0.74,
          0.75,
          0.76,
          0.77,
          0.78,
          0.79,
          0.8,
          0.81,
          0.82,
          0.83,
          0.84,
          0.85,
          0.86,
          0.87,
          0.88,
          0.89,
          0.9,
          0.91,
          0.92,
          0.93,
          0.94,
          0.95,
          0.96,
          0.97,
          0.98,
          0.99,
          1,
          1.01,
          1.02,
          1.03,
          1.04,
          1.05,
          1.06,
          1.07,
          1.08,
          1.09,
          1.1,
          1.11,
          1.12,
          1.13,
          1.14,
          1.15,
          1.16,
          1.17,
          1.18,
          1.19,
          1.2,
          1.21,
          1.22,
          1.23,
          1.24,
          1.25,
          1.26,
          1.27,
          1.28,
          1.29,
          1.3,
          1.31,
          1.32,
          1.33,
          1.34,
          1.35,
          1.36,
          1.37,
          1.38,
          1.39,
          1.4,
          1.41,
          1.42,
          1.43,
          1.44,
          1.45,
          1.46,
          1.47,
          1.48,
          1.49,
          1.5,
          1.51,
          1.52,
          1.53,
          1.54,
          1.55,
          1.56,
          1.57,
          1.58,
          1.59,
          1.6,
          1.61,
          1.62,
          1.63,
          1.64,
          1.65,
          1.66,
          1.67,
          1.68,
          1.69,
          1.7,
          1.71,
          1.72,
          1.73,
          1.74,
          1.75,
          1.76,
          1.77,
          1.78,
          1.79,
          1.8,
          1.81,
          1.82,
          1.83,
          1.84,
          1.85,
          1.86,
          1.87,
          1.88,
          1.89,
          1.9,
          1.91,
          1.92,
          1.93,
          1.94,
          1.95,
          1.96,
          1.97,
          1.98,
          1.99
         ],
         "y": [
          0.6450732434331814,
          0.6337543606960535,
          0.6277855774059733,
          0.6226065691757691,
          0.5682991827347574,
          0.6302934838500748,
          0.6059850584851321,
          0.6459862994678309,
          0.6275945196203943,
          0.5982857068009966,
          0.5944703750028499,
          0.5934903946591892,
          0.5944439164911925,
          0.5901952931735759,
          0.5904632640161632,
          0.6109746832016436,
          0.5931362988471335,
          0.5854817045670198,
          0.598544494199459,
          0.5991918805278941,
          0.576069890327105,
          0.5439306216740202,
          0.5742248638579057,
          0.5650700366551988,
          0.5632472768672545,
          0.5699861144459868,
          0.5533897322566418,
          0.5312278417393544,
          0.5464476432884874,
          0.5375447559410148,
          0.5486670829352543,
          0.5397171654652544,
          0.5404363888064594,
          0.5251822066734622,
          0.5172351729579348,
          0.5262870898410467,
          0.543656343741107,
          0.5468007896647887,
          0.5368819225041359,
          0.5385149617507401,
          0.5197701471078988,
          0.5428296974822139,
          0.4964392951913165,
          0.482276675767261,
          0.5307358943313062,
          0.5029253530718545,
          0.4932693484438377,
          0.5072144021067515,
          0.5208334447059081,
          0.49893352558206633,
          0.5019962309361595,
          0.517451732367616,
          0.49177424147065757,
          0.4930841781478615,
          0.4803685932460607,
          0.5045788530991334,
          0.5096121516900091,
          0.5100444000854886,
          0.48119936064401114,
          0.48661033984052376,
          0.4596746149694125,
          0.4906565765001229,
          0.4709413075828076,
          0.4485247674907124,
          0.4501499529609709,
          0.4844974977500768,
          0.4538330936981781,
          0.4843384393440036,
          0.45721026861841385,
          0.4611202348421721,
          0.47904173312281106,
          0.46484994149302367,
          0.45162811823779664,
          0.4888848563170195,
          0.49095524314558614,
          0.4458850235652814,
          0.48421420021378564,
          0.4263930794541931,
          0.4679301983885957,
          0.483072283301484,
          0.45166987005643516,
          0.45142101873232,
          0.4741025025916625,
          0.46929997875771673,
          0.4299422788630182,
          0.44765585451030343,
          0.4144416269587888,
          0.42254370077899117,
          0.4282995871949554,
          0.42808269376728614,
          0.46045464391405566,
          0.4256498547476742,
          0.4265368277551914,
          0.39675946393349526,
          0.4084933410654201,
          0.41844215527990863,
          0.44454087807546616,
          0.43050308755082534,
          0.43386458962881125,
          0.4482653992764264,
          0.4116224670183649,
          0.41849070308479025,
          0.4114917646422708,
          0.4053792968250627,
          0.4116090426683469,
          0.43253217105166325,
          0.4179649771222499,
          0.4138684380194311,
          0.38472364588532754,
          0.41099067351433194,
          0.39116650509639583,
          0.3992558845267883,
          0.41252712396818864,
          0.39348012547735717,
          0.39103623682063415,
          0.3999252180985212,
          0.3961182393079833,
          0.39629127161146804,
          0.380263569670548,
          0.4487250869442658,
          0.3939342909464799,
          0.4038134157906062,
          0.3871196050002244,
          0.3992054184623929,
          0.4103787267631905,
          0.37254334608019885,
          0.3857651365558924,
          0.3987549209680162,
          0.41282604693070046,
          0.3855989412361139,
          0.38970034520022806,
          0.3885202182204892,
          0.39227564093296635,
          0.411985057677996,
          0.39292223584364316,
          0.3897864859442649,
          0.39254528480978307,
          0.3682852497765935,
          0.38160472265349155,
          0.37636900270117374,
          0.3868662183632496,
          0.3703720304544938,
          0.38166150318967906,
          0.370794532911441,
          0.3594021396781324,
          0.37960203188742964,
          0.3743771809866177,
          0.3487168272149193,
          0.3641001069290659,
          0.37011627920046447
         ]
        }
       ],
       "layout": {
        "font": {
         "size": 18
        },
        "height": 400,
        "legend": {
         "title": {
          "text": ""
         },
         "x": 0.6,
         "y": 1
        },
        "margin": {
         "b": 5,
         "l": 5,
         "r": 5,
         "t": 5
        },
        "plot_bgcolor": "rgba(0,0,0,0)",
        "showlegend": true,
        "template": {
         "data": {
          "bar": [
           {
            "error_x": {
             "color": "#2a3f5f"
            },
            "error_y": {
             "color": "#2a3f5f"
            },
            "marker": {
             "line": {
              "color": "#E5ECF6",
              "width": 0.5
             },
             "pattern": {
              "fillmode": "overlay",
              "size": 10,
              "solidity": 0.2
             }
            },
            "type": "bar"
           }
          ],
          "barpolar": [
           {
            "marker": {
             "line": {
              "color": "#E5ECF6",
              "width": 0.5
             },
             "pattern": {
              "fillmode": "overlay",
              "size": 10,
              "solidity": 0.2
             }
            },
            "type": "barpolar"
           }
          ],
          "carpet": [
           {
            "aaxis": {
             "endlinecolor": "#2a3f5f",
             "gridcolor": "white",
             "linecolor": "white",
             "minorgridcolor": "white",
             "startlinecolor": "#2a3f5f"
            },
            "baxis": {
             "endlinecolor": "#2a3f5f",
             "gridcolor": "white",
             "linecolor": "white",
             "minorgridcolor": "white",
             "startlinecolor": "#2a3f5f"
            },
            "type": "carpet"
           }
          ],
          "choropleth": [
           {
            "colorbar": {
             "outlinewidth": 0,
             "ticks": ""
            },
            "type": "choropleth"
           }
          ],
          "contour": [
           {
            "colorbar": {
             "outlinewidth": 0,
             "ticks": ""
            },
            "colorscale": [
             [
              0,
              "#0d0887"
             ],
             [
              0.1111111111111111,
              "#46039f"
             ],
             [
              0.2222222222222222,
              "#7201a8"
             ],
             [
              0.3333333333333333,
              "#9c179e"
             ],
             [
              0.4444444444444444,
              "#bd3786"
             ],
             [
              0.5555555555555556,
              "#d8576b"
             ],
             [
              0.6666666666666666,
              "#ed7953"
             ],
             [
              0.7777777777777778,
              "#fb9f3a"
             ],
             [
              0.8888888888888888,
              "#fdca26"
             ],
             [
              1,
              "#f0f921"
             ]
            ],
            "type": "contour"
           }
          ],
          "contourcarpet": [
           {
            "colorbar": {
             "outlinewidth": 0,
             "ticks": ""
            },
            "type": "contourcarpet"
           }
          ],
          "heatmap": [
           {
            "colorbar": {
             "outlinewidth": 0,
             "ticks": ""
            },
            "colorscale": [
             [
              0,
              "#0d0887"
             ],
             [
              0.1111111111111111,
              "#46039f"
             ],
             [
              0.2222222222222222,
              "#7201a8"
             ],
             [
              0.3333333333333333,
              "#9c179e"
             ],
             [
              0.4444444444444444,
              "#bd3786"
             ],
             [
              0.5555555555555556,
              "#d8576b"
             ],
             [
              0.6666666666666666,
              "#ed7953"
             ],
             [
              0.7777777777777778,
              "#fb9f3a"
             ],
             [
              0.8888888888888888,
              "#fdca26"
             ],
             [
              1,
              "#f0f921"
             ]
            ],
            "type": "heatmap"
           }
          ],
          "heatmapgl": [
           {
            "colorbar": {
             "outlinewidth": 0,
             "ticks": ""
            },
            "colorscale": [
             [
              0,
              "#0d0887"
             ],
             [
              0.1111111111111111,
              "#46039f"
             ],
             [
              0.2222222222222222,
              "#7201a8"
             ],
             [
              0.3333333333333333,
              "#9c179e"
             ],
             [
              0.4444444444444444,
              "#bd3786"
             ],
             [
              0.5555555555555556,
              "#d8576b"
             ],
             [
              0.6666666666666666,
              "#ed7953"
             ],
             [
              0.7777777777777778,
              "#fb9f3a"
             ],
             [
              0.8888888888888888,
              "#fdca26"
             ],
             [
              1,
              "#f0f921"
             ]
            ],
            "type": "heatmapgl"
           }
          ],
          "histogram": [
           {
            "marker": {
             "pattern": {
              "fillmode": "overlay",
              "size": 10,
              "solidity": 0.2
             }
            },
            "type": "histogram"
           }
          ],
          "histogram2d": [
           {
            "colorbar": {
             "outlinewidth": 0,
             "ticks": ""
            },
            "colorscale": [
             [
              0,
              "#0d0887"
             ],
             [
              0.1111111111111111,
              "#46039f"
             ],
             [
              0.2222222222222222,
              "#7201a8"
             ],
             [
              0.3333333333333333,
              "#9c179e"
             ],
             [
              0.4444444444444444,
              "#bd3786"
             ],
             [
              0.5555555555555556,
              "#d8576b"
             ],
             [
              0.6666666666666666,
              "#ed7953"
             ],
             [
              0.7777777777777778,
              "#fb9f3a"
             ],
             [
              0.8888888888888888,
              "#fdca26"
             ],
             [
              1,
              "#f0f921"
             ]
            ],
            "type": "histogram2d"
           }
          ],
          "histogram2dcontour": [
           {
            "colorbar": {
             "outlinewidth": 0,
             "ticks": ""
            },
            "colorscale": [
             [
              0,
              "#0d0887"
             ],
             [
              0.1111111111111111,
              "#46039f"
             ],
             [
              0.2222222222222222,
              "#7201a8"
             ],
             [
              0.3333333333333333,
              "#9c179e"
             ],
             [
              0.4444444444444444,
              "#bd3786"
             ],
             [
              0.5555555555555556,
              "#d8576b"
             ],
             [
              0.6666666666666666,
              "#ed7953"
             ],
             [
              0.7777777777777778,
              "#fb9f3a"
             ],
             [
              0.8888888888888888,
              "#fdca26"
             ],
             [
              1,
              "#f0f921"
             ]
            ],
            "type": "histogram2dcontour"
           }
          ],
          "mesh3d": [
           {
            "colorbar": {
             "outlinewidth": 0,
             "ticks": ""
            },
            "type": "mesh3d"
           }
          ],
          "parcoords": [
           {
            "line": {
             "colorbar": {
              "outlinewidth": 0,
              "ticks": ""
             }
            },
            "type": "parcoords"
           }
          ],
          "pie": [
           {
            "automargin": true,
            "type": "pie"
           }
          ],
          "scatter": [
           {
            "fillpattern": {
             "fillmode": "overlay",
             "size": 10,
             "solidity": 0.2
            },
            "type": "scatter"
           }
          ],
          "scatter3d": [
           {
            "line": {
             "colorbar": {
              "outlinewidth": 0,
              "ticks": ""
             }
            },
            "marker": {
             "colorbar": {
              "outlinewidth": 0,
              "ticks": ""
             }
            },
            "type": "scatter3d"
           }
          ],
          "scattercarpet": [
           {
            "marker": {
             "colorbar": {
              "outlinewidth": 0,
              "ticks": ""
             }
            },
            "type": "scattercarpet"
           }
          ],
          "scattergeo": [
           {
            "marker": {
             "colorbar": {
              "outlinewidth": 0,
              "ticks": ""
             }
            },
            "type": "scattergeo"
           }
          ],
          "scattergl": [
           {
            "marker": {
             "colorbar": {
              "outlinewidth": 0,
              "ticks": ""
             }
            },
            "type": "scattergl"
           }
          ],
          "scattermapbox": [
           {
            "marker": {
             "colorbar": {
              "outlinewidth": 0,
              "ticks": ""
             }
            },
            "type": "scattermapbox"
           }
          ],
          "scatterpolar": [
           {
            "marker": {
             "colorbar": {
              "outlinewidth": 0,
              "ticks": ""
             }
            },
            "type": "scatterpolar"
           }
          ],
          "scatterpolargl": [
           {
            "marker": {
             "colorbar": {
              "outlinewidth": 0,
              "ticks": ""
             }
            },
            "type": "scatterpolargl"
           }
          ],
          "scatterternary": [
           {
            "marker": {
             "colorbar": {
              "outlinewidth": 0,
              "ticks": ""
             }
            },
            "type": "scatterternary"
           }
          ],
          "surface": [
           {
            "colorbar": {
             "outlinewidth": 0,
             "ticks": ""
            },
            "colorscale": [
             [
              0,
              "#0d0887"
             ],
             [
              0.1111111111111111,
              "#46039f"
             ],
             [
              0.2222222222222222,
              "#7201a8"
             ],
             [
              0.3333333333333333,
              "#9c179e"
             ],
             [
              0.4444444444444444,
              "#bd3786"
             ],
             [
              0.5555555555555556,
              "#d8576b"
             ],
             [
              0.6666666666666666,
              "#ed7953"
             ],
             [
              0.7777777777777778,
              "#fb9f3a"
             ],
             [
              0.8888888888888888,
              "#fdca26"
             ],
             [
              1,
              "#f0f921"
             ]
            ],
            "type": "surface"
           }
          ],
          "table": [
           {
            "cells": {
             "fill": {
              "color": "#EBF0F8"
             },
             "line": {
              "color": "white"
             }
            },
            "header": {
             "fill": {
              "color": "#C8D4E3"
             },
             "line": {
              "color": "white"
             }
            },
            "type": "table"
           }
          ]
         },
         "layout": {
          "annotationdefaults": {
           "arrowcolor": "#2a3f5f",
           "arrowhead": 0,
           "arrowwidth": 1
          },
          "autotypenumbers": "strict",
          "coloraxis": {
           "colorbar": {
            "outlinewidth": 0,
            "ticks": ""
           }
          },
          "colorscale": {
           "diverging": [
            [
             0,
             "#8e0152"
            ],
            [
             0.1,
             "#c51b7d"
            ],
            [
             0.2,
             "#de77ae"
            ],
            [
             0.3,
             "#f1b6da"
            ],
            [
             0.4,
             "#fde0ef"
            ],
            [
             0.5,
             "#f7f7f7"
            ],
            [
             0.6,
             "#e6f5d0"
            ],
            [
             0.7,
             "#b8e186"
            ],
            [
             0.8,
             "#7fbc41"
            ],
            [
             0.9,
             "#4d9221"
            ],
            [
             1,
             "#276419"
            ]
           ],
           "sequential": [
            [
             0,
             "#0d0887"
            ],
            [
             0.1111111111111111,
             "#46039f"
            ],
            [
             0.2222222222222222,
             "#7201a8"
            ],
            [
             0.3333333333333333,
             "#9c179e"
            ],
            [
             0.4444444444444444,
             "#bd3786"
            ],
            [
             0.5555555555555556,
             "#d8576b"
            ],
            [
             0.6666666666666666,
             "#ed7953"
            ],
            [
             0.7777777777777778,
             "#fb9f3a"
            ],
            [
             0.8888888888888888,
             "#fdca26"
            ],
            [
             1,
             "#f0f921"
            ]
           ],
           "sequentialminus": [
            [
             0,
             "#0d0887"
            ],
            [
             0.1111111111111111,
             "#46039f"
            ],
            [
             0.2222222222222222,
             "#7201a8"
            ],
            [
             0.3333333333333333,
             "#9c179e"
            ],
            [
             0.4444444444444444,
             "#bd3786"
            ],
            [
             0.5555555555555556,
             "#d8576b"
            ],
            [
             0.6666666666666666,
             "#ed7953"
            ],
            [
             0.7777777777777778,
             "#fb9f3a"
            ],
            [
             0.8888888888888888,
             "#fdca26"
            ],
            [
             1,
             "#f0f921"
            ]
           ]
          },
          "colorway": [
           "#636efa",
           "#EF553B",
           "#00cc96",
           "#ab63fa",
           "#FFA15A",
           "#19d3f3",
           "#FF6692",
           "#B6E880",
           "#FF97FF",
           "#FECB52"
          ],
          "font": {
           "color": "#2a3f5f"
          },
          "geo": {
           "bgcolor": "white",
           "lakecolor": "white",
           "landcolor": "#E5ECF6",
           "showlakes": true,
           "showland": true,
           "subunitcolor": "white"
          },
          "hoverlabel": {
           "align": "left"
          },
          "hovermode": "closest",
          "mapbox": {
           "style": "light"
          },
          "paper_bgcolor": "white",
          "plot_bgcolor": "#E5ECF6",
          "polar": {
           "angularaxis": {
            "gridcolor": "white",
            "linecolor": "white",
            "ticks": ""
           },
           "bgcolor": "#E5ECF6",
           "radialaxis": {
            "gridcolor": "white",
            "linecolor": "white",
            "ticks": ""
           }
          },
          "scene": {
           "xaxis": {
            "backgroundcolor": "#E5ECF6",
            "gridcolor": "white",
            "gridwidth": 2,
            "linecolor": "white",
            "showbackground": true,
            "ticks": "",
            "zerolinecolor": "white"
           },
           "yaxis": {
            "backgroundcolor": "#E5ECF6",
            "gridcolor": "white",
            "gridwidth": 2,
            "linecolor": "white",
            "showbackground": true,
            "ticks": "",
            "zerolinecolor": "white"
           },
           "zaxis": {
            "backgroundcolor": "#E5ECF6",
            "gridcolor": "white",
            "gridwidth": 2,
            "linecolor": "white",
            "showbackground": true,
            "ticks": "",
            "zerolinecolor": "white"
           }
          },
          "shapedefaults": {
           "line": {
            "color": "#2a3f5f"
           }
          },
          "ternary": {
           "aaxis": {
            "gridcolor": "white",
            "linecolor": "white",
            "ticks": ""
           },
           "baxis": {
            "gridcolor": "white",
            "linecolor": "white",
            "ticks": ""
           },
           "bgcolor": "#E5ECF6",
           "caxis": {
            "gridcolor": "white",
            "linecolor": "white",
            "ticks": ""
           }
          },
          "title": {
           "x": 0.05
          },
          "xaxis": {
           "automargin": true,
           "gridcolor": "white",
           "linecolor": "white",
           "ticks": "",
           "title": {
            "standoff": 15
           },
           "zerolinecolor": "white",
           "zerolinewidth": 2
          },
          "yaxis": {
           "automargin": true,
           "gridcolor": "white",
           "linecolor": "white",
           "ticks": "",
           "title": {
            "standoff": 15
           },
           "zerolinecolor": "white",
           "zerolinewidth": 2
          }
         }
        },
        "title": {},
        "width": 400,
        "xaxis": {
         "linecolor": "rgb(0,0,0)",
         "linewidth": 2,
         "range": [
          0.5,
          2
         ],
         "showgrid": false,
         "showline": true,
         "title": {
          "text": "Epsilon"
         }
        },
        "yaxis": {
         "linecolor": "rgb(0,0,0)",
         "linewidth": 2,
         "range": [
          0,
          1
         ],
         "showgrid": false,
         "showline": true,
         "title": {
          "text": "Exposure"
         }
        }
       }
      }
     },
     "metadata": {},
     "output_type": "display_data"
    }
   ],
   "source": [
    "\n",
    "'''\n",
    "heatmap = px.density_heatmap(x=df_eps['epsilon'], y=df_eps['H_Share'], range_x=[0.5,2], range_y=[0,1])\n",
    "lines = px.line(x=df_eps['epsilon'], y=df_eps['Predicted_H_Share'], range_x=[0.5,2], range_y=[0,1])\n",
    "\n",
    "fig = go.Figure(data = heatmap.data + lines.data)\n",
    "fig.show()\n",
    "'''\n",
    "\n",
    "plotly_lines.plot_MTO_sim_results(plotly_lines(), data=df_eps[df_eps['rho'] == 1], x_var='epsilon', y_var='Network_H_Share_L', x_range=[0.5,2], y_range=[0,1], x_title='Epsilon', y_title='Exposure', with_predicted=False, colors=['rgba(255,0,0,1)', 'rgba(0,255,0,1)'])\n",
    "\n",
    "\n"
   ]
  },
  {
   "attachments": {},
   "cell_type": "markdown",
   "metadata": {},
   "source": [
    "### Rho effect on MTO"
   ]
  },
  {
   "cell_type": "code",
   "execution_count": 16,
   "metadata": {},
   "outputs": [
    {
     "data": {
      "text/html": [
       "<div>\n",
       "<style scoped>\n",
       "    .dataframe tbody tr th:only-of-type {\n",
       "        vertical-align: middle;\n",
       "    }\n",
       "\n",
       "    .dataframe tbody tr th {\n",
       "        vertical-align: top;\n",
       "    }\n",
       "\n",
       "    .dataframe thead th {\n",
       "        text-align: right;\n",
       "    }\n",
       "</style>\n",
       "<table border=\"1\" class=\"dataframe\">\n",
       "  <thead>\n",
       "    <tr style=\"text-align: right;\">\n",
       "      <th></th>\n",
       "      <th>Unnamed: 0</th>\n",
       "      <th>sim_id</th>\n",
       "      <th>p_SES_high</th>\n",
       "      <th>epsilon</th>\n",
       "      <th>rho</th>\n",
       "      <th>H_Share</th>\n",
       "      <th>Exposure</th>\n",
       "      <th>Friend_Bias</th>\n",
       "      <th>N_exposure</th>\n",
       "      <th>Degree</th>\n",
       "      <th>Network_SES_assortativity</th>\n",
       "      <th>Network_H_Share_H</th>\n",
       "      <th>Network_H_Share_L</th>\n",
       "      <th>Network_Degree</th>\n",
       "      <th>Network_Clustering</th>\n",
       "      <th>Predicted_H_Share</th>\n",
       "      <th>Predicted_Exposure</th>\n",
       "      <th>Predicted_Friend_Bias</th>\n",
       "    </tr>\n",
       "  </thead>\n",
       "  <tbody>\n",
       "    <tr>\n",
       "      <th>220616</th>\n",
       "      <td>220616</td>\n",
       "      <td>PSBqoYwx</td>\n",
       "      <td>0.5</td>\n",
       "      <td>1.50</td>\n",
       "      <td>1.20</td>\n",
       "      <td>0.363636</td>\n",
       "      <td>0.923077</td>\n",
       "      <td>0.939394</td>\n",
       "      <td>14</td>\n",
       "      <td>11</td>\n",
       "      <td>0.184696</td>\n",
       "      <td>0.562626</td>\n",
       "      <td>0.363968</td>\n",
       "      <td>22.42</td>\n",
       "      <td>0.273072</td>\n",
       "      <td>0.333333</td>\n",
       "      <td>0.800000</td>\n",
       "      <td>0.107143</td>\n",
       "    </tr>\n",
       "    <tr>\n",
       "      <th>168220</th>\n",
       "      <td>168220</td>\n",
       "      <td>GTrzcAKI</td>\n",
       "      <td>0.5</td>\n",
       "      <td>1.25</td>\n",
       "      <td>1.68</td>\n",
       "      <td>0.307692</td>\n",
       "      <td>0.714286</td>\n",
       "      <td>0.938462</td>\n",
       "      <td>14</td>\n",
       "      <td>13</td>\n",
       "      <td>0.237305</td>\n",
       "      <td>0.556455</td>\n",
       "      <td>0.304101</td>\n",
       "      <td>19.92</td>\n",
       "      <td>0.257679</td>\n",
       "      <td>0.264550</td>\n",
       "      <td>0.888889</td>\n",
       "      <td>0.274194</td>\n",
       "    </tr>\n",
       "    <tr>\n",
       "      <th>239658</th>\n",
       "      <td>239658</td>\n",
       "      <td>liGVDWHx</td>\n",
       "      <td>0.5</td>\n",
       "      <td>1.50</td>\n",
       "      <td>1.39</td>\n",
       "      <td>0.214286</td>\n",
       "      <td>0.428571</td>\n",
       "      <td>0.928571</td>\n",
       "      <td>14</td>\n",
       "      <td>14</td>\n",
       "      <td>0.277930</td>\n",
       "      <td>0.700215</td>\n",
       "      <td>0.410837</td>\n",
       "      <td>21.58</td>\n",
       "      <td>0.279944</td>\n",
       "      <td>0.287770</td>\n",
       "      <td>0.800000</td>\n",
       "      <td>0.189627</td>\n",
       "    </tr>\n",
       "    <tr>\n",
       "      <th>93530</th>\n",
       "      <td>93530</td>\n",
       "      <td>bWauSXDu</td>\n",
       "      <td>0.5</td>\n",
       "      <td>1.00</td>\n",
       "      <td>1.93</td>\n",
       "      <td>0.333333</td>\n",
       "      <td>1.142857</td>\n",
       "      <td>0.958333</td>\n",
       "      <td>14</td>\n",
       "      <td>9</td>\n",
       "      <td>0.296085</td>\n",
       "      <td>0.642491</td>\n",
       "      <td>0.334876</td>\n",
       "      <td>18.52</td>\n",
       "      <td>0.244299</td>\n",
       "      <td>0.259067</td>\n",
       "      <td>1.000000</td>\n",
       "      <td>0.317406</td>\n",
       "    </tr>\n",
       "    <tr>\n",
       "      <th>274179</th>\n",
       "      <td>274179</td>\n",
       "      <td>JbKpvGNw</td>\n",
       "      <td>0.5</td>\n",
       "      <td>1.50</td>\n",
       "      <td>1.74</td>\n",
       "      <td>0.454545</td>\n",
       "      <td>1.142857</td>\n",
       "      <td>0.943182</td>\n",
       "      <td>14</td>\n",
       "      <td>11</td>\n",
       "      <td>0.383628</td>\n",
       "      <td>0.730444</td>\n",
       "      <td>0.330923</td>\n",
       "      <td>20.30</td>\n",
       "      <td>0.261135</td>\n",
       "      <td>0.229885</td>\n",
       "      <td>0.800000</td>\n",
       "      <td>0.307479</td>\n",
       "    </tr>\n",
       "  </tbody>\n",
       "</table>\n",
       "</div>"
      ],
      "text/plain": [
       "        Unnamed: 0    sim_id  p_SES_high  epsilon   rho   H_Share  Exposure  \\\n",
       "220616      220616  PSBqoYwx         0.5     1.50  1.20  0.363636  0.923077   \n",
       "168220      168220  GTrzcAKI         0.5     1.25  1.68  0.307692  0.714286   \n",
       "239658      239658  liGVDWHx         0.5     1.50  1.39  0.214286  0.428571   \n",
       "93530        93530  bWauSXDu         0.5     1.00  1.93  0.333333  1.142857   \n",
       "274179      274179  JbKpvGNw         0.5     1.50  1.74  0.454545  1.142857   \n",
       "\n",
       "        Friend_Bias  N_exposure  Degree  Network_SES_assortativity  \\\n",
       "220616     0.939394          14      11                   0.184696   \n",
       "168220     0.938462          14      13                   0.237305   \n",
       "239658     0.928571          14      14                   0.277930   \n",
       "93530      0.958333          14       9                   0.296085   \n",
       "274179     0.943182          14      11                   0.383628   \n",
       "\n",
       "        Network_H_Share_H  Network_H_Share_L  Network_Degree  \\\n",
       "220616           0.562626           0.363968           22.42   \n",
       "168220           0.556455           0.304101           19.92   \n",
       "239658           0.700215           0.410837           21.58   \n",
       "93530            0.642491           0.334876           18.52   \n",
       "274179           0.730444           0.330923           20.30   \n",
       "\n",
       "        Network_Clustering  Predicted_H_Share  Predicted_Exposure  \\\n",
       "220616            0.273072           0.333333            0.800000   \n",
       "168220            0.257679           0.264550            0.888889   \n",
       "239658            0.279944           0.287770            0.800000   \n",
       "93530             0.244299           0.259067            1.000000   \n",
       "274179            0.261135           0.229885            0.800000   \n",
       "\n",
       "        Predicted_Friend_Bias  \n",
       "220616               0.107143  \n",
       "168220               0.274194  \n",
       "239658               0.189627  \n",
       "93530                0.317406  \n",
       "274179               0.307479  "
      ]
     },
     "execution_count": 16,
     "metadata": {},
     "output_type": "execute_result"
    }
   ],
   "source": [
    "\n",
    "# general simulation stuff\n",
    "list_rho_values = np.arange(1, 2, 0.01)\n",
    "\n",
    "num_sim_per_param = 10 # number of simulations with given parameter set\n",
    "num_MTO_per_sim = 100 # number of simulations on each network\n",
    "\n",
    "\n",
    "#df_rho = MTO_simulator(list_eps_values=[1, 1.25, 1.5], list_rho_values=list_rho_values, num_MTO_per_sim=num_MTO_per_sim, num_sim_per_param=num_sim_per_param)\n",
    "#df_rho.to_csv('rho_sim.csv')\n",
    "\n",
    "df_rho = pd.read_csv('rho_sim.csv')\n",
    "\n",
    "df_rho.sample(5)"
   ]
  },
  {
   "cell_type": "code",
   "execution_count": 20,
   "metadata": {},
   "outputs": [
    {
     "data": {
      "application/vnd.plotly.v1+json": {
       "config": {
        "plotlyServerURL": "https://plot.ly"
       },
       "data": [
        {
         "line": {
          "color": "rgba(0,0,255,1)",
          "width": 2
         },
         "mode": "lines",
         "name": "",
         "showlegend": true,
         "type": "scatter",
         "x": [
          1,
          1.01,
          1.02,
          1.03,
          1.04,
          1.05,
          1.06,
          1.07,
          1.08,
          1.09,
          1.1,
          1.11,
          1.12,
          1.13,
          1.14,
          1.15,
          1.16,
          1.1700000000000002,
          1.1800000000000002,
          1.1900000000000002,
          1.2000000000000002,
          1.2100000000000002,
          1.2200000000000002,
          1.2300000000000002,
          1.2400000000000002,
          1.2500000000000002,
          1.2600000000000002,
          1.2700000000000002,
          1.2800000000000002,
          1.2900000000000005,
          1.3000000000000005,
          1.3100000000000005,
          1.3200000000000005,
          1.3300000000000003,
          1.3400000000000003,
          1.3500000000000003,
          1.3600000000000003,
          1.3700000000000003,
          1.3800000000000003,
          1.3900000000000003,
          1.4000000000000004,
          1.4100000000000004,
          1.4200000000000004,
          1.4300000000000004,
          1.4400000000000004,
          1.4500000000000004,
          1.4600000000000004,
          1.4700000000000004,
          1.4800000000000004,
          1.4900000000000004,
          1.5000000000000004,
          1.5100000000000005,
          1.5200000000000005,
          1.5300000000000005,
          1.5400000000000005,
          1.5500000000000005,
          1.5600000000000005,
          1.5700000000000005,
          1.5800000000000003,
          1.5900000000000003,
          1.6000000000000003,
          1.6100000000000003,
          1.6200000000000006,
          1.6300000000000006,
          1.6400000000000006,
          1.6500000000000006,
          1.6600000000000006,
          1.6700000000000006,
          1.6800000000000006,
          1.6900000000000006,
          1.7000000000000006,
          1.7100000000000006,
          1.7200000000000006,
          1.7300000000000006,
          1.7400000000000009,
          1.7500000000000009,
          1.760000000000001,
          1.770000000000001,
          1.7800000000000007,
          1.7900000000000007,
          1.8000000000000007,
          1.8100000000000007,
          1.8200000000000007,
          1.8300000000000007,
          1.8400000000000007,
          1.8500000000000008,
          1.8600000000000008,
          1.8700000000000008,
          1.8800000000000008,
          1.8900000000000008,
          1.9000000000000008,
          1.9100000000000008,
          1.9200000000000008,
          1.9300000000000008,
          1.9400000000000008,
          1.9500000000000008,
          1.9600000000000009,
          1.9700000000000009,
          1.9800000000000009,
          1.9900000000000009
         ],
         "y": [
          0.5552975474213876,
          0.5398461774049161,
          0.5316237369203776,
          0.559150432367483,
          0.5476012500525189,
          0.53721017178929,
          0.5527531513777666,
          0.5436935449921564,
          0.5519563473101947,
          0.5667532662734631,
          0.5459183366460316,
          0.5447806282002843,
          0.5519828826587928,
          0.5658193798818171,
          0.5832195611919956,
          0.5712013789544899,
          0.5839203746233583,
          0.5855960001630269,
          0.591580966381805,
          0.5701545028611914,
          0.5954082716637512,
          0.5968684927143366,
          0.5725619012273025,
          0.5728374056656964,
          0.5804577156305406,
          0.5875207086706654,
          0.6002298962555231,
          0.5903359027665507,
          0.6014959897318348,
          0.5922219331362314,
          0.6129078368192542,
          0.60836810563507,
          0.5967388028786167,
          0.597184000765434,
          0.6031776250661859,
          0.6150837231074545,
          0.5987469321476502,
          0.6006693022916212,
          0.5997459845989467,
          0.6059388944058913,
          0.6207854238316501,
          0.6049628527873749,
          0.5983206676381624,
          0.6243568260330066,
          0.6191273364466737,
          0.6167997622520257,
          0.6166144012960394,
          0.6355056391229572,
          0.6328126821101616,
          0.6147039726709866,
          0.6396007182679146,
          0.643177620806555,
          0.628655847744947,
          0.6337188279913502,
          0.6462698732544533,
          0.6368784313344915,
          0.6403686265282548,
          0.6318180447632288,
          0.6620575417979382,
          0.6384332361290034,
          0.6548828753179742,
          0.6342667671169357,
          0.6551886396166715,
          0.6524598593696841,
          0.6659146516855837,
          0.6519971618134522,
          0.6652069609457092,
          0.6478698388146035,
          0.6610182848431841,
          0.6630930268992893,
          0.6579115242138536,
          0.654897310456987,
          0.6582019370409294,
          0.6545793279230857,
          0.6530904462880401,
          0.6543528503038535,
          0.6446705249336516,
          0.6672584657419157,
          0.683596321217203,
          0.660984883784271,
          0.658852194078273,
          0.6612919707637126,
          0.6666909621683917,
          0.6728251525193234,
          0.6759849029599446,
          0.6693052699657563,
          0.67361408431301,
          0.665701548711406,
          0.6714494772335449,
          0.6711242259795976,
          0.6997823257990113,
          0.6736230029879028,
          0.6850284129501947,
          0.6867345520851981,
          0.6836646633451343,
          0.6847535200968887,
          0.6871415073033277,
          0.6790068766063957,
          0.6745516220604227,
          0.6735242426629926
         ]
        },
        {
         "line": {
          "color": "rgba(0,0,255,0.25)",
          "width": 2
         },
         "mode": "lines",
         "showlegend": false,
         "type": "scatter",
         "x": [
          1,
          1.01,
          1.02,
          1.03,
          1.04,
          1.05,
          1.06,
          1.07,
          1.08,
          1.09,
          1.1,
          1.11,
          1.12,
          1.13,
          1.14,
          1.15,
          1.16,
          1.1700000000000002,
          1.1800000000000002,
          1.1900000000000002,
          1.2000000000000002,
          1.2100000000000002,
          1.2200000000000002,
          1.2300000000000002,
          1.2400000000000002,
          1.2500000000000002,
          1.2600000000000002,
          1.2700000000000002,
          1.2800000000000002,
          1.2900000000000005,
          1.3000000000000005,
          1.3100000000000005,
          1.3200000000000005,
          1.3300000000000003,
          1.3400000000000003,
          1.3500000000000003,
          1.3600000000000003,
          1.3700000000000003,
          1.3800000000000003,
          1.3900000000000003,
          1.4000000000000004,
          1.4100000000000004,
          1.4200000000000004,
          1.4300000000000004,
          1.4400000000000004,
          1.4500000000000004,
          1.4600000000000004,
          1.4700000000000004,
          1.4800000000000004,
          1.4900000000000004,
          1.5000000000000004,
          1.5100000000000005,
          1.5200000000000005,
          1.5300000000000005,
          1.5400000000000005,
          1.5500000000000005,
          1.5600000000000005,
          1.5700000000000005,
          1.5800000000000003,
          1.5900000000000003,
          1.6000000000000003,
          1.6100000000000003,
          1.6200000000000006,
          1.6300000000000006,
          1.6400000000000006,
          1.6500000000000006,
          1.6600000000000006,
          1.6700000000000006,
          1.6800000000000006,
          1.6900000000000006,
          1.7000000000000006,
          1.7100000000000006,
          1.7200000000000006,
          1.7300000000000006,
          1.7400000000000009,
          1.7500000000000009,
          1.760000000000001,
          1.770000000000001,
          1.7800000000000007,
          1.7900000000000007,
          1.8000000000000007,
          1.8100000000000007,
          1.8200000000000007,
          1.8300000000000007,
          1.8400000000000007,
          1.8500000000000008,
          1.8600000000000008,
          1.8700000000000008,
          1.8800000000000008,
          1.8900000000000008,
          1.9000000000000008,
          1.9100000000000008,
          1.9200000000000008,
          1.9300000000000008,
          1.9400000000000008,
          1.9500000000000008,
          1.9600000000000009,
          1.9700000000000009,
          1.9800000000000009,
          1.9900000000000009
         ],
         "y": [
          0.5561398527458508,
          0.5411635454421961,
          0.5331193124342807,
          0.5601186189587926,
          0.5485558141596717,
          0.5383364590040901,
          0.5538791462902889,
          0.5451092249375031,
          0.5534504874481414,
          0.5678275372390218,
          0.5470486376735848,
          0.5462748330630057,
          0.5530111246730118,
          0.5669566018686574,
          0.5843306532514289,
          0.5725323176664969,
          0.5850387210888941,
          0.5868029133220678,
          0.5925222643419156,
          0.5715407003735664,
          0.596124805137108,
          0.5980422471318559,
          0.5737777243985143,
          0.5739874393366847,
          0.581611756264278,
          0.5888250172927061,
          0.6012301287527809,
          0.5913861265652123,
          0.6024639718645777,
          0.5937256775056589,
          0.6141335145962601,
          0.6094574966653765,
          0.59795777117801,
          0.598373924478423,
          0.6043254195531806,
          0.616125781992675,
          0.5999207067251203,
          0.6017756572139288,
          0.6012782702906019,
          0.6071553980321936,
          0.6221166238995656,
          0.6061993296998887,
          0.5996344589115256,
          0.6252981241812497,
          0.6201893274095593,
          0.6180083185177941,
          0.6179137454095731,
          0.6366397842323177,
          0.6338730420403268,
          0.6157164006537662,
          0.640581579195988,
          0.644339866607622,
          0.6298931465578652,
          0.6347077941753526,
          0.6473283510105574,
          0.6383549113865414,
          0.6412641937744824,
          0.6328808669444349,
          0.6631780370630822,
          0.6399649122028153,
          0.6557944240502865,
          0.6354309826660406,
          0.6562731192229477,
          0.653543376313513,
          0.6667329665749828,
          0.6533302581984851,
          0.6663109864610177,
          0.6489800296968207,
          0.6622677518042092,
          0.6639383593629298,
          0.6589384817128641,
          0.6562676789355933,
          0.6591246138061244,
          0.655479027145568,
          0.654192686281819,
          0.6555317984445458,
          0.6458689437763756,
          0.6683941818771363,
          0.6846265949802306,
          0.6621656504120016,
          0.6597484422063474,
          0.6624623508554793,
          0.6677572013697717,
          0.6739242856970376,
          0.6769534383297388,
          0.6703525403717469,
          0.6746974190823292,
          0.6666673482385825,
          0.6724930469826472,
          0.6725186371128007,
          0.7009949969729985,
          0.6746672827375001,
          0.6860949128653991,
          0.6876069280486437,
          0.6846455486096538,
          0.6857536125068654,
          0.688427030217913,
          0.6800298411447988,
          0.6756090661869264,
          0.674556040865991
         ]
        },
        {
         "fill": "tonexty",
         "fillcolor": "rgba(68, 68, 68, 0.2)",
         "line": {
          "color": "rgba(0,0,255,0.25)",
          "width": 2
         },
         "mode": "lines",
         "showlegend": false,
         "type": "scatter",
         "x": [
          1,
          1.01,
          1.02,
          1.03,
          1.04,
          1.05,
          1.06,
          1.07,
          1.08,
          1.09,
          1.1,
          1.11,
          1.12,
          1.13,
          1.14,
          1.15,
          1.16,
          1.1700000000000002,
          1.1800000000000002,
          1.1900000000000002,
          1.2000000000000002,
          1.2100000000000002,
          1.2200000000000002,
          1.2300000000000002,
          1.2400000000000002,
          1.2500000000000002,
          1.2600000000000002,
          1.2700000000000002,
          1.2800000000000002,
          1.2900000000000005,
          1.3000000000000005,
          1.3100000000000005,
          1.3200000000000005,
          1.3300000000000003,
          1.3400000000000003,
          1.3500000000000003,
          1.3600000000000003,
          1.3700000000000003,
          1.3800000000000003,
          1.3900000000000003,
          1.4000000000000004,
          1.4100000000000004,
          1.4200000000000004,
          1.4300000000000004,
          1.4400000000000004,
          1.4500000000000004,
          1.4600000000000004,
          1.4700000000000004,
          1.4800000000000004,
          1.4900000000000004,
          1.5000000000000004,
          1.5100000000000005,
          1.5200000000000005,
          1.5300000000000005,
          1.5400000000000005,
          1.5500000000000005,
          1.5600000000000005,
          1.5700000000000005,
          1.5800000000000003,
          1.5900000000000003,
          1.6000000000000003,
          1.6100000000000003,
          1.6200000000000006,
          1.6300000000000006,
          1.6400000000000006,
          1.6500000000000006,
          1.6600000000000006,
          1.6700000000000006,
          1.6800000000000006,
          1.6900000000000006,
          1.7000000000000006,
          1.7100000000000006,
          1.7200000000000006,
          1.7300000000000006,
          1.7400000000000009,
          1.7500000000000009,
          1.760000000000001,
          1.770000000000001,
          1.7800000000000007,
          1.7900000000000007,
          1.8000000000000007,
          1.8100000000000007,
          1.8200000000000007,
          1.8300000000000007,
          1.8400000000000007,
          1.8500000000000008,
          1.8600000000000008,
          1.8700000000000008,
          1.8800000000000008,
          1.8900000000000008,
          1.9000000000000008,
          1.9100000000000008,
          1.9200000000000008,
          1.9300000000000008,
          1.9400000000000008,
          1.9500000000000008,
          1.9600000000000009,
          1.9700000000000009,
          1.9800000000000009,
          1.9900000000000009
         ],
         "y": [
          0.5544552420969244,
          0.5385288093676361,
          0.5301281614064745,
          0.5581822457761734,
          0.5466466859453661,
          0.5360838845744899,
          0.5516271564652443,
          0.5422778650468096,
          0.550462207172248,
          0.5656789953079044,
          0.5447880356184784,
          0.5432864233375628,
          0.5509546406445738,
          0.5646821578949768,
          0.5821084691325623,
          0.5698704402424828,
          0.5828020281578226,
          0.5843890870039861,
          0.5906396684216945,
          0.5687683053488164,
          0.5946917381903944,
          0.5956947382968173,
          0.5713460780560908,
          0.5716873719947081,
          0.5793036749968032,
          0.5862164000486247,
          0.5992296637582654,
          0.5892856789678891,
          0.600528007599092,
          0.5907181887668039,
          0.6116821590422483,
          0.6072787146047636,
          0.5955198345792234,
          0.595994077052445,
          0.6020298305791911,
          0.614041664222234,
          0.59757315757018,
          0.5995629473693136,
          0.5982136989072915,
          0.604722390779589,
          0.6194542237637347,
          0.6037263758748612,
          0.5970068763647992,
          0.6234155278847634,
          0.6180653454837881,
          0.6155912059862573,
          0.6153150571825057,
          0.6343714940135967,
          0.6317523221799964,
          0.6136915446882071,
          0.6386198573398413,
          0.6420153750054881,
          0.6274185489320288,
          0.6327298618073477,
          0.6452113954983492,
          0.6354019512824416,
          0.6394730592820271,
          0.6307552225820227,
          0.6609370465327942,
          0.6369015600551915,
          0.6539713265856618,
          0.6331025515678309,
          0.6541041600103953,
          0.6513763424258552,
          0.6650963367961846,
          0.6506640654284194,
          0.6641029354304007,
          0.6467596479323863,
          0.6597688178821591,
          0.6622476944356488,
          0.6568845667148431,
          0.6535269419783806,
          0.6572792602757345,
          0.6536796287006034,
          0.6519882062942612,
          0.6531739021631612,
          0.6434721060909276,
          0.6661227496066952,
          0.6825660474541755,
          0.6598041171565404,
          0.6579559459501986,
          0.6601215906719459,
          0.6656247229670118,
          0.6717260193416092,
          0.6750163675901505,
          0.6682579995597658,
          0.6725307495436907,
          0.6647357491842294,
          0.6704059074844425,
          0.6697298148463946,
          0.6985696546250242,
          0.6725787232383055,
          0.6839619130349902,
          0.6858621761217525,
          0.6826837780806149,
          0.683753427686912,
          0.6858559843887424,
          0.6779839120679926,
          0.6734941779339191,
          0.6724924444599942
         ]
        }
       ],
       "layout": {
        "font": {
         "size": 18
        },
        "height": 400,
        "legend": {
         "title": {
          "text": ""
         },
         "x": 0.6,
         "y": 1
        },
        "margin": {
         "b": 5,
         "l": 5,
         "r": 5,
         "t": 5
        },
        "plot_bgcolor": "rgba(0,0,0,0)",
        "showlegend": true,
        "template": {
         "data": {
          "bar": [
           {
            "error_x": {
             "color": "#2a3f5f"
            },
            "error_y": {
             "color": "#2a3f5f"
            },
            "marker": {
             "line": {
              "color": "#E5ECF6",
              "width": 0.5
             },
             "pattern": {
              "fillmode": "overlay",
              "size": 10,
              "solidity": 0.2
             }
            },
            "type": "bar"
           }
          ],
          "barpolar": [
           {
            "marker": {
             "line": {
              "color": "#E5ECF6",
              "width": 0.5
             },
             "pattern": {
              "fillmode": "overlay",
              "size": 10,
              "solidity": 0.2
             }
            },
            "type": "barpolar"
           }
          ],
          "carpet": [
           {
            "aaxis": {
             "endlinecolor": "#2a3f5f",
             "gridcolor": "white",
             "linecolor": "white",
             "minorgridcolor": "white",
             "startlinecolor": "#2a3f5f"
            },
            "baxis": {
             "endlinecolor": "#2a3f5f",
             "gridcolor": "white",
             "linecolor": "white",
             "minorgridcolor": "white",
             "startlinecolor": "#2a3f5f"
            },
            "type": "carpet"
           }
          ],
          "choropleth": [
           {
            "colorbar": {
             "outlinewidth": 0,
             "ticks": ""
            },
            "type": "choropleth"
           }
          ],
          "contour": [
           {
            "colorbar": {
             "outlinewidth": 0,
             "ticks": ""
            },
            "colorscale": [
             [
              0,
              "#0d0887"
             ],
             [
              0.1111111111111111,
              "#46039f"
             ],
             [
              0.2222222222222222,
              "#7201a8"
             ],
             [
              0.3333333333333333,
              "#9c179e"
             ],
             [
              0.4444444444444444,
              "#bd3786"
             ],
             [
              0.5555555555555556,
              "#d8576b"
             ],
             [
              0.6666666666666666,
              "#ed7953"
             ],
             [
              0.7777777777777778,
              "#fb9f3a"
             ],
             [
              0.8888888888888888,
              "#fdca26"
             ],
             [
              1,
              "#f0f921"
             ]
            ],
            "type": "contour"
           }
          ],
          "contourcarpet": [
           {
            "colorbar": {
             "outlinewidth": 0,
             "ticks": ""
            },
            "type": "contourcarpet"
           }
          ],
          "heatmap": [
           {
            "colorbar": {
             "outlinewidth": 0,
             "ticks": ""
            },
            "colorscale": [
             [
              0,
              "#0d0887"
             ],
             [
              0.1111111111111111,
              "#46039f"
             ],
             [
              0.2222222222222222,
              "#7201a8"
             ],
             [
              0.3333333333333333,
              "#9c179e"
             ],
             [
              0.4444444444444444,
              "#bd3786"
             ],
             [
              0.5555555555555556,
              "#d8576b"
             ],
             [
              0.6666666666666666,
              "#ed7953"
             ],
             [
              0.7777777777777778,
              "#fb9f3a"
             ],
             [
              0.8888888888888888,
              "#fdca26"
             ],
             [
              1,
              "#f0f921"
             ]
            ],
            "type": "heatmap"
           }
          ],
          "heatmapgl": [
           {
            "colorbar": {
             "outlinewidth": 0,
             "ticks": ""
            },
            "colorscale": [
             [
              0,
              "#0d0887"
             ],
             [
              0.1111111111111111,
              "#46039f"
             ],
             [
              0.2222222222222222,
              "#7201a8"
             ],
             [
              0.3333333333333333,
              "#9c179e"
             ],
             [
              0.4444444444444444,
              "#bd3786"
             ],
             [
              0.5555555555555556,
              "#d8576b"
             ],
             [
              0.6666666666666666,
              "#ed7953"
             ],
             [
              0.7777777777777778,
              "#fb9f3a"
             ],
             [
              0.8888888888888888,
              "#fdca26"
             ],
             [
              1,
              "#f0f921"
             ]
            ],
            "type": "heatmapgl"
           }
          ],
          "histogram": [
           {
            "marker": {
             "pattern": {
              "fillmode": "overlay",
              "size": 10,
              "solidity": 0.2
             }
            },
            "type": "histogram"
           }
          ],
          "histogram2d": [
           {
            "colorbar": {
             "outlinewidth": 0,
             "ticks": ""
            },
            "colorscale": [
             [
              0,
              "#0d0887"
             ],
             [
              0.1111111111111111,
              "#46039f"
             ],
             [
              0.2222222222222222,
              "#7201a8"
             ],
             [
              0.3333333333333333,
              "#9c179e"
             ],
             [
              0.4444444444444444,
              "#bd3786"
             ],
             [
              0.5555555555555556,
              "#d8576b"
             ],
             [
              0.6666666666666666,
              "#ed7953"
             ],
             [
              0.7777777777777778,
              "#fb9f3a"
             ],
             [
              0.8888888888888888,
              "#fdca26"
             ],
             [
              1,
              "#f0f921"
             ]
            ],
            "type": "histogram2d"
           }
          ],
          "histogram2dcontour": [
           {
            "colorbar": {
             "outlinewidth": 0,
             "ticks": ""
            },
            "colorscale": [
             [
              0,
              "#0d0887"
             ],
             [
              0.1111111111111111,
              "#46039f"
             ],
             [
              0.2222222222222222,
              "#7201a8"
             ],
             [
              0.3333333333333333,
              "#9c179e"
             ],
             [
              0.4444444444444444,
              "#bd3786"
             ],
             [
              0.5555555555555556,
              "#d8576b"
             ],
             [
              0.6666666666666666,
              "#ed7953"
             ],
             [
              0.7777777777777778,
              "#fb9f3a"
             ],
             [
              0.8888888888888888,
              "#fdca26"
             ],
             [
              1,
              "#f0f921"
             ]
            ],
            "type": "histogram2dcontour"
           }
          ],
          "mesh3d": [
           {
            "colorbar": {
             "outlinewidth": 0,
             "ticks": ""
            },
            "type": "mesh3d"
           }
          ],
          "parcoords": [
           {
            "line": {
             "colorbar": {
              "outlinewidth": 0,
              "ticks": ""
             }
            },
            "type": "parcoords"
           }
          ],
          "pie": [
           {
            "automargin": true,
            "type": "pie"
           }
          ],
          "scatter": [
           {
            "fillpattern": {
             "fillmode": "overlay",
             "size": 10,
             "solidity": 0.2
            },
            "type": "scatter"
           }
          ],
          "scatter3d": [
           {
            "line": {
             "colorbar": {
              "outlinewidth": 0,
              "ticks": ""
             }
            },
            "marker": {
             "colorbar": {
              "outlinewidth": 0,
              "ticks": ""
             }
            },
            "type": "scatter3d"
           }
          ],
          "scattercarpet": [
           {
            "marker": {
             "colorbar": {
              "outlinewidth": 0,
              "ticks": ""
             }
            },
            "type": "scattercarpet"
           }
          ],
          "scattergeo": [
           {
            "marker": {
             "colorbar": {
              "outlinewidth": 0,
              "ticks": ""
             }
            },
            "type": "scattergeo"
           }
          ],
          "scattergl": [
           {
            "marker": {
             "colorbar": {
              "outlinewidth": 0,
              "ticks": ""
             }
            },
            "type": "scattergl"
           }
          ],
          "scattermapbox": [
           {
            "marker": {
             "colorbar": {
              "outlinewidth": 0,
              "ticks": ""
             }
            },
            "type": "scattermapbox"
           }
          ],
          "scatterpolar": [
           {
            "marker": {
             "colorbar": {
              "outlinewidth": 0,
              "ticks": ""
             }
            },
            "type": "scatterpolar"
           }
          ],
          "scatterpolargl": [
           {
            "marker": {
             "colorbar": {
              "outlinewidth": 0,
              "ticks": ""
             }
            },
            "type": "scatterpolargl"
           }
          ],
          "scatterternary": [
           {
            "marker": {
             "colorbar": {
              "outlinewidth": 0,
              "ticks": ""
             }
            },
            "type": "scatterternary"
           }
          ],
          "surface": [
           {
            "colorbar": {
             "outlinewidth": 0,
             "ticks": ""
            },
            "colorscale": [
             [
              0,
              "#0d0887"
             ],
             [
              0.1111111111111111,
              "#46039f"
             ],
             [
              0.2222222222222222,
              "#7201a8"
             ],
             [
              0.3333333333333333,
              "#9c179e"
             ],
             [
              0.4444444444444444,
              "#bd3786"
             ],
             [
              0.5555555555555556,
              "#d8576b"
             ],
             [
              0.6666666666666666,
              "#ed7953"
             ],
             [
              0.7777777777777778,
              "#fb9f3a"
             ],
             [
              0.8888888888888888,
              "#fdca26"
             ],
             [
              1,
              "#f0f921"
             ]
            ],
            "type": "surface"
           }
          ],
          "table": [
           {
            "cells": {
             "fill": {
              "color": "#EBF0F8"
             },
             "line": {
              "color": "white"
             }
            },
            "header": {
             "fill": {
              "color": "#C8D4E3"
             },
             "line": {
              "color": "white"
             }
            },
            "type": "table"
           }
          ]
         },
         "layout": {
          "annotationdefaults": {
           "arrowcolor": "#2a3f5f",
           "arrowhead": 0,
           "arrowwidth": 1
          },
          "autotypenumbers": "strict",
          "coloraxis": {
           "colorbar": {
            "outlinewidth": 0,
            "ticks": ""
           }
          },
          "colorscale": {
           "diverging": [
            [
             0,
             "#8e0152"
            ],
            [
             0.1,
             "#c51b7d"
            ],
            [
             0.2,
             "#de77ae"
            ],
            [
             0.3,
             "#f1b6da"
            ],
            [
             0.4,
             "#fde0ef"
            ],
            [
             0.5,
             "#f7f7f7"
            ],
            [
             0.6,
             "#e6f5d0"
            ],
            [
             0.7,
             "#b8e186"
            ],
            [
             0.8,
             "#7fbc41"
            ],
            [
             0.9,
             "#4d9221"
            ],
            [
             1,
             "#276419"
            ]
           ],
           "sequential": [
            [
             0,
             "#0d0887"
            ],
            [
             0.1111111111111111,
             "#46039f"
            ],
            [
             0.2222222222222222,
             "#7201a8"
            ],
            [
             0.3333333333333333,
             "#9c179e"
            ],
            [
             0.4444444444444444,
             "#bd3786"
            ],
            [
             0.5555555555555556,
             "#d8576b"
            ],
            [
             0.6666666666666666,
             "#ed7953"
            ],
            [
             0.7777777777777778,
             "#fb9f3a"
            ],
            [
             0.8888888888888888,
             "#fdca26"
            ],
            [
             1,
             "#f0f921"
            ]
           ],
           "sequentialminus": [
            [
             0,
             "#0d0887"
            ],
            [
             0.1111111111111111,
             "#46039f"
            ],
            [
             0.2222222222222222,
             "#7201a8"
            ],
            [
             0.3333333333333333,
             "#9c179e"
            ],
            [
             0.4444444444444444,
             "#bd3786"
            ],
            [
             0.5555555555555556,
             "#d8576b"
            ],
            [
             0.6666666666666666,
             "#ed7953"
            ],
            [
             0.7777777777777778,
             "#fb9f3a"
            ],
            [
             0.8888888888888888,
             "#fdca26"
            ],
            [
             1,
             "#f0f921"
            ]
           ]
          },
          "colorway": [
           "#636efa",
           "#EF553B",
           "#00cc96",
           "#ab63fa",
           "#FFA15A",
           "#19d3f3",
           "#FF6692",
           "#B6E880",
           "#FF97FF",
           "#FECB52"
          ],
          "font": {
           "color": "#2a3f5f"
          },
          "geo": {
           "bgcolor": "white",
           "lakecolor": "white",
           "landcolor": "#E5ECF6",
           "showlakes": true,
           "showland": true,
           "subunitcolor": "white"
          },
          "hoverlabel": {
           "align": "left"
          },
          "hovermode": "closest",
          "mapbox": {
           "style": "light"
          },
          "paper_bgcolor": "white",
          "plot_bgcolor": "#E5ECF6",
          "polar": {
           "angularaxis": {
            "gridcolor": "white",
            "linecolor": "white",
            "ticks": ""
           },
           "bgcolor": "#E5ECF6",
           "radialaxis": {
            "gridcolor": "white",
            "linecolor": "white",
            "ticks": ""
           }
          },
          "scene": {
           "xaxis": {
            "backgroundcolor": "#E5ECF6",
            "gridcolor": "white",
            "gridwidth": 2,
            "linecolor": "white",
            "showbackground": true,
            "ticks": "",
            "zerolinecolor": "white"
           },
           "yaxis": {
            "backgroundcolor": "#E5ECF6",
            "gridcolor": "white",
            "gridwidth": 2,
            "linecolor": "white",
            "showbackground": true,
            "ticks": "",
            "zerolinecolor": "white"
           },
           "zaxis": {
            "backgroundcolor": "#E5ECF6",
            "gridcolor": "white",
            "gridwidth": 2,
            "linecolor": "white",
            "showbackground": true,
            "ticks": "",
            "zerolinecolor": "white"
           }
          },
          "shapedefaults": {
           "line": {
            "color": "#2a3f5f"
           }
          },
          "ternary": {
           "aaxis": {
            "gridcolor": "white",
            "linecolor": "white",
            "ticks": ""
           },
           "baxis": {
            "gridcolor": "white",
            "linecolor": "white",
            "ticks": ""
           },
           "bgcolor": "#E5ECF6",
           "caxis": {
            "gridcolor": "white",
            "linecolor": "white",
            "ticks": ""
           }
          },
          "title": {
           "x": 0.05
          },
          "xaxis": {
           "automargin": true,
           "gridcolor": "white",
           "linecolor": "white",
           "ticks": "",
           "title": {
            "standoff": 15
           },
           "zerolinecolor": "white",
           "zerolinewidth": 2
          },
          "yaxis": {
           "automargin": true,
           "gridcolor": "white",
           "linecolor": "white",
           "ticks": "",
           "title": {
            "standoff": 15
           },
           "zerolinecolor": "white",
           "zerolinewidth": 2
          }
         }
        },
        "title": {},
        "width": 400,
        "xaxis": {
         "linecolor": "rgb(0,0,0)",
         "linewidth": 2,
         "range": [
          1,
          2
         ],
         "showgrid": false,
         "showline": true,
         "title": {
          "text": "rho"
         }
        },
        "yaxis": {
         "linecolor": "rgb(0,0,0)",
         "linewidth": 2,
         "range": [
          0,
          2
         ],
         "showgrid": false,
         "showline": true,
         "title": {
          "text": "Exposure"
         }
        }
       }
      }
     },
     "metadata": {},
     "output_type": "display_data"
    }
   ],
   "source": [
    "\n",
    "'''\n",
    "heatmap = px.density_heatmap(x=df_rho['rho'], y=df_rho['H_Share'], range_x=[1,2], range_y=[0,1])\n",
    "lines = px.line(x=df_rho['rho'], y=df_rho['Predicted_H_Share'], range_x=[1,2], range_y=[0,1])\n",
    "\n",
    "fig = go.Figure(data = heatmap.data + lines.data)\n",
    "fig.show()\n",
    "'''\n",
    "\n",
    "rho_exposure = plotly_lines.plot_MTO_sim_results(plotly_lines(), data=df_rho, x_var='rho', y_var='Network_H_Share_H', x_range=[1,2], y_range=[0,2], x_title='rho', y_title='Exposure', with_predicted=False)\n",
    "#MTO_sim_results(df_results[df_results['rho']==1], 'epsilon', 'H_Share', [1,2], [0,1.1], 'epsilon', 'Exposure')\n",
    "\n"
   ]
  },
  {
   "attachments": {},
   "cell_type": "markdown",
   "metadata": {},
   "source": [
    "## Both rho and epsilon"
   ]
  },
  {
   "attachments": {},
   "cell_type": "markdown",
   "metadata": {},
   "source": [
    "### Specified values"
   ]
  },
  {
   "cell_type": "code",
   "execution_count": 7,
   "metadata": {},
   "outputs": [
    {
     "data": {
      "text/html": [
       "<div>\n",
       "<style scoped>\n",
       "    .dataframe tbody tr th:only-of-type {\n",
       "        vertical-align: middle;\n",
       "    }\n",
       "\n",
       "    .dataframe tbody tr th {\n",
       "        vertical-align: top;\n",
       "    }\n",
       "\n",
       "    .dataframe thead th {\n",
       "        text-align: right;\n",
       "    }\n",
       "</style>\n",
       "<table border=\"1\" class=\"dataframe\">\n",
       "  <thead>\n",
       "    <tr style=\"text-align: right;\">\n",
       "      <th></th>\n",
       "      <th>sim_id</th>\n",
       "      <th>p_SES_high</th>\n",
       "      <th>epsilon</th>\n",
       "      <th>rho</th>\n",
       "      <th>H_Share</th>\n",
       "      <th>Exposure</th>\n",
       "      <th>Friend_Bias</th>\n",
       "      <th>N_exposure</th>\n",
       "      <th>Degree</th>\n",
       "      <th>Predicted_H_Share</th>\n",
       "      <th>Predicted_Exposure</th>\n",
       "      <th>Predicted_Friend_Bias</th>\n",
       "    </tr>\n",
       "  </thead>\n",
       "  <tbody>\n",
       "    <tr>\n",
       "      <th>0</th>\n",
       "      <td>cAoqpRJp</td>\n",
       "      <td>0.5</td>\n",
       "      <td>0.50</td>\n",
       "      <td>1.00</td>\n",
       "      <td>0.736842</td>\n",
       "      <td>1.473684</td>\n",
       "      <td>0.947368</td>\n",
       "      <td>20</td>\n",
       "      <td>19</td>\n",
       "      <td>0.666667</td>\n",
       "      <td>1.333333</td>\n",
       "      <td>0.000000</td>\n",
       "    </tr>\n",
       "    <tr>\n",
       "      <th>1</th>\n",
       "      <td>cAoqpRJp</td>\n",
       "      <td>0.5</td>\n",
       "      <td>0.50</td>\n",
       "      <td>1.00</td>\n",
       "      <td>0.789474</td>\n",
       "      <td>1.578947</td>\n",
       "      <td>0.947368</td>\n",
       "      <td>20</td>\n",
       "      <td>19</td>\n",
       "      <td>0.666667</td>\n",
       "      <td>1.333333</td>\n",
       "      <td>0.000000</td>\n",
       "    </tr>\n",
       "    <tr>\n",
       "      <th>2</th>\n",
       "      <td>cAoqpRJp</td>\n",
       "      <td>0.5</td>\n",
       "      <td>0.50</td>\n",
       "      <td>1.00</td>\n",
       "      <td>0.750000</td>\n",
       "      <td>1.500000</td>\n",
       "      <td>0.950000</td>\n",
       "      <td>20</td>\n",
       "      <td>20</td>\n",
       "      <td>0.666667</td>\n",
       "      <td>1.333333</td>\n",
       "      <td>0.000000</td>\n",
       "    </tr>\n",
       "    <tr>\n",
       "      <th>3</th>\n",
       "      <td>cAoqpRJp</td>\n",
       "      <td>0.5</td>\n",
       "      <td>0.50</td>\n",
       "      <td>1.00</td>\n",
       "      <td>0.550000</td>\n",
       "      <td>1.100000</td>\n",
       "      <td>0.950000</td>\n",
       "      <td>20</td>\n",
       "      <td>20</td>\n",
       "      <td>0.666667</td>\n",
       "      <td>1.333333</td>\n",
       "      <td>0.000000</td>\n",
       "    </tr>\n",
       "    <tr>\n",
       "      <th>4</th>\n",
       "      <td>cAoqpRJp</td>\n",
       "      <td>0.5</td>\n",
       "      <td>0.50</td>\n",
       "      <td>1.00</td>\n",
       "      <td>0.684211</td>\n",
       "      <td>1.368421</td>\n",
       "      <td>0.947368</td>\n",
       "      <td>20</td>\n",
       "      <td>19</td>\n",
       "      <td>0.666667</td>\n",
       "      <td>1.333333</td>\n",
       "      <td>0.000000</td>\n",
       "    </tr>\n",
       "    <tr>\n",
       "      <th>...</th>\n",
       "      <td>...</td>\n",
       "      <td>...</td>\n",
       "      <td>...</td>\n",
       "      <td>...</td>\n",
       "      <td>...</td>\n",
       "      <td>...</td>\n",
       "      <td>...</td>\n",
       "      <td>...</td>\n",
       "      <td>...</td>\n",
       "      <td>...</td>\n",
       "      <td>...</td>\n",
       "      <td>...</td>\n",
       "    </tr>\n",
       "    <tr>\n",
       "      <th>599995</th>\n",
       "      <td>WtQLTSHa</td>\n",
       "      <td>0.5</td>\n",
       "      <td>1.95</td>\n",
       "      <td>1.95</td>\n",
       "      <td>0.153846</td>\n",
       "      <td>0.842105</td>\n",
       "      <td>0.980769</td>\n",
       "      <td>20</td>\n",
       "      <td>13</td>\n",
       "      <td>0.173837</td>\n",
       "      <td>0.677966</td>\n",
       "      <td>0.385737</td>\n",
       "    </tr>\n",
       "    <tr>\n",
       "      <th>599996</th>\n",
       "      <td>WtQLTSHa</td>\n",
       "      <td>0.5</td>\n",
       "      <td>1.95</td>\n",
       "      <td>1.95</td>\n",
       "      <td>0.157895</td>\n",
       "      <td>0.315789</td>\n",
       "      <td>0.947368</td>\n",
       "      <td>20</td>\n",
       "      <td>19</td>\n",
       "      <td>0.173837</td>\n",
       "      <td>0.677966</td>\n",
       "      <td>0.385737</td>\n",
       "    </tr>\n",
       "    <tr>\n",
       "      <th>599997</th>\n",
       "      <td>WtQLTSHa</td>\n",
       "      <td>0.5</td>\n",
       "      <td>1.95</td>\n",
       "      <td>1.95</td>\n",
       "      <td>0.187500</td>\n",
       "      <td>0.631579</td>\n",
       "      <td>0.968750</td>\n",
       "      <td>20</td>\n",
       "      <td>16</td>\n",
       "      <td>0.173837</td>\n",
       "      <td>0.677966</td>\n",
       "      <td>0.385737</td>\n",
       "    </tr>\n",
       "    <tr>\n",
       "      <th>599998</th>\n",
       "      <td>WtQLTSHa</td>\n",
       "      <td>0.5</td>\n",
       "      <td>1.95</td>\n",
       "      <td>1.95</td>\n",
       "      <td>0.400000</td>\n",
       "      <td>1.052632</td>\n",
       "      <td>0.960000</td>\n",
       "      <td>20</td>\n",
       "      <td>15</td>\n",
       "      <td>0.173837</td>\n",
       "      <td>0.677966</td>\n",
       "      <td>0.385737</td>\n",
       "    </tr>\n",
       "    <tr>\n",
       "      <th>599999</th>\n",
       "      <td>WtQLTSHa</td>\n",
       "      <td>0.5</td>\n",
       "      <td>1.95</td>\n",
       "      <td>1.95</td>\n",
       "      <td>0.333333</td>\n",
       "      <td>0.823529</td>\n",
       "      <td>0.952381</td>\n",
       "      <td>20</td>\n",
       "      <td>15</td>\n",
       "      <td>0.173837</td>\n",
       "      <td>0.677966</td>\n",
       "      <td>0.385737</td>\n",
       "    </tr>\n",
       "  </tbody>\n",
       "</table>\n",
       "<p>600000 rows × 12 columns</p>\n",
       "</div>"
      ],
      "text/plain": [
       "          sim_id  p_SES_high  epsilon   rho   H_Share  Exposure  Friend_Bias  \\\n",
       "0       cAoqpRJp         0.5     0.50  1.00  0.736842  1.473684     0.947368   \n",
       "1       cAoqpRJp         0.5     0.50  1.00  0.789474  1.578947     0.947368   \n",
       "2       cAoqpRJp         0.5     0.50  1.00  0.750000  1.500000     0.950000   \n",
       "3       cAoqpRJp         0.5     0.50  1.00  0.550000  1.100000     0.950000   \n",
       "4       cAoqpRJp         0.5     0.50  1.00  0.684211  1.368421     0.947368   \n",
       "...          ...         ...      ...   ...       ...       ...          ...   \n",
       "599995  WtQLTSHa         0.5     1.95  1.95  0.153846  0.842105     0.980769   \n",
       "599996  WtQLTSHa         0.5     1.95  1.95  0.157895  0.315789     0.947368   \n",
       "599997  WtQLTSHa         0.5     1.95  1.95  0.187500  0.631579     0.968750   \n",
       "599998  WtQLTSHa         0.5     1.95  1.95  0.400000  1.052632     0.960000   \n",
       "599999  WtQLTSHa         0.5     1.95  1.95  0.333333  0.823529     0.952381   \n",
       "\n",
       "        N_exposure  Degree  Predicted_H_Share  Predicted_Exposure  \\\n",
       "0               20      19           0.666667            1.333333   \n",
       "1               20      19           0.666667            1.333333   \n",
       "2               20      20           0.666667            1.333333   \n",
       "3               20      20           0.666667            1.333333   \n",
       "4               20      19           0.666667            1.333333   \n",
       "...            ...     ...                ...                 ...   \n",
       "599995          20      13           0.173837            0.677966   \n",
       "599996          20      19           0.173837            0.677966   \n",
       "599997          20      16           0.173837            0.677966   \n",
       "599998          20      15           0.173837            0.677966   \n",
       "599999          20      15           0.173837            0.677966   \n",
       "\n",
       "        Predicted_Friend_Bias  \n",
       "0                    0.000000  \n",
       "1                    0.000000  \n",
       "2                    0.000000  \n",
       "3                    0.000000  \n",
       "4                    0.000000  \n",
       "...                       ...  \n",
       "599995               0.385737  \n",
       "599996               0.385737  \n",
       "599997               0.385737  \n",
       "599998               0.385737  \n",
       "599999               0.385737  \n",
       "\n",
       "[600000 rows x 12 columns]"
      ]
     },
     "execution_count": 7,
     "metadata": {},
     "output_type": "execute_result"
    }
   ],
   "source": [
    "\n",
    "df_rho_eps = pd.read_csv('big_boy.csv').drop(columns='Unnamed: 0')\n",
    "df_results = df_rho_eps.copy()\n",
    "\n"
   ]
  },
  {
   "cell_type": "code",
   "execution_count": 3,
   "metadata": {},
   "outputs": [
    {
     "data": {
      "text/html": [
       "<div>\n",
       "<style scoped>\n",
       "    .dataframe tbody tr th:only-of-type {\n",
       "        vertical-align: middle;\n",
       "    }\n",
       "\n",
       "    .dataframe tbody tr th {\n",
       "        vertical-align: top;\n",
       "    }\n",
       "\n",
       "    .dataframe thead th {\n",
       "        text-align: right;\n",
       "    }\n",
       "</style>\n",
       "<table border=\"1\" class=\"dataframe\">\n",
       "  <thead>\n",
       "    <tr style=\"text-align: right;\">\n",
       "      <th></th>\n",
       "      <th>Unnamed: 0</th>\n",
       "      <th>sim_id</th>\n",
       "      <th>p_SES_high</th>\n",
       "      <th>epsilon</th>\n",
       "      <th>rho</th>\n",
       "      <th>H_Share</th>\n",
       "      <th>Exposure</th>\n",
       "      <th>Friend_Bias</th>\n",
       "      <th>N_exposure</th>\n",
       "      <th>Degree</th>\n",
       "      <th>Network_SES_assortativity</th>\n",
       "      <th>Network_H_Share_H</th>\n",
       "      <th>Network_H_Share_L</th>\n",
       "      <th>Network_Degree</th>\n",
       "      <th>Network_Clustering</th>\n",
       "      <th>Predicted_H_Share</th>\n",
       "      <th>Predicted_Exposure</th>\n",
       "      <th>Predicted_Friend_Bias</th>\n",
       "    </tr>\n",
       "  </thead>\n",
       "  <tbody>\n",
       "    <tr>\n",
       "      <th>265257</th>\n",
       "      <td>265257</td>\n",
       "      <td>cFdMBOjt</td>\n",
       "      <td>0.5</td>\n",
       "      <td>1.15</td>\n",
       "      <td>1.25</td>\n",
       "      <td>0.300000</td>\n",
       "      <td>0.727273</td>\n",
       "      <td>0.925000</td>\n",
       "      <td>14</td>\n",
       "      <td>10</td>\n",
       "      <td>0.171130</td>\n",
       "      <td>0.589578</td>\n",
       "      <td>0.418362</td>\n",
       "      <td>22.06</td>\n",
       "      <td>0.273633</td>\n",
       "      <td>0.372093</td>\n",
       "      <td>0.930233</td>\n",
       "      <td>0.117949</td>\n",
       "    </tr>\n",
       "    <tr>\n",
       "      <th>423264</th>\n",
       "      <td>423264</td>\n",
       "      <td>RNAezYzN</td>\n",
       "      <td>0.5</td>\n",
       "      <td>1.55</td>\n",
       "      <td>1.15</td>\n",
       "      <td>0.461538</td>\n",
       "      <td>1.000000</td>\n",
       "      <td>0.934066</td>\n",
       "      <td>14</td>\n",
       "      <td>13</td>\n",
       "      <td>0.241334</td>\n",
       "      <td>0.739027</td>\n",
       "      <td>0.483330</td>\n",
       "      <td>22.92</td>\n",
       "      <td>0.291239</td>\n",
       "      <td>0.341006</td>\n",
       "      <td>0.784314</td>\n",
       "      <td>0.083558</td>\n",
       "    </tr>\n",
       "    <tr>\n",
       "      <th>482901</th>\n",
       "      <td>482901</td>\n",
       "      <td>FiPNFYLF</td>\n",
       "      <td>0.5</td>\n",
       "      <td>1.70</td>\n",
       "      <td>1.10</td>\n",
       "      <td>0.538462</td>\n",
       "      <td>1.142857</td>\n",
       "      <td>0.932692</td>\n",
       "      <td>14</td>\n",
       "      <td>13</td>\n",
       "      <td>0.261222</td>\n",
       "      <td>0.710414</td>\n",
       "      <td>0.435419</td>\n",
       "      <td>23.30</td>\n",
       "      <td>0.290880</td>\n",
       "      <td>0.336700</td>\n",
       "      <td>0.740741</td>\n",
       "      <td>0.059233</td>\n",
       "    </tr>\n",
       "    <tr>\n",
       "      <th>36624</th>\n",
       "      <td>36624</td>\n",
       "      <td>rKciBaYr</td>\n",
       "      <td>0.5</td>\n",
       "      <td>0.55</td>\n",
       "      <td>1.80</td>\n",
       "      <td>0.400000</td>\n",
       "      <td>1.142857</td>\n",
       "      <td>0.950000</td>\n",
       "      <td>14</td>\n",
       "      <td>10</td>\n",
       "      <td>0.048099</td>\n",
       "      <td>0.575553</td>\n",
       "      <td>0.520033</td>\n",
       "      <td>17.80</td>\n",
       "      <td>0.223039</td>\n",
       "      <td>0.358423</td>\n",
       "      <td>1.290323</td>\n",
       "      <td>0.221106</td>\n",
       "    </tr>\n",
       "    <tr>\n",
       "      <th>11693</th>\n",
       "      <td>11693</td>\n",
       "      <td>qNBVggss</td>\n",
       "      <td>0.5</td>\n",
       "      <td>0.50</td>\n",
       "      <td>1.55</td>\n",
       "      <td>0.545455</td>\n",
       "      <td>1.285714</td>\n",
       "      <td>0.939394</td>\n",
       "      <td>14</td>\n",
       "      <td>11</td>\n",
       "      <td>-0.072921</td>\n",
       "      <td>0.542384</td>\n",
       "      <td>0.619172</td>\n",
       "      <td>19.00</td>\n",
       "      <td>0.248911</td>\n",
       "      <td>0.430108</td>\n",
       "      <td>1.333333</td>\n",
       "      <td>0.154930</td>\n",
       "    </tr>\n",
       "  </tbody>\n",
       "</table>\n",
       "</div>"
      ],
      "text/plain": [
       "        Unnamed: 0    sim_id  p_SES_high  epsilon   rho   H_Share  Exposure  \\\n",
       "265257      265257  cFdMBOjt         0.5     1.15  1.25  0.300000  0.727273   \n",
       "423264      423264  RNAezYzN         0.5     1.55  1.15  0.461538  1.000000   \n",
       "482901      482901  FiPNFYLF         0.5     1.70  1.10  0.538462  1.142857   \n",
       "36624        36624  rKciBaYr         0.5     0.55  1.80  0.400000  1.142857   \n",
       "11693        11693  qNBVggss         0.5     0.50  1.55  0.545455  1.285714   \n",
       "\n",
       "        Friend_Bias  N_exposure  Degree  Network_SES_assortativity  \\\n",
       "265257     0.925000          14      10                   0.171130   \n",
       "423264     0.934066          14      13                   0.241334   \n",
       "482901     0.932692          14      13                   0.261222   \n",
       "36624      0.950000          14      10                   0.048099   \n",
       "11693      0.939394          14      11                  -0.072921   \n",
       "\n",
       "        Network_H_Share_H  Network_H_Share_L  Network_Degree  \\\n",
       "265257           0.589578           0.418362           22.06   \n",
       "423264           0.739027           0.483330           22.92   \n",
       "482901           0.710414           0.435419           23.30   \n",
       "36624            0.575553           0.520033           17.80   \n",
       "11693            0.542384           0.619172           19.00   \n",
       "\n",
       "        Network_Clustering  Predicted_H_Share  Predicted_Exposure  \\\n",
       "265257            0.273633           0.372093            0.930233   \n",
       "423264            0.291239           0.341006            0.784314   \n",
       "482901            0.290880           0.336700            0.740741   \n",
       "36624             0.223039           0.358423            1.290323   \n",
       "11693             0.248911           0.430108            1.333333   \n",
       "\n",
       "        Predicted_Friend_Bias  \n",
       "265257               0.117949  \n",
       "423264               0.083558  \n",
       "482901               0.059233  \n",
       "36624                0.221106  \n",
       "11693                0.154930  "
      ]
     },
     "execution_count": 3,
     "metadata": {},
     "output_type": "execute_result"
    }
   ],
   "source": [
    "\n",
    "# general simulation stuff\n",
    "list_eps_values = np.arange(0.5, 2, 0.05)\n",
    "list_rho_values = np.arange(1, 2, 0.05)\n",
    "\n",
    "num_sim_per_param = 10 # number of simulations with given parameter set\n",
    "num_MTO_per_sim = 100 # number of simulations on each network\n",
    "\n",
    "#df_rho_eps = MTO_simulator(list_eps_values=list_eps_values, list_rho_values=list_rho_values, num_MTO_per_sim=num_MTO_per_sim, num_sim_per_param=num_sim_per_param)\n",
    "#df_rho_eps.to_csv('eps_rho_sim.csv')\n",
    "\n",
    "df_eps_rho = pd.read_csv('eps_rho_sim.csv')\n",
    "\n",
    "df_eps_rho.sample(5)\n"
   ]
  },
  {
   "attachments": {},
   "cell_type": "markdown",
   "metadata": {},
   "source": [
    "### Share of H friends: redo this and the rho and only vary rho or epsilon (with more values)"
   ]
  },
  {
   "cell_type": "code",
   "execution_count": 23,
   "metadata": {},
   "outputs": [
    {
     "data": {
      "application/vnd.plotly.v1+json": {
       "config": {
        "plotlyServerURL": "https://plot.ly"
       },
       "data": [
        {
         "line": {
          "color": "rgba(0,0,255,1)",
          "width": 2
         },
         "mode": "lines",
         "name": "Low SES",
         "showlegend": true,
         "type": "scatter",
         "x": [
          0.5,
          0.55,
          0.6000000000000001,
          0.6500000000000001,
          0.7000000000000002,
          0.7500000000000002,
          0.8000000000000003,
          0.8500000000000003,
          0.9000000000000004,
          0.9500000000000004,
          1.0000000000000004,
          1.0500000000000005,
          1.1000000000000003,
          1.1500000000000006,
          1.2000000000000006,
          1.2500000000000009,
          1.3000000000000007,
          1.3500000000000008,
          1.4000000000000008,
          1.4500000000000008,
          1.5000000000000009,
          1.550000000000001,
          1.600000000000001,
          1.650000000000001,
          1.700000000000001,
          1.750000000000001,
          1.8000000000000012,
          1.8500000000000008,
          1.9000000000000008,
          1.9500000000000013
         ],
         "y": [
          0.5635950344103899,
          0.5384345465603168,
          0.5139533678914775,
          0.5063332146011936,
          0.4932103612513648,
          0.47548801496015486,
          0.4700833977559251,
          0.44951430560102834,
          0.4421802011026517,
          0.4286604927541509,
          0.41942254820450037,
          0.4120563705786709,
          0.4024663843578425,
          0.3847670035330334,
          0.3867899941674662,
          0.38058060328314725,
          0.3723428915285011,
          0.3566407471702762,
          0.3570237929835219,
          0.349291144208026,
          0.34244476437169835,
          0.3338243732056091,
          0.33549304859680984,
          0.32619730548720666,
          0.32123351384266996,
          0.31220704054266957,
          0.30762245903507507,
          0.30353063916002526,
          0.30221217366496855,
          0.2936675315735542
         ]
        },
        {
         "line": {
          "color": "rgba(0,0,255,0.25)",
          "width": 2
         },
         "mode": "lines",
         "showlegend": false,
         "type": "scatter",
         "x": [
          0.5,
          0.55,
          0.6000000000000001,
          0.6500000000000001,
          0.7000000000000002,
          0.7500000000000002,
          0.8000000000000003,
          0.8500000000000003,
          0.9000000000000004,
          0.9500000000000004,
          1.0000000000000004,
          1.0500000000000005,
          1.1000000000000003,
          1.1500000000000006,
          1.2000000000000006,
          1.2500000000000009,
          1.3000000000000007,
          1.3500000000000008,
          1.4000000000000008,
          1.4500000000000008,
          1.5000000000000009,
          1.550000000000001,
          1.600000000000001,
          1.650000000000001,
          1.700000000000001,
          1.750000000000001,
          1.8000000000000012,
          1.8500000000000008,
          1.9000000000000008,
          1.9500000000000013
         ],
         "y": [
          0.5683254934407582,
          0.5436688945672179,
          0.5191968556964126,
          0.5113988056920945,
          0.49812453056017997,
          0.4805594471896042,
          0.47479700961785803,
          0.45405693640861666,
          0.44668420467243086,
          0.43332259971225146,
          0.42404594653831773,
          0.4163926830559458,
          0.4072688692250621,
          0.3891570576793941,
          0.3909043346651228,
          0.3846130249473965,
          0.3768727723926122,
          0.3609473575735725,
          0.361270118303664,
          0.3533700615764707,
          0.346713894539033,
          0.3380362119968532,
          0.339695195742942,
          0.3300290484667313,
          0.3250666491882556,
          0.31596488882928403,
          0.31156514481167535,
          0.3073806332384682,
          0.306038760147876,
          0.29757478135233284
         ]
        },
        {
         "fill": "tonexty",
         "fillcolor": "rgba(68, 68, 68, 0.2)",
         "line": {
          "color": "rgba(0,0,255,0.25)",
          "width": 2
         },
         "mode": "lines",
         "showlegend": false,
         "type": "scatter",
         "x": [
          0.5,
          0.55,
          0.6000000000000001,
          0.6500000000000001,
          0.7000000000000002,
          0.7500000000000002,
          0.8000000000000003,
          0.8500000000000003,
          0.9000000000000004,
          0.9500000000000004,
          1.0000000000000004,
          1.0500000000000005,
          1.1000000000000003,
          1.1500000000000006,
          1.2000000000000006,
          1.2500000000000009,
          1.3000000000000007,
          1.3500000000000008,
          1.4000000000000008,
          1.4500000000000008,
          1.5000000000000009,
          1.550000000000001,
          1.600000000000001,
          1.650000000000001,
          1.700000000000001,
          1.750000000000001,
          1.8000000000000012,
          1.8500000000000008,
          1.9000000000000008,
          1.9500000000000013
         ],
         "y": [
          0.5588645753800217,
          0.5332001985534156,
          0.5087098800865424,
          0.5012676235102927,
          0.48829619194254964,
          0.4704165827307055,
          0.4653697858939922,
          0.44497167479344,
          0.43767619753287257,
          0.42399838579605037,
          0.414799149870683,
          0.407720058101396,
          0.39766389949062286,
          0.38037694938667266,
          0.38267565366980955,
          0.37654818161889797,
          0.36781301066439,
          0.35233413676697994,
          0.35277746766337975,
          0.34521222683958125,
          0.3381756342043637,
          0.329612534414365,
          0.3312909014506777,
          0.322365562507682,
          0.3174003784970843,
          0.3084491922560551,
          0.3036797732584748,
          0.2996806450815823,
          0.2983855871820611,
          0.28976028179477553
         ]
        },
        {
         "line": {
          "color": "rgba(255,0,0,1)",
          "width": 2
         },
         "mode": "lines",
         "name": "High SES",
         "showlegend": true,
         "type": "scatter",
         "x": [
          0.5,
          0.55,
          0.6000000000000001,
          0.6500000000000001,
          0.7000000000000002,
          0.7500000000000002,
          0.8000000000000003,
          0.8500000000000003,
          0.9000000000000004,
          0.9500000000000004,
          1.0000000000000004,
          1.0500000000000005,
          1.1000000000000003,
          1.1500000000000006,
          1.2000000000000006,
          1.2500000000000009,
          1.3000000000000007,
          1.3500000000000008,
          1.4000000000000008,
          1.4500000000000008,
          1.5000000000000009,
          1.550000000000001,
          1.600000000000001,
          1.650000000000001,
          1.700000000000001,
          1.750000000000001,
          1.8000000000000012,
          1.8500000000000008,
          1.9000000000000008,
          1.9500000000000013
         ],
         "y": [
          0.44641909906305144,
          0.45739222106925054,
          0.46477916914998796,
          0.49183549308154717,
          0.5088743027067404,
          0.5227774470237325,
          0.5345284117407926,
          0.5465675212427152,
          0.5594267782347615,
          0.5689732481692731,
          0.581909104244065,
          0.5886761988377364,
          0.5965801384844194,
          0.5973873040259902,
          0.6210238997620094,
          0.6239068431454224,
          0.6349307003385614,
          0.6351553433562966,
          0.6481110156895572,
          0.651461552710656,
          0.6612383971243813,
          0.665023124991206,
          0.6746741209433994,
          0.6768225634362726,
          0.6838462268139802,
          0.6881368756249079,
          0.6934979193896569,
          0.6966781532832322,
          0.7051245869317078,
          0.7072787803266892
         ]
        },
        {
         "line": {
          "color": "rgba(255,0,0,0.25)",
          "width": 2
         },
         "mode": "lines",
         "showlegend": false,
         "type": "scatter",
         "x": [
          0.5,
          0.55,
          0.6000000000000001,
          0.6500000000000001,
          0.7000000000000002,
          0.7500000000000002,
          0.8000000000000003,
          0.8500000000000003,
          0.9000000000000004,
          0.9500000000000004,
          1.0000000000000004,
          1.0500000000000005,
          1.1000000000000003,
          1.1500000000000006,
          1.2000000000000006,
          1.2500000000000009,
          1.3000000000000007,
          1.3500000000000008,
          1.4000000000000008,
          1.4500000000000008,
          1.5000000000000009,
          1.550000000000001,
          1.600000000000001,
          1.650000000000001,
          1.700000000000001,
          1.750000000000001,
          1.8000000000000012,
          1.8500000000000008,
          1.9000000000000008,
          1.9500000000000013
         ],
         "y": [
          0.4515169270835511,
          0.46219616271955716,
          0.4695834479983579,
          0.496996481689679,
          0.5137708015050524,
          0.5276680978832715,
          0.5391907834802161,
          0.5510844215632789,
          0.5639639644965215,
          0.5736908219757241,
          0.5864432114343093,
          0.5933349974207827,
          0.6009940847813597,
          0.6018923628865904,
          0.6252646049284416,
          0.6284913803546112,
          0.6388935816992708,
          0.639322027579232,
          0.6523072468510389,
          0.6556757959435364,
          0.6654167932942896,
          0.6691568847047205,
          0.678666126657068,
          0.680632283289524,
          0.6875555040466905,
          0.6922272293573404,
          0.6972651868867764,
          0.7006175365225695,
          0.709063493897421,
          0.7110735623312856
         ]
        },
        {
         "fill": "tonexty",
         "fillcolor": "rgba(68, 68, 68, 0.2)",
         "line": {
          "color": "rgba(255,0,0,0.25)",
          "width": 2
         },
         "mode": "lines",
         "showlegend": false,
         "type": "scatter",
         "x": [
          0.5,
          0.55,
          0.6000000000000001,
          0.6500000000000001,
          0.7000000000000002,
          0.7500000000000002,
          0.8000000000000003,
          0.8500000000000003,
          0.9000000000000004,
          0.9500000000000004,
          1.0000000000000004,
          1.0500000000000005,
          1.1000000000000003,
          1.1500000000000006,
          1.2000000000000006,
          1.2500000000000009,
          1.3000000000000007,
          1.3500000000000008,
          1.4000000000000008,
          1.4500000000000008,
          1.5000000000000009,
          1.550000000000001,
          1.600000000000001,
          1.650000000000001,
          1.700000000000001,
          1.750000000000001,
          1.8000000000000012,
          1.8500000000000008,
          1.9000000000000008,
          1.9500000000000013
         ],
         "y": [
          0.44132127104255175,
          0.4525882794189439,
          0.45997489030161803,
          0.4866745044734153,
          0.5039778039084284,
          0.5178867961641935,
          0.529866040001369,
          0.5420506209221516,
          0.5548895919730015,
          0.5642556743628221,
          0.5773749970538206,
          0.5840174002546901,
          0.592166192187479,
          0.5928822451653899,
          0.6167831945955773,
          0.6193223059362337,
          0.6309678189778519,
          0.6309886591333613,
          0.6439147845280755,
          0.6472473094777755,
          0.6570600009544729,
          0.6608893652776915,
          0.6706821152297308,
          0.6730128435830212,
          0.6801369495812699,
          0.6840465218924754,
          0.6897306518925373,
          0.692738770043895,
          0.7011856799659946,
          0.7034839983220929
         ]
        }
       ],
       "layout": {
        "annotations": [
         {
          "showarrow": false,
          "text": "Equal share",
          "x": 1,
          "xanchor": "right",
          "xref": "x domain",
          "y": 0.5,
          "yanchor": "bottom",
          "yref": "y"
         },
         {
          "showarrow": false,
          "text": "ϵ=1: no bias",
          "x": 1,
          "xanchor": "left",
          "xref": "x",
          "y": 1,
          "yanchor": "top",
          "yref": "y domain"
         }
        ],
        "font": {
         "size": 18
        },
        "height": 500,
        "legend": {
         "title": {
          "text": ""
         },
         "x": 0.75,
         "y": 1
        },
        "margin": {
         "b": 5,
         "l": 5,
         "r": 5,
         "t": 5
        },
        "plot_bgcolor": "rgba(0,0,0,0)",
        "shapes": [
         {
          "line": {
           "width": 1
          },
          "type": "line",
          "x0": 0,
          "x1": 1,
          "xref": "x domain",
          "y0": 0.5,
          "y1": 0.5,
          "yref": "y"
         },
         {
          "line": {
           "width": 1
          },
          "type": "line",
          "x0": 1,
          "x1": 1,
          "xref": "x",
          "y0": 0,
          "y1": 1,
          "yref": "y domain"
         }
        ],
        "showlegend": true,
        "template": {
         "data": {
          "bar": [
           {
            "error_x": {
             "color": "#2a3f5f"
            },
            "error_y": {
             "color": "#2a3f5f"
            },
            "marker": {
             "line": {
              "color": "#E5ECF6",
              "width": 0.5
             },
             "pattern": {
              "fillmode": "overlay",
              "size": 10,
              "solidity": 0.2
             }
            },
            "type": "bar"
           }
          ],
          "barpolar": [
           {
            "marker": {
             "line": {
              "color": "#E5ECF6",
              "width": 0.5
             },
             "pattern": {
              "fillmode": "overlay",
              "size": 10,
              "solidity": 0.2
             }
            },
            "type": "barpolar"
           }
          ],
          "carpet": [
           {
            "aaxis": {
             "endlinecolor": "#2a3f5f",
             "gridcolor": "white",
             "linecolor": "white",
             "minorgridcolor": "white",
             "startlinecolor": "#2a3f5f"
            },
            "baxis": {
             "endlinecolor": "#2a3f5f",
             "gridcolor": "white",
             "linecolor": "white",
             "minorgridcolor": "white",
             "startlinecolor": "#2a3f5f"
            },
            "type": "carpet"
           }
          ],
          "choropleth": [
           {
            "colorbar": {
             "outlinewidth": 0,
             "ticks": ""
            },
            "type": "choropleth"
           }
          ],
          "contour": [
           {
            "colorbar": {
             "outlinewidth": 0,
             "ticks": ""
            },
            "colorscale": [
             [
              0,
              "#0d0887"
             ],
             [
              0.1111111111111111,
              "#46039f"
             ],
             [
              0.2222222222222222,
              "#7201a8"
             ],
             [
              0.3333333333333333,
              "#9c179e"
             ],
             [
              0.4444444444444444,
              "#bd3786"
             ],
             [
              0.5555555555555556,
              "#d8576b"
             ],
             [
              0.6666666666666666,
              "#ed7953"
             ],
             [
              0.7777777777777778,
              "#fb9f3a"
             ],
             [
              0.8888888888888888,
              "#fdca26"
             ],
             [
              1,
              "#f0f921"
             ]
            ],
            "type": "contour"
           }
          ],
          "contourcarpet": [
           {
            "colorbar": {
             "outlinewidth": 0,
             "ticks": ""
            },
            "type": "contourcarpet"
           }
          ],
          "heatmap": [
           {
            "colorbar": {
             "outlinewidth": 0,
             "ticks": ""
            },
            "colorscale": [
             [
              0,
              "#0d0887"
             ],
             [
              0.1111111111111111,
              "#46039f"
             ],
             [
              0.2222222222222222,
              "#7201a8"
             ],
             [
              0.3333333333333333,
              "#9c179e"
             ],
             [
              0.4444444444444444,
              "#bd3786"
             ],
             [
              0.5555555555555556,
              "#d8576b"
             ],
             [
              0.6666666666666666,
              "#ed7953"
             ],
             [
              0.7777777777777778,
              "#fb9f3a"
             ],
             [
              0.8888888888888888,
              "#fdca26"
             ],
             [
              1,
              "#f0f921"
             ]
            ],
            "type": "heatmap"
           }
          ],
          "heatmapgl": [
           {
            "colorbar": {
             "outlinewidth": 0,
             "ticks": ""
            },
            "colorscale": [
             [
              0,
              "#0d0887"
             ],
             [
              0.1111111111111111,
              "#46039f"
             ],
             [
              0.2222222222222222,
              "#7201a8"
             ],
             [
              0.3333333333333333,
              "#9c179e"
             ],
             [
              0.4444444444444444,
              "#bd3786"
             ],
             [
              0.5555555555555556,
              "#d8576b"
             ],
             [
              0.6666666666666666,
              "#ed7953"
             ],
             [
              0.7777777777777778,
              "#fb9f3a"
             ],
             [
              0.8888888888888888,
              "#fdca26"
             ],
             [
              1,
              "#f0f921"
             ]
            ],
            "type": "heatmapgl"
           }
          ],
          "histogram": [
           {
            "marker": {
             "pattern": {
              "fillmode": "overlay",
              "size": 10,
              "solidity": 0.2
             }
            },
            "type": "histogram"
           }
          ],
          "histogram2d": [
           {
            "colorbar": {
             "outlinewidth": 0,
             "ticks": ""
            },
            "colorscale": [
             [
              0,
              "#0d0887"
             ],
             [
              0.1111111111111111,
              "#46039f"
             ],
             [
              0.2222222222222222,
              "#7201a8"
             ],
             [
              0.3333333333333333,
              "#9c179e"
             ],
             [
              0.4444444444444444,
              "#bd3786"
             ],
             [
              0.5555555555555556,
              "#d8576b"
             ],
             [
              0.6666666666666666,
              "#ed7953"
             ],
             [
              0.7777777777777778,
              "#fb9f3a"
             ],
             [
              0.8888888888888888,
              "#fdca26"
             ],
             [
              1,
              "#f0f921"
             ]
            ],
            "type": "histogram2d"
           }
          ],
          "histogram2dcontour": [
           {
            "colorbar": {
             "outlinewidth": 0,
             "ticks": ""
            },
            "colorscale": [
             [
              0,
              "#0d0887"
             ],
             [
              0.1111111111111111,
              "#46039f"
             ],
             [
              0.2222222222222222,
              "#7201a8"
             ],
             [
              0.3333333333333333,
              "#9c179e"
             ],
             [
              0.4444444444444444,
              "#bd3786"
             ],
             [
              0.5555555555555556,
              "#d8576b"
             ],
             [
              0.6666666666666666,
              "#ed7953"
             ],
             [
              0.7777777777777778,
              "#fb9f3a"
             ],
             [
              0.8888888888888888,
              "#fdca26"
             ],
             [
              1,
              "#f0f921"
             ]
            ],
            "type": "histogram2dcontour"
           }
          ],
          "mesh3d": [
           {
            "colorbar": {
             "outlinewidth": 0,
             "ticks": ""
            },
            "type": "mesh3d"
           }
          ],
          "parcoords": [
           {
            "line": {
             "colorbar": {
              "outlinewidth": 0,
              "ticks": ""
             }
            },
            "type": "parcoords"
           }
          ],
          "pie": [
           {
            "automargin": true,
            "type": "pie"
           }
          ],
          "scatter": [
           {
            "fillpattern": {
             "fillmode": "overlay",
             "size": 10,
             "solidity": 0.2
            },
            "type": "scatter"
           }
          ],
          "scatter3d": [
           {
            "line": {
             "colorbar": {
              "outlinewidth": 0,
              "ticks": ""
             }
            },
            "marker": {
             "colorbar": {
              "outlinewidth": 0,
              "ticks": ""
             }
            },
            "type": "scatter3d"
           }
          ],
          "scattercarpet": [
           {
            "marker": {
             "colorbar": {
              "outlinewidth": 0,
              "ticks": ""
             }
            },
            "type": "scattercarpet"
           }
          ],
          "scattergeo": [
           {
            "marker": {
             "colorbar": {
              "outlinewidth": 0,
              "ticks": ""
             }
            },
            "type": "scattergeo"
           }
          ],
          "scattergl": [
           {
            "marker": {
             "colorbar": {
              "outlinewidth": 0,
              "ticks": ""
             }
            },
            "type": "scattergl"
           }
          ],
          "scattermapbox": [
           {
            "marker": {
             "colorbar": {
              "outlinewidth": 0,
              "ticks": ""
             }
            },
            "type": "scattermapbox"
           }
          ],
          "scatterpolar": [
           {
            "marker": {
             "colorbar": {
              "outlinewidth": 0,
              "ticks": ""
             }
            },
            "type": "scatterpolar"
           }
          ],
          "scatterpolargl": [
           {
            "marker": {
             "colorbar": {
              "outlinewidth": 0,
              "ticks": ""
             }
            },
            "type": "scatterpolargl"
           }
          ],
          "scatterternary": [
           {
            "marker": {
             "colorbar": {
              "outlinewidth": 0,
              "ticks": ""
             }
            },
            "type": "scatterternary"
           }
          ],
          "surface": [
           {
            "colorbar": {
             "outlinewidth": 0,
             "ticks": ""
            },
            "colorscale": [
             [
              0,
              "#0d0887"
             ],
             [
              0.1111111111111111,
              "#46039f"
             ],
             [
              0.2222222222222222,
              "#7201a8"
             ],
             [
              0.3333333333333333,
              "#9c179e"
             ],
             [
              0.4444444444444444,
              "#bd3786"
             ],
             [
              0.5555555555555556,
              "#d8576b"
             ],
             [
              0.6666666666666666,
              "#ed7953"
             ],
             [
              0.7777777777777778,
              "#fb9f3a"
             ],
             [
              0.8888888888888888,
              "#fdca26"
             ],
             [
              1,
              "#f0f921"
             ]
            ],
            "type": "surface"
           }
          ],
          "table": [
           {
            "cells": {
             "fill": {
              "color": "#EBF0F8"
             },
             "line": {
              "color": "white"
             }
            },
            "header": {
             "fill": {
              "color": "#C8D4E3"
             },
             "line": {
              "color": "white"
             }
            },
            "type": "table"
           }
          ]
         },
         "layout": {
          "annotationdefaults": {
           "arrowcolor": "#2a3f5f",
           "arrowhead": 0,
           "arrowwidth": 1
          },
          "autotypenumbers": "strict",
          "coloraxis": {
           "colorbar": {
            "outlinewidth": 0,
            "ticks": ""
           }
          },
          "colorscale": {
           "diverging": [
            [
             0,
             "#8e0152"
            ],
            [
             0.1,
             "#c51b7d"
            ],
            [
             0.2,
             "#de77ae"
            ],
            [
             0.3,
             "#f1b6da"
            ],
            [
             0.4,
             "#fde0ef"
            ],
            [
             0.5,
             "#f7f7f7"
            ],
            [
             0.6,
             "#e6f5d0"
            ],
            [
             0.7,
             "#b8e186"
            ],
            [
             0.8,
             "#7fbc41"
            ],
            [
             0.9,
             "#4d9221"
            ],
            [
             1,
             "#276419"
            ]
           ],
           "sequential": [
            [
             0,
             "#0d0887"
            ],
            [
             0.1111111111111111,
             "#46039f"
            ],
            [
             0.2222222222222222,
             "#7201a8"
            ],
            [
             0.3333333333333333,
             "#9c179e"
            ],
            [
             0.4444444444444444,
             "#bd3786"
            ],
            [
             0.5555555555555556,
             "#d8576b"
            ],
            [
             0.6666666666666666,
             "#ed7953"
            ],
            [
             0.7777777777777778,
             "#fb9f3a"
            ],
            [
             0.8888888888888888,
             "#fdca26"
            ],
            [
             1,
             "#f0f921"
            ]
           ],
           "sequentialminus": [
            [
             0,
             "#0d0887"
            ],
            [
             0.1111111111111111,
             "#46039f"
            ],
            [
             0.2222222222222222,
             "#7201a8"
            ],
            [
             0.3333333333333333,
             "#9c179e"
            ],
            [
             0.4444444444444444,
             "#bd3786"
            ],
            [
             0.5555555555555556,
             "#d8576b"
            ],
            [
             0.6666666666666666,
             "#ed7953"
            ],
            [
             0.7777777777777778,
             "#fb9f3a"
            ],
            [
             0.8888888888888888,
             "#fdca26"
            ],
            [
             1,
             "#f0f921"
            ]
           ]
          },
          "colorway": [
           "#636efa",
           "#EF553B",
           "#00cc96",
           "#ab63fa",
           "#FFA15A",
           "#19d3f3",
           "#FF6692",
           "#B6E880",
           "#FF97FF",
           "#FECB52"
          ],
          "font": {
           "color": "#2a3f5f"
          },
          "geo": {
           "bgcolor": "white",
           "lakecolor": "white",
           "landcolor": "#E5ECF6",
           "showlakes": true,
           "showland": true,
           "subunitcolor": "white"
          },
          "hoverlabel": {
           "align": "left"
          },
          "hovermode": "closest",
          "mapbox": {
           "style": "light"
          },
          "paper_bgcolor": "white",
          "plot_bgcolor": "#E5ECF6",
          "polar": {
           "angularaxis": {
            "gridcolor": "white",
            "linecolor": "white",
            "ticks": ""
           },
           "bgcolor": "#E5ECF6",
           "radialaxis": {
            "gridcolor": "white",
            "linecolor": "white",
            "ticks": ""
           }
          },
          "scene": {
           "xaxis": {
            "backgroundcolor": "#E5ECF6",
            "gridcolor": "white",
            "gridwidth": 2,
            "linecolor": "white",
            "showbackground": true,
            "ticks": "",
            "zerolinecolor": "white"
           },
           "yaxis": {
            "backgroundcolor": "#E5ECF6",
            "gridcolor": "white",
            "gridwidth": 2,
            "linecolor": "white",
            "showbackground": true,
            "ticks": "",
            "zerolinecolor": "white"
           },
           "zaxis": {
            "backgroundcolor": "#E5ECF6",
            "gridcolor": "white",
            "gridwidth": 2,
            "linecolor": "white",
            "showbackground": true,
            "ticks": "",
            "zerolinecolor": "white"
           }
          },
          "shapedefaults": {
           "line": {
            "color": "#2a3f5f"
           }
          },
          "ternary": {
           "aaxis": {
            "gridcolor": "white",
            "linecolor": "white",
            "ticks": ""
           },
           "baxis": {
            "gridcolor": "white",
            "linecolor": "white",
            "ticks": ""
           },
           "bgcolor": "#E5ECF6",
           "caxis": {
            "gridcolor": "white",
            "linecolor": "white",
            "ticks": ""
           }
          },
          "title": {
           "x": 0.05
          },
          "xaxis": {
           "automargin": true,
           "gridcolor": "white",
           "linecolor": "white",
           "ticks": "",
           "title": {
            "standoff": 15
           },
           "zerolinecolor": "white",
           "zerolinewidth": 2
          },
          "yaxis": {
           "automargin": true,
           "gridcolor": "white",
           "linecolor": "white",
           "ticks": "",
           "title": {
            "standoff": 15
           },
           "zerolinecolor": "white",
           "zerolinewidth": 2
          }
         }
        },
        "title": {},
        "width": 500,
        "xaxis": {
         "linecolor": "rgb(0,0,0)",
         "linewidth": 2,
         "range": [
          0.5,
          2
         ],
         "showgrid": false,
         "showline": true,
         "title": {
          "text": "Epsilon"
         }
        },
        "yaxis": {
         "linecolor": "rgb(0,0,0)",
         "linewidth": 2,
         "range": [
          0.25,
          0.75
         ],
         "showgrid": false,
         "showline": true,
         "title": {
          "text": "Share of HSES friends"
         }
        }
       }
      }
     },
     "metadata": {},
     "output_type": "display_data"
    }
   ],
   "source": [
    "\n",
    "fig1 = plotly_lines.plot_MTO_sim_results(plotly_lines(), data=df_eps_rho, x_var='epsilon', y_var='Network_H_Share_H', x_range=[1,2], y_range=[0,2], x_title='epsilon', y_title='Exposure', with_predicted=False, colors=['rgba(255,0,0,1)'])\n",
    "fig2 = plotly_lines.plot_MTO_sim_results(plotly_lines(), data=df_eps_rho, x_var='epsilon', y_var='Network_H_Share_L', x_range=[1,2], y_range=[0,2], x_title='epsilon', y_title='Exposure', with_predicted=False, colors=['rgba(0,0,255,1)'])\n",
    "\n",
    "fig1['data'][0]['name'] = 'High SES'\n",
    "fig2['data'][0]['name'] = 'Low SES'\n",
    "\n",
    "fig = go.Figure(data = fig2.data + fig1.data)\n",
    "\n",
    "fig.update_layout(\n",
    "    title = None, \n",
    "    font=dict(size = 18),\n",
    "    xaxis_title = 'Epsilon', \n",
    "    yaxis_title = 'Share of HSES friends',\n",
    "    width = 500, height = 500,\n",
    "    showlegend = True, \n",
    "    legend=dict(x=0.75,y=1),\n",
    "    legend_title_text = '',\n",
    "    xaxis_range = [0.5,2],\n",
    "    yaxis_range = [0.25,0.75],\n",
    "    margin=dict(b=5,l=5,r=5,t=5),\n",
    "    xaxis = dict(showgrid = False, showline = True, linecolor = 'rgb(0,0,0)', linewidth = 2), \n",
    "    yaxis = dict(showgrid = False, showline = True, linecolor = 'rgb(0,0,0)', linewidth = 2),\n",
    "    plot_bgcolor='rgba(0,0,0,0)')\n",
    "\n",
    "\n",
    "fig.add_hline(y=0.5, line_width=1, annotation_text = 'Equal share')\n",
    "fig.add_vline(x=1, line_width=1, annotation_text = 'ϵ=1: no bias')\n"
   ]
  },
  {
   "cell_type": "code",
   "execution_count": 24,
   "metadata": {},
   "outputs": [
    {
     "data": {
      "application/vnd.plotly.v1+json": {
       "config": {
        "plotlyServerURL": "https://plot.ly"
       },
       "data": [
        {
         "line": {
          "color": "rgba(0,0,255,1)",
          "width": 2
         },
         "mode": "lines",
         "name": "Low SES",
         "showlegend": true,
         "type": "scatter",
         "x": [
          1,
          1.05,
          1.1,
          1.15,
          1.2000000000000002,
          1.2500000000000002,
          1.3000000000000005,
          1.3500000000000003,
          1.4000000000000004,
          1.4500000000000004,
          1.5000000000000004,
          1.5500000000000005,
          1.6000000000000003,
          1.6500000000000006,
          1.7000000000000006,
          1.7500000000000009,
          1.8000000000000007,
          1.8500000000000008,
          1.9000000000000008,
          1.9500000000000008
         ],
         "y": [
          0.4756933835071455,
          0.46698763605403343,
          0.4554521285259042,
          0.45087433974447433,
          0.43695640089931315,
          0.42805127966487705,
          0.4199030177761804,
          0.40729964241214267,
          0.4075378483162446,
          0.39420312641623995,
          0.3878793306110727,
          0.3781463730520159,
          0.3709330745042097,
          0.36538695019252226,
          0.3569587045214415,
          0.35823983641412604,
          0.3510485323136329,
          0.34432985529421745,
          0.3365540132036153,
          0.3284093708325412
         ]
        },
        {
         "line": {
          "color": "rgba(0,0,255,0.25)",
          "width": 2
         },
         "mode": "lines",
         "showlegend": false,
         "type": "scatter",
         "x": [
          1,
          1.05,
          1.1,
          1.15,
          1.2000000000000002,
          1.2500000000000002,
          1.3000000000000005,
          1.3500000000000003,
          1.4000000000000004,
          1.4500000000000004,
          1.5000000000000004,
          1.5500000000000005,
          1.6000000000000003,
          1.6500000000000006,
          1.7000000000000006,
          1.7500000000000009,
          1.8000000000000007,
          1.8500000000000008,
          1.9000000000000008,
          1.9500000000000008
         ],
         "y": [
          0.4844837596827248,
          0.47638806083126295,
          0.4648346618903512,
          0.46035586266761097,
          0.44571250404138646,
          0.43743376837667264,
          0.42904757241603386,
          0.4165081340796702,
          0.4169234604918821,
          0.4036606966716184,
          0.39673092854024283,
          0.38702596173045356,
          0.3797365394429865,
          0.374053802492033,
          0.3656929876993939,
          0.3668710692689502,
          0.3597799722618462,
          0.35267584703569577,
          0.3451724942982246,
          0.33673970496782885
         ]
        },
        {
         "fill": "tonexty",
         "fillcolor": "rgba(68, 68, 68, 0.2)",
         "line": {
          "color": "rgba(0,0,255,0.25)",
          "width": 2
         },
         "mode": "lines",
         "showlegend": false,
         "type": "scatter",
         "x": [
          1,
          1.05,
          1.1,
          1.15,
          1.2000000000000002,
          1.2500000000000002,
          1.3000000000000005,
          1.3500000000000003,
          1.4000000000000004,
          1.4500000000000004,
          1.5000000000000004,
          1.5500000000000005,
          1.6000000000000003,
          1.6500000000000006,
          1.7000000000000006,
          1.7500000000000009,
          1.8000000000000007,
          1.8500000000000008,
          1.9000000000000008,
          1.9500000000000008
         ],
         "y": [
          0.46690300733156626,
          0.4575872112768039,
          0.4460695951614572,
          0.4413928168213377,
          0.42820029775723983,
          0.41866879095308146,
          0.4107584631363269,
          0.39809115074461515,
          0.39815223614060713,
          0.3847455561608615,
          0.3790277326819026,
          0.3692667843735783,
          0.3621296095654329,
          0.3567200978930115,
          0.34822442134348913,
          0.3496086035593019,
          0.34231709236541963,
          0.3359838635527391,
          0.32793553210900594,
          0.3200790366972535
         ]
        },
        {
         "line": {
          "color": "rgba(255,0,0,1)",
          "width": 2
         },
         "mode": "lines",
         "name": "High SES",
         "showlegend": true,
         "type": "scatter",
         "x": [
          1,
          1.05,
          1.1,
          1.15,
          1.2000000000000002,
          1.2500000000000002,
          1.3000000000000005,
          1.3500000000000003,
          1.4000000000000004,
          1.4500000000000004,
          1.5000000000000004,
          1.5500000000000005,
          1.6000000000000003,
          1.6500000000000006,
          1.7000000000000006,
          1.7500000000000009,
          1.8000000000000007,
          1.8500000000000008,
          1.9000000000000008,
          1.9500000000000008
         ],
         "y": [
          0.5231456780255354,
          0.5342402359466205,
          0.5440954371037886,
          0.5563490635104874,
          0.5635370340598751,
          0.5718070465641065,
          0.5816767326145502,
          0.5897358316878297,
          0.6021850079926268,
          0.6059494694735339,
          0.6125299645576325,
          0.6186866200820361,
          0.6242490286468146,
          0.6300294539096705,
          0.6409038493960677,
          0.6461584704116066,
          0.6522513633228648,
          0.6594749265625639,
          0.6658805330116186,
          0.6658052804148373
         ]
        },
        {
         "line": {
          "color": "rgba(255,0,0,0.25)",
          "width": 2
         },
         "mode": "lines",
         "showlegend": false,
         "type": "scatter",
         "x": [
          1,
          1.05,
          1.1,
          1.15,
          1.2000000000000002,
          1.2500000000000002,
          1.3000000000000005,
          1.3500000000000003,
          1.4000000000000004,
          1.4500000000000004,
          1.5000000000000004,
          1.5500000000000005,
          1.6000000000000003,
          1.6500000000000006,
          1.7000000000000006,
          1.7500000000000009,
          1.8000000000000007,
          1.8500000000000008,
          1.9000000000000008,
          1.9500000000000008
         ],
         "y": [
          0.5325924046843836,
          0.5429448918181768,
          0.5535994194938701,
          0.5656519852239305,
          0.5736380452690605,
          0.58093736984794,
          0.5909755862532925,
          0.598602464108651,
          0.6111918851453763,
          0.6151315386771619,
          0.6213121712723982,
          0.6278459653045456,
          0.633548270784247,
          0.638988219295569,
          0.6500565903130738,
          0.6553876641621368,
          0.6609512005585257,
          0.6682684530596265,
          0.6742674998986823,
          0.6747134476323983
         ]
        },
        {
         "fill": "tonexty",
         "fillcolor": "rgba(68, 68, 68, 0.2)",
         "line": {
          "color": "rgba(255,0,0,0.25)",
          "width": 2
         },
         "mode": "lines",
         "showlegend": false,
         "type": "scatter",
         "x": [
          1,
          1.05,
          1.1,
          1.15,
          1.2000000000000002,
          1.2500000000000002,
          1.3000000000000005,
          1.3500000000000003,
          1.4000000000000004,
          1.4500000000000004,
          1.5000000000000004,
          1.5500000000000005,
          1.6000000000000003,
          1.6500000000000006,
          1.7000000000000006,
          1.7500000000000009,
          1.8000000000000007,
          1.8500000000000008,
          1.9000000000000008,
          1.9500000000000008
         ],
         "y": [
          0.5136989513666871,
          0.5255355800750642,
          0.5345914547137071,
          0.5470461417970444,
          0.5534360228506897,
          0.5626767232802731,
          0.5723778789758079,
          0.5808691992670084,
          0.5931781308398772,
          0.5967674002699059,
          0.6037477578428668,
          0.6095272748595266,
          0.6149497865093823,
          0.6210706885237719,
          0.6317511084790616,
          0.6369292766610763,
          0.6435515260872039,
          0.6506814000655013,
          0.657493566124555,
          0.6568971131972764
         ]
        }
       ],
       "layout": {
        "annotations": [
         {
          "showarrow": false,
          "text": "Equal share",
          "x": 1,
          "xanchor": "right",
          "xref": "x domain",
          "y": 0.5,
          "yanchor": "bottom",
          "yref": "y"
         },
         {
          "showarrow": false,
          "text": "rho=1: no bias",
          "x": 1,
          "xanchor": "left",
          "xref": "x",
          "y": 1,
          "yanchor": "top",
          "yref": "y domain"
         }
        ],
        "font": {
         "size": 18
        },
        "height": 500,
        "legend": {
         "title": {
          "text": ""
         },
         "x": 0.75,
         "y": 1
        },
        "margin": {
         "b": 5,
         "l": 5,
         "r": 5,
         "t": 5
        },
        "plot_bgcolor": "rgba(0,0,0,0)",
        "shapes": [
         {
          "line": {
           "width": 1
          },
          "type": "line",
          "x0": 0,
          "x1": 1,
          "xref": "x domain",
          "y0": 0.5,
          "y1": 0.5,
          "yref": "y"
         },
         {
          "line": {
           "width": 1
          },
          "type": "line",
          "x0": 1,
          "x1": 1,
          "xref": "x",
          "y0": 0,
          "y1": 1,
          "yref": "y domain"
         }
        ],
        "showlegend": true,
        "template": {
         "data": {
          "bar": [
           {
            "error_x": {
             "color": "#2a3f5f"
            },
            "error_y": {
             "color": "#2a3f5f"
            },
            "marker": {
             "line": {
              "color": "#E5ECF6",
              "width": 0.5
             },
             "pattern": {
              "fillmode": "overlay",
              "size": 10,
              "solidity": 0.2
             }
            },
            "type": "bar"
           }
          ],
          "barpolar": [
           {
            "marker": {
             "line": {
              "color": "#E5ECF6",
              "width": 0.5
             },
             "pattern": {
              "fillmode": "overlay",
              "size": 10,
              "solidity": 0.2
             }
            },
            "type": "barpolar"
           }
          ],
          "carpet": [
           {
            "aaxis": {
             "endlinecolor": "#2a3f5f",
             "gridcolor": "white",
             "linecolor": "white",
             "minorgridcolor": "white",
             "startlinecolor": "#2a3f5f"
            },
            "baxis": {
             "endlinecolor": "#2a3f5f",
             "gridcolor": "white",
             "linecolor": "white",
             "minorgridcolor": "white",
             "startlinecolor": "#2a3f5f"
            },
            "type": "carpet"
           }
          ],
          "choropleth": [
           {
            "colorbar": {
             "outlinewidth": 0,
             "ticks": ""
            },
            "type": "choropleth"
           }
          ],
          "contour": [
           {
            "colorbar": {
             "outlinewidth": 0,
             "ticks": ""
            },
            "colorscale": [
             [
              0,
              "#0d0887"
             ],
             [
              0.1111111111111111,
              "#46039f"
             ],
             [
              0.2222222222222222,
              "#7201a8"
             ],
             [
              0.3333333333333333,
              "#9c179e"
             ],
             [
              0.4444444444444444,
              "#bd3786"
             ],
             [
              0.5555555555555556,
              "#d8576b"
             ],
             [
              0.6666666666666666,
              "#ed7953"
             ],
             [
              0.7777777777777778,
              "#fb9f3a"
             ],
             [
              0.8888888888888888,
              "#fdca26"
             ],
             [
              1,
              "#f0f921"
             ]
            ],
            "type": "contour"
           }
          ],
          "contourcarpet": [
           {
            "colorbar": {
             "outlinewidth": 0,
             "ticks": ""
            },
            "type": "contourcarpet"
           }
          ],
          "heatmap": [
           {
            "colorbar": {
             "outlinewidth": 0,
             "ticks": ""
            },
            "colorscale": [
             [
              0,
              "#0d0887"
             ],
             [
              0.1111111111111111,
              "#46039f"
             ],
             [
              0.2222222222222222,
              "#7201a8"
             ],
             [
              0.3333333333333333,
              "#9c179e"
             ],
             [
              0.4444444444444444,
              "#bd3786"
             ],
             [
              0.5555555555555556,
              "#d8576b"
             ],
             [
              0.6666666666666666,
              "#ed7953"
             ],
             [
              0.7777777777777778,
              "#fb9f3a"
             ],
             [
              0.8888888888888888,
              "#fdca26"
             ],
             [
              1,
              "#f0f921"
             ]
            ],
            "type": "heatmap"
           }
          ],
          "heatmapgl": [
           {
            "colorbar": {
             "outlinewidth": 0,
             "ticks": ""
            },
            "colorscale": [
             [
              0,
              "#0d0887"
             ],
             [
              0.1111111111111111,
              "#46039f"
             ],
             [
              0.2222222222222222,
              "#7201a8"
             ],
             [
              0.3333333333333333,
              "#9c179e"
             ],
             [
              0.4444444444444444,
              "#bd3786"
             ],
             [
              0.5555555555555556,
              "#d8576b"
             ],
             [
              0.6666666666666666,
              "#ed7953"
             ],
             [
              0.7777777777777778,
              "#fb9f3a"
             ],
             [
              0.8888888888888888,
              "#fdca26"
             ],
             [
              1,
              "#f0f921"
             ]
            ],
            "type": "heatmapgl"
           }
          ],
          "histogram": [
           {
            "marker": {
             "pattern": {
              "fillmode": "overlay",
              "size": 10,
              "solidity": 0.2
             }
            },
            "type": "histogram"
           }
          ],
          "histogram2d": [
           {
            "colorbar": {
             "outlinewidth": 0,
             "ticks": ""
            },
            "colorscale": [
             [
              0,
              "#0d0887"
             ],
             [
              0.1111111111111111,
              "#46039f"
             ],
             [
              0.2222222222222222,
              "#7201a8"
             ],
             [
              0.3333333333333333,
              "#9c179e"
             ],
             [
              0.4444444444444444,
              "#bd3786"
             ],
             [
              0.5555555555555556,
              "#d8576b"
             ],
             [
              0.6666666666666666,
              "#ed7953"
             ],
             [
              0.7777777777777778,
              "#fb9f3a"
             ],
             [
              0.8888888888888888,
              "#fdca26"
             ],
             [
              1,
              "#f0f921"
             ]
            ],
            "type": "histogram2d"
           }
          ],
          "histogram2dcontour": [
           {
            "colorbar": {
             "outlinewidth": 0,
             "ticks": ""
            },
            "colorscale": [
             [
              0,
              "#0d0887"
             ],
             [
              0.1111111111111111,
              "#46039f"
             ],
             [
              0.2222222222222222,
              "#7201a8"
             ],
             [
              0.3333333333333333,
              "#9c179e"
             ],
             [
              0.4444444444444444,
              "#bd3786"
             ],
             [
              0.5555555555555556,
              "#d8576b"
             ],
             [
              0.6666666666666666,
              "#ed7953"
             ],
             [
              0.7777777777777778,
              "#fb9f3a"
             ],
             [
              0.8888888888888888,
              "#fdca26"
             ],
             [
              1,
              "#f0f921"
             ]
            ],
            "type": "histogram2dcontour"
           }
          ],
          "mesh3d": [
           {
            "colorbar": {
             "outlinewidth": 0,
             "ticks": ""
            },
            "type": "mesh3d"
           }
          ],
          "parcoords": [
           {
            "line": {
             "colorbar": {
              "outlinewidth": 0,
              "ticks": ""
             }
            },
            "type": "parcoords"
           }
          ],
          "pie": [
           {
            "automargin": true,
            "type": "pie"
           }
          ],
          "scatter": [
           {
            "fillpattern": {
             "fillmode": "overlay",
             "size": 10,
             "solidity": 0.2
            },
            "type": "scatter"
           }
          ],
          "scatter3d": [
           {
            "line": {
             "colorbar": {
              "outlinewidth": 0,
              "ticks": ""
             }
            },
            "marker": {
             "colorbar": {
              "outlinewidth": 0,
              "ticks": ""
             }
            },
            "type": "scatter3d"
           }
          ],
          "scattercarpet": [
           {
            "marker": {
             "colorbar": {
              "outlinewidth": 0,
              "ticks": ""
             }
            },
            "type": "scattercarpet"
           }
          ],
          "scattergeo": [
           {
            "marker": {
             "colorbar": {
              "outlinewidth": 0,
              "ticks": ""
             }
            },
            "type": "scattergeo"
           }
          ],
          "scattergl": [
           {
            "marker": {
             "colorbar": {
              "outlinewidth": 0,
              "ticks": ""
             }
            },
            "type": "scattergl"
           }
          ],
          "scattermapbox": [
           {
            "marker": {
             "colorbar": {
              "outlinewidth": 0,
              "ticks": ""
             }
            },
            "type": "scattermapbox"
           }
          ],
          "scatterpolar": [
           {
            "marker": {
             "colorbar": {
              "outlinewidth": 0,
              "ticks": ""
             }
            },
            "type": "scatterpolar"
           }
          ],
          "scatterpolargl": [
           {
            "marker": {
             "colorbar": {
              "outlinewidth": 0,
              "ticks": ""
             }
            },
            "type": "scatterpolargl"
           }
          ],
          "scatterternary": [
           {
            "marker": {
             "colorbar": {
              "outlinewidth": 0,
              "ticks": ""
             }
            },
            "type": "scatterternary"
           }
          ],
          "surface": [
           {
            "colorbar": {
             "outlinewidth": 0,
             "ticks": ""
            },
            "colorscale": [
             [
              0,
              "#0d0887"
             ],
             [
              0.1111111111111111,
              "#46039f"
             ],
             [
              0.2222222222222222,
              "#7201a8"
             ],
             [
              0.3333333333333333,
              "#9c179e"
             ],
             [
              0.4444444444444444,
              "#bd3786"
             ],
             [
              0.5555555555555556,
              "#d8576b"
             ],
             [
              0.6666666666666666,
              "#ed7953"
             ],
             [
              0.7777777777777778,
              "#fb9f3a"
             ],
             [
              0.8888888888888888,
              "#fdca26"
             ],
             [
              1,
              "#f0f921"
             ]
            ],
            "type": "surface"
           }
          ],
          "table": [
           {
            "cells": {
             "fill": {
              "color": "#EBF0F8"
             },
             "line": {
              "color": "white"
             }
            },
            "header": {
             "fill": {
              "color": "#C8D4E3"
             },
             "line": {
              "color": "white"
             }
            },
            "type": "table"
           }
          ]
         },
         "layout": {
          "annotationdefaults": {
           "arrowcolor": "#2a3f5f",
           "arrowhead": 0,
           "arrowwidth": 1
          },
          "autotypenumbers": "strict",
          "coloraxis": {
           "colorbar": {
            "outlinewidth": 0,
            "ticks": ""
           }
          },
          "colorscale": {
           "diverging": [
            [
             0,
             "#8e0152"
            ],
            [
             0.1,
             "#c51b7d"
            ],
            [
             0.2,
             "#de77ae"
            ],
            [
             0.3,
             "#f1b6da"
            ],
            [
             0.4,
             "#fde0ef"
            ],
            [
             0.5,
             "#f7f7f7"
            ],
            [
             0.6,
             "#e6f5d0"
            ],
            [
             0.7,
             "#b8e186"
            ],
            [
             0.8,
             "#7fbc41"
            ],
            [
             0.9,
             "#4d9221"
            ],
            [
             1,
             "#276419"
            ]
           ],
           "sequential": [
            [
             0,
             "#0d0887"
            ],
            [
             0.1111111111111111,
             "#46039f"
            ],
            [
             0.2222222222222222,
             "#7201a8"
            ],
            [
             0.3333333333333333,
             "#9c179e"
            ],
            [
             0.4444444444444444,
             "#bd3786"
            ],
            [
             0.5555555555555556,
             "#d8576b"
            ],
            [
             0.6666666666666666,
             "#ed7953"
            ],
            [
             0.7777777777777778,
             "#fb9f3a"
            ],
            [
             0.8888888888888888,
             "#fdca26"
            ],
            [
             1,
             "#f0f921"
            ]
           ],
           "sequentialminus": [
            [
             0,
             "#0d0887"
            ],
            [
             0.1111111111111111,
             "#46039f"
            ],
            [
             0.2222222222222222,
             "#7201a8"
            ],
            [
             0.3333333333333333,
             "#9c179e"
            ],
            [
             0.4444444444444444,
             "#bd3786"
            ],
            [
             0.5555555555555556,
             "#d8576b"
            ],
            [
             0.6666666666666666,
             "#ed7953"
            ],
            [
             0.7777777777777778,
             "#fb9f3a"
            ],
            [
             0.8888888888888888,
             "#fdca26"
            ],
            [
             1,
             "#f0f921"
            ]
           ]
          },
          "colorway": [
           "#636efa",
           "#EF553B",
           "#00cc96",
           "#ab63fa",
           "#FFA15A",
           "#19d3f3",
           "#FF6692",
           "#B6E880",
           "#FF97FF",
           "#FECB52"
          ],
          "font": {
           "color": "#2a3f5f"
          },
          "geo": {
           "bgcolor": "white",
           "lakecolor": "white",
           "landcolor": "#E5ECF6",
           "showlakes": true,
           "showland": true,
           "subunitcolor": "white"
          },
          "hoverlabel": {
           "align": "left"
          },
          "hovermode": "closest",
          "mapbox": {
           "style": "light"
          },
          "paper_bgcolor": "white",
          "plot_bgcolor": "#E5ECF6",
          "polar": {
           "angularaxis": {
            "gridcolor": "white",
            "linecolor": "white",
            "ticks": ""
           },
           "bgcolor": "#E5ECF6",
           "radialaxis": {
            "gridcolor": "white",
            "linecolor": "white",
            "ticks": ""
           }
          },
          "scene": {
           "xaxis": {
            "backgroundcolor": "#E5ECF6",
            "gridcolor": "white",
            "gridwidth": 2,
            "linecolor": "white",
            "showbackground": true,
            "ticks": "",
            "zerolinecolor": "white"
           },
           "yaxis": {
            "backgroundcolor": "#E5ECF6",
            "gridcolor": "white",
            "gridwidth": 2,
            "linecolor": "white",
            "showbackground": true,
            "ticks": "",
            "zerolinecolor": "white"
           },
           "zaxis": {
            "backgroundcolor": "#E5ECF6",
            "gridcolor": "white",
            "gridwidth": 2,
            "linecolor": "white",
            "showbackground": true,
            "ticks": "",
            "zerolinecolor": "white"
           }
          },
          "shapedefaults": {
           "line": {
            "color": "#2a3f5f"
           }
          },
          "ternary": {
           "aaxis": {
            "gridcolor": "white",
            "linecolor": "white",
            "ticks": ""
           },
           "baxis": {
            "gridcolor": "white",
            "linecolor": "white",
            "ticks": ""
           },
           "bgcolor": "#E5ECF6",
           "caxis": {
            "gridcolor": "white",
            "linecolor": "white",
            "ticks": ""
           }
          },
          "title": {
           "x": 0.05
          },
          "xaxis": {
           "automargin": true,
           "gridcolor": "white",
           "linecolor": "white",
           "ticks": "",
           "title": {
            "standoff": 15
           },
           "zerolinecolor": "white",
           "zerolinewidth": 2
          },
          "yaxis": {
           "automargin": true,
           "gridcolor": "white",
           "linecolor": "white",
           "ticks": "",
           "title": {
            "standoff": 15
           },
           "zerolinecolor": "white",
           "zerolinewidth": 2
          }
         }
        },
        "title": {},
        "width": 500,
        "xaxis": {
         "linecolor": "rgb(0,0,0)",
         "linewidth": 2,
         "range": [
          1,
          2
         ],
         "showgrid": false,
         "showline": true,
         "title": {
          "text": "Rho"
         }
        },
        "yaxis": {
         "linecolor": "rgb(0,0,0)",
         "linewidth": 2,
         "range": [
          0.25,
          0.75
         ],
         "showgrid": false,
         "showline": true,
         "title": {
          "text": "Share of HSES friends"
         }
        }
       }
      }
     },
     "metadata": {},
     "output_type": "display_data"
    }
   ],
   "source": [
    "\n",
    "\n",
    "\n",
    "fig1 = plotly_lines.plot_MTO_sim_results(plotly_lines(), data=df_eps_rho, x_var='rho', y_var='Network_H_Share_H', x_range=[1,2], y_range=[0,2], x_title='rho', y_title='Exposure', with_predicted=False, colors=['rgba(255,0,0,1)'])\n",
    "fig2 = plotly_lines.plot_MTO_sim_results(plotly_lines(), data=df_eps_rho, x_var='rho', y_var='Network_H_Share_L', x_range=[1,2], y_range=[0,2], x_title='rho', y_title='Exposure', with_predicted=False, colors=['rgba(0,0,255,1)'])\n",
    "\n",
    "fig1['data'][0]['name'] = 'High SES'\n",
    "fig2['data'][0]['name'] = 'Low SES'\n",
    "\n",
    "fig = go.Figure(data = fig2.data + fig1.data)\n",
    "\n",
    "fig.update_layout(\n",
    "    title = None, \n",
    "    font=dict(size = 18),\n",
    "    xaxis_title = 'Rho', \n",
    "    yaxis_title = 'Share of HSES friends',\n",
    "    width = 500, height = 500,\n",
    "    showlegend = True, \n",
    "    legend=dict(x=0.75,y=1),\n",
    "    legend_title_text = '',\n",
    "    xaxis_range = [1,2],\n",
    "    yaxis_range = [0.25,0.75],\n",
    "    margin=dict(b=5,l=5,r=5,t=5),\n",
    "    xaxis = dict(showgrid = False, showline = True, linecolor = 'rgb(0,0,0)', linewidth = 2), \n",
    "    yaxis = dict(showgrid = False, showline = True, linecolor = 'rgb(0,0,0)', linewidth = 2),\n",
    "    plot_bgcolor='rgba(0,0,0,0)')\n",
    "\n",
    "\n",
    "fig.add_hline(y=0.5, line_width=1, annotation_text = 'Equal share')\n",
    "fig.add_vline(x=1, line_width=1, annotation_text = 'rho=1: no bias')\n",
    "\n",
    "\n"
   ]
  },
  {
   "attachments": {},
   "cell_type": "markdown",
   "metadata": {},
   "source": [
    "### SES Assortativity"
   ]
  },
  {
   "cell_type": "code",
   "execution_count": 25,
   "metadata": {},
   "outputs": [
    {
     "data": {
      "application/vnd.plotly.v1+json": {
       "config": {
        "plotlyServerURL": "https://plot.ly"
       },
       "data": [
        {
         "line": {
          "color": "rgba(100,0,100,1)",
          "width": 2
         },
         "mode": "lines",
         "name": "",
         "showlegend": true,
         "type": "scatter",
         "x": [
          0.5,
          0.55,
          0.6000000000000001,
          0.6500000000000001,
          0.7000000000000002,
          0.7500000000000002,
          0.8000000000000003,
          0.8500000000000003,
          0.9000000000000004,
          0.9500000000000004,
          1.0000000000000004,
          1.0500000000000005,
          1.1000000000000003,
          1.1500000000000006,
          1.2000000000000006,
          1.2500000000000009,
          1.3000000000000007,
          1.3500000000000008,
          1.4000000000000008,
          1.4500000000000008,
          1.5000000000000009,
          1.550000000000001,
          1.600000000000001,
          1.650000000000001,
          1.700000000000001,
          1.750000000000001,
          1.8000000000000012,
          1.8500000000000008,
          1.9000000000000008,
          1.9500000000000013
         ],
         "y": [
          -0.10801771527407773,
          -0.0743594422453407,
          -0.04369972786136879,
          -0.01118490341881302,
          0.016995208861626067,
          0.04836631526963383,
          0.06311248093799816,
          0.09484471808762102,
          0.1132146742477629,
          0.13564727544095548,
          0.15752996337718872,
          0.1702037999055064,
          0.18696063142638003,
          0.20489415007206377,
          0.22512540679886378,
          0.23439210056548285,
          0.2523627785025152,
          0.2673928233893989,
          0.27948424761033996,
          0.2901731751023573,
          0.30510358535260645,
          0.3174928627082358,
          0.3248493852181101,
          0.33521960259543426,
          0.34792768800952084,
          0.3605603300100269,
          0.3697779794522952,
          0.3769300555613703,
          0.385833639185395,
          0.39735807191563777
         ]
        },
        {
         "line": {
          "color": "rgba(100,0,100,0.25)",
          "width": 2
         },
         "mode": "lines",
         "showlegend": false,
         "type": "scatter",
         "x": [
          0.5,
          0.55,
          0.6000000000000001,
          0.6500000000000001,
          0.7000000000000002,
          0.7500000000000002,
          0.8000000000000003,
          0.8500000000000003,
          0.9000000000000004,
          0.9500000000000004,
          1.0000000000000004,
          1.0500000000000005,
          1.1000000000000003,
          1.1500000000000006,
          1.2000000000000006,
          1.2500000000000009,
          1.3000000000000007,
          1.3500000000000008,
          1.4000000000000008,
          1.4500000000000008,
          1.5000000000000009,
          1.550000000000001,
          1.600000000000001,
          1.650000000000001,
          1.700000000000001,
          1.750000000000001,
          1.8000000000000012,
          1.8500000000000008,
          1.9000000000000008,
          1.9500000000000013
         ],
         "y": [
          -0.10204717522709797,
          -0.06836935060448011,
          -0.03750755241532684,
          -0.005155975386159373,
          0.022936142301903027,
          0.05449417064463258,
          0.06905757942142504,
          0.10086116951212984,
          0.11937183125889826,
          0.14184916168026315,
          0.163640073596935,
          0.17642576468925475,
          0.19302571208935726,
          0.21071672423458276,
          0.23110362293168138,
          0.24030696738375618,
          0.258354265472686,
          0.27319261096003816,
          0.28546656350473515,
          0.29586638538080523,
          0.31102494316486734,
          0.3231262048453363,
          0.3306443551631682,
          0.34087322608959136,
          0.3535968513535722,
          0.36609795124623223,
          0.3752951600464127,
          0.3825025614189241,
          0.39149079856092717,
          0.4029118902080944
         ]
        },
        {
         "fill": "tonexty",
         "fillcolor": "rgba(68, 68, 68, 0.2)",
         "line": {
          "color": "rgba(100,0,100,0.25)",
          "width": 2
         },
         "mode": "lines",
         "showlegend": false,
         "type": "scatter",
         "x": [
          0.5,
          0.55,
          0.6000000000000001,
          0.6500000000000001,
          0.7000000000000002,
          0.7500000000000002,
          0.8000000000000003,
          0.8500000000000003,
          0.9000000000000004,
          0.9500000000000004,
          1.0000000000000004,
          1.0500000000000005,
          1.1000000000000003,
          1.1500000000000006,
          1.2000000000000006,
          1.2500000000000009,
          1.3000000000000007,
          1.3500000000000008,
          1.4000000000000008,
          1.4500000000000008,
          1.5000000000000009,
          1.550000000000001,
          1.600000000000001,
          1.650000000000001,
          1.700000000000001,
          1.750000000000001,
          1.8000000000000012,
          1.8500000000000008,
          1.9000000000000008,
          1.9500000000000013
         ],
         "y": [
          -0.1139882553210575,
          -0.0803495338862013,
          -0.04989190330741074,
          -0.01721383145146667,
          0.011054275421349107,
          0.04223845989463508,
          0.05716738245457129,
          0.0888282666631122,
          0.10705751723662753,
          0.1294453892016478,
          0.15141985315744244,
          0.16398183512175807,
          0.1808955507634028,
          0.19907157590954477,
          0.21914719066604618,
          0.22847723374720952,
          0.24637129153234444,
          0.26159303581875964,
          0.2735019317159448,
          0.28447996482390936,
          0.29918222754034557,
          0.3118595205711353,
          0.31905441527305195,
          0.32956597910127716,
          0.34225852466546947,
          0.3550227087738216,
          0.36426079885817764,
          0.37135754970381657,
          0.3801764798098628,
          0.3918042536231811
         ]
        }
       ],
       "layout": {
        "annotations": [
         {
          "showarrow": false,
          "text": "Random mixing",
          "x": 1,
          "xanchor": "right",
          "xref": "x domain",
          "y": 0,
          "yanchor": "bottom",
          "yref": "y"
         },
         {
          "showarrow": false,
          "text": "ϵ=1: no bias",
          "x": 1,
          "xanchor": "left",
          "xref": "x",
          "y": 1,
          "yanchor": "top",
          "yref": "y domain"
         }
        ],
        "font": {
         "size": 18
        },
        "height": 500,
        "legend": {
         "title": {
          "text": ""
         },
         "x": 0.75,
         "y": 1
        },
        "margin": {
         "b": 5,
         "l": 5,
         "r": 5,
         "t": 5
        },
        "plot_bgcolor": "rgba(0,0,0,0)",
        "shapes": [
         {
          "line": {
           "width": 1
          },
          "type": "line",
          "x0": 0,
          "x1": 1,
          "xref": "x domain",
          "y0": 0,
          "y1": 0,
          "yref": "y"
         },
         {
          "line": {
           "width": 1
          },
          "type": "line",
          "x0": 1,
          "x1": 1,
          "xref": "x",
          "y0": 0,
          "y1": 1,
          "yref": "y domain"
         }
        ],
        "showlegend": false,
        "template": {
         "data": {
          "bar": [
           {
            "error_x": {
             "color": "#2a3f5f"
            },
            "error_y": {
             "color": "#2a3f5f"
            },
            "marker": {
             "line": {
              "color": "#E5ECF6",
              "width": 0.5
             },
             "pattern": {
              "fillmode": "overlay",
              "size": 10,
              "solidity": 0.2
             }
            },
            "type": "bar"
           }
          ],
          "barpolar": [
           {
            "marker": {
             "line": {
              "color": "#E5ECF6",
              "width": 0.5
             },
             "pattern": {
              "fillmode": "overlay",
              "size": 10,
              "solidity": 0.2
             }
            },
            "type": "barpolar"
           }
          ],
          "carpet": [
           {
            "aaxis": {
             "endlinecolor": "#2a3f5f",
             "gridcolor": "white",
             "linecolor": "white",
             "minorgridcolor": "white",
             "startlinecolor": "#2a3f5f"
            },
            "baxis": {
             "endlinecolor": "#2a3f5f",
             "gridcolor": "white",
             "linecolor": "white",
             "minorgridcolor": "white",
             "startlinecolor": "#2a3f5f"
            },
            "type": "carpet"
           }
          ],
          "choropleth": [
           {
            "colorbar": {
             "outlinewidth": 0,
             "ticks": ""
            },
            "type": "choropleth"
           }
          ],
          "contour": [
           {
            "colorbar": {
             "outlinewidth": 0,
             "ticks": ""
            },
            "colorscale": [
             [
              0,
              "#0d0887"
             ],
             [
              0.1111111111111111,
              "#46039f"
             ],
             [
              0.2222222222222222,
              "#7201a8"
             ],
             [
              0.3333333333333333,
              "#9c179e"
             ],
             [
              0.4444444444444444,
              "#bd3786"
             ],
             [
              0.5555555555555556,
              "#d8576b"
             ],
             [
              0.6666666666666666,
              "#ed7953"
             ],
             [
              0.7777777777777778,
              "#fb9f3a"
             ],
             [
              0.8888888888888888,
              "#fdca26"
             ],
             [
              1,
              "#f0f921"
             ]
            ],
            "type": "contour"
           }
          ],
          "contourcarpet": [
           {
            "colorbar": {
             "outlinewidth": 0,
             "ticks": ""
            },
            "type": "contourcarpet"
           }
          ],
          "heatmap": [
           {
            "colorbar": {
             "outlinewidth": 0,
             "ticks": ""
            },
            "colorscale": [
             [
              0,
              "#0d0887"
             ],
             [
              0.1111111111111111,
              "#46039f"
             ],
             [
              0.2222222222222222,
              "#7201a8"
             ],
             [
              0.3333333333333333,
              "#9c179e"
             ],
             [
              0.4444444444444444,
              "#bd3786"
             ],
             [
              0.5555555555555556,
              "#d8576b"
             ],
             [
              0.6666666666666666,
              "#ed7953"
             ],
             [
              0.7777777777777778,
              "#fb9f3a"
             ],
             [
              0.8888888888888888,
              "#fdca26"
             ],
             [
              1,
              "#f0f921"
             ]
            ],
            "type": "heatmap"
           }
          ],
          "heatmapgl": [
           {
            "colorbar": {
             "outlinewidth": 0,
             "ticks": ""
            },
            "colorscale": [
             [
              0,
              "#0d0887"
             ],
             [
              0.1111111111111111,
              "#46039f"
             ],
             [
              0.2222222222222222,
              "#7201a8"
             ],
             [
              0.3333333333333333,
              "#9c179e"
             ],
             [
              0.4444444444444444,
              "#bd3786"
             ],
             [
              0.5555555555555556,
              "#d8576b"
             ],
             [
              0.6666666666666666,
              "#ed7953"
             ],
             [
              0.7777777777777778,
              "#fb9f3a"
             ],
             [
              0.8888888888888888,
              "#fdca26"
             ],
             [
              1,
              "#f0f921"
             ]
            ],
            "type": "heatmapgl"
           }
          ],
          "histogram": [
           {
            "marker": {
             "pattern": {
              "fillmode": "overlay",
              "size": 10,
              "solidity": 0.2
             }
            },
            "type": "histogram"
           }
          ],
          "histogram2d": [
           {
            "colorbar": {
             "outlinewidth": 0,
             "ticks": ""
            },
            "colorscale": [
             [
              0,
              "#0d0887"
             ],
             [
              0.1111111111111111,
              "#46039f"
             ],
             [
              0.2222222222222222,
              "#7201a8"
             ],
             [
              0.3333333333333333,
              "#9c179e"
             ],
             [
              0.4444444444444444,
              "#bd3786"
             ],
             [
              0.5555555555555556,
              "#d8576b"
             ],
             [
              0.6666666666666666,
              "#ed7953"
             ],
             [
              0.7777777777777778,
              "#fb9f3a"
             ],
             [
              0.8888888888888888,
              "#fdca26"
             ],
             [
              1,
              "#f0f921"
             ]
            ],
            "type": "histogram2d"
           }
          ],
          "histogram2dcontour": [
           {
            "colorbar": {
             "outlinewidth": 0,
             "ticks": ""
            },
            "colorscale": [
             [
              0,
              "#0d0887"
             ],
             [
              0.1111111111111111,
              "#46039f"
             ],
             [
              0.2222222222222222,
              "#7201a8"
             ],
             [
              0.3333333333333333,
              "#9c179e"
             ],
             [
              0.4444444444444444,
              "#bd3786"
             ],
             [
              0.5555555555555556,
              "#d8576b"
             ],
             [
              0.6666666666666666,
              "#ed7953"
             ],
             [
              0.7777777777777778,
              "#fb9f3a"
             ],
             [
              0.8888888888888888,
              "#fdca26"
             ],
             [
              1,
              "#f0f921"
             ]
            ],
            "type": "histogram2dcontour"
           }
          ],
          "mesh3d": [
           {
            "colorbar": {
             "outlinewidth": 0,
             "ticks": ""
            },
            "type": "mesh3d"
           }
          ],
          "parcoords": [
           {
            "line": {
             "colorbar": {
              "outlinewidth": 0,
              "ticks": ""
             }
            },
            "type": "parcoords"
           }
          ],
          "pie": [
           {
            "automargin": true,
            "type": "pie"
           }
          ],
          "scatter": [
           {
            "fillpattern": {
             "fillmode": "overlay",
             "size": 10,
             "solidity": 0.2
            },
            "type": "scatter"
           }
          ],
          "scatter3d": [
           {
            "line": {
             "colorbar": {
              "outlinewidth": 0,
              "ticks": ""
             }
            },
            "marker": {
             "colorbar": {
              "outlinewidth": 0,
              "ticks": ""
             }
            },
            "type": "scatter3d"
           }
          ],
          "scattercarpet": [
           {
            "marker": {
             "colorbar": {
              "outlinewidth": 0,
              "ticks": ""
             }
            },
            "type": "scattercarpet"
           }
          ],
          "scattergeo": [
           {
            "marker": {
             "colorbar": {
              "outlinewidth": 0,
              "ticks": ""
             }
            },
            "type": "scattergeo"
           }
          ],
          "scattergl": [
           {
            "marker": {
             "colorbar": {
              "outlinewidth": 0,
              "ticks": ""
             }
            },
            "type": "scattergl"
           }
          ],
          "scattermapbox": [
           {
            "marker": {
             "colorbar": {
              "outlinewidth": 0,
              "ticks": ""
             }
            },
            "type": "scattermapbox"
           }
          ],
          "scatterpolar": [
           {
            "marker": {
             "colorbar": {
              "outlinewidth": 0,
              "ticks": ""
             }
            },
            "type": "scatterpolar"
           }
          ],
          "scatterpolargl": [
           {
            "marker": {
             "colorbar": {
              "outlinewidth": 0,
              "ticks": ""
             }
            },
            "type": "scatterpolargl"
           }
          ],
          "scatterternary": [
           {
            "marker": {
             "colorbar": {
              "outlinewidth": 0,
              "ticks": ""
             }
            },
            "type": "scatterternary"
           }
          ],
          "surface": [
           {
            "colorbar": {
             "outlinewidth": 0,
             "ticks": ""
            },
            "colorscale": [
             [
              0,
              "#0d0887"
             ],
             [
              0.1111111111111111,
              "#46039f"
             ],
             [
              0.2222222222222222,
              "#7201a8"
             ],
             [
              0.3333333333333333,
              "#9c179e"
             ],
             [
              0.4444444444444444,
              "#bd3786"
             ],
             [
              0.5555555555555556,
              "#d8576b"
             ],
             [
              0.6666666666666666,
              "#ed7953"
             ],
             [
              0.7777777777777778,
              "#fb9f3a"
             ],
             [
              0.8888888888888888,
              "#fdca26"
             ],
             [
              1,
              "#f0f921"
             ]
            ],
            "type": "surface"
           }
          ],
          "table": [
           {
            "cells": {
             "fill": {
              "color": "#EBF0F8"
             },
             "line": {
              "color": "white"
             }
            },
            "header": {
             "fill": {
              "color": "#C8D4E3"
             },
             "line": {
              "color": "white"
             }
            },
            "type": "table"
           }
          ]
         },
         "layout": {
          "annotationdefaults": {
           "arrowcolor": "#2a3f5f",
           "arrowhead": 0,
           "arrowwidth": 1
          },
          "autotypenumbers": "strict",
          "coloraxis": {
           "colorbar": {
            "outlinewidth": 0,
            "ticks": ""
           }
          },
          "colorscale": {
           "diverging": [
            [
             0,
             "#8e0152"
            ],
            [
             0.1,
             "#c51b7d"
            ],
            [
             0.2,
             "#de77ae"
            ],
            [
             0.3,
             "#f1b6da"
            ],
            [
             0.4,
             "#fde0ef"
            ],
            [
             0.5,
             "#f7f7f7"
            ],
            [
             0.6,
             "#e6f5d0"
            ],
            [
             0.7,
             "#b8e186"
            ],
            [
             0.8,
             "#7fbc41"
            ],
            [
             0.9,
             "#4d9221"
            ],
            [
             1,
             "#276419"
            ]
           ],
           "sequential": [
            [
             0,
             "#0d0887"
            ],
            [
             0.1111111111111111,
             "#46039f"
            ],
            [
             0.2222222222222222,
             "#7201a8"
            ],
            [
             0.3333333333333333,
             "#9c179e"
            ],
            [
             0.4444444444444444,
             "#bd3786"
            ],
            [
             0.5555555555555556,
             "#d8576b"
            ],
            [
             0.6666666666666666,
             "#ed7953"
            ],
            [
             0.7777777777777778,
             "#fb9f3a"
            ],
            [
             0.8888888888888888,
             "#fdca26"
            ],
            [
             1,
             "#f0f921"
            ]
           ],
           "sequentialminus": [
            [
             0,
             "#0d0887"
            ],
            [
             0.1111111111111111,
             "#46039f"
            ],
            [
             0.2222222222222222,
             "#7201a8"
            ],
            [
             0.3333333333333333,
             "#9c179e"
            ],
            [
             0.4444444444444444,
             "#bd3786"
            ],
            [
             0.5555555555555556,
             "#d8576b"
            ],
            [
             0.6666666666666666,
             "#ed7953"
            ],
            [
             0.7777777777777778,
             "#fb9f3a"
            ],
            [
             0.8888888888888888,
             "#fdca26"
            ],
            [
             1,
             "#f0f921"
            ]
           ]
          },
          "colorway": [
           "#636efa",
           "#EF553B",
           "#00cc96",
           "#ab63fa",
           "#FFA15A",
           "#19d3f3",
           "#FF6692",
           "#B6E880",
           "#FF97FF",
           "#FECB52"
          ],
          "font": {
           "color": "#2a3f5f"
          },
          "geo": {
           "bgcolor": "white",
           "lakecolor": "white",
           "landcolor": "#E5ECF6",
           "showlakes": true,
           "showland": true,
           "subunitcolor": "white"
          },
          "hoverlabel": {
           "align": "left"
          },
          "hovermode": "closest",
          "mapbox": {
           "style": "light"
          },
          "paper_bgcolor": "white",
          "plot_bgcolor": "#E5ECF6",
          "polar": {
           "angularaxis": {
            "gridcolor": "white",
            "linecolor": "white",
            "ticks": ""
           },
           "bgcolor": "#E5ECF6",
           "radialaxis": {
            "gridcolor": "white",
            "linecolor": "white",
            "ticks": ""
           }
          },
          "scene": {
           "xaxis": {
            "backgroundcolor": "#E5ECF6",
            "gridcolor": "white",
            "gridwidth": 2,
            "linecolor": "white",
            "showbackground": true,
            "ticks": "",
            "zerolinecolor": "white"
           },
           "yaxis": {
            "backgroundcolor": "#E5ECF6",
            "gridcolor": "white",
            "gridwidth": 2,
            "linecolor": "white",
            "showbackground": true,
            "ticks": "",
            "zerolinecolor": "white"
           },
           "zaxis": {
            "backgroundcolor": "#E5ECF6",
            "gridcolor": "white",
            "gridwidth": 2,
            "linecolor": "white",
            "showbackground": true,
            "ticks": "",
            "zerolinecolor": "white"
           }
          },
          "shapedefaults": {
           "line": {
            "color": "#2a3f5f"
           }
          },
          "ternary": {
           "aaxis": {
            "gridcolor": "white",
            "linecolor": "white",
            "ticks": ""
           },
           "baxis": {
            "gridcolor": "white",
            "linecolor": "white",
            "ticks": ""
           },
           "bgcolor": "#E5ECF6",
           "caxis": {
            "gridcolor": "white",
            "linecolor": "white",
            "ticks": ""
           }
          },
          "title": {
           "x": 0.05
          },
          "xaxis": {
           "automargin": true,
           "gridcolor": "white",
           "linecolor": "white",
           "ticks": "",
           "title": {
            "standoff": 15
           },
           "zerolinecolor": "white",
           "zerolinewidth": 2
          },
          "yaxis": {
           "automargin": true,
           "gridcolor": "white",
           "linecolor": "white",
           "ticks": "",
           "title": {
            "standoff": 15
           },
           "zerolinecolor": "white",
           "zerolinewidth": 2
          }
         }
        },
        "title": {},
        "width": 500,
        "xaxis": {
         "linecolor": "rgb(0,0,0)",
         "linewidth": 2,
         "range": [
          0.5,
          2
         ],
         "showgrid": false,
         "showline": true,
         "title": {
          "text": "Epsilon"
         }
        },
        "yaxis": {
         "linecolor": "rgb(0,0,0)",
         "linewidth": 2,
         "range": [
          -0.5,
          0.5
         ],
         "showgrid": false,
         "showline": true,
         "title": {
          "text": "SES Assortativity"
         }
        }
       }
      }
     },
     "metadata": {},
     "output_type": "display_data"
    }
   ],
   "source": [
    "\n",
    "fig_eps = plotly_lines.line_with_error(plotly_lines(), data=df_eps_rho, x_var='epsilon', y_var='Network_SES_assortativity', color='rgba(100,0,100,1)', legend_text='')\n",
    "\n",
    "fig_eps.update_layout(\n",
    "    title = None, \n",
    "    font=dict(size = 18),\n",
    "    xaxis_title = 'Epsilon', \n",
    "    yaxis_title = 'SES Assortativity',\n",
    "    width = 500, height = 500,\n",
    "    showlegend = False, \n",
    "    legend=dict(x=0.75,y=1),\n",
    "    legend_title_text = '',\n",
    "    xaxis_range = [0.5,2],\n",
    "    yaxis_range = [-0.5,0.5],\n",
    "    margin=dict(b=5,l=5,r=5,t=5),\n",
    "    xaxis = dict(showgrid = False, showline = True, linecolor = 'rgb(0,0,0)', linewidth = 2), \n",
    "    yaxis = dict(showgrid = False, showline = True, linecolor = 'rgb(0,0,0)', linewidth = 2),\n",
    "    plot_bgcolor='rgba(0,0,0,0)')\n",
    "\n",
    "#fig_eps.data[0].line.color = \"rgb(0,100,0,1)\"\n",
    "fig_eps.add_hline(y=0, line_width=1, annotation_text = 'Random mixing')\n",
    "fig_eps.add_vline(x=1, line_width=1, annotation_text = 'ϵ=1: no bias')\n",
    "\n",
    "\n"
   ]
  },
  {
   "cell_type": "code",
   "execution_count": 26,
   "metadata": {},
   "outputs": [
    {
     "data": {
      "application/vnd.plotly.v1+json": {
       "config": {
        "plotlyServerURL": "https://plot.ly"
       },
       "data": [
        {
         "line": {
          "color": "rgba(100,0,100,1)",
          "width": 2
         },
         "mode": "lines",
         "name": "",
         "showlegend": true,
         "type": "scatter",
         "x": [
          1,
          1.05,
          1.1,
          1.15,
          1.2000000000000002,
          1.2500000000000002,
          1.3000000000000005,
          1.3500000000000003,
          1.4000000000000004,
          1.4500000000000004,
          1.5000000000000004,
          1.5500000000000005,
          1.6000000000000003,
          1.6500000000000006,
          1.7000000000000006,
          1.7500000000000009,
          1.8000000000000007,
          1.8500000000000008,
          1.9000000000000008,
          1.9500000000000008
         ],
         "y": [
          0.043214162368698315,
          0.06203754281589553,
          0.08371557333942733,
          0.09941817941141154,
          0.12007709769278527,
          0.13731132805107285,
          0.15447100762391347,
          0.17475786322237852,
          0.18753999669038127,
          0.20387042910902456,
          0.21684210532581732,
          0.2328522259508973,
          0.2447336362118416,
          0.2562277089298252,
          0.2744311032877818,
          0.2795480710270943,
          0.29196074441117587,
          0.3053366567524963,
          0.31953592052322893,
          0.32844608779133727
         ]
        },
        {
         "line": {
          "color": "rgba(100,0,100,0.25)",
          "width": 2
         },
         "mode": "lines",
         "showlegend": false,
         "type": "scatter",
         "x": [
          1,
          1.05,
          1.1,
          1.15,
          1.2000000000000002,
          1.2500000000000002,
          1.3000000000000005,
          1.3500000000000003,
          1.4000000000000004,
          1.4500000000000004,
          1.5000000000000004,
          1.5500000000000005,
          1.6000000000000003,
          1.6500000000000006,
          1.7000000000000006,
          1.7500000000000009,
          1.8000000000000007,
          1.8500000000000008,
          1.9000000000000008,
          1.9500000000000008
         ],
         "y": [
          0.05790935381285196,
          0.07661861612516549,
          0.09862048935119051,
          0.11423790840652896,
          0.1350604416883042,
          0.15194051702513733,
          0.1691411533940487,
          0.18925047887963525,
          0.20223743250124274,
          0.21855756396671877,
          0.23121460891814744,
          0.24766564240752548,
          0.2593284841789399,
          0.270614700673875,
          0.2886018189506102,
          0.2937600236305671,
          0.30615860030932757,
          0.3194894078065255,
          0.333460521489762,
          0.34285504787127946
         ]
        },
        {
         "fill": "tonexty",
         "fillcolor": "rgba(68, 68, 68, 0.2)",
         "line": {
          "color": "rgba(100,0,100,0.25)",
          "width": 2
         },
         "mode": "lines",
         "showlegend": false,
         "type": "scatter",
         "x": [
          1,
          1.05,
          1.1,
          1.15,
          1.2000000000000002,
          1.2500000000000002,
          1.3000000000000005,
          1.3500000000000003,
          1.4000000000000004,
          1.4500000000000004,
          1.5000000000000004,
          1.5500000000000005,
          1.6000000000000003,
          1.6500000000000006,
          1.7000000000000006,
          1.7500000000000009,
          1.8000000000000007,
          1.8500000000000008,
          1.9000000000000008,
          1.9500000000000008
         ],
         "y": [
          0.02851897092454467,
          0.04745646950662558,
          0.06881065732766416,
          0.08459845041629412,
          0.10509375369726635,
          0.12268213907700837,
          0.13980086185377824,
          0.16026524756512178,
          0.1728425608795198,
          0.18918329425133035,
          0.20246960173348721,
          0.21803880949426913,
          0.23013878824474332,
          0.24184071718577543,
          0.2602603876249534,
          0.2653361184236215,
          0.27776288851302416,
          0.29118390569846714,
          0.30561131955669585,
          0.3140371277113951
         ]
        }
       ],
       "layout": {
        "annotations": [
         {
          "showarrow": false,
          "text": "Random mixing",
          "x": 1,
          "xanchor": "right",
          "xref": "x domain",
          "y": 0,
          "yanchor": "bottom",
          "yref": "y"
         },
         {
          "showarrow": false,
          "text": "ρ=1: no bias",
          "x": 1,
          "xanchor": "left",
          "xref": "x",
          "y": 1,
          "yanchor": "top",
          "yref": "y domain"
         }
        ],
        "font": {
         "size": 18
        },
        "height": 500,
        "legend": {
         "title": {
          "text": ""
         },
         "x": 0.75,
         "y": 1
        },
        "margin": {
         "b": 5,
         "l": 5,
         "r": 5,
         "t": 5
        },
        "plot_bgcolor": "rgba(0,0,0,0)",
        "shapes": [
         {
          "line": {
           "width": 1
          },
          "type": "line",
          "x0": 0,
          "x1": 1,
          "xref": "x domain",
          "y0": 0,
          "y1": 0,
          "yref": "y"
         },
         {
          "line": {
           "width": 1
          },
          "type": "line",
          "x0": 1,
          "x1": 1,
          "xref": "x",
          "y0": 0,
          "y1": 1,
          "yref": "y domain"
         }
        ],
        "showlegend": false,
        "template": {
         "data": {
          "bar": [
           {
            "error_x": {
             "color": "#2a3f5f"
            },
            "error_y": {
             "color": "#2a3f5f"
            },
            "marker": {
             "line": {
              "color": "#E5ECF6",
              "width": 0.5
             },
             "pattern": {
              "fillmode": "overlay",
              "size": 10,
              "solidity": 0.2
             }
            },
            "type": "bar"
           }
          ],
          "barpolar": [
           {
            "marker": {
             "line": {
              "color": "#E5ECF6",
              "width": 0.5
             },
             "pattern": {
              "fillmode": "overlay",
              "size": 10,
              "solidity": 0.2
             }
            },
            "type": "barpolar"
           }
          ],
          "carpet": [
           {
            "aaxis": {
             "endlinecolor": "#2a3f5f",
             "gridcolor": "white",
             "linecolor": "white",
             "minorgridcolor": "white",
             "startlinecolor": "#2a3f5f"
            },
            "baxis": {
             "endlinecolor": "#2a3f5f",
             "gridcolor": "white",
             "linecolor": "white",
             "minorgridcolor": "white",
             "startlinecolor": "#2a3f5f"
            },
            "type": "carpet"
           }
          ],
          "choropleth": [
           {
            "colorbar": {
             "outlinewidth": 0,
             "ticks": ""
            },
            "type": "choropleth"
           }
          ],
          "contour": [
           {
            "colorbar": {
             "outlinewidth": 0,
             "ticks": ""
            },
            "colorscale": [
             [
              0,
              "#0d0887"
             ],
             [
              0.1111111111111111,
              "#46039f"
             ],
             [
              0.2222222222222222,
              "#7201a8"
             ],
             [
              0.3333333333333333,
              "#9c179e"
             ],
             [
              0.4444444444444444,
              "#bd3786"
             ],
             [
              0.5555555555555556,
              "#d8576b"
             ],
             [
              0.6666666666666666,
              "#ed7953"
             ],
             [
              0.7777777777777778,
              "#fb9f3a"
             ],
             [
              0.8888888888888888,
              "#fdca26"
             ],
             [
              1,
              "#f0f921"
             ]
            ],
            "type": "contour"
           }
          ],
          "contourcarpet": [
           {
            "colorbar": {
             "outlinewidth": 0,
             "ticks": ""
            },
            "type": "contourcarpet"
           }
          ],
          "heatmap": [
           {
            "colorbar": {
             "outlinewidth": 0,
             "ticks": ""
            },
            "colorscale": [
             [
              0,
              "#0d0887"
             ],
             [
              0.1111111111111111,
              "#46039f"
             ],
             [
              0.2222222222222222,
              "#7201a8"
             ],
             [
              0.3333333333333333,
              "#9c179e"
             ],
             [
              0.4444444444444444,
              "#bd3786"
             ],
             [
              0.5555555555555556,
              "#d8576b"
             ],
             [
              0.6666666666666666,
              "#ed7953"
             ],
             [
              0.7777777777777778,
              "#fb9f3a"
             ],
             [
              0.8888888888888888,
              "#fdca26"
             ],
             [
              1,
              "#f0f921"
             ]
            ],
            "type": "heatmap"
           }
          ],
          "heatmapgl": [
           {
            "colorbar": {
             "outlinewidth": 0,
             "ticks": ""
            },
            "colorscale": [
             [
              0,
              "#0d0887"
             ],
             [
              0.1111111111111111,
              "#46039f"
             ],
             [
              0.2222222222222222,
              "#7201a8"
             ],
             [
              0.3333333333333333,
              "#9c179e"
             ],
             [
              0.4444444444444444,
              "#bd3786"
             ],
             [
              0.5555555555555556,
              "#d8576b"
             ],
             [
              0.6666666666666666,
              "#ed7953"
             ],
             [
              0.7777777777777778,
              "#fb9f3a"
             ],
             [
              0.8888888888888888,
              "#fdca26"
             ],
             [
              1,
              "#f0f921"
             ]
            ],
            "type": "heatmapgl"
           }
          ],
          "histogram": [
           {
            "marker": {
             "pattern": {
              "fillmode": "overlay",
              "size": 10,
              "solidity": 0.2
             }
            },
            "type": "histogram"
           }
          ],
          "histogram2d": [
           {
            "colorbar": {
             "outlinewidth": 0,
             "ticks": ""
            },
            "colorscale": [
             [
              0,
              "#0d0887"
             ],
             [
              0.1111111111111111,
              "#46039f"
             ],
             [
              0.2222222222222222,
              "#7201a8"
             ],
             [
              0.3333333333333333,
              "#9c179e"
             ],
             [
              0.4444444444444444,
              "#bd3786"
             ],
             [
              0.5555555555555556,
              "#d8576b"
             ],
             [
              0.6666666666666666,
              "#ed7953"
             ],
             [
              0.7777777777777778,
              "#fb9f3a"
             ],
             [
              0.8888888888888888,
              "#fdca26"
             ],
             [
              1,
              "#f0f921"
             ]
            ],
            "type": "histogram2d"
           }
          ],
          "histogram2dcontour": [
           {
            "colorbar": {
             "outlinewidth": 0,
             "ticks": ""
            },
            "colorscale": [
             [
              0,
              "#0d0887"
             ],
             [
              0.1111111111111111,
              "#46039f"
             ],
             [
              0.2222222222222222,
              "#7201a8"
             ],
             [
              0.3333333333333333,
              "#9c179e"
             ],
             [
              0.4444444444444444,
              "#bd3786"
             ],
             [
              0.5555555555555556,
              "#d8576b"
             ],
             [
              0.6666666666666666,
              "#ed7953"
             ],
             [
              0.7777777777777778,
              "#fb9f3a"
             ],
             [
              0.8888888888888888,
              "#fdca26"
             ],
             [
              1,
              "#f0f921"
             ]
            ],
            "type": "histogram2dcontour"
           }
          ],
          "mesh3d": [
           {
            "colorbar": {
             "outlinewidth": 0,
             "ticks": ""
            },
            "type": "mesh3d"
           }
          ],
          "parcoords": [
           {
            "line": {
             "colorbar": {
              "outlinewidth": 0,
              "ticks": ""
             }
            },
            "type": "parcoords"
           }
          ],
          "pie": [
           {
            "automargin": true,
            "type": "pie"
           }
          ],
          "scatter": [
           {
            "fillpattern": {
             "fillmode": "overlay",
             "size": 10,
             "solidity": 0.2
            },
            "type": "scatter"
           }
          ],
          "scatter3d": [
           {
            "line": {
             "colorbar": {
              "outlinewidth": 0,
              "ticks": ""
             }
            },
            "marker": {
             "colorbar": {
              "outlinewidth": 0,
              "ticks": ""
             }
            },
            "type": "scatter3d"
           }
          ],
          "scattercarpet": [
           {
            "marker": {
             "colorbar": {
              "outlinewidth": 0,
              "ticks": ""
             }
            },
            "type": "scattercarpet"
           }
          ],
          "scattergeo": [
           {
            "marker": {
             "colorbar": {
              "outlinewidth": 0,
              "ticks": ""
             }
            },
            "type": "scattergeo"
           }
          ],
          "scattergl": [
           {
            "marker": {
             "colorbar": {
              "outlinewidth": 0,
              "ticks": ""
             }
            },
            "type": "scattergl"
           }
          ],
          "scattermapbox": [
           {
            "marker": {
             "colorbar": {
              "outlinewidth": 0,
              "ticks": ""
             }
            },
            "type": "scattermapbox"
           }
          ],
          "scatterpolar": [
           {
            "marker": {
             "colorbar": {
              "outlinewidth": 0,
              "ticks": ""
             }
            },
            "type": "scatterpolar"
           }
          ],
          "scatterpolargl": [
           {
            "marker": {
             "colorbar": {
              "outlinewidth": 0,
              "ticks": ""
             }
            },
            "type": "scatterpolargl"
           }
          ],
          "scatterternary": [
           {
            "marker": {
             "colorbar": {
              "outlinewidth": 0,
              "ticks": ""
             }
            },
            "type": "scatterternary"
           }
          ],
          "surface": [
           {
            "colorbar": {
             "outlinewidth": 0,
             "ticks": ""
            },
            "colorscale": [
             [
              0,
              "#0d0887"
             ],
             [
              0.1111111111111111,
              "#46039f"
             ],
             [
              0.2222222222222222,
              "#7201a8"
             ],
             [
              0.3333333333333333,
              "#9c179e"
             ],
             [
              0.4444444444444444,
              "#bd3786"
             ],
             [
              0.5555555555555556,
              "#d8576b"
             ],
             [
              0.6666666666666666,
              "#ed7953"
             ],
             [
              0.7777777777777778,
              "#fb9f3a"
             ],
             [
              0.8888888888888888,
              "#fdca26"
             ],
             [
              1,
              "#f0f921"
             ]
            ],
            "type": "surface"
           }
          ],
          "table": [
           {
            "cells": {
             "fill": {
              "color": "#EBF0F8"
             },
             "line": {
              "color": "white"
             }
            },
            "header": {
             "fill": {
              "color": "#C8D4E3"
             },
             "line": {
              "color": "white"
             }
            },
            "type": "table"
           }
          ]
         },
         "layout": {
          "annotationdefaults": {
           "arrowcolor": "#2a3f5f",
           "arrowhead": 0,
           "arrowwidth": 1
          },
          "autotypenumbers": "strict",
          "coloraxis": {
           "colorbar": {
            "outlinewidth": 0,
            "ticks": ""
           }
          },
          "colorscale": {
           "diverging": [
            [
             0,
             "#8e0152"
            ],
            [
             0.1,
             "#c51b7d"
            ],
            [
             0.2,
             "#de77ae"
            ],
            [
             0.3,
             "#f1b6da"
            ],
            [
             0.4,
             "#fde0ef"
            ],
            [
             0.5,
             "#f7f7f7"
            ],
            [
             0.6,
             "#e6f5d0"
            ],
            [
             0.7,
             "#b8e186"
            ],
            [
             0.8,
             "#7fbc41"
            ],
            [
             0.9,
             "#4d9221"
            ],
            [
             1,
             "#276419"
            ]
           ],
           "sequential": [
            [
             0,
             "#0d0887"
            ],
            [
             0.1111111111111111,
             "#46039f"
            ],
            [
             0.2222222222222222,
             "#7201a8"
            ],
            [
             0.3333333333333333,
             "#9c179e"
            ],
            [
             0.4444444444444444,
             "#bd3786"
            ],
            [
             0.5555555555555556,
             "#d8576b"
            ],
            [
             0.6666666666666666,
             "#ed7953"
            ],
            [
             0.7777777777777778,
             "#fb9f3a"
            ],
            [
             0.8888888888888888,
             "#fdca26"
            ],
            [
             1,
             "#f0f921"
            ]
           ],
           "sequentialminus": [
            [
             0,
             "#0d0887"
            ],
            [
             0.1111111111111111,
             "#46039f"
            ],
            [
             0.2222222222222222,
             "#7201a8"
            ],
            [
             0.3333333333333333,
             "#9c179e"
            ],
            [
             0.4444444444444444,
             "#bd3786"
            ],
            [
             0.5555555555555556,
             "#d8576b"
            ],
            [
             0.6666666666666666,
             "#ed7953"
            ],
            [
             0.7777777777777778,
             "#fb9f3a"
            ],
            [
             0.8888888888888888,
             "#fdca26"
            ],
            [
             1,
             "#f0f921"
            ]
           ]
          },
          "colorway": [
           "#636efa",
           "#EF553B",
           "#00cc96",
           "#ab63fa",
           "#FFA15A",
           "#19d3f3",
           "#FF6692",
           "#B6E880",
           "#FF97FF",
           "#FECB52"
          ],
          "font": {
           "color": "#2a3f5f"
          },
          "geo": {
           "bgcolor": "white",
           "lakecolor": "white",
           "landcolor": "#E5ECF6",
           "showlakes": true,
           "showland": true,
           "subunitcolor": "white"
          },
          "hoverlabel": {
           "align": "left"
          },
          "hovermode": "closest",
          "mapbox": {
           "style": "light"
          },
          "paper_bgcolor": "white",
          "plot_bgcolor": "#E5ECF6",
          "polar": {
           "angularaxis": {
            "gridcolor": "white",
            "linecolor": "white",
            "ticks": ""
           },
           "bgcolor": "#E5ECF6",
           "radialaxis": {
            "gridcolor": "white",
            "linecolor": "white",
            "ticks": ""
           }
          },
          "scene": {
           "xaxis": {
            "backgroundcolor": "#E5ECF6",
            "gridcolor": "white",
            "gridwidth": 2,
            "linecolor": "white",
            "showbackground": true,
            "ticks": "",
            "zerolinecolor": "white"
           },
           "yaxis": {
            "backgroundcolor": "#E5ECF6",
            "gridcolor": "white",
            "gridwidth": 2,
            "linecolor": "white",
            "showbackground": true,
            "ticks": "",
            "zerolinecolor": "white"
           },
           "zaxis": {
            "backgroundcolor": "#E5ECF6",
            "gridcolor": "white",
            "gridwidth": 2,
            "linecolor": "white",
            "showbackground": true,
            "ticks": "",
            "zerolinecolor": "white"
           }
          },
          "shapedefaults": {
           "line": {
            "color": "#2a3f5f"
           }
          },
          "ternary": {
           "aaxis": {
            "gridcolor": "white",
            "linecolor": "white",
            "ticks": ""
           },
           "baxis": {
            "gridcolor": "white",
            "linecolor": "white",
            "ticks": ""
           },
           "bgcolor": "#E5ECF6",
           "caxis": {
            "gridcolor": "white",
            "linecolor": "white",
            "ticks": ""
           }
          },
          "title": {
           "x": 0.05
          },
          "xaxis": {
           "automargin": true,
           "gridcolor": "white",
           "linecolor": "white",
           "ticks": "",
           "title": {
            "standoff": 15
           },
           "zerolinecolor": "white",
           "zerolinewidth": 2
          },
          "yaxis": {
           "automargin": true,
           "gridcolor": "white",
           "linecolor": "white",
           "ticks": "",
           "title": {
            "standoff": 15
           },
           "zerolinecolor": "white",
           "zerolinewidth": 2
          }
         }
        },
        "title": {},
        "width": 500,
        "xaxis": {
         "linecolor": "rgb(0,0,0)",
         "linewidth": 2,
         "range": [
          1,
          2
         ],
         "showgrid": false,
         "showline": true,
         "title": {
          "text": "Rho"
         }
        },
        "yaxis": {
         "linecolor": "rgb(0,0,0)",
         "linewidth": 2,
         "range": [
          -0.5,
          0.5
         ],
         "showgrid": false,
         "showline": true,
         "title": {
          "text": "SES Assortativity"
         }
        }
       }
      }
     },
     "metadata": {},
     "output_type": "display_data"
    }
   ],
   "source": [
    "\n",
    "fig_rho = plotly_lines.line_with_error(plotly_lines(), data=df_eps_rho, x_var='rho', y_var='Network_SES_assortativity', color='rgba(100,0,100,1)', legend_text='')\n",
    "\n",
    "fig_rho.update_layout(\n",
    "    title = None, \n",
    "    font=dict(size = 18),\n",
    "    xaxis_title = 'Rho', \n",
    "    yaxis_title = 'SES Assortativity',\n",
    "    width = 500, height = 500,\n",
    "    showlegend = False, \n",
    "    legend=dict(x=0.75,y=1),\n",
    "    legend_title_text = '',\n",
    "    xaxis_range = [1,2],\n",
    "    yaxis_range = [-0.5,0.5],\n",
    "    margin=dict(b=5,l=5,r=5,t=5),\n",
    "    xaxis = dict(showgrid = False, showline = True, linecolor = 'rgb(0,0,0)', linewidth = 2), \n",
    "    yaxis = dict(showgrid = False, showline = True, linecolor = 'rgb(0,0,0)', linewidth = 2),\n",
    "    plot_bgcolor='rgba(0,0,0,0)')\n",
    "\n",
    "\n",
    "fig_rho.add_hline(y=0, line_width=1, annotation_text = 'Random mixing')\n",
    "fig_rho.add_vline(x=1, line_width=1, annotation_text = 'ρ=1: no bias')\n",
    "\n",
    "\n"
   ]
  },
  {
   "attachments": {},
   "cell_type": "markdown",
   "metadata": {},
   "source": [
    "### MTO Outcomes"
   ]
  },
  {
   "cell_type": "code",
   "execution_count": 6,
   "metadata": {},
   "outputs": [
    {
     "ename": "NameError",
     "evalue": "name 'df_eps_rho' is not defined",
     "output_type": "error",
     "traceback": [
      "\u001b[1;31m---------------------------------------------------------------------------\u001b[0m",
      "\u001b[1;31mNameError\u001b[0m                                 Traceback (most recent call last)",
      "\u001b[1;32mc:\\Programming\\Code\\Dissertation\\Diss model\\Diss_work.ipynb Cell 28\u001b[0m in \u001b[0;36m<cell line: 1>\u001b[1;34m()\u001b[0m\n\u001b[1;32m----> <a href='vscode-notebook-cell:/c%3A/Programming/Code/Dissertation/Diss%20model/Diss_work.ipynb#X55sZmlsZQ%3D%3D?line=0'>1</a>\u001b[0m fig_exposure \u001b[39m=\u001b[39m px\u001b[39m.\u001b[39mdensity_heatmap(x\u001b[39m=\u001b[39mdf_eps_rho[\u001b[39m'\u001b[39m\u001b[39mepsilon\u001b[39m\u001b[39m'\u001b[39m], y\u001b[39m=\u001b[39mdf_eps_rho[\u001b[39m'\u001b[39m\u001b[39mrho\u001b[39m\u001b[39m'\u001b[39m], z\u001b[39m=\u001b[39mdf_eps_rho[\u001b[39m'\u001b[39m\u001b[39mExposure\u001b[39m\u001b[39m'\u001b[39m], range_x\u001b[39m=\u001b[39m[\u001b[39m0.5\u001b[39m,\u001b[39m2\u001b[39m], range_y\u001b[39m=\u001b[39m[\u001b[39m1\u001b[39m,\u001b[39m2\u001b[39m], histfunc\u001b[39m=\u001b[39m\u001b[39m'\u001b[39m\u001b[39mavg\u001b[39m\u001b[39m'\u001b[39m, color_continuous_scale\u001b[39m=\u001b[39mpx\u001b[39m.\u001b[39mcolors\u001b[39m.\u001b[39mdiverging\u001b[39m.\u001b[39mRdYlBu_r, range_color\u001b[39m=\u001b[39m(\u001b[39m0.6\u001b[39m,\u001b[39m1.4\u001b[39m))\n\u001b[0;32m      <a href='vscode-notebook-cell:/c%3A/Programming/Code/Dissertation/Diss%20model/Diss_work.ipynb#X55sZmlsZQ%3D%3D?line=2'>3</a>\u001b[0m fig_exposure\u001b[39m.\u001b[39mupdate_layout(\n\u001b[0;32m      <a href='vscode-notebook-cell:/c%3A/Programming/Code/Dissertation/Diss%20model/Diss_work.ipynb#X55sZmlsZQ%3D%3D?line=3'>4</a>\u001b[0m     title \u001b[39m=\u001b[39m \u001b[39mNone\u001b[39;00m, \n\u001b[0;32m      <a href='vscode-notebook-cell:/c%3A/Programming/Code/Dissertation/Diss%20model/Diss_work.ipynb#X55sZmlsZQ%3D%3D?line=4'>5</a>\u001b[0m     font\u001b[39m=\u001b[39m\u001b[39mdict\u001b[39m(size \u001b[39m=\u001b[39m \u001b[39m18\u001b[39m),\n\u001b[1;32m   (...)\u001b[0m\n\u001b[0;32m     <a href='vscode-notebook-cell:/c%3A/Programming/Code/Dissertation/Diss%20model/Diss_work.ipynb#X55sZmlsZQ%3D%3D?line=16'>17</a>\u001b[0m     yaxis \u001b[39m=\u001b[39m \u001b[39mdict\u001b[39m(showgrid \u001b[39m=\u001b[39m \u001b[39mFalse\u001b[39;00m, showline \u001b[39m=\u001b[39m \u001b[39mTrue\u001b[39;00m, linecolor \u001b[39m=\u001b[39m \u001b[39m'\u001b[39m\u001b[39mrgb(0,0,0)\u001b[39m\u001b[39m'\u001b[39m, linewidth \u001b[39m=\u001b[39m \u001b[39m2\u001b[39m),\n\u001b[0;32m     <a href='vscode-notebook-cell:/c%3A/Programming/Code/Dissertation/Diss%20model/Diss_work.ipynb#X55sZmlsZQ%3D%3D?line=17'>18</a>\u001b[0m     plot_bgcolor\u001b[39m=\u001b[39m\u001b[39m'\u001b[39m\u001b[39mrgba(0,0,0,0)\u001b[39m\u001b[39m'\u001b[39m)\n\u001b[0;32m     <a href='vscode-notebook-cell:/c%3A/Programming/Code/Dissertation/Diss%20model/Diss_work.ipynb#X55sZmlsZQ%3D%3D?line=20'>21</a>\u001b[0m fig_exposure\u001b[39m.\u001b[39madd_hline(y\u001b[39m=\u001b[39m\u001b[39m1\u001b[39m, line_width\u001b[39m=\u001b[39m\u001b[39m1\u001b[39m, annotation_text \u001b[39m=\u001b[39m \u001b[39m'\u001b[39m\u001b[39mρ=1: no friending bias\u001b[39m\u001b[39m'\u001b[39m)\n",
      "\u001b[1;31mNameError\u001b[0m: name 'df_eps_rho' is not defined"
     ]
    }
   ],
   "source": [
    "\n",
    "\n",
    "fig_exposure = px.density_heatmap(x=df_eps_rho['epsilon'], y=df_eps_rho['rho'], z=df_eps_rho['Exposure'], range_x=[0.5,2], range_y=[1,2], histfunc='avg', color_continuous_scale=px.colors.diverging.RdYlBu_r, range_color=(0.6,1.4))\n",
    "\n",
    "fig_exposure.update_layout(\n",
    "    title = None, \n",
    "    font=dict(size = 18),\n",
    "    xaxis_title = 'Epsilon', \n",
    "    yaxis_title = 'Rho',\n",
    "    width = 800, height = 400,\n",
    "    showlegend = True, \n",
    "    legend=dict(x=0.75,y=1, title='Mean Exposure'),\n",
    "    coloraxis_colorbar_title_text = 'Mean<br>Exposure',\n",
    "    legend_title_text = '',\n",
    "    xaxis_range = [0.5,2],\n",
    "    yaxis_range = [1,2],\n",
    "    margin=dict(b=5,l=5,r=5,t=5),\n",
    "    xaxis = dict(showgrid = False, showline = True, linecolor = 'rgb(0,0,0)', linewidth = 2), \n",
    "    yaxis = dict(showgrid = False, showline = True, linecolor = 'rgb(0,0,0)', linewidth = 2),\n",
    "    plot_bgcolor='rgba(0,0,0,0)')\n",
    "\n",
    "\n",
    "fig_exposure.add_hline(y=1, line_width=1, annotation_text = 'ρ=1: no friending bias')\n",
    "fig_exposure.add_vline(x=1, line_width=1, annotation_text = 'ϵ=1: no exposure bias')\n",
    "\n",
    "\n"
   ]
  },
  {
   "cell_type": "code",
   "execution_count": 7,
   "metadata": {},
   "outputs": [
    {
     "ename": "NameError",
     "evalue": "name 'df_eps_rho' is not defined",
     "output_type": "error",
     "traceback": [
      "\u001b[1;31m---------------------------------------------------------------------------\u001b[0m",
      "\u001b[1;31mNameError\u001b[0m                                 Traceback (most recent call last)",
      "\u001b[1;32mc:\\Programming\\Code\\Dissertation\\Diss model\\Diss_work.ipynb Cell 29\u001b[0m in \u001b[0;36m<cell line: 1>\u001b[1;34m()\u001b[0m\n\u001b[1;32m----> <a href='vscode-notebook-cell:/c%3A/Programming/Code/Dissertation/Diss%20model/Diss_work.ipynb#X56sZmlsZQ%3D%3D?line=0'>1</a>\u001b[0m px\u001b[39m.\u001b[39mdensity_heatmap(x\u001b[39m=\u001b[39mdf_eps_rho[\u001b[39m'\u001b[39m\u001b[39mepsilon\u001b[39m\u001b[39m'\u001b[39m], y\u001b[39m=\u001b[39mdf_eps_rho[\u001b[39m'\u001b[39m\u001b[39mrho\u001b[39m\u001b[39m'\u001b[39m], z\u001b[39m=\u001b[39mdf_eps_rho[\u001b[39m'\u001b[39m\u001b[39mFriend_Bias\u001b[39m\u001b[39m'\u001b[39m], range_x\u001b[39m=\u001b[39m[\u001b[39m0.5\u001b[39m,\u001b[39m2\u001b[39m], range_y\u001b[39m=\u001b[39m[\u001b[39m1\u001b[39m,\u001b[39m2\u001b[39m], histfunc\u001b[39m=\u001b[39m\u001b[39m'\u001b[39m\u001b[39mavg\u001b[39m\u001b[39m'\u001b[39m, color_continuous_scale\u001b[39m=\u001b[39mpx\u001b[39m.\u001b[39mcolors\u001b[39m.\u001b[39msequential\u001b[39m.\u001b[39mRdBu_r)\n\u001b[0;32m      <a href='vscode-notebook-cell:/c%3A/Programming/Code/Dissertation/Diss%20model/Diss_work.ipynb#X56sZmlsZQ%3D%3D?line=2'>3</a>\u001b[0m fig_exposure\u001b[39m.\u001b[39mupdate_layout(\n\u001b[0;32m      <a href='vscode-notebook-cell:/c%3A/Programming/Code/Dissertation/Diss%20model/Diss_work.ipynb#X56sZmlsZQ%3D%3D?line=3'>4</a>\u001b[0m     title \u001b[39m=\u001b[39m \u001b[39mNone\u001b[39;00m, \n\u001b[0;32m      <a href='vscode-notebook-cell:/c%3A/Programming/Code/Dissertation/Diss%20model/Diss_work.ipynb#X56sZmlsZQ%3D%3D?line=4'>5</a>\u001b[0m     font\u001b[39m=\u001b[39m\u001b[39mdict\u001b[39m(size \u001b[39m=\u001b[39m \u001b[39m18\u001b[39m),\n\u001b[1;32m   (...)\u001b[0m\n\u001b[0;32m     <a href='vscode-notebook-cell:/c%3A/Programming/Code/Dissertation/Diss%20model/Diss_work.ipynb#X56sZmlsZQ%3D%3D?line=16'>17</a>\u001b[0m     yaxis \u001b[39m=\u001b[39m \u001b[39mdict\u001b[39m(showgrid \u001b[39m=\u001b[39m \u001b[39mFalse\u001b[39;00m, showline \u001b[39m=\u001b[39m \u001b[39mTrue\u001b[39;00m, linecolor \u001b[39m=\u001b[39m \u001b[39m'\u001b[39m\u001b[39mrgb(0,0,0)\u001b[39m\u001b[39m'\u001b[39m, linewidth \u001b[39m=\u001b[39m \u001b[39m2\u001b[39m),\n\u001b[0;32m     <a href='vscode-notebook-cell:/c%3A/Programming/Code/Dissertation/Diss%20model/Diss_work.ipynb#X56sZmlsZQ%3D%3D?line=17'>18</a>\u001b[0m     plot_bgcolor\u001b[39m=\u001b[39m\u001b[39m'\u001b[39m\u001b[39mrgba(0,0,0,0)\u001b[39m\u001b[39m'\u001b[39m)\n\u001b[0;32m     <a href='vscode-notebook-cell:/c%3A/Programming/Code/Dissertation/Diss%20model/Diss_work.ipynb#X56sZmlsZQ%3D%3D?line=20'>21</a>\u001b[0m fig_exposure\u001b[39m.\u001b[39madd_hline(y\u001b[39m=\u001b[39m\u001b[39m1\u001b[39m, line_width\u001b[39m=\u001b[39m\u001b[39m1\u001b[39m, annotation_text \u001b[39m=\u001b[39m \u001b[39m'\u001b[39m\u001b[39mρ=1: no friending bias\u001b[39m\u001b[39m'\u001b[39m)\n",
      "\u001b[1;31mNameError\u001b[0m: name 'df_eps_rho' is not defined"
     ]
    }
   ],
   "source": [
    "\n",
    "px.density_heatmap(x=df_eps_rho['epsilon'], y=df_eps_rho['rho'], z=df_eps_rho['Friend_Bias'], range_x=[0.5,2], range_y=[1,2], histfunc='avg', color_continuous_scale=px.colors.sequential.RdBu_r)\n",
    "\n",
    "fig_exposure.update_layout(\n",
    "    title = None, \n",
    "    font=dict(size = 18),\n",
    "    xaxis_title = 'Epsilon', \n",
    "    yaxis_title = 'Rho',\n",
    "    width = 800, height = 400,\n",
    "    showlegend = True, \n",
    "    legend=dict(x=0.75,y=1, title='Mean Exposure'),\n",
    "    coloraxis_colorbar_title_text = 'Mean<br>Exposure',\n",
    "    legend_title_text = '',\n",
    "    xaxis_range = [0.5,2],\n",
    "    yaxis_range = [1,2],\n",
    "    margin=dict(b=5,l=5,r=5,t=5),\n",
    "    xaxis = dict(showgrid = False, showline = True, linecolor = 'rgb(0,0,0)', linewidth = 2), \n",
    "    yaxis = dict(showgrid = False, showline = True, linecolor = 'rgb(0,0,0)', linewidth = 2),\n",
    "    plot_bgcolor='rgba(0,0,0,0)')\n",
    "\n",
    "\n",
    "fig_exposure.add_hline(y=1, line_width=1, annotation_text = 'ρ=1: no friending bias')\n",
    "fig_exposure.add_vline(x=1, line_width=1, annotation_text = 'ϵ=1: no exposure bias')\n"
   ]
  },
  {
   "cell_type": "code",
   "execution_count": 8,
   "metadata": {},
   "outputs": [
    {
     "ename": "NameError",
     "evalue": "name 'df_eps_rho' is not defined",
     "output_type": "error",
     "traceback": [
      "\u001b[1;31m---------------------------------------------------------------------------\u001b[0m",
      "\u001b[1;31mNameError\u001b[0m                                 Traceback (most recent call last)",
      "\u001b[1;32mc:\\Programming\\Code\\Dissertation\\Diss model\\Diss_work.ipynb Cell 30\u001b[0m in \u001b[0;36m<cell line: 1>\u001b[1;34m()\u001b[0m\n\u001b[1;32m----> <a href='vscode-notebook-cell:/c%3A/Programming/Code/Dissertation/Diss%20model/Diss_work.ipynb#X60sZmlsZQ%3D%3D?line=0'>1</a>\u001b[0m px\u001b[39m.\u001b[39mdensity_heatmap(x\u001b[39m=\u001b[39mdf_eps_rho[\u001b[39m'\u001b[39m\u001b[39mepsilon\u001b[39m\u001b[39m'\u001b[39m], y\u001b[39m=\u001b[39mdf_eps_rho[\u001b[39m'\u001b[39m\u001b[39mrho\u001b[39m\u001b[39m'\u001b[39m], z\u001b[39m=\u001b[39mdf_eps_rho[\u001b[39m'\u001b[39m\u001b[39mH_Share\u001b[39m\u001b[39m'\u001b[39m], range_x\u001b[39m=\u001b[39m[\u001b[39m0.5\u001b[39m,\u001b[39m2\u001b[39m], range_y\u001b[39m=\u001b[39m[\u001b[39m1\u001b[39m,\u001b[39m2\u001b[39m], histfunc\u001b[39m=\u001b[39m\u001b[39m'\u001b[39m\u001b[39mavg\u001b[39m\u001b[39m'\u001b[39m, color_continuous_scale\u001b[39m=\u001b[39mpx\u001b[39m.\u001b[39mcolors\u001b[39m.\u001b[39msequential\u001b[39m.\u001b[39mGreens)\n",
      "\u001b[1;31mNameError\u001b[0m: name 'df_eps_rho' is not defined"
     ]
    }
   ],
   "source": [
    "px.density_heatmap(x=df_eps_rho['epsilon'], y=df_eps_rho['rho'], z=df_eps_rho['H_Share'], range_x=[0.5,2], range_y=[1,2], histfunc='avg', color_continuous_scale=px.colors.sequential.Greens)"
   ]
  },
  {
   "cell_type": "markdown",
   "metadata": {},
   "source": [
    "### Randomly sampled values"
   ]
  },
  {
   "cell_type": "code",
   "execution_count": 2,
   "metadata": {},
   "outputs": [
    {
     "name": "stdout",
     "output_type": "stream",
     "text": [
      "Running 5000 simulations over 100 parameter combinations\n",
      " Finished 5000 simulations in 1.69 minutes, average time: 0.000338 min/sim"
     ]
    },
    {
     "data": {
      "text/html": [
       "<div>\n",
       "<style scoped>\n",
       "    .dataframe tbody tr th:only-of-type {\n",
       "        vertical-align: middle;\n",
       "    }\n",
       "\n",
       "    .dataframe tbody tr th {\n",
       "        vertical-align: top;\n",
       "    }\n",
       "\n",
       "    .dataframe thead th {\n",
       "        text-align: right;\n",
       "    }\n",
       "</style>\n",
       "<table border=\"1\" class=\"dataframe\">\n",
       "  <thead>\n",
       "    <tr style=\"text-align: right;\">\n",
       "      <th></th>\n",
       "      <th>sim_id</th>\n",
       "      <th>p_SES_high</th>\n",
       "      <th>epsilon</th>\n",
       "      <th>rho</th>\n",
       "      <th>H_Share</th>\n",
       "      <th>Exposure</th>\n",
       "      <th>Friend_Bias</th>\n",
       "      <th>N_exposure</th>\n",
       "      <th>Degree</th>\n",
       "      <th>Network_SES_assortativity</th>\n",
       "      <th>Network_H_Share_H</th>\n",
       "      <th>Network_H_Share_L</th>\n",
       "      <th>Network_Degree</th>\n",
       "      <th>Network_Clustering</th>\n",
       "      <th>Predicted_H_Share</th>\n",
       "      <th>Predicted_Exposure</th>\n",
       "      <th>Predicted_Friend_Bias</th>\n",
       "    </tr>\n",
       "  </thead>\n",
       "  <tbody>\n",
       "    <tr>\n",
       "      <th>3938</th>\n",
       "      <td>PioXsrhM</td>\n",
       "      <td>0.5</td>\n",
       "      <td>1.146198</td>\n",
       "      <td>1.018463</td>\n",
       "      <td>0.615385</td>\n",
       "      <td>1.230769</td>\n",
       "      <td>0.923077</td>\n",
       "      <td>14</td>\n",
       "      <td>13</td>\n",
       "      <td>0.024510</td>\n",
       "      <td>0.434923</td>\n",
       "      <td>0.409328</td>\n",
       "      <td>24.16</td>\n",
       "      <td>0.295267</td>\n",
       "      <td>0.457494</td>\n",
       "      <td>0.931880</td>\n",
       "      <td>0.009764</td>\n",
       "    </tr>\n",
       "    <tr>\n",
       "      <th>4861</th>\n",
       "      <td>UgeUzwMb</td>\n",
       "      <td>0.5</td>\n",
       "      <td>1.168129</td>\n",
       "      <td>0.950575</td>\n",
       "      <td>0.230769</td>\n",
       "      <td>0.461538</td>\n",
       "      <td>0.923077</td>\n",
       "      <td>14</td>\n",
       "      <td>13</td>\n",
       "      <td>0.064136</td>\n",
       "      <td>0.525026</td>\n",
       "      <td>0.459174</td>\n",
       "      <td>24.42</td>\n",
       "      <td>0.292484</td>\n",
       "      <td>0.485209</td>\n",
       "      <td>0.922454</td>\n",
       "      <td>-0.027357</td>\n",
       "    </tr>\n",
       "    <tr>\n",
       "      <th>3201</th>\n",
       "      <td>kqlPdREJ</td>\n",
       "      <td>0.5</td>\n",
       "      <td>1.108535</td>\n",
       "      <td>1.041340</td>\n",
       "      <td>0.357143</td>\n",
       "      <td>0.714286</td>\n",
       "      <td>0.928571</td>\n",
       "      <td>14</td>\n",
       "      <td>14</td>\n",
       "      <td>0.067729</td>\n",
       "      <td>0.510370</td>\n",
       "      <td>0.441027</td>\n",
       "      <td>23.92</td>\n",
       "      <td>0.292147</td>\n",
       "      <td>0.455435</td>\n",
       "      <td>0.948526</td>\n",
       "      <td>0.021272</td>\n",
       "    </tr>\n",
       "    <tr>\n",
       "      <th>537</th>\n",
       "      <td>nHajByjJ</td>\n",
       "      <td>0.5</td>\n",
       "      <td>0.717291</td>\n",
       "      <td>1.027146</td>\n",
       "      <td>0.571429</td>\n",
       "      <td>1.142857</td>\n",
       "      <td>0.928571</td>\n",
       "      <td>14</td>\n",
       "      <td>14</td>\n",
       "      <td>-0.139457</td>\n",
       "      <td>0.466883</td>\n",
       "      <td>0.611711</td>\n",
       "      <td>24.08</td>\n",
       "      <td>0.290593</td>\n",
       "      <td>0.566923</td>\n",
       "      <td>1.164625</td>\n",
       "      <td>0.011212</td>\n",
       "    </tr>\n",
       "    <tr>\n",
       "      <th>3752</th>\n",
       "      <td>mUkidFhH</td>\n",
       "      <td>0.5</td>\n",
       "      <td>1.146198</td>\n",
       "      <td>1.139185</td>\n",
       "      <td>0.500000</td>\n",
       "      <td>1.000000</td>\n",
       "      <td>0.928571</td>\n",
       "      <td>14</td>\n",
       "      <td>14</td>\n",
       "      <td>0.094537</td>\n",
       "      <td>0.625529</td>\n",
       "      <td>0.524474</td>\n",
       "      <td>23.10</td>\n",
       "      <td>0.283844</td>\n",
       "      <td>0.409012</td>\n",
       "      <td>0.931880</td>\n",
       "      <td>0.069190</td>\n",
       "    </tr>\n",
       "  </tbody>\n",
       "</table>\n",
       "</div>"
      ],
      "text/plain": [
       "        sim_id  p_SES_high   epsilon       rho   H_Share  Exposure  \\\n",
       "3938  PioXsrhM         0.5  1.146198  1.018463  0.615385  1.230769   \n",
       "4861  UgeUzwMb         0.5  1.168129  0.950575  0.230769  0.461538   \n",
       "3201  kqlPdREJ         0.5  1.108535  1.041340  0.357143  0.714286   \n",
       "537   nHajByjJ         0.5  0.717291  1.027146  0.571429  1.142857   \n",
       "3752  mUkidFhH         0.5  1.146198  1.139185  0.500000  1.000000   \n",
       "\n",
       "      Friend_Bias  N_exposure  Degree  Network_SES_assortativity  \\\n",
       "3938     0.923077          14      13                   0.024510   \n",
       "4861     0.923077          14      13                   0.064136   \n",
       "3201     0.928571          14      14                   0.067729   \n",
       "537      0.928571          14      14                  -0.139457   \n",
       "3752     0.928571          14      14                   0.094537   \n",
       "\n",
       "      Network_H_Share_H  Network_H_Share_L  Network_Degree  \\\n",
       "3938           0.434923           0.409328           24.16   \n",
       "4861           0.525026           0.459174           24.42   \n",
       "3201           0.510370           0.441027           23.92   \n",
       "537            0.466883           0.611711           24.08   \n",
       "3752           0.625529           0.524474           23.10   \n",
       "\n",
       "      Network_Clustering  Predicted_H_Share  Predicted_Exposure  \\\n",
       "3938            0.295267           0.457494            0.931880   \n",
       "4861            0.292484           0.485209            0.922454   \n",
       "3201            0.292147           0.455435            0.948526   \n",
       "537             0.290593           0.566923            1.164625   \n",
       "3752            0.283844           0.409012            0.931880   \n",
       "\n",
       "      Predicted_Friend_Bias  \n",
       "3938               0.009764  \n",
       "4861              -0.027357  \n",
       "3201               0.021272  \n",
       "537                0.011212  \n",
       "3752               0.069190  "
      ]
     },
     "execution_count": 2,
     "metadata": {},
     "output_type": "execute_result"
    }
   ],
   "source": [
    "\n",
    "list_eps_values_random = np.random.normal(loc=1.1, scale=0.3, size=[10])\n",
    "list_rho_values_random = np.random.normal(loc=1.1, scale=0.1, size=[10])\n",
    "\n",
    "num_sim_per_param = 1 # number of simulations with given parameter set\n",
    "num_MTO_per_sim = 50 # number of simulations on each network\n",
    "\n",
    "df_rho_eps = MTO_simulator(list_eps_values=list_eps_values_random, list_rho_values=list_rho_values_random, num_MTO_per_sim=num_MTO_per_sim, num_sim_per_param=num_sim_per_param)\n",
    "df_rho_eps.sample(5)\n"
   ]
  },
  {
   "cell_type": "markdown",
   "metadata": {},
   "source": [
    "### Descriptive statistics"
   ]
  },
  {
   "cell_type": "markdown",
   "metadata": {},
   "source": [
    "How does the variance change with rho and epsilon?\n",
    "\n",
    "Would appear that variance in Exposure and Friend bias increases some, as does degree. Vriance in H_Share might be going down(although need to test thsi)\n",
    "\n",
    "I can run regressions on thisssss"
   ]
  },
  {
   "cell_type": "markdown",
   "metadata": {},
   "source": [
    "### Regressions"
   ]
  },
  {
   "cell_type": "code",
   "execution_count": 3,
   "metadata": {},
   "outputs": [
    {
     "data": {
      "text/html": [
       "<div>\n",
       "<style scoped>\n",
       "    .dataframe tbody tr th:only-of-type {\n",
       "        vertical-align: middle;\n",
       "    }\n",
       "\n",
       "    .dataframe tbody tr th {\n",
       "        vertical-align: top;\n",
       "    }\n",
       "\n",
       "    .dataframe thead th {\n",
       "        text-align: right;\n",
       "    }\n",
       "</style>\n",
       "<table border=\"1\" class=\"dataframe\">\n",
       "  <thead>\n",
       "    <tr style=\"text-align: right;\">\n",
       "      <th></th>\n",
       "      <th></th>\n",
       "      <th>p_SES_high</th>\n",
       "      <th>H_Share</th>\n",
       "      <th>Exposure</th>\n",
       "      <th>Friend_Bias</th>\n",
       "      <th>N_exposure</th>\n",
       "      <th>Degree</th>\n",
       "      <th>Network_SES_assortativity</th>\n",
       "      <th>Network_H_Share_H</th>\n",
       "      <th>Network_H_Share_L</th>\n",
       "      <th>Network_Degree</th>\n",
       "      <th>Network_Clustering</th>\n",
       "      <th>Predicted_H_Share</th>\n",
       "      <th>Predicted_Exposure</th>\n",
       "      <th>Predicted_Friend_Bias</th>\n",
       "    </tr>\n",
       "    <tr>\n",
       "      <th>epsilon</th>\n",
       "      <th>rho</th>\n",
       "      <th></th>\n",
       "      <th></th>\n",
       "      <th></th>\n",
       "      <th></th>\n",
       "      <th></th>\n",
       "      <th></th>\n",
       "      <th></th>\n",
       "      <th></th>\n",
       "      <th></th>\n",
       "      <th></th>\n",
       "      <th></th>\n",
       "      <th></th>\n",
       "      <th></th>\n",
       "      <th></th>\n",
       "    </tr>\n",
       "  </thead>\n",
       "  <tbody>\n",
       "    <tr>\n",
       "      <th rowspan=\"5\" valign=\"top\">0.585438</th>\n",
       "      <th>0.950575</th>\n",
       "      <td>0.0</td>\n",
       "      <td>0.009206</td>\n",
       "      <td>0.036823</td>\n",
       "      <td>0.000011</td>\n",
       "      <td>0.0</td>\n",
       "      <td>0.336327</td>\n",
       "      <td>0.0</td>\n",
       "      <td>0.0</td>\n",
       "      <td>0.0</td>\n",
       "      <td>0.0</td>\n",
       "      <td>0.0</td>\n",
       "      <td>0.0</td>\n",
       "      <td>0.0</td>\n",
       "      <td>0.0</td>\n",
       "    </tr>\n",
       "    <tr>\n",
       "      <th>0.979175</th>\n",
       "      <td>0.0</td>\n",
       "      <td>0.017794</td>\n",
       "      <td>0.071175</td>\n",
       "      <td>0.000023</td>\n",
       "      <td>0.0</td>\n",
       "      <td>0.630204</td>\n",
       "      <td>0.0</td>\n",
       "      <td>0.0</td>\n",
       "      <td>0.0</td>\n",
       "      <td>0.0</td>\n",
       "      <td>0.0</td>\n",
       "      <td>0.0</td>\n",
       "      <td>0.0</td>\n",
       "      <td>0.0</td>\n",
       "    </tr>\n",
       "    <tr>\n",
       "      <th>1.018463</th>\n",
       "      <td>0.0</td>\n",
       "      <td>0.016220</td>\n",
       "      <td>0.064143</td>\n",
       "      <td>0.000014</td>\n",
       "      <td>0.0</td>\n",
       "      <td>0.455510</td>\n",
       "      <td>0.0</td>\n",
       "      <td>0.0</td>\n",
       "      <td>0.0</td>\n",
       "      <td>0.0</td>\n",
       "      <td>0.0</td>\n",
       "      <td>0.0</td>\n",
       "      <td>0.0</td>\n",
       "      <td>0.0</td>\n",
       "    </tr>\n",
       "    <tr>\n",
       "      <th>1.027146</th>\n",
       "      <td>0.0</td>\n",
       "      <td>0.012896</td>\n",
       "      <td>0.053308</td>\n",
       "      <td>0.000016</td>\n",
       "      <td>0.0</td>\n",
       "      <td>0.622449</td>\n",
       "      <td>0.0</td>\n",
       "      <td>0.0</td>\n",
       "      <td>0.0</td>\n",
       "      <td>0.0</td>\n",
       "      <td>0.0</td>\n",
       "      <td>0.0</td>\n",
       "      <td>0.0</td>\n",
       "      <td>0.0</td>\n",
       "    </tr>\n",
       "    <tr>\n",
       "      <th>1.041340</th>\n",
       "      <td>0.0</td>\n",
       "      <td>0.014763</td>\n",
       "      <td>0.054338</td>\n",
       "      <td>0.000026</td>\n",
       "      <td>0.0</td>\n",
       "      <td>0.654694</td>\n",
       "      <td>0.0</td>\n",
       "      <td>0.0</td>\n",
       "      <td>0.0</td>\n",
       "      <td>0.0</td>\n",
       "      <td>0.0</td>\n",
       "      <td>0.0</td>\n",
       "      <td>0.0</td>\n",
       "      <td>0.0</td>\n",
       "    </tr>\n",
       "    <tr>\n",
       "      <th>...</th>\n",
       "      <th>...</th>\n",
       "      <td>...</td>\n",
       "      <td>...</td>\n",
       "      <td>...</td>\n",
       "      <td>...</td>\n",
       "      <td>...</td>\n",
       "      <td>...</td>\n",
       "      <td>...</td>\n",
       "      <td>...</td>\n",
       "      <td>...</td>\n",
       "      <td>...</td>\n",
       "      <td>...</td>\n",
       "      <td>...</td>\n",
       "      <td>...</td>\n",
       "      <td>...</td>\n",
       "    </tr>\n",
       "    <tr>\n",
       "      <th rowspan=\"5\" valign=\"top\">1.445301</th>\n",
       "      <th>1.098516</th>\n",
       "      <td>0.0</td>\n",
       "      <td>0.013270</td>\n",
       "      <td>0.056260</td>\n",
       "      <td>0.000046</td>\n",
       "      <td>0.0</td>\n",
       "      <td>0.762857</td>\n",
       "      <td>0.0</td>\n",
       "      <td>0.0</td>\n",
       "      <td>0.0</td>\n",
       "      <td>0.0</td>\n",
       "      <td>0.0</td>\n",
       "      <td>0.0</td>\n",
       "      <td>0.0</td>\n",
       "      <td>0.0</td>\n",
       "    </tr>\n",
       "    <tr>\n",
       "      <th>1.101921</th>\n",
       "      <td>0.0</td>\n",
       "      <td>0.013851</td>\n",
       "      <td>0.062114</td>\n",
       "      <td>0.000038</td>\n",
       "      <td>0.0</td>\n",
       "      <td>0.803673</td>\n",
       "      <td>0.0</td>\n",
       "      <td>0.0</td>\n",
       "      <td>0.0</td>\n",
       "      <td>0.0</td>\n",
       "      <td>0.0</td>\n",
       "      <td>0.0</td>\n",
       "      <td>0.0</td>\n",
       "      <td>0.0</td>\n",
       "    </tr>\n",
       "    <tr>\n",
       "      <th>1.139185</th>\n",
       "      <td>0.0</td>\n",
       "      <td>0.021214</td>\n",
       "      <td>0.079809</td>\n",
       "      <td>0.000050</td>\n",
       "      <td>0.0</td>\n",
       "      <td>0.640408</td>\n",
       "      <td>0.0</td>\n",
       "      <td>0.0</td>\n",
       "      <td>0.0</td>\n",
       "      <td>0.0</td>\n",
       "      <td>0.0</td>\n",
       "      <td>0.0</td>\n",
       "      <td>0.0</td>\n",
       "      <td>0.0</td>\n",
       "    </tr>\n",
       "    <tr>\n",
       "      <th>1.143984</th>\n",
       "      <td>0.0</td>\n",
       "      <td>0.013919</td>\n",
       "      <td>0.060916</td>\n",
       "      <td>0.000048</td>\n",
       "      <td>0.0</td>\n",
       "      <td>1.112245</td>\n",
       "      <td>0.0</td>\n",
       "      <td>0.0</td>\n",
       "      <td>0.0</td>\n",
       "      <td>0.0</td>\n",
       "      <td>0.0</td>\n",
       "      <td>0.0</td>\n",
       "      <td>0.0</td>\n",
       "      <td>0.0</td>\n",
       "    </tr>\n",
       "    <tr>\n",
       "      <th>1.156695</th>\n",
       "      <td>0.0</td>\n",
       "      <td>0.021858</td>\n",
       "      <td>0.090642</td>\n",
       "      <td>0.000064</td>\n",
       "      <td>0.0</td>\n",
       "      <td>0.877143</td>\n",
       "      <td>0.0</td>\n",
       "      <td>0.0</td>\n",
       "      <td>0.0</td>\n",
       "      <td>0.0</td>\n",
       "      <td>0.0</td>\n",
       "      <td>0.0</td>\n",
       "      <td>0.0</td>\n",
       "      <td>0.0</td>\n",
       "    </tr>\n",
       "  </tbody>\n",
       "</table>\n",
       "<p>100 rows × 14 columns</p>\n",
       "</div>"
      ],
      "text/plain": [
       "                   p_SES_high   H_Share  Exposure  Friend_Bias  N_exposure  \\\n",
       "epsilon  rho                                                                 \n",
       "0.585438 0.950575         0.0  0.009206  0.036823     0.000011         0.0   \n",
       "         0.979175         0.0  0.017794  0.071175     0.000023         0.0   \n",
       "         1.018463         0.0  0.016220  0.064143     0.000014         0.0   \n",
       "         1.027146         0.0  0.012896  0.053308     0.000016         0.0   \n",
       "         1.041340         0.0  0.014763  0.054338     0.000026         0.0   \n",
       "...                       ...       ...       ...          ...         ...   \n",
       "1.445301 1.098516         0.0  0.013270  0.056260     0.000046         0.0   \n",
       "         1.101921         0.0  0.013851  0.062114     0.000038         0.0   \n",
       "         1.139185         0.0  0.021214  0.079809     0.000050         0.0   \n",
       "         1.143984         0.0  0.013919  0.060916     0.000048         0.0   \n",
       "         1.156695         0.0  0.021858  0.090642     0.000064         0.0   \n",
       "\n",
       "                     Degree  Network_SES_assortativity  Network_H_Share_H  \\\n",
       "epsilon  rho                                                                \n",
       "0.585438 0.950575  0.336327                        0.0                0.0   \n",
       "         0.979175  0.630204                        0.0                0.0   \n",
       "         1.018463  0.455510                        0.0                0.0   \n",
       "         1.027146  0.622449                        0.0                0.0   \n",
       "         1.041340  0.654694                        0.0                0.0   \n",
       "...                     ...                        ...                ...   \n",
       "1.445301 1.098516  0.762857                        0.0                0.0   \n",
       "         1.101921  0.803673                        0.0                0.0   \n",
       "         1.139185  0.640408                        0.0                0.0   \n",
       "         1.143984  1.112245                        0.0                0.0   \n",
       "         1.156695  0.877143                        0.0                0.0   \n",
       "\n",
       "                   Network_H_Share_L  Network_Degree  Network_Clustering  \\\n",
       "epsilon  rho                                                               \n",
       "0.585438 0.950575                0.0             0.0                 0.0   \n",
       "         0.979175                0.0             0.0                 0.0   \n",
       "         1.018463                0.0             0.0                 0.0   \n",
       "         1.027146                0.0             0.0                 0.0   \n",
       "         1.041340                0.0             0.0                 0.0   \n",
       "...                              ...             ...                 ...   \n",
       "1.445301 1.098516                0.0             0.0                 0.0   \n",
       "         1.101921                0.0             0.0                 0.0   \n",
       "         1.139185                0.0             0.0                 0.0   \n",
       "         1.143984                0.0             0.0                 0.0   \n",
       "         1.156695                0.0             0.0                 0.0   \n",
       "\n",
       "                   Predicted_H_Share  Predicted_Exposure  \\\n",
       "epsilon  rho                                               \n",
       "0.585438 0.950575                0.0                 0.0   \n",
       "         0.979175                0.0                 0.0   \n",
       "         1.018463                0.0                 0.0   \n",
       "         1.027146                0.0                 0.0   \n",
       "         1.041340                0.0                 0.0   \n",
       "...                              ...                 ...   \n",
       "1.445301 1.098516                0.0                 0.0   \n",
       "         1.101921                0.0                 0.0   \n",
       "         1.139185                0.0                 0.0   \n",
       "         1.143984                0.0                 0.0   \n",
       "         1.156695                0.0                 0.0   \n",
       "\n",
       "                   Predicted_Friend_Bias  \n",
       "epsilon  rho                              \n",
       "0.585438 0.950575                    0.0  \n",
       "         0.979175                    0.0  \n",
       "         1.018463                    0.0  \n",
       "         1.027146                    0.0  \n",
       "         1.041340                    0.0  \n",
       "...                                  ...  \n",
       "1.445301 1.098516                    0.0  \n",
       "         1.101921                    0.0  \n",
       "         1.139185                    0.0  \n",
       "         1.143984                    0.0  \n",
       "         1.156695                    0.0  \n",
       "\n",
       "[100 rows x 14 columns]"
      ]
     },
     "execution_count": 3,
     "metadata": {},
     "output_type": "execute_result"
    }
   ],
   "source": [
    "\n",
    "df_rho_eps.groupby(['epsilon', 'rho']).var()\n",
    "#df_test = df_results[['Predicted_H_Share', 'H_Share', 'Predicted_Exposure', 'Exposure', 'Predicted_Friend_Bias', 'Friend_Bias', 'Degree', 'N_exposure']].describe()\n",
    "\n"
   ]
  },
  {
   "cell_type": "code",
   "execution_count": 4,
   "metadata": {},
   "outputs": [
    {
     "name": "stdout",
     "output_type": "stream",
     "text": [
      "Intercept    0.777015\n",
      "epsilon     -0.220436\n",
      "rho         -0.059284\n",
      "dtype: float64\n",
      "                            OLS Regression Results                            \n",
      "==============================================================================\n",
      "Dep. Variable:                H_Share   R-squared:                       0.172\n",
      "Model:                            OLS   Adj. R-squared:                  0.171\n",
      "Method:                 Least Squares   F-statistic:                     517.2\n",
      "Date:                Mon, 01 May 2023   Prob (F-statistic):          7.02e-205\n",
      "Time:                        11:45:45   Log-Likelihood:                 2855.5\n",
      "No. Observations:                5000   AIC:                            -5705.\n",
      "Df Residuals:                    4997   BIC:                            -5685.\n",
      "Df Model:                           2                                         \n",
      "Covariance Type:            nonrobust                                         \n",
      "==============================================================================\n",
      "                 coef    std err          t      P>|t|      [0.025      0.975]\n",
      "------------------------------------------------------------------------------\n",
      "Intercept      0.7770      0.031     25.141      0.000       0.716       0.838\n",
      "epsilon       -0.2204      0.007    -32.093      0.000      -0.234      -0.207\n",
      "rho           -0.0593      0.028     -2.107      0.035      -0.114      -0.004\n",
      "==============================================================================\n",
      "Omnibus:                        4.316   Durbin-Watson:                   1.778\n",
      "Prob(Omnibus):                  0.116   Jarque-Bera (JB):                4.316\n",
      "Skew:                           0.060   Prob(JB):                        0.116\n",
      "Kurtosis:                       2.920   Cond. No.                         38.9\n",
      "==============================================================================\n",
      "\n",
      "Notes:\n",
      "[1] Standard Errors assume that the covariance matrix of the errors is correctly specified.\n"
     ]
    }
   ],
   "source": [
    "\n",
    "result = sm.ols(formula=\"H_Share ~ epsilon + rho\", data=df_rho_eps).fit()\n",
    "print(result.params)\n",
    "print(result.summary())\n"
   ]
  },
  {
   "cell_type": "markdown",
   "metadata": {},
   "source": [
    "### Predicted versus realised"
   ]
  },
  {
   "cell_type": "code",
   "execution_count": 5,
   "metadata": {},
   "outputs": [
    {
     "name": "stdout",
     "output_type": "stream",
     "text": [
      "Intercept            0.108410\n",
      "Predicted_H_Share    0.797058\n",
      "dtype: float64\n",
      "                            OLS Regression Results                            \n",
      "==============================================================================\n",
      "Dep. Variable:                H_Share   R-squared:                       0.154\n",
      "Model:                            OLS   Adj. R-squared:                  0.154\n",
      "Method:                 Least Squares   F-statistic:                     912.2\n",
      "Date:                Mon, 01 May 2023   Prob (F-statistic):          3.23e-184\n",
      "Time:                        11:45:57   Log-Likelihood:                 2804.2\n",
      "No. Observations:                5000   AIC:                            -5604.\n",
      "Df Residuals:                    4998   BIC:                            -5591.\n",
      "Df Model:                           1                                         \n",
      "Covariance Type:            nonrobust                                         \n",
      "=====================================================================================\n",
      "                        coef    std err          t      P>|t|      [0.025      0.975]\n",
      "-------------------------------------------------------------------------------------\n",
      "Intercept             0.1084      0.012      8.684      0.000       0.084       0.133\n",
      "Predicted_H_Share     0.7971      0.026     30.203      0.000       0.745       0.849\n",
      "==============================================================================\n",
      "Omnibus:                       10.068   Durbin-Watson:                   1.744\n",
      "Prob(Omnibus):                  0.007   Jarque-Bera (JB):               10.022\n",
      "Skew:                           0.099   Prob(JB):                      0.00666\n",
      "Kurtosis:                       2.904   Cond. No.                         16.5\n",
      "==============================================================================\n",
      "\n",
      "Notes:\n",
      "[1] Standard Errors assume that the covariance matrix of the errors is correctly specified.\n"
     ]
    }
   ],
   "source": [
    "\n",
    "result = sm.ols(formula=\"H_Share ~ Predicted_H_Share\", data=df_rho_eps).fit()\n",
    "print(result.params)\n",
    "print(result.summary())\n",
    "\n",
    "#px.scatter(df_rho_eps, x='Predicted_Friend_Bias', y='Friend_Bias', height=400, width=400)\n"
   ]
  },
  {
   "cell_type": "code",
   "execution_count": 5,
   "metadata": {},
   "outputs": [
    {
     "name": "stdout",
     "output_type": "stream",
     "text": [
      "Intercept             0.249063\n",
      "Predicted_Exposure    0.749443\n",
      "dtype: float64\n",
      "                            OLS Regression Results                            \n",
      "==============================================================================\n",
      "Dep. Variable:               Exposure   R-squared:                       0.094\n",
      "Model:                            OLS   Adj. R-squared:                  0.094\n",
      "Method:                 Least Squares   F-statistic:                     1302.\n",
      "Date:                Sat, 29 Apr 2023   Prob (F-statistic):          2.41e-271\n",
      "Time:                        20:17:36   Log-Likelihood:                -1407.3\n",
      "No. Observations:               12500   AIC:                             2819.\n",
      "Df Residuals:                   12498   BIC:                             2834.\n",
      "Df Model:                           1                                         \n",
      "Covariance Type:            nonrobust                                         \n",
      "======================================================================================\n",
      "                         coef    std err          t      P>|t|      [0.025      0.975]\n",
      "--------------------------------------------------------------------------------------\n",
      "Intercept              0.2491      0.019     13.052      0.000       0.212       0.286\n",
      "Predicted_Exposure     0.7494      0.021     36.086      0.000       0.709       0.790\n",
      "==============================================================================\n",
      "Omnibus:                        9.189   Durbin-Watson:                   1.762\n",
      "Prob(Omnibus):                  0.010   Jarque-Bera (JB):                8.770\n",
      "Skew:                           0.041   Prob(JB):                       0.0125\n",
      "Kurtosis:                       2.900   Cond. No.                         15.7\n",
      "==============================================================================\n",
      "\n",
      "Notes:\n",
      "[1] Standard Errors assume that the covariance matrix of the errors is correctly specified.\n"
     ]
    }
   ],
   "source": [
    "\n",
    "result = sm.ols(formula=\"Exposure ~ Predicted_Exposure\", data=df_rho_eps).fit()\n",
    "print(result.params)\n",
    "print(result.summary())\n",
    "\n",
    "#px.scatter(df_rho_eps, x='Predicted_Friend_Bias', y='Friend_Bias', height=400, width=400)\n"
   ]
  },
  {
   "cell_type": "code",
   "execution_count": 6,
   "metadata": {},
   "outputs": [
    {
     "name": "stdout",
     "output_type": "stream",
     "text": [
      "Intercept                0.925382\n",
      "Predicted_Friend_Bias    0.089281\n",
      "dtype: float64\n",
      "                            OLS Regression Results                            \n",
      "==============================================================================\n",
      "Dep. Variable:            Friend_Bias   R-squared:                       0.026\n",
      "Model:                            OLS   Adj. R-squared:                  0.026\n",
      "Method:                 Least Squares   F-statistic:                     339.3\n",
      "Date:                Sat, 29 Apr 2023   Prob (F-statistic):           8.68e-75\n",
      "Time:                        20:17:40   Log-Likelihood:                 31285.\n",
      "No. Observations:               12500   AIC:                        -6.257e+04\n",
      "Df Residuals:                   12498   BIC:                        -6.255e+04\n",
      "Df Model:                           1                                         \n",
      "Covariance Type:            nonrobust                                         \n",
      "=========================================================================================\n",
      "                            coef    std err          t      P>|t|      [0.025      0.975]\n",
      "-----------------------------------------------------------------------------------------\n",
      "Intercept                 0.9254      0.000   3199.057      0.000       0.925       0.926\n",
      "Predicted_Friend_Bias     0.0893      0.005     18.421      0.000       0.080       0.099\n",
      "==============================================================================\n",
      "Omnibus:                    36596.017   Durbin-Watson:                   1.976\n",
      "Prob(Omnibus):                  0.000   Jarque-Bera (JB):       1938568057.653\n",
      "Skew:                         -41.125   Prob(JB):                         0.00\n",
      "Kurtosis:                    1930.508   Cond. No.                         27.4\n",
      "==============================================================================\n",
      "\n",
      "Notes:\n",
      "[1] Standard Errors assume that the covariance matrix of the errors is correctly specified.\n"
     ]
    }
   ],
   "source": [
    "\n",
    "result = sm.ols(formula=\"Friend_Bias ~ Predicted_Friend_Bias\", data=df_rho_eps).fit()\n",
    "print(result.params)\n",
    "print(result.summary())\n",
    "\n",
    "#px.scatter(df_rho_eps, x='Predicted_Friend_Bias', y='Friend_Bias', height=400, width=400)\n"
   ]
  },
  {
   "attachments": {},
   "cell_type": "markdown",
   "metadata": {},
   "source": [
    "### Sample rho and epsilon from the distribution, run MTO 100 times per simulation, and vary w_H: this shouild hopefully show how important it is to consider friendingf bias "
   ]
  }
 ],
 "metadata": {
  "kernelspec": {
   "display_name": "Python 3",
   "language": "python",
   "name": "python3"
  },
  "language_info": {
   "codemirror_mode": {
    "name": "ipython",
    "version": 3
   },
   "file_extension": ".py",
   "mimetype": "text/x-python",
   "name": "python",
   "nbconvert_exporter": "python",
   "pygments_lexer": "ipython3",
   "version": "3.10.6"
  },
  "orig_nbformat": 4,
  "vscode": {
   "interpreter": {
    "hash": "289e6dbf0cbe13abb58a8c6441fb07dbab3e022f897dda6d31a08b19d28acfde"
   }
  }
 },
 "nbformat": 4,
 "nbformat_minor": 2
}
