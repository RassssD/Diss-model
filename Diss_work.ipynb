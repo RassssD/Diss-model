{
 "cells": [
  {
   "attachments": {},
   "cell_type": "markdown",
   "metadata": {},
   "source": [
    "### Imports"
   ]
  },
  {
   "cell_type": "code",
   "execution_count": 1,
   "metadata": {},
   "outputs": [],
   "source": [
    "\n",
    "import networkx as nx\n",
    "import numpy as np\n",
    "import random, math\n",
    "import graphviz\n",
    "import functools, collections, operator\n",
    "import seaborn as sns\n",
    "\n",
    "from scipy.stats import shapiro\n",
    "import scipy.stats as scs\n",
    "from scipy.stats import describe\n",
    "\n",
    "import plotly.figure_factory as ff\n",
    "\n",
    "from scipy.stats import norm\n",
    "import scipy.stats as stats\n",
    "from scipy.stats import pearsonr\n",
    "\n",
    "import os\n",
    "import time\n",
    "\n",
    "import pylab\n",
    "\n",
    "from statsmodels.graphics.gofplots import qqplot\n",
    "\n",
    "#import kaleido\n",
    "\n",
    "import pandas as pd\n",
    "\n",
    "\n",
    "import matplotlib.pyplot as plt\n",
    "import matplotlib.colors as mcolors\n",
    "import matplotlib.cm as cm\n",
    "\n",
    "import plotly.graph_objects as go\n",
    "from pyvis.network import Network\n",
    "from networkx.drawing.nx_agraph import graphviz_layout\n",
    "import plotly.express as px\n",
    "from plotly._subplots import make_subplots\n",
    "import plotly\n",
    "\n",
    "import statsmodels.formula.api as sm\n",
    "\n",
    "from stargazer.stargazer import Stargazer\n",
    "\n",
    "\n",
    "# import models\n",
    "from classes.jackson_model import JacksonSimulationV2\n",
    "from classes.network_drawing import plotly_sim_drawing\n",
    "from classes.plotly_drawings import plotly_lines\n",
    "\n",
    "\n",
    "def MTO_simulator(initial_n=0, T=100, m=10, pm_o=1, n=10, pn_o=1, p_SES_high=0.5, list_rho_values=[1], list_eps_values=[1], num_sim_per_param=1, num_MTO_per_sim=10):\n",
    "\n",
    "    total_sims = 0\n",
    "    list_sim_stats = []\n",
    "    n_sims = len(list_eps_values) * len(list_rho_values) * num_sim_per_param * num_MTO_per_sim\n",
    "    t0 = time.time()\n",
    "\n",
    "    print(f'Running {n_sims} simulations over {len(list_eps_values) * len(list_rho_values)} parameter combinations')\n",
    "\n",
    "    # iterate over eps values\n",
    "    for i in range(len(list_eps_values)):\n",
    "\n",
    "        # iterate over rho values\n",
    "        for j in range(len(list_rho_values)):\n",
    "\n",
    "            # create a network and run MTO sims\n",
    "            for k in range(num_sim_per_param):\n",
    "                # create network\n",
    "                network_sim = JacksonSimulationV2(initial_n, T, m, pm_o, n, pn_o, p_SES_high, biased=True, epsilon = list_eps_values[i], rho=list_rho_values[j])\n",
    "\n",
    "                # run MTO simulations\n",
    "                df_MTO_sim = network_sim.MTO_sim_many(network_sim.graph_history[-1], n_sims=num_MTO_per_sim)\n",
    "\n",
    "\n",
    "                # calculate network-wide characteristics\n",
    "                SES_assortativity = nx.assortativity.attribute_assortativity_coefficient(network_sim.graph_history[-1], 'SES_High')\n",
    "                H_Share_H, H_Share_L = network_sim.helper_functions().average_neighbour_type_per_SES(network_sim.graph_history[-1])\n",
    "                Network_Degree = sum(dict(network_sim.graph_history[-1].degree()).values()) / len(network_sim.graph_history[-1])\n",
    "                Network_Clustering = nx.average_clustering(network_sim.graph_history[-1])\n",
    "\n",
    "                list_network_chars = [SES_assortativity, H_Share_H, H_Share_L, Network_Degree, Network_Clustering]\n",
    "                list_network_char_names = ['Network_SES_assortativity', 'Network_H_Share_H', 'Network_H_Share_L', 'Network_Degree', 'Network_Clustering']\n",
    "\n",
    "                # add the values to the df\n",
    "                for n in range(len(list_network_chars)):\n",
    "                    df_MTO_sim[list_network_char_names[n]] = list_network_chars[n]\n",
    "\n",
    "                # append to list\n",
    "                list_sim_stats.append(df_MTO_sim)\n",
    "                print('\\r', f'Finished simulation {k}/{num_sim_per_param} for combination {total_sims}/{len(list_eps_values)*len(list_rho_values)}', end='')\n",
    "        \n",
    "            total_sims += 1\n",
    "\n",
    "    delta_t = round((time.time()-t0)/60, 2)\n",
    "\n",
    "    print('\\r', f'Finished {n_sims} simulations in {delta_t} minutes, average time: {delta_t/n_sims} min/sim', end='')\n",
    "    df_MTO_output = pd.concat(list_sim_stats).reset_index(drop=True)\n",
    "\n",
    "    # add predicted values\n",
    "    df_MTO_output['Predicted_H_Share'] = 1/((1+df_MTO_output['epsilon'])*(df_MTO_output['rho']))\n",
    "    df_MTO_output['Predicted_Exposure'] = 1/(df_MTO_output['p_SES_high']*(1+df_MTO_output['epsilon']))\n",
    "    df_MTO_output['Predicted_Friend_Bias'] = (df_MTO_output['epsilon']*(df_MTO_output['rho']-1))/(df_MTO_output['epsilon']*df_MTO_output['rho']+1)\n",
    "\n",
    "\n",
    "    return df_MTO_output\n"
   ]
  },
  {
   "attachments": {},
   "cell_type": "markdown",
   "metadata": {},
   "source": [
    "### Showcases"
   ]
  },
  {
   "cell_type": "code",
   "execution_count": 12,
   "metadata": {},
   "outputs": [],
   "source": [
    "\n",
    "# showcases\n",
    "showcase_sim_no_bias = JacksonSimulationV2(0, 100, 10, 1, 10, 1, 0.5, biased=False, rho=1, epsilon=1)\n",
    "showcase_sim_expo = JacksonSimulationV2(0, 100, 10, 1, 10, 1, 0.5, biased=True, rho=1, epsilon=1.75)\n",
    "showcase_sim_fb = JacksonSimulationV2(0, 100, 10, 1, 10, 1, 0.5, biased=True, rho=1.75, epsilon=1)\n",
    "showcase_sim_expo_fb = JacksonSimulationV2(0, 100, 10, 1, 10, 1, 0.5, biased=True, rho=1.5, epsilon=1.5)\n",
    "\n",
    "showcase_sims = [showcase_sim_no_bias, showcase_sim_expo, showcase_sim_fb, showcase_sim_expo_fb]\n",
    "\n",
    "showcase_plots = [plotly_sim_drawing.plotly_draw(plotly_sim_drawing(), showcase_sim, layout='spring', draw_largest_CC=True, title=None) for showcase_sim in showcase_sims]\n",
    "\n",
    "\n",
    "\n"
   ]
  },
  {
   "attachments": {},
   "cell_type": "markdown",
   "metadata": {},
   "source": [
    "### Rho and Epsilon distributions"
   ]
  },
  {
   "cell_type": "code",
   "execution_count": 29,
   "metadata": {},
   "outputs": [
    {
     "name": "stdout",
     "output_type": "stream",
     "text": [
      "PearsonRResult(statistic=0.3270609836794669, pvalue=3.5985301884551014e-150)\n"
     ]
    },
    {
     "data": {
      "text/html": [
       "<div>\n",
       "<style scoped>\n",
       "    .dataframe tbody tr th:only-of-type {\n",
       "        vertical-align: middle;\n",
       "    }\n",
       "\n",
       "    .dataframe tbody tr th {\n",
       "        vertical-align: top;\n",
       "    }\n",
       "\n",
       "    .dataframe thead th {\n",
       "        text-align: right;\n",
       "    }\n",
       "</style>\n",
       "<table border=\"1\" class=\"dataframe\">\n",
       "  <thead>\n",
       "    <tr style=\"text-align: right;\">\n",
       "      <th></th>\n",
       "      <th>county</th>\n",
       "      <th>exposure_grp_mem_county</th>\n",
       "      <th>exposure_grp_mem_high_county</th>\n",
       "      <th>bias_grp_mem_county</th>\n",
       "      <th>bias_grp_mem_high_county</th>\n",
       "      <th>Epsilon</th>\n",
       "      <th>EpsilonHigh</th>\n",
       "      <th>Rho</th>\n",
       "      <th>RhoHigh</th>\n",
       "    </tr>\n",
       "  </thead>\n",
       "  <tbody>\n",
       "    <tr>\n",
       "      <th>count</th>\n",
       "      <td>3012.000000</td>\n",
       "      <td>3012.000000</td>\n",
       "      <td>3012.000000</td>\n",
       "      <td>3012.000000</td>\n",
       "      <td>3012.000000</td>\n",
       "      <td>3012.000000</td>\n",
       "      <td>3012.000000</td>\n",
       "      <td>3012.000000</td>\n",
       "      <td>3012.000000</td>\n",
       "    </tr>\n",
       "    <tr>\n",
       "      <th>mean</th>\n",
       "      <td>30206.501328</td>\n",
       "      <td>0.906089</td>\n",
       "      <td>1.078581</td>\n",
       "      <td>0.064161</td>\n",
       "      <td>-0.187968</td>\n",
       "      <td>1.354583</td>\n",
       "      <td>0.932459</td>\n",
       "      <td>1.131563</td>\n",
       "      <td>0.661774</td>\n",
       "    </tr>\n",
       "    <tr>\n",
       "      <th>std</th>\n",
       "      <td>15139.364060</td>\n",
       "      <td>0.211814</td>\n",
       "      <td>0.209551</td>\n",
       "      <td>0.050633</td>\n",
       "      <td>0.064644</td>\n",
       "      <td>0.675489</td>\n",
       "      <td>0.416315</td>\n",
       "      <td>0.113567</td>\n",
       "      <td>0.052487</td>\n",
       "    </tr>\n",
       "    <tr>\n",
       "      <th>min</th>\n",
       "      <td>1001.000000</td>\n",
       "      <td>0.255200</td>\n",
       "      <td>0.510130</td>\n",
       "      <td>-0.108090</td>\n",
       "      <td>-0.536180</td>\n",
       "      <td>0.345641</td>\n",
       "      <td>0.200365</td>\n",
       "      <td>0.796738</td>\n",
       "      <td>0.499872</td>\n",
       "    </tr>\n",
       "    <tr>\n",
       "      <th>25%</th>\n",
       "      <td>18166.500000</td>\n",
       "      <td>0.765533</td>\n",
       "      <td>0.931867</td>\n",
       "      <td>0.030808</td>\n",
       "      <td>-0.221698</td>\n",
       "      <td>0.899858</td>\n",
       "      <td>0.629484</td>\n",
       "      <td>1.059508</td>\n",
       "      <td>0.625343</td>\n",
       "    </tr>\n",
       "    <tr>\n",
       "      <th>50%</th>\n",
       "      <td>29116.000000</td>\n",
       "      <td>0.905695</td>\n",
       "      <td>1.081650</td>\n",
       "      <td>0.063970</td>\n",
       "      <td>-0.179075</td>\n",
       "      <td>1.208249</td>\n",
       "      <td>0.849027</td>\n",
       "      <td>1.125496</td>\n",
       "      <td>0.657728</td>\n",
       "    </tr>\n",
       "    <tr>\n",
       "      <th>75%</th>\n",
       "      <td>45037.500000</td>\n",
       "      <td>1.052710</td>\n",
       "      <td>1.227383</td>\n",
       "      <td>0.095450</td>\n",
       "      <td>-0.143335</td>\n",
       "      <td>1.612561</td>\n",
       "      <td>1.146228</td>\n",
       "      <td>1.192859</td>\n",
       "      <td>0.692894</td>\n",
       "    </tr>\n",
       "    <tr>\n",
       "      <th>max</th>\n",
       "      <td>56045.000000</td>\n",
       "      <td>1.486280</td>\n",
       "      <td>1.666160</td>\n",
       "      <td>0.334570</td>\n",
       "      <td>-0.043250</td>\n",
       "      <td>6.836991</td>\n",
       "      <td>2.920569</td>\n",
       "      <td>2.529641</td>\n",
       "      <td>0.930369</td>\n",
       "    </tr>\n",
       "  </tbody>\n",
       "</table>\n",
       "</div>"
      ],
      "text/plain": [
       "             county  exposure_grp_mem_county  exposure_grp_mem_high_county  \\\n",
       "count   3012.000000              3012.000000                   3012.000000   \n",
       "mean   30206.501328                 0.906089                      1.078581   \n",
       "std    15139.364060                 0.211814                      0.209551   \n",
       "min     1001.000000                 0.255200                      0.510130   \n",
       "25%    18166.500000                 0.765533                      0.931867   \n",
       "50%    29116.000000                 0.905695                      1.081650   \n",
       "75%    45037.500000                 1.052710                      1.227383   \n",
       "max    56045.000000                 1.486280                      1.666160   \n",
       "\n",
       "       bias_grp_mem_county  bias_grp_mem_high_county      Epsilon  \\\n",
       "count          3012.000000               3012.000000  3012.000000   \n",
       "mean              0.064161                 -0.187968     1.354583   \n",
       "std               0.050633                  0.064644     0.675489   \n",
       "min              -0.108090                 -0.536180     0.345641   \n",
       "25%               0.030808                 -0.221698     0.899858   \n",
       "50%               0.063970                 -0.179075     1.208249   \n",
       "75%               0.095450                 -0.143335     1.612561   \n",
       "max               0.334570                 -0.043250     6.836991   \n",
       "\n",
       "       EpsilonHigh          Rho      RhoHigh  \n",
       "count  3012.000000  3012.000000  3012.000000  \n",
       "mean      0.932459     1.131563     0.661774  \n",
       "std       0.416315     0.113567     0.052487  \n",
       "min       0.200365     0.796738     0.499872  \n",
       "25%       0.629484     1.059508     0.625343  \n",
       "50%       0.849027     1.125496     0.657728  \n",
       "75%       1.146228     1.192859     0.692894  \n",
       "max       2.920569     2.529641     0.930369  "
      ]
     },
     "execution_count": 29,
     "metadata": {},
     "output_type": "execute_result"
    }
   ],
   "source": [
    "\n",
    "'''DESCRIPTIVE STATISTICS'''\n",
    "df_eps_rho_chetty = pd.read_csv('EpsRhoCalcs.csv')[['county', 'county_name', 'exposure_grp_mem_county', 'exposure_grp_mem_high_county', 'bias_grp_mem_county', 'bias_grp_mem_high_county', 'Epsilon', 'EpsilonHigh', 'Rho', 'RhoHigh']].dropna()\n",
    "\n",
    "df_eps_rho_chetty = df_eps_rho_chetty.apply(pd.to_numeric, errors='ignore')\n",
    "\n",
    "\n",
    "df_chetty_summ = df_eps_rho_chetty[['Epsilon', 'Rho']].describe().round(4)\n",
    "#df_chetty_summ.loc['skew'] = df_chetty_summ.skew()\n",
    "#df_chetty_summ.to_latex('data.tex')\n",
    "\n",
    "#Stargazer(df_chetty_summ)\n",
    "#df_eps_rho_chetty.skew()\n",
    "\n",
    "eps_all = list(df_eps_rho_chetty['Epsilon'].values) + list(df_eps_rho_chetty['EpsilonHigh'].values)\n",
    "rho_all = list(df_eps_rho_chetty['Rho'].values) + list(df_eps_rho_chetty['RhoHigh'].values)\n",
    "\n",
    "print(pearsonr(eps_all, rho_all))\n",
    "\n",
    "df_eps_rho_chetty[['Epsilon', 'Rho', 'EpsilonHigh', 'RhoHigh']].corr()\n",
    "\n",
    "np.mean(rho_all)\n",
    "\n",
    "df_eps_rho_chetty.describe()\n"
   ]
  },
  {
   "cell_type": "code",
   "execution_count": 3,
   "metadata": {},
   "outputs": [
    {
     "name": "stdout",
     "output_type": "stream",
     "text": [
      "Epsilon has a SW stat of 0.901 with p-value 2.6e-40\n",
      "Rho has a SW stat of 0.992 with p-value 5.1e-12\n"
     ]
    }
   ],
   "source": [
    "\n",
    "'''FIGURES'''\n",
    "\n",
    "# import the data, convert\n",
    "df_eps_rho_chetty = pd.read_csv('EpsRhoCalcs.csv')[['county', 'county_name', 'exposure_grp_mem_county', 'exposure_grp_mem_high_county', 'bias_grp_mem_county', 'bias_grp_mem_high_county', 'Epsilon', 'EpsilonHigh', 'Rho', 'RhoHigh']].dropna()\n",
    "df_eps_rho_chetty = df_eps_rho_chetty.apply(pd.to_numeric, errors='ignore')\n",
    "df_eps_rho_chetty[\"EpsilonColor\"] = np.where(df_eps_rho_chetty[\"Epsilon\"]<1, 'red', 'blue')\n",
    "df_eps_rho_chetty[\"RhoColor\"] = np.where(df_eps_rho_chetty[\"Rho\"]<1, 'red', 'blue')\n",
    "\n",
    "\n",
    "vars = ['Epsilon', 'Rho']# 'EpsilonHigh', 'Rho', 'RhoHigh']\n",
    "figs = []\n",
    "\n",
    "for var in vars:\n",
    "    # Winsorize at the 0.5% level\n",
    "    df_eps_rho_chetty = df_eps_rho_chetty[(df_eps_rho_chetty[var] <= df_eps_rho_chetty[var].quantile(0.995)) & df_eps_rho_chetty[var] >= df_eps_rho_chetty[var].quantile(0.005)]\n",
    "\n",
    "    #calculate mean and variance\n",
    "    mu, std = norm.fit(df_eps_rho_chetty[var])\n",
    "\n",
    "    # Shapiro Wilk test (want p<0.05)\n",
    "    stat, p = shapiro(df_eps_rho_chetty[var])\n",
    "\n",
    "    # count share below 1\n",
    "    below_one_share = len([x for x in list(df_eps_rho_chetty[var]) if x < 1]) / len(list(df_eps_rho_chetty[var]))\n",
    "\n",
    "    fig_title = f'{var} density plot<br>Winsorised at 0.5% level<br>Normal distribution: mean={round(mu,3)}, se={round(std, 3)}<br>Shapiro-Wilk stat and prob: {format(stat, \".3f\")}, {\"{:.1e}\".format(p)}<br>Prob <1: {round(below_one_share, 3)}'\n",
    "\n",
    "    # Create a histogram of the column\n",
    "    fig = px.histogram(df_eps_rho_chetty, x=var, nbins=100, opacity=0.9, marginal=None, histnorm='probability density', title=fig_title, width=600, height=600)#, color=df_eps_rho_chetty[var + 'Color'])\n",
    "\n",
    "    # Add a normal distribution curve to the histogram\n",
    "    x_axis = np.linspace(df_eps_rho_chetty[var].min(), df_eps_rho_chetty[var].max(), 100)\n",
    "    y_axis = norm.pdf(x_axis, mu, std)\n",
    "    curve = go.Scatter(x=x_axis, y=y_axis, mode='lines', line=dict(width=2, color='black'), name=f'Normal Distribution: ', showlegend=False)\n",
    "    fig.add_trace(curve)\n",
    "\n",
    "    figs.append(fig)\n",
    "\n",
    "for var in vars:\n",
    "    stat, p = shapiro(df_eps_rho_chetty[var])\n",
    "    print(f'{var} has a SW stat of {format(stat, \".3f\")} with p-value {\"{:.1e}\".format(p)}')\n",
    "\n",
    "\n"
   ]
  },
  {
   "attachments": {},
   "cell_type": "markdown",
   "metadata": {},
   "source": [
    "# New stuff"
   ]
  },
  {
   "attachments": {},
   "cell_type": "markdown",
   "metadata": {},
   "source": [
    "### General simulation code"
   ]
  },
  {
   "cell_type": "code",
   "execution_count": 3,
   "metadata": {},
   "outputs": [],
   "source": [
    "\n",
    "# runs a lot of MTO simulations for a givne list of epsilon and rho values, returning a df\n",
    "def MTO_simulator(initial_n=0, T=100, m=10, pm_o=1, n=10, pn_o=1, p_SES_high=0.5, list_rho_values=[1], list_eps_values=[1], num_sim_per_param=1, num_MTO_per_sim=10):\n",
    "\n",
    "    total_sims = 0\n",
    "    list_sim_stats = []\n",
    "    n_sims = len(list_eps_values) * len(list_rho_values) * num_sim_per_param * num_MTO_per_sim\n",
    "    t0 = time.time()\n",
    "\n",
    "    print(f'Running {n_sims} simulations over {len(list_eps_values) * len(list_rho_values)} parameter combinations')\n",
    "\n",
    "    # iterate over eps values\n",
    "    for i in range(len(list_eps_values)):\n",
    "\n",
    "        # iterate over rho values\n",
    "        for j in range(len(list_rho_values)):\n",
    "\n",
    "            # create a network and run MTO sims\n",
    "            for k in range(num_sim_per_param):\n",
    "                # create network\n",
    "                network_sim = JacksonSimulationV2(initial_n, T, m, pm_o, n, pn_o, p_SES_high, biased=True, epsilon = list_eps_values[i], rho=list_rho_values[j])\n",
    "\n",
    "                # run MTO simulations\n",
    "                df_MTO_sim = network_sim.MTO_sim_many(network_sim.graph_history[-1], n_sims=num_MTO_per_sim)\n",
    "\n",
    "\n",
    "                # calculate network-wide characteristics\n",
    "                SES_assortativity = nx.assortativity.attribute_assortativity_coefficient(network_sim.graph_history[-1], 'SES_High')\n",
    "                H_Share_H, H_Share_L = network_sim.helper_functions().average_neighbour_type_per_SES(network_sim.graph_history[-1])\n",
    "                Network_Degree = sum(dict(network_sim.graph_history[-1].degree()).values()) / len(network_sim.graph_history[-1])\n",
    "                Network_Clustering = nx.average_clustering(network_sim.graph_history[-1])\n",
    "\n",
    "                list_network_chars = [SES_assortativity, H_Share_H, H_Share_L, Network_Degree, Network_Clustering]\n",
    "                list_network_char_names = ['Network_SES_assortativity', 'Network_H_Share_H', 'Network_H_Share_L', 'Network_Degree', 'Network_Clustering']\n",
    "\n",
    "                # add the values to the df\n",
    "                for n in range(len(list_network_chars)):\n",
    "                    df_MTO_sim[list_network_char_names[n]] = list_network_chars[n]\n",
    "\n",
    "                # append to list\n",
    "                list_sim_stats.append(df_MTO_sim)\n",
    "                print('\\r', f'Finished simulation {k}/{num_sim_per_param} for combination {total_sims}/{len(list_eps_values)*len(list_rho_values)}', end='')\n",
    "        \n",
    "            total_sims += 1\n",
    "\n",
    "    delta_t = round((time.time()-t0)/60, 2)\n",
    "\n",
    "    print('\\r', f'Finished {n_sims} simulations in {delta_t} minutes, average time: {delta_t/n_sims} min/sim', end='')\n",
    "    df_MTO_output = pd.concat(list_sim_stats).reset_index(drop=True)\n",
    "\n",
    "    # add predicted values\n",
    "    df_MTO_output['Predicted_H_Share'] = 1/((1+df_MTO_output['epsilon'])*(df_MTO_output['rho']))\n",
    "    df_MTO_output['Predicted_Exposure'] = 1/(df_MTO_output['p_SES_high']*(1+df_MTO_output['epsilon']))\n",
    "    df_MTO_output['Predicted_Friend_Bias'] = (df_MTO_output['epsilon']*(df_MTO_output['rho']-1))/(df_MTO_output['epsilon']*df_MTO_output['rho']+1)\n",
    "\n",
    "\n",
    "    return df_MTO_output\n",
    "\n",
    "\n",
    "#df_test = MTO_simulator(list_rho_values=[1,2], list_eps_values=[1,2], num_MTO_per_sim=100, num_sim_per_param=5)\n",
    "#df_test.sample(5)\n"
   ]
  },
  {
   "attachments": {},
   "cell_type": "markdown",
   "metadata": {},
   "source": [
    "## Epsilon"
   ]
  },
  {
   "attachments": {},
   "cell_type": "markdown",
   "metadata": {},
   "source": [
    "### Epsilon code"
   ]
  },
  {
   "cell_type": "code",
   "execution_count": 15,
   "metadata": {},
   "outputs": [
    {
     "data": {
      "text/html": [
       "<div>\n",
       "<style scoped>\n",
       "    .dataframe tbody tr th:only-of-type {\n",
       "        vertical-align: middle;\n",
       "    }\n",
       "\n",
       "    .dataframe tbody tr th {\n",
       "        vertical-align: top;\n",
       "    }\n",
       "\n",
       "    .dataframe thead th {\n",
       "        text-align: right;\n",
       "    }\n",
       "</style>\n",
       "<table border=\"1\" class=\"dataframe\">\n",
       "  <thead>\n",
       "    <tr style=\"text-align: right;\">\n",
       "      <th></th>\n",
       "      <th>sim_id</th>\n",
       "      <th>p_SES_high</th>\n",
       "      <th>epsilon</th>\n",
       "      <th>rho</th>\n",
       "      <th>H_Share</th>\n",
       "      <th>Exposure</th>\n",
       "      <th>Friend_Bias</th>\n",
       "      <th>N_exposure</th>\n",
       "      <th>Degree</th>\n",
       "      <th>Network_SES_assortativity</th>\n",
       "      <th>H_Share_H</th>\n",
       "      <th>H_Share_L</th>\n",
       "      <th>Network_Degree</th>\n",
       "      <th>Network_Clustering</th>\n",
       "      <th>Predicted_H_Share_L</th>\n",
       "      <th>Predicted_Exposure</th>\n",
       "      <th>Predicted_Friend_Bias</th>\n",
       "      <th>Predicted_H_Share_H</th>\n",
       "    </tr>\n",
       "  </thead>\n",
       "  <tbody>\n",
       "    <tr>\n",
       "      <th>0</th>\n",
       "      <td>UfnqWgMQ</td>\n",
       "      <td>0.5</td>\n",
       "      <td>0.50</td>\n",
       "      <td>1.0</td>\n",
       "      <td>0.526316</td>\n",
       "      <td>1.052632</td>\n",
       "      <td>0.947368</td>\n",
       "      <td>20</td>\n",
       "      <td>19</td>\n",
       "      <td>-0.260659</td>\n",
       "      <td>0.340911</td>\n",
       "      <td>0.608753</td>\n",
       "      <td>31.90</td>\n",
       "      <td>0.358908</td>\n",
       "      <td>0.666667</td>\n",
       "      <td>1.333333</td>\n",
       "      <td>0.000000</td>\n",
       "      <td>0.333333</td>\n",
       "    </tr>\n",
       "    <tr>\n",
       "      <th>1</th>\n",
       "      <td>UfnqWgMQ</td>\n",
       "      <td>0.5</td>\n",
       "      <td>0.50</td>\n",
       "      <td>1.0</td>\n",
       "      <td>0.578947</td>\n",
       "      <td>1.157895</td>\n",
       "      <td>0.947368</td>\n",
       "      <td>20</td>\n",
       "      <td>19</td>\n",
       "      <td>-0.260659</td>\n",
       "      <td>0.340911</td>\n",
       "      <td>0.608753</td>\n",
       "      <td>31.90</td>\n",
       "      <td>0.358908</td>\n",
       "      <td>0.666667</td>\n",
       "      <td>1.333333</td>\n",
       "      <td>0.000000</td>\n",
       "      <td>0.333333</td>\n",
       "    </tr>\n",
       "    <tr>\n",
       "      <th>2</th>\n",
       "      <td>UfnqWgMQ</td>\n",
       "      <td>0.5</td>\n",
       "      <td>0.50</td>\n",
       "      <td>1.0</td>\n",
       "      <td>0.578947</td>\n",
       "      <td>1.157895</td>\n",
       "      <td>0.947368</td>\n",
       "      <td>20</td>\n",
       "      <td>19</td>\n",
       "      <td>-0.260659</td>\n",
       "      <td>0.340911</td>\n",
       "      <td>0.608753</td>\n",
       "      <td>31.90</td>\n",
       "      <td>0.358908</td>\n",
       "      <td>0.666667</td>\n",
       "      <td>1.333333</td>\n",
       "      <td>0.000000</td>\n",
       "      <td>0.333333</td>\n",
       "    </tr>\n",
       "    <tr>\n",
       "      <th>3</th>\n",
       "      <td>UfnqWgMQ</td>\n",
       "      <td>0.5</td>\n",
       "      <td>0.50</td>\n",
       "      <td>1.0</td>\n",
       "      <td>0.666667</td>\n",
       "      <td>1.333333</td>\n",
       "      <td>0.944444</td>\n",
       "      <td>20</td>\n",
       "      <td>18</td>\n",
       "      <td>-0.260659</td>\n",
       "      <td>0.340911</td>\n",
       "      <td>0.608753</td>\n",
       "      <td>31.90</td>\n",
       "      <td>0.358908</td>\n",
       "      <td>0.666667</td>\n",
       "      <td>1.333333</td>\n",
       "      <td>0.000000</td>\n",
       "      <td>0.333333</td>\n",
       "    </tr>\n",
       "    <tr>\n",
       "      <th>4</th>\n",
       "      <td>UfnqWgMQ</td>\n",
       "      <td>0.5</td>\n",
       "      <td>0.50</td>\n",
       "      <td>1.0</td>\n",
       "      <td>0.666667</td>\n",
       "      <td>1.333333</td>\n",
       "      <td>0.944444</td>\n",
       "      <td>20</td>\n",
       "      <td>18</td>\n",
       "      <td>-0.260659</td>\n",
       "      <td>0.340911</td>\n",
       "      <td>0.608753</td>\n",
       "      <td>31.90</td>\n",
       "      <td>0.358908</td>\n",
       "      <td>0.666667</td>\n",
       "      <td>1.333333</td>\n",
       "      <td>0.000000</td>\n",
       "      <td>0.333333</td>\n",
       "    </tr>\n",
       "    <tr>\n",
       "      <th>...</th>\n",
       "      <td>...</td>\n",
       "      <td>...</td>\n",
       "      <td>...</td>\n",
       "      <td>...</td>\n",
       "      <td>...</td>\n",
       "      <td>...</td>\n",
       "      <td>...</td>\n",
       "      <td>...</td>\n",
       "      <td>...</td>\n",
       "      <td>...</td>\n",
       "      <td>...</td>\n",
       "      <td>...</td>\n",
       "      <td>...</td>\n",
       "      <td>...</td>\n",
       "      <td>...</td>\n",
       "      <td>...</td>\n",
       "      <td>...</td>\n",
       "      <td>...</td>\n",
       "    </tr>\n",
       "    <tr>\n",
       "      <th>449995</th>\n",
       "      <td>ARpdDwgb</td>\n",
       "      <td>0.5</td>\n",
       "      <td>1.99</td>\n",
       "      <td>1.5</td>\n",
       "      <td>0.416667</td>\n",
       "      <td>1.000000</td>\n",
       "      <td>0.940476</td>\n",
       "      <td>14</td>\n",
       "      <td>12</td>\n",
       "      <td>0.398651</td>\n",
       "      <td>0.712574</td>\n",
       "      <td>0.299282</td>\n",
       "      <td>21.16</td>\n",
       "      <td>0.267622</td>\n",
       "      <td>0.222965</td>\n",
       "      <td>0.668896</td>\n",
       "      <td>0.249686</td>\n",
       "      <td>0.777035</td>\n",
       "    </tr>\n",
       "    <tr>\n",
       "      <th>449996</th>\n",
       "      <td>ARpdDwgb</td>\n",
       "      <td>0.5</td>\n",
       "      <td>1.99</td>\n",
       "      <td>1.5</td>\n",
       "      <td>0.300000</td>\n",
       "      <td>1.000000</td>\n",
       "      <td>0.957143</td>\n",
       "      <td>14</td>\n",
       "      <td>10</td>\n",
       "      <td>0.398651</td>\n",
       "      <td>0.712574</td>\n",
       "      <td>0.299282</td>\n",
       "      <td>21.16</td>\n",
       "      <td>0.267622</td>\n",
       "      <td>0.222965</td>\n",
       "      <td>0.668896</td>\n",
       "      <td>0.249686</td>\n",
       "      <td>0.777035</td>\n",
       "    </tr>\n",
       "    <tr>\n",
       "      <th>449997</th>\n",
       "      <td>ARpdDwgb</td>\n",
       "      <td>0.5</td>\n",
       "      <td>1.99</td>\n",
       "      <td>1.5</td>\n",
       "      <td>0.250000</td>\n",
       "      <td>0.615385</td>\n",
       "      <td>0.937500</td>\n",
       "      <td>14</td>\n",
       "      <td>12</td>\n",
       "      <td>0.398651</td>\n",
       "      <td>0.712574</td>\n",
       "      <td>0.299282</td>\n",
       "      <td>21.16</td>\n",
       "      <td>0.267622</td>\n",
       "      <td>0.222965</td>\n",
       "      <td>0.668896</td>\n",
       "      <td>0.249686</td>\n",
       "      <td>0.777035</td>\n",
       "    </tr>\n",
       "    <tr>\n",
       "      <th>449998</th>\n",
       "      <td>ARpdDwgb</td>\n",
       "      <td>0.5</td>\n",
       "      <td>1.99</td>\n",
       "      <td>1.5</td>\n",
       "      <td>0.090909</td>\n",
       "      <td>0.571429</td>\n",
       "      <td>0.977273</td>\n",
       "      <td>14</td>\n",
       "      <td>11</td>\n",
       "      <td>0.398651</td>\n",
       "      <td>0.712574</td>\n",
       "      <td>0.299282</td>\n",
       "      <td>21.16</td>\n",
       "      <td>0.267622</td>\n",
       "      <td>0.222965</td>\n",
       "      <td>0.668896</td>\n",
       "      <td>0.249686</td>\n",
       "      <td>0.777035</td>\n",
       "    </tr>\n",
       "    <tr>\n",
       "      <th>449999</th>\n",
       "      <td>ARpdDwgb</td>\n",
       "      <td>0.5</td>\n",
       "      <td>1.99</td>\n",
       "      <td>1.5</td>\n",
       "      <td>0.272727</td>\n",
       "      <td>0.769231</td>\n",
       "      <td>0.945455</td>\n",
       "      <td>14</td>\n",
       "      <td>11</td>\n",
       "      <td>0.398651</td>\n",
       "      <td>0.712574</td>\n",
       "      <td>0.299282</td>\n",
       "      <td>21.16</td>\n",
       "      <td>0.267622</td>\n",
       "      <td>0.222965</td>\n",
       "      <td>0.668896</td>\n",
       "      <td>0.249686</td>\n",
       "      <td>0.777035</td>\n",
       "    </tr>\n",
       "  </tbody>\n",
       "</table>\n",
       "<p>450000 rows × 18 columns</p>\n",
       "</div>"
      ],
      "text/plain": [
       "          sim_id  p_SES_high  epsilon  rho   H_Share  Exposure  Friend_Bias  \\\n",
       "0       UfnqWgMQ         0.5     0.50  1.0  0.526316  1.052632     0.947368   \n",
       "1       UfnqWgMQ         0.5     0.50  1.0  0.578947  1.157895     0.947368   \n",
       "2       UfnqWgMQ         0.5     0.50  1.0  0.578947  1.157895     0.947368   \n",
       "3       UfnqWgMQ         0.5     0.50  1.0  0.666667  1.333333     0.944444   \n",
       "4       UfnqWgMQ         0.5     0.50  1.0  0.666667  1.333333     0.944444   \n",
       "...          ...         ...      ...  ...       ...       ...          ...   \n",
       "449995  ARpdDwgb         0.5     1.99  1.5  0.416667  1.000000     0.940476   \n",
       "449996  ARpdDwgb         0.5     1.99  1.5  0.300000  1.000000     0.957143   \n",
       "449997  ARpdDwgb         0.5     1.99  1.5  0.250000  0.615385     0.937500   \n",
       "449998  ARpdDwgb         0.5     1.99  1.5  0.090909  0.571429     0.977273   \n",
       "449999  ARpdDwgb         0.5     1.99  1.5  0.272727  0.769231     0.945455   \n",
       "\n",
       "        N_exposure  Degree  Network_SES_assortativity  H_Share_H  H_Share_L  \\\n",
       "0               20      19                  -0.260659   0.340911   0.608753   \n",
       "1               20      19                  -0.260659   0.340911   0.608753   \n",
       "2               20      19                  -0.260659   0.340911   0.608753   \n",
       "3               20      18                  -0.260659   0.340911   0.608753   \n",
       "4               20      18                  -0.260659   0.340911   0.608753   \n",
       "...            ...     ...                        ...        ...        ...   \n",
       "449995          14      12                   0.398651   0.712574   0.299282   \n",
       "449996          14      10                   0.398651   0.712574   0.299282   \n",
       "449997          14      12                   0.398651   0.712574   0.299282   \n",
       "449998          14      11                   0.398651   0.712574   0.299282   \n",
       "449999          14      11                   0.398651   0.712574   0.299282   \n",
       "\n",
       "        Network_Degree  Network_Clustering  Predicted_H_Share_L  \\\n",
       "0                31.90            0.358908             0.666667   \n",
       "1                31.90            0.358908             0.666667   \n",
       "2                31.90            0.358908             0.666667   \n",
       "3                31.90            0.358908             0.666667   \n",
       "4                31.90            0.358908             0.666667   \n",
       "...                ...                 ...                  ...   \n",
       "449995           21.16            0.267622             0.222965   \n",
       "449996           21.16            0.267622             0.222965   \n",
       "449997           21.16            0.267622             0.222965   \n",
       "449998           21.16            0.267622             0.222965   \n",
       "449999           21.16            0.267622             0.222965   \n",
       "\n",
       "        Predicted_Exposure  Predicted_Friend_Bias  Predicted_H_Share_H  \n",
       "0                 1.333333               0.000000             0.333333  \n",
       "1                 1.333333               0.000000             0.333333  \n",
       "2                 1.333333               0.000000             0.333333  \n",
       "3                 1.333333               0.000000             0.333333  \n",
       "4                 1.333333               0.000000             0.333333  \n",
       "...                    ...                    ...                  ...  \n",
       "449995            0.668896               0.249686             0.777035  \n",
       "449996            0.668896               0.249686             0.777035  \n",
       "449997            0.668896               0.249686             0.777035  \n",
       "449998            0.668896               0.249686             0.777035  \n",
       "449999            0.668896               0.249686             0.777035  \n",
       "\n",
       "[450000 rows x 18 columns]"
      ]
     },
     "execution_count": 15,
     "metadata": {},
     "output_type": "execute_result"
    }
   ],
   "source": [
    "\n",
    "# general simulation stuff\n",
    "list_eps_values = np.arange(0.5, 2, 0.01)\n",
    "\n",
    "num_sim_per_param = 10 # number of simulations with given parameter set\n",
    "num_MTO_per_sim = 100 # number of simulations on each network\n",
    "\n",
    "\n",
    "#df_eps = MTO_simulator(list_rho_values=[1, 1.25, 1.5], list_eps_values=list_eps_values, num_MTO_per_sim=num_MTO_per_sim, num_sim_per_param=num_sim_per_param)\n",
    "#df_eps.sample(5)\n",
    "#df_eps.to_csv('eps_sim.csv')\n",
    "\n",
    "df_eps = pd.read_csv('SimulationData/eps_sim.csv')\n",
    "df_eps.sample(5)\n",
    "\n",
    "df_eps = df_eps.rename(columns={'Network_H_Share_H': 'H_Share_H', 'Network_H_Share_L': 'H_Share_L', 'Predicted_H_Share': 'Predicted_H_Share_L'})\n",
    "df_eps['Predicted_H_Share_H'] = 1-df_eps['Predicted_H_Share_L']\n",
    "\n",
    "df_eps\n"
   ]
  },
  {
   "attachments": {},
   "cell_type": "markdown",
   "metadata": {},
   "source": [
    "### Epsilon HSES Share"
   ]
  },
  {
   "cell_type": "code",
   "execution_count": 16,
   "metadata": {},
   "outputs": [
    {
     "data": {
      "application/vnd.plotly.v1+json": {
       "config": {
        "plotlyServerURL": "https://plot.ly"
       },
       "data": [
        {
         "line": {
          "color": "rgba(200,0,0,1)",
          "width": 2
         },
         "mode": "lines",
         "name": "Realised",
         "showlegend": true,
         "type": "scatter",
         "x": [
          0.5,
          0.51,
          0.52,
          0.53,
          0.54,
          0.55,
          0.56,
          0.57,
          0.58,
          0.59,
          0.6,
          0.61,
          0.62,
          0.63,
          0.64,
          0.65,
          0.66,
          0.67,
          0.68,
          0.69,
          0.7,
          0.71,
          0.72,
          0.73,
          0.74,
          0.75,
          0.76,
          0.77,
          0.78,
          0.79,
          0.8,
          0.81,
          0.82,
          0.83,
          0.84,
          0.85,
          0.86,
          0.87,
          0.88,
          0.89,
          0.9,
          0.91,
          0.92,
          0.93,
          0.94,
          0.95,
          0.96,
          0.97,
          0.98,
          0.99,
          1,
          1.01,
          1.02,
          1.03,
          1.04,
          1.05,
          1.06,
          1.07,
          1.08,
          1.09,
          1.1,
          1.11,
          1.12,
          1.13,
          1.14,
          1.15,
          1.16,
          1.17,
          1.18,
          1.19,
          1.2,
          1.21,
          1.22,
          1.23,
          1.24,
          1.25,
          1.26,
          1.27,
          1.28,
          1.29,
          1.3,
          1.31,
          1.32,
          1.33,
          1.34,
          1.35,
          1.36,
          1.37,
          1.38,
          1.39,
          1.4,
          1.41,
          1.42,
          1.43,
          1.44,
          1.45,
          1.46,
          1.47,
          1.48,
          1.49,
          1.5,
          1.51,
          1.52,
          1.53,
          1.54,
          1.55,
          1.56,
          1.57,
          1.58,
          1.59,
          1.6,
          1.61,
          1.62,
          1.63,
          1.64,
          1.65,
          1.66,
          1.67,
          1.68,
          1.69,
          1.7,
          1.71,
          1.72,
          1.73,
          1.74,
          1.75,
          1.76,
          1.77,
          1.78,
          1.79,
          1.8,
          1.81,
          1.82,
          1.83,
          1.84,
          1.85,
          1.86,
          1.87,
          1.88,
          1.89,
          1.9,
          1.91,
          1.92,
          1.93,
          1.94,
          1.95,
          1.96,
          1.97,
          1.98,
          1.99
         ],
         "y": [
          0.5960067392,
          0.5757448248000001,
          0.5792775965,
          0.5924340687,
          0.5956182599,
          0.5509310907,
          0.571257585,
          0.5650290134,
          0.5169897581,
          0.5730037661,
          0.5493762152,
          0.5617815657999999,
          0.527694476,
          0.5160201413,
          0.5815977410000001,
          0.5446296564,
          0.5414447324,
          0.5467508055,
          0.5504448046,
          0.5501602402,
          0.5254614864,
          0.5179988369,
          0.4756314494,
          0.5350042845,
          0.4956742084,
          0.526668241,
          0.4954228986,
          0.5287537293000001,
          0.5094375044,
          0.4933346356,
          0.48544398939999994,
          0.495421311,
          0.497827938,
          0.48145827220000004,
          0.4869614767,
          0.4965633081,
          0.4999574774,
          0.4922087882,
          0.515392024,
          0.4667727799,
          0.47032687900000003,
          0.4652179019,
          0.4486706458,
          0.45845764099999997,
          0.4525910574,
          0.4716941379,
          0.43511425480000004,
          0.44940002290000003,
          0.43721456799999997,
          0.4393665222,
          0.48379169629999996,
          0.4658912918,
          0.4630710964,
          0.46001973069999996,
          0.4125016478,
          0.45645237200000005,
          0.4496647811,
          0.4346087937,
          0.4086153144,
          0.43205041310000003,
          0.4429133865,
          0.4002942378,
          0.4214285288,
          0.41463495590000005,
          0.44025695330000003,
          0.4371075734,
          0.4134310642,
          0.4179049461,
          0.4236672851,
          0.4062782938,
          0.40587234489999996,
          0.3940079442,
          0.4052244511,
          0.388512168,
          0.39907269700000003,
          0.4254197453,
          0.38396866360000004,
          0.4141269697,
          0.4038759487,
          0.39495058699999996,
          0.4159257684,
          0.4039976152,
          0.4004175055,
          0.3728663228,
          0.3924130511,
          0.4013802975,
          0.3877998341,
          0.4043074929,
          0.389245207,
          0.39711651519999996,
          0.38891048840000003,
          0.3809668808,
          0.3996908243,
          0.37795984579999997,
          0.3739631434,
          0.38815147359999996,
          0.3733826689,
          0.38334615180000003,
          0.3873477653,
          0.37997920420000003,
          0.3629694847,
          0.3710597369,
          0.3769819072,
          0.365381797,
          0.3630655597,
          0.35887557529999997,
          0.3597413949,
          0.3812307149,
          0.3547841468,
          0.36065555639999997,
          0.3728049092,
          0.3517862853,
          0.3539839224,
          0.3446452011,
          0.3341897576,
          0.37679332369999996,
          0.3637590102,
          0.3548064387,
          0.35713502900000005,
          0.3459084891,
          0.35080796300000006,
          0.342175186,
          0.3308026377,
          0.35909598870000004,
          0.3330612145,
          0.3319932071,
          0.360526363,
          0.3185071845,
          0.33339814630000003,
          0.3032954524,
          0.33673155320000003,
          0.33889544369999997,
          0.3038821005,
          0.3383774454,
          0.33679570999999997,
          0.3257618844,
          0.3475713493,
          0.35139065529999997,
          0.3280892518,
          0.3181974661,
          0.33796440380000004,
          0.3159143654,
          0.3461555912,
          0.3346603758,
          0.3042203422,
          0.3419735641,
          0.3082348654,
          0.32481120090000004,
          0.33141762929999996,
          0.33082173569999995
         ]
        },
        {
         "line": {
          "color": "rgba(200,0,0,0.25)",
          "width": 2
         },
         "mode": "lines",
         "showlegend": false,
         "type": "scatter",
         "x": [
          0.5,
          0.51,
          0.52,
          0.53,
          0.54,
          0.55,
          0.56,
          0.57,
          0.58,
          0.59,
          0.6,
          0.61,
          0.62,
          0.63,
          0.64,
          0.65,
          0.66,
          0.67,
          0.68,
          0.69,
          0.7,
          0.71,
          0.72,
          0.73,
          0.74,
          0.75,
          0.76,
          0.77,
          0.78,
          0.79,
          0.8,
          0.81,
          0.82,
          0.83,
          0.84,
          0.85,
          0.86,
          0.87,
          0.88,
          0.89,
          0.9,
          0.91,
          0.92,
          0.93,
          0.94,
          0.95,
          0.96,
          0.97,
          0.98,
          0.99,
          1,
          1.01,
          1.02,
          1.03,
          1.04,
          1.05,
          1.06,
          1.07,
          1.08,
          1.09,
          1.1,
          1.11,
          1.12,
          1.13,
          1.14,
          1.15,
          1.16,
          1.17,
          1.18,
          1.19,
          1.2,
          1.21,
          1.22,
          1.23,
          1.24,
          1.25,
          1.26,
          1.27,
          1.28,
          1.29,
          1.3,
          1.31,
          1.32,
          1.33,
          1.34,
          1.35,
          1.36,
          1.37,
          1.38,
          1.39,
          1.4,
          1.41,
          1.42,
          1.43,
          1.44,
          1.45,
          1.46,
          1.47,
          1.48,
          1.49,
          1.5,
          1.51,
          1.52,
          1.53,
          1.54,
          1.55,
          1.56,
          1.57,
          1.58,
          1.59,
          1.6,
          1.61,
          1.62,
          1.63,
          1.64,
          1.65,
          1.66,
          1.67,
          1.68,
          1.69,
          1.7,
          1.71,
          1.72,
          1.73,
          1.74,
          1.75,
          1.76,
          1.77,
          1.78,
          1.79,
          1.8,
          1.81,
          1.82,
          1.83,
          1.84,
          1.85,
          1.86,
          1.87,
          1.88,
          1.89,
          1.9,
          1.91,
          1.92,
          1.93,
          1.94,
          1.95,
          1.96,
          1.97,
          1.98,
          1.99
         ],
         "y": [
          0.5969287628539148,
          0.576134546163313,
          0.5802902621243112,
          0.5933609788271825,
          0.5962040882850992,
          0.5514406164258832,
          0.5723971615170399,
          0.5657018503653597,
          0.5175437050623714,
          0.5736475971659591,
          0.5498668024987883,
          0.5627097180812235,
          0.5284576392662321,
          0.5166565897139329,
          0.5821657521973984,
          0.5455975611251368,
          0.542249094885917,
          0.5476342915706959,
          0.5510729182975798,
          0.550804694221792,
          0.5260355832960275,
          0.5185910231866161,
          0.47632795684039275,
          0.5356973086651065,
          0.4963938111769727,
          0.5274351254736019,
          0.4961414465065889,
          0.5295745850419162,
          0.5101995524754795,
          0.49396191690692626,
          0.4864265350609074,
          0.4959668734823039,
          0.4984734956939514,
          0.4823327436666917,
          0.4875012760587907,
          0.49714910498486903,
          0.500342383558287,
          0.49296686754131713,
          0.5162078875436981,
          0.46768097926574237,
          0.47110801277345804,
          0.46567227250187176,
          0.4494044480509587,
          0.4593487372247809,
          0.45332190643813564,
          0.4720720350869002,
          0.4355941357796336,
          0.4499583189008945,
          0.4376107160356355,
          0.4398998459209369,
          0.4845479801055786,
          0.4662806595310993,
          0.46414647297983586,
          0.4609976031570287,
          0.41292926572799027,
          0.45713121805066737,
          0.4501308436605419,
          0.43536525779987095,
          0.4093110130260503,
          0.4325434647082138,
          0.443465633109928,
          0.4008104410924938,
          0.42193492242898845,
          0.4153053184446626,
          0.44097208778960073,
          0.43742577180406145,
          0.4142278677856177,
          0.4184509708449723,
          0.42448792507834715,
          0.40682905761610166,
          0.4064652943915512,
          0.3947694997726006,
          0.4060368595584923,
          0.3889249924915057,
          0.39980741903663863,
          0.42593021033034095,
          0.384496112638831,
          0.4145720453247263,
          0.40451718131310066,
          0.3952970610837786,
          0.41651270682056446,
          0.40468804006567893,
          0.4008997961676213,
          0.373158606298759,
          0.3929402174546424,
          0.4021814797975431,
          0.38847642167842944,
          0.40488381386547184,
          0.3898301659711997,
          0.3978394963554457,
          0.3895823059673185,
          0.38149174703108457,
          0.4002086798976755,
          0.3785395432849012,
          0.37464713652866277,
          0.38861252752878456,
          0.3740311641824932,
          0.3841365057581856,
          0.38811240873812713,
          0.3806192908861871,
          0.36331305370838785,
          0.3718741629450805,
          0.3777449534145433,
          0.36589469738963776,
          0.36369968688997345,
          0.3592947101021353,
          0.3603302119788515,
          0.3816166165911893,
          0.35512505078630935,
          0.36126958333631704,
          0.3732859329128306,
          0.35217033402979264,
          0.3544187317419902,
          0.3452154751846881,
          0.3347550359119468,
          0.37750626199463744,
          0.3643327281172115,
          0.3551575488589746,
          0.3576693727211473,
          0.3464559712747019,
          0.35135514642549776,
          0.3428092231539331,
          0.3313391756394461,
          0.35946480687626964,
          0.3336527936968902,
          0.3326853993319204,
          0.3611164194531709,
          0.3190042554215648,
          0.33371014823832146,
          0.3039080881799951,
          0.3371786515848447,
          0.33958574633664035,
          0.30419593645340537,
          0.33905142341736505,
          0.3372777126461277,
          0.32627344540578723,
          0.3480638522035588,
          0.3518927721788397,
          0.3284660724408196,
          0.3186469914653443,
          0.3387256637101115,
          0.3165023326443832,
          0.34712075577910556,
          0.33509977468212376,
          0.304464310324212,
          0.34253234652713055,
          0.3086926395979366,
          0.3253145734798462,
          0.3321410210254253,
          0.33114092970208336
         ]
        },
        {
         "fill": "tonexty",
         "fillcolor": "rgba(68, 68, 68, 0.2)",
         "line": {
          "color": "rgba(200,0,0,0.25)",
          "width": 2
         },
         "mode": "lines",
         "showlegend": false,
         "type": "scatter",
         "x": [
          0.5,
          0.51,
          0.52,
          0.53,
          0.54,
          0.55,
          0.56,
          0.57,
          0.58,
          0.59,
          0.6,
          0.61,
          0.62,
          0.63,
          0.64,
          0.65,
          0.66,
          0.67,
          0.68,
          0.69,
          0.7,
          0.71,
          0.72,
          0.73,
          0.74,
          0.75,
          0.76,
          0.77,
          0.78,
          0.79,
          0.8,
          0.81,
          0.82,
          0.83,
          0.84,
          0.85,
          0.86,
          0.87,
          0.88,
          0.89,
          0.9,
          0.91,
          0.92,
          0.93,
          0.94,
          0.95,
          0.96,
          0.97,
          0.98,
          0.99,
          1,
          1.01,
          1.02,
          1.03,
          1.04,
          1.05,
          1.06,
          1.07,
          1.08,
          1.09,
          1.1,
          1.11,
          1.12,
          1.13,
          1.14,
          1.15,
          1.16,
          1.17,
          1.18,
          1.19,
          1.2,
          1.21,
          1.22,
          1.23,
          1.24,
          1.25,
          1.26,
          1.27,
          1.28,
          1.29,
          1.3,
          1.31,
          1.32,
          1.33,
          1.34,
          1.35,
          1.36,
          1.37,
          1.38,
          1.39,
          1.4,
          1.41,
          1.42,
          1.43,
          1.44,
          1.45,
          1.46,
          1.47,
          1.48,
          1.49,
          1.5,
          1.51,
          1.52,
          1.53,
          1.54,
          1.55,
          1.56,
          1.57,
          1.58,
          1.59,
          1.6,
          1.61,
          1.62,
          1.63,
          1.64,
          1.65,
          1.66,
          1.67,
          1.68,
          1.69,
          1.7,
          1.71,
          1.72,
          1.73,
          1.74,
          1.75,
          1.76,
          1.77,
          1.78,
          1.79,
          1.8,
          1.81,
          1.82,
          1.83,
          1.84,
          1.85,
          1.86,
          1.87,
          1.88,
          1.89,
          1.9,
          1.91,
          1.92,
          1.93,
          1.94,
          1.95,
          1.96,
          1.97,
          1.98,
          1.99
         ],
         "y": [
          0.5950847155460852,
          0.5753551034366872,
          0.5782649308756888,
          0.5915071585728175,
          0.5950324315149007,
          0.5504215649741169,
          0.5701180084829601,
          0.5643561764346403,
          0.5164358111376287,
          0.5723599350340409,
          0.5488856279012118,
          0.5608534135187764,
          0.5269313127337678,
          0.515383692886067,
          0.5810297298026017,
          0.5436617516748633,
          0.540640369914083,
          0.5458673194293041,
          0.5498166909024202,
          0.549515786178208,
          0.5248873895039725,
          0.517406650613384,
          0.4749349419596073,
          0.5343112603348936,
          0.4949546056230273,
          0.525901356526398,
          0.49470435069341107,
          0.5279328735580839,
          0.5086754563245205,
          0.4927073542930738,
          0.4844614437390925,
          0.49487574851769606,
          0.49718238030604867,
          0.48058380073330836,
          0.48642167734120934,
          0.49597751121513095,
          0.499572571241713,
          0.4914507088586829,
          0.5145761604563018,
          0.4658645805342576,
          0.469545745226542,
          0.46476353129812825,
          0.4479368435490413,
          0.457566544775219,
          0.45186020836186436,
          0.47131624071309974,
          0.4346343738203665,
          0.44884172689910556,
          0.43681841996436443,
          0.4388331984790631,
          0.48303541249442133,
          0.4655019240689007,
          0.46199571982016413,
          0.4590418582429712,
          0.4120740298720097,
          0.45577352594933274,
          0.44919871853945814,
          0.43385232960012904,
          0.4079196157739497,
          0.43155736149178625,
          0.44236113989007203,
          0.3997780345075062,
          0.4209221351710115,
          0.4139645933553375,
          0.43954181881039933,
          0.43678937499593856,
          0.41263426061438224,
          0.4173589213550277,
          0.4228466451216529,
          0.4057275299838984,
          0.4052793954084487,
          0.3932463886273994,
          0.4044120426415077,
          0.3880993435084943,
          0.39833797496336143,
          0.424909280269659,
          0.3834412145611691,
          0.4136818940752737,
          0.4032347160868993,
          0.39460411291622133,
          0.41533882997943555,
          0.40330719033432105,
          0.3999352148323787,
          0.37257403930124094,
          0.3918858847453576,
          0.40057911520245687,
          0.3871232465215706,
          0.4037311719345282,
          0.3886602480288003,
          0.39639353404455424,
          0.38823867083268154,
          0.38044201456891547,
          0.39917296870232455,
          0.37738014831509875,
          0.3732791502713372,
          0.38769041967121537,
          0.37273417361750677,
          0.3825557978418145,
          0.3865831218618728,
          0.37933911751381294,
          0.3626259156916122,
          0.37024531085491946,
          0.37621886098545676,
          0.36486889661036226,
          0.3624314325100265,
          0.3584564404978646,
          0.3591525778211485,
          0.3808448132088107,
          0.3544432428136906,
          0.3600415294636829,
          0.3723238854871694,
          0.35140223657020736,
          0.3535491130580098,
          0.34407492701531195,
          0.3336244792880533,
          0.3760803854053625,
          0.3631852922827885,
          0.3544553285410254,
          0.3566006852788528,
          0.3453610069252981,
          0.35026077957450236,
          0.34154114884606696,
          0.33026609976055393,
          0.35872717052373043,
          0.33246963530310975,
          0.33130101486807967,
          0.3599363065468291,
          0.31801011357843517,
          0.3330861443616786,
          0.3026828166200049,
          0.33628445481515534,
          0.3382051410633596,
          0.3035682645465946,
          0.3377034673826349,
          0.3363137073538722,
          0.3252503233942127,
          0.3470788463964412,
          0.35088853842116025,
          0.32771243115918036,
          0.3177479407346557,
          0.3372031438898886,
          0.3153263981556168,
          0.34519042662089444,
          0.3342209769178763,
          0.303976374075788,
          0.3414147816728695,
          0.3077770912020634,
          0.32430782832015387,
          0.3306942375745746,
          0.33050254169791654
         ]
        },
        {
         "line": {
          "color": "rgba(200,0,0,1)",
          "width": 2
         },
         "mode": "lines",
         "name": "Predicted",
         "showlegend": true,
         "type": "scatter",
         "x": [
          0.5,
          0.51,
          0.52,
          0.53,
          0.54,
          0.55,
          0.56,
          0.57,
          0.58,
          0.59,
          0.6,
          0.61,
          0.62,
          0.63,
          0.64,
          0.65,
          0.66,
          0.67,
          0.68,
          0.69,
          0.7,
          0.71,
          0.72,
          0.73,
          0.74,
          0.75,
          0.76,
          0.77,
          0.78,
          0.79,
          0.8,
          0.81,
          0.82,
          0.83,
          0.84,
          0.85,
          0.86,
          0.87,
          0.88,
          0.89,
          0.9,
          0.91,
          0.92,
          0.93,
          0.94,
          0.95,
          0.96,
          0.97,
          0.98,
          0.99,
          1,
          1.01,
          1.02,
          1.03,
          1.04,
          1.05,
          1.06,
          1.07,
          1.08,
          1.09,
          1.1,
          1.11,
          1.12,
          1.13,
          1.14,
          1.15,
          1.16,
          1.17,
          1.18,
          1.19,
          1.2,
          1.21,
          1.22,
          1.23,
          1.24,
          1.25,
          1.26,
          1.27,
          1.28,
          1.29,
          1.3,
          1.31,
          1.32,
          1.33,
          1.34,
          1.35,
          1.36,
          1.37,
          1.38,
          1.39,
          1.4,
          1.41,
          1.42,
          1.43,
          1.44,
          1.45,
          1.46,
          1.47,
          1.48,
          1.49,
          1.5,
          1.51,
          1.52,
          1.53,
          1.54,
          1.55,
          1.56,
          1.57,
          1.58,
          1.59,
          1.6,
          1.61,
          1.62,
          1.63,
          1.64,
          1.65,
          1.66,
          1.67,
          1.68,
          1.69,
          1.7,
          1.71,
          1.72,
          1.73,
          1.74,
          1.75,
          1.76,
          1.77,
          1.78,
          1.79,
          1.8,
          1.81,
          1.82,
          1.83,
          1.84,
          1.85,
          1.86,
          1.87,
          1.88,
          1.89,
          1.9,
          1.91,
          1.92,
          1.93,
          1.94,
          1.95,
          1.96,
          1.97,
          1.98,
          1.99
         ],
         "y": [
          0.533333333,
          0.529801325,
          0.526315789,
          0.522875817,
          0.519480519,
          0.516129032,
          0.512820513,
          0.50955414,
          0.506329114,
          0.503144654,
          0.5,
          0.49689441,
          0.49382716,
          0.490797546,
          0.487804878,
          0.484848485,
          0.481927711,
          0.479041916,
          0.476190476,
          0.473372781,
          0.470588235,
          0.467836257,
          0.465116279,
          0.462427746,
          0.459770115,
          0.457142857,
          0.454545455,
          0.451977401,
          0.449438202,
          0.446927374,
          0.444444444,
          0.44198895,
          0.43956044,
          0.43715847,
          0.434782609,
          0.43243243200000003,
          0.430107527,
          0.427807487,
          0.425531915,
          0.423280423,
          0.421052632,
          0.418848168,
          0.416666667,
          0.414507772,
          0.412371134,
          0.41025641,
          0.408163265,
          0.406091371,
          0.404040404,
          0.40201005,
          0.4,
          0.39800995,
          0.396039604,
          0.39408867,
          0.392156863,
          0.390243902,
          0.388349515,
          0.38647343,
          0.384615385,
          0.38277512,
          0.380952381,
          0.379146919,
          0.377358491,
          0.375586854,
          0.373831776,
          0.372093023,
          0.37037037,
          0.368663594,
          0.366972477,
          0.365296804,
          0.363636364,
          0.36199095,
          0.36036036,
          0.358744395,
          0.357142857,
          0.355555556,
          0.353982301,
          0.352422907,
          0.350877193,
          0.349344978,
          0.347826087,
          0.34632034600000006,
          0.344827586,
          0.343347639,
          0.341880342,
          0.340425532,
          0.338983051,
          0.337552743,
          0.336134454,
          0.334728033,
          0.333333333,
          0.331950207,
          0.330578512,
          0.329218107,
          0.327868852,
          0.326530612,
          0.325203252,
          0.32388664,
          0.322580645,
          0.321285141,
          0.32,
          0.3187251,
          0.317460317,
          0.316205534,
          0.31496063,
          0.31372549,
          0.3125,
          0.311284047,
          0.3100775190000001,
          0.308880309,
          0.307692308,
          0.30651341,
          0.305343511,
          0.30418251,
          0.303030303,
          0.301886792,
          0.30075188,
          0.299625468,
          0.298507463,
          0.29739777,
          0.296296296,
          0.295202952,
          0.294117647,
          0.293040293,
          0.291970803,
          0.290909091,
          0.289855072,
          0.28880866399999994,
          0.287769784,
          0.286738351,
          0.285714286,
          0.284697509,
          0.283687943,
          0.282685512,
          0.281690141,
          0.280701754,
          0.27972028,
          0.278745645,
          0.277777778,
          0.276816609,
          0.275862069,
          0.274914089,
          0.273972603,
          0.273037543,
          0.272108844,
          0.271186441,
          0.27027027,
          0.269360269,
          0.268456376,
          0.267558528
         ]
        },
        {
         "line": {
          "color": "rgba(200,0,0,0.25)",
          "width": 2
         },
         "mode": "lines",
         "showlegend": false,
         "type": "scatter",
         "x": [
          0.5,
          0.51,
          0.52,
          0.53,
          0.54,
          0.55,
          0.56,
          0.57,
          0.58,
          0.59,
          0.6,
          0.61,
          0.62,
          0.63,
          0.64,
          0.65,
          0.66,
          0.67,
          0.68,
          0.69,
          0.7,
          0.71,
          0.72,
          0.73,
          0.74,
          0.75,
          0.76,
          0.77,
          0.78,
          0.79,
          0.8,
          0.81,
          0.82,
          0.83,
          0.84,
          0.85,
          0.86,
          0.87,
          0.88,
          0.89,
          0.9,
          0.91,
          0.92,
          0.93,
          0.94,
          0.95,
          0.96,
          0.97,
          0.98,
          0.99,
          1,
          1.01,
          1.02,
          1.03,
          1.04,
          1.05,
          1.06,
          1.07,
          1.08,
          1.09,
          1.1,
          1.11,
          1.12,
          1.13,
          1.14,
          1.15,
          1.16,
          1.17,
          1.18,
          1.19,
          1.2,
          1.21,
          1.22,
          1.23,
          1.24,
          1.25,
          1.26,
          1.27,
          1.28,
          1.29,
          1.3,
          1.31,
          1.32,
          1.33,
          1.34,
          1.35,
          1.36,
          1.37,
          1.38,
          1.39,
          1.4,
          1.41,
          1.42,
          1.43,
          1.44,
          1.45,
          1.46,
          1.47,
          1.48,
          1.49,
          1.5,
          1.51,
          1.52,
          1.53,
          1.54,
          1.55,
          1.56,
          1.57,
          1.58,
          1.59,
          1.6,
          1.61,
          1.62,
          1.63,
          1.64,
          1.65,
          1.66,
          1.67,
          1.68,
          1.69,
          1.7,
          1.71,
          1.72,
          1.73,
          1.74,
          1.75,
          1.76,
          1.77,
          1.78,
          1.79,
          1.8,
          1.81,
          1.82,
          1.83,
          1.84,
          1.85,
          1.86,
          1.87,
          1.88,
          1.89,
          1.9,
          1.91,
          1.92,
          1.93,
          1.94,
          1.95,
          1.96,
          1.97,
          1.98,
          1.99
         ],
         "y": [
          0.533333333,
          0.529801325,
          0.526315789,
          0.522875817,
          0.519480519,
          0.516129032,
          0.512820513,
          0.50955414,
          0.506329114,
          0.503144654,
          0.5,
          0.49689441,
          0.49382716,
          0.490797546,
          0.487804878,
          0.484848485,
          0.481927711,
          0.479041916,
          0.476190476,
          0.473372781,
          0.470588235,
          0.467836257,
          0.465116279,
          0.462427746,
          0.459770115,
          0.457142857,
          0.454545455,
          0.451977401,
          0.449438202,
          0.446927374,
          0.444444444,
          0.44198895,
          0.43956044,
          0.43715847,
          0.434782609,
          0.43243243200000003,
          0.430107527,
          0.427807487,
          0.425531915,
          0.423280423,
          0.421052632,
          0.418848168,
          0.416666667,
          0.414507772,
          0.412371134,
          0.41025641,
          0.408163265,
          0.406091371,
          0.404040404,
          0.40201005,
          0.4,
          0.39800995,
          0.396039604,
          0.39408867,
          0.392156863,
          0.390243902,
          0.388349515,
          0.38647343,
          0.384615385,
          0.38277512,
          0.380952381,
          0.379146919,
          0.377358491,
          0.375586854,
          0.373831776,
          0.372093023,
          0.37037037,
          0.368663594,
          0.366972477,
          0.365296804,
          0.363636364,
          0.36199095,
          0.36036036,
          0.358744395,
          0.357142857,
          0.355555556,
          0.353982301,
          0.352422907,
          0.350877193,
          0.349344978,
          0.347826087,
          0.34632034600000006,
          0.344827586,
          0.343347639,
          0.341880342,
          0.340425532,
          0.338983051,
          0.337552743,
          0.336134454,
          0.334728033,
          0.333333333,
          0.331950207,
          0.330578512,
          0.329218107,
          0.327868852,
          0.326530612,
          0.325203252,
          0.32388664,
          0.322580645,
          0.321285141,
          0.32,
          0.3187251,
          0.317460317,
          0.316205534,
          0.31496063,
          0.31372549,
          0.3125,
          0.311284047,
          0.3100775190000001,
          0.308880309,
          0.307692308,
          0.30651341,
          0.305343511,
          0.30418251,
          0.303030303,
          0.301886792,
          0.30075188,
          0.299625468,
          0.298507463,
          0.29739777,
          0.296296296,
          0.295202952,
          0.294117647,
          0.293040293,
          0.291970803,
          0.290909091,
          0.289855072,
          0.28880866399999994,
          0.287769784,
          0.286738351,
          0.285714286,
          0.284697509,
          0.283687943,
          0.282685512,
          0.281690141,
          0.280701754,
          0.27972028,
          0.278745645,
          0.277777778,
          0.276816609,
          0.275862069,
          0.274914089,
          0.273972603,
          0.273037543,
          0.272108844,
          0.271186441,
          0.27027027,
          0.269360269,
          0.268456376,
          0.267558528
         ]
        },
        {
         "fill": "tonexty",
         "fillcolor": "rgba(68, 68, 68, 0.2)",
         "line": {
          "color": "rgba(200,0,0,0.25)",
          "width": 2
         },
         "mode": "lines",
         "showlegend": false,
         "type": "scatter",
         "x": [
          0.5,
          0.51,
          0.52,
          0.53,
          0.54,
          0.55,
          0.56,
          0.57,
          0.58,
          0.59,
          0.6,
          0.61,
          0.62,
          0.63,
          0.64,
          0.65,
          0.66,
          0.67,
          0.68,
          0.69,
          0.7,
          0.71,
          0.72,
          0.73,
          0.74,
          0.75,
          0.76,
          0.77,
          0.78,
          0.79,
          0.8,
          0.81,
          0.82,
          0.83,
          0.84,
          0.85,
          0.86,
          0.87,
          0.88,
          0.89,
          0.9,
          0.91,
          0.92,
          0.93,
          0.94,
          0.95,
          0.96,
          0.97,
          0.98,
          0.99,
          1,
          1.01,
          1.02,
          1.03,
          1.04,
          1.05,
          1.06,
          1.07,
          1.08,
          1.09,
          1.1,
          1.11,
          1.12,
          1.13,
          1.14,
          1.15,
          1.16,
          1.17,
          1.18,
          1.19,
          1.2,
          1.21,
          1.22,
          1.23,
          1.24,
          1.25,
          1.26,
          1.27,
          1.28,
          1.29,
          1.3,
          1.31,
          1.32,
          1.33,
          1.34,
          1.35,
          1.36,
          1.37,
          1.38,
          1.39,
          1.4,
          1.41,
          1.42,
          1.43,
          1.44,
          1.45,
          1.46,
          1.47,
          1.48,
          1.49,
          1.5,
          1.51,
          1.52,
          1.53,
          1.54,
          1.55,
          1.56,
          1.57,
          1.58,
          1.59,
          1.6,
          1.61,
          1.62,
          1.63,
          1.64,
          1.65,
          1.66,
          1.67,
          1.68,
          1.69,
          1.7,
          1.71,
          1.72,
          1.73,
          1.74,
          1.75,
          1.76,
          1.77,
          1.78,
          1.79,
          1.8,
          1.81,
          1.82,
          1.83,
          1.84,
          1.85,
          1.86,
          1.87,
          1.88,
          1.89,
          1.9,
          1.91,
          1.92,
          1.93,
          1.94,
          1.95,
          1.96,
          1.97,
          1.98,
          1.99
         ],
         "y": [
          0.533333333,
          0.529801325,
          0.526315789,
          0.522875817,
          0.519480519,
          0.516129032,
          0.512820513,
          0.50955414,
          0.506329114,
          0.503144654,
          0.5,
          0.49689441,
          0.49382716,
          0.490797546,
          0.487804878,
          0.484848485,
          0.481927711,
          0.479041916,
          0.476190476,
          0.473372781,
          0.470588235,
          0.467836257,
          0.465116279,
          0.462427746,
          0.459770115,
          0.457142857,
          0.454545455,
          0.451977401,
          0.449438202,
          0.446927374,
          0.444444444,
          0.44198895,
          0.43956044,
          0.43715847,
          0.434782609,
          0.43243243200000003,
          0.430107527,
          0.427807487,
          0.425531915,
          0.423280423,
          0.421052632,
          0.418848168,
          0.416666667,
          0.414507772,
          0.412371134,
          0.41025641,
          0.408163265,
          0.406091371,
          0.404040404,
          0.40201005,
          0.4,
          0.39800995,
          0.396039604,
          0.39408867,
          0.392156863,
          0.390243902,
          0.388349515,
          0.38647343,
          0.384615385,
          0.38277512,
          0.380952381,
          0.379146919,
          0.377358491,
          0.375586854,
          0.373831776,
          0.372093023,
          0.37037037,
          0.368663594,
          0.366972477,
          0.365296804,
          0.363636364,
          0.36199095,
          0.36036036,
          0.358744395,
          0.357142857,
          0.355555556,
          0.353982301,
          0.352422907,
          0.350877193,
          0.349344978,
          0.347826087,
          0.34632034600000006,
          0.344827586,
          0.343347639,
          0.341880342,
          0.340425532,
          0.338983051,
          0.337552743,
          0.336134454,
          0.334728033,
          0.333333333,
          0.331950207,
          0.330578512,
          0.329218107,
          0.327868852,
          0.326530612,
          0.325203252,
          0.32388664,
          0.322580645,
          0.321285141,
          0.32,
          0.3187251,
          0.317460317,
          0.316205534,
          0.31496063,
          0.31372549,
          0.3125,
          0.311284047,
          0.3100775190000001,
          0.308880309,
          0.307692308,
          0.30651341,
          0.305343511,
          0.30418251,
          0.303030303,
          0.301886792,
          0.30075188,
          0.299625468,
          0.298507463,
          0.29739777,
          0.296296296,
          0.295202952,
          0.294117647,
          0.293040293,
          0.291970803,
          0.290909091,
          0.289855072,
          0.28880866399999994,
          0.287769784,
          0.286738351,
          0.285714286,
          0.284697509,
          0.283687943,
          0.282685512,
          0.281690141,
          0.280701754,
          0.27972028,
          0.278745645,
          0.277777778,
          0.276816609,
          0.275862069,
          0.274914089,
          0.273972603,
          0.273037543,
          0.272108844,
          0.271186441,
          0.27027027,
          0.269360269,
          0.268456376,
          0.267558528
         ]
        },
        {
         "line": {
          "color": "rgba(0,0,200,1)",
          "width": 2
         },
         "mode": "lines",
         "name": "Realised",
         "showlegend": true,
         "type": "scatter",
         "x": [
          0.5,
          0.51,
          0.52,
          0.53,
          0.54,
          0.55,
          0.56,
          0.57,
          0.58,
          0.59,
          0.6,
          0.61,
          0.62,
          0.63,
          0.64,
          0.65,
          0.66,
          0.67,
          0.68,
          0.69,
          0.7,
          0.71,
          0.72,
          0.73,
          0.74,
          0.75,
          0.76,
          0.77,
          0.78,
          0.79,
          0.8,
          0.81,
          0.82,
          0.83,
          0.84,
          0.85,
          0.86,
          0.87,
          0.88,
          0.89,
          0.9,
          0.91,
          0.92,
          0.93,
          0.94,
          0.95,
          0.96,
          0.97,
          0.98,
          0.99,
          1,
          1.01,
          1.02,
          1.03,
          1.04,
          1.05,
          1.06,
          1.07,
          1.08,
          1.09,
          1.1,
          1.11,
          1.12,
          1.13,
          1.14,
          1.15,
          1.16,
          1.17,
          1.18,
          1.19,
          1.2,
          1.21,
          1.22,
          1.23,
          1.24,
          1.25,
          1.26,
          1.27,
          1.28,
          1.29,
          1.3,
          1.31,
          1.32,
          1.33,
          1.34,
          1.35,
          1.36,
          1.37,
          1.38,
          1.39,
          1.4,
          1.41,
          1.42,
          1.43,
          1.44,
          1.45,
          1.46,
          1.47,
          1.48,
          1.49,
          1.5,
          1.51,
          1.52,
          1.53,
          1.54,
          1.55,
          1.56,
          1.57,
          1.58,
          1.59,
          1.6,
          1.61,
          1.62,
          1.63,
          1.64,
          1.65,
          1.66,
          1.67,
          1.68,
          1.69,
          1.7,
          1.71,
          1.72,
          1.73,
          1.74,
          1.75,
          1.76,
          1.77,
          1.78,
          1.79,
          1.8,
          1.81,
          1.82,
          1.83,
          1.84,
          1.85,
          1.86,
          1.87,
          1.88,
          1.89,
          1.9,
          1.91,
          1.92,
          1.93,
          1.94,
          1.95,
          1.96,
          1.97,
          1.98,
          1.99
         ],
         "y": [
          0.40667894239999997,
          0.37188276060000003,
          0.4030713052,
          0.435478387,
          0.4304424065,
          0.40453960289999996,
          0.42277027229999997,
          0.4250205499,
          0.38782326390000005,
          0.44864579309999997,
          0.4411487669,
          0.4571032741,
          0.4321324915,
          0.4162283593,
          0.4836049662,
          0.45972462869999997,
          0.4573769277,
          0.4794478954,
          0.492752831,
          0.4792523957,
          0.4659341344,
          0.4556397828,
          0.4270976274,
          0.50585526,
          0.46342483770000004,
          0.5034309681,
          0.4775221024,
          0.5104877681,
          0.49293754100000003,
          0.49511730340000004,
          0.4784582125,
          0.5039110465,
          0.5253523563,
          0.4993110863,
          0.5078305034,
          0.5244429754000001,
          0.5410695502,
          0.5292953169,
          0.5379953547,
          0.5199155393,
          0.5162303195,
          0.5261816123999999,
          0.5038827508,
          0.529433413,
          0.5217398627000001,
          0.539717582,
          0.5194970687,
          0.5371205468000001,
          0.5293484568,
          0.529301594,
          0.555678788,
          0.5533934021,
          0.5639995741,
          0.5534839954999999,
          0.5223896871,
          0.5646335286999999,
          0.5534233884,
          0.5626421354000001,
          0.5285101736000001,
          0.5806318714,
          0.5812472917,
          0.5518065342999999,
          0.5781826492000001,
          0.5503204397,
          0.5931472616,
          0.5815780236000001,
          0.5745631888,
          0.5798489244,
          0.5746844155999999,
          0.5748452211999999,
          0.580797697,
          0.5748498818000001,
          0.5716899198,
          0.5561767638,
          0.5765869338,
          0.6066168612,
          0.5672865667,
          0.5922243343,
          0.5935680571,
          0.6053292290000001,
          0.6037829404,
          0.612007017,
          0.604747516,
          0.591474899,
          0.603647112,
          0.6354963695,
          0.5929402745,
          0.6355097844,
          0.6111404761,
          0.6023188585,
          0.612007278,
          0.6175569413,
          0.6368451546999999,
          0.6196488419999999,
          0.6052869531,
          0.6348970552,
          0.6097262024000001,
          0.6106341796,
          0.6355423631,
          0.6394932955,
          0.616704521,
          0.6320534938,
          0.6361737817,
          0.6307207517,
          0.6293840411999999,
          0.6216018381,
          0.6187540718,
          0.6605514514999999,
          0.6206104741,
          0.6414910689,
          0.6471508064,
          0.6256177202000001,
          0.6523582569,
          0.6323539731,
          0.6423729658,
          0.6578822977,
          0.6429989738,
          0.6550216784,
          0.648757688,
          0.6329248078,
          0.6437282487,
          0.6461056014,
          0.6374152501,
          0.6670773924,
          0.6526404792,
          0.6536259675999999,
          0.6841685707,
          0.6398748395,
          0.6601093703,
          0.6364731269,
          0.658341261,
          0.6651256761,
          0.6243005769,
          0.6772827166,
          0.6567645892,
          0.6639004477,
          0.6952249184999999,
          0.6990594344,
          0.6719496115000001,
          0.6604346180999999,
          0.6724813479,
          0.6777771651000001,
          0.6785881697,
          0.6864499514,
          0.659997017,
          0.6951495593,
          0.6693121464999999,
          0.6915823687,
          0.6817478612,
          0.6835958730999999
         ]
        },
        {
         "line": {
          "color": "rgba(0,0,200,0.25)",
          "width": 2
         },
         "mode": "lines",
         "showlegend": false,
         "type": "scatter",
         "x": [
          0.5,
          0.51,
          0.52,
          0.53,
          0.54,
          0.55,
          0.56,
          0.57,
          0.58,
          0.59,
          0.6,
          0.61,
          0.62,
          0.63,
          0.64,
          0.65,
          0.66,
          0.67,
          0.68,
          0.69,
          0.7,
          0.71,
          0.72,
          0.73,
          0.74,
          0.75,
          0.76,
          0.77,
          0.78,
          0.79,
          0.8,
          0.81,
          0.82,
          0.83,
          0.84,
          0.85,
          0.86,
          0.87,
          0.88,
          0.89,
          0.9,
          0.91,
          0.92,
          0.93,
          0.94,
          0.95,
          0.96,
          0.97,
          0.98,
          0.99,
          1,
          1.01,
          1.02,
          1.03,
          1.04,
          1.05,
          1.06,
          1.07,
          1.08,
          1.09,
          1.1,
          1.11,
          1.12,
          1.13,
          1.14,
          1.15,
          1.16,
          1.17,
          1.18,
          1.19,
          1.2,
          1.21,
          1.22,
          1.23,
          1.24,
          1.25,
          1.26,
          1.27,
          1.28,
          1.29,
          1.3,
          1.31,
          1.32,
          1.33,
          1.34,
          1.35,
          1.36,
          1.37,
          1.38,
          1.39,
          1.4,
          1.41,
          1.42,
          1.43,
          1.44,
          1.45,
          1.46,
          1.47,
          1.48,
          1.49,
          1.5,
          1.51,
          1.52,
          1.53,
          1.54,
          1.55,
          1.56,
          1.57,
          1.58,
          1.59,
          1.6,
          1.61,
          1.62,
          1.63,
          1.64,
          1.65,
          1.66,
          1.67,
          1.68,
          1.69,
          1.7,
          1.71,
          1.72,
          1.73,
          1.74,
          1.75,
          1.76,
          1.77,
          1.78,
          1.79,
          1.8,
          1.81,
          1.82,
          1.83,
          1.84,
          1.85,
          1.86,
          1.87,
          1.88,
          1.89,
          1.9,
          1.91,
          1.92,
          1.93,
          1.94,
          1.95,
          1.96,
          1.97,
          1.98,
          1.99
         ],
         "y": [
          0.40760606439632197,
          0.3724342914448252,
          0.4040672984516187,
          0.4363651132684974,
          0.43088021918470654,
          0.40512776399043565,
          0.4236927842728146,
          0.4256097921802073,
          0.3884824045358445,
          0.4491463073188158,
          0.4417701045207657,
          0.4577603145560949,
          0.4326614958621037,
          0.4170390181053325,
          0.4840827756995776,
          0.46065342400356124,
          0.4580904488802872,
          0.48036183599347354,
          0.49345418689475873,
          0.4798669242208759,
          0.4665454385956269,
          0.45644157875621777,
          0.4279276388810649,
          0.5066240461547488,
          0.4642633875126617,
          0.5042472062359864,
          0.47819692716670886,
          0.5115053020339406,
          0.49368716126162454,
          0.49569961406306795,
          0.4793248026401087,
          0.5043720030132421,
          0.5261880882767337,
          0.5001871865648497,
          0.5082863482502443,
          0.5250608039956594,
          0.5416223216051085,
          0.5299032827953637,
          0.5388950603070407,
          0.5208090195931411,
          0.5170040255421617,
          0.5264569671050167,
          0.5047434322986165,
          0.5301026422021561,
          0.5225635176124385,
          0.540328462977783,
          0.5198483846631019,
          0.5377291517249628,
          0.5298759397734761,
          0.5299694531285637,
          0.5562673733692668,
          0.5538782072376133,
          0.5649177725586451,
          0.5543909092730516,
          0.5230030163212449,
          0.565389796208178,
          0.5539693509998876,
          0.5634257764689815,
          0.529240747515396,
          0.5810611120833964,
          0.5817937506476253,
          0.5522765133760559,
          0.5788100931043539,
          0.5509177219949339,
          0.5939492957830812,
          0.5820880524955213,
          0.575452236429921,
          0.5804855043017332,
          0.5755665299658589,
          0.5755023412975688,
          0.58148108899692,
          0.5756449427525058,
          0.5723446398208969,
          0.5567708123110683,
          0.5772537531565091,
          0.606992962467555,
          0.5678718926948908,
          0.592636331846941,
          0.5942755484371491,
          0.6058040011927865,
          0.6043203976335947,
          0.6126646944729469,
          0.6052353782265562,
          0.5921902479593554,
          0.6042039813281529,
          0.6362927694995424,
          0.5937515573647622,
          0.63597988318,
          0.6116952517082518,
          0.6032015201248622,
          0.6127401096779804,
          0.6180386713871266,
          0.6374445315413045,
          0.6202283586351537,
          0.6060485680149914,
          0.6352892851006297,
          0.6103422376252605,
          0.6115361958457148,
          0.636276494899591,
          0.640098329348088,
          0.6172414187621188,
          0.6327698284600414,
          0.6367561411702528,
          0.6311835038238113,
          0.62997231696857,
          0.6220555998959049,
          0.6192486825263164,
          0.661067732158859,
          0.621042091238923,
          0.6420939513576198,
          0.647629980665166,
          0.6260479323837864,
          0.6527967650228146,
          0.6328047993091312,
          0.643024609449354,
          0.6584927833157062,
          0.6435682298340317,
          0.6555160910607922,
          0.649141481503675,
          0.6336705026530719,
          0.6442349656697902,
          0.6467901168073751,
          0.6379313883948965,
          0.6675204891116605,
          0.653118185032151,
          0.6541755584852025,
          0.68460437417762,
          0.6400910048992986,
          0.6605368326474841,
          0.6371338719976073,
          0.6587784680734486,
          0.6657665092813229,
          0.6246344713913896,
          0.6778750513048304,
          0.6571710193623672,
          0.6644925925288488,
          0.6956454353334017,
          0.6995162009328385,
          0.6723457810656108,
          0.6609544428546673,
          0.6731510159227166,
          0.6784211139488309,
          0.6793737981751133,
          0.6869828922154241,
          0.660238875704333,
          0.6955618487819967,
          0.6698250087781344,
          0.6921748663982062,
          0.6824494585965087,
          0.6840345390277286
         ]
        },
        {
         "fill": "tonexty",
         "fillcolor": "rgba(68, 68, 68, 0.2)",
         "line": {
          "color": "rgba(0,0,200,0.25)",
          "width": 2
         },
         "mode": "lines",
         "showlegend": false,
         "type": "scatter",
         "x": [
          0.5,
          0.51,
          0.52,
          0.53,
          0.54,
          0.55,
          0.56,
          0.57,
          0.58,
          0.59,
          0.6,
          0.61,
          0.62,
          0.63,
          0.64,
          0.65,
          0.66,
          0.67,
          0.68,
          0.69,
          0.7,
          0.71,
          0.72,
          0.73,
          0.74,
          0.75,
          0.76,
          0.77,
          0.78,
          0.79,
          0.8,
          0.81,
          0.82,
          0.83,
          0.84,
          0.85,
          0.86,
          0.87,
          0.88,
          0.89,
          0.9,
          0.91,
          0.92,
          0.93,
          0.94,
          0.95,
          0.96,
          0.97,
          0.98,
          0.99,
          1,
          1.01,
          1.02,
          1.03,
          1.04,
          1.05,
          1.06,
          1.07,
          1.08,
          1.09,
          1.1,
          1.11,
          1.12,
          1.13,
          1.14,
          1.15,
          1.16,
          1.17,
          1.18,
          1.19,
          1.2,
          1.21,
          1.22,
          1.23,
          1.24,
          1.25,
          1.26,
          1.27,
          1.28,
          1.29,
          1.3,
          1.31,
          1.32,
          1.33,
          1.34,
          1.35,
          1.36,
          1.37,
          1.38,
          1.39,
          1.4,
          1.41,
          1.42,
          1.43,
          1.44,
          1.45,
          1.46,
          1.47,
          1.48,
          1.49,
          1.5,
          1.51,
          1.52,
          1.53,
          1.54,
          1.55,
          1.56,
          1.57,
          1.58,
          1.59,
          1.6,
          1.61,
          1.62,
          1.63,
          1.64,
          1.65,
          1.66,
          1.67,
          1.68,
          1.69,
          1.7,
          1.71,
          1.72,
          1.73,
          1.74,
          1.75,
          1.76,
          1.77,
          1.78,
          1.79,
          1.8,
          1.81,
          1.82,
          1.83,
          1.84,
          1.85,
          1.86,
          1.87,
          1.88,
          1.89,
          1.9,
          1.91,
          1.92,
          1.93,
          1.94,
          1.95,
          1.96,
          1.97,
          1.98,
          1.99
         ],
         "y": [
          0.40575182040367797,
          0.37133122975517485,
          0.4020753119483813,
          0.4345916607315026,
          0.43000459381529343,
          0.40395144180956427,
          0.42184776032718535,
          0.4244313076197927,
          0.3871641232641556,
          0.44814527888118416,
          0.4405274292792343,
          0.45644623364390513,
          0.4316034871378963,
          0.41541770049466753,
          0.4831271567004224,
          0.4587958333964387,
          0.45666340651971277,
          0.47853395480652644,
          0.4920514751052413,
          0.4786378671791241,
          0.46532283020437304,
          0.45483798684378224,
          0.42626761591893514,
          0.5050864738452513,
          0.46258628788733835,
          0.5026147299640136,
          0.4768472776332911,
          0.5094702341660593,
          0.49218792073837553,
          0.49453499273693213,
          0.4775916223598913,
          0.5034500899867578,
          0.5245166243232663,
          0.4984349860351503,
          0.5073746585497557,
          0.5238251468043408,
          0.5405167787948916,
          0.5286873510046363,
          0.5370956490929594,
          0.5190220590068589,
          0.5154566134578382,
          0.5259062576949832,
          0.5030220693013835,
          0.528764183797844,
          0.5209162077875616,
          0.5391067010222169,
          0.5191457527368981,
          0.5365119418750374,
          0.5288209738265238,
          0.5286337348714363,
          0.5550902026307333,
          0.5529085969623867,
          0.563081375641355,
          0.5525770817269483,
          0.5217763578787551,
          0.5638772611918219,
          0.5528774258001125,
          0.5618584943310186,
          0.5277795996846042,
          0.5802026307166037,
          0.5807008327523747,
          0.551336555223944,
          0.5775552052956462,
          0.549723157405066,
          0.5923452274169188,
          0.5810679947044789,
          0.573674141170079,
          0.5792123444982669,
          0.573802301234141,
          0.574188101102431,
          0.5801143050030799,
          0.5740548208474944,
          0.571035199779103,
          0.5555827152889318,
          0.575920114443491,
          0.6062407599324451,
          0.5667012407051092,
          0.591812336753059,
          0.592860565762851,
          0.6048544568072136,
          0.6032454831664054,
          0.6113493395270532,
          0.6042596537734438,
          0.5907595500406447,
          0.6030902426718471,
          0.6346999695004576,
          0.5921289916352378,
          0.6350396856200001,
          0.6105857004917482,
          0.6014361968751378,
          0.6112744463220195,
          0.6170752112128735,
          0.6362457778586953,
          0.6190693253648462,
          0.6045253381850086,
          0.6345048252993702,
          0.6091101671747396,
          0.6097321633542852,
          0.634808231300409,
          0.638888261651912,
          0.6161676232378811,
          0.6313371591399586,
          0.6355914222297473,
          0.6302579995761887,
          0.6287957654314298,
          0.6211480763040952,
          0.6182594610736836,
          0.6600351708411409,
          0.6201788569610771,
          0.6408881864423801,
          0.646671632134834,
          0.6251875080162137,
          0.6519197487771855,
          0.6319031468908687,
          0.641721322150646,
          0.6572718120842937,
          0.6424297177659684,
          0.6545272657392078,
          0.648373894496325,
          0.6321791129469282,
          0.6432215317302098,
          0.6454210859926248,
          0.6368991118051035,
          0.6666342956883394,
          0.652162773367849,
          0.6530763767147973,
          0.6837327672223801,
          0.6396586741007014,
          0.659681907952516,
          0.6358123818023927,
          0.6579040539265514,
          0.664484842918677,
          0.6239666824086103,
          0.6766903818951695,
          0.6563581590376328,
          0.6633083028711512,
          0.6948044016665981,
          0.6986026678671614,
          0.6715534419343894,
          0.6599147933453325,
          0.6718116798772834,
          0.6771332162511693,
          0.6778025412248867,
          0.6859170105845759,
          0.659755158295667,
          0.6947372698180033,
          0.6687992842218654,
          0.6909898710017938,
          0.6810462638034912,
          0.6831572071722712
         ]
        },
        {
         "line": {
          "color": "rgba(0,0,200,1)",
          "width": 2
         },
         "mode": "lines",
         "name": "Predicted",
         "showlegend": true,
         "type": "scatter",
         "x": [
          0.5,
          0.51,
          0.52,
          0.53,
          0.54,
          0.55,
          0.56,
          0.57,
          0.58,
          0.59,
          0.6,
          0.61,
          0.62,
          0.63,
          0.64,
          0.65,
          0.66,
          0.67,
          0.68,
          0.69,
          0.7,
          0.71,
          0.72,
          0.73,
          0.74,
          0.75,
          0.76,
          0.77,
          0.78,
          0.79,
          0.8,
          0.81,
          0.82,
          0.83,
          0.84,
          0.85,
          0.86,
          0.87,
          0.88,
          0.89,
          0.9,
          0.91,
          0.92,
          0.93,
          0.94,
          0.95,
          0.96,
          0.97,
          0.98,
          0.99,
          1,
          1.01,
          1.02,
          1.03,
          1.04,
          1.05,
          1.06,
          1.07,
          1.08,
          1.09,
          1.1,
          1.11,
          1.12,
          1.13,
          1.14,
          1.15,
          1.16,
          1.17,
          1.18,
          1.19,
          1.2,
          1.21,
          1.22,
          1.23,
          1.24,
          1.25,
          1.26,
          1.27,
          1.28,
          1.29,
          1.3,
          1.31,
          1.32,
          1.33,
          1.34,
          1.35,
          1.36,
          1.37,
          1.38,
          1.39,
          1.4,
          1.41,
          1.42,
          1.43,
          1.44,
          1.45,
          1.46,
          1.47,
          1.48,
          1.49,
          1.5,
          1.51,
          1.52,
          1.53,
          1.54,
          1.55,
          1.56,
          1.57,
          1.58,
          1.59,
          1.6,
          1.61,
          1.62,
          1.63,
          1.64,
          1.65,
          1.66,
          1.67,
          1.68,
          1.69,
          1.7,
          1.71,
          1.72,
          1.73,
          1.74,
          1.75,
          1.76,
          1.77,
          1.78,
          1.79,
          1.8,
          1.81,
          1.82,
          1.83,
          1.84,
          1.85,
          1.86,
          1.87,
          1.88,
          1.89,
          1.9,
          1.91,
          1.92,
          1.93,
          1.94,
          1.95,
          1.96,
          1.97,
          1.98,
          1.99
         ],
         "y": [
          0.46666666700000003,
          0.470198675,
          0.473684211,
          0.47712418300000004,
          0.48051948099999997,
          0.48387096799999996,
          0.487179487,
          0.49044586,
          0.493670886,
          0.49685534600000003,
          0.5,
          0.50310559,
          0.5061728400000001,
          0.509202454,
          0.5121951220000001,
          0.515151515,
          0.518072289,
          0.520958084,
          0.523809524,
          0.526627219,
          0.529411765,
          0.532163743,
          0.5348837209999999,
          0.5375722540000001,
          0.540229885,
          0.542857143,
          0.545454545,
          0.548022599,
          0.5505617979999999,
          0.5530726260000001,
          0.5555555560000001,
          0.55801105,
          0.5604395600000001,
          0.56284153,
          0.565217391,
          0.5675675680000001,
          0.569892473,
          0.5721925130000001,
          0.574468085,
          0.576719577,
          0.578947368,
          0.581151832,
          0.583333333,
          0.585492228,
          0.587628866,
          0.5897435900000001,
          0.591836735,
          0.593908629,
          0.5959595959999999,
          0.59798995,
          0.6,
          0.6019900499999999,
          0.603960396,
          0.6059113300000001,
          0.6078431369999999,
          0.6097560980000001,
          0.611650485,
          0.61352657,
          0.615384615,
          0.61722488,
          0.619047619,
          0.620853081,
          0.6226415089999999,
          0.624413146,
          0.6261682239999999,
          0.627906977,
          0.6296296299999999,
          0.631336406,
          0.633027523,
          0.634703196,
          0.636363636,
          0.63800905,
          0.63963964,
          0.641255605,
          0.6428571430000001,
          0.644444444,
          0.646017699,
          0.647577093,
          0.6491228070000001,
          0.650655022,
          0.6521739129999999,
          0.653679654,
          0.6551724139999999,
          0.656652361,
          0.6581196579999999,
          0.659574468,
          0.661016949,
          0.662447257,
          0.663865546,
          0.665271967,
          0.666666667,
          0.668049793,
          0.669421488,
          0.670781893,
          0.6721311480000001,
          0.673469388,
          0.674796748,
          0.67611336,
          0.6774193550000001,
          0.6787148590000001,
          0.6799999999999999,
          0.6812749,
          0.682539683,
          0.6837944659999999,
          0.6850393699999999,
          0.6862745100000001,
          0.6875,
          0.688715953,
          0.689922481,
          0.6911196909999999,
          0.692307692,
          0.69348659,
          0.694656489,
          0.69581749,
          0.696969697,
          0.698113208,
          0.6992481199999999,
          0.700374532,
          0.7014925370000001,
          0.70260223,
          0.703703704,
          0.704797048,
          0.705882353,
          0.706959707,
          0.708029197,
          0.7090909089999999,
          0.7101449280000001,
          0.711191336,
          0.712230216,
          0.713261649,
          0.7142857140000001,
          0.715302491,
          0.716312057,
          0.717314488,
          0.718309859,
          0.7192982459999999,
          0.72027972,
          0.721254355,
          0.7222222220000001,
          0.7231833910000001,
          0.724137931,
          0.7250859110000001,
          0.726027397,
          0.726962457,
          0.727891156,
          0.728813559,
          0.7297297300000001,
          0.730639731,
          0.731543624,
          0.732441472
         ]
        },
        {
         "line": {
          "color": "rgba(0,0,200,0.25)",
          "width": 2
         },
         "mode": "lines",
         "showlegend": false,
         "type": "scatter",
         "x": [
          0.5,
          0.51,
          0.52,
          0.53,
          0.54,
          0.55,
          0.56,
          0.57,
          0.58,
          0.59,
          0.6,
          0.61,
          0.62,
          0.63,
          0.64,
          0.65,
          0.66,
          0.67,
          0.68,
          0.69,
          0.7,
          0.71,
          0.72,
          0.73,
          0.74,
          0.75,
          0.76,
          0.77,
          0.78,
          0.79,
          0.8,
          0.81,
          0.82,
          0.83,
          0.84,
          0.85,
          0.86,
          0.87,
          0.88,
          0.89,
          0.9,
          0.91,
          0.92,
          0.93,
          0.94,
          0.95,
          0.96,
          0.97,
          0.98,
          0.99,
          1,
          1.01,
          1.02,
          1.03,
          1.04,
          1.05,
          1.06,
          1.07,
          1.08,
          1.09,
          1.1,
          1.11,
          1.12,
          1.13,
          1.14,
          1.15,
          1.16,
          1.17,
          1.18,
          1.19,
          1.2,
          1.21,
          1.22,
          1.23,
          1.24,
          1.25,
          1.26,
          1.27,
          1.28,
          1.29,
          1.3,
          1.31,
          1.32,
          1.33,
          1.34,
          1.35,
          1.36,
          1.37,
          1.38,
          1.39,
          1.4,
          1.41,
          1.42,
          1.43,
          1.44,
          1.45,
          1.46,
          1.47,
          1.48,
          1.49,
          1.5,
          1.51,
          1.52,
          1.53,
          1.54,
          1.55,
          1.56,
          1.57,
          1.58,
          1.59,
          1.6,
          1.61,
          1.62,
          1.63,
          1.64,
          1.65,
          1.66,
          1.67,
          1.68,
          1.69,
          1.7,
          1.71,
          1.72,
          1.73,
          1.74,
          1.75,
          1.76,
          1.77,
          1.78,
          1.79,
          1.8,
          1.81,
          1.82,
          1.83,
          1.84,
          1.85,
          1.86,
          1.87,
          1.88,
          1.89,
          1.9,
          1.91,
          1.92,
          1.93,
          1.94,
          1.95,
          1.96,
          1.97,
          1.98,
          1.99
         ],
         "y": [
          0.46666666700000003,
          0.470198675,
          0.473684211,
          0.47712418300000004,
          0.48051948099999997,
          0.48387096799999996,
          0.487179487,
          0.49044586,
          0.493670886,
          0.49685534600000003,
          0.5,
          0.50310559,
          0.5061728400000001,
          0.509202454,
          0.5121951220000001,
          0.515151515,
          0.518072289,
          0.520958084,
          0.523809524,
          0.526627219,
          0.529411765,
          0.532163743,
          0.5348837209999999,
          0.5375722540000001,
          0.540229885,
          0.542857143,
          0.545454545,
          0.548022599,
          0.5505617979999999,
          0.5530726260000001,
          0.5555555560000001,
          0.55801105,
          0.5604395600000001,
          0.56284153,
          0.565217391,
          0.5675675680000001,
          0.569892473,
          0.5721925130000001,
          0.574468085,
          0.576719577,
          0.578947368,
          0.581151832,
          0.583333333,
          0.585492228,
          0.587628866,
          0.5897435900000001,
          0.591836735,
          0.593908629,
          0.5959595959999999,
          0.59798995,
          0.6,
          0.6019900499999999,
          0.603960396,
          0.6059113300000001,
          0.6078431369999999,
          0.6097560980000001,
          0.611650485,
          0.61352657,
          0.615384615,
          0.61722488,
          0.619047619,
          0.620853081,
          0.6226415089999999,
          0.624413146,
          0.6261682239999999,
          0.627906977,
          0.6296296299999999,
          0.631336406,
          0.633027523,
          0.634703196,
          0.636363636,
          0.63800905,
          0.63963964,
          0.641255605,
          0.6428571430000001,
          0.644444444,
          0.646017699,
          0.647577093,
          0.6491228070000001,
          0.650655022,
          0.6521739129999999,
          0.653679654,
          0.6551724139999999,
          0.656652361,
          0.6581196579999999,
          0.659574468,
          0.661016949,
          0.662447257,
          0.663865546,
          0.665271967,
          0.666666667,
          0.668049793,
          0.669421488,
          0.670781893,
          0.6721311480000001,
          0.673469388,
          0.674796748,
          0.67611336,
          0.6774193550000001,
          0.6787148590000001,
          0.6799999999999999,
          0.6812749,
          0.682539683,
          0.6837944659999999,
          0.6850393699999999,
          0.6862745100000001,
          0.6875,
          0.688715953,
          0.689922481,
          0.6911196909999999,
          0.692307692,
          0.69348659,
          0.694656489,
          0.69581749,
          0.696969697,
          0.698113208,
          0.6992481199999999,
          0.700374532,
          0.7014925370000001,
          0.70260223,
          0.703703704,
          0.704797048,
          0.705882353,
          0.706959707,
          0.708029197,
          0.7090909089999999,
          0.7101449280000001,
          0.711191336,
          0.712230216,
          0.713261649,
          0.7142857140000001,
          0.715302491,
          0.716312057,
          0.717314488,
          0.718309859,
          0.7192982459999999,
          0.72027972,
          0.721254355,
          0.7222222220000001,
          0.7231833910000001,
          0.724137931,
          0.7250859110000001,
          0.726027397,
          0.726962457,
          0.727891156,
          0.728813559,
          0.7297297300000001,
          0.730639731,
          0.731543624,
          0.732441472
         ]
        },
        {
         "fill": "tonexty",
         "fillcolor": "rgba(68, 68, 68, 0.2)",
         "line": {
          "color": "rgba(0,0,200,0.25)",
          "width": 2
         },
         "mode": "lines",
         "showlegend": false,
         "type": "scatter",
         "x": [
          0.5,
          0.51,
          0.52,
          0.53,
          0.54,
          0.55,
          0.56,
          0.57,
          0.58,
          0.59,
          0.6,
          0.61,
          0.62,
          0.63,
          0.64,
          0.65,
          0.66,
          0.67,
          0.68,
          0.69,
          0.7,
          0.71,
          0.72,
          0.73,
          0.74,
          0.75,
          0.76,
          0.77,
          0.78,
          0.79,
          0.8,
          0.81,
          0.82,
          0.83,
          0.84,
          0.85,
          0.86,
          0.87,
          0.88,
          0.89,
          0.9,
          0.91,
          0.92,
          0.93,
          0.94,
          0.95,
          0.96,
          0.97,
          0.98,
          0.99,
          1,
          1.01,
          1.02,
          1.03,
          1.04,
          1.05,
          1.06,
          1.07,
          1.08,
          1.09,
          1.1,
          1.11,
          1.12,
          1.13,
          1.14,
          1.15,
          1.16,
          1.17,
          1.18,
          1.19,
          1.2,
          1.21,
          1.22,
          1.23,
          1.24,
          1.25,
          1.26,
          1.27,
          1.28,
          1.29,
          1.3,
          1.31,
          1.32,
          1.33,
          1.34,
          1.35,
          1.36,
          1.37,
          1.38,
          1.39,
          1.4,
          1.41,
          1.42,
          1.43,
          1.44,
          1.45,
          1.46,
          1.47,
          1.48,
          1.49,
          1.5,
          1.51,
          1.52,
          1.53,
          1.54,
          1.55,
          1.56,
          1.57,
          1.58,
          1.59,
          1.6,
          1.61,
          1.62,
          1.63,
          1.64,
          1.65,
          1.66,
          1.67,
          1.68,
          1.69,
          1.7,
          1.71,
          1.72,
          1.73,
          1.74,
          1.75,
          1.76,
          1.77,
          1.78,
          1.79,
          1.8,
          1.81,
          1.82,
          1.83,
          1.84,
          1.85,
          1.86,
          1.87,
          1.88,
          1.89,
          1.9,
          1.91,
          1.92,
          1.93,
          1.94,
          1.95,
          1.96,
          1.97,
          1.98,
          1.99
         ],
         "y": [
          0.46666666700000003,
          0.470198675,
          0.473684211,
          0.47712418300000004,
          0.48051948099999997,
          0.48387096799999996,
          0.487179487,
          0.49044586,
          0.493670886,
          0.49685534600000003,
          0.5,
          0.50310559,
          0.5061728400000001,
          0.509202454,
          0.5121951220000001,
          0.515151515,
          0.518072289,
          0.520958084,
          0.523809524,
          0.526627219,
          0.529411765,
          0.532163743,
          0.5348837209999999,
          0.5375722540000001,
          0.540229885,
          0.542857143,
          0.545454545,
          0.548022599,
          0.5505617979999999,
          0.5530726260000001,
          0.5555555560000001,
          0.55801105,
          0.5604395600000001,
          0.56284153,
          0.565217391,
          0.5675675680000001,
          0.569892473,
          0.5721925130000001,
          0.574468085,
          0.576719577,
          0.578947368,
          0.581151832,
          0.583333333,
          0.585492228,
          0.587628866,
          0.5897435900000001,
          0.591836735,
          0.593908629,
          0.5959595959999999,
          0.59798995,
          0.6,
          0.6019900499999999,
          0.603960396,
          0.6059113300000001,
          0.6078431369999999,
          0.6097560980000001,
          0.611650485,
          0.61352657,
          0.615384615,
          0.61722488,
          0.619047619,
          0.620853081,
          0.6226415089999999,
          0.624413146,
          0.6261682239999999,
          0.627906977,
          0.6296296299999999,
          0.631336406,
          0.633027523,
          0.634703196,
          0.636363636,
          0.63800905,
          0.63963964,
          0.641255605,
          0.6428571430000001,
          0.644444444,
          0.646017699,
          0.647577093,
          0.6491228070000001,
          0.650655022,
          0.6521739129999999,
          0.653679654,
          0.6551724139999999,
          0.656652361,
          0.6581196579999999,
          0.659574468,
          0.661016949,
          0.662447257,
          0.663865546,
          0.665271967,
          0.666666667,
          0.668049793,
          0.669421488,
          0.670781893,
          0.6721311480000001,
          0.673469388,
          0.674796748,
          0.67611336,
          0.6774193550000001,
          0.6787148590000001,
          0.6799999999999999,
          0.6812749,
          0.682539683,
          0.6837944659999999,
          0.6850393699999999,
          0.6862745100000001,
          0.6875,
          0.688715953,
          0.689922481,
          0.6911196909999999,
          0.692307692,
          0.69348659,
          0.694656489,
          0.69581749,
          0.696969697,
          0.698113208,
          0.6992481199999999,
          0.700374532,
          0.7014925370000001,
          0.70260223,
          0.703703704,
          0.704797048,
          0.705882353,
          0.706959707,
          0.708029197,
          0.7090909089999999,
          0.7101449280000001,
          0.711191336,
          0.712230216,
          0.713261649,
          0.7142857140000001,
          0.715302491,
          0.716312057,
          0.717314488,
          0.718309859,
          0.7192982459999999,
          0.72027972,
          0.721254355,
          0.7222222220000001,
          0.7231833910000001,
          0.724137931,
          0.7250859110000001,
          0.726027397,
          0.726962457,
          0.727891156,
          0.728813559,
          0.7297297300000001,
          0.730639731,
          0.731543624,
          0.732441472
         ]
        }
       ],
       "layout": {
        "annotations": [
         {
          "showarrow": false,
          "text": "Equal share",
          "x": 1,
          "xanchor": "right",
          "xref": "x domain",
          "y": 0.5,
          "yanchor": "bottom",
          "yref": "y"
         },
         {
          "showarrow": false,
          "text": "ϵ=1: no bias",
          "x": 1,
          "xanchor": "left",
          "xref": "x",
          "y": 1,
          "yanchor": "top",
          "yref": "y domain"
         }
        ],
        "font": {
         "size": 18
        },
        "height": 500,
        "legend": {
         "title": {
          "text": ""
         },
         "x": 0.75,
         "y": 0.65
        },
        "margin": {
         "b": 5,
         "l": 5,
         "r": 5,
         "t": 5
        },
        "plot_bgcolor": "rgba(0,0,0,0)",
        "shapes": [
         {
          "line": {
           "width": 1
          },
          "type": "line",
          "x0": 0,
          "x1": 1,
          "xref": "x domain",
          "y0": 0.5,
          "y1": 0.5,
          "yref": "y"
         },
         {
          "line": {
           "width": 1
          },
          "type": "line",
          "x0": 1,
          "x1": 1,
          "xref": "x",
          "y0": 0,
          "y1": 1,
          "yref": "y domain"
         }
        ],
        "showlegend": true,
        "template": {
         "data": {
          "bar": [
           {
            "error_x": {
             "color": "#2a3f5f"
            },
            "error_y": {
             "color": "#2a3f5f"
            },
            "marker": {
             "line": {
              "color": "#E5ECF6",
              "width": 0.5
             },
             "pattern": {
              "fillmode": "overlay",
              "size": 10,
              "solidity": 0.2
             }
            },
            "type": "bar"
           }
          ],
          "barpolar": [
           {
            "marker": {
             "line": {
              "color": "#E5ECF6",
              "width": 0.5
             },
             "pattern": {
              "fillmode": "overlay",
              "size": 10,
              "solidity": 0.2
             }
            },
            "type": "barpolar"
           }
          ],
          "carpet": [
           {
            "aaxis": {
             "endlinecolor": "#2a3f5f",
             "gridcolor": "white",
             "linecolor": "white",
             "minorgridcolor": "white",
             "startlinecolor": "#2a3f5f"
            },
            "baxis": {
             "endlinecolor": "#2a3f5f",
             "gridcolor": "white",
             "linecolor": "white",
             "minorgridcolor": "white",
             "startlinecolor": "#2a3f5f"
            },
            "type": "carpet"
           }
          ],
          "choropleth": [
           {
            "colorbar": {
             "outlinewidth": 0,
             "ticks": ""
            },
            "type": "choropleth"
           }
          ],
          "contour": [
           {
            "colorbar": {
             "outlinewidth": 0,
             "ticks": ""
            },
            "colorscale": [
             [
              0,
              "#0d0887"
             ],
             [
              0.1111111111111111,
              "#46039f"
             ],
             [
              0.2222222222222222,
              "#7201a8"
             ],
             [
              0.3333333333333333,
              "#9c179e"
             ],
             [
              0.4444444444444444,
              "#bd3786"
             ],
             [
              0.5555555555555556,
              "#d8576b"
             ],
             [
              0.6666666666666666,
              "#ed7953"
             ],
             [
              0.7777777777777778,
              "#fb9f3a"
             ],
             [
              0.8888888888888888,
              "#fdca26"
             ],
             [
              1,
              "#f0f921"
             ]
            ],
            "type": "contour"
           }
          ],
          "contourcarpet": [
           {
            "colorbar": {
             "outlinewidth": 0,
             "ticks": ""
            },
            "type": "contourcarpet"
           }
          ],
          "heatmap": [
           {
            "colorbar": {
             "outlinewidth": 0,
             "ticks": ""
            },
            "colorscale": [
             [
              0,
              "#0d0887"
             ],
             [
              0.1111111111111111,
              "#46039f"
             ],
             [
              0.2222222222222222,
              "#7201a8"
             ],
             [
              0.3333333333333333,
              "#9c179e"
             ],
             [
              0.4444444444444444,
              "#bd3786"
             ],
             [
              0.5555555555555556,
              "#d8576b"
             ],
             [
              0.6666666666666666,
              "#ed7953"
             ],
             [
              0.7777777777777778,
              "#fb9f3a"
             ],
             [
              0.8888888888888888,
              "#fdca26"
             ],
             [
              1,
              "#f0f921"
             ]
            ],
            "type": "heatmap"
           }
          ],
          "heatmapgl": [
           {
            "colorbar": {
             "outlinewidth": 0,
             "ticks": ""
            },
            "colorscale": [
             [
              0,
              "#0d0887"
             ],
             [
              0.1111111111111111,
              "#46039f"
             ],
             [
              0.2222222222222222,
              "#7201a8"
             ],
             [
              0.3333333333333333,
              "#9c179e"
             ],
             [
              0.4444444444444444,
              "#bd3786"
             ],
             [
              0.5555555555555556,
              "#d8576b"
             ],
             [
              0.6666666666666666,
              "#ed7953"
             ],
             [
              0.7777777777777778,
              "#fb9f3a"
             ],
             [
              0.8888888888888888,
              "#fdca26"
             ],
             [
              1,
              "#f0f921"
             ]
            ],
            "type": "heatmapgl"
           }
          ],
          "histogram": [
           {
            "marker": {
             "pattern": {
              "fillmode": "overlay",
              "size": 10,
              "solidity": 0.2
             }
            },
            "type": "histogram"
           }
          ],
          "histogram2d": [
           {
            "colorbar": {
             "outlinewidth": 0,
             "ticks": ""
            },
            "colorscale": [
             [
              0,
              "#0d0887"
             ],
             [
              0.1111111111111111,
              "#46039f"
             ],
             [
              0.2222222222222222,
              "#7201a8"
             ],
             [
              0.3333333333333333,
              "#9c179e"
             ],
             [
              0.4444444444444444,
              "#bd3786"
             ],
             [
              0.5555555555555556,
              "#d8576b"
             ],
             [
              0.6666666666666666,
              "#ed7953"
             ],
             [
              0.7777777777777778,
              "#fb9f3a"
             ],
             [
              0.8888888888888888,
              "#fdca26"
             ],
             [
              1,
              "#f0f921"
             ]
            ],
            "type": "histogram2d"
           }
          ],
          "histogram2dcontour": [
           {
            "colorbar": {
             "outlinewidth": 0,
             "ticks": ""
            },
            "colorscale": [
             [
              0,
              "#0d0887"
             ],
             [
              0.1111111111111111,
              "#46039f"
             ],
             [
              0.2222222222222222,
              "#7201a8"
             ],
             [
              0.3333333333333333,
              "#9c179e"
             ],
             [
              0.4444444444444444,
              "#bd3786"
             ],
             [
              0.5555555555555556,
              "#d8576b"
             ],
             [
              0.6666666666666666,
              "#ed7953"
             ],
             [
              0.7777777777777778,
              "#fb9f3a"
             ],
             [
              0.8888888888888888,
              "#fdca26"
             ],
             [
              1,
              "#f0f921"
             ]
            ],
            "type": "histogram2dcontour"
           }
          ],
          "mesh3d": [
           {
            "colorbar": {
             "outlinewidth": 0,
             "ticks": ""
            },
            "type": "mesh3d"
           }
          ],
          "parcoords": [
           {
            "line": {
             "colorbar": {
              "outlinewidth": 0,
              "ticks": ""
             }
            },
            "type": "parcoords"
           }
          ],
          "pie": [
           {
            "automargin": true,
            "type": "pie"
           }
          ],
          "scatter": [
           {
            "fillpattern": {
             "fillmode": "overlay",
             "size": 10,
             "solidity": 0.2
            },
            "type": "scatter"
           }
          ],
          "scatter3d": [
           {
            "line": {
             "colorbar": {
              "outlinewidth": 0,
              "ticks": ""
             }
            },
            "marker": {
             "colorbar": {
              "outlinewidth": 0,
              "ticks": ""
             }
            },
            "type": "scatter3d"
           }
          ],
          "scattercarpet": [
           {
            "marker": {
             "colorbar": {
              "outlinewidth": 0,
              "ticks": ""
             }
            },
            "type": "scattercarpet"
           }
          ],
          "scattergeo": [
           {
            "marker": {
             "colorbar": {
              "outlinewidth": 0,
              "ticks": ""
             }
            },
            "type": "scattergeo"
           }
          ],
          "scattergl": [
           {
            "marker": {
             "colorbar": {
              "outlinewidth": 0,
              "ticks": ""
             }
            },
            "type": "scattergl"
           }
          ],
          "scattermapbox": [
           {
            "marker": {
             "colorbar": {
              "outlinewidth": 0,
              "ticks": ""
             }
            },
            "type": "scattermapbox"
           }
          ],
          "scatterpolar": [
           {
            "marker": {
             "colorbar": {
              "outlinewidth": 0,
              "ticks": ""
             }
            },
            "type": "scatterpolar"
           }
          ],
          "scatterpolargl": [
           {
            "marker": {
             "colorbar": {
              "outlinewidth": 0,
              "ticks": ""
             }
            },
            "type": "scatterpolargl"
           }
          ],
          "scatterternary": [
           {
            "marker": {
             "colorbar": {
              "outlinewidth": 0,
              "ticks": ""
             }
            },
            "type": "scatterternary"
           }
          ],
          "surface": [
           {
            "colorbar": {
             "outlinewidth": 0,
             "ticks": ""
            },
            "colorscale": [
             [
              0,
              "#0d0887"
             ],
             [
              0.1111111111111111,
              "#46039f"
             ],
             [
              0.2222222222222222,
              "#7201a8"
             ],
             [
              0.3333333333333333,
              "#9c179e"
             ],
             [
              0.4444444444444444,
              "#bd3786"
             ],
             [
              0.5555555555555556,
              "#d8576b"
             ],
             [
              0.6666666666666666,
              "#ed7953"
             ],
             [
              0.7777777777777778,
              "#fb9f3a"
             ],
             [
              0.8888888888888888,
              "#fdca26"
             ],
             [
              1,
              "#f0f921"
             ]
            ],
            "type": "surface"
           }
          ],
          "table": [
           {
            "cells": {
             "fill": {
              "color": "#EBF0F8"
             },
             "line": {
              "color": "white"
             }
            },
            "header": {
             "fill": {
              "color": "#C8D4E3"
             },
             "line": {
              "color": "white"
             }
            },
            "type": "table"
           }
          ]
         },
         "layout": {
          "annotationdefaults": {
           "arrowcolor": "#2a3f5f",
           "arrowhead": 0,
           "arrowwidth": 1
          },
          "autotypenumbers": "strict",
          "coloraxis": {
           "colorbar": {
            "outlinewidth": 0,
            "ticks": ""
           }
          },
          "colorscale": {
           "diverging": [
            [
             0,
             "#8e0152"
            ],
            [
             0.1,
             "#c51b7d"
            ],
            [
             0.2,
             "#de77ae"
            ],
            [
             0.3,
             "#f1b6da"
            ],
            [
             0.4,
             "#fde0ef"
            ],
            [
             0.5,
             "#f7f7f7"
            ],
            [
             0.6,
             "#e6f5d0"
            ],
            [
             0.7,
             "#b8e186"
            ],
            [
             0.8,
             "#7fbc41"
            ],
            [
             0.9,
             "#4d9221"
            ],
            [
             1,
             "#276419"
            ]
           ],
           "sequential": [
            [
             0,
             "#0d0887"
            ],
            [
             0.1111111111111111,
             "#46039f"
            ],
            [
             0.2222222222222222,
             "#7201a8"
            ],
            [
             0.3333333333333333,
             "#9c179e"
            ],
            [
             0.4444444444444444,
             "#bd3786"
            ],
            [
             0.5555555555555556,
             "#d8576b"
            ],
            [
             0.6666666666666666,
             "#ed7953"
            ],
            [
             0.7777777777777778,
             "#fb9f3a"
            ],
            [
             0.8888888888888888,
             "#fdca26"
            ],
            [
             1,
             "#f0f921"
            ]
           ],
           "sequentialminus": [
            [
             0,
             "#0d0887"
            ],
            [
             0.1111111111111111,
             "#46039f"
            ],
            [
             0.2222222222222222,
             "#7201a8"
            ],
            [
             0.3333333333333333,
             "#9c179e"
            ],
            [
             0.4444444444444444,
             "#bd3786"
            ],
            [
             0.5555555555555556,
             "#d8576b"
            ],
            [
             0.6666666666666666,
             "#ed7953"
            ],
            [
             0.7777777777777778,
             "#fb9f3a"
            ],
            [
             0.8888888888888888,
             "#fdca26"
            ],
            [
             1,
             "#f0f921"
            ]
           ]
          },
          "colorway": [
           "#636efa",
           "#EF553B",
           "#00cc96",
           "#ab63fa",
           "#FFA15A",
           "#19d3f3",
           "#FF6692",
           "#B6E880",
           "#FF97FF",
           "#FECB52"
          ],
          "font": {
           "color": "#2a3f5f"
          },
          "geo": {
           "bgcolor": "white",
           "lakecolor": "white",
           "landcolor": "#E5ECF6",
           "showlakes": true,
           "showland": true,
           "subunitcolor": "white"
          },
          "hoverlabel": {
           "align": "left"
          },
          "hovermode": "closest",
          "mapbox": {
           "style": "light"
          },
          "paper_bgcolor": "white",
          "plot_bgcolor": "#E5ECF6",
          "polar": {
           "angularaxis": {
            "gridcolor": "white",
            "linecolor": "white",
            "ticks": ""
           },
           "bgcolor": "#E5ECF6",
           "radialaxis": {
            "gridcolor": "white",
            "linecolor": "white",
            "ticks": ""
           }
          },
          "scene": {
           "xaxis": {
            "backgroundcolor": "#E5ECF6",
            "gridcolor": "white",
            "gridwidth": 2,
            "linecolor": "white",
            "showbackground": true,
            "ticks": "",
            "zerolinecolor": "white"
           },
           "yaxis": {
            "backgroundcolor": "#E5ECF6",
            "gridcolor": "white",
            "gridwidth": 2,
            "linecolor": "white",
            "showbackground": true,
            "ticks": "",
            "zerolinecolor": "white"
           },
           "zaxis": {
            "backgroundcolor": "#E5ECF6",
            "gridcolor": "white",
            "gridwidth": 2,
            "linecolor": "white",
            "showbackground": true,
            "ticks": "",
            "zerolinecolor": "white"
           }
          },
          "shapedefaults": {
           "line": {
            "color": "#2a3f5f"
           }
          },
          "ternary": {
           "aaxis": {
            "gridcolor": "white",
            "linecolor": "white",
            "ticks": ""
           },
           "baxis": {
            "gridcolor": "white",
            "linecolor": "white",
            "ticks": ""
           },
           "bgcolor": "#E5ECF6",
           "caxis": {
            "gridcolor": "white",
            "linecolor": "white",
            "ticks": ""
           }
          },
          "title": {
           "x": 0.05
          },
          "xaxis": {
           "automargin": true,
           "gridcolor": "white",
           "linecolor": "white",
           "ticks": "",
           "title": {
            "standoff": 15
           },
           "zerolinecolor": "white",
           "zerolinewidth": 2
          },
          "yaxis": {
           "automargin": true,
           "gridcolor": "white",
           "linecolor": "white",
           "ticks": "",
           "title": {
            "standoff": 15
           },
           "zerolinecolor": "white",
           "zerolinewidth": 2
          }
         }
        },
        "title": {},
        "width": 500,
        "xaxis": {
         "linecolor": "rgb(0,0,0)",
         "linewidth": 2,
         "range": [
          0.5,
          2
         ],
         "showgrid": false,
         "showline": true,
         "title": {
          "text": "Epsilon"
         }
        },
        "yaxis": {
         "linecolor": "rgb(0,0,0)",
         "linewidth": 2,
         "range": [
          0.25,
          0.75
         ],
         "showgrid": false,
         "showline": true,
         "title": {
          "text": "HSES Share"
         }
        }
       }
      }
     },
     "metadata": {},
     "output_type": "display_data"
    }
   ],
   "source": [
    "\n",
    "\n",
    "\n",
    "HSESL_epsilon_rho125 = plotly_lines.plot_MTO_sim_results(plotly_lines(), data=df_eps[df_eps['rho'] == 1.25], x_var='epsilon', y_var='H_Share_L', x_range=[0.5,2], y_range=[0,1], x_title='Epsilon', y_title='Exposure', with_predicted=True, colors=['rgba(200,0,0,1)', 'rgba(200,0,0,1)'], legend_text='Low')\n",
    "\n",
    "HSESH_epsilon_rho125 = plotly_lines.plot_MTO_sim_results(plotly_lines(), data=df_eps[df_eps['rho'] == 1.25], x_var='epsilon', y_var='H_Share_H', x_range=[0.5,2], y_range=[0,1], x_title='Epsilon', y_title='Exposure', with_predicted=True, colors=['rgba(0,0,200,1)', 'rgba(0,0,200,1)'], legend_text='High')\n",
    "\n",
    "\n",
    "fig_HSES_epsilon = go.Figure(data = HSESL_epsilon_rho125.data + HSESH_epsilon_rho125.data)\n",
    "\n",
    "fig_HSES_epsilon.update_layout(\n",
    "    title = None, \n",
    "    font=dict(size = 18),\n",
    "    xaxis_title = 'Epsilon', \n",
    "    yaxis_title = 'HSES Share',\n",
    "    width = 500, height = 500,\n",
    "    showlegend = True, \n",
    "    legend=dict(x=0.75,y=0.65),\n",
    "    legend_title_text = '',\n",
    "    xaxis_range = [0.5,2],\n",
    "    yaxis_range = [0.25,0.75],\n",
    "    margin=dict(b=5,l=5,r=5,t=5),\n",
    "    xaxis = dict(showgrid = False, showline = True, linecolor = 'rgb(0,0,0)', linewidth = 2), \n",
    "    yaxis = dict(showgrid = False, showline = True, linecolor = 'rgb(0,0,0)', linewidth = 2),\n",
    "    plot_bgcolor='rgba(0,0,0,0)')\n",
    "\n",
    "\n",
    "fig_HSES_epsilon.add_hline(y=0.5, line_width=1, annotation_text = 'Equal share')\n",
    "fig_HSES_epsilon.add_vline(x=1, line_width=1, annotation_text = 'ϵ=1: no bias')\n",
    "\n",
    "\n"
   ]
  },
  {
   "attachments": {},
   "cell_type": "markdown",
   "metadata": {},
   "source": [
    "### Epsilon Assortativity"
   ]
  },
  {
   "cell_type": "code",
   "execution_count": 196,
   "metadata": {},
   "outputs": [
    {
     "data": {
      "application/vnd.plotly.v1+json": {
       "config": {
        "plotlyServerURL": "https://plot.ly"
       },
       "data": [
        {
         "line": {
          "color": "rgba(100,0,100,1)",
          "width": 2
         },
         "mode": "lines",
         "name": "ρ=1.5",
         "showlegend": true,
         "type": "scatter",
         "x": [
          0.5,
          0.51,
          0.52,
          0.53,
          0.54,
          0.55,
          0.56,
          0.57,
          0.58,
          0.59,
          0.6,
          0.61,
          0.62,
          0.63,
          0.64,
          0.65,
          0.66,
          0.67,
          0.68,
          0.69,
          0.7,
          0.71,
          0.72,
          0.73,
          0.74,
          0.75,
          0.76,
          0.77,
          0.78,
          0.79,
          0.8,
          0.81,
          0.82,
          0.83,
          0.84,
          0.85,
          0.86,
          0.87,
          0.88,
          0.89,
          0.9,
          0.91,
          0.92,
          0.93,
          0.94,
          0.95,
          0.96,
          0.97,
          0.98,
          0.99,
          1,
          1.01,
          1.02,
          1.03,
          1.04,
          1.05,
          1.06,
          1.07,
          1.08,
          1.09,
          1.1,
          1.11,
          1.12,
          1.13,
          1.14,
          1.15,
          1.16,
          1.17,
          1.18,
          1.19,
          1.2,
          1.21,
          1.22,
          1.23,
          1.24,
          1.25,
          1.26,
          1.27,
          1.28,
          1.29,
          1.3,
          1.31,
          1.32,
          1.33,
          1.34,
          1.35,
          1.36,
          1.37,
          1.38,
          1.39,
          1.4,
          1.41,
          1.42,
          1.43,
          1.44,
          1.45,
          1.46,
          1.47,
          1.48,
          1.49,
          1.5,
          1.51,
          1.52,
          1.53,
          1.54,
          1.55,
          1.56,
          1.57,
          1.58,
          1.59,
          1.6,
          1.61,
          1.62,
          1.63,
          1.64,
          1.65,
          1.66,
          1.67,
          1.68,
          1.69,
          1.7,
          1.71,
          1.72,
          1.73,
          1.74,
          1.75,
          1.76,
          1.77,
          1.78,
          1.79,
          1.8,
          1.81,
          1.82,
          1.83,
          1.84,
          1.85,
          1.86,
          1.87,
          1.88,
          1.89,
          1.9,
          1.91,
          1.92,
          1.93,
          1.94,
          1.95,
          1.96,
          1.97,
          1.98,
          1.99
         ],
         "y": [
          -0.1010192317,
          -0.0870932314,
          -0.0863846166,
          -0.06538479920000001,
          -0.0526270112,
          -0.0705682745,
          -0.04586763159999999,
          -0.0487287509,
          -0.0393572738,
          -0.037089266600000004,
          -0.03400789059999999,
          -0.0121589973,
          -0.029579048900000002,
          -0.016257657900000003,
          0.0021909517,
          -0.0038200316,
          0.014662184600000001,
          0.0216363675,
          0.041834759,
          0.027305759000000002,
          0.021188191500000002,
          0.0289994817,
          0.0424261512,
          0.051705291699999996,
          0.0474612094,
          0.053219294699999996,
          0.06426483799999999,
          0.07006043569999999,
          0.06772171589999999,
          0.0902271058,
          0.079075604,
          0.0813894117,
          0.09959453530000001,
          0.1084293266,
          0.0896425931,
          0.1099350895,
          0.119188987,
          0.12159992210000001,
          0.1407699317,
          0.12495407609999999,
          0.1355577099,
          0.1389486285,
          0.1455608906,
          0.1464911472,
          0.13308060430000002,
          0.1505847291,
          0.15597164989999998,
          0.1638123945,
          0.1628830685,
          0.176672366,
          0.1647019409,
          0.16707070440000002,
          0.1788939894,
          0.1935030515,
          0.1793782266,
          0.18697589920000002,
          0.1812959334,
          0.2027386708,
          0.21848140179999997,
          0.19427159789999998,
          0.2189034489,
          0.20814578420000002,
          0.1992272012,
          0.2205757382,
          0.2135852958,
          0.2409889963,
          0.22209537969999998,
          0.2445534338,
          0.24486547909999998,
          0.22982885439999998,
          0.2512975912,
          0.2429475981,
          0.24234962289999998,
          0.2401530614,
          0.2743548017,
          0.259840493,
          0.25885042449999995,
          0.2548440493,
          0.255770709,
          0.26602931919999995,
          0.2698836187,
          0.2723967453,
          0.2756174191,
          0.2843124294,
          0.281249211,
          0.2925837215,
          0.2938645033,
          0.2807072533,
          0.292741169,
          0.29649780119999997,
          0.3037447317,
          0.30303678500000003,
          0.2854719715,
          0.3022604104,
          0.30855183199999997,
          0.3002030302,
          0.3019035861,
          0.3202797167,
          0.3133382909,
          0.3223454378,
          0.3387468101,
          0.33504209910000005,
          0.3237935164,
          0.3261670055,
          0.344481246,
          0.3442649185,
          0.3513150607,
          0.3368625798,
          0.3331615579,
          0.3457549648,
          0.3519756224,
          0.3556208909,
          0.3575622792,
          0.3476041605,
          0.35434969310000003,
          0.3581652366,
          0.36124421139999996,
          0.34867641839999997,
          0.34849136779999995,
          0.3583479893,
          0.3652050385,
          0.367369834,
          0.3671962411,
          0.3760419725,
          0.3745492331,
          0.38397172690000003,
          0.37747405559999997,
          0.3652250355,
          0.3921388739,
          0.3769758488,
          0.3843291385,
          0.3926915856,
          0.3798102244,
          0.405272783,
          0.394791251,
          0.3799253156,
          0.3960389708,
          0.3766815518,
          0.404814189,
          0.3948723587,
          0.4120710573,
          0.3882444043,
          0.3952119283,
          0.4056394813,
          0.40318327249999997,
          0.41311637539999996,
          0.40715624609999995,
          0.408974429,
          0.4315148506,
          0.41174045810000004
         ]
        },
        {
         "line": {
          "color": "rgba(100,0,100,0.25)",
          "width": 2
         },
         "mode": "lines",
         "showlegend": false,
         "type": "scatter",
         "x": [
          0.5,
          0.51,
          0.52,
          0.53,
          0.54,
          0.55,
          0.56,
          0.57,
          0.58,
          0.59,
          0.6,
          0.61,
          0.62,
          0.63,
          0.64,
          0.65,
          0.66,
          0.67,
          0.68,
          0.69,
          0.7,
          0.71,
          0.72,
          0.73,
          0.74,
          0.75,
          0.76,
          0.77,
          0.78,
          0.79,
          0.8,
          0.81,
          0.82,
          0.83,
          0.84,
          0.85,
          0.86,
          0.87,
          0.88,
          0.89,
          0.9,
          0.91,
          0.92,
          0.93,
          0.94,
          0.95,
          0.96,
          0.97,
          0.98,
          0.99,
          1,
          1.01,
          1.02,
          1.03,
          1.04,
          1.05,
          1.06,
          1.07,
          1.08,
          1.09,
          1.1,
          1.11,
          1.12,
          1.13,
          1.14,
          1.15,
          1.16,
          1.17,
          1.18,
          1.19,
          1.2,
          1.21,
          1.22,
          1.23,
          1.24,
          1.25,
          1.26,
          1.27,
          1.28,
          1.29,
          1.3,
          1.31,
          1.32,
          1.33,
          1.34,
          1.35,
          1.36,
          1.37,
          1.38,
          1.39,
          1.4,
          1.41,
          1.42,
          1.43,
          1.44,
          1.45,
          1.46,
          1.47,
          1.48,
          1.49,
          1.5,
          1.51,
          1.52,
          1.53,
          1.54,
          1.55,
          1.56,
          1.57,
          1.58,
          1.59,
          1.6,
          1.61,
          1.62,
          1.63,
          1.64,
          1.65,
          1.66,
          1.67,
          1.68,
          1.69,
          1.7,
          1.71,
          1.72,
          1.73,
          1.74,
          1.75,
          1.76,
          1.77,
          1.78,
          1.79,
          1.8,
          1.81,
          1.82,
          1.83,
          1.84,
          1.85,
          1.86,
          1.87,
          1.88,
          1.89,
          1.9,
          1.91,
          1.92,
          1.93,
          1.94,
          1.95,
          1.96,
          1.97,
          1.98,
          1.99
         ],
         "y": [
          -0.10071205860494413,
          -0.08676106084678559,
          -0.08602482989619419,
          -0.06516101613463982,
          -0.05232697796475602,
          -0.07027431652138415,
          -0.045566284771105525,
          -0.04843639916382521,
          -0.03907522183325205,
          -0.036829499292747314,
          -0.03374926563954135,
          -0.011765341403233681,
          -0.029316086599333987,
          -0.015977380860584322,
          0.002432118009292199,
          -0.003486292053821928,
          0.01506539266759979,
          0.022010219302831122,
          0.042132568387740155,
          0.027624189311320248,
          0.021355731875376066,
          0.029409878586305553,
          0.04285252842701009,
          0.05194503253151796,
          0.047784014655222674,
          0.05367005755585424,
          0.06451616908423999,
          0.0703264387861862,
          0.06806009840745882,
          0.09073307294825202,
          0.07940828134617994,
          0.08157355678844157,
          0.09996489686366258,
          0.10878805498412493,
          0.08989585680140777,
          0.11034200150095848,
          0.11947473119163211,
          0.12193988834713852,
          0.1412434213900713,
          0.12518733393582784,
          0.1357921142009335,
          0.1392516522371485,
          0.1458473204574535,
          0.14680452251659298,
          0.133647912965384,
          0.15102638876590907,
          0.15637250287846907,
          0.16424566755776185,
          0.1631783323265005,
          0.17692189631615823,
          0.16505990862094103,
          0.16737508064107673,
          0.1792105933278694,
          0.1938157347640947,
          0.17987088501719586,
          0.18729364195397238,
          0.18154441454551873,
          0.20309676456929837,
          0.21884913835270536,
          0.19447626975801313,
          0.21921153523710527,
          0.20857551791724294,
          0.19953807210589658,
          0.22086567528821235,
          0.21402875942890603,
          0.24132741524433912,
          0.222420530683399,
          0.2448940381984108,
          0.24513401365684337,
          0.23013149910193367,
          0.2516865583877518,
          0.24337135836464405,
          0.24261154212621558,
          0.24036307564153012,
          0.27467227671829636,
          0.2602484943429491,
          0.2592214083583779,
          0.25519438814895123,
          0.25611083399614065,
          0.26634317262289386,
          0.27016914864293035,
          0.2728286098370669,
          0.27589763560075875,
          0.2846086566545878,
          0.28170327070911316,
          0.2928767177125027,
          0.2942178953462139,
          0.2809402850692731,
          0.292998696835842,
          0.29684591985699077,
          0.30393464545779425,
          0.3033119994660627,
          0.2858022551637394,
          0.3025560651364117,
          0.3088450515651565,
          0.30072555144856244,
          0.3022305798258228,
          0.32049796989769797,
          0.3136387045430294,
          0.3226600590333939,
          0.3388945679818202,
          0.3354353616090435,
          0.32399102453335965,
          0.32651547966879546,
          0.34481830906501804,
          0.3447109514398862,
          0.35168684459767063,
          0.33707972935035385,
          0.33342380758562934,
          0.346227960485475,
          0.35230699839918445,
          0.35589270623306773,
          0.35791047945206406,
          0.3479403648480684,
          0.35459399499417027,
          0.3584915548807276,
          0.3615705353167732,
          0.3491831175726402,
          0.348914389736605,
          0.3585228036760685,
          0.36554033676906245,
          0.3677125057585008,
          0.36747337733021224,
          0.37634339842903897,
          0.3748102318885021,
          0.3843572701564834,
          0.3777496151465949,
          0.36572328567530993,
          0.3924149281627358,
          0.3772210124474608,
          0.3846609223871224,
          0.393005412282429,
          0.37994335200871776,
          0.4057868910380473,
          0.3951092751780975,
          0.3802758246093086,
          0.396288574893841,
          0.37701044854315297,
          0.4051962748931442,
          0.39512789553299904,
          0.41250521332599405,
          0.3885789022659571,
          0.3954214620533631,
          0.40589088874402285,
          0.403386920666645,
          0.41340168890881906,
          0.40752954093165816,
          0.4092256126148876,
          0.43187044854267315,
          0.4119913026712877
         ]
        },
        {
         "fill": "tonexty",
         "fillcolor": "rgba(68, 68, 68, 0.2)",
         "line": {
          "color": "rgba(100,0,100,0.25)",
          "width": 2
         },
         "mode": "lines",
         "showlegend": false,
         "type": "scatter",
         "x": [
          0.5,
          0.51,
          0.52,
          0.53,
          0.54,
          0.55,
          0.56,
          0.57,
          0.58,
          0.59,
          0.6,
          0.61,
          0.62,
          0.63,
          0.64,
          0.65,
          0.66,
          0.67,
          0.68,
          0.69,
          0.7,
          0.71,
          0.72,
          0.73,
          0.74,
          0.75,
          0.76,
          0.77,
          0.78,
          0.79,
          0.8,
          0.81,
          0.82,
          0.83,
          0.84,
          0.85,
          0.86,
          0.87,
          0.88,
          0.89,
          0.9,
          0.91,
          0.92,
          0.93,
          0.94,
          0.95,
          0.96,
          0.97,
          0.98,
          0.99,
          1,
          1.01,
          1.02,
          1.03,
          1.04,
          1.05,
          1.06,
          1.07,
          1.08,
          1.09,
          1.1,
          1.11,
          1.12,
          1.13,
          1.14,
          1.15,
          1.16,
          1.17,
          1.18,
          1.19,
          1.2,
          1.21,
          1.22,
          1.23,
          1.24,
          1.25,
          1.26,
          1.27,
          1.28,
          1.29,
          1.3,
          1.31,
          1.32,
          1.33,
          1.34,
          1.35,
          1.36,
          1.37,
          1.38,
          1.39,
          1.4,
          1.41,
          1.42,
          1.43,
          1.44,
          1.45,
          1.46,
          1.47,
          1.48,
          1.49,
          1.5,
          1.51,
          1.52,
          1.53,
          1.54,
          1.55,
          1.56,
          1.57,
          1.58,
          1.59,
          1.6,
          1.61,
          1.62,
          1.63,
          1.64,
          1.65,
          1.66,
          1.67,
          1.68,
          1.69,
          1.7,
          1.71,
          1.72,
          1.73,
          1.74,
          1.75,
          1.76,
          1.77,
          1.78,
          1.79,
          1.8,
          1.81,
          1.82,
          1.83,
          1.84,
          1.85,
          1.86,
          1.87,
          1.88,
          1.89,
          1.9,
          1.91,
          1.92,
          1.93,
          1.94,
          1.95,
          1.96,
          1.97,
          1.98,
          1.99
         ],
         "y": [
          -0.10132640479505588,
          -0.08742540195321441,
          -0.08674440330380583,
          -0.0656085822653602,
          -0.05292704443524397,
          -0.07086223247861585,
          -0.04616897842889446,
          -0.04902110263617479,
          -0.03963932576674795,
          -0.03734903390725269,
          -0.034266515560458635,
          -0.012552653196766319,
          -0.029842011200666017,
          -0.016537934939415685,
          0.0019497853907078009,
          -0.004153771146178072,
          0.014258976532400212,
          0.021262515697168877,
          0.041536949612259844,
          0.026987328688679757,
          0.021020651124623937,
          0.028589084813694446,
          0.04199977397298991,
          0.051465550868482035,
          0.04713840414477733,
          0.052768531844145754,
          0.06401350691576,
          0.06979443261381378,
          0.06738333339254117,
          0.08972113865174798,
          0.07874292665382004,
          0.08120526661155843,
          0.09922417373633743,
          0.10807059821587507,
          0.08938932939859223,
          0.10952817749904152,
          0.11890324280836788,
          0.12125995585286149,
          0.1402964420099287,
          0.12472081826417215,
          0.13532330559906647,
          0.1386456047628515,
          0.1452744607425465,
          0.14617777188340703,
          0.13251329563461603,
          0.15014306943409095,
          0.1555707969215309,
          0.16337912144223818,
          0.1625878046734995,
          0.17642283568384176,
          0.164343973179059,
          0.1667663281589233,
          0.17857738547213062,
          0.1931903682359053,
          0.17888556818280413,
          0.18665815644602765,
          0.18104745225448127,
          0.2023805770307016,
          0.21811366524729459,
          0.19406692604198683,
          0.21859536256289472,
          0.2077160504827571,
          0.19891633029410344,
          0.22028580111178767,
          0.21314183217109395,
          0.2406505773556609,
          0.22177022871660096,
          0.2442128294015892,
          0.24459694454315659,
          0.22952620969806628,
          0.2509086240122482,
          0.24252383783535594,
          0.24208770367378438,
          0.2399430471584699,
          0.2740373266817036,
          0.2594324916570509,
          0.258479440641622,
          0.25449371045104874,
          0.2554305840038593,
          0.26571546577710603,
          0.26959808875706964,
          0.2719648807629331,
          0.2753372025992412,
          0.28401620214541223,
          0.28079515129088684,
          0.29229072528749733,
          0.29351111125378615,
          0.28047422153072693,
          0.29248364116415804,
          0.29614968254300916,
          0.30355481794220573,
          0.3027615705339374,
          0.28514168783626054,
          0.3019647556635883,
          0.3082586124348434,
          0.29968050895143755,
          0.3015765923741772,
          0.320061463502302,
          0.3130378772569706,
          0.32203081656660615,
          0.3385990522181798,
          0.33464883659095657,
          0.3235960082666403,
          0.32581853133120453,
          0.344144182934982,
          0.3438188855601138,
          0.3509432768023294,
          0.33664543024964616,
          0.3328993082143707,
          0.345281969114525,
          0.3516442464008156,
          0.35534907556693224,
          0.35721407894793594,
          0.34726795615193157,
          0.3541053912058298,
          0.3578389183192724,
          0.36091788748322673,
          0.34816971922735973,
          0.3480683458633949,
          0.3581731749239315,
          0.3648697402309376,
          0.3670271622414992,
          0.36691910486978774,
          0.375740546570961,
          0.3742882343114979,
          0.38358618364351665,
          0.37719849605340505,
          0.3647267853246901,
          0.3918628196372642,
          0.3767306851525392,
          0.3839973546128776,
          0.392377758917571,
          0.37967709679128225,
          0.4047586749619527,
          0.3944732268219025,
          0.37957480659069137,
          0.395789366706159,
          0.37635265505684706,
          0.4044321031068558,
          0.3946168218670009,
          0.41163690127400593,
          0.38790990633404293,
          0.39500239454663694,
          0.40538807385597714,
          0.40297962433335494,
          0.41283106189118085,
          0.40678295126834174,
          0.40872324538511234,
          0.43115925265732685,
          0.4114896135287124
         ]
        },
        {
         "line": {
          "color": "rgba(150,0,150,1)",
          "width": 2
         },
         "mode": "lines",
         "name": "ρ=1.25",
         "showlegend": true,
         "type": "scatter",
         "x": [
          0.5,
          0.51,
          0.52,
          0.53,
          0.54,
          0.55,
          0.56,
          0.57,
          0.58,
          0.59,
          0.6,
          0.61,
          0.62,
          0.63,
          0.64,
          0.65,
          0.66,
          0.67,
          0.68,
          0.69,
          0.7,
          0.71,
          0.72,
          0.73,
          0.74,
          0.75,
          0.76,
          0.77,
          0.78,
          0.79,
          0.8,
          0.81,
          0.82,
          0.83,
          0.84,
          0.85,
          0.86,
          0.87,
          0.88,
          0.89,
          0.9,
          0.91,
          0.92,
          0.93,
          0.94,
          0.95,
          0.96,
          0.97,
          0.98,
          0.99,
          1,
          1.01,
          1.02,
          1.03,
          1.04,
          1.05,
          1.06,
          1.07,
          1.08,
          1.09,
          1.1,
          1.11,
          1.12,
          1.13,
          1.14,
          1.15,
          1.16,
          1.17,
          1.18,
          1.19,
          1.2,
          1.21,
          1.22,
          1.23,
          1.24,
          1.25,
          1.26,
          1.27,
          1.28,
          1.29,
          1.3,
          1.31,
          1.32,
          1.33,
          1.34,
          1.35,
          1.36,
          1.37,
          1.38,
          1.39,
          1.4,
          1.41,
          1.42,
          1.43,
          1.44,
          1.45,
          1.46,
          1.47,
          1.48,
          1.49,
          1.5,
          1.51,
          1.52,
          1.53,
          1.54,
          1.55,
          1.56,
          1.57,
          1.58,
          1.59,
          1.6,
          1.61,
          1.62,
          1.63,
          1.64,
          1.65,
          1.66,
          1.67,
          1.68,
          1.69,
          1.7,
          1.71,
          1.72,
          1.73,
          1.74,
          1.75,
          1.76,
          1.77,
          1.78,
          1.79,
          1.8,
          1.81,
          1.82,
          1.83,
          1.84,
          1.85,
          1.86,
          1.87,
          1.88,
          1.89,
          1.9,
          1.91,
          1.92,
          1.93,
          1.94,
          1.95,
          1.96,
          1.97,
          1.98,
          1.99
         ],
         "y": [
          -0.179588538,
          -0.19313373039999998,
          -0.1666034617,
          -0.1515003701,
          -0.1529943595,
          -0.1398185088,
          -0.1395948525,
          -0.13053796850000002,
          -0.1265165486,
          -0.1160087839,
          -0.098332583,
          -0.1004367995,
          -0.09112316,
          -0.0935674866,
          -0.0907127474,
          -0.0783503653,
          -0.0802510885,
          -0.058569083800000005,
          -0.0559948349,
          -0.0681176051,
          -0.0597923991,
          -0.059069712600000004,
          -0.0456979172,
          -0.027720591899999997,
          -0.026746875899999998,
          -0.022924623,
          -0.0164916815,
          -0.0165557767,
          -0.0126170197,
          0.0026007966,
          -0.0053498018,
          0.006799951,
          0.022663159,
          0.0173497424,
          0.021752398,
          0.0254264025,
          0.0377236573,
          0.0353973752,
          0.0218053787,
          0.048457037900000006,
          0.042591433000000005,
          0.0575721538,
          0.0520778856,
          0.06466539760000001,
          0.0667939758,
          0.06314644700000001,
          0.0787123012,
          0.083140314,
          0.0847424628,
          0.08278815969999999,
          0.0698300389,
          0.0876777928,
          0.0924834219,
          0.0894232878,
          0.1078710834,
          0.1035340879,
          0.10274883409999999,
          0.1215232446,
          0.1139016587,
          0.1397185057,
          0.1314811596,
          0.1439028631,
          0.15027739610000002,
          0.1297241113,
          0.1448345864,
          0.1360312386,
          0.1504969514,
          0.15490208039999998,
          0.14557810180000003,
          0.1616058346,
          0.1663251304,
          0.17054745629999998,
          0.1579412967,
          0.162232299,
          0.17123209320000002,
          0.1733247031,
          0.1743197273,
          0.1716694056,
          0.1803191633,
          0.1987443827,
          0.1782370698,
          0.19744984310000002,
          0.19514878400000002,
          0.2077225554,
          0.2038995364,
          0.22295628210000001,
          0.19877355,
          0.2191788798,
          0.2102982125,
          0.1940514197,
          0.2112217328,
          0.2236963813,
          0.2239187402,
          0.22816656840000002,
          0.2207242514,
          0.2340291537,
          0.225489245,
          0.217691015,
          0.23786867,
          0.24635432729999998,
          0.24394397240000001,
          0.2499410544,
          0.24758417259999999,
          0.2544990248,
          0.2524909507,
          0.2476361813,
          0.249221563,
          0.265486564,
          0.2561053687,
          0.2690412683,
          0.26456974050000004,
          0.2596010108,
          0.2832878784,
          0.2735554641,
          0.29020792110000004,
          0.2696931507,
          0.2660879002,
          0.2872175105,
          0.28092542429999995,
          0.2737670223,
          0.2797244708,
          0.2895080249,
          0.2920706527,
          0.2941682376,
          0.3037366601,
          0.3086994919,
          0.3156132707,
          0.3093463015,
          0.3118621798,
          0.3136053147,
          0.3070003832,
          0.3093524206,
          0.3061647231,
          0.32310091679999997,
          0.30390075050000004,
          0.3196825563,
          0.3301357736,
          0.33159866979999997,
          0.3286389742,
          0.3273921392,
          0.3211064233,
          0.3421074289,
          0.31940037990000003,
          0.3339343175,
          0.3410249892,
          0.338412968,
          0.3442480256,
          0.35002435909999996,
          0.3332791519,
          0.3372937083
         ]
        },
        {
         "line": {
          "color": "rgba(150,0,150,0.25)",
          "width": 2
         },
         "mode": "lines",
         "showlegend": false,
         "type": "scatter",
         "x": [
          0.5,
          0.51,
          0.52,
          0.53,
          0.54,
          0.55,
          0.56,
          0.57,
          0.58,
          0.59,
          0.6,
          0.61,
          0.62,
          0.63,
          0.64,
          0.65,
          0.66,
          0.67,
          0.68,
          0.69,
          0.7,
          0.71,
          0.72,
          0.73,
          0.74,
          0.75,
          0.76,
          0.77,
          0.78,
          0.79,
          0.8,
          0.81,
          0.82,
          0.83,
          0.84,
          0.85,
          0.86,
          0.87,
          0.88,
          0.89,
          0.9,
          0.91,
          0.92,
          0.93,
          0.94,
          0.95,
          0.96,
          0.97,
          0.98,
          0.99,
          1,
          1.01,
          1.02,
          1.03,
          1.04,
          1.05,
          1.06,
          1.07,
          1.08,
          1.09,
          1.1,
          1.11,
          1.12,
          1.13,
          1.14,
          1.15,
          1.16,
          1.17,
          1.18,
          1.19,
          1.2,
          1.21,
          1.22,
          1.23,
          1.24,
          1.25,
          1.26,
          1.27,
          1.28,
          1.29,
          1.3,
          1.31,
          1.32,
          1.33,
          1.34,
          1.35,
          1.36,
          1.37,
          1.38,
          1.39,
          1.4,
          1.41,
          1.42,
          1.43,
          1.44,
          1.45,
          1.46,
          1.47,
          1.48,
          1.49,
          1.5,
          1.51,
          1.52,
          1.53,
          1.54,
          1.55,
          1.56,
          1.57,
          1.58,
          1.59,
          1.6,
          1.61,
          1.62,
          1.63,
          1.64,
          1.65,
          1.66,
          1.67,
          1.68,
          1.69,
          1.7,
          1.71,
          1.72,
          1.73,
          1.74,
          1.75,
          1.76,
          1.77,
          1.78,
          1.79,
          1.8,
          1.81,
          1.82,
          1.83,
          1.84,
          1.85,
          1.86,
          1.87,
          1.88,
          1.89,
          1.9,
          1.91,
          1.92,
          1.93,
          1.94,
          1.95,
          1.96,
          1.97,
          1.98,
          1.99
         ],
         "y": [
          -0.179442043000363,
          -0.19280202053039644,
          -0.16640346374552717,
          -0.15131750333080027,
          -0.15260335558033025,
          -0.13941998243934078,
          -0.13917073363141916,
          -0.13019713945302872,
          -0.12617582972448033,
          -0.11571706520314587,
          -0.09803740576084616,
          -0.0999516615815318,
          -0.09076570520396827,
          -0.0932029122111168,
          -0.09049634666958263,
          -0.07801365130301569,
          -0.07978904904134018,
          -0.05825161438010289,
          -0.05572638339957853,
          -0.06788226911631783,
          -0.05945735032892633,
          -0.05872623905162346,
          -0.045305292759518716,
          -0.027365286687491306,
          -0.026491100127192642,
          -0.022643894892237282,
          -0.016304109256445303,
          -0.0161237066422583,
          -0.012372384788327659,
          0.0029151577327443984,
          -0.0051099246326835905,
          0.007024531727398809,
          0.02305601109528806,
          0.017609582258319642,
          0.02204335096294264,
          0.025606957229842953,
          0.038004746004069646,
          0.035749001132793716,
          0.022199654793180503,
          0.048730938559538445,
          0.042923519572997074,
          0.05793128369896787,
          0.052309833376913153,
          0.06503286324386785,
          0.06712552697116418,
          0.06354279814106163,
          0.07919233230663975,
          0.08348967880357729,
          0.08503707457013018,
          0.08322535602427682,
          0.07015849337443229,
          0.08810547069532147,
          0.09280621822716208,
          0.08964296389220333,
          0.10816525194067611,
          0.10381589923654706,
          0.1030188585301219,
          0.12195572676558764,
          0.11425299679733979,
          0.1401216978550768,
          0.13168561456071917,
          0.14423286254081702,
          0.1506721880149777,
          0.13007304206175754,
          0.1450279750686219,
          0.13626077889245913,
          0.15088716396378782,
          0.15517018123902332,
          0.14587347423313385,
          0.1619254423213105,
          0.16670315194238972,
          0.17073463308819664,
          0.15828111165789013,
          0.1626469334997294,
          0.171501862299521,
          0.17365013835987048,
          0.17452109459765958,
          0.17198939220685638,
          0.18077878668710984,
          0.19908516346202523,
          0.17860144680186538,
          0.19761947863472262,
          0.1954797098764072,
          0.2081803293205112,
          0.20413895617445063,
          0.22315731356588286,
          0.19914252806756713,
          0.2194349167074968,
          0.21059268617502752,
          0.19432630322979755,
          0.21150830104348184,
          0.2239657255284146,
          0.22434996098946638,
          0.2284423771496865,
          0.22096771617243946,
          0.23435149419252976,
          0.22573153214567757,
          0.21796241674276934,
          0.23812996832298056,
          0.2467493429395704,
          0.24427501420563644,
          0.2502866129489897,
          0.24787365075366083,
          0.25483651497894116,
          0.25278920684207173,
          0.24797235214517063,
          0.24943746563475838,
          0.2657528275032947,
          0.2565145169876066,
          0.2693688389567322,
          0.26492460714670446,
          0.2599159184065058,
          0.28358378925160266,
          0.2738259448326868,
          0.2905119574895485,
          0.26997775418854475,
          0.2664109277264887,
          0.2875963513266765,
          0.28119482603635293,
          0.27404191106129755,
          0.27994327977675587,
          0.289833525638448,
          0.292311274886742,
          0.2945026168825673,
          0.30386502186914044,
          0.3089938841957054,
          0.31604806736357627,
          0.309708147760057,
          0.3122247549217441,
          0.31384308954290474,
          0.30738685586067244,
          0.3095987419821504,
          0.30650321386207174,
          0.32341635309566685,
          0.3042678200947691,
          0.31993643617076617,
          0.3304163232946069,
          0.33176828153888616,
          0.3287847296420892,
          0.32761572440832754,
          0.32143367783890175,
          0.34234543464383654,
          0.31979627910590075,
          0.3342636416314904,
          0.34121227968755585,
          0.3386673301268106,
          0.3445236383760285,
          0.3505248996459122,
          0.3336183111904176,
          0.3376629472545663
         ]
        },
        {
         "fill": "tonexty",
         "fillcolor": "rgba(68, 68, 68, 0.2)",
         "line": {
          "color": "rgba(150,0,150,0.25)",
          "width": 2
         },
         "mode": "lines",
         "showlegend": false,
         "type": "scatter",
         "x": [
          0.5,
          0.51,
          0.52,
          0.53,
          0.54,
          0.55,
          0.56,
          0.57,
          0.58,
          0.59,
          0.6,
          0.61,
          0.62,
          0.63,
          0.64,
          0.65,
          0.66,
          0.67,
          0.68,
          0.69,
          0.7,
          0.71,
          0.72,
          0.73,
          0.74,
          0.75,
          0.76,
          0.77,
          0.78,
          0.79,
          0.8,
          0.81,
          0.82,
          0.83,
          0.84,
          0.85,
          0.86,
          0.87,
          0.88,
          0.89,
          0.9,
          0.91,
          0.92,
          0.93,
          0.94,
          0.95,
          0.96,
          0.97,
          0.98,
          0.99,
          1,
          1.01,
          1.02,
          1.03,
          1.04,
          1.05,
          1.06,
          1.07,
          1.08,
          1.09,
          1.1,
          1.11,
          1.12,
          1.13,
          1.14,
          1.15,
          1.16,
          1.17,
          1.18,
          1.19,
          1.2,
          1.21,
          1.22,
          1.23,
          1.24,
          1.25,
          1.26,
          1.27,
          1.28,
          1.29,
          1.3,
          1.31,
          1.32,
          1.33,
          1.34,
          1.35,
          1.36,
          1.37,
          1.38,
          1.39,
          1.4,
          1.41,
          1.42,
          1.43,
          1.44,
          1.45,
          1.46,
          1.47,
          1.48,
          1.49,
          1.5,
          1.51,
          1.52,
          1.53,
          1.54,
          1.55,
          1.56,
          1.57,
          1.58,
          1.59,
          1.6,
          1.61,
          1.62,
          1.63,
          1.64,
          1.65,
          1.66,
          1.67,
          1.68,
          1.69,
          1.7,
          1.71,
          1.72,
          1.73,
          1.74,
          1.75,
          1.76,
          1.77,
          1.78,
          1.79,
          1.8,
          1.81,
          1.82,
          1.83,
          1.84,
          1.85,
          1.86,
          1.87,
          1.88,
          1.89,
          1.9,
          1.91,
          1.92,
          1.93,
          1.94,
          1.95,
          1.96,
          1.97,
          1.98,
          1.99
         ],
         "y": [
          -0.17973503299963697,
          -0.19346544026960352,
          -0.16680345965447285,
          -0.15168323686919974,
          -0.15338536341966977,
          -0.1402170351606592,
          -0.14001897136858085,
          -0.13087879754697132,
          -0.12685726747551967,
          -0.11630050259685412,
          -0.09862776023915384,
          -0.10092193741846821,
          -0.09148061479603171,
          -0.0939320609888832,
          -0.09092914813041737,
          -0.07868707929698432,
          -0.08071312795865981,
          -0.05888655321989712,
          -0.05626328640042147,
          -0.06835294108368219,
          -0.060127447871073665,
          -0.05941318614837655,
          -0.046090541640481285,
          -0.02807589711250869,
          -0.027002651672807354,
          -0.02320535110776272,
          -0.0166792537435547,
          -0.0169878467577417,
          -0.012861654611672343,
          0.0022864354672556017,
          -0.005589678967316409,
          0.006575370272601191,
          0.022270306904711937,
          0.017089902541680357,
          0.02146144503705736,
          0.025245847770157048,
          0.03744256859593035,
          0.03504574926720628,
          0.021411102606819495,
          0.04818313724046157,
          0.042259346427002936,
          0.057213023901032126,
          0.05184593782308684,
          0.06429793195613216,
          0.06646242462883582,
          0.06275009585893838,
          0.07823227009336026,
          0.08279094919642273,
          0.08444785102986982,
          0.08235096337572316,
          0.06950158442556771,
          0.08725011490467853,
          0.09216062557283793,
          0.08920361170779667,
          0.10757691485932389,
          0.10325227656345294,
          0.10247880966987809,
          0.12109076243441236,
          0.11355032060266022,
          0.13931531354492319,
          0.13127670463928084,
          0.14357286365918298,
          0.14988260418502233,
          0.12937518053824246,
          0.1446411977313781,
          0.13580169830754085,
          0.15010673883621217,
          0.15463397956097663,
          0.1452827293668662,
          0.1612862268786895,
          0.16594710885761027,
          0.17036027951180333,
          0.1576014817421099,
          0.1618176645002706,
          0.17096232410047904,
          0.17299926784012953,
          0.17411836000234043,
          0.1713494189931436,
          0.17985953991289017,
          0.19840360193797477,
          0.17787269279813464,
          0.19728020756527742,
          0.19481785812359284,
          0.20726478147948882,
          0.20366011662554936,
          0.22275525063411716,
          0.19840457193243285,
          0.21892284289250322,
          0.21000373882497247,
          0.19377653617020246,
          0.21093516455651817,
          0.2234270370715854,
          0.2234875194105336,
          0.22789075965031355,
          0.22048078662756052,
          0.23370681320747022,
          0.22524695785432244,
          0.21741961325723064,
          0.23760737167701945,
          0.24595931166042956,
          0.2436129305943636,
          0.24959549585101032,
          0.24729469444633914,
          0.2541615346210588,
          0.25219269455792825,
          0.24730001045482938,
          0.24900566036524163,
          0.26522030049670525,
          0.2556962204123934,
          0.26871369764326786,
          0.2642148738532956,
          0.25928610319349416,
          0.2829919675483974,
          0.27328498336731316,
          0.2899038847104516,
          0.26940854721145524,
          0.2657648726735113,
          0.2868386696733235,
          0.28065602256364697,
          0.27349213353870244,
          0.27950566182324416,
          0.289182524161552,
          0.29183003051325795,
          0.2938338583174327,
          0.30360829833085956,
          0.30840509960429463,
          0.31517847403642374,
          0.30898445523994295,
          0.3114996046782558,
          0.3133675398570953,
          0.30661391053932757,
          0.3091060992178496,
          0.3058262323379282,
          0.3227854805043331,
          0.303533680905231,
          0.3194286764292338,
          0.3298552239053931,
          0.3314290580611138,
          0.32849321875791077,
          0.32716855399167244,
          0.32077916876109824,
          0.3418694231561635,
          0.3190044806940993,
          0.33360499336850963,
          0.3408376987124442,
          0.33815860587318936,
          0.3439724128239715,
          0.3495238185540877,
          0.3329399926095824,
          0.3369244693454337
         ]
        },
        {
         "line": {
          "color": "rgba(250,0,250,1)",
          "width": 2
         },
         "mode": "lines",
         "name": "ρ=1",
         "showlegend": true,
         "type": "scatter",
         "x": [
          0.5,
          0.51,
          0.52,
          0.53,
          0.54,
          0.55,
          0.56,
          0.57,
          0.58,
          0.59,
          0.6,
          0.61,
          0.62,
          0.63,
          0.64,
          0.65,
          0.66,
          0.67,
          0.68,
          0.69,
          0.7,
          0.71,
          0.72,
          0.73,
          0.74,
          0.75,
          0.76,
          0.77,
          0.78,
          0.79,
          0.8,
          0.81,
          0.82,
          0.83,
          0.84,
          0.85,
          0.86,
          0.87,
          0.88,
          0.89,
          0.9,
          0.91,
          0.92,
          0.93,
          0.94,
          0.95,
          0.96,
          0.97,
          0.98,
          0.99,
          1,
          1.01,
          1.02,
          1.03,
          1.04,
          1.05,
          1.06,
          1.07,
          1.08,
          1.09,
          1.1,
          1.11,
          1.12,
          1.13,
          1.14,
          1.15,
          1.16,
          1.17,
          1.18,
          1.19,
          1.2,
          1.21,
          1.22,
          1.23,
          1.24,
          1.25,
          1.26,
          1.27,
          1.28,
          1.29,
          1.3,
          1.31,
          1.32,
          1.33,
          1.34,
          1.35,
          1.36,
          1.37,
          1.38,
          1.39,
          1.4,
          1.41,
          1.42,
          1.43,
          1.44,
          1.45,
          1.46,
          1.47,
          1.48,
          1.49,
          1.5,
          1.51,
          1.52,
          1.53,
          1.54,
          1.55,
          1.56,
          1.57,
          1.58,
          1.59,
          1.6,
          1.61,
          1.62,
          1.63,
          1.64,
          1.65,
          1.66,
          1.67,
          1.68,
          1.69,
          1.7,
          1.71,
          1.72,
          1.73,
          1.74,
          1.75,
          1.76,
          1.77,
          1.78,
          1.79,
          1.8,
          1.81,
          1.82,
          1.83,
          1.84,
          1.85,
          1.86,
          1.87,
          1.88,
          1.89,
          1.9,
          1.91,
          1.92,
          1.93,
          1.94,
          1.95,
          1.96,
          1.97,
          1.98,
          1.99
         ],
         "y": [
          -0.26732866,
          -0.2731823907,
          -0.25896717690000004,
          -0.2509862004,
          -0.24049187860000001,
          -0.2357914942,
          -0.2257697301,
          -0.2338978105,
          -0.2171993316,
          -0.2078757223,
          -0.2013695203,
          -0.1898885874,
          -0.1937064745,
          -0.18446404619999998,
          -0.17750472679999998,
          -0.1735717858,
          -0.171953324,
          -0.1719732414,
          -0.1644366779,
          -0.1496484806,
          -0.1475343725,
          -0.1248236352,
          -0.13494438990000002,
          -0.1287104529,
          -0.13838529460000001,
          -0.1393327963,
          -0.09914535940000001,
          -0.1147463844,
          -0.1126700927,
          -0.1152023015,
          -0.1035136861,
          -0.0950801828,
          -0.09188925270000001,
          -0.08361880190000001,
          -0.0708264603,
          -0.0657865546,
          -0.07681506369999999,
          -0.0640944911,
          -0.0537485438,
          -0.054805588200000005,
          -0.046399612,
          -0.046047775299999996,
          -0.0498087891,
          -0.029167394000000003,
          -0.0395192501,
          -0.0267810834,
          -0.0365483123,
          -0.010835833,
          -0.0316278445,
          -0.0018919558000000001,
          -0.0050262428000000005,
          -0.005966459200000001,
          -0.0007484276000000009,
          0.0076184425,
          0.0008730938999999999,
          0.018077080500000002,
          0.006564722899999999,
          0.0013184418000000001,
          0.0091062329,
          0.0274571417,
          0.037224236599999995,
          0.0239315048,
          0.014508767799999999,
          0.034854124800000004,
          0.0341415406,
          0.036847017,
          0.0553021548,
          0.045712011,
          0.060508112700000005,
          0.0626526181,
          0.056702689300000005,
          0.0649066727,
          0.07245975419999999,
          0.0522507672,
          0.0632391175,
          0.0658313766,
          0.0771038957,
          0.0851932797,
          0.0822323721,
          0.0964410942,
          0.09900857739999999,
          0.0912260243,
          0.0930987573,
          0.0850968591,
          0.10362131379999999,
          0.1093374819,
          0.10336409319999999,
          0.11403899370000001,
          0.1135443346,
          0.1339391376,
          0.1147054868,
          0.1228678819,
          0.1194393556,
          0.11796224870000001,
          0.1245635901,
          0.1206785837,
          0.1314837788,
          0.1313100595,
          0.1338143155,
          0.1526130967,
          0.1436178523,
          0.1488728727,
          0.1475478426,
          0.140540735,
          0.148088113,
          0.1640735219,
          0.15914193929999998,
          0.1681687989,
          0.1610612746,
          0.1592162192,
          0.1748586894,
          0.1702072963,
          0.1592257578,
          0.1811021548,
          0.172081257,
          0.1841329368,
          0.179743134,
          0.1961442083,
          0.20250835050000002,
          0.1931986973,
          0.1825646236,
          0.1954022253,
          0.1903108826,
          0.21054251249999997,
          0.18852816239999998,
          0.1941141376,
          0.2108564083,
          0.197347933,
          0.2010879395,
          0.20809919189999998,
          0.2140567211,
          0.2260286813,
          0.2125995619,
          0.202865346,
          0.2234472187,
          0.2223715917,
          0.22013421660000002,
          0.2277566741,
          0.2235204033,
          0.2359100094,
          0.2262624022,
          0.2346048549,
          0.2274822395,
          0.2356282261,
          0.2326195928,
          0.23987237690000002,
          0.24189946699999998,
          0.2604950495,
          0.2549587436,
          0.259001604
         ]
        },
        {
         "line": {
          "color": "rgba(250,0,250,0.25)",
          "width": 2
         },
         "mode": "lines",
         "showlegend": false,
         "type": "scatter",
         "x": [
          0.5,
          0.51,
          0.52,
          0.53,
          0.54,
          0.55,
          0.56,
          0.57,
          0.58,
          0.59,
          0.6,
          0.61,
          0.62,
          0.63,
          0.64,
          0.65,
          0.66,
          0.67,
          0.68,
          0.69,
          0.7,
          0.71,
          0.72,
          0.73,
          0.74,
          0.75,
          0.76,
          0.77,
          0.78,
          0.79,
          0.8,
          0.81,
          0.82,
          0.83,
          0.84,
          0.85,
          0.86,
          0.87,
          0.88,
          0.89,
          0.9,
          0.91,
          0.92,
          0.93,
          0.94,
          0.95,
          0.96,
          0.97,
          0.98,
          0.99,
          1,
          1.01,
          1.02,
          1.03,
          1.04,
          1.05,
          1.06,
          1.07,
          1.08,
          1.09,
          1.1,
          1.11,
          1.12,
          1.13,
          1.14,
          1.15,
          1.16,
          1.17,
          1.18,
          1.19,
          1.2,
          1.21,
          1.22,
          1.23,
          1.24,
          1.25,
          1.26,
          1.27,
          1.28,
          1.29,
          1.3,
          1.31,
          1.32,
          1.33,
          1.34,
          1.35,
          1.36,
          1.37,
          1.38,
          1.39,
          1.4,
          1.41,
          1.42,
          1.43,
          1.44,
          1.45,
          1.46,
          1.47,
          1.48,
          1.49,
          1.5,
          1.51,
          1.52,
          1.53,
          1.54,
          1.55,
          1.56,
          1.57,
          1.58,
          1.59,
          1.6,
          1.61,
          1.62,
          1.63,
          1.64,
          1.65,
          1.66,
          1.67,
          1.68,
          1.69,
          1.7,
          1.71,
          1.72,
          1.73,
          1.74,
          1.75,
          1.76,
          1.77,
          1.78,
          1.79,
          1.8,
          1.81,
          1.82,
          1.83,
          1.84,
          1.85,
          1.86,
          1.87,
          1.88,
          1.89,
          1.9,
          1.91,
          1.92,
          1.93,
          1.94,
          1.95,
          1.96,
          1.97,
          1.98,
          1.99
         ],
         "y": [
          -0.2671579968677969,
          -0.2729141924304545,
          -0.2587285785179289,
          -0.25065217850578503,
          -0.24013638302057091,
          -0.23556066225835026,
          -0.22538658538380882,
          -0.2336044637032142,
          -0.21699236652756546,
          -0.20756953856671118,
          -0.20111218250228563,
          -0.18951674246044084,
          -0.1935427402950974,
          -0.18416232715351183,
          -0.17720452851188787,
          -0.1732359127537353,
          -0.1716093831980939,
          -0.17173381806709254,
          -0.16429245364385414,
          -0.1493285545658812,
          -0.14720496613573295,
          -0.1244582193177533,
          -0.13475808874927225,
          -0.12832004439868033,
          -0.13812858822286478,
          -0.1390878416026702,
          -0.09873880045538011,
          -0.11432705249845536,
          -0.11240209138939476,
          -0.11490321181273098,
          -0.10322685261404496,
          -0.09483812719588323,
          -0.09141337914445556,
          -0.08326585438375081,
          -0.07071579269252892,
          -0.06548459629600974,
          -0.07628033241321733,
          -0.06380308981748926,
          -0.05331168069972869,
          -0.05451941194258366,
          -0.04616078164701488,
          -0.04572350229023169,
          -0.04932478314316749,
          -0.028950403001337527,
          -0.03915591348906279,
          -0.026512688479208298,
          -0.03618724894036642,
          -0.010577800395685368,
          -0.03139778603235467,
          -0.0016246892150108057,
          -0.004829668704393136,
          -0.0055778072864794016,
          -0.0004008827652722294,
          0.007988904776912813,
          0.0010582338352823845,
          0.01843458766594524,
          0.006834034947451296,
          0.0015115534802788637,
          0.00949202825832522,
          0.02774283033707312,
          0.03756036462401558,
          0.024139135955171503,
          0.014724952348414758,
          0.03514334843794002,
          0.034369945700648295,
          0.03717980474968663,
          0.055645813320677154,
          0.045940391506386326,
          0.060727270152465596,
          0.06293019997686554,
          0.05698253999103606,
          0.06527778576498312,
          0.0728399893429594,
          0.05239854704197026,
          0.0635341138122372,
          0.06609434222378094,
          0.07731896754116964,
          0.08550200636245485,
          0.08259245930811698,
          0.09672802312816225,
          0.09940817305054157,
          0.09153577610478891,
          0.0933307176963769,
          0.08550126709295428,
          0.10396811872513213,
          0.10953863926580108,
          0.10364245704777668,
          0.11429107393497089,
          0.11385910313332355,
          0.1342162838084489,
          0.11502043267149988,
          0.1231751680973818,
          0.1198317572723813,
          0.1182286450921733,
          0.12484556543847489,
          0.12097675074454817,
          0.13182480219010792,
          0.13160139350545247,
          0.13409716857421203,
          0.15292772871397736,
          0.14396780399895334,
          0.14915654911301515,
          0.14792204385467742,
          0.14082862609373442,
          0.14833163095420154,
          0.16432439669588533,
          0.15935928410097874,
          0.16850961355844557,
          0.1613132453069851,
          0.15955740346126662,
          0.17503548868612412,
          0.17052855888594512,
          0.1594834765517146,
          0.18145158894417324,
          0.1722884342047308,
          0.18433349069616237,
          0.17997287381190896,
          0.19649186475126243,
          0.20291905257506443,
          0.19346191699744558,
          0.1830049153041322,
          0.19563135137539217,
          0.19054140517536652,
          0.2107620821426473,
          0.18875773091605091,
          0.194324818555733,
          0.2111840395695799,
          0.19757391701506474,
          0.20138087032237356,
          0.2082501244662732,
          0.21450485804608693,
          0.2263527845723212,
          0.21294387179590685,
          0.2031121059565356,
          0.22377081258787168,
          0.22269430045251973,
          0.22038759147052933,
          0.2280342260830459,
          0.22376065688916416,
          0.23622078593046195,
          0.2266112412393706,
          0.2348775967921149,
          0.2278261918293766,
          0.2358658249836041,
          0.23284092352482186,
          0.24021383151990133,
          0.24227776067739812,
          0.2607631080830316,
          0.25523921733796245,
          0.2593271536747448
         ]
        },
        {
         "fill": "tonexty",
         "fillcolor": "rgba(68, 68, 68, 0.2)",
         "line": {
          "color": "rgba(250,0,250,0.25)",
          "width": 2
         },
         "mode": "lines",
         "showlegend": false,
         "type": "scatter",
         "x": [
          0.5,
          0.51,
          0.52,
          0.53,
          0.54,
          0.55,
          0.56,
          0.57,
          0.58,
          0.59,
          0.6,
          0.61,
          0.62,
          0.63,
          0.64,
          0.65,
          0.66,
          0.67,
          0.68,
          0.69,
          0.7,
          0.71,
          0.72,
          0.73,
          0.74,
          0.75,
          0.76,
          0.77,
          0.78,
          0.79,
          0.8,
          0.81,
          0.82,
          0.83,
          0.84,
          0.85,
          0.86,
          0.87,
          0.88,
          0.89,
          0.9,
          0.91,
          0.92,
          0.93,
          0.94,
          0.95,
          0.96,
          0.97,
          0.98,
          0.99,
          1,
          1.01,
          1.02,
          1.03,
          1.04,
          1.05,
          1.06,
          1.07,
          1.08,
          1.09,
          1.1,
          1.11,
          1.12,
          1.13,
          1.14,
          1.15,
          1.16,
          1.17,
          1.18,
          1.19,
          1.2,
          1.21,
          1.22,
          1.23,
          1.24,
          1.25,
          1.26,
          1.27,
          1.28,
          1.29,
          1.3,
          1.31,
          1.32,
          1.33,
          1.34,
          1.35,
          1.36,
          1.37,
          1.38,
          1.39,
          1.4,
          1.41,
          1.42,
          1.43,
          1.44,
          1.45,
          1.46,
          1.47,
          1.48,
          1.49,
          1.5,
          1.51,
          1.52,
          1.53,
          1.54,
          1.55,
          1.56,
          1.57,
          1.58,
          1.59,
          1.6,
          1.61,
          1.62,
          1.63,
          1.64,
          1.65,
          1.66,
          1.67,
          1.68,
          1.69,
          1.7,
          1.71,
          1.72,
          1.73,
          1.74,
          1.75,
          1.76,
          1.77,
          1.78,
          1.79,
          1.8,
          1.81,
          1.82,
          1.83,
          1.84,
          1.85,
          1.86,
          1.87,
          1.88,
          1.89,
          1.9,
          1.91,
          1.92,
          1.93,
          1.94,
          1.95,
          1.96,
          1.97,
          1.98,
          1.99
         ],
         "y": [
          -0.2674993231322031,
          -0.2734505889695455,
          -0.25920577528207117,
          -0.251320222294215,
          -0.2408473741794291,
          -0.23602232614164975,
          -0.2261528748161912,
          -0.2341911572967858,
          -0.21740629667243452,
          -0.20818190603328884,
          -0.20162685809771436,
          -0.19026043233955917,
          -0.1938702087049026,
          -0.18476576524648813,
          -0.1778049250881121,
          -0.1739076588462647,
          -0.17229726480190607,
          -0.17221266473290747,
          -0.16458090215614585,
          -0.14996840663411878,
          -0.14786377886426708,
          -0.1251890510822467,
          -0.13513069105072778,
          -0.12910086140131966,
          -0.13864200097713525,
          -0.1395777509973298,
          -0.0995519183446199,
          -0.11516571630154464,
          -0.11293809401060524,
          -0.11550139118726903,
          -0.10380051958595504,
          -0.09532223840411676,
          -0.09236512625554445,
          -0.08397174941624921,
          -0.07093712790747109,
          -0.06608851290399027,
          -0.07734979498678266,
          -0.06438589238251073,
          -0.05418540690027131,
          -0.05509176445741635,
          -0.04663844235298512,
          -0.0463720483097683,
          -0.05029279505683251,
          -0.02938438499866248,
          -0.03988258671093721,
          -0.0270494783207917,
          -0.03690937565963357,
          -0.011093865604314631,
          -0.03185790296764533,
          -0.0021592223849891947,
          -0.005222816895606865,
          -0.006355111113520601,
          -0.0010959724347277724,
          0.007247980223087188,
          0.0006879539647176154,
          0.017719573334054765,
          0.006295410852548702,
          0.0011253301197211366,
          0.00872043754167478,
          0.02717145306292688,
          0.03688810857598441,
          0.023723873644828496,
          0.01429258325158524,
          0.034564901162059986,
          0.0339131354993517,
          0.036514229250313376,
          0.05495849627932285,
          0.04548363049361367,
          0.060288955247534415,
          0.06237503622313446,
          0.05642283860896395,
          0.06453555963501688,
          0.07207951905704058,
          0.05210298735802974,
          0.0629441211877628,
          0.06556841097621907,
          0.07688882385883035,
          0.08488455303754515,
          0.08187228489188303,
          0.09615416527183773,
          0.09860898174945841,
          0.09091627249521109,
          0.09286679690362311,
          0.08469245110704574,
          0.10327450887486785,
          0.10913632453419893,
          0.10308572935222331,
          0.11378691346502913,
          0.11322956606667646,
          0.1336619913915511,
          0.11439054092850014,
          0.12256059570261821,
          0.11904695392761871,
          0.11769585230782671,
          0.1242816147615251,
          0.12038041665545182,
          0.1311427554098921,
          0.13101872549454752,
          0.13353146242578798,
          0.15229846468602265,
          0.14326790060104663,
          0.14858919628698483,
          0.1471736413453226,
          0.14025284390626558,
          0.14784459504579844,
          0.16382264710411465,
          0.15892459449902122,
          0.16782798424155443,
          0.1608093038930149,
          0.1588750349387334,
          0.17468189011387586,
          0.1698860337140549,
          0.1589680390482854,
          0.18075272065582676,
          0.17187407979526917,
          0.18393238290383765,
          0.17951339418809104,
          0.1957965518487376,
          0.2020976484249356,
          0.19293547760255442,
          0.1821243318958678,
          0.19517309922460785,
          0.1900803600246335,
          0.21032294285735265,
          0.18829859388394904,
          0.19390345664426697,
          0.21052877703042008,
          0.19712194898493526,
          0.20079500867762645,
          0.20794825933372676,
          0.2136085841539131,
          0.22570457802767882,
          0.21225525200409318,
          0.20261858604346442,
          0.22312362481212833,
          0.2220488829474803,
          0.2198808417294707,
          0.2274791221169541,
          0.22328014971083585,
          0.23559923286953807,
          0.22591356316062938,
          0.2343321130078851,
          0.22713828717062337,
          0.23539062721639592,
          0.23239826207517814,
          0.2395309222800987,
          0.24152117332260184,
          0.26022699091696844,
          0.2546782698620375,
          0.2586760543252552
         ]
        }
       ],
       "layout": {
        "annotations": [
         {
          "showarrow": false,
          "text": "Random sorting",
          "x": 1,
          "xanchor": "right",
          "xref": "x domain",
          "y": 0,
          "yanchor": "bottom",
          "yref": "y"
         },
         {
          "showarrow": false,
          "text": "ϵ=1: no bias",
          "x": 1,
          "xanchor": "left",
          "xref": "x",
          "y": 1,
          "yanchor": "top",
          "yref": "y domain"
         }
        ],
        "font": {
         "size": 18
        },
        "height": 500,
        "legend": {
         "title": {
          "text": ""
         },
         "x": 0.75,
         "y": 0.15
        },
        "margin": {
         "b": 5,
         "l": 5,
         "r": 5,
         "t": 5
        },
        "plot_bgcolor": "rgba(0,0,0,0)",
        "shapes": [
         {
          "line": {
           "width": 1
          },
          "type": "line",
          "x0": 0,
          "x1": 1,
          "xref": "x domain",
          "y0": 0,
          "y1": 0,
          "yref": "y"
         },
         {
          "line": {
           "width": 1
          },
          "type": "line",
          "x0": 1,
          "x1": 1,
          "xref": "x",
          "y0": 0,
          "y1": 1,
          "yref": "y domain"
         }
        ],
        "showlegend": true,
        "template": {
         "data": {
          "bar": [
           {
            "error_x": {
             "color": "#2a3f5f"
            },
            "error_y": {
             "color": "#2a3f5f"
            },
            "marker": {
             "line": {
              "color": "#E5ECF6",
              "width": 0.5
             },
             "pattern": {
              "fillmode": "overlay",
              "size": 10,
              "solidity": 0.2
             }
            },
            "type": "bar"
           }
          ],
          "barpolar": [
           {
            "marker": {
             "line": {
              "color": "#E5ECF6",
              "width": 0.5
             },
             "pattern": {
              "fillmode": "overlay",
              "size": 10,
              "solidity": 0.2
             }
            },
            "type": "barpolar"
           }
          ],
          "carpet": [
           {
            "aaxis": {
             "endlinecolor": "#2a3f5f",
             "gridcolor": "white",
             "linecolor": "white",
             "minorgridcolor": "white",
             "startlinecolor": "#2a3f5f"
            },
            "baxis": {
             "endlinecolor": "#2a3f5f",
             "gridcolor": "white",
             "linecolor": "white",
             "minorgridcolor": "white",
             "startlinecolor": "#2a3f5f"
            },
            "type": "carpet"
           }
          ],
          "choropleth": [
           {
            "colorbar": {
             "outlinewidth": 0,
             "ticks": ""
            },
            "type": "choropleth"
           }
          ],
          "contour": [
           {
            "colorbar": {
             "outlinewidth": 0,
             "ticks": ""
            },
            "colorscale": [
             [
              0,
              "#0d0887"
             ],
             [
              0.1111111111111111,
              "#46039f"
             ],
             [
              0.2222222222222222,
              "#7201a8"
             ],
             [
              0.3333333333333333,
              "#9c179e"
             ],
             [
              0.4444444444444444,
              "#bd3786"
             ],
             [
              0.5555555555555556,
              "#d8576b"
             ],
             [
              0.6666666666666666,
              "#ed7953"
             ],
             [
              0.7777777777777778,
              "#fb9f3a"
             ],
             [
              0.8888888888888888,
              "#fdca26"
             ],
             [
              1,
              "#f0f921"
             ]
            ],
            "type": "contour"
           }
          ],
          "contourcarpet": [
           {
            "colorbar": {
             "outlinewidth": 0,
             "ticks": ""
            },
            "type": "contourcarpet"
           }
          ],
          "heatmap": [
           {
            "colorbar": {
             "outlinewidth": 0,
             "ticks": ""
            },
            "colorscale": [
             [
              0,
              "#0d0887"
             ],
             [
              0.1111111111111111,
              "#46039f"
             ],
             [
              0.2222222222222222,
              "#7201a8"
             ],
             [
              0.3333333333333333,
              "#9c179e"
             ],
             [
              0.4444444444444444,
              "#bd3786"
             ],
             [
              0.5555555555555556,
              "#d8576b"
             ],
             [
              0.6666666666666666,
              "#ed7953"
             ],
             [
              0.7777777777777778,
              "#fb9f3a"
             ],
             [
              0.8888888888888888,
              "#fdca26"
             ],
             [
              1,
              "#f0f921"
             ]
            ],
            "type": "heatmap"
           }
          ],
          "heatmapgl": [
           {
            "colorbar": {
             "outlinewidth": 0,
             "ticks": ""
            },
            "colorscale": [
             [
              0,
              "#0d0887"
             ],
             [
              0.1111111111111111,
              "#46039f"
             ],
             [
              0.2222222222222222,
              "#7201a8"
             ],
             [
              0.3333333333333333,
              "#9c179e"
             ],
             [
              0.4444444444444444,
              "#bd3786"
             ],
             [
              0.5555555555555556,
              "#d8576b"
             ],
             [
              0.6666666666666666,
              "#ed7953"
             ],
             [
              0.7777777777777778,
              "#fb9f3a"
             ],
             [
              0.8888888888888888,
              "#fdca26"
             ],
             [
              1,
              "#f0f921"
             ]
            ],
            "type": "heatmapgl"
           }
          ],
          "histogram": [
           {
            "marker": {
             "pattern": {
              "fillmode": "overlay",
              "size": 10,
              "solidity": 0.2
             }
            },
            "type": "histogram"
           }
          ],
          "histogram2d": [
           {
            "colorbar": {
             "outlinewidth": 0,
             "ticks": ""
            },
            "colorscale": [
             [
              0,
              "#0d0887"
             ],
             [
              0.1111111111111111,
              "#46039f"
             ],
             [
              0.2222222222222222,
              "#7201a8"
             ],
             [
              0.3333333333333333,
              "#9c179e"
             ],
             [
              0.4444444444444444,
              "#bd3786"
             ],
             [
              0.5555555555555556,
              "#d8576b"
             ],
             [
              0.6666666666666666,
              "#ed7953"
             ],
             [
              0.7777777777777778,
              "#fb9f3a"
             ],
             [
              0.8888888888888888,
              "#fdca26"
             ],
             [
              1,
              "#f0f921"
             ]
            ],
            "type": "histogram2d"
           }
          ],
          "histogram2dcontour": [
           {
            "colorbar": {
             "outlinewidth": 0,
             "ticks": ""
            },
            "colorscale": [
             [
              0,
              "#0d0887"
             ],
             [
              0.1111111111111111,
              "#46039f"
             ],
             [
              0.2222222222222222,
              "#7201a8"
             ],
             [
              0.3333333333333333,
              "#9c179e"
             ],
             [
              0.4444444444444444,
              "#bd3786"
             ],
             [
              0.5555555555555556,
              "#d8576b"
             ],
             [
              0.6666666666666666,
              "#ed7953"
             ],
             [
              0.7777777777777778,
              "#fb9f3a"
             ],
             [
              0.8888888888888888,
              "#fdca26"
             ],
             [
              1,
              "#f0f921"
             ]
            ],
            "type": "histogram2dcontour"
           }
          ],
          "mesh3d": [
           {
            "colorbar": {
             "outlinewidth": 0,
             "ticks": ""
            },
            "type": "mesh3d"
           }
          ],
          "parcoords": [
           {
            "line": {
             "colorbar": {
              "outlinewidth": 0,
              "ticks": ""
             }
            },
            "type": "parcoords"
           }
          ],
          "pie": [
           {
            "automargin": true,
            "type": "pie"
           }
          ],
          "scatter": [
           {
            "fillpattern": {
             "fillmode": "overlay",
             "size": 10,
             "solidity": 0.2
            },
            "type": "scatter"
           }
          ],
          "scatter3d": [
           {
            "line": {
             "colorbar": {
              "outlinewidth": 0,
              "ticks": ""
             }
            },
            "marker": {
             "colorbar": {
              "outlinewidth": 0,
              "ticks": ""
             }
            },
            "type": "scatter3d"
           }
          ],
          "scattercarpet": [
           {
            "marker": {
             "colorbar": {
              "outlinewidth": 0,
              "ticks": ""
             }
            },
            "type": "scattercarpet"
           }
          ],
          "scattergeo": [
           {
            "marker": {
             "colorbar": {
              "outlinewidth": 0,
              "ticks": ""
             }
            },
            "type": "scattergeo"
           }
          ],
          "scattergl": [
           {
            "marker": {
             "colorbar": {
              "outlinewidth": 0,
              "ticks": ""
             }
            },
            "type": "scattergl"
           }
          ],
          "scattermapbox": [
           {
            "marker": {
             "colorbar": {
              "outlinewidth": 0,
              "ticks": ""
             }
            },
            "type": "scattermapbox"
           }
          ],
          "scatterpolar": [
           {
            "marker": {
             "colorbar": {
              "outlinewidth": 0,
              "ticks": ""
             }
            },
            "type": "scatterpolar"
           }
          ],
          "scatterpolargl": [
           {
            "marker": {
             "colorbar": {
              "outlinewidth": 0,
              "ticks": ""
             }
            },
            "type": "scatterpolargl"
           }
          ],
          "scatterternary": [
           {
            "marker": {
             "colorbar": {
              "outlinewidth": 0,
              "ticks": ""
             }
            },
            "type": "scatterternary"
           }
          ],
          "surface": [
           {
            "colorbar": {
             "outlinewidth": 0,
             "ticks": ""
            },
            "colorscale": [
             [
              0,
              "#0d0887"
             ],
             [
              0.1111111111111111,
              "#46039f"
             ],
             [
              0.2222222222222222,
              "#7201a8"
             ],
             [
              0.3333333333333333,
              "#9c179e"
             ],
             [
              0.4444444444444444,
              "#bd3786"
             ],
             [
              0.5555555555555556,
              "#d8576b"
             ],
             [
              0.6666666666666666,
              "#ed7953"
             ],
             [
              0.7777777777777778,
              "#fb9f3a"
             ],
             [
              0.8888888888888888,
              "#fdca26"
             ],
             [
              1,
              "#f0f921"
             ]
            ],
            "type": "surface"
           }
          ],
          "table": [
           {
            "cells": {
             "fill": {
              "color": "#EBF0F8"
             },
             "line": {
              "color": "white"
             }
            },
            "header": {
             "fill": {
              "color": "#C8D4E3"
             },
             "line": {
              "color": "white"
             }
            },
            "type": "table"
           }
          ]
         },
         "layout": {
          "annotationdefaults": {
           "arrowcolor": "#2a3f5f",
           "arrowhead": 0,
           "arrowwidth": 1
          },
          "autotypenumbers": "strict",
          "coloraxis": {
           "colorbar": {
            "outlinewidth": 0,
            "ticks": ""
           }
          },
          "colorscale": {
           "diverging": [
            [
             0,
             "#8e0152"
            ],
            [
             0.1,
             "#c51b7d"
            ],
            [
             0.2,
             "#de77ae"
            ],
            [
             0.3,
             "#f1b6da"
            ],
            [
             0.4,
             "#fde0ef"
            ],
            [
             0.5,
             "#f7f7f7"
            ],
            [
             0.6,
             "#e6f5d0"
            ],
            [
             0.7,
             "#b8e186"
            ],
            [
             0.8,
             "#7fbc41"
            ],
            [
             0.9,
             "#4d9221"
            ],
            [
             1,
             "#276419"
            ]
           ],
           "sequential": [
            [
             0,
             "#0d0887"
            ],
            [
             0.1111111111111111,
             "#46039f"
            ],
            [
             0.2222222222222222,
             "#7201a8"
            ],
            [
             0.3333333333333333,
             "#9c179e"
            ],
            [
             0.4444444444444444,
             "#bd3786"
            ],
            [
             0.5555555555555556,
             "#d8576b"
            ],
            [
             0.6666666666666666,
             "#ed7953"
            ],
            [
             0.7777777777777778,
             "#fb9f3a"
            ],
            [
             0.8888888888888888,
             "#fdca26"
            ],
            [
             1,
             "#f0f921"
            ]
           ],
           "sequentialminus": [
            [
             0,
             "#0d0887"
            ],
            [
             0.1111111111111111,
             "#46039f"
            ],
            [
             0.2222222222222222,
             "#7201a8"
            ],
            [
             0.3333333333333333,
             "#9c179e"
            ],
            [
             0.4444444444444444,
             "#bd3786"
            ],
            [
             0.5555555555555556,
             "#d8576b"
            ],
            [
             0.6666666666666666,
             "#ed7953"
            ],
            [
             0.7777777777777778,
             "#fb9f3a"
            ],
            [
             0.8888888888888888,
             "#fdca26"
            ],
            [
             1,
             "#f0f921"
            ]
           ]
          },
          "colorway": [
           "#636efa",
           "#EF553B",
           "#00cc96",
           "#ab63fa",
           "#FFA15A",
           "#19d3f3",
           "#FF6692",
           "#B6E880",
           "#FF97FF",
           "#FECB52"
          ],
          "font": {
           "color": "#2a3f5f"
          },
          "geo": {
           "bgcolor": "white",
           "lakecolor": "white",
           "landcolor": "#E5ECF6",
           "showlakes": true,
           "showland": true,
           "subunitcolor": "white"
          },
          "hoverlabel": {
           "align": "left"
          },
          "hovermode": "closest",
          "mapbox": {
           "style": "light"
          },
          "paper_bgcolor": "white",
          "plot_bgcolor": "#E5ECF6",
          "polar": {
           "angularaxis": {
            "gridcolor": "white",
            "linecolor": "white",
            "ticks": ""
           },
           "bgcolor": "#E5ECF6",
           "radialaxis": {
            "gridcolor": "white",
            "linecolor": "white",
            "ticks": ""
           }
          },
          "scene": {
           "xaxis": {
            "backgroundcolor": "#E5ECF6",
            "gridcolor": "white",
            "gridwidth": 2,
            "linecolor": "white",
            "showbackground": true,
            "ticks": "",
            "zerolinecolor": "white"
           },
           "yaxis": {
            "backgroundcolor": "#E5ECF6",
            "gridcolor": "white",
            "gridwidth": 2,
            "linecolor": "white",
            "showbackground": true,
            "ticks": "",
            "zerolinecolor": "white"
           },
           "zaxis": {
            "backgroundcolor": "#E5ECF6",
            "gridcolor": "white",
            "gridwidth": 2,
            "linecolor": "white",
            "showbackground": true,
            "ticks": "",
            "zerolinecolor": "white"
           }
          },
          "shapedefaults": {
           "line": {
            "color": "#2a3f5f"
           }
          },
          "ternary": {
           "aaxis": {
            "gridcolor": "white",
            "linecolor": "white",
            "ticks": ""
           },
           "baxis": {
            "gridcolor": "white",
            "linecolor": "white",
            "ticks": ""
           },
           "bgcolor": "#E5ECF6",
           "caxis": {
            "gridcolor": "white",
            "linecolor": "white",
            "ticks": ""
           }
          },
          "title": {
           "x": 0.05
          },
          "xaxis": {
           "automargin": true,
           "gridcolor": "white",
           "linecolor": "white",
           "ticks": "",
           "title": {
            "standoff": 15
           },
           "zerolinecolor": "white",
           "zerolinewidth": 2
          },
          "yaxis": {
           "automargin": true,
           "gridcolor": "white",
           "linecolor": "white",
           "ticks": "",
           "title": {
            "standoff": 15
           },
           "zerolinecolor": "white",
           "zerolinewidth": 2
          }
         }
        },
        "title": {},
        "width": 500,
        "xaxis": {
         "linecolor": "rgb(0,0,0)",
         "linewidth": 2,
         "range": [
          0.5,
          2
         ],
         "showgrid": false,
         "showline": true,
         "title": {
          "text": "Epsilon"
         }
        },
        "yaxis": {
         "linecolor": "rgb(0,0,0)",
         "linewidth": 2,
         "range": [
          -0.5,
          0.5
         ],
         "showgrid": false,
         "showline": true,
         "title": {
          "text": "SES Assortativity"
         }
        }
       }
      }
     },
     "metadata": {},
     "output_type": "display_data"
    }
   ],
   "source": [
    "\n",
    "\n",
    "SESAss_epsilon_rho1 = plotly_lines.plot_MTO_sim_results(plotly_lines(), data=df_eps[df_eps['rho'] == 1], x_var='epsilon', y_var='Network_SES_assortativity', x_range=[0.5,2], y_range=[0,1], x_title='Epsilon', y_title='Exposure', with_predicted=False, colors=['rgba(250,0,250,1)'], legend_text='ρ=1')\n",
    "\n",
    "SESAss_epsilon_rho125 = plotly_lines.plot_MTO_sim_results(plotly_lines(), data=df_eps[df_eps['rho'] == 1.25], x_var='epsilon', y_var='Network_SES_assortativity', x_range=[0.5,2], y_range=[0,1], x_title='Epsilon', y_title='Exposure', with_predicted=False, colors=['rgba(150,0,150,1)'], legend_text='ρ=1.25')\n",
    "\n",
    "SESAss_epsilon_rho15 = plotly_lines.plot_MTO_sim_results(plotly_lines(), data=df_eps[df_eps['rho'] == 1.5], x_var='epsilon', y_var='Network_SES_assortativity', x_range=[0.5,2], y_range=[0,1], x_title='Epsilon', y_title='Exposure', with_predicted=False, colors=['rgba(100,0,100,1)'], legend_text='ρ=1.5')\n",
    "\n",
    "SESAss_epsilon_rho = go.Figure(data = SESAss_epsilon_rho15.data + SESAss_epsilon_rho125.data + SESAss_epsilon_rho1.data)\n",
    "\n",
    "SESAss_epsilon_rho.update_layout(\n",
    "    title = None, \n",
    "    font=dict(size = 18),\n",
    "    xaxis_title = 'Epsilon', \n",
    "    yaxis_title = 'SES Assortativity',\n",
    "    width = 500, height = 500,\n",
    "    showlegend = True, \n",
    "    legend=dict(x=0.75,y=0.15),\n",
    "    legend_title_text = '',\n",
    "    xaxis_range = [0.5,2],\n",
    "    yaxis_range = [-0.5,0.5],\n",
    "    margin=dict(b=5,l=5,r=5,t=5),\n",
    "    xaxis = dict(showgrid = False, showline = True, linecolor = 'rgb(0,0,0)', linewidth = 2), \n",
    "    yaxis = dict(showgrid = False, showline = True, linecolor = 'rgb(0,0,0)', linewidth = 2),\n",
    "    plot_bgcolor='rgba(0,0,0,0)')\n",
    "\n",
    "SESAss_epsilon_rho.add_hline(y=0, line_width=1, annotation_text = 'Random sorting')\n",
    "SESAss_epsilon_rho.add_vline(x=1, line_width=1, annotation_text = 'ϵ=1: no bias')\n",
    "\n",
    "\n"
   ]
  },
  {
   "attachments": {},
   "cell_type": "markdown",
   "metadata": {},
   "source": [
    "### Epsilon Exposure DONE"
   ]
  },
  {
   "cell_type": "code",
   "execution_count": 185,
   "metadata": {},
   "outputs": [
    {
     "data": {
      "application/vnd.plotly.v1+json": {
       "config": {
        "plotlyServerURL": "https://plot.ly"
       },
       "data": [
        {
         "line": {
          "color": "rgba(15,209,132,1)",
          "width": 2
         },
         "mode": "lines",
         "name": "Realised",
         "showlegend": true,
         "type": "scatter",
         "x": [
          0.5,
          0.51,
          0.52,
          0.53,
          0.54,
          0.55,
          0.56,
          0.57,
          0.58,
          0.59,
          0.6,
          0.61,
          0.62,
          0.63,
          0.64,
          0.65,
          0.66,
          0.67,
          0.68,
          0.69,
          0.7,
          0.71,
          0.72,
          0.73,
          0.74,
          0.75,
          0.76,
          0.77,
          0.78,
          0.79,
          0.8,
          0.81,
          0.82,
          0.83,
          0.84,
          0.85,
          0.86,
          0.87,
          0.88,
          0.89,
          0.9,
          0.91,
          0.92,
          0.93,
          0.94,
          0.95,
          0.96,
          0.97,
          0.98,
          0.99,
          1,
          1.01,
          1.02,
          1.03,
          1.04,
          1.05,
          1.06,
          1.07,
          1.08,
          1.09,
          1.1,
          1.11,
          1.12,
          1.13,
          1.14,
          1.15,
          1.16,
          1.17,
          1.18,
          1.19,
          1.2,
          1.21,
          1.22,
          1.23,
          1.24,
          1.25,
          1.26,
          1.27,
          1.28,
          1.29,
          1.3,
          1.31,
          1.32,
          1.33,
          1.34,
          1.35,
          1.36,
          1.37,
          1.38,
          1.39,
          1.4,
          1.41,
          1.42,
          1.43,
          1.44,
          1.45,
          1.46,
          1.47,
          1.48,
          1.49,
          1.5,
          1.51,
          1.52,
          1.53,
          1.54,
          1.55,
          1.56,
          1.57,
          1.58,
          1.59,
          1.6,
          1.61,
          1.62,
          1.63,
          1.64,
          1.65,
          1.66,
          1.67,
          1.68,
          1.69,
          1.7,
          1.71,
          1.72,
          1.73,
          1.74,
          1.75,
          1.76,
          1.77,
          1.78,
          1.79,
          1.8,
          1.81,
          1.82,
          1.83,
          1.84,
          1.85,
          1.86,
          1.87,
          1.88,
          1.89,
          1.9,
          1.91,
          1.92,
          1.93,
          1.94,
          1.95,
          1.96,
          1.97,
          1.98,
          1.99
         ],
         "y": [
          1.3196360306930002,
          1.265611222178,
          1.269604195868,
          1.311796370347,
          1.310987845555,
          1.230313353381,
          1.243806360363,
          1.231728937785,
          1.1772882118519998,
          1.246645854207,
          1.226996836565,
          1.257576590139,
          1.1933055278700002,
          1.1676315352,
          1.249317515893,
          1.1964740260220001,
          1.196278055323,
          1.230386946451,
          1.198267732332,
          1.200528471587,
          1.172983849545,
          1.1287832168299998,
          1.0720825841169999,
          1.174248751318,
          1.1015098235390002,
          1.150317349381,
          1.121177156233,
          1.1703834499280001,
          1.1103999334330001,
          1.1112337662740002,
          1.074841225467,
          1.106581252134,
          1.141390276426,
          1.0734388944729998,
          1.077887112936,
          1.094042124582,
          1.120177322727,
          1.083260273094,
          1.0918979354410001,
          1.02605161507,
          1.038006327038,
          1.0209420579500001,
          1.015990842485,
          1.032172993693,
          1.010579254087,
          1.0412630702680001,
          0.976522810518,
          1.011770895785,
          0.963403263396,
          0.993234165825,
          1.012780386284,
          1.011663170179,
          1.0194572094630001,
          0.997170329669,
          0.913065101511,
          0.992936063933,
          0.981161172144,
          0.954864868451,
          0.89627405923,
          0.9717777222549999,
          0.9803936063800001,
          0.8883952713459999,
          0.939681152152,
          0.920529637006,
          0.963393439879,
          0.9477380952140001,
          0.9111130535680001,
          0.9158306692920001,
          0.928232434207,
          0.903932567393,
          0.909315018272,
          0.86529920074,
          0.882025807471,
          0.842744422179,
          0.8926606726180001,
          0.942295704277,
          0.852166000622,
          0.890274558726,
          0.886899433868,
          0.87260622706,
          0.903157342622,
          0.907944222409,
          0.865120379573,
          0.8341595071000001,
          0.857433732878,
          0.907069430545,
          0.839399267342,
          0.882450382914,
          0.857107559045,
          0.844904095869,
          0.863397435837,
          0.8342091241399999,
          0.873598901082,
          0.83218078582,
          0.816163503123,
          0.834560939003,
          0.798664002593,
          0.806212787155,
          0.833010988966,
          0.848627539074,
          0.770492340926,
          0.818010489447,
          0.812371961306,
          0.789644522069,
          0.7877557441930001,
          0.77938261732,
          0.78552747247,
          0.837636863078,
          0.775328671266,
          0.810104562049,
          0.7975609389989999,
          0.733346153771,
          0.772912753847,
          0.741401032249,
          0.7545577754839999,
          0.79118015313,
          0.775724608669,
          0.76042324337,
          0.7627094571390001,
          0.741896769839,
          0.754456943015,
          0.732630702589,
          0.718807692244,
          0.776679320641,
          0.735948551396,
          0.708525141482,
          0.7902927072270001,
          0.716862803796,
          0.733291042239,
          0.67481451878,
          0.71409224104,
          0.723644688597,
          0.6452950382410001,
          0.7239858474390001,
          0.7192181151470001,
          0.7001758241139999,
          0.7739333998769999,
          0.746272727202,
          0.697973526397,
          0.679002663935,
          0.7257778887240001,
          0.702809357243,
          0.760523642988,
          0.725657509096,
          0.672179986625,
          0.7338266732659999,
          0.652246586694,
          0.7156283715780001,
          0.6949084248599999,
          0.7098116882529999
         ]
        },
        {
         "line": {
          "color": "rgba(15,209,132,0.25)",
          "width": 2
         },
         "mode": "lines",
         "showlegend": false,
         "type": "scatter",
         "x": [
          0.5,
          0.51,
          0.52,
          0.53,
          0.54,
          0.55,
          0.56,
          0.57,
          0.58,
          0.59,
          0.6,
          0.61,
          0.62,
          0.63,
          0.64,
          0.65,
          0.66,
          0.67,
          0.68,
          0.69,
          0.7,
          0.71,
          0.72,
          0.73,
          0.74,
          0.75,
          0.76,
          0.77,
          0.78,
          0.79,
          0.8,
          0.81,
          0.82,
          0.83,
          0.84,
          0.85,
          0.86,
          0.87,
          0.88,
          0.89,
          0.9,
          0.91,
          0.92,
          0.93,
          0.94,
          0.95,
          0.96,
          0.97,
          0.98,
          0.99,
          1,
          1.01,
          1.02,
          1.03,
          1.04,
          1.05,
          1.06,
          1.07,
          1.08,
          1.09,
          1.1,
          1.11,
          1.12,
          1.13,
          1.14,
          1.15,
          1.16,
          1.17,
          1.18,
          1.19,
          1.2,
          1.21,
          1.22,
          1.23,
          1.24,
          1.25,
          1.26,
          1.27,
          1.28,
          1.29,
          1.3,
          1.31,
          1.32,
          1.33,
          1.34,
          1.35,
          1.36,
          1.37,
          1.38,
          1.39,
          1.4,
          1.41,
          1.42,
          1.43,
          1.44,
          1.45,
          1.46,
          1.47,
          1.48,
          1.49,
          1.5,
          1.51,
          1.52,
          1.53,
          1.54,
          1.55,
          1.56,
          1.57,
          1.58,
          1.59,
          1.6,
          1.61,
          1.62,
          1.63,
          1.64,
          1.65,
          1.66,
          1.67,
          1.68,
          1.69,
          1.7,
          1.71,
          1.72,
          1.73,
          1.74,
          1.75,
          1.76,
          1.77,
          1.78,
          1.79,
          1.8,
          1.81,
          1.82,
          1.83,
          1.84,
          1.85,
          1.86,
          1.87,
          1.88,
          1.89,
          1.9,
          1.91,
          1.92,
          1.93,
          1.94,
          1.95,
          1.96,
          1.97,
          1.98,
          1.99
         ],
         "y": [
          1.3230556654633892,
          1.2688209564563104,
          1.273107975784567,
          1.315281410023524,
          1.3142791367524613,
          1.2336511022770902,
          1.2473280493450316,
          1.2351823169838498,
          1.1807222298464228,
          1.2501048062750033,
          1.2302572725443952,
          1.2609763496688762,
          1.1966879747614458,
          1.1709654043384525,
          1.252689962902732,
          1.1999996172824126,
          1.199735408233237,
          1.2337705180454763,
          1.201712822827958,
          1.2038802145252798,
          1.1763357192811583,
          1.132426888685175,
          1.0755701526909125,
          1.1776871427563702,
          1.105196785353277,
          1.153767574068553,
          1.1246166776028719,
          1.1739667950513484,
          1.1138909929483631,
          1.1147835779593023,
          1.078479635866433,
          1.1097964214670193,
          1.1450782456225204,
          1.076976903723833,
          1.081169528988174,
          1.0976607776685927,
          1.1235412911552767,
          1.0868151162546926,
          1.0955361838017756,
          1.0298305227989784,
          1.0414855888958718,
          1.0242259627221135,
          1.0197163503164217,
          1.0358074439993072,
          1.0140552731860866,
          1.0448092500721846,
          0.980031474571417,
          1.015274022726307,
          0.9667906876914734,
          0.9967434076895682,
          1.0163955059398313,
          1.0149926395859514,
          1.0232501924786614,
          1.0009649033077472,
          0.9164902123828509,
          0.9965027300839127,
          0.9845785101116775,
          0.9585414053721605,
          0.8996995231036294,
          0.9750893449515928,
          0.9838403285006573,
          0.8919648918707378,
          0.9431564442234206,
          0.9240013476795546,
          0.9670527589283099,
          0.9512156086937193,
          0.9148556342077626,
          0.9193032789439142,
          0.931811057848054,
          0.9075381558982494,
          0.912716057236989,
          0.8687967056169831,
          0.8855089679005859,
          0.8461561731115305,
          0.8963071987583369,
          0.9457672283060041,
          0.8556984838411947,
          0.8938197388810946,
          0.8904573782087143,
          0.8759969699673416,
          0.9064897563978228,
          0.9114660215590594,
          0.868706587759201,
          0.8376659049314725,
          0.8609588065140932,
          0.9107903437574413,
          0.8429813715944882,
          0.8860526675396244,
          0.860595281701401,
          0.8486662969173523,
          0.8669410340073959,
          0.8376991165469091,
          0.8772655515050346,
          0.8356201188973057,
          0.8199178938805317,
          0.8379528383940055,
          0.8020722558914724,
          0.809864240567451,
          0.8366151305988143,
          0.8521282012525532,
          0.7739089425664676,
          0.821586318744044,
          0.816019802014058,
          0.7930528380315829,
          0.7913111215752131,
          0.7828320508018743,
          0.7890652173306916,
          0.841215843312035,
          0.7787335280346934,
          0.8136849216539637,
          0.8009415428566693,
          0.7365884833643682,
          0.7762950495060938,
          0.745010963847062,
          0.757952319925749,
          0.7947432448133177,
          0.7793038405019782,
          0.7639229989719354,
          0.7660954023333765,
          0.7454442245558265,
          0.7579866953794953,
          0.7362968781314442,
          0.7221625229387737,
          0.7800878592443852,
          0.7394664936048763,
          0.7121596232368965,
          0.7937573153792848,
          0.7201682123123857,
          0.7367147303214349,
          0.6784399814733961,
          0.7176326131588772,
          0.7273129913848171,
          0.6485738097239587,
          0.7275864428642204,
          0.7225658298922234,
          0.7035468365783324,
          0.7773926817500852,
          0.7496964100068368,
          0.7012411317061059,
          0.6822461350575616,
          0.7292550121408391,
          0.7062916004208799,
          0.764338130246493,
          0.7290064200537166,
          0.6753920101999523,
          0.7371558648759294,
          0.6554834043431568,
          0.7191475549641323,
          0.6985954537189262,
          0.7131260829448135
         ]
        },
        {
         "fill": "tonexty",
         "fillcolor": "rgba(68, 68, 68, 0.2)",
         "line": {
          "color": "rgba(15,209,132,0.25)",
          "width": 2
         },
         "mode": "lines",
         "showlegend": false,
         "type": "scatter",
         "x": [
          0.5,
          0.51,
          0.52,
          0.53,
          0.54,
          0.55,
          0.56,
          0.57,
          0.58,
          0.59,
          0.6,
          0.61,
          0.62,
          0.63,
          0.64,
          0.65,
          0.66,
          0.67,
          0.68,
          0.69,
          0.7,
          0.71,
          0.72,
          0.73,
          0.74,
          0.75,
          0.76,
          0.77,
          0.78,
          0.79,
          0.8,
          0.81,
          0.82,
          0.83,
          0.84,
          0.85,
          0.86,
          0.87,
          0.88,
          0.89,
          0.9,
          0.91,
          0.92,
          0.93,
          0.94,
          0.95,
          0.96,
          0.97,
          0.98,
          0.99,
          1,
          1.01,
          1.02,
          1.03,
          1.04,
          1.05,
          1.06,
          1.07,
          1.08,
          1.09,
          1.1,
          1.11,
          1.12,
          1.13,
          1.14,
          1.15,
          1.16,
          1.17,
          1.18,
          1.19,
          1.2,
          1.21,
          1.22,
          1.23,
          1.24,
          1.25,
          1.26,
          1.27,
          1.28,
          1.29,
          1.3,
          1.31,
          1.32,
          1.33,
          1.34,
          1.35,
          1.36,
          1.37,
          1.38,
          1.39,
          1.4,
          1.41,
          1.42,
          1.43,
          1.44,
          1.45,
          1.46,
          1.47,
          1.48,
          1.49,
          1.5,
          1.51,
          1.52,
          1.53,
          1.54,
          1.55,
          1.56,
          1.57,
          1.58,
          1.59,
          1.6,
          1.61,
          1.62,
          1.63,
          1.64,
          1.65,
          1.66,
          1.67,
          1.68,
          1.69,
          1.7,
          1.71,
          1.72,
          1.73,
          1.74,
          1.75,
          1.76,
          1.77,
          1.78,
          1.79,
          1.8,
          1.81,
          1.82,
          1.83,
          1.84,
          1.85,
          1.86,
          1.87,
          1.88,
          1.89,
          1.9,
          1.91,
          1.92,
          1.93,
          1.94,
          1.95,
          1.96,
          1.97,
          1.98,
          1.99
         ],
         "y": [
          1.3162163959226112,
          1.2624014878996896,
          1.266100415951433,
          1.308311330670476,
          1.3076965543575385,
          1.2269756044849098,
          1.2402846713809685,
          1.2282755585861502,
          1.1738541938575768,
          1.2431869021389967,
          1.2237364005856046,
          1.2541768306091237,
          1.1899230809785546,
          1.1642976660615474,
          1.2459450688832683,
          1.1929484347615877,
          1.1928207024127628,
          1.2270033748565237,
          1.1948226418360417,
          1.19717672864872,
          1.1696319798088417,
          1.1251395449748247,
          1.0685950155430872,
          1.1708103598796298,
          1.0978228617247234,
          1.146867124693447,
          1.117737634863128,
          1.166800104804652,
          1.1069088739176371,
          1.107683954588698,
          1.0712028150675668,
          1.1033660828009806,
          1.1377023072294796,
          1.0699008852221665,
          1.0746046968838259,
          1.0904234714954073,
          1.1168133542987233,
          1.0797054299333073,
          1.0882596870802246,
          1.0222727073410218,
          1.0345270651801282,
          1.0176581531778868,
          1.0122653346535782,
          1.0285385433866927,
          1.0071032349879134,
          1.0377168904638157,
          0.9730141464645831,
          1.008267768843693,
          0.9600158391005267,
          0.9897249239604319,
          1.0091652666281685,
          1.0083337007720485,
          1.0156642264473388,
          0.9933757560302527,
          0.909639990639149,
          0.9893693977820874,
          0.9777438341763225,
          0.9511883315298396,
          0.8928485953563706,
          0.968466099558407,
          0.9769468842593428,
          0.8848256508212621,
          0.9362058600805794,
          0.9170579263324454,
          0.95973412082969,
          0.9442605817342808,
          0.9073704729282376,
          0.912358059640086,
          0.924653810565946,
          0.9003269788877506,
          0.905913979307011,
          0.8618016958630169,
          0.8785426470414142,
          0.8393326712464696,
          0.8890141464776633,
          0.938824180247996,
          0.8486335174028052,
          0.8867293785709055,
          0.8833414895272856,
          0.8692154841526585,
          0.8998249288461772,
          0.9044224232589405,
          0.8615341713867991,
          0.8306531092685276,
          0.8539086592419067,
          0.9033485173325587,
          0.8358171630895118,
          0.8788480982883756,
          0.8536198363885991,
          0.8411418948206476,
          0.8598538376666042,
          0.8307191317330908,
          0.8699322506589654,
          0.8287414527426943,
          0.8124091123654683,
          0.8311690396119945,
          0.7952557492945276,
          0.802561333742549,
          0.8294068473331857,
          0.8451268768954469,
          0.7670757392855325,
          0.8144346601499561,
          0.808724120597942,
          0.7862362061064172,
          0.7842003668107871,
          0.7759331838381257,
          0.7819897276093084,
          0.834057882843965,
          0.7719238144973066,
          0.8065242024440364,
          0.7941803351413306,
          0.7301038241776318,
          0.7695304581879061,
          0.737791100650938,
          0.7511632310422509,
          0.7876170614466823,
          0.7721453768360217,
          0.7569234877680646,
          0.7593235119446237,
          0.7383493151221735,
          0.7509271906505047,
          0.7289645270465558,
          0.7154528615492263,
          0.7732707820376148,
          0.7324306091871238,
          0.7048906597271034,
          0.7868280990747153,
          0.7135573952796143,
          0.7298673541565651,
          0.6711890560866038,
          0.7105518689211229,
          0.719976385809183,
          0.6420162667580415,
          0.7203852520137798,
          0.7158704004017767,
          0.6968048116496675,
          0.7704741180039146,
          0.7428490443971631,
          0.6947059210878942,
          0.6757591928124383,
          0.722300765307161,
          0.69932711406512,
          0.756709155729507,
          0.7223085981382834,
          0.6689679630500477,
          0.7304974816560704,
          0.6490097690448433,
          0.7121091881918679,
          0.6912213960010737,
          0.7064972935611863
         ]
        },
        {
         "line": {
          "color": "rgba(15,133,84,1)",
          "width": 2
         },
         "mode": "lines",
         "name": "Predicted",
         "showlegend": true,
         "type": "scatter",
         "x": [
          0.5,
          0.51,
          0.52,
          0.53,
          0.54,
          0.55,
          0.56,
          0.57,
          0.58,
          0.59,
          0.6,
          0.61,
          0.62,
          0.63,
          0.64,
          0.65,
          0.66,
          0.67,
          0.68,
          0.69,
          0.7,
          0.71,
          0.72,
          0.73,
          0.74,
          0.75,
          0.76,
          0.77,
          0.78,
          0.79,
          0.8,
          0.81,
          0.82,
          0.83,
          0.84,
          0.85,
          0.86,
          0.87,
          0.88,
          0.89,
          0.9,
          0.91,
          0.92,
          0.93,
          0.94,
          0.95,
          0.96,
          0.97,
          0.98,
          0.99,
          1,
          1.01,
          1.02,
          1.03,
          1.04,
          1.05,
          1.06,
          1.07,
          1.08,
          1.09,
          1.1,
          1.11,
          1.12,
          1.13,
          1.14,
          1.15,
          1.16,
          1.17,
          1.18,
          1.19,
          1.2,
          1.21,
          1.22,
          1.23,
          1.24,
          1.25,
          1.26,
          1.27,
          1.28,
          1.29,
          1.3,
          1.31,
          1.32,
          1.33,
          1.34,
          1.35,
          1.36,
          1.37,
          1.38,
          1.39,
          1.4,
          1.41,
          1.42,
          1.43,
          1.44,
          1.45,
          1.46,
          1.47,
          1.48,
          1.49,
          1.5,
          1.51,
          1.52,
          1.53,
          1.54,
          1.55,
          1.56,
          1.57,
          1.58,
          1.59,
          1.6,
          1.61,
          1.62,
          1.63,
          1.64,
          1.65,
          1.66,
          1.67,
          1.68,
          1.69,
          1.7,
          1.71,
          1.72,
          1.73,
          1.74,
          1.75,
          1.76,
          1.77,
          1.78,
          1.79,
          1.8,
          1.81,
          1.82,
          1.83,
          1.84,
          1.85,
          1.86,
          1.87,
          1.88,
          1.89,
          1.9,
          1.91,
          1.92,
          1.93,
          1.94,
          1.95,
          1.96,
          1.97,
          1.98,
          1.99
         ],
         "y": [
          1.333333333,
          1.324503311,
          1.315789474,
          1.307189542,
          1.298701299,
          1.290322581,
          1.282051282,
          1.27388535,
          1.265822785,
          1.257861635,
          1.25,
          1.242236025,
          1.234567901,
          1.226993865,
          1.219512195,
          1.212121212,
          1.204819277,
          1.19760479,
          1.19047619,
          1.183431953,
          1.176470588,
          1.169590643,
          1.162790698,
          1.156069364,
          1.149425287,
          1.142857143,
          1.136363636,
          1.129943503,
          1.123595506,
          1.117318436,
          1.111111111,
          1.104972376,
          1.098901099,
          1.092896175,
          1.086956522,
          1.081081081,
          1.075268817,
          1.069518717,
          1.063829787,
          1.058201058,
          1.052631579,
          1.047120419,
          1.041666667,
          1.03626943,
          1.030927835,
          1.025641026,
          1.020408163,
          1.015228426,
          1.01010101,
          1.005025126,
          1,
          0.995024876,
          0.99009901,
          0.985221675,
          0.980392157,
          0.975609756,
          0.970873786,
          0.9661835749999999,
          0.9615384619999999,
          0.956937799,
          0.952380952,
          0.947867299,
          0.943396226,
          0.938967136,
          0.934579439,
          0.930232558,
          0.925925926,
          0.921658986,
          0.917431193,
          0.913242009,
          0.909090909,
          0.904977376,
          0.900900901,
          0.896860987,
          0.892857143,
          0.888888889,
          0.884955752,
          0.881057269,
          0.877192982,
          0.873362445,
          0.869565217,
          0.865800866,
          0.862068966,
          0.858369099,
          0.854700855,
          0.85106383,
          0.847457627,
          0.843881857,
          0.840336134,
          0.836820084,
          0.833333333,
          0.829875519,
          0.826446281,
          0.8230452670000001,
          0.819672131,
          0.816326531,
          0.81300813,
          0.809716599,
          0.806451613,
          0.803212851,
          0.8,
          0.796812749,
          0.793650794,
          0.790513834,
          0.787401575,
          0.784313725,
          0.78125,
          0.778210117,
          0.775193798,
          0.772200772,
          0.769230769,
          0.766283525,
          0.763358779,
          0.760456274,
          0.757575758,
          0.754716981,
          0.751879699,
          0.74906367,
          0.746268657,
          0.743494424,
          0.740740741,
          0.73800738,
          0.735294118,
          0.732600733,
          0.729927007,
          0.727272727,
          0.724637681,
          0.722021661,
          0.71942446,
          0.716845878,
          0.714285714,
          0.711743772,
          0.709219858,
          0.706713781,
          0.704225352,
          0.701754386,
          0.699300699,
          0.696864111,
          0.694444444,
          0.692041522,
          0.689655172,
          0.687285223,
          0.684931507,
          0.682593857,
          0.680272109,
          0.677966102,
          0.675675676,
          0.673400673,
          0.67114094,
          0.668896321
         ]
        },
        {
         "line": {
          "color": "rgba(15,133,84,0.25)",
          "width": 2
         },
         "mode": "lines",
         "showlegend": false,
         "type": "scatter",
         "x": [
          0.5,
          0.51,
          0.52,
          0.53,
          0.54,
          0.55,
          0.56,
          0.57,
          0.58,
          0.59,
          0.6,
          0.61,
          0.62,
          0.63,
          0.64,
          0.65,
          0.66,
          0.67,
          0.68,
          0.69,
          0.7,
          0.71,
          0.72,
          0.73,
          0.74,
          0.75,
          0.76,
          0.77,
          0.78,
          0.79,
          0.8,
          0.81,
          0.82,
          0.83,
          0.84,
          0.85,
          0.86,
          0.87,
          0.88,
          0.89,
          0.9,
          0.91,
          0.92,
          0.93,
          0.94,
          0.95,
          0.96,
          0.97,
          0.98,
          0.99,
          1,
          1.01,
          1.02,
          1.03,
          1.04,
          1.05,
          1.06,
          1.07,
          1.08,
          1.09,
          1.1,
          1.11,
          1.12,
          1.13,
          1.14,
          1.15,
          1.16,
          1.17,
          1.18,
          1.19,
          1.2,
          1.21,
          1.22,
          1.23,
          1.24,
          1.25,
          1.26,
          1.27,
          1.28,
          1.29,
          1.3,
          1.31,
          1.32,
          1.33,
          1.34,
          1.35,
          1.36,
          1.37,
          1.38,
          1.39,
          1.4,
          1.41,
          1.42,
          1.43,
          1.44,
          1.45,
          1.46,
          1.47,
          1.48,
          1.49,
          1.5,
          1.51,
          1.52,
          1.53,
          1.54,
          1.55,
          1.56,
          1.57,
          1.58,
          1.59,
          1.6,
          1.61,
          1.62,
          1.63,
          1.64,
          1.65,
          1.66,
          1.67,
          1.68,
          1.69,
          1.7,
          1.71,
          1.72,
          1.73,
          1.74,
          1.75,
          1.76,
          1.77,
          1.78,
          1.79,
          1.8,
          1.81,
          1.82,
          1.83,
          1.84,
          1.85,
          1.86,
          1.87,
          1.88,
          1.89,
          1.9,
          1.91,
          1.92,
          1.93,
          1.94,
          1.95,
          1.96,
          1.97,
          1.98,
          1.99
         ],
         "y": [
          1.333333333,
          1.324503311,
          1.315789474,
          1.307189542,
          1.298701299,
          1.290322581,
          1.282051282,
          1.27388535,
          1.265822785,
          1.257861635,
          1.25,
          1.242236025,
          1.234567901,
          1.226993865,
          1.219512195,
          1.212121212,
          1.204819277,
          1.19760479,
          1.19047619,
          1.183431953,
          1.176470588,
          1.169590643,
          1.162790698,
          1.156069364,
          1.149425287,
          1.142857143,
          1.136363636,
          1.129943503,
          1.123595506,
          1.117318436,
          1.111111111,
          1.104972376,
          1.098901099,
          1.092896175,
          1.086956522,
          1.081081081,
          1.075268817,
          1.069518717,
          1.063829787,
          1.058201058,
          1.052631579,
          1.047120419,
          1.041666667,
          1.03626943,
          1.030927835,
          1.025641026,
          1.020408163,
          1.015228426,
          1.01010101,
          1.005025126,
          1,
          0.995024876,
          0.99009901,
          0.985221675,
          0.980392157,
          0.975609756,
          0.970873786,
          0.9661835749999999,
          0.9615384619999999,
          0.956937799,
          0.952380952,
          0.947867299,
          0.943396226,
          0.938967136,
          0.934579439,
          0.930232558,
          0.925925926,
          0.921658986,
          0.917431193,
          0.913242009,
          0.909090909,
          0.904977376,
          0.900900901,
          0.896860987,
          0.892857143,
          0.888888889,
          0.884955752,
          0.881057269,
          0.877192982,
          0.873362445,
          0.869565217,
          0.865800866,
          0.862068966,
          0.858369099,
          0.854700855,
          0.85106383,
          0.847457627,
          0.843881857,
          0.840336134,
          0.836820084,
          0.833333333,
          0.829875519,
          0.826446281,
          0.8230452670000001,
          0.819672131,
          0.816326531,
          0.81300813,
          0.809716599,
          0.806451613,
          0.803212851,
          0.8,
          0.796812749,
          0.793650794,
          0.790513834,
          0.787401575,
          0.784313725,
          0.78125,
          0.778210117,
          0.775193798,
          0.772200772,
          0.769230769,
          0.766283525,
          0.763358779,
          0.760456274,
          0.757575758,
          0.754716981,
          0.751879699,
          0.74906367,
          0.746268657,
          0.743494424,
          0.740740741,
          0.73800738,
          0.735294118,
          0.732600733,
          0.729927007,
          0.727272727,
          0.724637681,
          0.722021661,
          0.71942446,
          0.716845878,
          0.714285714,
          0.711743772,
          0.709219858,
          0.706713781,
          0.704225352,
          0.701754386,
          0.699300699,
          0.696864111,
          0.694444444,
          0.692041522,
          0.689655172,
          0.687285223,
          0.684931507,
          0.682593857,
          0.680272109,
          0.677966102,
          0.675675676,
          0.673400673,
          0.67114094,
          0.668896321
         ]
        },
        {
         "fill": "tonexty",
         "fillcolor": "rgba(68, 68, 68, 0.2)",
         "line": {
          "color": "rgba(15,133,84,0.25)",
          "width": 2
         },
         "mode": "lines",
         "showlegend": false,
         "type": "scatter",
         "x": [
          0.5,
          0.51,
          0.52,
          0.53,
          0.54,
          0.55,
          0.56,
          0.57,
          0.58,
          0.59,
          0.6,
          0.61,
          0.62,
          0.63,
          0.64,
          0.65,
          0.66,
          0.67,
          0.68,
          0.69,
          0.7,
          0.71,
          0.72,
          0.73,
          0.74,
          0.75,
          0.76,
          0.77,
          0.78,
          0.79,
          0.8,
          0.81,
          0.82,
          0.83,
          0.84,
          0.85,
          0.86,
          0.87,
          0.88,
          0.89,
          0.9,
          0.91,
          0.92,
          0.93,
          0.94,
          0.95,
          0.96,
          0.97,
          0.98,
          0.99,
          1,
          1.01,
          1.02,
          1.03,
          1.04,
          1.05,
          1.06,
          1.07,
          1.08,
          1.09,
          1.1,
          1.11,
          1.12,
          1.13,
          1.14,
          1.15,
          1.16,
          1.17,
          1.18,
          1.19,
          1.2,
          1.21,
          1.22,
          1.23,
          1.24,
          1.25,
          1.26,
          1.27,
          1.28,
          1.29,
          1.3,
          1.31,
          1.32,
          1.33,
          1.34,
          1.35,
          1.36,
          1.37,
          1.38,
          1.39,
          1.4,
          1.41,
          1.42,
          1.43,
          1.44,
          1.45,
          1.46,
          1.47,
          1.48,
          1.49,
          1.5,
          1.51,
          1.52,
          1.53,
          1.54,
          1.55,
          1.56,
          1.57,
          1.58,
          1.59,
          1.6,
          1.61,
          1.62,
          1.63,
          1.64,
          1.65,
          1.66,
          1.67,
          1.68,
          1.69,
          1.7,
          1.71,
          1.72,
          1.73,
          1.74,
          1.75,
          1.76,
          1.77,
          1.78,
          1.79,
          1.8,
          1.81,
          1.82,
          1.83,
          1.84,
          1.85,
          1.86,
          1.87,
          1.88,
          1.89,
          1.9,
          1.91,
          1.92,
          1.93,
          1.94,
          1.95,
          1.96,
          1.97,
          1.98,
          1.99
         ],
         "y": [
          1.333333333,
          1.324503311,
          1.315789474,
          1.307189542,
          1.298701299,
          1.290322581,
          1.282051282,
          1.27388535,
          1.265822785,
          1.257861635,
          1.25,
          1.242236025,
          1.234567901,
          1.226993865,
          1.219512195,
          1.212121212,
          1.204819277,
          1.19760479,
          1.19047619,
          1.183431953,
          1.176470588,
          1.169590643,
          1.162790698,
          1.156069364,
          1.149425287,
          1.142857143,
          1.136363636,
          1.129943503,
          1.123595506,
          1.117318436,
          1.111111111,
          1.104972376,
          1.098901099,
          1.092896175,
          1.086956522,
          1.081081081,
          1.075268817,
          1.069518717,
          1.063829787,
          1.058201058,
          1.052631579,
          1.047120419,
          1.041666667,
          1.03626943,
          1.030927835,
          1.025641026,
          1.020408163,
          1.015228426,
          1.01010101,
          1.005025126,
          1,
          0.995024876,
          0.99009901,
          0.985221675,
          0.980392157,
          0.975609756,
          0.970873786,
          0.9661835749999999,
          0.9615384619999999,
          0.956937799,
          0.952380952,
          0.947867299,
          0.943396226,
          0.938967136,
          0.934579439,
          0.930232558,
          0.925925926,
          0.921658986,
          0.917431193,
          0.913242009,
          0.909090909,
          0.904977376,
          0.900900901,
          0.896860987,
          0.892857143,
          0.888888889,
          0.884955752,
          0.881057269,
          0.877192982,
          0.873362445,
          0.869565217,
          0.865800866,
          0.862068966,
          0.858369099,
          0.854700855,
          0.85106383,
          0.847457627,
          0.843881857,
          0.840336134,
          0.836820084,
          0.833333333,
          0.829875519,
          0.826446281,
          0.8230452670000001,
          0.819672131,
          0.816326531,
          0.81300813,
          0.809716599,
          0.806451613,
          0.803212851,
          0.8,
          0.796812749,
          0.793650794,
          0.790513834,
          0.787401575,
          0.784313725,
          0.78125,
          0.778210117,
          0.775193798,
          0.772200772,
          0.769230769,
          0.766283525,
          0.763358779,
          0.760456274,
          0.757575758,
          0.754716981,
          0.751879699,
          0.74906367,
          0.746268657,
          0.743494424,
          0.740740741,
          0.73800738,
          0.735294118,
          0.732600733,
          0.729927007,
          0.727272727,
          0.724637681,
          0.722021661,
          0.71942446,
          0.716845878,
          0.714285714,
          0.711743772,
          0.709219858,
          0.706713781,
          0.704225352,
          0.701754386,
          0.699300699,
          0.696864111,
          0.694444444,
          0.692041522,
          0.689655172,
          0.687285223,
          0.684931507,
          0.682593857,
          0.680272109,
          0.677966102,
          0.675675676,
          0.673400673,
          0.67114094,
          0.668896321
         ]
        }
       ],
       "layout": {
        "annotations": [
         {
          "showarrow": false,
          "text": "Even exposure",
          "x": 1,
          "xanchor": "right",
          "xref": "x domain",
          "y": 1,
          "yanchor": "bottom",
          "yref": "y"
         },
         {
          "showarrow": false,
          "text": "ϵ=1: no bias",
          "x": 1,
          "xanchor": "left",
          "xref": "x",
          "y": 1,
          "yanchor": "top",
          "yref": "y domain"
         }
        ],
        "font": {
         "size": 18
        },
        "height": 500,
        "legend": {
         "title": {
          "text": ""
         },
         "x": 0.75,
         "y": 0.95
        },
        "margin": {
         "b": 5,
         "l": 5,
         "r": 5,
         "t": 5
        },
        "plot_bgcolor": "rgba(0,0,0,0)",
        "shapes": [
         {
          "line": {
           "width": 1
          },
          "type": "line",
          "x0": 0,
          "x1": 1,
          "xref": "x domain",
          "y0": 1,
          "y1": 1,
          "yref": "y"
         },
         {
          "line": {
           "width": 1
          },
          "type": "line",
          "x0": 1,
          "x1": 1,
          "xref": "x",
          "y0": 0,
          "y1": 1,
          "yref": "y domain"
         }
        ],
        "showlegend": true,
        "template": {
         "data": {
          "bar": [
           {
            "error_x": {
             "color": "#2a3f5f"
            },
            "error_y": {
             "color": "#2a3f5f"
            },
            "marker": {
             "line": {
              "color": "#E5ECF6",
              "width": 0.5
             },
             "pattern": {
              "fillmode": "overlay",
              "size": 10,
              "solidity": 0.2
             }
            },
            "type": "bar"
           }
          ],
          "barpolar": [
           {
            "marker": {
             "line": {
              "color": "#E5ECF6",
              "width": 0.5
             },
             "pattern": {
              "fillmode": "overlay",
              "size": 10,
              "solidity": 0.2
             }
            },
            "type": "barpolar"
           }
          ],
          "carpet": [
           {
            "aaxis": {
             "endlinecolor": "#2a3f5f",
             "gridcolor": "white",
             "linecolor": "white",
             "minorgridcolor": "white",
             "startlinecolor": "#2a3f5f"
            },
            "baxis": {
             "endlinecolor": "#2a3f5f",
             "gridcolor": "white",
             "linecolor": "white",
             "minorgridcolor": "white",
             "startlinecolor": "#2a3f5f"
            },
            "type": "carpet"
           }
          ],
          "choropleth": [
           {
            "colorbar": {
             "outlinewidth": 0,
             "ticks": ""
            },
            "type": "choropleth"
           }
          ],
          "contour": [
           {
            "colorbar": {
             "outlinewidth": 0,
             "ticks": ""
            },
            "colorscale": [
             [
              0,
              "#0d0887"
             ],
             [
              0.1111111111111111,
              "#46039f"
             ],
             [
              0.2222222222222222,
              "#7201a8"
             ],
             [
              0.3333333333333333,
              "#9c179e"
             ],
             [
              0.4444444444444444,
              "#bd3786"
             ],
             [
              0.5555555555555556,
              "#d8576b"
             ],
             [
              0.6666666666666666,
              "#ed7953"
             ],
             [
              0.7777777777777778,
              "#fb9f3a"
             ],
             [
              0.8888888888888888,
              "#fdca26"
             ],
             [
              1,
              "#f0f921"
             ]
            ],
            "type": "contour"
           }
          ],
          "contourcarpet": [
           {
            "colorbar": {
             "outlinewidth": 0,
             "ticks": ""
            },
            "type": "contourcarpet"
           }
          ],
          "heatmap": [
           {
            "colorbar": {
             "outlinewidth": 0,
             "ticks": ""
            },
            "colorscale": [
             [
              0,
              "#0d0887"
             ],
             [
              0.1111111111111111,
              "#46039f"
             ],
             [
              0.2222222222222222,
              "#7201a8"
             ],
             [
              0.3333333333333333,
              "#9c179e"
             ],
             [
              0.4444444444444444,
              "#bd3786"
             ],
             [
              0.5555555555555556,
              "#d8576b"
             ],
             [
              0.6666666666666666,
              "#ed7953"
             ],
             [
              0.7777777777777778,
              "#fb9f3a"
             ],
             [
              0.8888888888888888,
              "#fdca26"
             ],
             [
              1,
              "#f0f921"
             ]
            ],
            "type": "heatmap"
           }
          ],
          "heatmapgl": [
           {
            "colorbar": {
             "outlinewidth": 0,
             "ticks": ""
            },
            "colorscale": [
             [
              0,
              "#0d0887"
             ],
             [
              0.1111111111111111,
              "#46039f"
             ],
             [
              0.2222222222222222,
              "#7201a8"
             ],
             [
              0.3333333333333333,
              "#9c179e"
             ],
             [
              0.4444444444444444,
              "#bd3786"
             ],
             [
              0.5555555555555556,
              "#d8576b"
             ],
             [
              0.6666666666666666,
              "#ed7953"
             ],
             [
              0.7777777777777778,
              "#fb9f3a"
             ],
             [
              0.8888888888888888,
              "#fdca26"
             ],
             [
              1,
              "#f0f921"
             ]
            ],
            "type": "heatmapgl"
           }
          ],
          "histogram": [
           {
            "marker": {
             "pattern": {
              "fillmode": "overlay",
              "size": 10,
              "solidity": 0.2
             }
            },
            "type": "histogram"
           }
          ],
          "histogram2d": [
           {
            "colorbar": {
             "outlinewidth": 0,
             "ticks": ""
            },
            "colorscale": [
             [
              0,
              "#0d0887"
             ],
             [
              0.1111111111111111,
              "#46039f"
             ],
             [
              0.2222222222222222,
              "#7201a8"
             ],
             [
              0.3333333333333333,
              "#9c179e"
             ],
             [
              0.4444444444444444,
              "#bd3786"
             ],
             [
              0.5555555555555556,
              "#d8576b"
             ],
             [
              0.6666666666666666,
              "#ed7953"
             ],
             [
              0.7777777777777778,
              "#fb9f3a"
             ],
             [
              0.8888888888888888,
              "#fdca26"
             ],
             [
              1,
              "#f0f921"
             ]
            ],
            "type": "histogram2d"
           }
          ],
          "histogram2dcontour": [
           {
            "colorbar": {
             "outlinewidth": 0,
             "ticks": ""
            },
            "colorscale": [
             [
              0,
              "#0d0887"
             ],
             [
              0.1111111111111111,
              "#46039f"
             ],
             [
              0.2222222222222222,
              "#7201a8"
             ],
             [
              0.3333333333333333,
              "#9c179e"
             ],
             [
              0.4444444444444444,
              "#bd3786"
             ],
             [
              0.5555555555555556,
              "#d8576b"
             ],
             [
              0.6666666666666666,
              "#ed7953"
             ],
             [
              0.7777777777777778,
              "#fb9f3a"
             ],
             [
              0.8888888888888888,
              "#fdca26"
             ],
             [
              1,
              "#f0f921"
             ]
            ],
            "type": "histogram2dcontour"
           }
          ],
          "mesh3d": [
           {
            "colorbar": {
             "outlinewidth": 0,
             "ticks": ""
            },
            "type": "mesh3d"
           }
          ],
          "parcoords": [
           {
            "line": {
             "colorbar": {
              "outlinewidth": 0,
              "ticks": ""
             }
            },
            "type": "parcoords"
           }
          ],
          "pie": [
           {
            "automargin": true,
            "type": "pie"
           }
          ],
          "scatter": [
           {
            "fillpattern": {
             "fillmode": "overlay",
             "size": 10,
             "solidity": 0.2
            },
            "type": "scatter"
           }
          ],
          "scatter3d": [
           {
            "line": {
             "colorbar": {
              "outlinewidth": 0,
              "ticks": ""
             }
            },
            "marker": {
             "colorbar": {
              "outlinewidth": 0,
              "ticks": ""
             }
            },
            "type": "scatter3d"
           }
          ],
          "scattercarpet": [
           {
            "marker": {
             "colorbar": {
              "outlinewidth": 0,
              "ticks": ""
             }
            },
            "type": "scattercarpet"
           }
          ],
          "scattergeo": [
           {
            "marker": {
             "colorbar": {
              "outlinewidth": 0,
              "ticks": ""
             }
            },
            "type": "scattergeo"
           }
          ],
          "scattergl": [
           {
            "marker": {
             "colorbar": {
              "outlinewidth": 0,
              "ticks": ""
             }
            },
            "type": "scattergl"
           }
          ],
          "scattermapbox": [
           {
            "marker": {
             "colorbar": {
              "outlinewidth": 0,
              "ticks": ""
             }
            },
            "type": "scattermapbox"
           }
          ],
          "scatterpolar": [
           {
            "marker": {
             "colorbar": {
              "outlinewidth": 0,
              "ticks": ""
             }
            },
            "type": "scatterpolar"
           }
          ],
          "scatterpolargl": [
           {
            "marker": {
             "colorbar": {
              "outlinewidth": 0,
              "ticks": ""
             }
            },
            "type": "scatterpolargl"
           }
          ],
          "scatterternary": [
           {
            "marker": {
             "colorbar": {
              "outlinewidth": 0,
              "ticks": ""
             }
            },
            "type": "scatterternary"
           }
          ],
          "surface": [
           {
            "colorbar": {
             "outlinewidth": 0,
             "ticks": ""
            },
            "colorscale": [
             [
              0,
              "#0d0887"
             ],
             [
              0.1111111111111111,
              "#46039f"
             ],
             [
              0.2222222222222222,
              "#7201a8"
             ],
             [
              0.3333333333333333,
              "#9c179e"
             ],
             [
              0.4444444444444444,
              "#bd3786"
             ],
             [
              0.5555555555555556,
              "#d8576b"
             ],
             [
              0.6666666666666666,
              "#ed7953"
             ],
             [
              0.7777777777777778,
              "#fb9f3a"
             ],
             [
              0.8888888888888888,
              "#fdca26"
             ],
             [
              1,
              "#f0f921"
             ]
            ],
            "type": "surface"
           }
          ],
          "table": [
           {
            "cells": {
             "fill": {
              "color": "#EBF0F8"
             },
             "line": {
              "color": "white"
             }
            },
            "header": {
             "fill": {
              "color": "#C8D4E3"
             },
             "line": {
              "color": "white"
             }
            },
            "type": "table"
           }
          ]
         },
         "layout": {
          "annotationdefaults": {
           "arrowcolor": "#2a3f5f",
           "arrowhead": 0,
           "arrowwidth": 1
          },
          "autotypenumbers": "strict",
          "coloraxis": {
           "colorbar": {
            "outlinewidth": 0,
            "ticks": ""
           }
          },
          "colorscale": {
           "diverging": [
            [
             0,
             "#8e0152"
            ],
            [
             0.1,
             "#c51b7d"
            ],
            [
             0.2,
             "#de77ae"
            ],
            [
             0.3,
             "#f1b6da"
            ],
            [
             0.4,
             "#fde0ef"
            ],
            [
             0.5,
             "#f7f7f7"
            ],
            [
             0.6,
             "#e6f5d0"
            ],
            [
             0.7,
             "#b8e186"
            ],
            [
             0.8,
             "#7fbc41"
            ],
            [
             0.9,
             "#4d9221"
            ],
            [
             1,
             "#276419"
            ]
           ],
           "sequential": [
            [
             0,
             "#0d0887"
            ],
            [
             0.1111111111111111,
             "#46039f"
            ],
            [
             0.2222222222222222,
             "#7201a8"
            ],
            [
             0.3333333333333333,
             "#9c179e"
            ],
            [
             0.4444444444444444,
             "#bd3786"
            ],
            [
             0.5555555555555556,
             "#d8576b"
            ],
            [
             0.6666666666666666,
             "#ed7953"
            ],
            [
             0.7777777777777778,
             "#fb9f3a"
            ],
            [
             0.8888888888888888,
             "#fdca26"
            ],
            [
             1,
             "#f0f921"
            ]
           ],
           "sequentialminus": [
            [
             0,
             "#0d0887"
            ],
            [
             0.1111111111111111,
             "#46039f"
            ],
            [
             0.2222222222222222,
             "#7201a8"
            ],
            [
             0.3333333333333333,
             "#9c179e"
            ],
            [
             0.4444444444444444,
             "#bd3786"
            ],
            [
             0.5555555555555556,
             "#d8576b"
            ],
            [
             0.6666666666666666,
             "#ed7953"
            ],
            [
             0.7777777777777778,
             "#fb9f3a"
            ],
            [
             0.8888888888888888,
             "#fdca26"
            ],
            [
             1,
             "#f0f921"
            ]
           ]
          },
          "colorway": [
           "#636efa",
           "#EF553B",
           "#00cc96",
           "#ab63fa",
           "#FFA15A",
           "#19d3f3",
           "#FF6692",
           "#B6E880",
           "#FF97FF",
           "#FECB52"
          ],
          "font": {
           "color": "#2a3f5f"
          },
          "geo": {
           "bgcolor": "white",
           "lakecolor": "white",
           "landcolor": "#E5ECF6",
           "showlakes": true,
           "showland": true,
           "subunitcolor": "white"
          },
          "hoverlabel": {
           "align": "left"
          },
          "hovermode": "closest",
          "mapbox": {
           "style": "light"
          },
          "paper_bgcolor": "white",
          "plot_bgcolor": "#E5ECF6",
          "polar": {
           "angularaxis": {
            "gridcolor": "white",
            "linecolor": "white",
            "ticks": ""
           },
           "bgcolor": "#E5ECF6",
           "radialaxis": {
            "gridcolor": "white",
            "linecolor": "white",
            "ticks": ""
           }
          },
          "scene": {
           "xaxis": {
            "backgroundcolor": "#E5ECF6",
            "gridcolor": "white",
            "gridwidth": 2,
            "linecolor": "white",
            "showbackground": true,
            "ticks": "",
            "zerolinecolor": "white"
           },
           "yaxis": {
            "backgroundcolor": "#E5ECF6",
            "gridcolor": "white",
            "gridwidth": 2,
            "linecolor": "white",
            "showbackground": true,
            "ticks": "",
            "zerolinecolor": "white"
           },
           "zaxis": {
            "backgroundcolor": "#E5ECF6",
            "gridcolor": "white",
            "gridwidth": 2,
            "linecolor": "white",
            "showbackground": true,
            "ticks": "",
            "zerolinecolor": "white"
           }
          },
          "shapedefaults": {
           "line": {
            "color": "#2a3f5f"
           }
          },
          "ternary": {
           "aaxis": {
            "gridcolor": "white",
            "linecolor": "white",
            "ticks": ""
           },
           "baxis": {
            "gridcolor": "white",
            "linecolor": "white",
            "ticks": ""
           },
           "bgcolor": "#E5ECF6",
           "caxis": {
            "gridcolor": "white",
            "linecolor": "white",
            "ticks": ""
           }
          },
          "title": {
           "x": 0.05
          },
          "xaxis": {
           "automargin": true,
           "gridcolor": "white",
           "linecolor": "white",
           "ticks": "",
           "title": {
            "standoff": 15
           },
           "zerolinecolor": "white",
           "zerolinewidth": 2
          },
          "yaxis": {
           "automargin": true,
           "gridcolor": "white",
           "linecolor": "white",
           "ticks": "",
           "title": {
            "standoff": 15
           },
           "zerolinecolor": "white",
           "zerolinewidth": 2
          }
         }
        },
        "title": {},
        "width": 500,
        "xaxis": {
         "linecolor": "rgb(0,0,0)",
         "linewidth": 2,
         "range": [
          0.5,
          2
         ],
         "showgrid": false,
         "showline": true,
         "title": {
          "text": "Epsilon"
         }
        },
        "yaxis": {
         "linecolor": "rgb(0,0,0)",
         "linewidth": 2,
         "range": [
          0.5,
          1.5
         ],
         "showgrid": false,
         "showline": true,
         "title": {
          "text": "Exposure"
         }
        }
       }
      }
     },
     "metadata": {},
     "output_type": "display_data"
    }
   ],
   "source": [
    "\n",
    "\n",
    "Exposure_epsilon_rho125 = plotly_lines.plot_MTO_sim_results(plotly_lines(), data=df_eps[df_eps['rho'] == 1.25], x_var='epsilon', y_var='Exposure', x_range=[0.5,2], y_range=[0,1], x_title='Epsilon', y_title='Exposure', with_predicted=True, colors=['rgba(15,209,132,1)', 'rgba(15,133,84,1)'])\n",
    "\n",
    "fig_Exposure_epsilon = go.Figure(data =Exposure_epsilon_rho125.data)\n",
    "\n",
    "fig_Exposure_epsilon.update_layout(\n",
    "    title = None, \n",
    "    font=dict(size = 18),\n",
    "    xaxis_title = 'Epsilon', \n",
    "    yaxis_title = 'Exposure',\n",
    "    width = 500, height = 500,\n",
    "    showlegend = True, \n",
    "    legend=dict(x=0.75,y=0.95),\n",
    "    legend_title_text = '',\n",
    "    xaxis_range = [0.5,2],\n",
    "    yaxis_range = [0.5,1.5],\n",
    "    margin=dict(b=5,l=5,r=5,t=5),\n",
    "    xaxis = dict(showgrid = False, showline = True, linecolor = 'rgb(0,0,0)', linewidth = 2), \n",
    "    yaxis = dict(showgrid = False, showline = True, linecolor = 'rgb(0,0,0)', linewidth = 2),\n",
    "    plot_bgcolor='rgba(0,0,0,0)')\n",
    "\n",
    "\n",
    "fig_Exposure_epsilon.add_hline(y=1, line_width=1, annotation_text = 'Even exposure')\n",
    "fig_Exposure_epsilon.add_vline(x=1, line_width=1, annotation_text = 'ϵ=1: no bias')\n"
   ]
  },
  {
   "attachments": {},
   "cell_type": "markdown",
   "metadata": {},
   "source": [
    "### Epsilon Friending bias DONE"
   ]
  },
  {
   "cell_type": "code",
   "execution_count": 199,
   "metadata": {},
   "outputs": [
    {
     "data": {
      "application/vnd.plotly.v1+json": {
       "config": {
        "plotlyServerURL": "https://plot.ly"
       },
       "data": [
        {
         "line": {
          "color": "rgba(224,116,0,1)",
          "width": 2
         },
         "mode": "lines",
         "name": "Realised",
         "showlegend": true,
         "type": "scatter",
         "x": [
          0.5,
          0.51,
          0.52,
          0.53,
          0.54,
          0.55,
          0.56,
          0.57,
          0.58,
          0.59,
          0.6,
          0.61,
          0.62,
          0.63,
          0.64,
          0.65,
          0.66,
          0.67,
          0.68,
          0.69,
          0.7,
          0.71,
          0.72,
          0.73,
          0.74,
          0.75,
          0.76,
          0.77,
          0.78,
          0.79,
          0.8,
          0.81,
          0.82,
          0.83,
          0.84,
          0.85,
          0.86,
          0.87,
          0.88,
          0.89,
          0.9,
          0.91,
          0.92,
          0.93,
          0.94,
          0.95,
          0.96,
          0.97,
          0.98,
          0.99,
          1,
          1.01,
          1.02,
          1.03,
          1.04,
          1.05,
          1.06,
          1.07,
          1.08,
          1.09,
          1.1,
          1.11,
          1.12,
          1.13,
          1.14,
          1.15,
          1.16,
          1.17,
          1.18,
          1.19,
          1.2,
          1.21,
          1.22,
          1.23,
          1.24,
          1.25,
          1.26,
          1.27,
          1.28,
          1.29,
          1.3,
          1.31,
          1.32,
          1.33,
          1.34,
          1.35,
          1.36,
          1.37,
          1.38,
          1.39,
          1.4,
          1.41,
          1.42,
          1.43,
          1.44,
          1.45,
          1.46,
          1.47,
          1.48,
          1.49,
          1.5,
          1.51,
          1.52,
          1.53,
          1.54,
          1.55,
          1.56,
          1.57,
          1.58,
          1.59,
          1.6,
          1.61,
          1.62,
          1.63,
          1.64,
          1.65,
          1.66,
          1.67,
          1.68,
          1.69,
          1.7,
          1.71,
          1.72,
          1.73,
          1.74,
          1.75,
          1.76,
          1.77,
          1.78,
          1.79,
          1.8,
          1.81,
          1.82,
          1.83,
          1.84,
          1.85,
          1.86,
          1.87,
          1.88,
          1.89,
          1.9,
          1.91,
          1.92,
          1.93,
          1.94,
          1.95,
          1.96,
          1.97,
          1.98,
          1.99
         ],
         "y": [
          0.931952699263,
          0.932626269334,
          0.932394084129,
          0.932731319624,
          0.932090195857,
          0.932798040006,
          0.932590463707,
          0.932474826264,
          0.933632211845,
          0.9330964771379999,
          0.9326377838140001,
          0.9328126496370001,
          0.933583777575,
          0.9334250903160001,
          0.932871555631,
          0.9338322844079999,
          0.933652220442,
          0.932939456424,
          0.93321334239,
          0.933428263257,
          0.933587382037,
          0.9334924866359999,
          0.934213275382,
          0.933156710343,
          0.934056590348,
          0.933396931518,
          0.933877577105,
          0.9336335945990001,
          0.933974369533,
          0.9336380698410001,
          0.933143901207,
          0.933857244845,
          0.933919073544,
          0.934020878658,
          0.9345143402180001,
          0.934217495698,
          0.9340347185650001,
          0.934092174113,
          0.934077200084,
          0.934636147218,
          0.934806210891,
          0.93478213193,
          0.934255006391,
          0.934847668028,
          0.933651780438,
          0.934482502964,
          0.934998045398,
          0.93502523082,
          0.935268978933,
          0.9347956463179999,
          0.93522935485,
          0.93506041992,
          0.9345906845330001,
          0.934765366559,
          0.935678104295,
          0.9338078742720001,
          0.9349431764030001,
          0.935368552785,
          0.935838575574,
          0.9349896970460001,
          0.935117567096,
          0.935786530035,
          0.935367574017,
          0.934180881088,
          0.934667970512,
          0.934965468586,
          0.935566557415,
          0.934700473904,
          0.934915086731,
          0.935475765812,
          0.935734914542,
          0.935456707014,
          0.935447980057,
          0.935197971691,
          0.935390561097,
          0.934172447382,
          0.935616834727,
          0.9356556099450001,
          0.9359261082010001,
          0.9353898624329999,
          0.9355580932159999,
          0.936004506557,
          0.933990180002,
          0.935341512855,
          0.93584215603,
          0.9361910427069999,
          0.935159598853,
          0.9352621374310001,
          0.935033520553,
          0.933818071158,
          0.936288449986,
          0.9326286649659999,
          0.933607925557,
          0.936093503904,
          0.933527251707,
          0.936184857304,
          0.935880949631,
          0.935818308397,
          0.933043272426,
          0.935733564722,
          0.935882606462,
          0.932354453507,
          0.934361082055,
          0.934097667853,
          0.935159713658,
          0.934273188127,
          0.9340386193929999,
          0.935895670404,
          0.9365554733520001,
          0.9342362805000001,
          0.935359840103,
          0.933733973387,
          0.9349128030880001,
          0.9347108805259999,
          0.935326534119,
          0.9358978242220001,
          0.9320441659250001,
          0.936511929922,
          0.935567414903,
          0.9354171088540001,
          0.936088198057,
          0.93322097962,
          0.93687090977,
          0.936555291122,
          0.93620143675,
          0.930455537613,
          0.935903673577,
          0.934819537008,
          0.936348410866,
          0.934183753462,
          0.933867523977,
          0.933500900182,
          0.932809174855,
          0.932123848193,
          0.935112282471,
          0.934155208895,
          0.937358820199,
          0.933005832481,
          0.935924591261,
          0.933732749097,
          0.935681059066,
          0.9336579749699999,
          0.935833510941,
          0.9335639663040001,
          0.934086827831,
          0.934188007092,
          0.933185301825,
          0.933445746484,
          0.929196861163,
          0.935061124687
         ]
        },
        {
         "line": {
          "color": "rgba(224,116,0,0.25)",
          "width": 2
         },
         "mode": "lines",
         "showlegend": false,
         "type": "scatter",
         "x": [
          0.5,
          0.51,
          0.52,
          0.53,
          0.54,
          0.55,
          0.56,
          0.57,
          0.58,
          0.59,
          0.6,
          0.61,
          0.62,
          0.63,
          0.64,
          0.65,
          0.66,
          0.67,
          0.68,
          0.69,
          0.7,
          0.71,
          0.72,
          0.73,
          0.74,
          0.75,
          0.76,
          0.77,
          0.78,
          0.79,
          0.8,
          0.81,
          0.82,
          0.83,
          0.84,
          0.85,
          0.86,
          0.87,
          0.88,
          0.89,
          0.9,
          0.91,
          0.92,
          0.93,
          0.94,
          0.95,
          0.96,
          0.97,
          0.98,
          0.99,
          1,
          1.01,
          1.02,
          1.03,
          1.04,
          1.05,
          1.06,
          1.07,
          1.08,
          1.09,
          1.1,
          1.11,
          1.12,
          1.13,
          1.14,
          1.15,
          1.16,
          1.17,
          1.18,
          1.19,
          1.2,
          1.21,
          1.22,
          1.23,
          1.24,
          1.25,
          1.26,
          1.27,
          1.28,
          1.29,
          1.3,
          1.31,
          1.32,
          1.33,
          1.34,
          1.35,
          1.36,
          1.37,
          1.38,
          1.39,
          1.4,
          1.41,
          1.42,
          1.43,
          1.44,
          1.45,
          1.46,
          1.47,
          1.48,
          1.49,
          1.5,
          1.51,
          1.52,
          1.53,
          1.54,
          1.55,
          1.56,
          1.57,
          1.58,
          1.59,
          1.6,
          1.61,
          1.62,
          1.63,
          1.64,
          1.65,
          1.66,
          1.67,
          1.68,
          1.69,
          1.7,
          1.71,
          1.72,
          1.73,
          1.74,
          1.75,
          1.76,
          1.77,
          1.78,
          1.79,
          1.8,
          1.81,
          1.82,
          1.83,
          1.84,
          1.85,
          1.86,
          1.87,
          1.88,
          1.89,
          1.9,
          1.91,
          1.92,
          1.93,
          1.94,
          1.95,
          1.96,
          1.97,
          1.98,
          1.99
         ],
         "y": [
          0.9320442426548329,
          0.9327190170278339,
          0.9324916645270336,
          0.9328260315174666,
          0.9321772562473589,
          0.9328917780800978,
          0.9326809116582417,
          0.9325673176007625,
          0.9337287258864694,
          0.9331932722626675,
          0.9327309924929711,
          0.9329074818668516,
          0.9336843192844467,
          0.9335295285341058,
          0.9329638906971587,
          0.9339347260245812,
          0.9337544016697936,
          0.9330339497186686,
          0.9333074962243378,
          0.9335316915920623,
          0.9336889147919286,
          0.9335959923608806,
          0.9343244171425099,
          0.9332532891514098,
          0.9341684836933061,
          0.9335004111125744,
          0.9339805595998965,
          0.9337385275752713,
          0.9340842667322047,
          0.9337433031001591,
          0.9335459952910765,
          0.9339643490684499,
          0.9340223921234088,
          0.934127248705775,
          0.9346200024437197,
          0.9343330477557306,
          0.9341409646774046,
          0.9342089526396421,
          0.934186124312303,
          0.9347576348305502,
          0.9349249736248898,
          0.9348940726236242,
          0.9343661327980302,
          0.9349628259497611,
          0.9340571969140931,
          0.9345959354045633,
          0.9351218883486634,
          0.9351460311512829,
          0.9353919998293835,
          0.9349195934645017,
          0.935351233111744,
          0.9351827321703663,
          0.9347079382518212,
          0.9348957115404201,
          0.9358032600922147,
          0.9342124262479478,
          0.9350601801041744,
          0.9354965817765508,
          0.935980291520187,
          0.9351131160192528,
          0.9352439837756041,
          0.9359155913205511,
          0.935497270307234,
          0.9345875930319548,
          0.9347896019507571,
          0.9350871516757243,
          0.9357069534876088,
          0.9348255901974158,
          0.9350455651779097,
          0.9356033620190962,
          0.9358710932853825,
          0.9355869242322713,
          0.9355785808489149,
          0.9356132934198118,
          0.9355291969417227,
          0.934578498677708,
          0.9357586626893246,
          0.9357851322938002,
          0.9360651456842034,
          0.9355236659683797,
          0.9356834902916827,
          0.9361461647612475,
          0.934554843107693,
          0.9357573557608617,
          0.9359842407332715,
          0.9363352615679068,
          0.9355704427920962,
          0.9354010867166808,
          0.9351633445648968,
          0.9345053965378383,
          0.9364427676644447,
          0.9334155058095042,
          0.9341698636675807,
          0.9362449757589492,
          0.934091328367609,
          0.9363333751844771,
          0.9360287155715502,
          0.9359684008803352,
          0.9337284006168879,
          0.9358738153195165,
          0.9363032863955365,
          0.9331396446142037,
          0.934927711258171,
          0.9347860952346997,
          0.9355752328895164,
          0.934841156783095,
          0.9346036220756528,
          0.9360338267712203,
          0.9367114283588348,
          0.9348040881084289,
          0.9357765083756643,
          0.9344237140211389,
          0.9354835200185436,
          0.9352806075130398,
          0.9358983725189266,
          0.9360502367123809,
          0.9329222528033151,
          0.9366674958560467,
          0.9359856113058045,
          0.9358365745639694,
          0.936506372192218,
          0.934010858682362,
          0.9370353776813592,
          0.936711297819972,
          0.9366227288138531,
          0.9314920292561282,
          0.9363188136405619,
          0.9353921643733262,
          0.9365029128189499,
          0.9348771568149896,
          0.9345596043712378,
          0.9342932819190086,
          0.9336927854321405,
          0.9330053254174625,
          0.9356837521331911,
          0.9347237394988831,
          0.9375240368171076,
          0.9336930057270276,
          0.9363445895225753,
          0.9345253326767902,
          0.936102579064193,
          0.9343488044325226,
          0.9362528006086938,
          0.9343569962226195,
          0.9347783212338163,
          0.9347560702846782,
          0.9339802931191284,
          0.9342364297512219,
          0.9303009511788236,
          0.9356318661997327
         ]
        },
        {
         "fill": "tonexty",
         "fillcolor": "rgba(68, 68, 68, 0.2)",
         "line": {
          "color": "rgba(224,116,0,0.25)",
          "width": 2
         },
         "mode": "lines",
         "showlegend": false,
         "type": "scatter",
         "x": [
          0.5,
          0.51,
          0.52,
          0.53,
          0.54,
          0.55,
          0.56,
          0.57,
          0.58,
          0.59,
          0.6,
          0.61,
          0.62,
          0.63,
          0.64,
          0.65,
          0.66,
          0.67,
          0.68,
          0.69,
          0.7,
          0.71,
          0.72,
          0.73,
          0.74,
          0.75,
          0.76,
          0.77,
          0.78,
          0.79,
          0.8,
          0.81,
          0.82,
          0.83,
          0.84,
          0.85,
          0.86,
          0.87,
          0.88,
          0.89,
          0.9,
          0.91,
          0.92,
          0.93,
          0.94,
          0.95,
          0.96,
          0.97,
          0.98,
          0.99,
          1,
          1.01,
          1.02,
          1.03,
          1.04,
          1.05,
          1.06,
          1.07,
          1.08,
          1.09,
          1.1,
          1.11,
          1.12,
          1.13,
          1.14,
          1.15,
          1.16,
          1.17,
          1.18,
          1.19,
          1.2,
          1.21,
          1.22,
          1.23,
          1.24,
          1.25,
          1.26,
          1.27,
          1.28,
          1.29,
          1.3,
          1.31,
          1.32,
          1.33,
          1.34,
          1.35,
          1.36,
          1.37,
          1.38,
          1.39,
          1.4,
          1.41,
          1.42,
          1.43,
          1.44,
          1.45,
          1.46,
          1.47,
          1.48,
          1.49,
          1.5,
          1.51,
          1.52,
          1.53,
          1.54,
          1.55,
          1.56,
          1.57,
          1.58,
          1.59,
          1.6,
          1.61,
          1.62,
          1.63,
          1.64,
          1.65,
          1.66,
          1.67,
          1.68,
          1.69,
          1.7,
          1.71,
          1.72,
          1.73,
          1.74,
          1.75,
          1.76,
          1.77,
          1.78,
          1.79,
          1.8,
          1.81,
          1.82,
          1.83,
          1.84,
          1.85,
          1.86,
          1.87,
          1.88,
          1.89,
          1.9,
          1.91,
          1.92,
          1.93,
          1.94,
          1.95,
          1.96,
          1.97,
          1.98,
          1.99
         ],
         "y": [
          0.931861155871167,
          0.932533521640166,
          0.9322965037309665,
          0.9326366077305335,
          0.9320031354666412,
          0.9327043019319021,
          0.9325000157557584,
          0.9323823349272375,
          0.9335356978035306,
          0.9329996820133324,
          0.9325445751350291,
          0.9327178174071485,
          0.9334832358655533,
          0.9333206520978944,
          0.9327792205648413,
          0.9337298427914187,
          0.9335500392142064,
          0.9328449631293314,
          0.9331191885556621,
          0.9333248349219377,
          0.9334858492820713,
          0.9333889809111192,
          0.9341021336214902,
          0.9330601315345901,
          0.933944697002694,
          0.9332934519234255,
          0.9337745946101035,
          0.9335286616227289,
          0.9338644723337952,
          0.933532836581841,
          0.9327418071229234,
          0.93375014062155,
          0.9338157549645911,
          0.933914508610225,
          0.9344086779922804,
          0.9341019436402693,
          0.9339284724525956,
          0.933975395586358,
          0.933968275855697,
          0.9345146596054499,
          0.9346874481571102,
          0.9346701912363758,
          0.9341438799839699,
          0.9347325101062389,
          0.933246363961907,
          0.9343690705234368,
          0.9348742024473367,
          0.9349044304887171,
          0.9351459580366165,
          0.9346716991714982,
          0.9351074765882561,
          0.9349381076696337,
          0.934473430814179,
          0.9346350215775799,
          0.9355529484977853,
          0.9334033222960524,
          0.9348261727018258,
          0.9352405237934491,
          0.9356968596278129,
          0.9348662780727474,
          0.9349911504163959,
          0.9356574687494489,
          0.935237877726766,
          0.9337741691440452,
          0.9345463390732429,
          0.9348437854962758,
          0.9354261613423913,
          0.9345753576105842,
          0.9347846082840903,
          0.9353481696049037,
          0.9355987357986174,
          0.9353264897957286,
          0.9353173792650852,
          0.9347826499621883,
          0.9352519252522774,
          0.933766396086292,
          0.9354750067646753,
          0.9355260875961999,
          0.9357870707177968,
          0.9352560588976202,
          0.9354326961403171,
          0.9358628483527525,
          0.9334255168963069,
          0.9349256699491383,
          0.9357000713267285,
          0.9360468238460931,
          0.9347487549139039,
          0.9351231881453194,
          0.9349036965411033,
          0.9331307457781617,
          0.9361341323075554,
          0.9318418241224957,
          0.9330459874464193,
          0.9359420320490509,
          0.932963175046391,
          0.9360363394235229,
          0.9357331836904498,
          0.9356682159136648,
          0.9323581442351122,
          0.9355933141244834,
          0.9354619265284636,
          0.9315692623997962,
          0.933794452851829,
          0.9334092404713002,
          0.9347441944264836,
          0.933705219470905,
          0.933473616710347,
          0.9357575140367798,
          0.9363995183451653,
          0.9336684728915713,
          0.9349431718303357,
          0.9330442327528612,
          0.9343420861574565,
          0.9341411535389601,
          0.9347546957190734,
          0.9357454117316193,
          0.931166079046685,
          0.9363563639879534,
          0.9351492185001955,
          0.9349976431440308,
          0.9356700239217821,
          0.9324311005576379,
          0.9367064418586407,
          0.936399284424028,
          0.9357801446861469,
          0.9294190459698719,
          0.9354885335134381,
          0.9342469096426739,
          0.93619390891305,
          0.9334903501090104,
          0.9331754435827623,
          0.9327085184449915,
          0.9319255642778596,
          0.9312423709685375,
          0.9345408128088089,
          0.933586678291117,
          0.9371936035808923,
          0.9323186592349724,
          0.9355045929994248,
          0.9329401655172098,
          0.9352595390678069,
          0.9329671455074773,
          0.9354142212733062,
          0.9327709363853807,
          0.9333953344281838,
          0.9336199438993218,
          0.9323903105308716,
          0.9326550632167782,
          0.9280927711471765,
          0.9344903831742672
         ]
        },
        {
         "line": {
          "color": "rgba(229,187,0,1)",
          "width": 2
         },
         "mode": "lines",
         "name": "Predicted",
         "showlegend": true,
         "type": "scatter",
         "x": [
          0.5,
          0.51,
          0.52,
          0.53,
          0.54,
          0.55,
          0.56,
          0.57,
          0.58,
          0.59,
          0.6,
          0.61,
          0.62,
          0.63,
          0.64,
          0.65,
          0.66,
          0.67,
          0.68,
          0.69,
          0.7,
          0.71,
          0.72,
          0.73,
          0.74,
          0.75,
          0.76,
          0.77,
          0.78,
          0.79,
          0.8,
          0.81,
          0.82,
          0.83,
          0.84,
          0.85,
          0.86,
          0.87,
          0.88,
          0.89,
          0.9,
          0.91,
          0.92,
          0.93,
          0.94,
          0.95,
          0.96,
          0.97,
          0.98,
          0.99,
          1,
          1.01,
          1.02,
          1.03,
          1.04,
          1.05,
          1.06,
          1.07,
          1.08,
          1.09,
          1.1,
          1.11,
          1.12,
          1.13,
          1.14,
          1.15,
          1.16,
          1.17,
          1.18,
          1.19,
          1.2,
          1.21,
          1.22,
          1.23,
          1.24,
          1.25,
          1.26,
          1.27,
          1.28,
          1.29,
          1.3,
          1.31,
          1.32,
          1.33,
          1.34,
          1.35,
          1.36,
          1.37,
          1.38,
          1.39,
          1.4,
          1.41,
          1.42,
          1.43,
          1.44,
          1.45,
          1.46,
          1.47,
          1.48,
          1.49,
          1.5,
          1.51,
          1.52,
          1.53,
          1.54,
          1.55,
          1.56,
          1.57,
          1.58,
          1.59,
          1.6,
          1.61,
          1.62,
          1.63,
          1.64,
          1.65,
          1.66,
          1.67,
          1.68,
          1.69,
          1.7,
          1.71,
          1.72,
          1.73,
          1.74,
          1.75,
          1.76,
          1.77,
          1.78,
          1.79,
          1.8,
          1.81,
          1.82,
          1.83,
          1.84,
          1.85,
          1.86,
          1.87,
          1.88,
          1.89,
          1.9,
          1.91,
          1.92,
          1.93,
          1.94,
          1.95,
          1.96,
          1.97,
          1.98,
          1.99
         ],
         "y": [
          0.076923077,
          0.077862595,
          0.078787879,
          0.079699248,
          0.080597015,
          0.081481481,
          0.082352941,
          0.08321167900000001,
          0.084057971,
          0.084892086,
          0.085714286,
          0.086524823,
          0.087323944,
          0.088111888,
          0.088888889,
          0.089655172,
          0.090410959,
          0.091156463,
          0.091891892,
          0.09261745,
          0.093333333,
          0.094039735,
          0.094736842,
          0.095424837,
          0.096103896,
          0.096774194,
          0.097435897,
          0.098089172,
          0.098734177,
          0.099371069,
          0.1,
          0.100621118,
          0.101234568,
          0.101840491,
          0.102439024,
          0.103030303,
          0.103614458,
          0.104191617,
          0.104761905,
          0.105325444,
          0.105882353,
          0.106432749,
          0.106976744,
          0.107514451,
          0.108045977,
          0.108571429,
          0.109090909,
          0.10960452,
          0.11011236,
          0.110614525,
          0.111111111,
          0.11160221,
          0.112087912,
          0.112568306,
          0.113043478,
          0.113513514,
          0.113978495,
          0.114438503,
          0.114893617,
          0.115343915,
          0.115789474,
          0.116230366,
          0.116666667,
          0.117098446,
          0.117525773,
          0.117948718,
          0.118367347,
          0.118781726,
          0.119191919,
          0.11959799,
          0.12,
          0.12039801,
          0.120792079,
          0.121182266,
          0.121568627,
          0.12195122,
          0.122330097,
          0.122705314,
          0.123076923,
          0.123444976,
          0.123809524,
          0.124170616,
          0.124528302,
          0.124882629,
          0.125233645,
          0.125581395,
          0.125925926,
          0.126267281,
          0.126605505,
          0.126940639,
          0.127272727,
          0.12760181,
          0.127927928,
          0.128251121,
          0.128571429,
          0.128888889,
          0.12920354,
          0.129515419,
          0.129824561,
          0.130131004,
          0.130434783,
          0.130735931,
          0.131034483,
          0.131330472,
          0.131623932,
          0.131914894,
          0.13220339,
          0.132489451,
          0.132773109,
          0.133054393,
          0.133333333,
          0.133609959,
          0.133884298,
          0.134156379,
          0.13442623,
          0.134693878,
          0.13495935,
          0.135222672,
          0.135483871,
          0.135742972,
          0.136,
          0.13625498,
          0.136507937,
          0.136758893,
          0.137007874,
          0.137254902,
          0.1375,
          0.137743191,
          0.137984496,
          0.138223938,
          0.138461538,
          0.138697318,
          0.138931298,
          0.139163498,
          0.139393939,
          0.139622642,
          0.139849624,
          0.140074906,
          0.140298507,
          0.140520446,
          0.140740741,
          0.14095941,
          0.141176471,
          0.141391941,
          0.141605839,
          0.141818182,
          0.142028986,
          0.142238267,
          0.142446043,
          0.14265233
         ]
        },
        {
         "line": {
          "color": "rgba(229,187,0,0.25)",
          "width": 2
         },
         "mode": "lines",
         "showlegend": false,
         "type": "scatter",
         "x": [
          0.5,
          0.51,
          0.52,
          0.53,
          0.54,
          0.55,
          0.56,
          0.57,
          0.58,
          0.59,
          0.6,
          0.61,
          0.62,
          0.63,
          0.64,
          0.65,
          0.66,
          0.67,
          0.68,
          0.69,
          0.7,
          0.71,
          0.72,
          0.73,
          0.74,
          0.75,
          0.76,
          0.77,
          0.78,
          0.79,
          0.8,
          0.81,
          0.82,
          0.83,
          0.84,
          0.85,
          0.86,
          0.87,
          0.88,
          0.89,
          0.9,
          0.91,
          0.92,
          0.93,
          0.94,
          0.95,
          0.96,
          0.97,
          0.98,
          0.99,
          1,
          1.01,
          1.02,
          1.03,
          1.04,
          1.05,
          1.06,
          1.07,
          1.08,
          1.09,
          1.1,
          1.11,
          1.12,
          1.13,
          1.14,
          1.15,
          1.16,
          1.17,
          1.18,
          1.19,
          1.2,
          1.21,
          1.22,
          1.23,
          1.24,
          1.25,
          1.26,
          1.27,
          1.28,
          1.29,
          1.3,
          1.31,
          1.32,
          1.33,
          1.34,
          1.35,
          1.36,
          1.37,
          1.38,
          1.39,
          1.4,
          1.41,
          1.42,
          1.43,
          1.44,
          1.45,
          1.46,
          1.47,
          1.48,
          1.49,
          1.5,
          1.51,
          1.52,
          1.53,
          1.54,
          1.55,
          1.56,
          1.57,
          1.58,
          1.59,
          1.6,
          1.61,
          1.62,
          1.63,
          1.64,
          1.65,
          1.66,
          1.67,
          1.68,
          1.69,
          1.7,
          1.71,
          1.72,
          1.73,
          1.74,
          1.75,
          1.76,
          1.77,
          1.78,
          1.79,
          1.8,
          1.81,
          1.82,
          1.83,
          1.84,
          1.85,
          1.86,
          1.87,
          1.88,
          1.89,
          1.9,
          1.91,
          1.92,
          1.93,
          1.94,
          1.95,
          1.96,
          1.97,
          1.98,
          1.99
         ],
         "y": [
          0.076923077,
          0.077862595,
          0.078787879,
          0.079699248,
          0.080597015,
          0.081481481,
          0.082352941,
          0.08321167900000001,
          0.084057971,
          0.084892086,
          0.085714286,
          0.086524823,
          0.087323944,
          0.088111888,
          0.088888889,
          0.089655172,
          0.090410959,
          0.091156463,
          0.091891892,
          0.09261745,
          0.093333333,
          0.094039735,
          0.094736842,
          0.095424837,
          0.096103896,
          0.096774194,
          0.097435897,
          0.098089172,
          0.098734177,
          0.099371069,
          0.1,
          0.100621118,
          0.101234568,
          0.101840491,
          0.102439024,
          0.103030303,
          0.103614458,
          0.104191617,
          0.104761905,
          0.105325444,
          0.105882353,
          0.106432749,
          0.106976744,
          0.107514451,
          0.108045977,
          0.108571429,
          0.109090909,
          0.10960452,
          0.11011236,
          0.110614525,
          0.111111111,
          0.11160221,
          0.112087912,
          0.112568306,
          0.113043478,
          0.113513514,
          0.113978495,
          0.114438503,
          0.114893617,
          0.115343915,
          0.115789474,
          0.116230366,
          0.116666667,
          0.117098446,
          0.117525773,
          0.117948718,
          0.118367347,
          0.118781726,
          0.119191919,
          0.11959799,
          0.12,
          0.12039801,
          0.120792079,
          0.121182266,
          0.121568627,
          0.12195122,
          0.122330097,
          0.122705314,
          0.123076923,
          0.123444976,
          0.123809524,
          0.124170616,
          0.124528302,
          0.124882629,
          0.125233645,
          0.125581395,
          0.125925926,
          0.126267281,
          0.126605505,
          0.126940639,
          0.127272727,
          0.12760181,
          0.127927928,
          0.128251121,
          0.128571429,
          0.128888889,
          0.12920354,
          0.129515419,
          0.129824561,
          0.130131004,
          0.130434783,
          0.130735931,
          0.131034483,
          0.131330472,
          0.131623932,
          0.131914894,
          0.13220339,
          0.132489451,
          0.132773109,
          0.133054393,
          0.133333333,
          0.133609959,
          0.133884298,
          0.134156379,
          0.13442623,
          0.134693878,
          0.13495935,
          0.135222672,
          0.135483871,
          0.135742972,
          0.136,
          0.13625498,
          0.136507937,
          0.136758893,
          0.137007874,
          0.137254902,
          0.1375,
          0.137743191,
          0.137984496,
          0.138223938,
          0.138461538,
          0.138697318,
          0.138931298,
          0.139163498,
          0.139393939,
          0.139622642,
          0.139849624,
          0.140074906,
          0.140298507,
          0.140520446,
          0.140740741,
          0.14095941,
          0.141176471,
          0.141391941,
          0.141605839,
          0.141818182,
          0.142028986,
          0.142238267,
          0.142446043,
          0.14265233
         ]
        },
        {
         "fill": "tonexty",
         "fillcolor": "rgba(68, 68, 68, 0.2)",
         "line": {
          "color": "rgba(229,187,0,0.25)",
          "width": 2
         },
         "mode": "lines",
         "showlegend": false,
         "type": "scatter",
         "x": [
          0.5,
          0.51,
          0.52,
          0.53,
          0.54,
          0.55,
          0.56,
          0.57,
          0.58,
          0.59,
          0.6,
          0.61,
          0.62,
          0.63,
          0.64,
          0.65,
          0.66,
          0.67,
          0.68,
          0.69,
          0.7,
          0.71,
          0.72,
          0.73,
          0.74,
          0.75,
          0.76,
          0.77,
          0.78,
          0.79,
          0.8,
          0.81,
          0.82,
          0.83,
          0.84,
          0.85,
          0.86,
          0.87,
          0.88,
          0.89,
          0.9,
          0.91,
          0.92,
          0.93,
          0.94,
          0.95,
          0.96,
          0.97,
          0.98,
          0.99,
          1,
          1.01,
          1.02,
          1.03,
          1.04,
          1.05,
          1.06,
          1.07,
          1.08,
          1.09,
          1.1,
          1.11,
          1.12,
          1.13,
          1.14,
          1.15,
          1.16,
          1.17,
          1.18,
          1.19,
          1.2,
          1.21,
          1.22,
          1.23,
          1.24,
          1.25,
          1.26,
          1.27,
          1.28,
          1.29,
          1.3,
          1.31,
          1.32,
          1.33,
          1.34,
          1.35,
          1.36,
          1.37,
          1.38,
          1.39,
          1.4,
          1.41,
          1.42,
          1.43,
          1.44,
          1.45,
          1.46,
          1.47,
          1.48,
          1.49,
          1.5,
          1.51,
          1.52,
          1.53,
          1.54,
          1.55,
          1.56,
          1.57,
          1.58,
          1.59,
          1.6,
          1.61,
          1.62,
          1.63,
          1.64,
          1.65,
          1.66,
          1.67,
          1.68,
          1.69,
          1.7,
          1.71,
          1.72,
          1.73,
          1.74,
          1.75,
          1.76,
          1.77,
          1.78,
          1.79,
          1.8,
          1.81,
          1.82,
          1.83,
          1.84,
          1.85,
          1.86,
          1.87,
          1.88,
          1.89,
          1.9,
          1.91,
          1.92,
          1.93,
          1.94,
          1.95,
          1.96,
          1.97,
          1.98,
          1.99
         ],
         "y": [
          0.076923077,
          0.077862595,
          0.078787879,
          0.079699248,
          0.080597015,
          0.081481481,
          0.082352941,
          0.08321167900000001,
          0.084057971,
          0.084892086,
          0.085714286,
          0.086524823,
          0.087323944,
          0.088111888,
          0.088888889,
          0.089655172,
          0.090410959,
          0.091156463,
          0.091891892,
          0.09261745,
          0.093333333,
          0.094039735,
          0.094736842,
          0.095424837,
          0.096103896,
          0.096774194,
          0.097435897,
          0.098089172,
          0.098734177,
          0.099371069,
          0.1,
          0.100621118,
          0.101234568,
          0.101840491,
          0.102439024,
          0.103030303,
          0.103614458,
          0.104191617,
          0.104761905,
          0.105325444,
          0.105882353,
          0.106432749,
          0.106976744,
          0.107514451,
          0.108045977,
          0.108571429,
          0.109090909,
          0.10960452,
          0.11011236,
          0.110614525,
          0.111111111,
          0.11160221,
          0.112087912,
          0.112568306,
          0.113043478,
          0.113513514,
          0.113978495,
          0.114438503,
          0.114893617,
          0.115343915,
          0.115789474,
          0.116230366,
          0.116666667,
          0.117098446,
          0.117525773,
          0.117948718,
          0.118367347,
          0.118781726,
          0.119191919,
          0.11959799,
          0.12,
          0.12039801,
          0.120792079,
          0.121182266,
          0.121568627,
          0.12195122,
          0.122330097,
          0.122705314,
          0.123076923,
          0.123444976,
          0.123809524,
          0.124170616,
          0.124528302,
          0.124882629,
          0.125233645,
          0.125581395,
          0.125925926,
          0.126267281,
          0.126605505,
          0.126940639,
          0.127272727,
          0.12760181,
          0.127927928,
          0.128251121,
          0.128571429,
          0.128888889,
          0.12920354,
          0.129515419,
          0.129824561,
          0.130131004,
          0.130434783,
          0.130735931,
          0.131034483,
          0.131330472,
          0.131623932,
          0.131914894,
          0.13220339,
          0.132489451,
          0.132773109,
          0.133054393,
          0.133333333,
          0.133609959,
          0.133884298,
          0.134156379,
          0.13442623,
          0.134693878,
          0.13495935,
          0.135222672,
          0.135483871,
          0.135742972,
          0.136,
          0.13625498,
          0.136507937,
          0.136758893,
          0.137007874,
          0.137254902,
          0.1375,
          0.137743191,
          0.137984496,
          0.138223938,
          0.138461538,
          0.138697318,
          0.138931298,
          0.139163498,
          0.139393939,
          0.139622642,
          0.139849624,
          0.140074906,
          0.140298507,
          0.140520446,
          0.140740741,
          0.14095941,
          0.141176471,
          0.141391941,
          0.141605839,
          0.141818182,
          0.142028986,
          0.142238267,
          0.142446043,
          0.14265233
         ]
        }
       ],
       "layout": {
        "annotations": [
         {
          "showarrow": false,
          "text": "No preference",
          "x": 1,
          "xanchor": "right",
          "xref": "x domain",
          "y": 0.5,
          "yanchor": "bottom",
          "yref": "y"
         },
         {
          "showarrow": false,
          "text": "ϵ=1: no bias",
          "x": 1,
          "xanchor": "left",
          "xref": "x",
          "y": 1,
          "yanchor": "top",
          "yref": "y domain"
         }
        ],
        "font": {
         "size": 18
        },
        "height": 500,
        "legend": {
         "title": {
          "text": ""
         },
         "x": 0.75,
         "y": 0.85
        },
        "margin": {
         "b": 5,
         "l": 5,
         "r": 5,
         "t": 5
        },
        "plot_bgcolor": "rgba(0,0,0,0)",
        "shapes": [
         {
          "line": {
           "width": 1
          },
          "type": "line",
          "x0": 0,
          "x1": 1,
          "xref": "x domain",
          "y0": 0.5,
          "y1": 0.5,
          "yref": "y"
         },
         {
          "line": {
           "width": 1
          },
          "type": "line",
          "x0": 1,
          "x1": 1,
          "xref": "x",
          "y0": 0,
          "y1": 1,
          "yref": "y domain"
         }
        ],
        "showlegend": true,
        "template": {
         "data": {
          "bar": [
           {
            "error_x": {
             "color": "#2a3f5f"
            },
            "error_y": {
             "color": "#2a3f5f"
            },
            "marker": {
             "line": {
              "color": "#E5ECF6",
              "width": 0.5
             },
             "pattern": {
              "fillmode": "overlay",
              "size": 10,
              "solidity": 0.2
             }
            },
            "type": "bar"
           }
          ],
          "barpolar": [
           {
            "marker": {
             "line": {
              "color": "#E5ECF6",
              "width": 0.5
             },
             "pattern": {
              "fillmode": "overlay",
              "size": 10,
              "solidity": 0.2
             }
            },
            "type": "barpolar"
           }
          ],
          "carpet": [
           {
            "aaxis": {
             "endlinecolor": "#2a3f5f",
             "gridcolor": "white",
             "linecolor": "white",
             "minorgridcolor": "white",
             "startlinecolor": "#2a3f5f"
            },
            "baxis": {
             "endlinecolor": "#2a3f5f",
             "gridcolor": "white",
             "linecolor": "white",
             "minorgridcolor": "white",
             "startlinecolor": "#2a3f5f"
            },
            "type": "carpet"
           }
          ],
          "choropleth": [
           {
            "colorbar": {
             "outlinewidth": 0,
             "ticks": ""
            },
            "type": "choropleth"
           }
          ],
          "contour": [
           {
            "colorbar": {
             "outlinewidth": 0,
             "ticks": ""
            },
            "colorscale": [
             [
              0,
              "#0d0887"
             ],
             [
              0.1111111111111111,
              "#46039f"
             ],
             [
              0.2222222222222222,
              "#7201a8"
             ],
             [
              0.3333333333333333,
              "#9c179e"
             ],
             [
              0.4444444444444444,
              "#bd3786"
             ],
             [
              0.5555555555555556,
              "#d8576b"
             ],
             [
              0.6666666666666666,
              "#ed7953"
             ],
             [
              0.7777777777777778,
              "#fb9f3a"
             ],
             [
              0.8888888888888888,
              "#fdca26"
             ],
             [
              1,
              "#f0f921"
             ]
            ],
            "type": "contour"
           }
          ],
          "contourcarpet": [
           {
            "colorbar": {
             "outlinewidth": 0,
             "ticks": ""
            },
            "type": "contourcarpet"
           }
          ],
          "heatmap": [
           {
            "colorbar": {
             "outlinewidth": 0,
             "ticks": ""
            },
            "colorscale": [
             [
              0,
              "#0d0887"
             ],
             [
              0.1111111111111111,
              "#46039f"
             ],
             [
              0.2222222222222222,
              "#7201a8"
             ],
             [
              0.3333333333333333,
              "#9c179e"
             ],
             [
              0.4444444444444444,
              "#bd3786"
             ],
             [
              0.5555555555555556,
              "#d8576b"
             ],
             [
              0.6666666666666666,
              "#ed7953"
             ],
             [
              0.7777777777777778,
              "#fb9f3a"
             ],
             [
              0.8888888888888888,
              "#fdca26"
             ],
             [
              1,
              "#f0f921"
             ]
            ],
            "type": "heatmap"
           }
          ],
          "heatmapgl": [
           {
            "colorbar": {
             "outlinewidth": 0,
             "ticks": ""
            },
            "colorscale": [
             [
              0,
              "#0d0887"
             ],
             [
              0.1111111111111111,
              "#46039f"
             ],
             [
              0.2222222222222222,
              "#7201a8"
             ],
             [
              0.3333333333333333,
              "#9c179e"
             ],
             [
              0.4444444444444444,
              "#bd3786"
             ],
             [
              0.5555555555555556,
              "#d8576b"
             ],
             [
              0.6666666666666666,
              "#ed7953"
             ],
             [
              0.7777777777777778,
              "#fb9f3a"
             ],
             [
              0.8888888888888888,
              "#fdca26"
             ],
             [
              1,
              "#f0f921"
             ]
            ],
            "type": "heatmapgl"
           }
          ],
          "histogram": [
           {
            "marker": {
             "pattern": {
              "fillmode": "overlay",
              "size": 10,
              "solidity": 0.2
             }
            },
            "type": "histogram"
           }
          ],
          "histogram2d": [
           {
            "colorbar": {
             "outlinewidth": 0,
             "ticks": ""
            },
            "colorscale": [
             [
              0,
              "#0d0887"
             ],
             [
              0.1111111111111111,
              "#46039f"
             ],
             [
              0.2222222222222222,
              "#7201a8"
             ],
             [
              0.3333333333333333,
              "#9c179e"
             ],
             [
              0.4444444444444444,
              "#bd3786"
             ],
             [
              0.5555555555555556,
              "#d8576b"
             ],
             [
              0.6666666666666666,
              "#ed7953"
             ],
             [
              0.7777777777777778,
              "#fb9f3a"
             ],
             [
              0.8888888888888888,
              "#fdca26"
             ],
             [
              1,
              "#f0f921"
             ]
            ],
            "type": "histogram2d"
           }
          ],
          "histogram2dcontour": [
           {
            "colorbar": {
             "outlinewidth": 0,
             "ticks": ""
            },
            "colorscale": [
             [
              0,
              "#0d0887"
             ],
             [
              0.1111111111111111,
              "#46039f"
             ],
             [
              0.2222222222222222,
              "#7201a8"
             ],
             [
              0.3333333333333333,
              "#9c179e"
             ],
             [
              0.4444444444444444,
              "#bd3786"
             ],
             [
              0.5555555555555556,
              "#d8576b"
             ],
             [
              0.6666666666666666,
              "#ed7953"
             ],
             [
              0.7777777777777778,
              "#fb9f3a"
             ],
             [
              0.8888888888888888,
              "#fdca26"
             ],
             [
              1,
              "#f0f921"
             ]
            ],
            "type": "histogram2dcontour"
           }
          ],
          "mesh3d": [
           {
            "colorbar": {
             "outlinewidth": 0,
             "ticks": ""
            },
            "type": "mesh3d"
           }
          ],
          "parcoords": [
           {
            "line": {
             "colorbar": {
              "outlinewidth": 0,
              "ticks": ""
             }
            },
            "type": "parcoords"
           }
          ],
          "pie": [
           {
            "automargin": true,
            "type": "pie"
           }
          ],
          "scatter": [
           {
            "fillpattern": {
             "fillmode": "overlay",
             "size": 10,
             "solidity": 0.2
            },
            "type": "scatter"
           }
          ],
          "scatter3d": [
           {
            "line": {
             "colorbar": {
              "outlinewidth": 0,
              "ticks": ""
             }
            },
            "marker": {
             "colorbar": {
              "outlinewidth": 0,
              "ticks": ""
             }
            },
            "type": "scatter3d"
           }
          ],
          "scattercarpet": [
           {
            "marker": {
             "colorbar": {
              "outlinewidth": 0,
              "ticks": ""
             }
            },
            "type": "scattercarpet"
           }
          ],
          "scattergeo": [
           {
            "marker": {
             "colorbar": {
              "outlinewidth": 0,
              "ticks": ""
             }
            },
            "type": "scattergeo"
           }
          ],
          "scattergl": [
           {
            "marker": {
             "colorbar": {
              "outlinewidth": 0,
              "ticks": ""
             }
            },
            "type": "scattergl"
           }
          ],
          "scattermapbox": [
           {
            "marker": {
             "colorbar": {
              "outlinewidth": 0,
              "ticks": ""
             }
            },
            "type": "scattermapbox"
           }
          ],
          "scatterpolar": [
           {
            "marker": {
             "colorbar": {
              "outlinewidth": 0,
              "ticks": ""
             }
            },
            "type": "scatterpolar"
           }
          ],
          "scatterpolargl": [
           {
            "marker": {
             "colorbar": {
              "outlinewidth": 0,
              "ticks": ""
             }
            },
            "type": "scatterpolargl"
           }
          ],
          "scatterternary": [
           {
            "marker": {
             "colorbar": {
              "outlinewidth": 0,
              "ticks": ""
             }
            },
            "type": "scatterternary"
           }
          ],
          "surface": [
           {
            "colorbar": {
             "outlinewidth": 0,
             "ticks": ""
            },
            "colorscale": [
             [
              0,
              "#0d0887"
             ],
             [
              0.1111111111111111,
              "#46039f"
             ],
             [
              0.2222222222222222,
              "#7201a8"
             ],
             [
              0.3333333333333333,
              "#9c179e"
             ],
             [
              0.4444444444444444,
              "#bd3786"
             ],
             [
              0.5555555555555556,
              "#d8576b"
             ],
             [
              0.6666666666666666,
              "#ed7953"
             ],
             [
              0.7777777777777778,
              "#fb9f3a"
             ],
             [
              0.8888888888888888,
              "#fdca26"
             ],
             [
              1,
              "#f0f921"
             ]
            ],
            "type": "surface"
           }
          ],
          "table": [
           {
            "cells": {
             "fill": {
              "color": "#EBF0F8"
             },
             "line": {
              "color": "white"
             }
            },
            "header": {
             "fill": {
              "color": "#C8D4E3"
             },
             "line": {
              "color": "white"
             }
            },
            "type": "table"
           }
          ]
         },
         "layout": {
          "annotationdefaults": {
           "arrowcolor": "#2a3f5f",
           "arrowhead": 0,
           "arrowwidth": 1
          },
          "autotypenumbers": "strict",
          "coloraxis": {
           "colorbar": {
            "outlinewidth": 0,
            "ticks": ""
           }
          },
          "colorscale": {
           "diverging": [
            [
             0,
             "#8e0152"
            ],
            [
             0.1,
             "#c51b7d"
            ],
            [
             0.2,
             "#de77ae"
            ],
            [
             0.3,
             "#f1b6da"
            ],
            [
             0.4,
             "#fde0ef"
            ],
            [
             0.5,
             "#f7f7f7"
            ],
            [
             0.6,
             "#e6f5d0"
            ],
            [
             0.7,
             "#b8e186"
            ],
            [
             0.8,
             "#7fbc41"
            ],
            [
             0.9,
             "#4d9221"
            ],
            [
             1,
             "#276419"
            ]
           ],
           "sequential": [
            [
             0,
             "#0d0887"
            ],
            [
             0.1111111111111111,
             "#46039f"
            ],
            [
             0.2222222222222222,
             "#7201a8"
            ],
            [
             0.3333333333333333,
             "#9c179e"
            ],
            [
             0.4444444444444444,
             "#bd3786"
            ],
            [
             0.5555555555555556,
             "#d8576b"
            ],
            [
             0.6666666666666666,
             "#ed7953"
            ],
            [
             0.7777777777777778,
             "#fb9f3a"
            ],
            [
             0.8888888888888888,
             "#fdca26"
            ],
            [
             1,
             "#f0f921"
            ]
           ],
           "sequentialminus": [
            [
             0,
             "#0d0887"
            ],
            [
             0.1111111111111111,
             "#46039f"
            ],
            [
             0.2222222222222222,
             "#7201a8"
            ],
            [
             0.3333333333333333,
             "#9c179e"
            ],
            [
             0.4444444444444444,
             "#bd3786"
            ],
            [
             0.5555555555555556,
             "#d8576b"
            ],
            [
             0.6666666666666666,
             "#ed7953"
            ],
            [
             0.7777777777777778,
             "#fb9f3a"
            ],
            [
             0.8888888888888888,
             "#fdca26"
            ],
            [
             1,
             "#f0f921"
            ]
           ]
          },
          "colorway": [
           "#636efa",
           "#EF553B",
           "#00cc96",
           "#ab63fa",
           "#FFA15A",
           "#19d3f3",
           "#FF6692",
           "#B6E880",
           "#FF97FF",
           "#FECB52"
          ],
          "font": {
           "color": "#2a3f5f"
          },
          "geo": {
           "bgcolor": "white",
           "lakecolor": "white",
           "landcolor": "#E5ECF6",
           "showlakes": true,
           "showland": true,
           "subunitcolor": "white"
          },
          "hoverlabel": {
           "align": "left"
          },
          "hovermode": "closest",
          "mapbox": {
           "style": "light"
          },
          "paper_bgcolor": "white",
          "plot_bgcolor": "#E5ECF6",
          "polar": {
           "angularaxis": {
            "gridcolor": "white",
            "linecolor": "white",
            "ticks": ""
           },
           "bgcolor": "#E5ECF6",
           "radialaxis": {
            "gridcolor": "white",
            "linecolor": "white",
            "ticks": ""
           }
          },
          "scene": {
           "xaxis": {
            "backgroundcolor": "#E5ECF6",
            "gridcolor": "white",
            "gridwidth": 2,
            "linecolor": "white",
            "showbackground": true,
            "ticks": "",
            "zerolinecolor": "white"
           },
           "yaxis": {
            "backgroundcolor": "#E5ECF6",
            "gridcolor": "white",
            "gridwidth": 2,
            "linecolor": "white",
            "showbackground": true,
            "ticks": "",
            "zerolinecolor": "white"
           },
           "zaxis": {
            "backgroundcolor": "#E5ECF6",
            "gridcolor": "white",
            "gridwidth": 2,
            "linecolor": "white",
            "showbackground": true,
            "ticks": "",
            "zerolinecolor": "white"
           }
          },
          "shapedefaults": {
           "line": {
            "color": "#2a3f5f"
           }
          },
          "ternary": {
           "aaxis": {
            "gridcolor": "white",
            "linecolor": "white",
            "ticks": ""
           },
           "baxis": {
            "gridcolor": "white",
            "linecolor": "white",
            "ticks": ""
           },
           "bgcolor": "#E5ECF6",
           "caxis": {
            "gridcolor": "white",
            "linecolor": "white",
            "ticks": ""
           }
          },
          "title": {
           "x": 0.05
          },
          "xaxis": {
           "automargin": true,
           "gridcolor": "white",
           "linecolor": "white",
           "ticks": "",
           "title": {
            "standoff": 15
           },
           "zerolinecolor": "white",
           "zerolinewidth": 2
          },
          "yaxis": {
           "automargin": true,
           "gridcolor": "white",
           "linecolor": "white",
           "ticks": "",
           "title": {
            "standoff": 15
           },
           "zerolinecolor": "white",
           "zerolinewidth": 2
          }
         }
        },
        "title": {},
        "width": 500,
        "xaxis": {
         "linecolor": "rgb(0,0,0)",
         "linewidth": 2,
         "range": [
          0.5,
          2
         ],
         "showgrid": false,
         "showline": true,
         "title": {
          "text": "Epsilon"
         }
        },
        "yaxis": {
         "linecolor": "rgb(0,0,0)",
         "linewidth": 2,
         "range": [
          0,
          1
         ],
         "showgrid": false,
         "showline": true,
         "title": {
          "text": "Friending Effect"
         }
        }
       }
      }
     },
     "metadata": {},
     "output_type": "display_data"
    }
   ],
   "source": [
    "\n",
    "Friending_epsilon_rho125 = plotly_lines.plot_MTO_sim_results(plotly_lines(), data=df_eps[df_eps['rho'] == 1.25], x_var='epsilon', y_var='Friend_Bias', x_range=[0.5,2], y_range=[0,1], x_title='Epsilon', y_title='Exposure', with_predicted=True, colors=['rgba(224,116,0,1)', 'rgba(229,187,0,1)'])\n",
    "\n",
    "\n",
    "\n",
    "fig_Friending_epsilon = go.Figure(data = Friending_epsilon_rho125.data)\n",
    "\n",
    "fig_Friending_epsilon.update_layout(\n",
    "    title = None, \n",
    "    font=dict(size = 18),\n",
    "    xaxis_title = 'Epsilon', \n",
    "    yaxis_title = 'Friending Effect',\n",
    "    width = 500, height = 500,\n",
    "    showlegend = True, \n",
    "    legend=dict(x=0.75,y=0.85),\n",
    "    legend_title_text = '',\n",
    "    xaxis_range = [0.5,2],\n",
    "    yaxis_range = [0,1],\n",
    "    margin=dict(b=5,l=5,r=5,t=5),\n",
    "    xaxis = dict(showgrid = False, showline = True, linecolor = 'rgb(0,0,0)', linewidth = 2), \n",
    "    yaxis = dict(showgrid = False, showline = True, linecolor = 'rgb(0,0,0)', linewidth = 2),\n",
    "    plot_bgcolor='rgba(0,0,0,0)')\n",
    "\n",
    "\n",
    "fig_Friending_epsilon.add_hline(y=0.5, line_width=1, annotation_text = 'No preference')\n",
    "fig_Friending_epsilon.add_vline(x=1, line_width=1, annotation_text = 'ϵ=1: no bias')\n"
   ]
  },
  {
   "attachments": {},
   "cell_type": "markdown",
   "metadata": {},
   "source": [
    "## Rho"
   ]
  },
  {
   "attachments": {},
   "cell_type": "markdown",
   "metadata": {},
   "source": [
    "### Rho code"
   ]
  },
  {
   "cell_type": "code",
   "execution_count": 20,
   "metadata": {},
   "outputs": [
    {
     "data": {
      "text/html": [
       "<div>\n",
       "<style scoped>\n",
       "    .dataframe tbody tr th:only-of-type {\n",
       "        vertical-align: middle;\n",
       "    }\n",
       "\n",
       "    .dataframe tbody tr th {\n",
       "        vertical-align: top;\n",
       "    }\n",
       "\n",
       "    .dataframe thead th {\n",
       "        text-align: right;\n",
       "    }\n",
       "</style>\n",
       "<table border=\"1\" class=\"dataframe\">\n",
       "  <thead>\n",
       "    <tr style=\"text-align: right;\">\n",
       "      <th></th>\n",
       "      <th>Unnamed: 0</th>\n",
       "      <th>sim_id</th>\n",
       "      <th>p_SES_high</th>\n",
       "      <th>epsilon</th>\n",
       "      <th>rho</th>\n",
       "      <th>H_Share</th>\n",
       "      <th>Exposure</th>\n",
       "      <th>Friend_Bias</th>\n",
       "      <th>N_exposure</th>\n",
       "      <th>Degree</th>\n",
       "      <th>Network_SES_assortativity</th>\n",
       "      <th>Network_H_Share_H</th>\n",
       "      <th>Network_H_Share_L</th>\n",
       "      <th>Network_Degree</th>\n",
       "      <th>Network_Clustering</th>\n",
       "      <th>Predicted_H_Share</th>\n",
       "      <th>Predicted_Exposure</th>\n",
       "      <th>Predicted_Friend_Bias</th>\n",
       "    </tr>\n",
       "  </thead>\n",
       "  <tbody>\n",
       "    <tr>\n",
       "      <th>160527</th>\n",
       "      <td>160527</td>\n",
       "      <td>ISwuzfun</td>\n",
       "      <td>0.5</td>\n",
       "      <td>1.25</td>\n",
       "      <td>1.60</td>\n",
       "      <td>0.333333</td>\n",
       "      <td>0.857143</td>\n",
       "      <td>0.944444</td>\n",
       "      <td>14</td>\n",
       "      <td>12</td>\n",
       "      <td>0.321360</td>\n",
       "      <td>0.648945</td>\n",
       "      <td>0.326280</td>\n",
       "      <td>20.38</td>\n",
       "      <td>0.259726</td>\n",
       "      <td>0.277778</td>\n",
       "      <td>0.888889</td>\n",
       "      <td>0.250000</td>\n",
       "    </tr>\n",
       "    <tr>\n",
       "      <th>116764</th>\n",
       "      <td>116764</td>\n",
       "      <td>NoIJCeOm</td>\n",
       "      <td>0.5</td>\n",
       "      <td>1.25</td>\n",
       "      <td>1.16</td>\n",
       "      <td>0.214286</td>\n",
       "      <td>0.428571</td>\n",
       "      <td>0.928571</td>\n",
       "      <td>14</td>\n",
       "      <td>14</td>\n",
       "      <td>0.147523</td>\n",
       "      <td>0.557864</td>\n",
       "      <td>0.391012</td>\n",
       "      <td>22.74</td>\n",
       "      <td>0.273132</td>\n",
       "      <td>0.383142</td>\n",
       "      <td>0.888889</td>\n",
       "      <td>0.081633</td>\n",
       "    </tr>\n",
       "    <tr>\n",
       "      <th>217110</th>\n",
       "      <td>217110</td>\n",
       "      <td>VCwwzKaR</td>\n",
       "      <td>0.5</td>\n",
       "      <td>1.50</td>\n",
       "      <td>1.17</td>\n",
       "      <td>0.166667</td>\n",
       "      <td>0.333333</td>\n",
       "      <td>0.916667</td>\n",
       "      <td>14</td>\n",
       "      <td>12</td>\n",
       "      <td>0.254710</td>\n",
       "      <td>0.642307</td>\n",
       "      <td>0.371521</td>\n",
       "      <td>22.82</td>\n",
       "      <td>0.283638</td>\n",
       "      <td>0.341880</td>\n",
       "      <td>0.800000</td>\n",
       "      <td>0.092559</td>\n",
       "    </tr>\n",
       "    <tr>\n",
       "      <th>222137</th>\n",
       "      <td>222137</td>\n",
       "      <td>zKhXivuS</td>\n",
       "      <td>0.5</td>\n",
       "      <td>1.50</td>\n",
       "      <td>1.22</td>\n",
       "      <td>0.461538</td>\n",
       "      <td>1.000000</td>\n",
       "      <td>0.934066</td>\n",
       "      <td>14</td>\n",
       "      <td>13</td>\n",
       "      <td>0.212996</td>\n",
       "      <td>0.655056</td>\n",
       "      <td>0.426779</td>\n",
       "      <td>22.48</td>\n",
       "      <td>0.280731</td>\n",
       "      <td>0.327869</td>\n",
       "      <td>0.800000</td>\n",
       "      <td>0.116608</td>\n",
       "    </tr>\n",
       "    <tr>\n",
       "      <th>113543</th>\n",
       "      <td>113543</td>\n",
       "      <td>HoHGXKtM</td>\n",
       "      <td>0.5</td>\n",
       "      <td>1.25</td>\n",
       "      <td>1.13</td>\n",
       "      <td>0.416667</td>\n",
       "      <td>0.833333</td>\n",
       "      <td>0.916667</td>\n",
       "      <td>14</td>\n",
       "      <td>12</td>\n",
       "      <td>0.131014</td>\n",
       "      <td>0.605014</td>\n",
       "      <td>0.453617</td>\n",
       "      <td>22.94</td>\n",
       "      <td>0.288464</td>\n",
       "      <td>0.393314</td>\n",
       "      <td>0.888889</td>\n",
       "      <td>0.067358</td>\n",
       "    </tr>\n",
       "  </tbody>\n",
       "</table>\n",
       "</div>"
      ],
      "text/plain": [
       "        Unnamed: 0    sim_id  p_SES_high  epsilon   rho   H_Share  Exposure  \\\n",
       "160527      160527  ISwuzfun         0.5     1.25  1.60  0.333333  0.857143   \n",
       "116764      116764  NoIJCeOm         0.5     1.25  1.16  0.214286  0.428571   \n",
       "217110      217110  VCwwzKaR         0.5     1.50  1.17  0.166667  0.333333   \n",
       "222137      222137  zKhXivuS         0.5     1.50  1.22  0.461538  1.000000   \n",
       "113543      113543  HoHGXKtM         0.5     1.25  1.13  0.416667  0.833333   \n",
       "\n",
       "        Friend_Bias  N_exposure  Degree  Network_SES_assortativity  \\\n",
       "160527     0.944444          14      12                   0.321360   \n",
       "116764     0.928571          14      14                   0.147523   \n",
       "217110     0.916667          14      12                   0.254710   \n",
       "222137     0.934066          14      13                   0.212996   \n",
       "113543     0.916667          14      12                   0.131014   \n",
       "\n",
       "        Network_H_Share_H  Network_H_Share_L  Network_Degree  \\\n",
       "160527           0.648945           0.326280           20.38   \n",
       "116764           0.557864           0.391012           22.74   \n",
       "217110           0.642307           0.371521           22.82   \n",
       "222137           0.655056           0.426779           22.48   \n",
       "113543           0.605014           0.453617           22.94   \n",
       "\n",
       "        Network_Clustering  Predicted_H_Share  Predicted_Exposure  \\\n",
       "160527            0.259726           0.277778            0.888889   \n",
       "116764            0.273132           0.383142            0.888889   \n",
       "217110            0.283638           0.341880            0.800000   \n",
       "222137            0.280731           0.327869            0.800000   \n",
       "113543            0.288464           0.393314            0.888889   \n",
       "\n",
       "        Predicted_Friend_Bias  \n",
       "160527               0.250000  \n",
       "116764               0.081633  \n",
       "217110               0.092559  \n",
       "222137               0.116608  \n",
       "113543               0.067358  "
      ]
     },
     "execution_count": 20,
     "metadata": {},
     "output_type": "execute_result"
    }
   ],
   "source": [
    "\n",
    "# general simulation stuff\n",
    "list_rho_values = np.arange(1, 2, 0.01)\n",
    "\n",
    "num_sim_per_param = 10 # number of simulations with given parameter set\n",
    "num_MTO_per_sim = 100 # number of simulations on each network\n",
    "\n",
    "\n",
    "#df_rho = MTO_simulator(list_eps_values=[1, 1.25, 1.5], list_rho_values=list_rho_values, num_MTO_per_sim=num_MTO_per_sim, num_sim_per_param=num_sim_per_param)\n",
    "#df_rho.to_csv('rho_sim.csv')\n",
    "\n",
    "df_rho = pd.read_csv('SimulationData/rho_sim.csv')\n",
    "\n",
    "df_rho.sample(5)"
   ]
  },
  {
   "attachments": {},
   "cell_type": "markdown",
   "metadata": {},
   "source": [
    "### Rho HSES Share"
   ]
  },
  {
   "cell_type": "code",
   "execution_count": 161,
   "metadata": {},
   "outputs": [
    {
     "data": {
      "application/vnd.plotly.v1+json": {
       "config": {
        "plotlyServerURL": "https://plot.ly"
       },
       "data": [
        {
         "line": {
          "color": "rgba(0,0,200,1)",
          "width": 2
         },
         "mode": "lines",
         "name": "Low",
         "showlegend": true,
         "type": "scatter",
         "x": [
          1,
          1.01,
          1.02,
          1.03,
          1.04,
          1.05,
          1.06,
          1.07,
          1.08,
          1.09,
          1.1,
          1.11,
          1.12,
          1.13,
          1.14,
          1.15,
          1.16,
          1.1700000000000002,
          1.1800000000000002,
          1.1900000000000002,
          1.2000000000000002,
          1.2100000000000002,
          1.2200000000000002,
          1.2300000000000002,
          1.2400000000000002,
          1.2500000000000002,
          1.2600000000000002,
          1.2700000000000002,
          1.2800000000000002,
          1.2900000000000005,
          1.3000000000000005,
          1.3100000000000005,
          1.3200000000000005,
          1.3300000000000003,
          1.3400000000000003,
          1.3500000000000003,
          1.3600000000000003,
          1.3700000000000003,
          1.3800000000000003,
          1.3900000000000003,
          1.4000000000000004,
          1.4100000000000004,
          1.4200000000000004,
          1.4300000000000004,
          1.4400000000000004,
          1.4500000000000004,
          1.4600000000000004,
          1.4700000000000004,
          1.4800000000000004,
          1.4900000000000004,
          1.5000000000000004,
          1.5100000000000005,
          1.5200000000000005,
          1.5300000000000005,
          1.5400000000000005,
          1.5500000000000005,
          1.5600000000000005,
          1.5700000000000005,
          1.5800000000000003,
          1.5900000000000003,
          1.6000000000000003,
          1.6100000000000003,
          1.6200000000000006,
          1.6300000000000006,
          1.6400000000000006,
          1.6500000000000006,
          1.6600000000000006,
          1.6700000000000006,
          1.6800000000000006,
          1.6900000000000006,
          1.7000000000000006,
          1.7100000000000006,
          1.7200000000000006,
          1.7300000000000006,
          1.7400000000000009,
          1.7500000000000009,
          1.760000000000001,
          1.770000000000001,
          1.7800000000000007,
          1.7900000000000007,
          1.8000000000000007,
          1.8100000000000007,
          1.8200000000000007,
          1.8300000000000007,
          1.8400000000000007,
          1.8500000000000008,
          1.8600000000000008,
          1.8700000000000008,
          1.8800000000000008,
          1.8900000000000008,
          1.9000000000000008,
          1.9100000000000008,
          1.9200000000000008,
          1.9300000000000008,
          1.9400000000000008,
          1.9500000000000008,
          1.9600000000000009,
          1.9700000000000009,
          1.9800000000000009,
          1.9900000000000009
         ],
         "y": [
          0.45936351039265927,
          0.445899342319976,
          0.46308371492142203,
          0.4603797273168531,
          0.4427819297017059,
          0.4285381091363152,
          0.440011073434906,
          0.45476601119633214,
          0.4519832438354077,
          0.4594640985460785,
          0.41236582684070366,
          0.40750572389280076,
          0.42319856619936425,
          0.4198804770738303,
          0.45954142702813844,
          0.42918505781250205,
          0.4192504523091254,
          0.4205586868572999,
          0.4176568316707251,
          0.39921643377602267,
          0.43696198304416495,
          0.4280140505477846,
          0.3940640984640586,
          0.3834926417967052,
          0.39748455615354655,
          0.39637918696894453,
          0.4242483613331724,
          0.41044318763885307,
          0.41448094191614965,
          0.4198457235302104,
          0.3941371616113397,
          0.40133643831086707,
          0.4218225355268104,
          0.3886567895755684,
          0.37614992801253466,
          0.39024329660279033,
          0.3656293454451486,
          0.3700523097583083,
          0.3300885898973466,
          0.3701863008801566,
          0.3685916798536207,
          0.3630045576449264,
          0.3614508589788319,
          0.3758115311799936,
          0.39041871771104936,
          0.3629541052602367,
          0.36966088688395216,
          0.3648675527792677,
          0.38637602728276216,
          0.36982293411660405,
          0.39964656341884647,
          0.3946199955576617,
          0.3564733502805339,
          0.38601832318727153,
          0.388148997293508,
          0.3556636859647326,
          0.3587673574362553,
          0.34554748475041885,
          0.37505665294056384,
          0.3329990737085508,
          0.3403721994066087,
          0.3390755798847423,
          0.3478030650391966,
          0.34932809186365527,
          0.3602592711033191,
          0.3466344086435164,
          0.35159306170323446,
          0.3348253319967898,
          0.35488373477385093,
          0.3494573848944267,
          0.33092466707256524,
          0.3670527714246808,
          0.30652990018610476,
          0.33591508077862325,
          0.3164214367986035,
          0.30931462847839836,
          0.34078569716013807,
          0.3583116115417525,
          0.3266880425928233,
          0.29592633092077864,
          0.3059653706736949,
          0.3058227891717323,
          0.31132508080197574,
          0.31894705964634157,
          0.3371435790226275,
          0.3336218722748891,
          0.295176151531672,
          0.2856307032831048,
          0.312815411320998,
          0.29667252707194575,
          0.3293727059183525,
          0.31015880926798994,
          0.3349271636354085,
          0.34048852970961696,
          0.33239797168758445,
          0.30886710242321236,
          0.3268545445963567,
          0.29917431403665407,
          0.282033774547744,
          0.3013017996666198
         ]
        },
        {
         "line": {
          "color": "rgba(0,0,200,0.25)",
          "width": 2
         },
         "mode": "lines",
         "showlegend": false,
         "type": "scatter",
         "x": [
          1,
          1.01,
          1.02,
          1.03,
          1.04,
          1.05,
          1.06,
          1.07,
          1.08,
          1.09,
          1.1,
          1.11,
          1.12,
          1.13,
          1.14,
          1.15,
          1.16,
          1.1700000000000002,
          1.1800000000000002,
          1.1900000000000002,
          1.2000000000000002,
          1.2100000000000002,
          1.2200000000000002,
          1.2300000000000002,
          1.2400000000000002,
          1.2500000000000002,
          1.2600000000000002,
          1.2700000000000002,
          1.2800000000000002,
          1.2900000000000005,
          1.3000000000000005,
          1.3100000000000005,
          1.3200000000000005,
          1.3300000000000003,
          1.3400000000000003,
          1.3500000000000003,
          1.3600000000000003,
          1.3700000000000003,
          1.3800000000000003,
          1.3900000000000003,
          1.4000000000000004,
          1.4100000000000004,
          1.4200000000000004,
          1.4300000000000004,
          1.4400000000000004,
          1.4500000000000004,
          1.4600000000000004,
          1.4700000000000004,
          1.4800000000000004,
          1.4900000000000004,
          1.5000000000000004,
          1.5100000000000005,
          1.5200000000000005,
          1.5300000000000005,
          1.5400000000000005,
          1.5500000000000005,
          1.5600000000000005,
          1.5700000000000005,
          1.5800000000000003,
          1.5900000000000003,
          1.6000000000000003,
          1.6100000000000003,
          1.6200000000000006,
          1.6300000000000006,
          1.6400000000000006,
          1.6500000000000006,
          1.6600000000000006,
          1.6700000000000006,
          1.6800000000000006,
          1.6900000000000006,
          1.7000000000000006,
          1.7100000000000006,
          1.7200000000000006,
          1.7300000000000006,
          1.7400000000000009,
          1.7500000000000009,
          1.760000000000001,
          1.770000000000001,
          1.7800000000000007,
          1.7900000000000007,
          1.8000000000000007,
          1.8100000000000007,
          1.8200000000000007,
          1.8300000000000007,
          1.8400000000000007,
          1.8500000000000008,
          1.8600000000000008,
          1.8700000000000008,
          1.8800000000000008,
          1.8900000000000008,
          1.9000000000000008,
          1.9100000000000008,
          1.9200000000000008,
          1.9300000000000008,
          1.9400000000000008,
          1.9500000000000008,
          1.9600000000000009,
          1.9700000000000009,
          1.9800000000000009,
          1.9900000000000009
         ],
         "y": [
          0.4601935256394256,
          0.44690434497004705,
          0.4642699699746297,
          0.46116889559938684,
          0.44369355615935224,
          0.4293899424909593,
          0.44051802612144936,
          0.4558510828412075,
          0.4533652515430043,
          0.46015339024210555,
          0.4129390179997169,
          0.40852754546823805,
          0.4239065740626411,
          0.4207947105503392,
          0.4605369021716579,
          0.4303267386867256,
          0.42012689769971906,
          0.4215676812373084,
          0.41847497352137614,
          0.40033476851717176,
          0.437559276740502,
          0.4291270285147267,
          0.39485963314520695,
          0.3842409823802893,
          0.39849804727333465,
          0.39741391748307614,
          0.4253701006034975,
          0.4112911528450587,
          0.41592869158360296,
          0.4209204614603463,
          0.3949580638734518,
          0.40173312168596514,
          0.4228228380438325,
          0.3898934461697795,
          0.37711029680282027,
          0.39085196094508,
          0.3664963841976095,
          0.3708105122322286,
          0.33113914150528884,
          0.37074325466542,
          0.36935435790173937,
          0.3638985076462029,
          0.3623765498993602,
          0.37681747478631006,
          0.39101306210324405,
          0.36417526134674116,
          0.37081478174049853,
          0.3657763362878298,
          0.38717868722213816,
          0.37069219992201197,
          0.40067261118259767,
          0.3957212225822862,
          0.35759209484484444,
          0.38703530773749184,
          0.3889795958769681,
          0.35714740924268545,
          0.35947315263281276,
          0.3465002661474734,
          0.3758192778803927,
          0.3340143665533847,
          0.34088992187851763,
          0.33992107190124804,
          0.34855734277442896,
          0.35005297605228325,
          0.361189734667068,
          0.3474472664178839,
          0.3523975117273592,
          0.3356814107139385,
          0.35591656789489856,
          0.34995202667897257,
          0.3314359696755434,
          0.3678566574804247,
          0.30724363454975584,
          0.33688987335365533,
          0.31711815261622095,
          0.3100329513495722,
          0.3415232775060431,
          0.3592630968115397,
          0.32770182707822176,
          0.29682768884546734,
          0.3068090713461112,
          0.3068535147197781,
          0.31184798453609675,
          0.3197266169847293,
          0.3377476319665265,
          0.3343713296030069,
          0.2960511743283483,
          0.2865392428648241,
          0.3143361123508616,
          0.29748460291778395,
          0.33042674453011817,
          0.310848233505227,
          0.3360634943772842,
          0.34114039751685515,
          0.3331548474641086,
          0.3096161863993234,
          0.3280644563992319,
          0.29989358928595555,
          0.2826978671691853,
          0.3020233210635565
         ]
        },
        {
         "fill": "tonexty",
         "fillcolor": "rgba(68, 68, 68, 0.2)",
         "line": {
          "color": "rgba(0,0,200,0.25)",
          "width": 2
         },
         "mode": "lines",
         "showlegend": false,
         "type": "scatter",
         "x": [
          1,
          1.01,
          1.02,
          1.03,
          1.04,
          1.05,
          1.06,
          1.07,
          1.08,
          1.09,
          1.1,
          1.11,
          1.12,
          1.13,
          1.14,
          1.15,
          1.16,
          1.1700000000000002,
          1.1800000000000002,
          1.1900000000000002,
          1.2000000000000002,
          1.2100000000000002,
          1.2200000000000002,
          1.2300000000000002,
          1.2400000000000002,
          1.2500000000000002,
          1.2600000000000002,
          1.2700000000000002,
          1.2800000000000002,
          1.2900000000000005,
          1.3000000000000005,
          1.3100000000000005,
          1.3200000000000005,
          1.3300000000000003,
          1.3400000000000003,
          1.3500000000000003,
          1.3600000000000003,
          1.3700000000000003,
          1.3800000000000003,
          1.3900000000000003,
          1.4000000000000004,
          1.4100000000000004,
          1.4200000000000004,
          1.4300000000000004,
          1.4400000000000004,
          1.4500000000000004,
          1.4600000000000004,
          1.4700000000000004,
          1.4800000000000004,
          1.4900000000000004,
          1.5000000000000004,
          1.5100000000000005,
          1.5200000000000005,
          1.5300000000000005,
          1.5400000000000005,
          1.5500000000000005,
          1.5600000000000005,
          1.5700000000000005,
          1.5800000000000003,
          1.5900000000000003,
          1.6000000000000003,
          1.6100000000000003,
          1.6200000000000006,
          1.6300000000000006,
          1.6400000000000006,
          1.6500000000000006,
          1.6600000000000006,
          1.6700000000000006,
          1.6800000000000006,
          1.6900000000000006,
          1.7000000000000006,
          1.7100000000000006,
          1.7200000000000006,
          1.7300000000000006,
          1.7400000000000009,
          1.7500000000000009,
          1.760000000000001,
          1.770000000000001,
          1.7800000000000007,
          1.7900000000000007,
          1.8000000000000007,
          1.8100000000000007,
          1.8200000000000007,
          1.8300000000000007,
          1.8400000000000007,
          1.8500000000000008,
          1.8600000000000008,
          1.8700000000000008,
          1.8800000000000008,
          1.8900000000000008,
          1.9000000000000008,
          1.9100000000000008,
          1.9200000000000008,
          1.9300000000000008,
          1.9400000000000008,
          1.9500000000000008,
          1.9600000000000009,
          1.9700000000000009,
          1.9800000000000009,
          1.9900000000000009
         ],
         "y": [
          0.4585334951458929,
          0.444894339669905,
          0.46189745986821434,
          0.4595905590343194,
          0.4418703032440595,
          0.42768627578167107,
          0.4395041207483626,
          0.4536809395514568,
          0.45060123612781117,
          0.45877480685005145,
          0.41179263568169044,
          0.4064839023173635,
          0.4224905583360874,
          0.41896624359732143,
          0.458545951884619,
          0.4280433769382785,
          0.4183740069185317,
          0.4195496924772914,
          0.41683868982007405,
          0.3980980990348736,
          0.4363646893478279,
          0.4269010725808424,
          0.39326856378291025,
          0.38274430121312114,
          0.39647106503375845,
          0.3953444564548129,
          0.4231266220628473,
          0.40959522243264745,
          0.41303319224869633,
          0.4187709856000745,
          0.39331625934922765,
          0.400939754935769,
          0.4208222330097883,
          0.38742013298135725,
          0.37518955922224906,
          0.38963463226050066,
          0.36476230669268767,
          0.36929410728438794,
          0.3290380382894043,
          0.36962934709489315,
          0.367829001805502,
          0.3621106076436499,
          0.3605251680583036,
          0.37480558757367716,
          0.38982437331885467,
          0.3617329491737322,
          0.3685069920274058,
          0.3639587692707056,
          0.38557336734338615,
          0.36895366831119614,
          0.39862051565509526,
          0.3935187685330372,
          0.35535460571622335,
          0.3850013386370512,
          0.38731839871004786,
          0.3541799626867797,
          0.3580615622396979,
          0.3445947033533643,
          0.37429402800073497,
          0.33198378086371694,
          0.3398544769346997,
          0.33823008786823655,
          0.34704878730396427,
          0.3486032076750273,
          0.35932880753957025,
          0.3458215508691489,
          0.3507886116791097,
          0.33396925327964117,
          0.3538509016528033,
          0.3489627431098808,
          0.3304133644695871,
          0.3662488853689369,
          0.3058161658224537,
          0.3349402882035912,
          0.3157247209809861,
          0.3085963056072245,
          0.340048116814233,
          0.35736012627196534,
          0.32567425810742484,
          0.29502497299608993,
          0.3051216700012786,
          0.30479206362368644,
          0.31080217706785473,
          0.3181675023079538,
          0.33653952607872845,
          0.3328724149467713,
          0.29430112873499564,
          0.28472216370138553,
          0.31129471029113437,
          0.29586045122610755,
          0.3283186673065868,
          0.3094693850307529,
          0.33379083289353273,
          0.33983666190237877,
          0.3316410959110603,
          0.3081180184471013,
          0.32564463279348155,
          0.2984550387873526,
          0.28136968192630263,
          0.3005802782696831
         ]
        },
        {
         "line": {
          "color": "rgba(200,0,0,1)",
          "width": 2
         },
         "mode": "lines",
         "name": "High",
         "showlegend": true,
         "type": "scatter",
         "x": [
          1,
          1.01,
          1.02,
          1.03,
          1.04,
          1.05,
          1.06,
          1.07,
          1.08,
          1.09,
          1.1,
          1.11,
          1.12,
          1.13,
          1.14,
          1.15,
          1.16,
          1.1700000000000002,
          1.1800000000000002,
          1.1900000000000002,
          1.2000000000000002,
          1.2100000000000002,
          1.2200000000000002,
          1.2300000000000002,
          1.2400000000000002,
          1.2500000000000002,
          1.2600000000000002,
          1.2700000000000002,
          1.2800000000000002,
          1.2900000000000005,
          1.3000000000000005,
          1.3100000000000005,
          1.3200000000000005,
          1.3300000000000003,
          1.3400000000000003,
          1.3500000000000003,
          1.3600000000000003,
          1.3700000000000003,
          1.3800000000000003,
          1.3900000000000003,
          1.4000000000000004,
          1.4100000000000004,
          1.4200000000000004,
          1.4300000000000004,
          1.4400000000000004,
          1.4500000000000004,
          1.4600000000000004,
          1.4700000000000004,
          1.4800000000000004,
          1.4900000000000004,
          1.5000000000000004,
          1.5100000000000005,
          1.5200000000000005,
          1.5300000000000005,
          1.5400000000000005,
          1.5500000000000005,
          1.5600000000000005,
          1.5700000000000005,
          1.5800000000000003,
          1.5900000000000003,
          1.6000000000000003,
          1.6100000000000003,
          1.6200000000000006,
          1.6300000000000006,
          1.6400000000000006,
          1.6500000000000006,
          1.6600000000000006,
          1.6700000000000006,
          1.6800000000000006,
          1.6900000000000006,
          1.7000000000000006,
          1.7100000000000006,
          1.7200000000000006,
          1.7300000000000006,
          1.7400000000000009,
          1.7500000000000009,
          1.760000000000001,
          1.770000000000001,
          1.7800000000000007,
          1.7900000000000007,
          1.8000000000000007,
          1.8100000000000007,
          1.8200000000000007,
          1.8300000000000007,
          1.8400000000000007,
          1.8500000000000008,
          1.8600000000000008,
          1.8700000000000008,
          1.8800000000000008,
          1.8900000000000008,
          1.9000000000000008,
          1.9100000000000008,
          1.9200000000000008,
          1.9300000000000008,
          1.9400000000000008,
          1.9500000000000008,
          1.9600000000000009,
          1.9700000000000009,
          1.9800000000000009,
          1.9900000000000009
         ],
         "y": [
          0.556368237252133,
          0.5187473690595809,
          0.5440197320140764,
          0.5561274567592006,
          0.5373207223872117,
          0.5337868631788802,
          0.5469327123000215,
          0.5732741008832886,
          0.5616504842073756,
          0.5817121310289901,
          0.5429789008180664,
          0.5259007864575697,
          0.5581536017122898,
          0.5729183086453344,
          0.6018804946743583,
          0.5640751975661916,
          0.5759134993882506,
          0.5836946764218015,
          0.5912238926801857,
          0.5434963843737266,
          0.6070794278137673,
          0.5962687224706686,
          0.5599469861126598,
          0.563795505563218,
          0.5863738653896807,
          0.5798004484834324,
          0.6039186344537086,
          0.5940198935426176,
          0.6136529943181753,
          0.6084932245717958,
          0.6030752984022475,
          0.6134184740519255,
          0.6146698896101473,
          0.6001668633172373,
          0.5952513007824902,
          0.6092434025724532,
          0.5918591307400487,
          0.6053010107115252,
          0.5691382918224022,
          0.6189504204527803,
          0.6091681191836968,
          0.6107850586025191,
          0.606751788013288,
          0.6149431576188011,
          0.6399248383269347,
          0.6056800365700513,
          0.6210832601298166,
          0.6242726812435943,
          0.6347851574638138,
          0.6239680433364431,
          0.670510771824357,
          0.6570264119557854,
          0.6259597924383513,
          0.6539647436731898,
          0.6644243469336498,
          0.6305246452588712,
          0.6374382139138526,
          0.6180490142439067,
          0.6629563463053743,
          0.6251466991926747,
          0.6481179724596277,
          0.6408020546652592,
          0.6676744583125344,
          0.6487862799510246,
          0.6552567096079888,
          0.6634385154875879,
          0.6725284016690329,
          0.6452993419030658,
          0.656295482097624,
          0.6754357259690686,
          0.6532008999802656,
          0.6956554709673677,
          0.6469707768808259,
          0.6655290193759069,
          0.6397031011192846,
          0.6571509670253785,
          0.6705609200288285,
          0.6997554039446411,
          0.6597739016404656,
          0.6390688608748336,
          0.6472648343151428,
          0.6518379210189715,
          0.6597126597142322,
          0.6658740148747145,
          0.7022659818338923,
          0.6830438259333362,
          0.6560273527687698,
          0.6537512294218714,
          0.673630354071392,
          0.6537831619985279,
          0.7129937430932848,
          0.6672508854828577,
          0.6999339316077737,
          0.698471673258297,
          0.7099394280683912,
          0.6866989361793842,
          0.6938077134917014,
          0.6767953814678919,
          0.6732530327488482,
          0.685031210889693
         ]
        },
        {
         "line": {
          "color": "rgba(200,0,0,0.25)",
          "width": 2
         },
         "mode": "lines",
         "showlegend": false,
         "type": "scatter",
         "x": [
          1,
          1.01,
          1.02,
          1.03,
          1.04,
          1.05,
          1.06,
          1.07,
          1.08,
          1.09,
          1.1,
          1.11,
          1.12,
          1.13,
          1.14,
          1.15,
          1.16,
          1.1700000000000002,
          1.1800000000000002,
          1.1900000000000002,
          1.2000000000000002,
          1.2100000000000002,
          1.2200000000000002,
          1.2300000000000002,
          1.2400000000000002,
          1.2500000000000002,
          1.2600000000000002,
          1.2700000000000002,
          1.2800000000000002,
          1.2900000000000005,
          1.3000000000000005,
          1.3100000000000005,
          1.3200000000000005,
          1.3300000000000003,
          1.3400000000000003,
          1.3500000000000003,
          1.3600000000000003,
          1.3700000000000003,
          1.3800000000000003,
          1.3900000000000003,
          1.4000000000000004,
          1.4100000000000004,
          1.4200000000000004,
          1.4300000000000004,
          1.4400000000000004,
          1.4500000000000004,
          1.4600000000000004,
          1.4700000000000004,
          1.4800000000000004,
          1.4900000000000004,
          1.5000000000000004,
          1.5100000000000005,
          1.5200000000000005,
          1.5300000000000005,
          1.5400000000000005,
          1.5500000000000005,
          1.5600000000000005,
          1.5700000000000005,
          1.5800000000000003,
          1.5900000000000003,
          1.6000000000000003,
          1.6100000000000003,
          1.6200000000000006,
          1.6300000000000006,
          1.6400000000000006,
          1.6500000000000006,
          1.6600000000000006,
          1.6700000000000006,
          1.6800000000000006,
          1.6900000000000006,
          1.7000000000000006,
          1.7100000000000006,
          1.7200000000000006,
          1.7300000000000006,
          1.7400000000000009,
          1.7500000000000009,
          1.760000000000001,
          1.770000000000001,
          1.7800000000000007,
          1.7900000000000007,
          1.8000000000000007,
          1.8100000000000007,
          1.8200000000000007,
          1.8300000000000007,
          1.8400000000000007,
          1.8500000000000008,
          1.8600000000000008,
          1.8700000000000008,
          1.8800000000000008,
          1.8900000000000008,
          1.9000000000000008,
          1.9100000000000008,
          1.9200000000000008,
          1.9300000000000008,
          1.9400000000000008,
          1.9500000000000008,
          1.9600000000000009,
          1.9700000000000009,
          1.9800000000000009,
          1.9900000000000009
         ],
         "y": [
          0.5571919458240907,
          0.5196389223219231,
          0.5451450185318032,
          0.5569746317835556,
          0.5381822578408667,
          0.5346993720435161,
          0.5474698414547642,
          0.5744202813184234,
          0.5629839369394104,
          0.5824759939654441,
          0.5437410639403317,
          0.5269817574282134,
          0.5589883162718672,
          0.5736359443111448,
          0.602517757048104,
          0.5651008905092889,
          0.5767251932528796,
          0.5847022400695095,
          0.5920600316899312,
          0.5446984803662882,
          0.6075622296640996,
          0.5973448094887556,
          0.5612071087558612,
          0.5646060460287061,
          0.5871378349072707,
          0.5809990611569646,
          0.6051708425510223,
          0.5947520064080354,
          0.6145477126768814,
          0.6095702684025759,
          0.6041048573294365,
          0.6139316090505822,
          0.6157475453372054,
          0.6013273080900073,
          0.5963080683908175,
          0.6098088699025511,
          0.5928267945855826,
          0.60600931258967,
          0.5705293137760226,
          0.6194794839214045,
          0.6099170024605223,
          0.611892942150584,
          0.6077568301345161,
          0.6158473137823632,
          0.6403775820761007,
          0.6068524818754603,
          0.621923574198746,
          0.6253061835701668,
          0.6358037459193734,
          0.6249531001752369,
          0.671141982386635,
          0.657865431581467,
          0.6272341123349232,
          0.6547769425447991,
          0.665101063348425,
          0.6321134329487654,
          0.6382558039220216,
          0.6191148769059064,
          0.6636944666643128,
          0.6261858572393714,
          0.6486940483013676,
          0.6415880084328761,
          0.6682328592275217,
          0.6497399623471635,
          0.6559648042158529,
          0.6644090375251899,
          0.6732962366901931,
          0.6463004364639532,
          0.6573467487469792,
          0.6760804768656178,
          0.6541147843909462,
          0.6966517485237383,
          0.647781673633758,
          0.6662616539965713,
          0.6406782119405522,
          0.6579228481858512,
          0.6711802270792259,
          0.7006156732744578,
          0.6607535543159057,
          0.640090500531903,
          0.6480285922059124,
          0.6531093614157203,
          0.660556450283717,
          0.6667969852603342,
          0.7031387018745121,
          0.6838002022607186,
          0.6570805582665067,
          0.6544742478539531,
          0.6747154873620183,
          0.6551269552481268,
          0.7141893339223783,
          0.6679789202505744,
          0.7006755577316264,
          0.6990899478173416,
          0.7105781205527132,
          0.6872973352992576,
          0.6948057527676871,
          0.6778153750236896,
          0.673713888560884,
          0.685831111787055
         ]
        },
        {
         "fill": "tonexty",
         "fillcolor": "rgba(68, 68, 68, 0.2)",
         "line": {
          "color": "rgba(200,0,0,0.25)",
          "width": 2
         },
         "mode": "lines",
         "showlegend": false,
         "type": "scatter",
         "x": [
          1,
          1.01,
          1.02,
          1.03,
          1.04,
          1.05,
          1.06,
          1.07,
          1.08,
          1.09,
          1.1,
          1.11,
          1.12,
          1.13,
          1.14,
          1.15,
          1.16,
          1.1700000000000002,
          1.1800000000000002,
          1.1900000000000002,
          1.2000000000000002,
          1.2100000000000002,
          1.2200000000000002,
          1.2300000000000002,
          1.2400000000000002,
          1.2500000000000002,
          1.2600000000000002,
          1.2700000000000002,
          1.2800000000000002,
          1.2900000000000005,
          1.3000000000000005,
          1.3100000000000005,
          1.3200000000000005,
          1.3300000000000003,
          1.3400000000000003,
          1.3500000000000003,
          1.3600000000000003,
          1.3700000000000003,
          1.3800000000000003,
          1.3900000000000003,
          1.4000000000000004,
          1.4100000000000004,
          1.4200000000000004,
          1.4300000000000004,
          1.4400000000000004,
          1.4500000000000004,
          1.4600000000000004,
          1.4700000000000004,
          1.4800000000000004,
          1.4900000000000004,
          1.5000000000000004,
          1.5100000000000005,
          1.5200000000000005,
          1.5300000000000005,
          1.5400000000000005,
          1.5500000000000005,
          1.5600000000000005,
          1.5700000000000005,
          1.5800000000000003,
          1.5900000000000003,
          1.6000000000000003,
          1.6100000000000003,
          1.6200000000000006,
          1.6300000000000006,
          1.6400000000000006,
          1.6500000000000006,
          1.6600000000000006,
          1.6700000000000006,
          1.6800000000000006,
          1.6900000000000006,
          1.7000000000000006,
          1.7100000000000006,
          1.7200000000000006,
          1.7300000000000006,
          1.7400000000000009,
          1.7500000000000009,
          1.760000000000001,
          1.770000000000001,
          1.7800000000000007,
          1.7900000000000007,
          1.8000000000000007,
          1.8100000000000007,
          1.8200000000000007,
          1.8300000000000007,
          1.8400000000000007,
          1.8500000000000008,
          1.8600000000000008,
          1.8700000000000008,
          1.8800000000000008,
          1.8900000000000008,
          1.9000000000000008,
          1.9100000000000008,
          1.9200000000000008,
          1.9300000000000008,
          1.9400000000000008,
          1.9500000000000008,
          1.9600000000000009,
          1.9700000000000009,
          1.9800000000000009,
          1.9900000000000009
         ],
         "y": [
          0.5555445286801753,
          0.5178558157972386,
          0.5428944454963496,
          0.5552802817348457,
          0.5364591869335568,
          0.5328743543142443,
          0.5463955831452788,
          0.5721279204481537,
          0.5603170314753408,
          0.5809482680925361,
          0.5422167376958011,
          0.5248198154869259,
          0.5573188871527124,
          0.572200672979524,
          0.6012432323006127,
          0.5630495046230943,
          0.5751018055236217,
          0.5826871127740935,
          0.5903877536704403,
          0.542294288381165,
          0.6065966259634351,
          0.5951926354525817,
          0.5586868634694584,
          0.5629849650977299,
          0.5856098958720908,
          0.5786018358099001,
          0.602666426356395,
          0.5932877806771999,
          0.6127582759594693,
          0.6074161807410157,
          0.6020457394750585,
          0.6129053390532688,
          0.6135922338830893,
          0.5990064185444673,
          0.5941945331741629,
          0.6086779352423554,
          0.5908914668945148,
          0.6045927088333805,
          0.5677472698687818,
          0.618421356984156,
          0.6084192359068714,
          0.6096771750544542,
          0.6057467458920599,
          0.614039001455239,
          0.6394720945777687,
          0.6045075912646424,
          0.6202429460608873,
          0.6232391789170217,
          0.6337665690082542,
          0.6229829864976493,
          0.669879561262079,
          0.6561873923301037,
          0.6246854725417794,
          0.6531525448015805,
          0.6637476305188746,
          0.628935857568977,
          0.6366206239056835,
          0.616983151581907,
          0.6622182259464358,
          0.6241075411459781,
          0.6475418966178877,
          0.6400161008976423,
          0.667116057397547,
          0.6478325975548856,
          0.6545486150001246,
          0.662467993449986,
          0.6717605666478728,
          0.6442982473421784,
          0.6552442154482688,
          0.6747909750725195,
          0.6522870155695851,
          0.694659193410997,
          0.6461598801278938,
          0.6647963847552425,
          0.6387279902980171,
          0.6563790858649057,
          0.6699416129784311,
          0.6988951346148243,
          0.6587942489650255,
          0.6380472212177642,
          0.6465010764243733,
          0.6505664806222228,
          0.6588688691447474,
          0.6649510444890949,
          0.7013932617932725,
          0.6822874496059539,
          0.6549741472710329,
          0.6530282109897896,
          0.6725452207807658,
          0.652439368748929,
          0.7117981522641913,
          0.6665228507151411,
          0.6991923054839211,
          0.6978533986992523,
          0.7093007355840691,
          0.6861005370595107,
          0.6928096742157158,
          0.6757753879120941,
          0.6727921769368124,
          0.684231309992331
         ]
        }
       ],
       "layout": {
        "annotations": [
         {
          "showarrow": false,
          "text": "Equal share",
          "x": 1,
          "xanchor": "right",
          "xref": "x domain",
          "y": 0.5,
          "yanchor": "bottom",
          "yref": "y"
         },
         {
          "showarrow": false,
          "text": "ρ=1: no bias",
          "x": 1,
          "xanchor": "left",
          "xref": "x",
          "y": 1,
          "yanchor": "top",
          "yref": "y domain"
         }
        ],
        "font": {
         "size": 18
        },
        "height": 500,
        "legend": {
         "title": {
          "text": ""
         },
         "x": 0.75,
         "y": 0.65
        },
        "margin": {
         "b": 5,
         "l": 5,
         "r": 5,
         "t": 5
        },
        "plot_bgcolor": "rgba(0,0,0,0)",
        "shapes": [
         {
          "line": {
           "width": 1
          },
          "type": "line",
          "x0": 0,
          "x1": 1,
          "xref": "x domain",
          "y0": 0.5,
          "y1": 0.5,
          "yref": "y"
         },
         {
          "line": {
           "width": 1
          },
          "type": "line",
          "x0": 1,
          "x1": 1,
          "xref": "x",
          "y0": 0,
          "y1": 1,
          "yref": "y domain"
         }
        ],
        "showlegend": true,
        "template": {
         "data": {
          "bar": [
           {
            "error_x": {
             "color": "#2a3f5f"
            },
            "error_y": {
             "color": "#2a3f5f"
            },
            "marker": {
             "line": {
              "color": "#E5ECF6",
              "width": 0.5
             },
             "pattern": {
              "fillmode": "overlay",
              "size": 10,
              "solidity": 0.2
             }
            },
            "type": "bar"
           }
          ],
          "barpolar": [
           {
            "marker": {
             "line": {
              "color": "#E5ECF6",
              "width": 0.5
             },
             "pattern": {
              "fillmode": "overlay",
              "size": 10,
              "solidity": 0.2
             }
            },
            "type": "barpolar"
           }
          ],
          "carpet": [
           {
            "aaxis": {
             "endlinecolor": "#2a3f5f",
             "gridcolor": "white",
             "linecolor": "white",
             "minorgridcolor": "white",
             "startlinecolor": "#2a3f5f"
            },
            "baxis": {
             "endlinecolor": "#2a3f5f",
             "gridcolor": "white",
             "linecolor": "white",
             "minorgridcolor": "white",
             "startlinecolor": "#2a3f5f"
            },
            "type": "carpet"
           }
          ],
          "choropleth": [
           {
            "colorbar": {
             "outlinewidth": 0,
             "ticks": ""
            },
            "type": "choropleth"
           }
          ],
          "contour": [
           {
            "colorbar": {
             "outlinewidth": 0,
             "ticks": ""
            },
            "colorscale": [
             [
              0,
              "#0d0887"
             ],
             [
              0.1111111111111111,
              "#46039f"
             ],
             [
              0.2222222222222222,
              "#7201a8"
             ],
             [
              0.3333333333333333,
              "#9c179e"
             ],
             [
              0.4444444444444444,
              "#bd3786"
             ],
             [
              0.5555555555555556,
              "#d8576b"
             ],
             [
              0.6666666666666666,
              "#ed7953"
             ],
             [
              0.7777777777777778,
              "#fb9f3a"
             ],
             [
              0.8888888888888888,
              "#fdca26"
             ],
             [
              1,
              "#f0f921"
             ]
            ],
            "type": "contour"
           }
          ],
          "contourcarpet": [
           {
            "colorbar": {
             "outlinewidth": 0,
             "ticks": ""
            },
            "type": "contourcarpet"
           }
          ],
          "heatmap": [
           {
            "colorbar": {
             "outlinewidth": 0,
             "ticks": ""
            },
            "colorscale": [
             [
              0,
              "#0d0887"
             ],
             [
              0.1111111111111111,
              "#46039f"
             ],
             [
              0.2222222222222222,
              "#7201a8"
             ],
             [
              0.3333333333333333,
              "#9c179e"
             ],
             [
              0.4444444444444444,
              "#bd3786"
             ],
             [
              0.5555555555555556,
              "#d8576b"
             ],
             [
              0.6666666666666666,
              "#ed7953"
             ],
             [
              0.7777777777777778,
              "#fb9f3a"
             ],
             [
              0.8888888888888888,
              "#fdca26"
             ],
             [
              1,
              "#f0f921"
             ]
            ],
            "type": "heatmap"
           }
          ],
          "heatmapgl": [
           {
            "colorbar": {
             "outlinewidth": 0,
             "ticks": ""
            },
            "colorscale": [
             [
              0,
              "#0d0887"
             ],
             [
              0.1111111111111111,
              "#46039f"
             ],
             [
              0.2222222222222222,
              "#7201a8"
             ],
             [
              0.3333333333333333,
              "#9c179e"
             ],
             [
              0.4444444444444444,
              "#bd3786"
             ],
             [
              0.5555555555555556,
              "#d8576b"
             ],
             [
              0.6666666666666666,
              "#ed7953"
             ],
             [
              0.7777777777777778,
              "#fb9f3a"
             ],
             [
              0.8888888888888888,
              "#fdca26"
             ],
             [
              1,
              "#f0f921"
             ]
            ],
            "type": "heatmapgl"
           }
          ],
          "histogram": [
           {
            "marker": {
             "pattern": {
              "fillmode": "overlay",
              "size": 10,
              "solidity": 0.2
             }
            },
            "type": "histogram"
           }
          ],
          "histogram2d": [
           {
            "colorbar": {
             "outlinewidth": 0,
             "ticks": ""
            },
            "colorscale": [
             [
              0,
              "#0d0887"
             ],
             [
              0.1111111111111111,
              "#46039f"
             ],
             [
              0.2222222222222222,
              "#7201a8"
             ],
             [
              0.3333333333333333,
              "#9c179e"
             ],
             [
              0.4444444444444444,
              "#bd3786"
             ],
             [
              0.5555555555555556,
              "#d8576b"
             ],
             [
              0.6666666666666666,
              "#ed7953"
             ],
             [
              0.7777777777777778,
              "#fb9f3a"
             ],
             [
              0.8888888888888888,
              "#fdca26"
             ],
             [
              1,
              "#f0f921"
             ]
            ],
            "type": "histogram2d"
           }
          ],
          "histogram2dcontour": [
           {
            "colorbar": {
             "outlinewidth": 0,
             "ticks": ""
            },
            "colorscale": [
             [
              0,
              "#0d0887"
             ],
             [
              0.1111111111111111,
              "#46039f"
             ],
             [
              0.2222222222222222,
              "#7201a8"
             ],
             [
              0.3333333333333333,
              "#9c179e"
             ],
             [
              0.4444444444444444,
              "#bd3786"
             ],
             [
              0.5555555555555556,
              "#d8576b"
             ],
             [
              0.6666666666666666,
              "#ed7953"
             ],
             [
              0.7777777777777778,
              "#fb9f3a"
             ],
             [
              0.8888888888888888,
              "#fdca26"
             ],
             [
              1,
              "#f0f921"
             ]
            ],
            "type": "histogram2dcontour"
           }
          ],
          "mesh3d": [
           {
            "colorbar": {
             "outlinewidth": 0,
             "ticks": ""
            },
            "type": "mesh3d"
           }
          ],
          "parcoords": [
           {
            "line": {
             "colorbar": {
              "outlinewidth": 0,
              "ticks": ""
             }
            },
            "type": "parcoords"
           }
          ],
          "pie": [
           {
            "automargin": true,
            "type": "pie"
           }
          ],
          "scatter": [
           {
            "fillpattern": {
             "fillmode": "overlay",
             "size": 10,
             "solidity": 0.2
            },
            "type": "scatter"
           }
          ],
          "scatter3d": [
           {
            "line": {
             "colorbar": {
              "outlinewidth": 0,
              "ticks": ""
             }
            },
            "marker": {
             "colorbar": {
              "outlinewidth": 0,
              "ticks": ""
             }
            },
            "type": "scatter3d"
           }
          ],
          "scattercarpet": [
           {
            "marker": {
             "colorbar": {
              "outlinewidth": 0,
              "ticks": ""
             }
            },
            "type": "scattercarpet"
           }
          ],
          "scattergeo": [
           {
            "marker": {
             "colorbar": {
              "outlinewidth": 0,
              "ticks": ""
             }
            },
            "type": "scattergeo"
           }
          ],
          "scattergl": [
           {
            "marker": {
             "colorbar": {
              "outlinewidth": 0,
              "ticks": ""
             }
            },
            "type": "scattergl"
           }
          ],
          "scattermapbox": [
           {
            "marker": {
             "colorbar": {
              "outlinewidth": 0,
              "ticks": ""
             }
            },
            "type": "scattermapbox"
           }
          ],
          "scatterpolar": [
           {
            "marker": {
             "colorbar": {
              "outlinewidth": 0,
              "ticks": ""
             }
            },
            "type": "scatterpolar"
           }
          ],
          "scatterpolargl": [
           {
            "marker": {
             "colorbar": {
              "outlinewidth": 0,
              "ticks": ""
             }
            },
            "type": "scatterpolargl"
           }
          ],
          "scatterternary": [
           {
            "marker": {
             "colorbar": {
              "outlinewidth": 0,
              "ticks": ""
             }
            },
            "type": "scatterternary"
           }
          ],
          "surface": [
           {
            "colorbar": {
             "outlinewidth": 0,
             "ticks": ""
            },
            "colorscale": [
             [
              0,
              "#0d0887"
             ],
             [
              0.1111111111111111,
              "#46039f"
             ],
             [
              0.2222222222222222,
              "#7201a8"
             ],
             [
              0.3333333333333333,
              "#9c179e"
             ],
             [
              0.4444444444444444,
              "#bd3786"
             ],
             [
              0.5555555555555556,
              "#d8576b"
             ],
             [
              0.6666666666666666,
              "#ed7953"
             ],
             [
              0.7777777777777778,
              "#fb9f3a"
             ],
             [
              0.8888888888888888,
              "#fdca26"
             ],
             [
              1,
              "#f0f921"
             ]
            ],
            "type": "surface"
           }
          ],
          "table": [
           {
            "cells": {
             "fill": {
              "color": "#EBF0F8"
             },
             "line": {
              "color": "white"
             }
            },
            "header": {
             "fill": {
              "color": "#C8D4E3"
             },
             "line": {
              "color": "white"
             }
            },
            "type": "table"
           }
          ]
         },
         "layout": {
          "annotationdefaults": {
           "arrowcolor": "#2a3f5f",
           "arrowhead": 0,
           "arrowwidth": 1
          },
          "autotypenumbers": "strict",
          "coloraxis": {
           "colorbar": {
            "outlinewidth": 0,
            "ticks": ""
           }
          },
          "colorscale": {
           "diverging": [
            [
             0,
             "#8e0152"
            ],
            [
             0.1,
             "#c51b7d"
            ],
            [
             0.2,
             "#de77ae"
            ],
            [
             0.3,
             "#f1b6da"
            ],
            [
             0.4,
             "#fde0ef"
            ],
            [
             0.5,
             "#f7f7f7"
            ],
            [
             0.6,
             "#e6f5d0"
            ],
            [
             0.7,
             "#b8e186"
            ],
            [
             0.8,
             "#7fbc41"
            ],
            [
             0.9,
             "#4d9221"
            ],
            [
             1,
             "#276419"
            ]
           ],
           "sequential": [
            [
             0,
             "#0d0887"
            ],
            [
             0.1111111111111111,
             "#46039f"
            ],
            [
             0.2222222222222222,
             "#7201a8"
            ],
            [
             0.3333333333333333,
             "#9c179e"
            ],
            [
             0.4444444444444444,
             "#bd3786"
            ],
            [
             0.5555555555555556,
             "#d8576b"
            ],
            [
             0.6666666666666666,
             "#ed7953"
            ],
            [
             0.7777777777777778,
             "#fb9f3a"
            ],
            [
             0.8888888888888888,
             "#fdca26"
            ],
            [
             1,
             "#f0f921"
            ]
           ],
           "sequentialminus": [
            [
             0,
             "#0d0887"
            ],
            [
             0.1111111111111111,
             "#46039f"
            ],
            [
             0.2222222222222222,
             "#7201a8"
            ],
            [
             0.3333333333333333,
             "#9c179e"
            ],
            [
             0.4444444444444444,
             "#bd3786"
            ],
            [
             0.5555555555555556,
             "#d8576b"
            ],
            [
             0.6666666666666666,
             "#ed7953"
            ],
            [
             0.7777777777777778,
             "#fb9f3a"
            ],
            [
             0.8888888888888888,
             "#fdca26"
            ],
            [
             1,
             "#f0f921"
            ]
           ]
          },
          "colorway": [
           "#636efa",
           "#EF553B",
           "#00cc96",
           "#ab63fa",
           "#FFA15A",
           "#19d3f3",
           "#FF6692",
           "#B6E880",
           "#FF97FF",
           "#FECB52"
          ],
          "font": {
           "color": "#2a3f5f"
          },
          "geo": {
           "bgcolor": "white",
           "lakecolor": "white",
           "landcolor": "#E5ECF6",
           "showlakes": true,
           "showland": true,
           "subunitcolor": "white"
          },
          "hoverlabel": {
           "align": "left"
          },
          "hovermode": "closest",
          "mapbox": {
           "style": "light"
          },
          "paper_bgcolor": "white",
          "plot_bgcolor": "#E5ECF6",
          "polar": {
           "angularaxis": {
            "gridcolor": "white",
            "linecolor": "white",
            "ticks": ""
           },
           "bgcolor": "#E5ECF6",
           "radialaxis": {
            "gridcolor": "white",
            "linecolor": "white",
            "ticks": ""
           }
          },
          "scene": {
           "xaxis": {
            "backgroundcolor": "#E5ECF6",
            "gridcolor": "white",
            "gridwidth": 2,
            "linecolor": "white",
            "showbackground": true,
            "ticks": "",
            "zerolinecolor": "white"
           },
           "yaxis": {
            "backgroundcolor": "#E5ECF6",
            "gridcolor": "white",
            "gridwidth": 2,
            "linecolor": "white",
            "showbackground": true,
            "ticks": "",
            "zerolinecolor": "white"
           },
           "zaxis": {
            "backgroundcolor": "#E5ECF6",
            "gridcolor": "white",
            "gridwidth": 2,
            "linecolor": "white",
            "showbackground": true,
            "ticks": "",
            "zerolinecolor": "white"
           }
          },
          "shapedefaults": {
           "line": {
            "color": "#2a3f5f"
           }
          },
          "ternary": {
           "aaxis": {
            "gridcolor": "white",
            "linecolor": "white",
            "ticks": ""
           },
           "baxis": {
            "gridcolor": "white",
            "linecolor": "white",
            "ticks": ""
           },
           "bgcolor": "#E5ECF6",
           "caxis": {
            "gridcolor": "white",
            "linecolor": "white",
            "ticks": ""
           }
          },
          "title": {
           "x": 0.05
          },
          "xaxis": {
           "automargin": true,
           "gridcolor": "white",
           "linecolor": "white",
           "ticks": "",
           "title": {
            "standoff": 15
           },
           "zerolinecolor": "white",
           "zerolinewidth": 2
          },
          "yaxis": {
           "automargin": true,
           "gridcolor": "white",
           "linecolor": "white",
           "ticks": "",
           "title": {
            "standoff": 15
           },
           "zerolinecolor": "white",
           "zerolinewidth": 2
          }
         }
        },
        "title": {},
        "width": 500,
        "xaxis": {
         "linecolor": "rgb(0,0,0)",
         "linewidth": 2,
         "range": [
          0.5,
          2
         ],
         "showgrid": false,
         "showline": true,
         "title": {
          "text": "Rho"
         }
        },
        "yaxis": {
         "linecolor": "rgb(0,0,0)",
         "linewidth": 2,
         "range": [
          0.25,
          0.75
         ],
         "showgrid": false,
         "showline": true,
         "title": {
          "text": "HSES Share"
         }
        }
       }
      }
     },
     "metadata": {},
     "output_type": "display_data"
    }
   ],
   "source": [
    "\n",
    "\n",
    "\n",
    "HSESL_rho_epsilon125 = plotly_lines.plot_MTO_sim_results(plotly_lines(), data=df_rho[df_rho['epsilon'] == 1.25], x_var='rho', y_var='Network_H_Share_H', x_range=[0.5,2], y_range=[0,1], x_title='rho', y_title='Exposure', with_predicted=False, colors=['rgba(200,0,0,1)'], legend_text='High')\n",
    "\n",
    "HSESH_rho_epsilon125 = plotly_lines.plot_MTO_sim_results(plotly_lines(), data=df_rho[df_rho['epsilon'] == 1.25], x_var='rho', y_var='Network_H_Share_L', x_range=[0.5,2], y_range=[0,1], x_title='rho', y_title='Exposure', with_predicted=False, colors=['rgba(0,0,200,1)'], legend_text='Low')\n",
    "\n",
    "\n",
    "fig_HSES_rho = go.Figure(data = HSESH_rho_epsilon125.data + HSESL_rho_epsilon125.data)\n",
    "\n",
    "fig_HSES_rho.update_layout(\n",
    "    title = None, \n",
    "    font=dict(size = 18),\n",
    "    xaxis_title = 'Rho', \n",
    "    yaxis_title = 'HSES Share',\n",
    "    width = 500, height = 500,\n",
    "    showlegend = True, \n",
    "    legend=dict(x=0.75,y=0.65),\n",
    "    legend_title_text = '',\n",
    "    xaxis_range = [0.5,2],\n",
    "    yaxis_range = [0.25,0.75],\n",
    "    margin=dict(b=5,l=5,r=5,t=5),\n",
    "    xaxis = dict(showgrid = False, showline = True, linecolor = 'rgb(0,0,0)', linewidth = 2), \n",
    "    yaxis = dict(showgrid = False, showline = True, linecolor = 'rgb(0,0,0)', linewidth = 2),\n",
    "    plot_bgcolor='rgba(0,0,0,0)')\n",
    "\n",
    "\n",
    "fig_HSES_rho.add_hline(y=0.5, line_width=1, annotation_text = 'Equal share')\n",
    "fig_HSES_rho.add_vline(x=1, line_width=1, annotation_text = 'ρ=1: no bias')\n",
    "\n",
    "\n"
   ]
  },
  {
   "attachments": {},
   "cell_type": "markdown",
   "metadata": {},
   "source": [
    "### Rho Assortativity"
   ]
  },
  {
   "cell_type": "code",
   "execution_count": 163,
   "metadata": {},
   "outputs": [
    {
     "data": {
      "application/vnd.plotly.v1+json": {
       "config": {
        "plotlyServerURL": "https://plot.ly"
       },
       "data": [
        {
         "line": {
          "color": "rgba(250,0,250,1)",
          "width": 2
         },
         "mode": "lines",
         "name": "ϵ=1",
         "showlegend": true,
         "type": "scatter",
         "x": [
          1,
          1.01,
          1.02,
          1.03,
          1.04,
          1.05,
          1.06,
          1.07,
          1.08,
          1.09,
          1.1,
          1.11,
          1.12,
          1.13,
          1.14,
          1.15,
          1.16,
          1.1700000000000002,
          1.1800000000000002,
          1.1900000000000002,
          1.2000000000000002,
          1.2100000000000002,
          1.2200000000000002,
          1.2300000000000002,
          1.2400000000000002,
          1.2500000000000002,
          1.2600000000000002,
          1.2700000000000002,
          1.2800000000000002,
          1.2900000000000005,
          1.3000000000000005,
          1.3100000000000005,
          1.3200000000000005,
          1.3300000000000003,
          1.3400000000000003,
          1.3500000000000003,
          1.3600000000000003,
          1.3700000000000003,
          1.3800000000000003,
          1.3900000000000003,
          1.4000000000000004,
          1.4100000000000004,
          1.4200000000000004,
          1.4300000000000004,
          1.4400000000000004,
          1.4500000000000004,
          1.4600000000000004,
          1.4700000000000004,
          1.4800000000000004,
          1.4900000000000004,
          1.5000000000000004,
          1.5100000000000005,
          1.5200000000000005,
          1.5300000000000005,
          1.5400000000000005,
          1.5500000000000005,
          1.5600000000000005,
          1.5700000000000005,
          1.5800000000000003,
          1.5900000000000003,
          1.6000000000000003,
          1.6100000000000003,
          1.6200000000000006,
          1.6300000000000006,
          1.6400000000000006,
          1.6500000000000006,
          1.6600000000000006,
          1.6700000000000006,
          1.6800000000000006,
          1.6900000000000006,
          1.7000000000000006,
          1.7100000000000006,
          1.7200000000000006,
          1.7300000000000006,
          1.7400000000000009,
          1.7500000000000009,
          1.760000000000001,
          1.770000000000001,
          1.7800000000000007,
          1.7900000000000007,
          1.8000000000000007,
          1.8100000000000007,
          1.8200000000000007,
          1.8300000000000007,
          1.8400000000000007,
          1.8500000000000008,
          1.8600000000000008,
          1.8700000000000008,
          1.8800000000000008,
          1.8900000000000008,
          1.9000000000000008,
          1.9100000000000008,
          1.9200000000000008,
          1.9300000000000008,
          1.9400000000000008,
          1.9500000000000008,
          1.9600000000000009,
          1.9700000000000009,
          1.9800000000000009,
          1.9900000000000009
         ],
         "y": [
          -0.00324392992048812,
          -0.011658194771535051,
          -0.00301118260324254,
          0.0032859025816648598,
          0.00010448424072394044,
          0.02030751753369309,
          0.00704405146716372,
          0.005182344685049719,
          0.01770133226566821,
          0.041996613648362664,
          0.0413040703600225,
          0.010580333588610071,
          0.027875073519357814,
          0.04124865822555669,
          0.03823413945310657,
          0.055882765731336125,
          0.05827637642838518,
          0.058031583241950443,
          0.07249826693162448,
          0.06837113321462726,
          0.08797564133718497,
          0.0764764561540699,
          0.08043132572401046,
          0.089197052736599,
          0.09314999082234728,
          0.10251210004332595,
          0.08916377381770706,
          0.10497724901945692,
          0.10036417689266887,
          0.09252031939583732,
          0.11491554195203262,
          0.10376142051145228,
          0.10829612831515197,
          0.1267632588612138,
          0.11657124855986682,
          0.14723764755906738,
          0.12279368452653001,
          0.1291721736036634,
          0.1426541800175356,
          0.14182945165899138,
          0.13121855682573522,
          0.13428589383646927,
          0.13417741570696204,
          0.16571416332310684,
          0.14931896070215853,
          0.15986290771686817,
          0.16051881484283695,
          0.17359576578664712,
          0.1624262594337798,
          0.1694594098357384,
          0.17678751239784496,
          0.17323244766422974,
          0.16750515987861334,
          0.18374420898352176,
          0.17132875085568527,
          0.19423763695961482,
          0.19188131781845946,
          0.18081057932905734,
          0.20356537261310328,
          0.20352531143405767,
          0.20582702799373007,
          0.19792857646042278,
          0.22139645758703802,
          0.1974964288597167,
          0.22574049663785556,
          0.21828847000622872,
          0.20231778003193396,
          0.23122378742278477,
          0.21659061604887023,
          0.23219900296894236,
          0.24876262744930822,
          0.22582027325728501,
          0.2453445480183814,
          0.2317682835993081,
          0.22540426708468,
          0.23348749842054506,
          0.2432033113243643,
          0.24380804979438178,
          0.2622515841318168,
          0.2467296388219515,
          0.2487552650117193,
          0.25878400902779636,
          0.2523657358272586,
          0.24753670124904048,
          0.2612672410651689,
          0.270351391156264,
          0.2780898314622464,
          0.2697907784824765,
          0.2844551292926169,
          0.29184946384070515,
          0.28435399770283665,
          0.28566649777047814,
          0.27886140719889635,
          0.2820748200190658,
          0.26604819852699674,
          0.2921538250009383,
          0.29324096747252765,
          0.29589438418325675,
          0.27708397140436797,
          0.2933051820447224
         ]
        },
        {
         "line": {
          "color": "rgba(250,0,250,0.25)",
          "width": 2
         },
         "mode": "lines",
         "showlegend": false,
         "type": "scatter",
         "x": [
          1,
          1.01,
          1.02,
          1.03,
          1.04,
          1.05,
          1.06,
          1.07,
          1.08,
          1.09,
          1.1,
          1.11,
          1.12,
          1.13,
          1.14,
          1.15,
          1.16,
          1.1700000000000002,
          1.1800000000000002,
          1.1900000000000002,
          1.2000000000000002,
          1.2100000000000002,
          1.2200000000000002,
          1.2300000000000002,
          1.2400000000000002,
          1.2500000000000002,
          1.2600000000000002,
          1.2700000000000002,
          1.2800000000000002,
          1.2900000000000005,
          1.3000000000000005,
          1.3100000000000005,
          1.3200000000000005,
          1.3300000000000003,
          1.3400000000000003,
          1.3500000000000003,
          1.3600000000000003,
          1.3700000000000003,
          1.3800000000000003,
          1.3900000000000003,
          1.4000000000000004,
          1.4100000000000004,
          1.4200000000000004,
          1.4300000000000004,
          1.4400000000000004,
          1.4500000000000004,
          1.4600000000000004,
          1.4700000000000004,
          1.4800000000000004,
          1.4900000000000004,
          1.5000000000000004,
          1.5100000000000005,
          1.5200000000000005,
          1.5300000000000005,
          1.5400000000000005,
          1.5500000000000005,
          1.5600000000000005,
          1.5700000000000005,
          1.5800000000000003,
          1.5900000000000003,
          1.6000000000000003,
          1.6100000000000003,
          1.6200000000000006,
          1.6300000000000006,
          1.6400000000000006,
          1.6500000000000006,
          1.6600000000000006,
          1.6700000000000006,
          1.6800000000000006,
          1.6900000000000006,
          1.7000000000000006,
          1.7100000000000006,
          1.7200000000000006,
          1.7300000000000006,
          1.7400000000000009,
          1.7500000000000009,
          1.760000000000001,
          1.770000000000001,
          1.7800000000000007,
          1.7900000000000007,
          1.8000000000000007,
          1.8100000000000007,
          1.8200000000000007,
          1.8300000000000007,
          1.8400000000000007,
          1.8500000000000008,
          1.8600000000000008,
          1.8700000000000008,
          1.8800000000000008,
          1.8900000000000008,
          1.9000000000000008,
          1.9100000000000008,
          1.9200000000000008,
          1.9300000000000008,
          1.9400000000000008,
          1.9500000000000008,
          1.9600000000000009,
          1.9700000000000009,
          1.9800000000000009,
          1.9900000000000009
         ],
         "y": [
          -0.0027845391838545556,
          -0.011357908729736176,
          -0.0024060145104700063,
          0.0037601392633772467,
          0.00047803296156547284,
          0.02067516403600569,
          0.007437584416847604,
          0.0057598068280121425,
          0.018133037684498633,
          0.04243173788194628,
          0.04178109959158296,
          0.010896273947802442,
          0.028374310681408877,
          0.0417374576098215,
          0.03859631261857388,
          0.05657433360521694,
          0.0589444429135242,
          0.058467878242892346,
          0.07278738440235613,
          0.06877990742815789,
          0.08827142941248253,
          0.07680769290755513,
          0.08095129687688316,
          0.08974801106341893,
          0.09357853048474668,
          0.10304819624130906,
          0.08965397175667741,
          0.1056924931916922,
          0.10074753277929299,
          0.0929821272400655,
          0.11544666210343803,
          0.10417673697841638,
          0.10875067703964834,
          0.12732429624150396,
          0.11695313808171348,
          0.14783211218389045,
          0.12317347866800726,
          0.12972320904493717,
          0.1432042813113937,
          0.1424025998284495,
          0.13171318015914388,
          0.13464912033741872,
          0.1345262709016265,
          0.16614344353963373,
          0.14993608132430933,
          0.1603379429717865,
          0.16105255838487498,
          0.17391832890896375,
          0.16291153980975506,
          0.1698895643303118,
          0.1772638711727576,
          0.17368436097921391,
          0.1680326023865692,
          0.18418464490683478,
          0.17194540036895595,
          0.19470589275050035,
          0.19230798379183736,
          0.1812779579103355,
          0.2041105289904537,
          0.20417603338901422,
          0.20638907383795907,
          0.19866841356756773,
          0.2220306697601439,
          0.1979969231299041,
          0.2263242840547037,
          0.21878439115500958,
          0.20272919483149932,
          0.23183187457108184,
          0.21698271802382552,
          0.23279709404581347,
          0.24926510351157433,
          0.22622573558265618,
          0.24583635234637374,
          0.23224753815648366,
          0.22587213774889628,
          0.2339100741275698,
          0.24393758642201874,
          0.24426987650857795,
          0.2628429631022643,
          0.24713984122681154,
          0.2492980558387046,
          0.25923449523402997,
          0.2528858231294569,
          0.24792881962040622,
          0.2616268017002394,
          0.27092514360109576,
          0.278597213167083,
          0.270352210611116,
          0.2847597914945663,
          0.2923570669239838,
          0.28486958148221525,
          0.28601321992701967,
          0.27938177640697476,
          0.2827897821837786,
          0.2666443150967382,
          0.29269750116738386,
          0.2941268903873913,
          0.296316612462349,
          0.27758184064023905,
          0.29369833093860714
         ]
        },
        {
         "fill": "tonexty",
         "fillcolor": "rgba(68, 68, 68, 0.2)",
         "line": {
          "color": "rgba(250,0,250,0.25)",
          "width": 2
         },
         "mode": "lines",
         "showlegend": false,
         "type": "scatter",
         "x": [
          1,
          1.01,
          1.02,
          1.03,
          1.04,
          1.05,
          1.06,
          1.07,
          1.08,
          1.09,
          1.1,
          1.11,
          1.12,
          1.13,
          1.14,
          1.15,
          1.16,
          1.1700000000000002,
          1.1800000000000002,
          1.1900000000000002,
          1.2000000000000002,
          1.2100000000000002,
          1.2200000000000002,
          1.2300000000000002,
          1.2400000000000002,
          1.2500000000000002,
          1.2600000000000002,
          1.2700000000000002,
          1.2800000000000002,
          1.2900000000000005,
          1.3000000000000005,
          1.3100000000000005,
          1.3200000000000005,
          1.3300000000000003,
          1.3400000000000003,
          1.3500000000000003,
          1.3600000000000003,
          1.3700000000000003,
          1.3800000000000003,
          1.3900000000000003,
          1.4000000000000004,
          1.4100000000000004,
          1.4200000000000004,
          1.4300000000000004,
          1.4400000000000004,
          1.4500000000000004,
          1.4600000000000004,
          1.4700000000000004,
          1.4800000000000004,
          1.4900000000000004,
          1.5000000000000004,
          1.5100000000000005,
          1.5200000000000005,
          1.5300000000000005,
          1.5400000000000005,
          1.5500000000000005,
          1.5600000000000005,
          1.5700000000000005,
          1.5800000000000003,
          1.5900000000000003,
          1.6000000000000003,
          1.6100000000000003,
          1.6200000000000006,
          1.6300000000000006,
          1.6400000000000006,
          1.6500000000000006,
          1.6600000000000006,
          1.6700000000000006,
          1.6800000000000006,
          1.6900000000000006,
          1.7000000000000006,
          1.7100000000000006,
          1.7200000000000006,
          1.7300000000000006,
          1.7400000000000009,
          1.7500000000000009,
          1.760000000000001,
          1.770000000000001,
          1.7800000000000007,
          1.7900000000000007,
          1.8000000000000007,
          1.8100000000000007,
          1.8200000000000007,
          1.8300000000000007,
          1.8400000000000007,
          1.8500000000000008,
          1.8600000000000008,
          1.8700000000000008,
          1.8800000000000008,
          1.8900000000000008,
          1.9000000000000008,
          1.9100000000000008,
          1.9200000000000008,
          1.9300000000000008,
          1.9400000000000008,
          1.9500000000000008,
          1.9600000000000009,
          1.9700000000000009,
          1.9800000000000009,
          1.9900000000000009
         ],
         "y": [
          -0.0037033206571216847,
          -0.011958480813333927,
          -0.0036163506960150736,
          0.002811665899952473,
          -0.0002690644801175919,
          0.01993987103138049,
          0.006650518517479836,
          0.004604882542087296,
          0.017269626846837787,
          0.04156148941477905,
          0.04082704112846205,
          0.0102643932294177,
          0.02737583635730675,
          0.040759858841291886,
          0.03787196628763927,
          0.05519119785745531,
          0.05760830994324616,
          0.05759528824100854,
          0.07220914946089282,
          0.06796235900109664,
          0.0876798532618874,
          0.07614521940058466,
          0.07991135457113777,
          0.08864609440977908,
          0.09272145115994787,
          0.10197600384534283,
          0.0886735758787367,
          0.10426200484722163,
          0.09998082100604475,
          0.09205851155160914,
          0.1143844218006272,
          0.10334610404448817,
          0.10784157959065559,
          0.12620222148092367,
          0.11618935903802016,
          0.1466431829342443,
          0.12241389038505276,
          0.12862113816238963,
          0.1421040787236775,
          0.14125630348953327,
          0.13072393349232656,
          0.13392266733551983,
          0.13382856051229758,
          0.16528488310657996,
          0.14870184008000772,
          0.15938787246194985,
          0.15998507130079892,
          0.1732732026643305,
          0.16194097905780455,
          0.169029255341165,
          0.17631115362293232,
          0.17278053434924556,
          0.16697771737065747,
          0.18330377306020873,
          0.1707121013424146,
          0.1937693811687293,
          0.19145465184508156,
          0.18034320074777918,
          0.20302021623575287,
          0.20287458947910111,
          0.20526498214950106,
          0.19718873935327783,
          0.22076224541393213,
          0.19699593458952927,
          0.22515670922100742,
          0.21779254885744787,
          0.2019063652323686,
          0.2306157002744877,
          0.21619851407391494,
          0.23160091189207124,
          0.2482601513870421,
          0.22541481093191384,
          0.24485274369038906,
          0.23128902904213253,
          0.22493639642046373,
          0.2330649227135203,
          0.24246903622670984,
          0.2433462230801856,
          0.26166020516136934,
          0.24631943641709148,
          0.248212474184734,
          0.25833352282156274,
          0.25184564852506025,
          0.24714458287767474,
          0.26090768043009843,
          0.26977763871143223,
          0.2775824497574098,
          0.26922934635383705,
          0.2841504670906675,
          0.2913418607574265,
          0.28383841392345804,
          0.2853197756139366,
          0.27834103799081794,
          0.281359857854353,
          0.2654520819572553,
          0.2916101488344927,
          0.292355044557664,
          0.2954721559041645,
          0.2765861021684969,
          0.29291203315083764
         ]
        },
        {
         "line": {
          "color": "rgba(150,0,150,1)",
          "width": 2
         },
         "mode": "lines",
         "name": "ϵ=1.25",
         "showlegend": true,
         "type": "scatter",
         "x": [
          1,
          1.01,
          1.02,
          1.03,
          1.04,
          1.05,
          1.06,
          1.07,
          1.08,
          1.09,
          1.1,
          1.11,
          1.12,
          1.13,
          1.14,
          1.15,
          1.16,
          1.1700000000000002,
          1.1800000000000002,
          1.1900000000000002,
          1.2000000000000002,
          1.2100000000000002,
          1.2200000000000002,
          1.2300000000000002,
          1.2400000000000002,
          1.2500000000000002,
          1.2600000000000002,
          1.2700000000000002,
          1.2800000000000002,
          1.2900000000000005,
          1.3000000000000005,
          1.3100000000000005,
          1.3200000000000005,
          1.3300000000000003,
          1.3400000000000003,
          1.3500000000000003,
          1.3600000000000003,
          1.3700000000000003,
          1.3800000000000003,
          1.3900000000000003,
          1.4000000000000004,
          1.4100000000000004,
          1.4200000000000004,
          1.4300000000000004,
          1.4400000000000004,
          1.4500000000000004,
          1.4600000000000004,
          1.4700000000000004,
          1.4800000000000004,
          1.4900000000000004,
          1.5000000000000004,
          1.5100000000000005,
          1.5200000000000005,
          1.5300000000000005,
          1.5400000000000005,
          1.5500000000000005,
          1.5600000000000005,
          1.5700000000000005,
          1.5800000000000003,
          1.5900000000000003,
          1.6000000000000003,
          1.6100000000000003,
          1.6200000000000006,
          1.6300000000000006,
          1.6400000000000006,
          1.6500000000000006,
          1.6600000000000006,
          1.6700000000000006,
          1.6800000000000006,
          1.6900000000000006,
          1.7000000000000006,
          1.7100000000000006,
          1.7200000000000006,
          1.7300000000000006,
          1.7400000000000009,
          1.7500000000000009,
          1.760000000000001,
          1.770000000000001,
          1.7800000000000007,
          1.7900000000000007,
          1.8000000000000007,
          1.8100000000000007,
          1.8200000000000007,
          1.8300000000000007,
          1.8400000000000007,
          1.8500000000000008,
          1.8600000000000008,
          1.8700000000000008,
          1.8800000000000008,
          1.8900000000000008,
          1.9000000000000008,
          1.9100000000000008,
          1.9200000000000008,
          1.9300000000000008,
          1.9400000000000008,
          1.9500000000000008,
          1.9600000000000009,
          1.9700000000000009,
          1.9800000000000009,
          1.9900000000000009
         ],
         "y": [
          0.08623734804403073,
          0.06940803721387169,
          0.07680602501420436,
          0.08881647060961574,
          0.08792857418498946,
          0.09818542215400901,
          0.09834228688068421,
          0.10958019963156682,
          0.1045814969198831,
          0.11699014767315329,
          0.12121882919662633,
          0.11098702361052415,
          0.12821397763040351,
          0.1433310291380889,
          0.13386418574386988,
          0.12661975429636804,
          0.1444188042622041,
          0.15547305605934597,
          0.16310378013674698,
          0.13900641660984212,
          0.1642850381999746,
          0.16374436184475058,
          0.15737933207307903,
          0.173451851897073,
          0.17992050417004682,
          0.17560228311634263,
          0.1723534777620281,
          0.17661218963725986,
          0.1905471893420479,
          0.17794712615070635,
          0.19779305519202706,
          0.20191321050307035,
          0.1870837015929073,
          0.1990875006716374,
          0.2095848423055457,
          0.20944719107246423,
          0.2151971027987484,
          0.22526651371764186,
          0.22604439502548515,
          0.23587719070520768,
          0.22776225786636956,
          0.2307002691227261,
          0.23335321354866229,
          0.23137672527646133,
          0.24280799307043613,
          0.23565609145071742,
          0.24340063658392969,
          0.25075952373374616,
          0.24003807468554514,
          0.24586776265801613,
          0.25778358805138896,
          0.25314497725253476,
          0.25466588590589423,
          0.26011665165436154,
          0.26547005055500517,
          0.2627581645337176,
          0.27097075011970106,
          0.26189326394000306,
          0.27583138131516965,
          0.28227110628134405,
          0.2926105558515179,
          0.2904396375997202,
          0.3074076472947221,
          0.28937289358358653,
          0.28428360265467173,
          0.30509220311302165,
          0.30720753752687446,
          0.29982299561847975,
          0.29483657419013654,
          0.31627027904275923,
          0.3132096950687941,
          0.3200142504930172,
          0.32261956954475135,
          0.3158644825324817,
          0.30949838702382665,
          0.3355479154304356,
          0.32070495324433024,
          0.3290162171196093,
          0.3180442051257024,
          0.33136569254999293,
          0.32848664266862987,
          0.3374372582561266,
          0.3399904179489222,
          0.3333689710988366,
          0.3487589454349624,
          0.33722762969843895,
          0.3480374795209987,
          0.3539694990428854,
          0.34685525156010627,
          0.3507964543036763,
          0.3697041262001509,
          0.34648865290426006,
          0.3507034894129645,
          0.34724747661825733,
          0.3664419500127096,
          0.36973694323812123,
          0.35475870903581824,
          0.36805621145376155,
          0.37753304537250093,
          0.36950424270748605
         ]
        },
        {
         "line": {
          "color": "rgba(150,0,150,0.25)",
          "width": 2
         },
         "mode": "lines",
         "showlegend": false,
         "type": "scatter",
         "x": [
          1,
          1.01,
          1.02,
          1.03,
          1.04,
          1.05,
          1.06,
          1.07,
          1.08,
          1.09,
          1.1,
          1.11,
          1.12,
          1.13,
          1.14,
          1.15,
          1.16,
          1.1700000000000002,
          1.1800000000000002,
          1.1900000000000002,
          1.2000000000000002,
          1.2100000000000002,
          1.2200000000000002,
          1.2300000000000002,
          1.2400000000000002,
          1.2500000000000002,
          1.2600000000000002,
          1.2700000000000002,
          1.2800000000000002,
          1.2900000000000005,
          1.3000000000000005,
          1.3100000000000005,
          1.3200000000000005,
          1.3300000000000003,
          1.3400000000000003,
          1.3500000000000003,
          1.3600000000000003,
          1.3700000000000003,
          1.3800000000000003,
          1.3900000000000003,
          1.4000000000000004,
          1.4100000000000004,
          1.4200000000000004,
          1.4300000000000004,
          1.4400000000000004,
          1.4500000000000004,
          1.4600000000000004,
          1.4700000000000004,
          1.4800000000000004,
          1.4900000000000004,
          1.5000000000000004,
          1.5100000000000005,
          1.5200000000000005,
          1.5300000000000005,
          1.5400000000000005,
          1.5500000000000005,
          1.5600000000000005,
          1.5700000000000005,
          1.5800000000000003,
          1.5900000000000003,
          1.6000000000000003,
          1.6100000000000003,
          1.6200000000000006,
          1.6300000000000006,
          1.6400000000000006,
          1.6500000000000006,
          1.6600000000000006,
          1.6700000000000006,
          1.6800000000000006,
          1.6900000000000006,
          1.7000000000000006,
          1.7100000000000006,
          1.7200000000000006,
          1.7300000000000006,
          1.7400000000000009,
          1.7500000000000009,
          1.760000000000001,
          1.770000000000001,
          1.7800000000000007,
          1.7900000000000007,
          1.8000000000000007,
          1.8100000000000007,
          1.8200000000000007,
          1.8300000000000007,
          1.8400000000000007,
          1.8500000000000008,
          1.8600000000000008,
          1.8700000000000008,
          1.8800000000000008,
          1.8900000000000008,
          1.9000000000000008,
          1.9100000000000008,
          1.9200000000000008,
          1.9300000000000008,
          1.9400000000000008,
          1.9500000000000008,
          1.9600000000000009,
          1.9700000000000009,
          1.9800000000000009,
          1.9900000000000009
         ],
         "y": [
          0.08650526419408439,
          0.06975733826552176,
          0.07742446086566442,
          0.08930593454305064,
          0.08833553520541514,
          0.09867456134194985,
          0.09892739416767908,
          0.10983859240493919,
          0.10505884019598687,
          0.11748752811959236,
          0.12161865287263798,
          0.11132481343321239,
          0.12884567352809415,
          0.14380875204876017,
          0.13429366550917265,
          0.12705767279038283,
          0.1446733818690299,
          0.15613567071262485,
          0.16346321072916206,
          0.13961315286102816,
          0.16479020757340415,
          0.16420394589805926,
          0.1579689306075049,
          0.17376881249980938,
          0.1802405550794473,
          0.17602651888005005,
          0.1729717238798102,
          0.17688941722245644,
          0.1913621899203698,
          0.17842700135604064,
          0.19840103032888237,
          0.20218488841462195,
          0.18749793760318278,
          0.19932739687230994,
          0.21006929353535234,
          0.21002633683488559,
          0.21559958410678548,
          0.22570753679127262,
          0.22669949129855385,
          0.23654403795650655,
          0.22836631184487838,
          0.2312730413547878,
          0.23368485669947314,
          0.23189002639798065,
          0.2434085568898214,
          0.23619461546195797,
          0.24391134374576184,
          0.2513789164448032,
          0.24046327602246353,
          0.2462818090926452,
          0.2583021387027073,
          0.25356421313910427,
          0.2551111673843606,
          0.26063426865870404,
          0.2658307251448171,
          0.26334832892626303,
          0.2716331494833892,
          0.26232417144512993,
          0.2763274160665755,
          0.2827191245240126,
          0.29308230756263515,
          0.29082325800298964,
          0.30787883795203896,
          0.28971210160272676,
          0.2847572472037585,
          0.30550116976654107,
          0.307550552248666,
          0.30041046906150803,
          0.29559831162190897,
          0.3169298474153542,
          0.3137855386548114,
          0.32061190880264584,
          0.32314693372463504,
          0.3164507865974079,
          0.3100228778211893,
          0.33604016254004027,
          0.32123685037006067,
          0.32929797306888103,
          0.318431611357138,
          0.33177652556997156,
          0.32887838558206944,
          0.3378507685217334,
          0.3404149051244507,
          0.3337046581368098,
          0.34935454853972303,
          0.3377732153079987,
          0.3486290633366414,
          0.3546280880531389,
          0.3473314518064418,
          0.35139138836403755,
          0.3701983975099472,
          0.3468675507349506,
          0.3513735126909247,
          0.34765735746853105,
          0.36689416666832186,
          0.37032874615015754,
          0.3552579088070507,
          0.36852591398933593,
          0.3779685772157286,
          0.3699392473910433
         ]
        },
        {
         "fill": "tonexty",
         "fillcolor": "rgba(68, 68, 68, 0.2)",
         "line": {
          "color": "rgba(150,0,150,0.25)",
          "width": 2
         },
         "mode": "lines",
         "showlegend": false,
         "type": "scatter",
         "x": [
          1,
          1.01,
          1.02,
          1.03,
          1.04,
          1.05,
          1.06,
          1.07,
          1.08,
          1.09,
          1.1,
          1.11,
          1.12,
          1.13,
          1.14,
          1.15,
          1.16,
          1.1700000000000002,
          1.1800000000000002,
          1.1900000000000002,
          1.2000000000000002,
          1.2100000000000002,
          1.2200000000000002,
          1.2300000000000002,
          1.2400000000000002,
          1.2500000000000002,
          1.2600000000000002,
          1.2700000000000002,
          1.2800000000000002,
          1.2900000000000005,
          1.3000000000000005,
          1.3100000000000005,
          1.3200000000000005,
          1.3300000000000003,
          1.3400000000000003,
          1.3500000000000003,
          1.3600000000000003,
          1.3700000000000003,
          1.3800000000000003,
          1.3900000000000003,
          1.4000000000000004,
          1.4100000000000004,
          1.4200000000000004,
          1.4300000000000004,
          1.4400000000000004,
          1.4500000000000004,
          1.4600000000000004,
          1.4700000000000004,
          1.4800000000000004,
          1.4900000000000004,
          1.5000000000000004,
          1.5100000000000005,
          1.5200000000000005,
          1.5300000000000005,
          1.5400000000000005,
          1.5500000000000005,
          1.5600000000000005,
          1.5700000000000005,
          1.5800000000000003,
          1.5900000000000003,
          1.6000000000000003,
          1.6100000000000003,
          1.6200000000000006,
          1.6300000000000006,
          1.6400000000000006,
          1.6500000000000006,
          1.6600000000000006,
          1.6700000000000006,
          1.6800000000000006,
          1.6900000000000006,
          1.7000000000000006,
          1.7100000000000006,
          1.7200000000000006,
          1.7300000000000006,
          1.7400000000000009,
          1.7500000000000009,
          1.760000000000001,
          1.770000000000001,
          1.7800000000000007,
          1.7900000000000007,
          1.8000000000000007,
          1.8100000000000007,
          1.8200000000000007,
          1.8300000000000007,
          1.8400000000000007,
          1.8500000000000008,
          1.8600000000000008,
          1.8700000000000008,
          1.8800000000000008,
          1.8900000000000008,
          1.9000000000000008,
          1.9100000000000008,
          1.9200000000000008,
          1.9300000000000008,
          1.9400000000000008,
          1.9500000000000008,
          1.9600000000000009,
          1.9700000000000009,
          1.9800000000000009,
          1.9900000000000009
         ],
         "y": [
          0.08596943189397707,
          0.06905873616222162,
          0.0761875891627443,
          0.08832700667618085,
          0.08752161316456379,
          0.09769628296606817,
          0.09775717959368933,
          0.10932180685819444,
          0.10410415364377933,
          0.11649276722671421,
          0.12081900552061467,
          0.11064923378783591,
          0.12758228173271288,
          0.14285330622741763,
          0.1334347059785671,
          0.12618183580235326,
          0.1441642266553783,
          0.1548104414060671,
          0.1627443495443319,
          0.13839968035865607,
          0.16377986882654502,
          0.1632847777914419,
          0.15678973353865316,
          0.1731348912943366,
          0.17960045326064633,
          0.1751780473526352,
          0.17173523164424603,
          0.17633496205206328,
          0.189732188763726,
          0.17746725094537205,
          0.19718508005517174,
          0.20164153259151874,
          0.1866694655826318,
          0.1988476044709649,
          0.20910039107573905,
          0.20886804531004288,
          0.21479462149071132,
          0.2248254906440111,
          0.22538929875241645,
          0.23521034345390882,
          0.22715820388786073,
          0.2301274968906644,
          0.23302157039785143,
          0.23086342415494202,
          0.24220742925105085,
          0.23511756743947687,
          0.24288992942209753,
          0.2501401310226891,
          0.23961287334862674,
          0.24545371622338708,
          0.2572650374000706,
          0.25272574136596526,
          0.25422060442742783,
          0.25959903465001904,
          0.26510937596519324,
          0.26216800014117214,
          0.27030835075601295,
          0.2614623564348762,
          0.2753353465637638,
          0.2818230880386755,
          0.29213880414040067,
          0.29005601719645074,
          0.3069364566374052,
          0.2890336855644463,
          0.28380995810558496,
          0.30468323645950224,
          0.3068645228050829,
          0.29923552217545146,
          0.2940748367583641,
          0.3156107106701643,
          0.3126338514827768,
          0.3194165921833885,
          0.32209220536486766,
          0.31527817846755557,
          0.308973896226464,
          0.33505566832083095,
          0.3201730561185998,
          0.3287344611703376,
          0.31765679889426685,
          0.3309548595300143,
          0.3280948997551903,
          0.33702374799051976,
          0.3395659307733937,
          0.33303328406086347,
          0.34816334233020174,
          0.3366820440888792,
          0.34744589570535606,
          0.3533109100326319,
          0.3463790513137707,
          0.350201520243315,
          0.3692098548903546,
          0.3461097550735695,
          0.35003346613500425,
          0.3468375957679836,
          0.3659897333570974,
          0.3691451403260849,
          0.35425950926458577,
          0.36758650891818717,
          0.3770975135292733,
          0.3690692380239288
         ]
        },
        {
         "line": {
          "color": "rgba(100,0,100,1)",
          "width": 2
         },
         "mode": "lines",
         "name": "ϵ=1.5",
         "showlegend": true,
         "type": "scatter",
         "x": [
          1,
          1.01,
          1.02,
          1.03,
          1.04,
          1.05,
          1.06,
          1.07,
          1.08,
          1.09,
          1.1,
          1.11,
          1.12,
          1.13,
          1.14,
          1.15,
          1.16,
          1.1700000000000002,
          1.1800000000000002,
          1.1900000000000002,
          1.2000000000000002,
          1.2100000000000002,
          1.2200000000000002,
          1.2300000000000002,
          1.2400000000000002,
          1.2500000000000002,
          1.2600000000000002,
          1.2700000000000002,
          1.2800000000000002,
          1.2900000000000005,
          1.3000000000000005,
          1.3100000000000005,
          1.3200000000000005,
          1.3300000000000003,
          1.3400000000000003,
          1.3500000000000003,
          1.3600000000000003,
          1.3700000000000003,
          1.3800000000000003,
          1.3900000000000003,
          1.4000000000000004,
          1.4100000000000004,
          1.4200000000000004,
          1.4300000000000004,
          1.4400000000000004,
          1.4500000000000004,
          1.4600000000000004,
          1.4700000000000004,
          1.4800000000000004,
          1.4900000000000004,
          1.5000000000000004,
          1.5100000000000005,
          1.5200000000000005,
          1.5300000000000005,
          1.5400000000000005,
          1.5500000000000005,
          1.5600000000000005,
          1.5700000000000005,
          1.5800000000000003,
          1.5900000000000003,
          1.6000000000000003,
          1.6100000000000003,
          1.6200000000000006,
          1.6300000000000006,
          1.6400000000000006,
          1.6500000000000006,
          1.6600000000000006,
          1.6700000000000006,
          1.6800000000000006,
          1.6900000000000006,
          1.7000000000000006,
          1.7100000000000006,
          1.7200000000000006,
          1.7300000000000006,
          1.7400000000000009,
          1.7500000000000009,
          1.760000000000001,
          1.770000000000001,
          1.7800000000000007,
          1.7900000000000007,
          1.8000000000000007,
          1.8100000000000007,
          1.8200000000000007,
          1.8300000000000007,
          1.8400000000000007,
          1.8500000000000008,
          1.8600000000000008,
          1.8700000000000008,
          1.8800000000000008,
          1.8900000000000008,
          1.9000000000000008,
          1.9100000000000008,
          1.9200000000000008,
          1.9300000000000008,
          1.9400000000000008,
          1.9500000000000008,
          1.9600000000000009,
          1.9700000000000009,
          1.9800000000000009,
          1.9900000000000009
         ],
         "y": [
          0.14445975303291805,
          0.1548931025724012,
          0.1552311713575433,
          0.17581407555243195,
          0.16497554824191357,
          0.1649983164693194,
          0.18288915759824823,
          0.169577439624909,
          0.18306507885095383,
          0.18174810002068312,
          0.17477887246976187,
          0.17871524713041675,
          0.18096690713244984,
          0.20095942075869608,
          0.20716735596346758,
          0.21189783288565434,
          0.2164824680385664,
          0.21532443389669892,
          0.2164401745716022,
          0.2261942841196555,
          0.22493350339132578,
          0.22416336498899597,
          0.21736907474302794,
          0.24559056827966047,
          0.2225650411393239,
          0.2256243915171236,
          0.2504395969686421,
          0.25495514299290384,
          0.25998153001898844,
          0.272694093475567,
          0.25854314856648164,
          0.26623606143130896,
          0.2703499981798839,
          0.27095232591652435,
          0.2697878443523437,
          0.2652587157008626,
          0.2759911363099174,
          0.2856471800229119,
          0.28618301399344226,
          0.2857869814054569,
          0.29416019843885016,
          0.3036272474828949,
          0.2967450568499469,
          0.300026182906975,
          0.2975736324350227,
          0.3003889175573398,
          0.30330808827824013,
          0.32076674857575654,
          0.3257525708077746,
          0.3069176227797717,
          0.31988279326458896,
          0.31896433138559627,
          0.3256527210766791,
          0.3207641001658134,
          0.3386899412133804,
          0.3179969866314277,
          0.339168079006888,
          0.333399115135262,
          0.3492359637190624,
          0.3419990706013248,
          0.3523912453979692,
          0.36171380281566123,
          0.35477315355648903,
          0.36327451223629653,
          0.3599563983385357,
          0.3656920626312693,
          0.3631578990949994,
          0.3613895741263745,
          0.35802605417976785,
          0.3689121738310723,
          0.3674128019408202,
          0.37439807971249234,
          0.4017942305421439,
          0.3794656811774177,
          0.3937627265746277,
          0.3737137935580948,
          0.3823026587010285,
          0.3871718491008727,
          0.3799548461727309,
          0.39396887449432333,
          0.39438904527509366,
          0.4003540763804197,
          0.4166905705331622,
          0.4085810360868997,
          0.40554866126850636,
          0.39005679196075194,
          0.4113751697265947,
          0.41686940987340637,
          0.41419838002491915,
          0.42150033872603165,
          0.4178485116436317,
          0.4255288938739951,
          0.4154376543533371,
          0.42389087183265356,
          0.43273445699521823,
          0.43812275215873137,
          0.4188376388970729,
          0.42565962470064705,
          0.4349867240394425,
          0.42975151579449783
         ]
        },
        {
         "line": {
          "color": "rgba(100,0,100,0.25)",
          "width": 2
         },
         "mode": "lines",
         "showlegend": false,
         "type": "scatter",
         "x": [
          1,
          1.01,
          1.02,
          1.03,
          1.04,
          1.05,
          1.06,
          1.07,
          1.08,
          1.09,
          1.1,
          1.11,
          1.12,
          1.13,
          1.14,
          1.15,
          1.16,
          1.1700000000000002,
          1.1800000000000002,
          1.1900000000000002,
          1.2000000000000002,
          1.2100000000000002,
          1.2200000000000002,
          1.2300000000000002,
          1.2400000000000002,
          1.2500000000000002,
          1.2600000000000002,
          1.2700000000000002,
          1.2800000000000002,
          1.2900000000000005,
          1.3000000000000005,
          1.3100000000000005,
          1.3200000000000005,
          1.3300000000000003,
          1.3400000000000003,
          1.3500000000000003,
          1.3600000000000003,
          1.3700000000000003,
          1.3800000000000003,
          1.3900000000000003,
          1.4000000000000004,
          1.4100000000000004,
          1.4200000000000004,
          1.4300000000000004,
          1.4400000000000004,
          1.4500000000000004,
          1.4600000000000004,
          1.4700000000000004,
          1.4800000000000004,
          1.4900000000000004,
          1.5000000000000004,
          1.5100000000000005,
          1.5200000000000005,
          1.5300000000000005,
          1.5400000000000005,
          1.5500000000000005,
          1.5600000000000005,
          1.5700000000000005,
          1.5800000000000003,
          1.5900000000000003,
          1.6000000000000003,
          1.6100000000000003,
          1.6200000000000006,
          1.6300000000000006,
          1.6400000000000006,
          1.6500000000000006,
          1.6600000000000006,
          1.6700000000000006,
          1.6800000000000006,
          1.6900000000000006,
          1.7000000000000006,
          1.7100000000000006,
          1.7200000000000006,
          1.7300000000000006,
          1.7400000000000009,
          1.7500000000000009,
          1.760000000000001,
          1.770000000000001,
          1.7800000000000007,
          1.7900000000000007,
          1.8000000000000007,
          1.8100000000000007,
          1.8200000000000007,
          1.8300000000000007,
          1.8400000000000007,
          1.8500000000000008,
          1.8600000000000008,
          1.8700000000000008,
          1.8800000000000008,
          1.8900000000000008,
          1.9000000000000008,
          1.9100000000000008,
          1.9200000000000008,
          1.9300000000000008,
          1.9400000000000008,
          1.9500000000000008,
          1.9600000000000009,
          1.9700000000000009,
          1.9800000000000009,
          1.9900000000000009
         ],
         "y": [
          0.14482955959217728,
          0.15546562402586211,
          0.15563657361590136,
          0.17641916149176767,
          0.16544372167209326,
          0.16563876851980244,
          0.18326146644105126,
          0.16988108447130798,
          0.18373726002269108,
          0.1821634539440663,
          0.17525959551888612,
          0.17915922989809213,
          0.1816318996754383,
          0.2013155427466837,
          0.20775653445505057,
          0.21215366554697349,
          0.21707077034743968,
          0.21575075387356893,
          0.21679967621440943,
          0.22652374462303687,
          0.22544111064900538,
          0.22461858388007547,
          0.2178929433690216,
          0.2462328738118081,
          0.22312268522112483,
          0.22603506820938546,
          0.2508439147662113,
          0.25536351555062137,
          0.2604929819106612,
          0.27309641693899245,
          0.25891011579334955,
          0.26680460376392534,
          0.2708501853338734,
          0.2715358548180096,
          0.27041533280647084,
          0.2657777805581488,
          0.27642522070985426,
          0.28626337572943694,
          0.2867331769991156,
          0.2862559634458692,
          0.2948030174983962,
          0.30427576332446965,
          0.29709458703471947,
          0.3001804799900928,
          0.2981424381442584,
          0.30091564519744335,
          0.3037607514397591,
          0.3214767593155612,
          0.3262359510213385,
          0.30754419214803386,
          0.3204701748737893,
          0.31950114701346066,
          0.32580644775998574,
          0.32108028955588835,
          0.33915540783785836,
          0.318492026917832,
          0.33968949402738324,
          0.3339840815411771,
          0.34975019669958535,
          0.34241119272496484,
          0.35277375370452907,
          0.36215695039869594,
          0.35548418861842357,
          0.36393601690636285,
          0.360414747266882,
          0.36611280519838846,
          0.3637291298938453,
          0.36176029976133905,
          0.35859649980600733,
          0.3693748493928134,
          0.36786368072453224,
          0.37484975936440607,
          0.40207975353400327,
          0.3798900907969483,
          0.3941956083368571,
          0.3741353146630381,
          0.3829131296702419,
          0.38763706413871496,
          0.3803389222258532,
          0.39443649227420613,
          0.39471645633974134,
          0.40090389955337025,
          0.4171845787417269,
          0.4088097249312035,
          0.4058188640386491,
          0.3905592314774025,
          0.41201769288411394,
          0.41743843618216186,
          0.4147204134099931,
          0.4218522631750217,
          0.4183076091059414,
          0.426030936635254,
          0.4157215763230646,
          0.42441741726089144,
          0.43305315263757443,
          0.43858599975900564,
          0.4194349457315222,
          0.42613545504143685,
          0.43562617143048243,
          0.4301408891984859
         ]
        },
        {
         "fill": "tonexty",
         "fillcolor": "rgba(68, 68, 68, 0.2)",
         "line": {
          "color": "rgba(100,0,100,0.25)",
          "width": 2
         },
         "mode": "lines",
         "showlegend": false,
         "type": "scatter",
         "x": [
          1,
          1.01,
          1.02,
          1.03,
          1.04,
          1.05,
          1.06,
          1.07,
          1.08,
          1.09,
          1.1,
          1.11,
          1.12,
          1.13,
          1.14,
          1.15,
          1.16,
          1.1700000000000002,
          1.1800000000000002,
          1.1900000000000002,
          1.2000000000000002,
          1.2100000000000002,
          1.2200000000000002,
          1.2300000000000002,
          1.2400000000000002,
          1.2500000000000002,
          1.2600000000000002,
          1.2700000000000002,
          1.2800000000000002,
          1.2900000000000005,
          1.3000000000000005,
          1.3100000000000005,
          1.3200000000000005,
          1.3300000000000003,
          1.3400000000000003,
          1.3500000000000003,
          1.3600000000000003,
          1.3700000000000003,
          1.3800000000000003,
          1.3900000000000003,
          1.4000000000000004,
          1.4100000000000004,
          1.4200000000000004,
          1.4300000000000004,
          1.4400000000000004,
          1.4500000000000004,
          1.4600000000000004,
          1.4700000000000004,
          1.4800000000000004,
          1.4900000000000004,
          1.5000000000000004,
          1.5100000000000005,
          1.5200000000000005,
          1.5300000000000005,
          1.5400000000000005,
          1.5500000000000005,
          1.5600000000000005,
          1.5700000000000005,
          1.5800000000000003,
          1.5900000000000003,
          1.6000000000000003,
          1.6100000000000003,
          1.6200000000000006,
          1.6300000000000006,
          1.6400000000000006,
          1.6500000000000006,
          1.6600000000000006,
          1.6700000000000006,
          1.6800000000000006,
          1.6900000000000006,
          1.7000000000000006,
          1.7100000000000006,
          1.7200000000000006,
          1.7300000000000006,
          1.7400000000000009,
          1.7500000000000009,
          1.760000000000001,
          1.770000000000001,
          1.7800000000000007,
          1.7900000000000007,
          1.8000000000000007,
          1.8100000000000007,
          1.8200000000000007,
          1.8300000000000007,
          1.8400000000000007,
          1.8500000000000008,
          1.8600000000000008,
          1.8700000000000008,
          1.8800000000000008,
          1.8900000000000008,
          1.9000000000000008,
          1.9100000000000008,
          1.9200000000000008,
          1.9300000000000008,
          1.9400000000000008,
          1.9500000000000008,
          1.9600000000000009,
          1.9700000000000009,
          1.9800000000000009,
          1.9900000000000009
         ],
         "y": [
          0.14408994647365883,
          0.15432058111894026,
          0.15482576909918525,
          0.17520898961309622,
          0.1645073748117339,
          0.16435786441883635,
          0.1825168487554452,
          0.16927379477851004,
          0.18239289767921657,
          0.18133274609729993,
          0.17429814942063762,
          0.17827126436274138,
          0.18030191458946138,
          0.20060329877070845,
          0.2065781774718846,
          0.21164200022433519,
          0.21589416572969314,
          0.2148981139198289,
          0.21608067292879496,
          0.22586482361627414,
          0.2244258961336462,
          0.22370814609791648,
          0.21684520611703428,
          0.24494826274751283,
          0.22200739705752298,
          0.22521371482486174,
          0.2500352791710729,
          0.2545467704351863,
          0.25947007812731565,
          0.27229177001214155,
          0.25817618133961373,
          0.2656675190986926,
          0.26984981102589445,
          0.2703687970150391,
          0.2691603558982166,
          0.2647396508435764,
          0.27555705190998053,
          0.28503098431638685,
          0.2856328509877689,
          0.2853179993650446,
          0.2935173793793041,
          0.3029787316413201,
          0.2963955266651743,
          0.29987188582385726,
          0.29700482672578704,
          0.2998621899172363,
          0.30285542511672114,
          0.3200567378359519,
          0.32526919059421067,
          0.30629105341150953,
          0.3192954116553886,
          0.31842751575773187,
          0.32549899439337243,
          0.3204479107757385,
          0.3382244745889025,
          0.31750194634502343,
          0.33864666398639276,
          0.3328141487293469,
          0.34872173073853946,
          0.3415869484776847,
          0.3520087370914093,
          0.3612706552326265,
          0.3540621184945545,
          0.3626130075662302,
          0.3594980494101894,
          0.36527132006415014,
          0.3625866682961535,
          0.36101884849140997,
          0.35745560855352837,
          0.36844949826933115,
          0.3669619231571082,
          0.3739464000605786,
          0.40150870755028456,
          0.3790412715578871,
          0.3933298448123983,
          0.3732922724531515,
          0.38169218773181507,
          0.38670663406303046,
          0.3795707701196086,
          0.39350125671444053,
          0.394061634210446,
          0.39980425320746915,
          0.41619656232459756,
          0.40835234724259595,
          0.40527845849836364,
          0.38955435244410136,
          0.4107326465690755,
          0.4163003835646509,
          0.4136763466398452,
          0.4211484142770416,
          0.41738941418132197,
          0.42502685111273625,
          0.41515373238360964,
          0.4233643264044157,
          0.432415761352862,
          0.4376595045584571,
          0.41824033206262357,
          0.42518379435985726,
          0.43434727664840256,
          0.42936214239050974
         ]
        }
       ],
       "layout": {
        "annotations": [
         {
          "showarrow": false,
          "text": "Random sorting",
          "x": 1,
          "xanchor": "right",
          "xref": "x domain",
          "y": 0,
          "yanchor": "bottom",
          "yref": "y"
         },
         {
          "showarrow": false,
          "text": "ρ=1: no bias",
          "x": 1,
          "xanchor": "left",
          "xref": "x",
          "y": 1,
          "yanchor": "top",
          "yref": "y domain"
         }
        ],
        "font": {
         "size": 18
        },
        "height": 500,
        "legend": {
         "title": {
          "text": ""
         },
         "x": 0.75,
         "y": 0.15
        },
        "margin": {
         "b": 5,
         "l": 5,
         "r": 5,
         "t": 5
        },
        "plot_bgcolor": "rgba(0,0,0,0)",
        "shapes": [
         {
          "line": {
           "width": 1
          },
          "type": "line",
          "x0": 0,
          "x1": 1,
          "xref": "x domain",
          "y0": 0,
          "y1": 0,
          "yref": "y"
         },
         {
          "line": {
           "width": 1
          },
          "type": "line",
          "x0": 1,
          "x1": 1,
          "xref": "x",
          "y0": 0,
          "y1": 1,
          "yref": "y domain"
         }
        ],
        "showlegend": true,
        "template": {
         "data": {
          "bar": [
           {
            "error_x": {
             "color": "#2a3f5f"
            },
            "error_y": {
             "color": "#2a3f5f"
            },
            "marker": {
             "line": {
              "color": "#E5ECF6",
              "width": 0.5
             },
             "pattern": {
              "fillmode": "overlay",
              "size": 10,
              "solidity": 0.2
             }
            },
            "type": "bar"
           }
          ],
          "barpolar": [
           {
            "marker": {
             "line": {
              "color": "#E5ECF6",
              "width": 0.5
             },
             "pattern": {
              "fillmode": "overlay",
              "size": 10,
              "solidity": 0.2
             }
            },
            "type": "barpolar"
           }
          ],
          "carpet": [
           {
            "aaxis": {
             "endlinecolor": "#2a3f5f",
             "gridcolor": "white",
             "linecolor": "white",
             "minorgridcolor": "white",
             "startlinecolor": "#2a3f5f"
            },
            "baxis": {
             "endlinecolor": "#2a3f5f",
             "gridcolor": "white",
             "linecolor": "white",
             "minorgridcolor": "white",
             "startlinecolor": "#2a3f5f"
            },
            "type": "carpet"
           }
          ],
          "choropleth": [
           {
            "colorbar": {
             "outlinewidth": 0,
             "ticks": ""
            },
            "type": "choropleth"
           }
          ],
          "contour": [
           {
            "colorbar": {
             "outlinewidth": 0,
             "ticks": ""
            },
            "colorscale": [
             [
              0,
              "#0d0887"
             ],
             [
              0.1111111111111111,
              "#46039f"
             ],
             [
              0.2222222222222222,
              "#7201a8"
             ],
             [
              0.3333333333333333,
              "#9c179e"
             ],
             [
              0.4444444444444444,
              "#bd3786"
             ],
             [
              0.5555555555555556,
              "#d8576b"
             ],
             [
              0.6666666666666666,
              "#ed7953"
             ],
             [
              0.7777777777777778,
              "#fb9f3a"
             ],
             [
              0.8888888888888888,
              "#fdca26"
             ],
             [
              1,
              "#f0f921"
             ]
            ],
            "type": "contour"
           }
          ],
          "contourcarpet": [
           {
            "colorbar": {
             "outlinewidth": 0,
             "ticks": ""
            },
            "type": "contourcarpet"
           }
          ],
          "heatmap": [
           {
            "colorbar": {
             "outlinewidth": 0,
             "ticks": ""
            },
            "colorscale": [
             [
              0,
              "#0d0887"
             ],
             [
              0.1111111111111111,
              "#46039f"
             ],
             [
              0.2222222222222222,
              "#7201a8"
             ],
             [
              0.3333333333333333,
              "#9c179e"
             ],
             [
              0.4444444444444444,
              "#bd3786"
             ],
             [
              0.5555555555555556,
              "#d8576b"
             ],
             [
              0.6666666666666666,
              "#ed7953"
             ],
             [
              0.7777777777777778,
              "#fb9f3a"
             ],
             [
              0.8888888888888888,
              "#fdca26"
             ],
             [
              1,
              "#f0f921"
             ]
            ],
            "type": "heatmap"
           }
          ],
          "heatmapgl": [
           {
            "colorbar": {
             "outlinewidth": 0,
             "ticks": ""
            },
            "colorscale": [
             [
              0,
              "#0d0887"
             ],
             [
              0.1111111111111111,
              "#46039f"
             ],
             [
              0.2222222222222222,
              "#7201a8"
             ],
             [
              0.3333333333333333,
              "#9c179e"
             ],
             [
              0.4444444444444444,
              "#bd3786"
             ],
             [
              0.5555555555555556,
              "#d8576b"
             ],
             [
              0.6666666666666666,
              "#ed7953"
             ],
             [
              0.7777777777777778,
              "#fb9f3a"
             ],
             [
              0.8888888888888888,
              "#fdca26"
             ],
             [
              1,
              "#f0f921"
             ]
            ],
            "type": "heatmapgl"
           }
          ],
          "histogram": [
           {
            "marker": {
             "pattern": {
              "fillmode": "overlay",
              "size": 10,
              "solidity": 0.2
             }
            },
            "type": "histogram"
           }
          ],
          "histogram2d": [
           {
            "colorbar": {
             "outlinewidth": 0,
             "ticks": ""
            },
            "colorscale": [
             [
              0,
              "#0d0887"
             ],
             [
              0.1111111111111111,
              "#46039f"
             ],
             [
              0.2222222222222222,
              "#7201a8"
             ],
             [
              0.3333333333333333,
              "#9c179e"
             ],
             [
              0.4444444444444444,
              "#bd3786"
             ],
             [
              0.5555555555555556,
              "#d8576b"
             ],
             [
              0.6666666666666666,
              "#ed7953"
             ],
             [
              0.7777777777777778,
              "#fb9f3a"
             ],
             [
              0.8888888888888888,
              "#fdca26"
             ],
             [
              1,
              "#f0f921"
             ]
            ],
            "type": "histogram2d"
           }
          ],
          "histogram2dcontour": [
           {
            "colorbar": {
             "outlinewidth": 0,
             "ticks": ""
            },
            "colorscale": [
             [
              0,
              "#0d0887"
             ],
             [
              0.1111111111111111,
              "#46039f"
             ],
             [
              0.2222222222222222,
              "#7201a8"
             ],
             [
              0.3333333333333333,
              "#9c179e"
             ],
             [
              0.4444444444444444,
              "#bd3786"
             ],
             [
              0.5555555555555556,
              "#d8576b"
             ],
             [
              0.6666666666666666,
              "#ed7953"
             ],
             [
              0.7777777777777778,
              "#fb9f3a"
             ],
             [
              0.8888888888888888,
              "#fdca26"
             ],
             [
              1,
              "#f0f921"
             ]
            ],
            "type": "histogram2dcontour"
           }
          ],
          "mesh3d": [
           {
            "colorbar": {
             "outlinewidth": 0,
             "ticks": ""
            },
            "type": "mesh3d"
           }
          ],
          "parcoords": [
           {
            "line": {
             "colorbar": {
              "outlinewidth": 0,
              "ticks": ""
             }
            },
            "type": "parcoords"
           }
          ],
          "pie": [
           {
            "automargin": true,
            "type": "pie"
           }
          ],
          "scatter": [
           {
            "fillpattern": {
             "fillmode": "overlay",
             "size": 10,
             "solidity": 0.2
            },
            "type": "scatter"
           }
          ],
          "scatter3d": [
           {
            "line": {
             "colorbar": {
              "outlinewidth": 0,
              "ticks": ""
             }
            },
            "marker": {
             "colorbar": {
              "outlinewidth": 0,
              "ticks": ""
             }
            },
            "type": "scatter3d"
           }
          ],
          "scattercarpet": [
           {
            "marker": {
             "colorbar": {
              "outlinewidth": 0,
              "ticks": ""
             }
            },
            "type": "scattercarpet"
           }
          ],
          "scattergeo": [
           {
            "marker": {
             "colorbar": {
              "outlinewidth": 0,
              "ticks": ""
             }
            },
            "type": "scattergeo"
           }
          ],
          "scattergl": [
           {
            "marker": {
             "colorbar": {
              "outlinewidth": 0,
              "ticks": ""
             }
            },
            "type": "scattergl"
           }
          ],
          "scattermapbox": [
           {
            "marker": {
             "colorbar": {
              "outlinewidth": 0,
              "ticks": ""
             }
            },
            "type": "scattermapbox"
           }
          ],
          "scatterpolar": [
           {
            "marker": {
             "colorbar": {
              "outlinewidth": 0,
              "ticks": ""
             }
            },
            "type": "scatterpolar"
           }
          ],
          "scatterpolargl": [
           {
            "marker": {
             "colorbar": {
              "outlinewidth": 0,
              "ticks": ""
             }
            },
            "type": "scatterpolargl"
           }
          ],
          "scatterternary": [
           {
            "marker": {
             "colorbar": {
              "outlinewidth": 0,
              "ticks": ""
             }
            },
            "type": "scatterternary"
           }
          ],
          "surface": [
           {
            "colorbar": {
             "outlinewidth": 0,
             "ticks": ""
            },
            "colorscale": [
             [
              0,
              "#0d0887"
             ],
             [
              0.1111111111111111,
              "#46039f"
             ],
             [
              0.2222222222222222,
              "#7201a8"
             ],
             [
              0.3333333333333333,
              "#9c179e"
             ],
             [
              0.4444444444444444,
              "#bd3786"
             ],
             [
              0.5555555555555556,
              "#d8576b"
             ],
             [
              0.6666666666666666,
              "#ed7953"
             ],
             [
              0.7777777777777778,
              "#fb9f3a"
             ],
             [
              0.8888888888888888,
              "#fdca26"
             ],
             [
              1,
              "#f0f921"
             ]
            ],
            "type": "surface"
           }
          ],
          "table": [
           {
            "cells": {
             "fill": {
              "color": "#EBF0F8"
             },
             "line": {
              "color": "white"
             }
            },
            "header": {
             "fill": {
              "color": "#C8D4E3"
             },
             "line": {
              "color": "white"
             }
            },
            "type": "table"
           }
          ]
         },
         "layout": {
          "annotationdefaults": {
           "arrowcolor": "#2a3f5f",
           "arrowhead": 0,
           "arrowwidth": 1
          },
          "autotypenumbers": "strict",
          "coloraxis": {
           "colorbar": {
            "outlinewidth": 0,
            "ticks": ""
           }
          },
          "colorscale": {
           "diverging": [
            [
             0,
             "#8e0152"
            ],
            [
             0.1,
             "#c51b7d"
            ],
            [
             0.2,
             "#de77ae"
            ],
            [
             0.3,
             "#f1b6da"
            ],
            [
             0.4,
             "#fde0ef"
            ],
            [
             0.5,
             "#f7f7f7"
            ],
            [
             0.6,
             "#e6f5d0"
            ],
            [
             0.7,
             "#b8e186"
            ],
            [
             0.8,
             "#7fbc41"
            ],
            [
             0.9,
             "#4d9221"
            ],
            [
             1,
             "#276419"
            ]
           ],
           "sequential": [
            [
             0,
             "#0d0887"
            ],
            [
             0.1111111111111111,
             "#46039f"
            ],
            [
             0.2222222222222222,
             "#7201a8"
            ],
            [
             0.3333333333333333,
             "#9c179e"
            ],
            [
             0.4444444444444444,
             "#bd3786"
            ],
            [
             0.5555555555555556,
             "#d8576b"
            ],
            [
             0.6666666666666666,
             "#ed7953"
            ],
            [
             0.7777777777777778,
             "#fb9f3a"
            ],
            [
             0.8888888888888888,
             "#fdca26"
            ],
            [
             1,
             "#f0f921"
            ]
           ],
           "sequentialminus": [
            [
             0,
             "#0d0887"
            ],
            [
             0.1111111111111111,
             "#46039f"
            ],
            [
             0.2222222222222222,
             "#7201a8"
            ],
            [
             0.3333333333333333,
             "#9c179e"
            ],
            [
             0.4444444444444444,
             "#bd3786"
            ],
            [
             0.5555555555555556,
             "#d8576b"
            ],
            [
             0.6666666666666666,
             "#ed7953"
            ],
            [
             0.7777777777777778,
             "#fb9f3a"
            ],
            [
             0.8888888888888888,
             "#fdca26"
            ],
            [
             1,
             "#f0f921"
            ]
           ]
          },
          "colorway": [
           "#636efa",
           "#EF553B",
           "#00cc96",
           "#ab63fa",
           "#FFA15A",
           "#19d3f3",
           "#FF6692",
           "#B6E880",
           "#FF97FF",
           "#FECB52"
          ],
          "font": {
           "color": "#2a3f5f"
          },
          "geo": {
           "bgcolor": "white",
           "lakecolor": "white",
           "landcolor": "#E5ECF6",
           "showlakes": true,
           "showland": true,
           "subunitcolor": "white"
          },
          "hoverlabel": {
           "align": "left"
          },
          "hovermode": "closest",
          "mapbox": {
           "style": "light"
          },
          "paper_bgcolor": "white",
          "plot_bgcolor": "#E5ECF6",
          "polar": {
           "angularaxis": {
            "gridcolor": "white",
            "linecolor": "white",
            "ticks": ""
           },
           "bgcolor": "#E5ECF6",
           "radialaxis": {
            "gridcolor": "white",
            "linecolor": "white",
            "ticks": ""
           }
          },
          "scene": {
           "xaxis": {
            "backgroundcolor": "#E5ECF6",
            "gridcolor": "white",
            "gridwidth": 2,
            "linecolor": "white",
            "showbackground": true,
            "ticks": "",
            "zerolinecolor": "white"
           },
           "yaxis": {
            "backgroundcolor": "#E5ECF6",
            "gridcolor": "white",
            "gridwidth": 2,
            "linecolor": "white",
            "showbackground": true,
            "ticks": "",
            "zerolinecolor": "white"
           },
           "zaxis": {
            "backgroundcolor": "#E5ECF6",
            "gridcolor": "white",
            "gridwidth": 2,
            "linecolor": "white",
            "showbackground": true,
            "ticks": "",
            "zerolinecolor": "white"
           }
          },
          "shapedefaults": {
           "line": {
            "color": "#2a3f5f"
           }
          },
          "ternary": {
           "aaxis": {
            "gridcolor": "white",
            "linecolor": "white",
            "ticks": ""
           },
           "baxis": {
            "gridcolor": "white",
            "linecolor": "white",
            "ticks": ""
           },
           "bgcolor": "#E5ECF6",
           "caxis": {
            "gridcolor": "white",
            "linecolor": "white",
            "ticks": ""
           }
          },
          "title": {
           "x": 0.05
          },
          "xaxis": {
           "automargin": true,
           "gridcolor": "white",
           "linecolor": "white",
           "ticks": "",
           "title": {
            "standoff": 15
           },
           "zerolinecolor": "white",
           "zerolinewidth": 2
          },
          "yaxis": {
           "automargin": true,
           "gridcolor": "white",
           "linecolor": "white",
           "ticks": "",
           "title": {
            "standoff": 15
           },
           "zerolinecolor": "white",
           "zerolinewidth": 2
          }
         }
        },
        "title": {},
        "width": 500,
        "xaxis": {
         "linecolor": "rgb(0,0,0)",
         "linewidth": 2,
         "range": [
          0.5,
          2
         ],
         "showgrid": false,
         "showline": true,
         "title": {
          "text": "Rho"
         }
        },
        "yaxis": {
         "linecolor": "rgb(0,0,0)",
         "linewidth": 2,
         "range": [
          -0.5,
          0.5
         ],
         "showgrid": false,
         "showline": true,
         "title": {
          "text": "SES Assortativity"
         }
        }
       }
      }
     },
     "metadata": {},
     "output_type": "display_data"
    }
   ],
   "source": [
    "\n",
    "SESAss_rho_epsilon1 = plotly_lines.plot_MTO_sim_results(plotly_lines(), data=df_rho[df_rho['epsilon'] == 1], x_var='rho', y_var='Network_SES_assortativity', x_range=[0.5,2], y_range=[0,1], x_title='rho', y_title='Exposure', with_predicted=False, colors=['rgba(250,0,250,1)'], legend_text='ϵ=1')\n",
    "\n",
    "SESAss_rho_epsilon125 = plotly_lines.plot_MTO_sim_results(plotly_lines(), data=df_rho[df_rho['epsilon'] == 1.25], x_var='rho', y_var='Network_SES_assortativity', x_range=[0.5,2], y_range=[0,1], x_title='rho', y_title='Exposure', with_predicted=False, colors=['rgba(150,0,150,1)'], legend_text='ϵ=1.25')\n",
    "\n",
    "SESAss_rho_epsilon15 = plotly_lines.plot_MTO_sim_results(plotly_lines(), data=df_rho[df_rho['epsilon'] == 1.5], x_var='rho', y_var='Network_SES_assortativity', x_range=[0.5,2], y_range=[0,1], x_title='rho', y_title='Exposure', with_predicted=False, colors=['rgba(100,0,100,1)'], legend_text='ϵ=1.5')\n",
    "\n",
    "\n",
    "SESAss_rho_epsilon125 = go.Figure(data = SESAss_rho_epsilon1.data + SESAss_rho_epsilon125.data + SESAss_rho_epsilon15.data)\n",
    "\n",
    "SESAss_rho_epsilon125.update_layout(\n",
    "    title = None, \n",
    "    font=dict(size = 18),\n",
    "    xaxis_title = 'Rho', \n",
    "    yaxis_title = 'SES Assortativity',\n",
    "    width = 500, height = 500,\n",
    "    showlegend = True, \n",
    "    legend=dict(x=0.75,y=0.15),\n",
    "    legend_title_text = '',\n",
    "    xaxis_range = [0.5,2],\n",
    "    yaxis_range = [-0.5,0.5],\n",
    "    margin=dict(b=5,l=5,r=5,t=5),\n",
    "    xaxis = dict(showgrid = False, showline = True, linecolor = 'rgb(0,0,0)', linewidth = 2), \n",
    "    yaxis = dict(showgrid = False, showline = True, linecolor = 'rgb(0,0,0)', linewidth = 2),\n",
    "    plot_bgcolor='rgba(0,0,0,0)')\n",
    "\n",
    "\n",
    "SESAss_rho_epsilon125.add_hline(y=0, line_width=1, annotation_text = 'Random sorting')\n",
    "SESAss_rho_epsilon125.add_vline(x=1, line_width=1, annotation_text = 'ρ=1: no bias')\n",
    "\n",
    "\n"
   ]
  },
  {
   "attachments": {},
   "cell_type": "markdown",
   "metadata": {},
   "source": [
    "### Rho Exposure"
   ]
  },
  {
   "cell_type": "code",
   "execution_count": 195,
   "metadata": {},
   "outputs": [
    {
     "data": {
      "application/vnd.plotly.v1+json": {
       "config": {
        "plotlyServerURL": "https://plot.ly"
       },
       "data": [
        {
         "line": {
          "color": "rgba(15,100,50,1)",
          "width": 2
         },
         "mode": "lines",
         "name": "ϵ=1.5",
         "showlegend": true,
         "type": "scatter",
         "x": [
          1,
          1.01,
          1.02,
          1.03,
          1.04,
          1.05,
          1.06,
          1.07,
          1.08,
          1.09,
          1.1,
          1.11,
          1.12,
          1.13,
          1.14,
          1.15,
          1.16,
          1.1700000000000002,
          1.1800000000000002,
          1.1900000000000002,
          1.2000000000000002,
          1.2100000000000002,
          1.2200000000000002,
          1.2300000000000002,
          1.2400000000000002,
          1.2500000000000002,
          1.2600000000000002,
          1.2700000000000002,
          1.2800000000000002,
          1.2900000000000005,
          1.3000000000000005,
          1.3100000000000005,
          1.3200000000000005,
          1.3300000000000003,
          1.3400000000000003,
          1.3500000000000003,
          1.3600000000000003,
          1.3700000000000003,
          1.3800000000000003,
          1.3900000000000003,
          1.4000000000000004,
          1.4100000000000004,
          1.4200000000000004,
          1.4300000000000004,
          1.4400000000000004,
          1.4500000000000004,
          1.4600000000000004,
          1.4700000000000004,
          1.4800000000000004,
          1.4900000000000004,
          1.5000000000000004,
          1.5100000000000005,
          1.5200000000000005,
          1.5300000000000005,
          1.5400000000000005,
          1.5500000000000005,
          1.5600000000000005,
          1.5700000000000005,
          1.5800000000000003,
          1.5900000000000003,
          1.6000000000000003,
          1.6100000000000003,
          1.6200000000000006,
          1.6300000000000006,
          1.6400000000000006,
          1.6500000000000006,
          1.6600000000000006,
          1.6700000000000006,
          1.6800000000000006,
          1.6900000000000006,
          1.7000000000000006,
          1.7100000000000006,
          1.7200000000000006,
          1.7300000000000006,
          1.7400000000000009,
          1.7500000000000009,
          1.760000000000001,
          1.770000000000001,
          1.7800000000000007,
          1.7900000000000007,
          1.8000000000000007,
          1.8100000000000007,
          1.8200000000000007,
          1.8300000000000007,
          1.8400000000000007,
          1.8500000000000008,
          1.8600000000000008,
          1.8700000000000008,
          1.8800000000000008,
          1.8900000000000008,
          1.9000000000000008,
          1.9100000000000008,
          1.9200000000000008,
          1.9300000000000008,
          1.9400000000000008,
          1.9500000000000008,
          1.9600000000000009,
          1.9700000000000009,
          1.9800000000000009,
          1.9900000000000009
         ],
         "y": [
          0.8087016317016318,
          0.8608153513153514,
          0.8207326007326008,
          0.7748414918414918,
          0.7912042957042957,
          0.7688200133200134,
          0.8530654345654345,
          0.8014695304695305,
          0.8066896436896437,
          0.8284304029304029,
          0.8115667332667333,
          0.8760331335331335,
          0.7918689643689644,
          0.799700899100899,
          0.7957399267399268,
          0.865065601065601,
          0.8588494172494172,
          0.8454370629370629,
          0.8360637695637696,
          0.8226923076923077,
          0.7844129204129203,
          0.8405016650016649,
          0.8296247086247086,
          0.8179532134532135,
          0.8117564102564103,
          0.8219244089244089,
          0.7814180819180819,
          0.7967505827505827,
          0.8081748251748252,
          0.8016240093240093,
          0.8665234765234766,
          0.8241225441225442,
          0.8005138195138195,
          0.8087104562104562,
          0.8110074925074925,
          0.834016317016317,
          0.8243208458208457,
          0.7940800865800866,
          0.8345284715284715,
          0.7797758907758907,
          0.8954747585747586,
          0.7945476190476191,
          0.8056395271395271,
          0.8077071262071261,
          0.8092297702297703,
          0.8498553113553113,
          0.8324087579087579,
          0.8355419580419581,
          0.7987402597402598,
          0.7537902097902098,
          0.7737570096570097,
          0.8228273393273393,
          0.8162191142191142,
          0.7827600732600732,
          0.7966525141525141,
          0.8429195804195804,
          0.7796038961038961,
          0.8017400932400932,
          0.8686102231102232,
          0.9172222777222777,
          0.801949716949717,
          0.7746313686313687,
          0.7587900432900433,
          0.8206360306360306,
          0.8153824508824509,
          0.8442777222777224,
          0.8407082917082916,
          0.8400431235431236,
          0.8675293040293041,
          0.7680268065268064,
          0.8576446886446887,
          0.7730609390609391,
          0.7931754911754911,
          0.7444299034299035,
          0.7884580419580419,
          0.8142012987012986,
          0.7523388278388278,
          0.7511375291375291,
          0.8624177489177489,
          0.8511859806859806,
          0.8052377289377289,
          0.7867134532134532,
          0.7909507159507159,
          0.8067435897435897,
          0.7482500832500832,
          0.7900582750582751,
          0.8307950382950383,
          0.7762450882450882,
          0.7767231102231102,
          0.8217925407925407,
          0.8020304695304695,
          0.8262712287712287,
          0.781384915084915,
          0.8070003330003329,
          0.7600531135531136,
          0.8062750582750583,
          0.8073186813186813,
          0.7814435564435565,
          0.8222698967698967,
          0.757510656010656
         ]
        },
        {
         "line": {
          "color": "rgba(15,100,50,0.25)",
          "width": 2
         },
         "mode": "lines",
         "showlegend": false,
         "type": "scatter",
         "x": [
          1,
          1.01,
          1.02,
          1.03,
          1.04,
          1.05,
          1.06,
          1.07,
          1.08,
          1.09,
          1.1,
          1.11,
          1.12,
          1.13,
          1.14,
          1.15,
          1.16,
          1.1700000000000002,
          1.1800000000000002,
          1.1900000000000002,
          1.2000000000000002,
          1.2100000000000002,
          1.2200000000000002,
          1.2300000000000002,
          1.2400000000000002,
          1.2500000000000002,
          1.2600000000000002,
          1.2700000000000002,
          1.2800000000000002,
          1.2900000000000005,
          1.3000000000000005,
          1.3100000000000005,
          1.3200000000000005,
          1.3300000000000003,
          1.3400000000000003,
          1.3500000000000003,
          1.3600000000000003,
          1.3700000000000003,
          1.3800000000000003,
          1.3900000000000003,
          1.4000000000000004,
          1.4100000000000004,
          1.4200000000000004,
          1.4300000000000004,
          1.4400000000000004,
          1.4500000000000004,
          1.4600000000000004,
          1.4700000000000004,
          1.4800000000000004,
          1.4900000000000004,
          1.5000000000000004,
          1.5100000000000005,
          1.5200000000000005,
          1.5300000000000005,
          1.5400000000000005,
          1.5500000000000005,
          1.5600000000000005,
          1.5700000000000005,
          1.5800000000000003,
          1.5900000000000003,
          1.6000000000000003,
          1.6100000000000003,
          1.6200000000000006,
          1.6300000000000006,
          1.6400000000000006,
          1.6500000000000006,
          1.6600000000000006,
          1.6700000000000006,
          1.6800000000000006,
          1.6900000000000006,
          1.7000000000000006,
          1.7100000000000006,
          1.7200000000000006,
          1.7300000000000006,
          1.7400000000000009,
          1.7500000000000009,
          1.760000000000001,
          1.770000000000001,
          1.7800000000000007,
          1.7900000000000007,
          1.8000000000000007,
          1.8100000000000007,
          1.8200000000000007,
          1.8300000000000007,
          1.8400000000000007,
          1.8500000000000008,
          1.8600000000000008,
          1.8700000000000008,
          1.8800000000000008,
          1.8900000000000008,
          1.9000000000000008,
          1.9100000000000008,
          1.9200000000000008,
          1.9300000000000008,
          1.9400000000000008,
          1.9500000000000008,
          1.9600000000000009,
          1.9700000000000009,
          1.9800000000000009,
          1.9900000000000009
         ],
         "y": [
          0.8138816842190025,
          0.866276548355268,
          0.8263001061517087,
          0.7799910985409558,
          0.7963234182318999,
          0.7743693238883983,
          0.8583273885321249,
          0.8067945809827376,
          0.8121475072247909,
          0.8337369280983079,
          0.8168066111261257,
          0.8814216602371905,
          0.797093506944605,
          0.8049527282102357,
          0.8007797956881185,
          0.8704996568987832,
          0.8642183821359299,
          0.8509993524846349,
          0.841258140571545,
          0.8282871762486639,
          0.7897162109065058,
          0.8457814297700149,
          0.8348409248631883,
          0.823084058369068,
          0.8173259342200907,
          0.8271495899609888,
          0.786483697463727,
          0.8020175555801771,
          0.8134366854280013,
          0.8074165838983696,
          0.8720090164957076,
          0.829084168349386,
          0.8055591108000072,
          0.8139815093508328,
          0.8165006553971739,
          0.839696634738726,
          0.829732667294698,
          0.7993141863778581,
          0.839983997688599,
          0.7852082872227186,
          0.9007904648896339,
          0.799758203127056,
          0.8108293919101676,
          0.8128694886336418,
          0.8143285000152237,
          0.8557031694271983,
          0.8379261229345172,
          0.8409179811555817,
          0.8039310352324548,
          0.7589154382905716,
          0.7788646699232484,
          0.8281038251556078,
          0.8214137087548552,
          0.7881254778100025,
          0.8020240083317397,
          0.848656284318663,
          0.7850331195047534,
          0.8072702067576134,
          0.8741742987763195,
          0.922675444747642,
          0.8069092373218235,
          0.7800742003279707,
          0.7643985567651651,
          0.8260304082783012,
          0.8207310767587471,
          0.8498572965443966,
          0.8461164087485262,
          0.8454953543972835,
          0.8730582397651779,
          0.7734762742601056,
          0.8629570399159736,
          0.7782925973131937,
          0.7983507458910117,
          0.7495219684199818,
          0.7937964946864147,
          0.8195261432125505,
          0.7576957513304114,
          0.7564533766577384,
          0.867987963656788,
          0.8566422454791477,
          0.8105618263332953,
          0.7921388696933532,
          0.7964412475650601,
          0.8121495247921366,
          0.7534445443823367,
          0.7953696855027744,
          0.836074443828884,
          0.7813961856355309,
          0.7820830403651519,
          0.8271300524273497,
          0.8078478083264251,
          0.8315679882148739,
          0.7867762583556505,
          0.8123384852278732,
          0.7650881120085417,
          0.8115818736664576,
          0.8125440819882708,
          0.7868858150318477,
          0.8274413304748796,
          0.7626877580873578
         ]
        },
        {
         "fill": "tonexty",
         "fillcolor": "rgba(68, 68, 68, 0.2)",
         "line": {
          "color": "rgba(15,100,50,0.25)",
          "width": 2
         },
         "mode": "lines",
         "showlegend": false,
         "type": "scatter",
         "x": [
          1,
          1.01,
          1.02,
          1.03,
          1.04,
          1.05,
          1.06,
          1.07,
          1.08,
          1.09,
          1.1,
          1.11,
          1.12,
          1.13,
          1.14,
          1.15,
          1.16,
          1.1700000000000002,
          1.1800000000000002,
          1.1900000000000002,
          1.2000000000000002,
          1.2100000000000002,
          1.2200000000000002,
          1.2300000000000002,
          1.2400000000000002,
          1.2500000000000002,
          1.2600000000000002,
          1.2700000000000002,
          1.2800000000000002,
          1.2900000000000005,
          1.3000000000000005,
          1.3100000000000005,
          1.3200000000000005,
          1.3300000000000003,
          1.3400000000000003,
          1.3500000000000003,
          1.3600000000000003,
          1.3700000000000003,
          1.3800000000000003,
          1.3900000000000003,
          1.4000000000000004,
          1.4100000000000004,
          1.4200000000000004,
          1.4300000000000004,
          1.4400000000000004,
          1.4500000000000004,
          1.4600000000000004,
          1.4700000000000004,
          1.4800000000000004,
          1.4900000000000004,
          1.5000000000000004,
          1.5100000000000005,
          1.5200000000000005,
          1.5300000000000005,
          1.5400000000000005,
          1.5500000000000005,
          1.5600000000000005,
          1.5700000000000005,
          1.5800000000000003,
          1.5900000000000003,
          1.6000000000000003,
          1.6100000000000003,
          1.6200000000000006,
          1.6300000000000006,
          1.6400000000000006,
          1.6500000000000006,
          1.6600000000000006,
          1.6700000000000006,
          1.6800000000000006,
          1.6900000000000006,
          1.7000000000000006,
          1.7100000000000006,
          1.7200000000000006,
          1.7300000000000006,
          1.7400000000000009,
          1.7500000000000009,
          1.760000000000001,
          1.770000000000001,
          1.7800000000000007,
          1.7900000000000007,
          1.8000000000000007,
          1.8100000000000007,
          1.8200000000000007,
          1.8300000000000007,
          1.8400000000000007,
          1.8500000000000008,
          1.8600000000000008,
          1.8700000000000008,
          1.8800000000000008,
          1.8900000000000008,
          1.9000000000000008,
          1.9100000000000008,
          1.9200000000000008,
          1.9300000000000008,
          1.9400000000000008,
          1.9500000000000008,
          1.9600000000000009,
          1.9700000000000009,
          1.9800000000000009,
          1.9900000000000009
         ],
         "y": [
          0.803521579184261,
          0.8553541542754347,
          0.8151650953134929,
          0.7696918851420277,
          0.7860851731766916,
          0.7632707027516284,
          0.8478034805987441,
          0.7961444799563234,
          0.8012317801544965,
          0.823123877762498,
          0.806326855407341,
          0.8706446068290765,
          0.7866444217933237,
          0.7944490699915624,
          0.790700057791735,
          0.8596315452324189,
          0.8534804523629045,
          0.8398747733894909,
          0.8308693985559942,
          0.8170974391359516,
          0.7791096299193349,
          0.8352219002333149,
          0.8244084923862289,
          0.812822368537359,
          0.8061868862927299,
          0.816699227887829,
          0.7763524663724368,
          0.7914836099209884,
          0.8029129649216491,
          0.7958314347496491,
          0.8610379365512456,
          0.8191609198957023,
          0.7954685282276318,
          0.8034394030700797,
          0.8055143296178111,
          0.8283359992939079,
          0.8189090243469935,
          0.788845986782315,
          0.8290729453683441,
          0.7743434943290628,
          0.8901590522598832,
          0.7893370349681821,
          0.8004496623688867,
          0.8025447637806105,
          0.8041310404443168,
          0.8440074532834244,
          0.8268913928829986,
          0.8301659349283345,
          0.7935494842480647,
          0.748664981289848,
          0.7686493493907709,
          0.8175508534990709,
          0.8110245196833732,
          0.777394668710144,
          0.7912810199732886,
          0.8371828765204977,
          0.7741746727030389,
          0.796209979722573,
          0.8630461474441269,
          0.9117691106969135,
          0.7969901965776104,
          0.7691885369347667,
          0.7531815298149215,
          0.8152416529937601,
          0.8100338250061546,
          0.8386981480110481,
          0.8353001746680571,
          0.8345908926889637,
          0.8620003682934302,
          0.7625773387935073,
          0.8523323373734037,
          0.7678292808086845,
          0.7880002364599705,
          0.7393378384398251,
          0.7831195892296692,
          0.8088764541900468,
          0.7469819043472441,
          0.7458216816173198,
          0.8568475341787098,
          0.8457297158928135,
          0.7999136315421626,
          0.7812880367335532,
          0.7854601843363717,
          0.8013376546950428,
          0.7430556221178298,
          0.7847468646137757,
          0.8255156327611927,
          0.7710939908546455,
          0.7713631800810686,
          0.8164550291577317,
          0.7962131307345139,
          0.8209744693275836,
          0.7759935718141796,
          0.8016621807727926,
          0.7550181150976855,
          0.800968242883659,
          0.8020932806490919,
          0.7760012978552652,
          0.8170984630649138,
          0.7523335539339543
         ]
        },
        {
         "line": {
          "color": "rgba(15,170,100,1)",
          "width": 2
         },
         "mode": "lines",
         "name": "ϵ=1.25",
         "showlegend": true,
         "type": "scatter",
         "x": [
          1,
          1.01,
          1.02,
          1.03,
          1.04,
          1.05,
          1.06,
          1.07,
          1.08,
          1.09,
          1.1,
          1.11,
          1.12,
          1.13,
          1.14,
          1.15,
          1.16,
          1.1700000000000002,
          1.1800000000000002,
          1.1900000000000002,
          1.2000000000000002,
          1.2100000000000002,
          1.2200000000000002,
          1.2300000000000002,
          1.2400000000000002,
          1.2500000000000002,
          1.2600000000000002,
          1.2700000000000002,
          1.2800000000000002,
          1.2900000000000005,
          1.3000000000000005,
          1.3100000000000005,
          1.3200000000000005,
          1.3300000000000003,
          1.3400000000000003,
          1.3500000000000003,
          1.3600000000000003,
          1.3700000000000003,
          1.3800000000000003,
          1.3900000000000003,
          1.4000000000000004,
          1.4100000000000004,
          1.4200000000000004,
          1.4300000000000004,
          1.4400000000000004,
          1.4500000000000004,
          1.4600000000000004,
          1.4700000000000004,
          1.4800000000000004,
          1.4900000000000004,
          1.5000000000000004,
          1.5100000000000005,
          1.5200000000000005,
          1.5300000000000005,
          1.5400000000000005,
          1.5500000000000005,
          1.5600000000000005,
          1.5700000000000005,
          1.5800000000000003,
          1.5900000000000003,
          1.6000000000000003,
          1.6100000000000003,
          1.6200000000000006,
          1.6300000000000006,
          1.6400000000000006,
          1.6500000000000006,
          1.6600000000000006,
          1.6700000000000006,
          1.6800000000000006,
          1.6900000000000006,
          1.7000000000000006,
          1.7100000000000006,
          1.7200000000000006,
          1.7300000000000006,
          1.7400000000000009,
          1.7500000000000009,
          1.760000000000001,
          1.770000000000001,
          1.7800000000000007,
          1.7900000000000007,
          1.8000000000000007,
          1.8100000000000007,
          1.8200000000000007,
          1.8300000000000007,
          1.8400000000000007,
          1.8500000000000008,
          1.8600000000000008,
          1.8700000000000008,
          1.8800000000000008,
          1.8900000000000008,
          1.9000000000000008,
          1.9100000000000008,
          1.9200000000000008,
          1.9300000000000008,
          1.9400000000000008,
          1.9500000000000008,
          1.9600000000000009,
          1.9700000000000009,
          1.9800000000000009,
          1.9900000000000009
         ],
         "y": [
          0.8959117549117549,
          0.8519110889110889,
          0.9086361971361971,
          0.9187917082917083,
          0.8879512154512155,
          0.8388772893772893,
          0.8753456543456544,
          0.9106669996669997,
          0.8971212121212121,
          0.9481938061938061,
          0.8704951714951714,
          0.8419425574425575,
          0.8865078255078255,
          0.8844588744588745,
          0.939067932067932,
          0.8790987345987346,
          0.8991453546453547,
          0.9037790542790544,
          0.891988344988345,
          0.8308250083250083,
          0.935915417915418,
          0.8899237429237429,
          0.8747888777888778,
          0.8584247419247419,
          0.8701518481518482,
          0.8785121545121546,
          0.9194490509490509,
          0.921515651015651,
          0.9118128538128538,
          0.9114721944721945,
          0.8828919413919414,
          0.9073741258741259,
          0.9606398601398601,
          0.8720637695637696,
          0.8787857142857143,
          0.8757314352314353,
          0.8364838494838495,
          0.8794195804195803,
          0.8016270063270063,
          0.8766876456876457,
          0.8680704295704296,
          0.8808276723276723,
          0.8656693306693306,
          0.8685461205461205,
          0.9112812187812187,
          0.846033633033633,
          0.8975587745587745,
          0.8762345987345987,
          0.9129543789543789,
          0.8775467865467865,
          0.9564778554778555,
          0.9468681318681319,
          0.9008221778221779,
          0.9359365634365635,
          0.9603290043290043,
          0.8680647685647686,
          0.9034809190809191,
          0.8569135864135864,
          0.9381203796203796,
          0.8362307692307693,
          0.8846693306693306,
          0.8646197136197136,
          0.9067830502830503,
          0.8802239427239428,
          0.9068588078588078,
          0.9120887445887446,
          0.9382124542124541,
          0.8623433233433234,
          0.881030303030303,
          0.9265907425907426,
          0.8883746253746253,
          0.9640794205794205,
          0.824064602064602,
          0.9152437562437562,
          0.8463341658341658,
          0.8553629703629704,
          0.8878648018648019,
          0.9556112221112221,
          0.9004017649017648,
          0.8223872793872794,
          0.821211655011655,
          0.8610523476523476,
          0.8689990009990011,
          0.8778767898767899,
          0.9292622377622377,
          0.8968957708957709,
          0.8379498834498835,
          0.8127159507159507,
          0.8744163836163836,
          0.8347445887445888,
          0.9288902763902764,
          0.895007992007992,
          0.9206979686979687,
          0.9487111222111222,
          0.9700457875457875,
          0.8927562437562437,
          0.9146575091575091,
          0.8617464202464202,
          0.8581007326007326,
          0.9085168165168166
         ]
        },
        {
         "line": {
          "color": "rgba(15,170,100,0.25)",
          "width": 2
         },
         "mode": "lines",
         "showlegend": false,
         "type": "scatter",
         "x": [
          1,
          1.01,
          1.02,
          1.03,
          1.04,
          1.05,
          1.06,
          1.07,
          1.08,
          1.09,
          1.1,
          1.11,
          1.12,
          1.13,
          1.14,
          1.15,
          1.16,
          1.1700000000000002,
          1.1800000000000002,
          1.1900000000000002,
          1.2000000000000002,
          1.2100000000000002,
          1.2200000000000002,
          1.2300000000000002,
          1.2400000000000002,
          1.2500000000000002,
          1.2600000000000002,
          1.2700000000000002,
          1.2800000000000002,
          1.2900000000000005,
          1.3000000000000005,
          1.3100000000000005,
          1.3200000000000005,
          1.3300000000000003,
          1.3400000000000003,
          1.3500000000000003,
          1.3600000000000003,
          1.3700000000000003,
          1.3800000000000003,
          1.3900000000000003,
          1.4000000000000004,
          1.4100000000000004,
          1.4200000000000004,
          1.4300000000000004,
          1.4400000000000004,
          1.4500000000000004,
          1.4600000000000004,
          1.4700000000000004,
          1.4800000000000004,
          1.4900000000000004,
          1.5000000000000004,
          1.5100000000000005,
          1.5200000000000005,
          1.5300000000000005,
          1.5400000000000005,
          1.5500000000000005,
          1.5600000000000005,
          1.5700000000000005,
          1.5800000000000003,
          1.5900000000000003,
          1.6000000000000003,
          1.6100000000000003,
          1.6200000000000006,
          1.6300000000000006,
          1.6400000000000006,
          1.6500000000000006,
          1.6600000000000006,
          1.6700000000000006,
          1.6800000000000006,
          1.6900000000000006,
          1.7000000000000006,
          1.7100000000000006,
          1.7200000000000006,
          1.7300000000000006,
          1.7400000000000009,
          1.7500000000000009,
          1.760000000000001,
          1.770000000000001,
          1.7800000000000007,
          1.7900000000000007,
          1.8000000000000007,
          1.8100000000000007,
          1.8200000000000007,
          1.8300000000000007,
          1.8400000000000007,
          1.8500000000000008,
          1.8600000000000008,
          1.8700000000000008,
          1.8800000000000008,
          1.8900000000000008,
          1.9000000000000008,
          1.9100000000000008,
          1.9200000000000008,
          1.9300000000000008,
          1.9400000000000008,
          1.9500000000000008,
          1.9600000000000009,
          1.9700000000000009,
          1.9800000000000009,
          1.9900000000000009
         ],
         "y": [
          0.9012007534200188,
          0.8570937064931938,
          0.9142203895001613,
          0.9239214128340519,
          0.8932253866126486,
          0.8440268500819371,
          0.8802498879006277,
          0.9160969403134016,
          0.9028368118615734,
          0.9532414176119666,
          0.8757033608734914,
          0.8472913758520432,
          0.8916479279034496,
          0.8894315516120439,
          0.9445866581430852,
          0.8841197898165242,
          0.9042720763073986,
          0.9090465146688381,
          0.8973318402940584,
          0.8361936484414123,
          0.9410202862716599,
          0.895253484821638,
          0.8801594067168149,
          0.8635847331039825,
          0.8753672905962439,
          0.8838702516629248,
          0.9250797230430081,
          0.9269378577812347,
          0.9173992719196601,
          0.9169180002446705,
          0.888254151644567,
          0.9122492782283765,
          0.9660905761605968,
          0.8776098697369265,
          0.8842372180826611,
          0.8809039518094763,
          0.8417275729276241,
          0.8846132322991004,
          0.8070458780687708,
          0.8818662539156371,
          0.8733441849538591,
          0.8860048217255007,
          0.8709928617651186,
          0.8738004776179139,
          0.9163881753236337,
          0.8517493085404507,
          0.902903864434658,
          0.881644825140206,
          0.9185171243891893,
          0.8828155362542902,
          0.9618094562747506,
          0.9523741233325675,
          0.9061362887293776,
          0.9414462634382132,
          0.9657643849656569,
          0.8741454449476137,
          0.9089296617578306,
          0.8622543905355138,
          0.9433088183089519,
          0.8415724181794062,
          0.8898528022689144,
          0.8700775045251394,
          0.9119663105977219,
          0.8855479122432294,
          0.9122775743168667,
          0.9174920880513178,
          0.9436717873270645,
          0.8678106511763448,
          0.8865238177438671,
          0.9318644821589268,
          0.893656833445566,
          0.9695545071102797,
          0.829275567929817,
          0.9207678377168003,
          0.8517006324886695,
          0.8605732680416435,
          0.8929351732187217,
          0.9612982354442802,
          0.9059141665271023,
          0.8277861506358617,
          0.8266754789563252,
          0.8668614998451006,
          0.8744042124830445,
          0.8833980394190505,
          0.9346415311019208,
          0.9022252104717586,
          0.8434526996997385,
          0.8179291554731776,
          0.8799679665680692,
          0.8404663561570704,
          0.9347253260856175,
          0.9003507851675977,
          0.9259992097360598,
          0.9540467822634703,
          0.9752418253205511,
          0.8980709515842432,
          0.920408572512992,
          0.8671323360420184,
          0.8634199608075344,
          0.9138642557415536
         ]
        },
        {
         "fill": "tonexty",
         "fillcolor": "rgba(68, 68, 68, 0.2)",
         "line": {
          "color": "rgba(15,170,100,0.25)",
          "width": 2
         },
         "mode": "lines",
         "showlegend": false,
         "type": "scatter",
         "x": [
          1,
          1.01,
          1.02,
          1.03,
          1.04,
          1.05,
          1.06,
          1.07,
          1.08,
          1.09,
          1.1,
          1.11,
          1.12,
          1.13,
          1.14,
          1.15,
          1.16,
          1.1700000000000002,
          1.1800000000000002,
          1.1900000000000002,
          1.2000000000000002,
          1.2100000000000002,
          1.2200000000000002,
          1.2300000000000002,
          1.2400000000000002,
          1.2500000000000002,
          1.2600000000000002,
          1.2700000000000002,
          1.2800000000000002,
          1.2900000000000005,
          1.3000000000000005,
          1.3100000000000005,
          1.3200000000000005,
          1.3300000000000003,
          1.3400000000000003,
          1.3500000000000003,
          1.3600000000000003,
          1.3700000000000003,
          1.3800000000000003,
          1.3900000000000003,
          1.4000000000000004,
          1.4100000000000004,
          1.4200000000000004,
          1.4300000000000004,
          1.4400000000000004,
          1.4500000000000004,
          1.4600000000000004,
          1.4700000000000004,
          1.4800000000000004,
          1.4900000000000004,
          1.5000000000000004,
          1.5100000000000005,
          1.5200000000000005,
          1.5300000000000005,
          1.5400000000000005,
          1.5500000000000005,
          1.5600000000000005,
          1.5700000000000005,
          1.5800000000000003,
          1.5900000000000003,
          1.6000000000000003,
          1.6100000000000003,
          1.6200000000000006,
          1.6300000000000006,
          1.6400000000000006,
          1.6500000000000006,
          1.6600000000000006,
          1.6700000000000006,
          1.6800000000000006,
          1.6900000000000006,
          1.7000000000000006,
          1.7100000000000006,
          1.7200000000000006,
          1.7300000000000006,
          1.7400000000000009,
          1.7500000000000009,
          1.760000000000001,
          1.770000000000001,
          1.7800000000000007,
          1.7900000000000007,
          1.8000000000000007,
          1.8100000000000007,
          1.8200000000000007,
          1.8300000000000007,
          1.8400000000000007,
          1.8500000000000008,
          1.8600000000000008,
          1.8700000000000008,
          1.8800000000000008,
          1.8900000000000008,
          1.9000000000000008,
          1.9100000000000008,
          1.9200000000000008,
          1.9300000000000008,
          1.9400000000000008,
          1.9500000000000008,
          1.9600000000000009,
          1.9700000000000009,
          1.9800000000000009,
          1.9900000000000009
         ],
         "y": [
          0.890622756403491,
          0.846728471328984,
          0.903052004772233,
          0.9136620037493647,
          0.8826770442897823,
          0.8337277286726416,
          0.870441420790681,
          0.9052370590205978,
          0.8914056123808508,
          0.9431461947756457,
          0.8652869821168514,
          0.8365937390330719,
          0.8813677231122014,
          0.8794861973057051,
          0.9335492059927789,
          0.8740776793809449,
          0.8940186329833109,
          0.8985115938892706,
          0.8866448496826316,
          0.8254563682086042,
          0.9308105495591761,
          0.8845940010258477,
          0.8694183488609407,
          0.8532647507455013,
          0.8649364057074526,
          0.8731540573613844,
          0.9138183788550938,
          0.9160934442500673,
          0.9062264357060476,
          0.9060263886997185,
          0.8775297311393158,
          0.9024989735198753,
          0.9551891441191235,
          0.8665176693906128,
          0.8733342104887675,
          0.8705589186533942,
          0.8312401260400748,
          0.8742259285400603,
          0.7962081345852419,
          0.8715090374596542,
          0.862796674187,
          0.875650522929844,
          0.8603457995735426,
          0.863291763474327,
          0.9061742622388037,
          0.8403179575268153,
          0.8922136846828911,
          0.8708243723289915,
          0.9073916335195685,
          0.8722780368392828,
          0.9511462546809604,
          0.9413621404036963,
          0.8955080669149782,
          0.9304268634349138,
          0.9548936236923516,
          0.8619840921819234,
          0.8980321764040076,
          0.851572782291659,
          0.9329319409318074,
          0.8308891202821325,
          0.8794858590697469,
          0.8591619227142877,
          0.9015997899683786,
          0.8748999732046562,
          0.9014400414007488,
          0.9066854011261714,
          0.9327531210978438,
          0.856875995510302,
          0.875536788316739,
          0.9213170030225584,
          0.8830924173036846,
          0.9586043340485614,
          0.8188536361993869,
          0.9097196747707121,
          0.8409676991796621,
          0.8501526726842973,
          0.882794430510882,
          0.949924208778164,
          0.8948893632764273,
          0.8169884081386971,
          0.8157478310669849,
          0.8552431954595946,
          0.8635937895149577,
          0.8723555403345292,
          0.9238829444225546,
          0.8915663313197831,
          0.8324470672000286,
          0.8075027459587238,
          0.8688648006646981,
          0.8290228213321071,
          0.9230552266949353,
          0.8896651988483862,
          0.9153967276598777,
          0.9433754621587741,
          0.9648497497710239,
          0.8874415359282443,
          0.9089064458020262,
          0.856360504450822,
          0.8527815043939309,
          0.9031693772920796
         ]
        },
        {
         "line": {
          "color": "rgba(15,209,132,1)",
          "width": 2
         },
         "mode": "lines",
         "name": "ϵ=1",
         "showlegend": true,
         "type": "scatter",
         "x": [
          1,
          1.01,
          1.02,
          1.03,
          1.04,
          1.05,
          1.06,
          1.07,
          1.08,
          1.09,
          1.1,
          1.11,
          1.12,
          1.13,
          1.14,
          1.15,
          1.16,
          1.1700000000000002,
          1.1800000000000002,
          1.1900000000000002,
          1.2000000000000002,
          1.2100000000000002,
          1.2200000000000002,
          1.2300000000000002,
          1.2400000000000002,
          1.2500000000000002,
          1.2600000000000002,
          1.2700000000000002,
          1.2800000000000002,
          1.2900000000000005,
          1.3000000000000005,
          1.3100000000000005,
          1.3200000000000005,
          1.3300000000000003,
          1.3400000000000003,
          1.3500000000000003,
          1.3600000000000003,
          1.3700000000000003,
          1.3800000000000003,
          1.3900000000000003,
          1.4000000000000004,
          1.4100000000000004,
          1.4200000000000004,
          1.4300000000000004,
          1.4400000000000004,
          1.4500000000000004,
          1.4600000000000004,
          1.4700000000000004,
          1.4800000000000004,
          1.4900000000000004,
          1.5000000000000004,
          1.5100000000000005,
          1.5200000000000005,
          1.5300000000000005,
          1.5400000000000005,
          1.5500000000000005,
          1.5600000000000005,
          1.5700000000000005,
          1.5800000000000003,
          1.5900000000000003,
          1.6000000000000003,
          1.6100000000000003,
          1.6200000000000006,
          1.6300000000000006,
          1.6400000000000006,
          1.6500000000000006,
          1.6600000000000006,
          1.6700000000000006,
          1.6800000000000006,
          1.6900000000000006,
          1.7000000000000006,
          1.7100000000000006,
          1.7200000000000006,
          1.7300000000000006,
          1.7400000000000009,
          1.7500000000000009,
          1.760000000000001,
          1.770000000000001,
          1.7800000000000007,
          1.7900000000000007,
          1.8000000000000007,
          1.8100000000000007,
          1.8200000000000007,
          1.8300000000000007,
          1.8400000000000007,
          1.8500000000000008,
          1.8600000000000008,
          1.8700000000000008,
          1.8800000000000008,
          1.8900000000000008,
          1.9000000000000008,
          1.9100000000000008,
          1.9200000000000008,
          1.9300000000000008,
          1.9400000000000008,
          1.9500000000000008,
          1.9600000000000009,
          1.9700000000000009,
          1.9800000000000009,
          1.9900000000000009
         ],
         "y": [
          1.07618455129322,
          1.0063671328671329,
          0.9397962037962039,
          1.0788524808524809,
          1.0471841491841491,
          0.9688263403263403,
          1.0015188145188145,
          0.9493391608391608,
          0.9735592740592741,
          0.9783414918414918,
          0.960547619047619,
          0.9642990342990344,
          0.994020313020313,
          1.02414652014652,
          1.0417610722610724,
          0.9611040626040627,
          1.0125184815184816,
          1.024956043956044,
          1.0508939393939394,
          0.9814107559107559,
          1.0613016983016983,
          1.0373220113220114,
          0.9680164835164835,
          0.9416423243423244,
          0.977455377955378,
          1.0030377955377956,
          1.059020979020979,
          0.9628682983682983,
          1.0250048285048285,
          0.9517455877455877,
          1.0225324675324676,
          1.0348268398268399,
          0.9488111888111888,
          0.9653686313686314,
          1.0483997668997669,
          1.0037545787545787,
          1.0097322677322678,
          0.9859860139860139,
          0.9840735930735931,
          0.9835769230769231,
          0.9899275724275723,
          0.9749598734598736,
          0.9566197136197135,
          1.0221097236097236,
          0.9854595404595404,
          0.9924652014652016,
          0.9628931068931068,
          1.0158021978021978,
          1.0055341325341325,
          1.004456376956377,
          0.9974961704961706,
          1.0150091575091575,
          0.9494045954045954,
          0.9932402597402598,
          1.0058732933732932,
          0.9944978687978688,
          1.0441502164502166,
          1.026757609057609,
          1.0112599067599068,
          0.9486443556443557,
          1.0588463203463205,
          0.9513238428238429,
          1.0312102897102897,
          1.0082282717282718,
          1.046027306027306,
          0.9454658674658675,
          1.0383563103563103,
          0.9603902763902764,
          0.9911300366300366,
          1.0271327006327005,
          1.0021954711954713,
          0.9315386280386281,
          0.9941694971694972,
          1.0102595737595736,
          1.0146396936396935,
          0.9638253413253414,
          0.9281746586746586,
          0.9741247752247753,
          1.0808476523476525,
          1.0037607392607393,
          0.9746941391941392,
          1.0326302031302033,
          1.0193083583083582,
          1.0463948051948053,
          0.983488344988345,
          0.987520979020979,
          1.0160914085914086,
          1.0118479853479854,
          0.970473692973693,
          1.0104395604395604,
          1.0632692307692306,
          0.96844338994339,
          1.0233123543123543,
          0.9889282384282384,
          0.984989343989344,
          0.9943203463203463,
          0.9963752913752913,
          0.9960198135198135,
          0.9685859140859141,
          0.9745897435897435
         ]
        },
        {
         "line": {
          "color": "rgba(15,209,132,0.25)",
          "width": 2
         },
         "mode": "lines",
         "showlegend": false,
         "type": "scatter",
         "x": [
          1,
          1.01,
          1.02,
          1.03,
          1.04,
          1.05,
          1.06,
          1.07,
          1.08,
          1.09,
          1.1,
          1.11,
          1.12,
          1.13,
          1.14,
          1.15,
          1.16,
          1.1700000000000002,
          1.1800000000000002,
          1.1900000000000002,
          1.2000000000000002,
          1.2100000000000002,
          1.2200000000000002,
          1.2300000000000002,
          1.2400000000000002,
          1.2500000000000002,
          1.2600000000000002,
          1.2700000000000002,
          1.2800000000000002,
          1.2900000000000005,
          1.3000000000000005,
          1.3100000000000005,
          1.3200000000000005,
          1.3300000000000003,
          1.3400000000000003,
          1.3500000000000003,
          1.3600000000000003,
          1.3700000000000003,
          1.3800000000000003,
          1.3900000000000003,
          1.4000000000000004,
          1.4100000000000004,
          1.4200000000000004,
          1.4300000000000004,
          1.4400000000000004,
          1.4500000000000004,
          1.4600000000000004,
          1.4700000000000004,
          1.4800000000000004,
          1.4900000000000004,
          1.5000000000000004,
          1.5100000000000005,
          1.5200000000000005,
          1.5300000000000005,
          1.5400000000000005,
          1.5500000000000005,
          1.5600000000000005,
          1.5700000000000005,
          1.5800000000000003,
          1.5900000000000003,
          1.6000000000000003,
          1.6100000000000003,
          1.6200000000000006,
          1.6300000000000006,
          1.6400000000000006,
          1.6500000000000006,
          1.6600000000000006,
          1.6700000000000006,
          1.6800000000000006,
          1.6900000000000006,
          1.7000000000000006,
          1.7100000000000006,
          1.7200000000000006,
          1.7300000000000006,
          1.7400000000000009,
          1.7500000000000009,
          1.760000000000001,
          1.770000000000001,
          1.7800000000000007,
          1.7900000000000007,
          1.8000000000000007,
          1.8100000000000007,
          1.8200000000000007,
          1.8300000000000007,
          1.8400000000000007,
          1.8500000000000008,
          1.8600000000000008,
          1.8700000000000008,
          1.8800000000000008,
          1.8900000000000008,
          1.9000000000000008,
          1.9100000000000008,
          1.9200000000000008,
          1.9300000000000008,
          1.9400000000000008,
          1.9500000000000008,
          1.9600000000000009,
          1.9700000000000009,
          1.9800000000000009,
          1.9900000000000009
         ],
         "y": [
          1.0815589569403268,
          1.0116907298964037,
          0.9452844411283009,
          1.0841720785053404,
          1.0522164174637794,
          0.973937888910981,
          1.0069285322447212,
          0.9544894814880478,
          0.9792447963234929,
          0.9834910893077063,
          0.9656279721606633,
          0.9694807392671644,
          0.9991136222846131,
          1.0293019035291118,
          1.0469326447203025,
          0.9662160349760363,
          1.0178262672035356,
          1.0302506356305898,
          1.0562324373162872,
          0.9867575746696392,
          1.0665785736281717,
          1.0425736163834702,
          0.9732964394797718,
          0.947014860692045,
          0.9827807610639059,
          1.0087278558247876,
          1.0643563360716344,
          0.968149719988627,
          1.0303085228330007,
          0.957551190338182,
          1.027756079438827,
          1.0403848654230097,
          0.9541543156889515,
          0.9704495351768228,
          1.0538837036991473,
          1.0091060098888958,
          1.0151155034964023,
          0.9913512172174557,
          0.9895840776531996,
          0.9892415836343628,
          0.9956768170610848,
          0.9803441546578618,
          0.9619277183836127,
          1.027361749613486,
          0.9906881335146248,
          0.9978586765440942,
          0.9682816406357085,
          1.0211391792649749,
          1.010744512351799,
          1.010001937563173,
          1.0027610695707738,
          1.0204619028100304,
          0.9546969816666828,
          0.9986959946042695,
          1.0113712922374791,
          0.9999852329316902,
          1.0494655166986093,
          1.0321183185171277,
          1.0166990034831511,
          0.9541174648466575,
          1.0642825538451819,
          0.9568228177200314,
          1.0369167228592997,
          1.0134787976865507,
          1.0510906612604736,
          0.9510309961639974,
          1.0437193381937755,
          0.9655561834330899,
          0.9968381825997052,
          1.0322517957371664,
          1.00754175109909,
          0.9369810525563793,
          0.9994636221740376,
          1.015689606552436,
          1.0204144321234627,
          0.9690920285471943,
          0.933482165456896,
          0.9794909982075647,
          1.086092670103419,
          1.0093219074353181,
          0.979698253556491,
          1.0377425999975436,
          1.0248922977797315,
          1.0517020745526264,
          0.9888163912714231,
          0.9926358374083196,
          1.0213057982828706,
          1.017134368515013,
          0.9755152734630356,
          1.0163931950019243,
          1.068624245045078,
          0.973971974359805,
          1.0290133307126446,
          0.9940451399459261,
          0.990414363862274,
          0.9996179348826435,
          1.0021923648219608,
          1.0015186068923556,
          0.9738190301951616,
          0.9801158697598119
         ]
        },
        {
         "fill": "tonexty",
         "fillcolor": "rgba(68, 68, 68, 0.2)",
         "line": {
          "color": "rgba(15,209,132,0.25)",
          "width": 2
         },
         "mode": "lines",
         "showlegend": false,
         "type": "scatter",
         "x": [
          1,
          1.01,
          1.02,
          1.03,
          1.04,
          1.05,
          1.06,
          1.07,
          1.08,
          1.09,
          1.1,
          1.11,
          1.12,
          1.13,
          1.14,
          1.15,
          1.16,
          1.1700000000000002,
          1.1800000000000002,
          1.1900000000000002,
          1.2000000000000002,
          1.2100000000000002,
          1.2200000000000002,
          1.2300000000000002,
          1.2400000000000002,
          1.2500000000000002,
          1.2600000000000002,
          1.2700000000000002,
          1.2800000000000002,
          1.2900000000000005,
          1.3000000000000005,
          1.3100000000000005,
          1.3200000000000005,
          1.3300000000000003,
          1.3400000000000003,
          1.3500000000000003,
          1.3600000000000003,
          1.3700000000000003,
          1.3800000000000003,
          1.3900000000000003,
          1.4000000000000004,
          1.4100000000000004,
          1.4200000000000004,
          1.4300000000000004,
          1.4400000000000004,
          1.4500000000000004,
          1.4600000000000004,
          1.4700000000000004,
          1.4800000000000004,
          1.4900000000000004,
          1.5000000000000004,
          1.5100000000000005,
          1.5200000000000005,
          1.5300000000000005,
          1.5400000000000005,
          1.5500000000000005,
          1.5600000000000005,
          1.5700000000000005,
          1.5800000000000003,
          1.5900000000000003,
          1.6000000000000003,
          1.6100000000000003,
          1.6200000000000006,
          1.6300000000000006,
          1.6400000000000006,
          1.6500000000000006,
          1.6600000000000006,
          1.6700000000000006,
          1.6800000000000006,
          1.6900000000000006,
          1.7000000000000006,
          1.7100000000000006,
          1.7200000000000006,
          1.7300000000000006,
          1.7400000000000009,
          1.7500000000000009,
          1.760000000000001,
          1.770000000000001,
          1.7800000000000007,
          1.7900000000000007,
          1.8000000000000007,
          1.8100000000000007,
          1.8200000000000007,
          1.8300000000000007,
          1.8400000000000007,
          1.8500000000000008,
          1.8600000000000008,
          1.8700000000000008,
          1.8800000000000008,
          1.8900000000000008,
          1.9000000000000008,
          1.9100000000000008,
          1.9200000000000008,
          1.9300000000000008,
          1.9400000000000008,
          1.9500000000000008,
          1.9600000000000009,
          1.9700000000000009,
          1.9800000000000009,
          1.9900000000000009
         ],
         "y": [
          1.0708101456461132,
          1.001043535837862,
          0.9343079664641069,
          1.0735328831996214,
          1.042151880904519,
          0.9637147917416996,
          0.9961090967929077,
          0.9441888401902738,
          0.9678737517950553,
          0.9731918943752772,
          0.9554672659345746,
          0.9591173293309044,
          0.988927003756013,
          1.0189911367639284,
          1.0365894998018423,
          0.9559920902320891,
          1.0072106958334275,
          1.019661452281498,
          1.0455554414715915,
          0.9760639371518726,
          1.056024822975225,
          1.0320704062605526,
          0.9627365275531952,
          0.9362697879926039,
          0.97212999484685,
          0.9973477352508036,
          1.0536856219703237,
          0.9575868767479697,
          1.0197011341766564,
          0.9459399851529934,
          1.0173088556261083,
          1.02926881423067,
          0.943468061933426,
          0.96028772756044,
          1.0429158301003865,
          0.9984031476202618,
          1.0043490319681332,
          0.9806208107545722,
          0.9785631084939866,
          0.9779122625194835,
          0.9841783277940599,
          0.9695755922618853,
          0.9513117088558144,
          1.0168576976059613,
          0.980230947404456,
          0.9870717263863089,
          0.9575045731505051,
          1.0104652163394208,
          1.000323752716466,
          0.9989108163495809,
          0.9922312714215673,
          1.0095564122082847,
          0.944112209142508,
          0.98778452487625,
          1.0003752945091073,
          0.9890105046640475,
          1.0388349162018238,
          1.0213968995980902,
          1.0058208100366626,
          0.9431712464420539,
          1.0534100868474592,
          0.9458248679276543,
          1.0255038565612797,
          1.0029777457699929,
          1.0409639507941384,
          0.9399007387677375,
          1.032993282518845,
          0.9552243693474629,
          0.985421890660368,
          1.0220136055282345,
          0.9968491912918523,
          0.9260962035208768,
          0.9888753721649568,
          1.0048295409667114,
          1.0088649551559243,
          0.9585586541034884,
          0.9228671518924213,
          0.9687585522419858,
          1.0756026345918859,
          0.9981995710861604,
          0.9696900248317873,
          1.027517806262863,
          1.013724418836985,
          1.0410875358369842,
          0.978160298705267,
          0.9824061206336384,
          1.0108770188999465,
          1.0065616021809578,
          0.9654321124843505,
          1.0044859258771965,
          1.0579142164933832,
          0.962914805526975,
          1.0176113779120641,
          0.9838113369105507,
          0.979564324116414,
          0.989022757758049,
          0.9905582179286219,
          0.9905210201472714,
          0.9633527979766666,
          0.9690636174196751
         ]
        }
       ],
       "layout": {
        "annotations": [
         {
          "showarrow": false,
          "text": "Even exposure",
          "x": 1,
          "xanchor": "right",
          "xref": "x domain",
          "y": 1,
          "yanchor": "bottom",
          "yref": "y"
         },
         {
          "showarrow": false,
          "text": "ρ=1: no bias",
          "x": 1,
          "xanchor": "left",
          "xref": "x",
          "y": 1,
          "yanchor": "top",
          "yref": "y domain"
         }
        ],
        "font": {
         "size": 18
        },
        "height": 500,
        "legend": {
         "title": {
          "text": ""
         },
         "x": 0.75,
         "y": 0.95
        },
        "margin": {
         "b": 5,
         "l": 5,
         "r": 5,
         "t": 5
        },
        "plot_bgcolor": "rgba(0,0,0,0)",
        "shapes": [
         {
          "line": {
           "width": 1
          },
          "type": "line",
          "x0": 0,
          "x1": 1,
          "xref": "x domain",
          "y0": 1,
          "y1": 1,
          "yref": "y"
         },
         {
          "line": {
           "width": 1
          },
          "type": "line",
          "x0": 1,
          "x1": 1,
          "xref": "x",
          "y0": 0,
          "y1": 1,
          "yref": "y domain"
         }
        ],
        "showlegend": true,
        "template": {
         "data": {
          "bar": [
           {
            "error_x": {
             "color": "#2a3f5f"
            },
            "error_y": {
             "color": "#2a3f5f"
            },
            "marker": {
             "line": {
              "color": "#E5ECF6",
              "width": 0.5
             },
             "pattern": {
              "fillmode": "overlay",
              "size": 10,
              "solidity": 0.2
             }
            },
            "type": "bar"
           }
          ],
          "barpolar": [
           {
            "marker": {
             "line": {
              "color": "#E5ECF6",
              "width": 0.5
             },
             "pattern": {
              "fillmode": "overlay",
              "size": 10,
              "solidity": 0.2
             }
            },
            "type": "barpolar"
           }
          ],
          "carpet": [
           {
            "aaxis": {
             "endlinecolor": "#2a3f5f",
             "gridcolor": "white",
             "linecolor": "white",
             "minorgridcolor": "white",
             "startlinecolor": "#2a3f5f"
            },
            "baxis": {
             "endlinecolor": "#2a3f5f",
             "gridcolor": "white",
             "linecolor": "white",
             "minorgridcolor": "white",
             "startlinecolor": "#2a3f5f"
            },
            "type": "carpet"
           }
          ],
          "choropleth": [
           {
            "colorbar": {
             "outlinewidth": 0,
             "ticks": ""
            },
            "type": "choropleth"
           }
          ],
          "contour": [
           {
            "colorbar": {
             "outlinewidth": 0,
             "ticks": ""
            },
            "colorscale": [
             [
              0,
              "#0d0887"
             ],
             [
              0.1111111111111111,
              "#46039f"
             ],
             [
              0.2222222222222222,
              "#7201a8"
             ],
             [
              0.3333333333333333,
              "#9c179e"
             ],
             [
              0.4444444444444444,
              "#bd3786"
             ],
             [
              0.5555555555555556,
              "#d8576b"
             ],
             [
              0.6666666666666666,
              "#ed7953"
             ],
             [
              0.7777777777777778,
              "#fb9f3a"
             ],
             [
              0.8888888888888888,
              "#fdca26"
             ],
             [
              1,
              "#f0f921"
             ]
            ],
            "type": "contour"
           }
          ],
          "contourcarpet": [
           {
            "colorbar": {
             "outlinewidth": 0,
             "ticks": ""
            },
            "type": "contourcarpet"
           }
          ],
          "heatmap": [
           {
            "colorbar": {
             "outlinewidth": 0,
             "ticks": ""
            },
            "colorscale": [
             [
              0,
              "#0d0887"
             ],
             [
              0.1111111111111111,
              "#46039f"
             ],
             [
              0.2222222222222222,
              "#7201a8"
             ],
             [
              0.3333333333333333,
              "#9c179e"
             ],
             [
              0.4444444444444444,
              "#bd3786"
             ],
             [
              0.5555555555555556,
              "#d8576b"
             ],
             [
              0.6666666666666666,
              "#ed7953"
             ],
             [
              0.7777777777777778,
              "#fb9f3a"
             ],
             [
              0.8888888888888888,
              "#fdca26"
             ],
             [
              1,
              "#f0f921"
             ]
            ],
            "type": "heatmap"
           }
          ],
          "heatmapgl": [
           {
            "colorbar": {
             "outlinewidth": 0,
             "ticks": ""
            },
            "colorscale": [
             [
              0,
              "#0d0887"
             ],
             [
              0.1111111111111111,
              "#46039f"
             ],
             [
              0.2222222222222222,
              "#7201a8"
             ],
             [
              0.3333333333333333,
              "#9c179e"
             ],
             [
              0.4444444444444444,
              "#bd3786"
             ],
             [
              0.5555555555555556,
              "#d8576b"
             ],
             [
              0.6666666666666666,
              "#ed7953"
             ],
             [
              0.7777777777777778,
              "#fb9f3a"
             ],
             [
              0.8888888888888888,
              "#fdca26"
             ],
             [
              1,
              "#f0f921"
             ]
            ],
            "type": "heatmapgl"
           }
          ],
          "histogram": [
           {
            "marker": {
             "pattern": {
              "fillmode": "overlay",
              "size": 10,
              "solidity": 0.2
             }
            },
            "type": "histogram"
           }
          ],
          "histogram2d": [
           {
            "colorbar": {
             "outlinewidth": 0,
             "ticks": ""
            },
            "colorscale": [
             [
              0,
              "#0d0887"
             ],
             [
              0.1111111111111111,
              "#46039f"
             ],
             [
              0.2222222222222222,
              "#7201a8"
             ],
             [
              0.3333333333333333,
              "#9c179e"
             ],
             [
              0.4444444444444444,
              "#bd3786"
             ],
             [
              0.5555555555555556,
              "#d8576b"
             ],
             [
              0.6666666666666666,
              "#ed7953"
             ],
             [
              0.7777777777777778,
              "#fb9f3a"
             ],
             [
              0.8888888888888888,
              "#fdca26"
             ],
             [
              1,
              "#f0f921"
             ]
            ],
            "type": "histogram2d"
           }
          ],
          "histogram2dcontour": [
           {
            "colorbar": {
             "outlinewidth": 0,
             "ticks": ""
            },
            "colorscale": [
             [
              0,
              "#0d0887"
             ],
             [
              0.1111111111111111,
              "#46039f"
             ],
             [
              0.2222222222222222,
              "#7201a8"
             ],
             [
              0.3333333333333333,
              "#9c179e"
             ],
             [
              0.4444444444444444,
              "#bd3786"
             ],
             [
              0.5555555555555556,
              "#d8576b"
             ],
             [
              0.6666666666666666,
              "#ed7953"
             ],
             [
              0.7777777777777778,
              "#fb9f3a"
             ],
             [
              0.8888888888888888,
              "#fdca26"
             ],
             [
              1,
              "#f0f921"
             ]
            ],
            "type": "histogram2dcontour"
           }
          ],
          "mesh3d": [
           {
            "colorbar": {
             "outlinewidth": 0,
             "ticks": ""
            },
            "type": "mesh3d"
           }
          ],
          "parcoords": [
           {
            "line": {
             "colorbar": {
              "outlinewidth": 0,
              "ticks": ""
             }
            },
            "type": "parcoords"
           }
          ],
          "pie": [
           {
            "automargin": true,
            "type": "pie"
           }
          ],
          "scatter": [
           {
            "fillpattern": {
             "fillmode": "overlay",
             "size": 10,
             "solidity": 0.2
            },
            "type": "scatter"
           }
          ],
          "scatter3d": [
           {
            "line": {
             "colorbar": {
              "outlinewidth": 0,
              "ticks": ""
             }
            },
            "marker": {
             "colorbar": {
              "outlinewidth": 0,
              "ticks": ""
             }
            },
            "type": "scatter3d"
           }
          ],
          "scattercarpet": [
           {
            "marker": {
             "colorbar": {
              "outlinewidth": 0,
              "ticks": ""
             }
            },
            "type": "scattercarpet"
           }
          ],
          "scattergeo": [
           {
            "marker": {
             "colorbar": {
              "outlinewidth": 0,
              "ticks": ""
             }
            },
            "type": "scattergeo"
           }
          ],
          "scattergl": [
           {
            "marker": {
             "colorbar": {
              "outlinewidth": 0,
              "ticks": ""
             }
            },
            "type": "scattergl"
           }
          ],
          "scattermapbox": [
           {
            "marker": {
             "colorbar": {
              "outlinewidth": 0,
              "ticks": ""
             }
            },
            "type": "scattermapbox"
           }
          ],
          "scatterpolar": [
           {
            "marker": {
             "colorbar": {
              "outlinewidth": 0,
              "ticks": ""
             }
            },
            "type": "scatterpolar"
           }
          ],
          "scatterpolargl": [
           {
            "marker": {
             "colorbar": {
              "outlinewidth": 0,
              "ticks": ""
             }
            },
            "type": "scatterpolargl"
           }
          ],
          "scatterternary": [
           {
            "marker": {
             "colorbar": {
              "outlinewidth": 0,
              "ticks": ""
             }
            },
            "type": "scatterternary"
           }
          ],
          "surface": [
           {
            "colorbar": {
             "outlinewidth": 0,
             "ticks": ""
            },
            "colorscale": [
             [
              0,
              "#0d0887"
             ],
             [
              0.1111111111111111,
              "#46039f"
             ],
             [
              0.2222222222222222,
              "#7201a8"
             ],
             [
              0.3333333333333333,
              "#9c179e"
             ],
             [
              0.4444444444444444,
              "#bd3786"
             ],
             [
              0.5555555555555556,
              "#d8576b"
             ],
             [
              0.6666666666666666,
              "#ed7953"
             ],
             [
              0.7777777777777778,
              "#fb9f3a"
             ],
             [
              0.8888888888888888,
              "#fdca26"
             ],
             [
              1,
              "#f0f921"
             ]
            ],
            "type": "surface"
           }
          ],
          "table": [
           {
            "cells": {
             "fill": {
              "color": "#EBF0F8"
             },
             "line": {
              "color": "white"
             }
            },
            "header": {
             "fill": {
              "color": "#C8D4E3"
             },
             "line": {
              "color": "white"
             }
            },
            "type": "table"
           }
          ]
         },
         "layout": {
          "annotationdefaults": {
           "arrowcolor": "#2a3f5f",
           "arrowhead": 0,
           "arrowwidth": 1
          },
          "autotypenumbers": "strict",
          "coloraxis": {
           "colorbar": {
            "outlinewidth": 0,
            "ticks": ""
           }
          },
          "colorscale": {
           "diverging": [
            [
             0,
             "#8e0152"
            ],
            [
             0.1,
             "#c51b7d"
            ],
            [
             0.2,
             "#de77ae"
            ],
            [
             0.3,
             "#f1b6da"
            ],
            [
             0.4,
             "#fde0ef"
            ],
            [
             0.5,
             "#f7f7f7"
            ],
            [
             0.6,
             "#e6f5d0"
            ],
            [
             0.7,
             "#b8e186"
            ],
            [
             0.8,
             "#7fbc41"
            ],
            [
             0.9,
             "#4d9221"
            ],
            [
             1,
             "#276419"
            ]
           ],
           "sequential": [
            [
             0,
             "#0d0887"
            ],
            [
             0.1111111111111111,
             "#46039f"
            ],
            [
             0.2222222222222222,
             "#7201a8"
            ],
            [
             0.3333333333333333,
             "#9c179e"
            ],
            [
             0.4444444444444444,
             "#bd3786"
            ],
            [
             0.5555555555555556,
             "#d8576b"
            ],
            [
             0.6666666666666666,
             "#ed7953"
            ],
            [
             0.7777777777777778,
             "#fb9f3a"
            ],
            [
             0.8888888888888888,
             "#fdca26"
            ],
            [
             1,
             "#f0f921"
            ]
           ],
           "sequentialminus": [
            [
             0,
             "#0d0887"
            ],
            [
             0.1111111111111111,
             "#46039f"
            ],
            [
             0.2222222222222222,
             "#7201a8"
            ],
            [
             0.3333333333333333,
             "#9c179e"
            ],
            [
             0.4444444444444444,
             "#bd3786"
            ],
            [
             0.5555555555555556,
             "#d8576b"
            ],
            [
             0.6666666666666666,
             "#ed7953"
            ],
            [
             0.7777777777777778,
             "#fb9f3a"
            ],
            [
             0.8888888888888888,
             "#fdca26"
            ],
            [
             1,
             "#f0f921"
            ]
           ]
          },
          "colorway": [
           "#636efa",
           "#EF553B",
           "#00cc96",
           "#ab63fa",
           "#FFA15A",
           "#19d3f3",
           "#FF6692",
           "#B6E880",
           "#FF97FF",
           "#FECB52"
          ],
          "font": {
           "color": "#2a3f5f"
          },
          "geo": {
           "bgcolor": "white",
           "lakecolor": "white",
           "landcolor": "#E5ECF6",
           "showlakes": true,
           "showland": true,
           "subunitcolor": "white"
          },
          "hoverlabel": {
           "align": "left"
          },
          "hovermode": "closest",
          "mapbox": {
           "style": "light"
          },
          "paper_bgcolor": "white",
          "plot_bgcolor": "#E5ECF6",
          "polar": {
           "angularaxis": {
            "gridcolor": "white",
            "linecolor": "white",
            "ticks": ""
           },
           "bgcolor": "#E5ECF6",
           "radialaxis": {
            "gridcolor": "white",
            "linecolor": "white",
            "ticks": ""
           }
          },
          "scene": {
           "xaxis": {
            "backgroundcolor": "#E5ECF6",
            "gridcolor": "white",
            "gridwidth": 2,
            "linecolor": "white",
            "showbackground": true,
            "ticks": "",
            "zerolinecolor": "white"
           },
           "yaxis": {
            "backgroundcolor": "#E5ECF6",
            "gridcolor": "white",
            "gridwidth": 2,
            "linecolor": "white",
            "showbackground": true,
            "ticks": "",
            "zerolinecolor": "white"
           },
           "zaxis": {
            "backgroundcolor": "#E5ECF6",
            "gridcolor": "white",
            "gridwidth": 2,
            "linecolor": "white",
            "showbackground": true,
            "ticks": "",
            "zerolinecolor": "white"
           }
          },
          "shapedefaults": {
           "line": {
            "color": "#2a3f5f"
           }
          },
          "ternary": {
           "aaxis": {
            "gridcolor": "white",
            "linecolor": "white",
            "ticks": ""
           },
           "baxis": {
            "gridcolor": "white",
            "linecolor": "white",
            "ticks": ""
           },
           "bgcolor": "#E5ECF6",
           "caxis": {
            "gridcolor": "white",
            "linecolor": "white",
            "ticks": ""
           }
          },
          "title": {
           "x": 0.05
          },
          "xaxis": {
           "automargin": true,
           "gridcolor": "white",
           "linecolor": "white",
           "ticks": "",
           "title": {
            "standoff": 15
           },
           "zerolinecolor": "white",
           "zerolinewidth": 2
          },
          "yaxis": {
           "automargin": true,
           "gridcolor": "white",
           "linecolor": "white",
           "ticks": "",
           "title": {
            "standoff": 15
           },
           "zerolinecolor": "white",
           "zerolinewidth": 2
          }
         }
        },
        "title": {},
        "width": 500,
        "xaxis": {
         "linecolor": "rgb(0,0,0)",
         "linewidth": 2,
         "range": [
          0.5,
          2
         ],
         "showgrid": false,
         "showline": true,
         "title": {
          "text": "Rho"
         }
        },
        "yaxis": {
         "linecolor": "rgb(0,0,0)",
         "linewidth": 2,
         "range": [
          0.5,
          1.5
         ],
         "showgrid": false,
         "showline": true,
         "title": {
          "text": "Exposure"
         }
        }
       }
      }
     },
     "metadata": {},
     "output_type": "display_data"
    }
   ],
   "source": [
    "\n",
    "Exposure_rho_epsilon1 = plotly_lines.plot_MTO_sim_results(plotly_lines(), data=df_rho[df_rho['epsilon'] == 1], x_var='rho', y_var='Exposure', x_range=[0.5,2], y_range=[0,1], x_title='rho', y_title='Exposure', with_predicted=False, colors=['rgba(15,209,132,1)'], legend_text='ϵ=1')\n",
    "\n",
    "Exposure_rho_epsilon125 = plotly_lines.plot_MTO_sim_results(plotly_lines(), data=df_rho[df_rho['epsilon'] == 1.25], x_var='rho', y_var='Exposure', x_range=[0.5,2], y_range=[0,1], x_title='rho', y_title='Exposure', with_predicted=False, colors=['rgba(15,170,100,1)'], legend_text='ϵ=1.25')\n",
    "\n",
    "Exposure_rho_epsilon15 = plotly_lines.plot_MTO_sim_results(plotly_lines(), data=df_rho[df_rho['epsilon'] == 1.5], x_var='rho', y_var='Exposure', x_range=[0.5,2], y_range=[0,1], x_title='rho', y_title='Exposure', with_predicted=False, colors=['rgba(15,100,50,1)'], legend_text='ϵ=1.5')\n",
    "\n",
    "\n",
    "fig_Exposure_rho = go.Figure(data = Exposure_rho_epsilon15.data + Exposure_rho_epsilon125.data + Exposure_rho_epsilon1.data)\n",
    "\n",
    "fig_Exposure_rho.update_layout(\n",
    "    title = None, \n",
    "    font=dict(size = 18),\n",
    "    xaxis_title = 'Rho', \n",
    "    yaxis_title = 'Exposure',\n",
    "    width = 500, height = 500,\n",
    "    showlegend = True, \n",
    "    legend=dict(x=0.75,y=0.95),\n",
    "    legend_title_text = '',\n",
    "    xaxis_range = [0.5,2],\n",
    "    yaxis_range = [0.5,1.5],\n",
    "    margin=dict(b=5,l=5,r=5,t=5),\n",
    "    xaxis = dict(showgrid = False, showline = True, linecolor = 'rgb(0,0,0)', linewidth = 2), \n",
    "    yaxis = dict(showgrid = False, showline = True, linecolor = 'rgb(0,0,0)', linewidth = 2),\n",
    "    plot_bgcolor='rgba(0,0,0,0)')\n",
    "\n",
    "\n",
    "fig_Exposure_rho.add_hline(y=1, line_width=1, annotation_text = 'Even exposure')\n",
    "fig_Exposure_rho.add_vline(x=1, line_width=1, annotation_text = 'ρ=1: no bias')\n",
    "\n",
    "\n"
   ]
  },
  {
   "attachments": {},
   "cell_type": "markdown",
   "metadata": {},
   "source": [
    "### Rho Friending"
   ]
  },
  {
   "cell_type": "code",
   "execution_count": 189,
   "metadata": {},
   "outputs": [
    {
     "data": {
      "application/vnd.plotly.v1+json": {
       "config": {
        "plotlyServerURL": "https://plot.ly"
       },
       "data": [
        {
         "line": {
          "color": "rgba(224,116,0,1)",
          "width": 2
         },
         "mode": "lines",
         "name": "Realised",
         "showlegend": true,
         "type": "scatter",
         "x": [
          1,
          1.01,
          1.02,
          1.03,
          1.04,
          1.05,
          1.06,
          1.07,
          1.08,
          1.09,
          1.1,
          1.11,
          1.12,
          1.13,
          1.14,
          1.15,
          1.16,
          1.1700000000000002,
          1.1800000000000002,
          1.1900000000000002,
          1.2000000000000002,
          1.2100000000000002,
          1.2200000000000002,
          1.2300000000000002,
          1.2400000000000002,
          1.2500000000000002,
          1.2600000000000002,
          1.2700000000000002,
          1.2800000000000002,
          1.2900000000000005,
          1.3000000000000005,
          1.3100000000000005,
          1.3200000000000005,
          1.3300000000000003,
          1.3400000000000003,
          1.3500000000000003,
          1.3600000000000003,
          1.3700000000000003,
          1.3800000000000003,
          1.3900000000000003,
          1.4000000000000004,
          1.4100000000000004,
          1.4200000000000004,
          1.4300000000000004,
          1.4400000000000004,
          1.4500000000000004,
          1.4600000000000004,
          1.4700000000000004,
          1.4800000000000004,
          1.4900000000000004,
          1.5000000000000004,
          1.5100000000000005,
          1.5200000000000005,
          1.5300000000000005,
          1.5400000000000005,
          1.5500000000000005,
          1.5600000000000005,
          1.5700000000000005,
          1.5800000000000003,
          1.5900000000000003,
          1.6000000000000003,
          1.6100000000000003,
          1.6200000000000006,
          1.6300000000000006,
          1.6400000000000006,
          1.6500000000000006,
          1.6600000000000006,
          1.6700000000000006,
          1.6800000000000006,
          1.6900000000000006,
          1.7000000000000006,
          1.7100000000000006,
          1.7200000000000006,
          1.7300000000000006,
          1.7400000000000009,
          1.7500000000000009,
          1.760000000000001,
          1.770000000000001,
          1.7800000000000007,
          1.7900000000000007,
          1.8000000000000007,
          1.8100000000000007,
          1.8200000000000007,
          1.8300000000000007,
          1.8400000000000007,
          1.8500000000000008,
          1.8600000000000008,
          1.8700000000000008,
          1.8800000000000008,
          1.8900000000000008,
          1.9000000000000008,
          1.9100000000000008,
          1.9200000000000008,
          1.9300000000000008,
          1.9400000000000008,
          1.9500000000000008,
          1.9600000000000009,
          1.9700000000000009,
          1.9800000000000009,
          1.9900000000000009
         ],
         "y": [
          0.9262865467865469,
          0.9256091568154069,
          0.9272727732203695,
          0.9277155677655679,
          0.9278185791060791,
          0.927795094951345,
          0.928750952982203,
          0.9294147030747031,
          0.9291170052170052,
          0.9299932972120472,
          0.9293277554390055,
          0.9299537875087875,
          0.9312085627335628,
          0.931686646795965,
          0.9315253557637648,
          0.932501317697454,
          0.9330344388327722,
          0.9330783428762595,
          0.9335976069090842,
          0.9329912806851268,
          0.9336570554908056,
          0.9336390467613195,
          0.9340221445095309,
          0.9346988540654071,
          0.9352682955386364,
          0.9349596033904368,
          0.935517895059486,
          0.9362328091402145,
          0.9363581853868433,
          0.9369290235073569,
          0.9367686232720702,
          0.9369593426789261,
          0.9374749469347022,
          0.9383241551637195,
          0.9374234819781789,
          0.9396845472681078,
          0.9401295386501826,
          0.9398128462656872,
          0.9391303033442427,
          0.9401657339756203,
          0.9397391943044731,
          0.9404646593501896,
          0.9398211058848559,
          0.9423576248933445,
          0.9413285183005827,
          0.9407986056844391,
          0.942172751294721,
          0.9418448306456451,
          0.9406200550309479,
          0.9427538887639537,
          0.9419757991965946,
          0.9430523184531517,
          0.9431930531135131,
          0.9424537854991129,
          0.9431044700600626,
          0.9437780541764632,
          0.9447022419897122,
          0.9438025714563215,
          0.9447650412025845,
          0.9441392873406456,
          0.9452378191232168,
          0.9452456616493575,
          0.944740962989832,
          0.9460537701480017,
          0.9444932128023091,
          0.9464162103372817,
          0.9460307000519121,
          0.9478121162402413,
          0.9467788497851756,
          0.9481289396057687,
          0.9466969646904522,
          0.9465482271516363,
          0.9490290313842803,
          0.9473280579759746,
          0.9489938639563098,
          0.9472525404770995,
          0.948794819247111,
          0.9470343832744536,
          0.948724882318359,
          0.9508871938225916,
          0.9473082530751876,
          0.9470471146870606,
          0.9500141334178889,
          0.9503243193854206,
          0.9490835033428973,
          0.9518007000792418,
          0.9504858915368142,
          0.951002385892927,
          0.9505736087952051,
          0.9491316194211432,
          0.950838106672368,
          0.9513772667863442,
          0.9498197541276464,
          0.9516341408035808,
          0.9514450093689379,
          0.9523012819389606,
          0.9524313271876232,
          0.9522886819408545,
          0.9526789775678466,
          0.9533624786980496
         ]
        },
        {
         "line": {
          "color": "rgba(224,116,0,0.25)",
          "width": 2
         },
         "mode": "lines",
         "showlegend": false,
         "type": "scatter",
         "x": [
          1,
          1.01,
          1.02,
          1.03,
          1.04,
          1.05,
          1.06,
          1.07,
          1.08,
          1.09,
          1.1,
          1.11,
          1.12,
          1.13,
          1.14,
          1.15,
          1.16,
          1.1700000000000002,
          1.1800000000000002,
          1.1900000000000002,
          1.2000000000000002,
          1.2100000000000002,
          1.2200000000000002,
          1.2300000000000002,
          1.2400000000000002,
          1.2500000000000002,
          1.2600000000000002,
          1.2700000000000002,
          1.2800000000000002,
          1.2900000000000005,
          1.3000000000000005,
          1.3100000000000005,
          1.3200000000000005,
          1.3300000000000003,
          1.3400000000000003,
          1.3500000000000003,
          1.3600000000000003,
          1.3700000000000003,
          1.3800000000000003,
          1.3900000000000003,
          1.4000000000000004,
          1.4100000000000004,
          1.4200000000000004,
          1.4300000000000004,
          1.4400000000000004,
          1.4500000000000004,
          1.4600000000000004,
          1.4700000000000004,
          1.4800000000000004,
          1.4900000000000004,
          1.5000000000000004,
          1.5100000000000005,
          1.5200000000000005,
          1.5300000000000005,
          1.5400000000000005,
          1.5500000000000005,
          1.5600000000000005,
          1.5700000000000005,
          1.5800000000000003,
          1.5900000000000003,
          1.6000000000000003,
          1.6100000000000003,
          1.6200000000000006,
          1.6300000000000006,
          1.6400000000000006,
          1.6500000000000006,
          1.6600000000000006,
          1.6700000000000006,
          1.6800000000000006,
          1.6900000000000006,
          1.7000000000000006,
          1.7100000000000006,
          1.7200000000000006,
          1.7300000000000006,
          1.7400000000000009,
          1.7500000000000009,
          1.760000000000001,
          1.770000000000001,
          1.7800000000000007,
          1.7900000000000007,
          1.8000000000000007,
          1.8100000000000007,
          1.8200000000000007,
          1.8300000000000007,
          1.8400000000000007,
          1.8500000000000008,
          1.8600000000000008,
          1.8700000000000008,
          1.8800000000000008,
          1.8900000000000008,
          1.9000000000000008,
          1.9100000000000008,
          1.9200000000000008,
          1.9300000000000008,
          1.9400000000000008,
          1.9500000000000008,
          1.9600000000000009,
          1.9700000000000009,
          1.9800000000000009,
          1.9900000000000009
         ],
         "y": [
          0.9263529772573972,
          0.9261893230204062,
          0.9273664641963297,
          0.9278164991236807,
          0.927917129083362,
          0.9283868082467998,
          0.9288707223374778,
          0.9295395816487418,
          0.9292441921859942,
          0.930120558482101,
          0.9299191470228081,
          0.9305507279808535,
          0.9313694751826379,
          0.9318475093884379,
          0.9316767138958935,
          0.9326597954511562,
          0.9332074948686719,
          0.9332639219677403,
          0.9337724272350877,
          0.9336037305582837,
          0.9338215809468822,
          0.9342460863964749,
          0.9346326881905741,
          0.9348838146242623,
          0.9354724728700258,
          0.9355732896240572,
          0.9357219875649829,
          0.9364403174236376,
          0.9365677943087478,
          0.9371306646744935,
          0.9369841077048272,
          0.9371628599824924,
          0.9376802845788675,
          0.9385663400906402,
          0.9380461217423249,
          0.939934149315849,
          0.940374858838795,
          0.940063852906114,
          0.939768086213065,
          0.9404192306236792,
          0.9403725675121544,
          0.9407100907122989,
          0.9404547864035407,
          0.9426340268868552,
          0.9415683088744945,
          0.9416725711337011,
          0.9424329158017755,
          0.9420931021576372,
          0.9412501537348209,
          0.9430174530247583,
          0.9422161133998658,
          0.943300548125321,
          0.943452811967542,
          0.9430971774027294,
          0.9433487747622454,
          0.9444312003306703,
          0.9449885066241457,
          0.9444484896813328,
          0.9450372821435822,
          0.944788291774048,
          0.9455216862200231,
          0.945903224607503,
          0.9453864509745974,
          0.9463336081414294,
          0.9451425417375359,
          0.9466985880914327,
          0.9463128719797621,
          0.9481108389678374,
          0.9474382306124797,
          0.9484247107863635,
          0.9473465955634234,
          0.9468121450376316,
          0.9493321728690013,
          0.9476135871485328,
          0.9492891982259108,
          0.9481391305700771,
          0.9491028271957248,
          0.9473121995167976,
          0.9493848301740381,
          0.9515639390066657,
          0.9483779169246436,
          0.9482642789376536,
          0.9503082550369433,
          0.9506328020625472,
          0.9497420811844652,
          0.9521159706345426,
          0.9508121102391762,
          0.9516781524080771,
          0.9512437468837168,
          0.9502025741118165,
          0.9511279721430401,
          0.9516871700958804,
          0.9507064528555244,
          0.9519336012858257,
          0.9517442710246634,
          0.9525946736565483,
          0.9527441489293248,
          0.9529606579618574,
          0.9533507332181334,
          0.9536757777742272
         ]
        },
        {
         "fill": "tonexty",
         "fillcolor": "rgba(68, 68, 68, 0.2)",
         "line": {
          "color": "rgba(224,116,0,0.25)",
          "width": 2
         },
         "mode": "lines",
         "showlegend": false,
         "type": "scatter",
         "x": [
          1,
          1.01,
          1.02,
          1.03,
          1.04,
          1.05,
          1.06,
          1.07,
          1.08,
          1.09,
          1.1,
          1.11,
          1.12,
          1.13,
          1.14,
          1.15,
          1.16,
          1.1700000000000002,
          1.1800000000000002,
          1.1900000000000002,
          1.2000000000000002,
          1.2100000000000002,
          1.2200000000000002,
          1.2300000000000002,
          1.2400000000000002,
          1.2500000000000002,
          1.2600000000000002,
          1.2700000000000002,
          1.2800000000000002,
          1.2900000000000005,
          1.3000000000000005,
          1.3100000000000005,
          1.3200000000000005,
          1.3300000000000003,
          1.3400000000000003,
          1.3500000000000003,
          1.3600000000000003,
          1.3700000000000003,
          1.3800000000000003,
          1.3900000000000003,
          1.4000000000000004,
          1.4100000000000004,
          1.4200000000000004,
          1.4300000000000004,
          1.4400000000000004,
          1.4500000000000004,
          1.4600000000000004,
          1.4700000000000004,
          1.4800000000000004,
          1.4900000000000004,
          1.5000000000000004,
          1.5100000000000005,
          1.5200000000000005,
          1.5300000000000005,
          1.5400000000000005,
          1.5500000000000005,
          1.5600000000000005,
          1.5700000000000005,
          1.5800000000000003,
          1.5900000000000003,
          1.6000000000000003,
          1.6100000000000003,
          1.6200000000000006,
          1.6300000000000006,
          1.6400000000000006,
          1.6500000000000006,
          1.6600000000000006,
          1.6700000000000006,
          1.6800000000000006,
          1.6900000000000006,
          1.7000000000000006,
          1.7100000000000006,
          1.7200000000000006,
          1.7300000000000006,
          1.7400000000000009,
          1.7500000000000009,
          1.760000000000001,
          1.770000000000001,
          1.7800000000000007,
          1.7900000000000007,
          1.8000000000000007,
          1.8100000000000007,
          1.8200000000000007,
          1.8300000000000007,
          1.8400000000000007,
          1.8500000000000008,
          1.8600000000000008,
          1.8700000000000008,
          1.8800000000000008,
          1.8900000000000008,
          1.9000000000000008,
          1.9100000000000008,
          1.9200000000000008,
          1.9300000000000008,
          1.9400000000000008,
          1.9500000000000008,
          1.9600000000000009,
          1.9700000000000009,
          1.9800000000000009,
          1.9900000000000009
         ],
         "y": [
          0.9262201163156966,
          0.9250289906104076,
          0.9271790822444093,
          0.927614636407455,
          0.9277200291287963,
          0.9272033816558903,
          0.9286311836269282,
          0.9292898245006643,
          0.9289898182480163,
          0.9298660359419934,
          0.9287363638552029,
          0.9293568470367216,
          0.9310476502844877,
          0.9315257842034922,
          0.9313739976316362,
          0.9323428399437519,
          0.9328613827968724,
          0.9328927637847786,
          0.9334227865830808,
          0.9323788308119699,
          0.933492530034729,
          0.9330320071261641,
          0.9334116008284877,
          0.9345138935065519,
          0.9350641182072471,
          0.9343459171568165,
          0.9353138025539891,
          0.9360253008567913,
          0.9361485764649389,
          0.9367273823402202,
          0.9365531388393132,
          0.9367558253753598,
          0.9372696092905369,
          0.9380819702367987,
          0.9368008422140329,
          0.9394349452203666,
          0.9398842184615701,
          0.9395618396252603,
          0.9384925204754205,
          0.9399122373275615,
          0.9391058210967917,
          0.9402192279880803,
          0.9391874253661711,
          0.9420812228998339,
          0.941088727726671,
          0.9399246402351771,
          0.9419125867876665,
          0.9415965591336529,
          0.9399899563270749,
          0.9424903245031492,
          0.9417354849933234,
          0.9428040887809824,
          0.9429332942594841,
          0.9418103935954963,
          0.9428601653578798,
          0.9431249080222561,
          0.9444159773552787,
          0.9431566532313103,
          0.9444928002615869,
          0.9434902829072431,
          0.9449539520264105,
          0.9445880986912121,
          0.9440954750050666,
          0.9457739321545741,
          0.9438438838670824,
          0.9461338325831308,
          0.9457485281240622,
          0.9475133935126452,
          0.9461194689578715,
          0.947833168425174,
          0.946047333817481,
          0.9462843092656411,
          0.9487258898995593,
          0.9470425288034164,
          0.9486985296867088,
          0.9463659503841219,
          0.9484868112984971,
          0.9467565670321095,
          0.94806493446268,
          0.9502104486385174,
          0.9462385892257317,
          0.9458299504364676,
          0.9497200117988345,
          0.950015836708294,
          0.9484249255013293,
          0.951485429523941,
          0.9501596728344521,
          0.9503266193777768,
          0.9499034707066935,
          0.9480606647304699,
          0.9505482412016959,
          0.9510673634768079,
          0.9489330553997685,
          0.9513346803213358,
          0.9511457477132125,
          0.9520078902213729,
          0.9521185054459217,
          0.9516167059198516,
          0.9520072219175598,
          0.953049179621872
         ]
        },
        {
         "line": {
          "color": "rgba(229,187,0,1)",
          "width": 2
         },
         "mode": "lines",
         "name": "Predicted",
         "showlegend": true,
         "type": "scatter",
         "x": [
          1,
          1.01,
          1.02,
          1.03,
          1.04,
          1.05,
          1.06,
          1.07,
          1.08,
          1.09,
          1.1,
          1.11,
          1.12,
          1.13,
          1.14,
          1.15,
          1.16,
          1.1700000000000002,
          1.1800000000000002,
          1.1900000000000002,
          1.2000000000000002,
          1.2100000000000002,
          1.2200000000000002,
          1.2300000000000002,
          1.2400000000000002,
          1.2500000000000002,
          1.2600000000000002,
          1.2700000000000002,
          1.2800000000000002,
          1.2900000000000005,
          1.3000000000000005,
          1.3100000000000005,
          1.3200000000000005,
          1.3300000000000003,
          1.3400000000000003,
          1.3500000000000003,
          1.3600000000000003,
          1.3700000000000003,
          1.3800000000000003,
          1.3900000000000003,
          1.4000000000000004,
          1.4100000000000004,
          1.4200000000000004,
          1.4300000000000004,
          1.4400000000000004,
          1.4500000000000004,
          1.4600000000000004,
          1.4700000000000004,
          1.4800000000000004,
          1.4900000000000004,
          1.5000000000000004,
          1.5100000000000005,
          1.5200000000000005,
          1.5300000000000005,
          1.5400000000000005,
          1.5500000000000005,
          1.5600000000000005,
          1.5700000000000005,
          1.5800000000000003,
          1.5900000000000003,
          1.6000000000000003,
          1.6100000000000003,
          1.6200000000000006,
          1.6300000000000006,
          1.6400000000000006,
          1.6500000000000006,
          1.6600000000000006,
          1.6700000000000006,
          1.6800000000000006,
          1.6900000000000006,
          1.7000000000000006,
          1.7100000000000006,
          1.7200000000000006,
          1.7300000000000006,
          1.7400000000000009,
          1.7500000000000009,
          1.760000000000001,
          1.770000000000001,
          1.7800000000000007,
          1.7900000000000007,
          1.8000000000000007,
          1.8100000000000007,
          1.8200000000000007,
          1.8300000000000007,
          1.8400000000000007,
          1.8500000000000008,
          1.8600000000000008,
          1.8700000000000008,
          1.8800000000000008,
          1.8900000000000008,
          1.9000000000000008,
          1.9100000000000008,
          1.9200000000000008,
          1.9300000000000008,
          1.9400000000000008,
          1.9500000000000008,
          1.9600000000000009,
          1.9700000000000009,
          1.9800000000000009,
          1.9900000000000009
         ],
         "y": [
          0,
          0.005524861878453,
          0.0109890109890109,
          0.0163934426229508,
          0.0217391304347826,
          0.027027027027027,
          0.032258064516129,
          0.0374331550802139,
          0.0425531914893617,
          0.0476190476190476,
          0.0526315789473684,
          0.0575916230366492,
          0.0625,
          0.0673575129533679,
          0.0721649484536083,
          0.076923076923077,
          0.0816326530612245,
          0.0862944162436548,
          0.0909090909090909,
          0.0954773869346734,
          0.1,
          0.1044776119402985,
          0.108910891089109,
          0.1133004926108375,
          0.1176470588235295,
          0.1219512195121952,
          0.1262135922330098,
          0.1304347826086957,
          0.1346153846153847,
          0.1387559808612441,
          0.1428571428571429,
          0.1469194312796209,
          0.1509433962264152,
          0.1549295774647888,
          0.1588785046728973,
          0.1627906976744187,
          0.1666666666666668,
          0.1705069124423964,
          0.1743119266055047,
          0.178082191780822,
          0.1818181818181819,
          0.1855203619909503,
          0.1891891891891893,
          0.1928251121076235,
          0.1964285714285715,
          0.2000000000000001,
          0.2035398230088497,
          0.2070484581497799,
          0.2105263157894738,
          0.2139737991266376,
          0.2173913043478262,
          0.2207792207792209,
          0.2241379310344829,
          0.2274678111587984,
          0.2307692307692309,
          0.2340425531914895,
          0.2372881355932205,
          0.2405063291139242,
          0.2436974789915968,
          0.2468619246861926,
          0.2500000000000001,
          0.2531120331950209,
          0.2561983471074381,
          0.2592592592592594,
          0.2622950819672133,
          0.2653061224489797,
          0.2682926829268294,
          0.2712550607287451,
          0.274193548387097,
          0.2771084337349399,
          0.2800000000000002,
          0.2828685258964145,
          0.2857142857142859,
          0.2885375494071148,
          0.2913385826771655,
          0.2941176470588237,
          0.2968750000000001,
          0.2996108949416344,
          0.302325581395349,
          0.3050193050193052,
          0.3076923076923079,
          0.3103448275862071,
          0.3129770992366414,
          0.3155893536121675,
          0.3181818181818184,
          0.3207547169811323,
          0.3233082706766919,
          0.3258426966292137,
          0.328358208955224,
          0.3308550185873607,
          0.3333333333333335,
          0.3357933579335795,
          0.3382352941176472,
          0.3406593406593408,
          0.3430656934306572,
          0.3454545454545457,
          0.3478260869565219,
          0.3501805054151626,
          0.352517985611511,
          0.3548387096774196
         ]
        },
        {
         "line": {
          "color": "rgba(229,187,0,0.25)",
          "width": 2
         },
         "mode": "lines",
         "showlegend": false,
         "type": "scatter",
         "x": [
          1,
          1.01,
          1.02,
          1.03,
          1.04,
          1.05,
          1.06,
          1.07,
          1.08,
          1.09,
          1.1,
          1.11,
          1.12,
          1.13,
          1.14,
          1.15,
          1.16,
          1.1700000000000002,
          1.1800000000000002,
          1.1900000000000002,
          1.2000000000000002,
          1.2100000000000002,
          1.2200000000000002,
          1.2300000000000002,
          1.2400000000000002,
          1.2500000000000002,
          1.2600000000000002,
          1.2700000000000002,
          1.2800000000000002,
          1.2900000000000005,
          1.3000000000000005,
          1.3100000000000005,
          1.3200000000000005,
          1.3300000000000003,
          1.3400000000000003,
          1.3500000000000003,
          1.3600000000000003,
          1.3700000000000003,
          1.3800000000000003,
          1.3900000000000003,
          1.4000000000000004,
          1.4100000000000004,
          1.4200000000000004,
          1.4300000000000004,
          1.4400000000000004,
          1.4500000000000004,
          1.4600000000000004,
          1.4700000000000004,
          1.4800000000000004,
          1.4900000000000004,
          1.5000000000000004,
          1.5100000000000005,
          1.5200000000000005,
          1.5300000000000005,
          1.5400000000000005,
          1.5500000000000005,
          1.5600000000000005,
          1.5700000000000005,
          1.5800000000000003,
          1.5900000000000003,
          1.6000000000000003,
          1.6100000000000003,
          1.6200000000000006,
          1.6300000000000006,
          1.6400000000000006,
          1.6500000000000006,
          1.6600000000000006,
          1.6700000000000006,
          1.6800000000000006,
          1.6900000000000006,
          1.7000000000000006,
          1.7100000000000006,
          1.7200000000000006,
          1.7300000000000006,
          1.7400000000000009,
          1.7500000000000009,
          1.760000000000001,
          1.770000000000001,
          1.7800000000000007,
          1.7900000000000007,
          1.8000000000000007,
          1.8100000000000007,
          1.8200000000000007,
          1.8300000000000007,
          1.8400000000000007,
          1.8500000000000008,
          1.8600000000000008,
          1.8700000000000008,
          1.8800000000000008,
          1.8900000000000008,
          1.9000000000000008,
          1.9100000000000008,
          1.9200000000000008,
          1.9300000000000008,
          1.9400000000000008,
          1.9500000000000008,
          1.9600000000000009,
          1.9700000000000009,
          1.9800000000000009,
          1.9900000000000009
         ],
         "y": [
          0,
          0.005524861878453,
          0.0109890109890109,
          0.0163934426229508,
          0.0217391304347826,
          0.027027027027027,
          0.032258064516129,
          0.0374331550802139,
          0.0425531914893617,
          0.0476190476190476,
          0.0526315789473684,
          0.0575916230366492,
          0.0625,
          0.0673575129533679,
          0.0721649484536083,
          0.076923076923077,
          0.0816326530612245,
          0.0862944162436548,
          0.0909090909090909,
          0.0954773869346734,
          0.1,
          0.1044776119402985,
          0.108910891089109,
          0.1133004926108375,
          0.1176470588235295,
          0.1219512195121952,
          0.1262135922330098,
          0.1304347826086957,
          0.1346153846153847,
          0.1387559808612441,
          0.1428571428571429,
          0.1469194312796209,
          0.1509433962264152,
          0.1549295774647888,
          0.1588785046728973,
          0.1627906976744187,
          0.1666666666666668,
          0.1705069124423964,
          0.1743119266055047,
          0.178082191780822,
          0.1818181818181819,
          0.1855203619909503,
          0.1891891891891893,
          0.1928251121076235,
          0.1964285714285715,
          0.2000000000000001,
          0.2035398230088497,
          0.2070484581497799,
          0.2105263157894738,
          0.2139737991266376,
          0.2173913043478262,
          0.2207792207792209,
          0.2241379310344829,
          0.2274678111587984,
          0.2307692307692309,
          0.2340425531914895,
          0.2372881355932205,
          0.2405063291139242,
          0.2436974789915968,
          0.2468619246861926,
          0.2500000000000001,
          0.2531120331950209,
          0.2561983471074381,
          0.2592592592592594,
          0.2622950819672133,
          0.2653061224489797,
          0.2682926829268294,
          0.2712550607287451,
          0.274193548387097,
          0.2771084337349399,
          0.2800000000000002,
          0.2828685258964145,
          0.2857142857142859,
          0.2885375494071148,
          0.2913385826771655,
          0.2941176470588237,
          0.2968750000000001,
          0.2996108949416344,
          0.302325581395349,
          0.3050193050193052,
          0.3076923076923079,
          0.3103448275862071,
          0.3129770992366414,
          0.3155893536121675,
          0.3181818181818184,
          0.3207547169811323,
          0.3233082706766919,
          0.3258426966292137,
          0.328358208955224,
          0.3308550185873607,
          0.3333333333333335,
          0.3357933579335795,
          0.3382352941176472,
          0.3406593406593408,
          0.3430656934306572,
          0.3454545454545457,
          0.3478260869565219,
          0.3501805054151626,
          0.352517985611511,
          0.3548387096774196
         ]
        },
        {
         "fill": "tonexty",
         "fillcolor": "rgba(68, 68, 68, 0.2)",
         "line": {
          "color": "rgba(229,187,0,0.25)",
          "width": 2
         },
         "mode": "lines",
         "showlegend": false,
         "type": "scatter",
         "x": [
          1,
          1.01,
          1.02,
          1.03,
          1.04,
          1.05,
          1.06,
          1.07,
          1.08,
          1.09,
          1.1,
          1.11,
          1.12,
          1.13,
          1.14,
          1.15,
          1.16,
          1.1700000000000002,
          1.1800000000000002,
          1.1900000000000002,
          1.2000000000000002,
          1.2100000000000002,
          1.2200000000000002,
          1.2300000000000002,
          1.2400000000000002,
          1.2500000000000002,
          1.2600000000000002,
          1.2700000000000002,
          1.2800000000000002,
          1.2900000000000005,
          1.3000000000000005,
          1.3100000000000005,
          1.3200000000000005,
          1.3300000000000003,
          1.3400000000000003,
          1.3500000000000003,
          1.3600000000000003,
          1.3700000000000003,
          1.3800000000000003,
          1.3900000000000003,
          1.4000000000000004,
          1.4100000000000004,
          1.4200000000000004,
          1.4300000000000004,
          1.4400000000000004,
          1.4500000000000004,
          1.4600000000000004,
          1.4700000000000004,
          1.4800000000000004,
          1.4900000000000004,
          1.5000000000000004,
          1.5100000000000005,
          1.5200000000000005,
          1.5300000000000005,
          1.5400000000000005,
          1.5500000000000005,
          1.5600000000000005,
          1.5700000000000005,
          1.5800000000000003,
          1.5900000000000003,
          1.6000000000000003,
          1.6100000000000003,
          1.6200000000000006,
          1.6300000000000006,
          1.6400000000000006,
          1.6500000000000006,
          1.6600000000000006,
          1.6700000000000006,
          1.6800000000000006,
          1.6900000000000006,
          1.7000000000000006,
          1.7100000000000006,
          1.7200000000000006,
          1.7300000000000006,
          1.7400000000000009,
          1.7500000000000009,
          1.760000000000001,
          1.770000000000001,
          1.7800000000000007,
          1.7900000000000007,
          1.8000000000000007,
          1.8100000000000007,
          1.8200000000000007,
          1.8300000000000007,
          1.8400000000000007,
          1.8500000000000008,
          1.8600000000000008,
          1.8700000000000008,
          1.8800000000000008,
          1.8900000000000008,
          1.9000000000000008,
          1.9100000000000008,
          1.9200000000000008,
          1.9300000000000008,
          1.9400000000000008,
          1.9500000000000008,
          1.9600000000000009,
          1.9700000000000009,
          1.9800000000000009,
          1.9900000000000009
         ],
         "y": [
          0,
          0.005524861878453,
          0.0109890109890109,
          0.0163934426229508,
          0.0217391304347826,
          0.027027027027027,
          0.032258064516129,
          0.0374331550802139,
          0.0425531914893617,
          0.0476190476190476,
          0.0526315789473684,
          0.0575916230366492,
          0.0625,
          0.0673575129533679,
          0.0721649484536083,
          0.076923076923077,
          0.0816326530612245,
          0.0862944162436548,
          0.0909090909090909,
          0.0954773869346734,
          0.1,
          0.1044776119402985,
          0.108910891089109,
          0.1133004926108375,
          0.1176470588235295,
          0.1219512195121952,
          0.1262135922330098,
          0.1304347826086957,
          0.1346153846153847,
          0.1387559808612441,
          0.1428571428571429,
          0.1469194312796209,
          0.1509433962264152,
          0.1549295774647888,
          0.1588785046728973,
          0.1627906976744187,
          0.1666666666666668,
          0.1705069124423964,
          0.1743119266055047,
          0.178082191780822,
          0.1818181818181819,
          0.1855203619909503,
          0.1891891891891893,
          0.1928251121076235,
          0.1964285714285715,
          0.2000000000000001,
          0.2035398230088497,
          0.2070484581497799,
          0.2105263157894738,
          0.2139737991266376,
          0.2173913043478262,
          0.2207792207792209,
          0.2241379310344829,
          0.2274678111587984,
          0.2307692307692309,
          0.2340425531914895,
          0.2372881355932205,
          0.2405063291139242,
          0.2436974789915968,
          0.2468619246861926,
          0.2500000000000001,
          0.2531120331950209,
          0.2561983471074381,
          0.2592592592592594,
          0.2622950819672133,
          0.2653061224489797,
          0.2682926829268294,
          0.2712550607287451,
          0.274193548387097,
          0.2771084337349399,
          0.2800000000000002,
          0.2828685258964145,
          0.2857142857142859,
          0.2885375494071148,
          0.2913385826771655,
          0.2941176470588237,
          0.2968750000000001,
          0.2996108949416344,
          0.302325581395349,
          0.3050193050193052,
          0.3076923076923079,
          0.3103448275862071,
          0.3129770992366414,
          0.3155893536121675,
          0.3181818181818184,
          0.3207547169811323,
          0.3233082706766919,
          0.3258426966292137,
          0.328358208955224,
          0.3308550185873607,
          0.3333333333333335,
          0.3357933579335795,
          0.3382352941176472,
          0.3406593406593408,
          0.3430656934306572,
          0.3454545454545457,
          0.3478260869565219,
          0.3501805054151626,
          0.352517985611511,
          0.3548387096774196
         ]
        }
       ],
       "layout": {
        "annotations": [
         {
          "showarrow": false,
          "text": "Equal share",
          "x": 1,
          "xanchor": "right",
          "xref": "x domain",
          "y": 0,
          "yanchor": "bottom",
          "yref": "y"
         },
         {
          "showarrow": false,
          "text": "ϵ=1: no bias",
          "x": 1,
          "xanchor": "left",
          "xref": "x",
          "y": 1,
          "yanchor": "top",
          "yref": "y domain"
         }
        ],
        "font": {
         "size": 18
        },
        "height": 500,
        "legend": {
         "title": {
          "text": ""
         },
         "x": 0.75,
         "y": 0.65
        },
        "margin": {
         "b": 5,
         "l": 5,
         "r": 5,
         "t": 5
        },
        "plot_bgcolor": "rgba(0,0,0,0)",
        "shapes": [
         {
          "line": {
           "width": 1
          },
          "type": "line",
          "x0": 0,
          "x1": 1,
          "xref": "x domain",
          "y0": 0,
          "y1": 0,
          "yref": "y"
         },
         {
          "line": {
           "width": 1
          },
          "type": "line",
          "x0": 1,
          "x1": 1,
          "xref": "x",
          "y0": 0,
          "y1": 1,
          "yref": "y domain"
         }
        ],
        "showlegend": true,
        "template": {
         "data": {
          "bar": [
           {
            "error_x": {
             "color": "#2a3f5f"
            },
            "error_y": {
             "color": "#2a3f5f"
            },
            "marker": {
             "line": {
              "color": "#E5ECF6",
              "width": 0.5
             },
             "pattern": {
              "fillmode": "overlay",
              "size": 10,
              "solidity": 0.2
             }
            },
            "type": "bar"
           }
          ],
          "barpolar": [
           {
            "marker": {
             "line": {
              "color": "#E5ECF6",
              "width": 0.5
             },
             "pattern": {
              "fillmode": "overlay",
              "size": 10,
              "solidity": 0.2
             }
            },
            "type": "barpolar"
           }
          ],
          "carpet": [
           {
            "aaxis": {
             "endlinecolor": "#2a3f5f",
             "gridcolor": "white",
             "linecolor": "white",
             "minorgridcolor": "white",
             "startlinecolor": "#2a3f5f"
            },
            "baxis": {
             "endlinecolor": "#2a3f5f",
             "gridcolor": "white",
             "linecolor": "white",
             "minorgridcolor": "white",
             "startlinecolor": "#2a3f5f"
            },
            "type": "carpet"
           }
          ],
          "choropleth": [
           {
            "colorbar": {
             "outlinewidth": 0,
             "ticks": ""
            },
            "type": "choropleth"
           }
          ],
          "contour": [
           {
            "colorbar": {
             "outlinewidth": 0,
             "ticks": ""
            },
            "colorscale": [
             [
              0,
              "#0d0887"
             ],
             [
              0.1111111111111111,
              "#46039f"
             ],
             [
              0.2222222222222222,
              "#7201a8"
             ],
             [
              0.3333333333333333,
              "#9c179e"
             ],
             [
              0.4444444444444444,
              "#bd3786"
             ],
             [
              0.5555555555555556,
              "#d8576b"
             ],
             [
              0.6666666666666666,
              "#ed7953"
             ],
             [
              0.7777777777777778,
              "#fb9f3a"
             ],
             [
              0.8888888888888888,
              "#fdca26"
             ],
             [
              1,
              "#f0f921"
             ]
            ],
            "type": "contour"
           }
          ],
          "contourcarpet": [
           {
            "colorbar": {
             "outlinewidth": 0,
             "ticks": ""
            },
            "type": "contourcarpet"
           }
          ],
          "heatmap": [
           {
            "colorbar": {
             "outlinewidth": 0,
             "ticks": ""
            },
            "colorscale": [
             [
              0,
              "#0d0887"
             ],
             [
              0.1111111111111111,
              "#46039f"
             ],
             [
              0.2222222222222222,
              "#7201a8"
             ],
             [
              0.3333333333333333,
              "#9c179e"
             ],
             [
              0.4444444444444444,
              "#bd3786"
             ],
             [
              0.5555555555555556,
              "#d8576b"
             ],
             [
              0.6666666666666666,
              "#ed7953"
             ],
             [
              0.7777777777777778,
              "#fb9f3a"
             ],
             [
              0.8888888888888888,
              "#fdca26"
             ],
             [
              1,
              "#f0f921"
             ]
            ],
            "type": "heatmap"
           }
          ],
          "heatmapgl": [
           {
            "colorbar": {
             "outlinewidth": 0,
             "ticks": ""
            },
            "colorscale": [
             [
              0,
              "#0d0887"
             ],
             [
              0.1111111111111111,
              "#46039f"
             ],
             [
              0.2222222222222222,
              "#7201a8"
             ],
             [
              0.3333333333333333,
              "#9c179e"
             ],
             [
              0.4444444444444444,
              "#bd3786"
             ],
             [
              0.5555555555555556,
              "#d8576b"
             ],
             [
              0.6666666666666666,
              "#ed7953"
             ],
             [
              0.7777777777777778,
              "#fb9f3a"
             ],
             [
              0.8888888888888888,
              "#fdca26"
             ],
             [
              1,
              "#f0f921"
             ]
            ],
            "type": "heatmapgl"
           }
          ],
          "histogram": [
           {
            "marker": {
             "pattern": {
              "fillmode": "overlay",
              "size": 10,
              "solidity": 0.2
             }
            },
            "type": "histogram"
           }
          ],
          "histogram2d": [
           {
            "colorbar": {
             "outlinewidth": 0,
             "ticks": ""
            },
            "colorscale": [
             [
              0,
              "#0d0887"
             ],
             [
              0.1111111111111111,
              "#46039f"
             ],
             [
              0.2222222222222222,
              "#7201a8"
             ],
             [
              0.3333333333333333,
              "#9c179e"
             ],
             [
              0.4444444444444444,
              "#bd3786"
             ],
             [
              0.5555555555555556,
              "#d8576b"
             ],
             [
              0.6666666666666666,
              "#ed7953"
             ],
             [
              0.7777777777777778,
              "#fb9f3a"
             ],
             [
              0.8888888888888888,
              "#fdca26"
             ],
             [
              1,
              "#f0f921"
             ]
            ],
            "type": "histogram2d"
           }
          ],
          "histogram2dcontour": [
           {
            "colorbar": {
             "outlinewidth": 0,
             "ticks": ""
            },
            "colorscale": [
             [
              0,
              "#0d0887"
             ],
             [
              0.1111111111111111,
              "#46039f"
             ],
             [
              0.2222222222222222,
              "#7201a8"
             ],
             [
              0.3333333333333333,
              "#9c179e"
             ],
             [
              0.4444444444444444,
              "#bd3786"
             ],
             [
              0.5555555555555556,
              "#d8576b"
             ],
             [
              0.6666666666666666,
              "#ed7953"
             ],
             [
              0.7777777777777778,
              "#fb9f3a"
             ],
             [
              0.8888888888888888,
              "#fdca26"
             ],
             [
              1,
              "#f0f921"
             ]
            ],
            "type": "histogram2dcontour"
           }
          ],
          "mesh3d": [
           {
            "colorbar": {
             "outlinewidth": 0,
             "ticks": ""
            },
            "type": "mesh3d"
           }
          ],
          "parcoords": [
           {
            "line": {
             "colorbar": {
              "outlinewidth": 0,
              "ticks": ""
             }
            },
            "type": "parcoords"
           }
          ],
          "pie": [
           {
            "automargin": true,
            "type": "pie"
           }
          ],
          "scatter": [
           {
            "fillpattern": {
             "fillmode": "overlay",
             "size": 10,
             "solidity": 0.2
            },
            "type": "scatter"
           }
          ],
          "scatter3d": [
           {
            "line": {
             "colorbar": {
              "outlinewidth": 0,
              "ticks": ""
             }
            },
            "marker": {
             "colorbar": {
              "outlinewidth": 0,
              "ticks": ""
             }
            },
            "type": "scatter3d"
           }
          ],
          "scattercarpet": [
           {
            "marker": {
             "colorbar": {
              "outlinewidth": 0,
              "ticks": ""
             }
            },
            "type": "scattercarpet"
           }
          ],
          "scattergeo": [
           {
            "marker": {
             "colorbar": {
              "outlinewidth": 0,
              "ticks": ""
             }
            },
            "type": "scattergeo"
           }
          ],
          "scattergl": [
           {
            "marker": {
             "colorbar": {
              "outlinewidth": 0,
              "ticks": ""
             }
            },
            "type": "scattergl"
           }
          ],
          "scattermapbox": [
           {
            "marker": {
             "colorbar": {
              "outlinewidth": 0,
              "ticks": ""
             }
            },
            "type": "scattermapbox"
           }
          ],
          "scatterpolar": [
           {
            "marker": {
             "colorbar": {
              "outlinewidth": 0,
              "ticks": ""
             }
            },
            "type": "scatterpolar"
           }
          ],
          "scatterpolargl": [
           {
            "marker": {
             "colorbar": {
              "outlinewidth": 0,
              "ticks": ""
             }
            },
            "type": "scatterpolargl"
           }
          ],
          "scatterternary": [
           {
            "marker": {
             "colorbar": {
              "outlinewidth": 0,
              "ticks": ""
             }
            },
            "type": "scatterternary"
           }
          ],
          "surface": [
           {
            "colorbar": {
             "outlinewidth": 0,
             "ticks": ""
            },
            "colorscale": [
             [
              0,
              "#0d0887"
             ],
             [
              0.1111111111111111,
              "#46039f"
             ],
             [
              0.2222222222222222,
              "#7201a8"
             ],
             [
              0.3333333333333333,
              "#9c179e"
             ],
             [
              0.4444444444444444,
              "#bd3786"
             ],
             [
              0.5555555555555556,
              "#d8576b"
             ],
             [
              0.6666666666666666,
              "#ed7953"
             ],
             [
              0.7777777777777778,
              "#fb9f3a"
             ],
             [
              0.8888888888888888,
              "#fdca26"
             ],
             [
              1,
              "#f0f921"
             ]
            ],
            "type": "surface"
           }
          ],
          "table": [
           {
            "cells": {
             "fill": {
              "color": "#EBF0F8"
             },
             "line": {
              "color": "white"
             }
            },
            "header": {
             "fill": {
              "color": "#C8D4E3"
             },
             "line": {
              "color": "white"
             }
            },
            "type": "table"
           }
          ]
         },
         "layout": {
          "annotationdefaults": {
           "arrowcolor": "#2a3f5f",
           "arrowhead": 0,
           "arrowwidth": 1
          },
          "autotypenumbers": "strict",
          "coloraxis": {
           "colorbar": {
            "outlinewidth": 0,
            "ticks": ""
           }
          },
          "colorscale": {
           "diverging": [
            [
             0,
             "#8e0152"
            ],
            [
             0.1,
             "#c51b7d"
            ],
            [
             0.2,
             "#de77ae"
            ],
            [
             0.3,
             "#f1b6da"
            ],
            [
             0.4,
             "#fde0ef"
            ],
            [
             0.5,
             "#f7f7f7"
            ],
            [
             0.6,
             "#e6f5d0"
            ],
            [
             0.7,
             "#b8e186"
            ],
            [
             0.8,
             "#7fbc41"
            ],
            [
             0.9,
             "#4d9221"
            ],
            [
             1,
             "#276419"
            ]
           ],
           "sequential": [
            [
             0,
             "#0d0887"
            ],
            [
             0.1111111111111111,
             "#46039f"
            ],
            [
             0.2222222222222222,
             "#7201a8"
            ],
            [
             0.3333333333333333,
             "#9c179e"
            ],
            [
             0.4444444444444444,
             "#bd3786"
            ],
            [
             0.5555555555555556,
             "#d8576b"
            ],
            [
             0.6666666666666666,
             "#ed7953"
            ],
            [
             0.7777777777777778,
             "#fb9f3a"
            ],
            [
             0.8888888888888888,
             "#fdca26"
            ],
            [
             1,
             "#f0f921"
            ]
           ],
           "sequentialminus": [
            [
             0,
             "#0d0887"
            ],
            [
             0.1111111111111111,
             "#46039f"
            ],
            [
             0.2222222222222222,
             "#7201a8"
            ],
            [
             0.3333333333333333,
             "#9c179e"
            ],
            [
             0.4444444444444444,
             "#bd3786"
            ],
            [
             0.5555555555555556,
             "#d8576b"
            ],
            [
             0.6666666666666666,
             "#ed7953"
            ],
            [
             0.7777777777777778,
             "#fb9f3a"
            ],
            [
             0.8888888888888888,
             "#fdca26"
            ],
            [
             1,
             "#f0f921"
            ]
           ]
          },
          "colorway": [
           "#636efa",
           "#EF553B",
           "#00cc96",
           "#ab63fa",
           "#FFA15A",
           "#19d3f3",
           "#FF6692",
           "#B6E880",
           "#FF97FF",
           "#FECB52"
          ],
          "font": {
           "color": "#2a3f5f"
          },
          "geo": {
           "bgcolor": "white",
           "lakecolor": "white",
           "landcolor": "#E5ECF6",
           "showlakes": true,
           "showland": true,
           "subunitcolor": "white"
          },
          "hoverlabel": {
           "align": "left"
          },
          "hovermode": "closest",
          "mapbox": {
           "style": "light"
          },
          "paper_bgcolor": "white",
          "plot_bgcolor": "#E5ECF6",
          "polar": {
           "angularaxis": {
            "gridcolor": "white",
            "linecolor": "white",
            "ticks": ""
           },
           "bgcolor": "#E5ECF6",
           "radialaxis": {
            "gridcolor": "white",
            "linecolor": "white",
            "ticks": ""
           }
          },
          "scene": {
           "xaxis": {
            "backgroundcolor": "#E5ECF6",
            "gridcolor": "white",
            "gridwidth": 2,
            "linecolor": "white",
            "showbackground": true,
            "ticks": "",
            "zerolinecolor": "white"
           },
           "yaxis": {
            "backgroundcolor": "#E5ECF6",
            "gridcolor": "white",
            "gridwidth": 2,
            "linecolor": "white",
            "showbackground": true,
            "ticks": "",
            "zerolinecolor": "white"
           },
           "zaxis": {
            "backgroundcolor": "#E5ECF6",
            "gridcolor": "white",
            "gridwidth": 2,
            "linecolor": "white",
            "showbackground": true,
            "ticks": "",
            "zerolinecolor": "white"
           }
          },
          "shapedefaults": {
           "line": {
            "color": "#2a3f5f"
           }
          },
          "ternary": {
           "aaxis": {
            "gridcolor": "white",
            "linecolor": "white",
            "ticks": ""
           },
           "baxis": {
            "gridcolor": "white",
            "linecolor": "white",
            "ticks": ""
           },
           "bgcolor": "#E5ECF6",
           "caxis": {
            "gridcolor": "white",
            "linecolor": "white",
            "ticks": ""
           }
          },
          "title": {
           "x": 0.05
          },
          "xaxis": {
           "automargin": true,
           "gridcolor": "white",
           "linecolor": "white",
           "ticks": "",
           "title": {
            "standoff": 15
           },
           "zerolinecolor": "white",
           "zerolinewidth": 2
          },
          "yaxis": {
           "automargin": true,
           "gridcolor": "white",
           "linecolor": "white",
           "ticks": "",
           "title": {
            "standoff": 15
           },
           "zerolinecolor": "white",
           "zerolinewidth": 2
          }
         }
        },
        "title": {},
        "width": 500,
        "xaxis": {
         "linecolor": "rgb(0,0,0)",
         "linewidth": 2,
         "range": [
          0.5,
          2
         ],
         "showgrid": false,
         "showline": true,
         "title": {
          "text": "rho"
         }
        },
        "yaxis": {
         "linecolor": "rgb(0,0,0)",
         "linewidth": 2,
         "range": [
          -0.25,
          1
         ],
         "showgrid": false,
         "showline": true,
         "title": {
          "text": "Friending Effect"
         }
        }
       }
      }
     },
     "metadata": {},
     "output_type": "display_data"
    }
   ],
   "source": [
    "\n",
    "\n",
    "\n",
    "Friending_rho_epsilon125 = plotly_lines.plot_MTO_sim_results(plotly_lines(), data=df_rho[df_rho['epsilon'] == 1.25], x_var='rho', y_var='Friend_Bias', x_range=[0.5,2], y_range=[0,1], x_title='rho', y_title='Exposure', with_predicted=True, colors=['rgba(224,116,0,1)', 'rgba(229,187,0,1)'], legend_text='High')\n",
    "\n",
    "\n",
    "fig_Friending_rho = go.Figure(data = Friending_rho_epsilon125.data)\n",
    "\n",
    "fig_Friending_rho.update_layout(\n",
    "    title = None, \n",
    "    font=dict(size = 18),\n",
    "    xaxis_title = 'rho', \n",
    "    yaxis_title = 'Friending Effect',\n",
    "    width = 500, height = 500,\n",
    "    showlegend = True, \n",
    "    legend=dict(x=0.75,y=0.65),\n",
    "    legend_title_text = '',\n",
    "    xaxis_range = [0.5,2],\n",
    "    yaxis_range = [-0.25,1],\n",
    "    margin=dict(b=5,l=5,r=5,t=5),\n",
    "    xaxis = dict(showgrid = False, showline = True, linecolor = 'rgb(0,0,0)', linewidth = 2), \n",
    "    yaxis = dict(showgrid = False, showline = True, linecolor = 'rgb(0,0,0)', linewidth = 2),\n",
    "    plot_bgcolor='rgba(0,0,0,0)')\n",
    "\n",
    "\n",
    "fig_Friending_rho.add_hline(y=0, line_width=1, annotation_text = 'Equal share')\n",
    "fig_Friending_rho.add_vline(x=1, line_width=1, annotation_text = 'ϵ=1: no bias')\n",
    "\n",
    "\n"
   ]
  },
  {
   "attachments": {},
   "cell_type": "markdown",
   "metadata": {},
   "source": [
    "## Both rho and epsilon"
   ]
  },
  {
   "attachments": {},
   "cell_type": "markdown",
   "metadata": {},
   "source": [
    "### Specified values"
   ]
  },
  {
   "cell_type": "code",
   "execution_count": 7,
   "metadata": {},
   "outputs": [
    {
     "data": {
      "text/html": [
       "<div>\n",
       "<style scoped>\n",
       "    .dataframe tbody tr th:only-of-type {\n",
       "        vertical-align: middle;\n",
       "    }\n",
       "\n",
       "    .dataframe tbody tr th {\n",
       "        vertical-align: top;\n",
       "    }\n",
       "\n",
       "    .dataframe thead th {\n",
       "        text-align: right;\n",
       "    }\n",
       "</style>\n",
       "<table border=\"1\" class=\"dataframe\">\n",
       "  <thead>\n",
       "    <tr style=\"text-align: right;\">\n",
       "      <th></th>\n",
       "      <th>sim_id</th>\n",
       "      <th>p_SES_high</th>\n",
       "      <th>epsilon</th>\n",
       "      <th>rho</th>\n",
       "      <th>H_Share</th>\n",
       "      <th>Exposure</th>\n",
       "      <th>Friend_Bias</th>\n",
       "      <th>N_exposure</th>\n",
       "      <th>Degree</th>\n",
       "      <th>Predicted_H_Share</th>\n",
       "      <th>Predicted_Exposure</th>\n",
       "      <th>Predicted_Friend_Bias</th>\n",
       "    </tr>\n",
       "  </thead>\n",
       "  <tbody>\n",
       "    <tr>\n",
       "      <th>0</th>\n",
       "      <td>cAoqpRJp</td>\n",
       "      <td>0.5</td>\n",
       "      <td>0.50</td>\n",
       "      <td>1.00</td>\n",
       "      <td>0.736842</td>\n",
       "      <td>1.473684</td>\n",
       "      <td>0.947368</td>\n",
       "      <td>20</td>\n",
       "      <td>19</td>\n",
       "      <td>0.666667</td>\n",
       "      <td>1.333333</td>\n",
       "      <td>0.000000</td>\n",
       "    </tr>\n",
       "    <tr>\n",
       "      <th>1</th>\n",
       "      <td>cAoqpRJp</td>\n",
       "      <td>0.5</td>\n",
       "      <td>0.50</td>\n",
       "      <td>1.00</td>\n",
       "      <td>0.789474</td>\n",
       "      <td>1.578947</td>\n",
       "      <td>0.947368</td>\n",
       "      <td>20</td>\n",
       "      <td>19</td>\n",
       "      <td>0.666667</td>\n",
       "      <td>1.333333</td>\n",
       "      <td>0.000000</td>\n",
       "    </tr>\n",
       "    <tr>\n",
       "      <th>2</th>\n",
       "      <td>cAoqpRJp</td>\n",
       "      <td>0.5</td>\n",
       "      <td>0.50</td>\n",
       "      <td>1.00</td>\n",
       "      <td>0.750000</td>\n",
       "      <td>1.500000</td>\n",
       "      <td>0.950000</td>\n",
       "      <td>20</td>\n",
       "      <td>20</td>\n",
       "      <td>0.666667</td>\n",
       "      <td>1.333333</td>\n",
       "      <td>0.000000</td>\n",
       "    </tr>\n",
       "    <tr>\n",
       "      <th>3</th>\n",
       "      <td>cAoqpRJp</td>\n",
       "      <td>0.5</td>\n",
       "      <td>0.50</td>\n",
       "      <td>1.00</td>\n",
       "      <td>0.550000</td>\n",
       "      <td>1.100000</td>\n",
       "      <td>0.950000</td>\n",
       "      <td>20</td>\n",
       "      <td>20</td>\n",
       "      <td>0.666667</td>\n",
       "      <td>1.333333</td>\n",
       "      <td>0.000000</td>\n",
       "    </tr>\n",
       "    <tr>\n",
       "      <th>4</th>\n",
       "      <td>cAoqpRJp</td>\n",
       "      <td>0.5</td>\n",
       "      <td>0.50</td>\n",
       "      <td>1.00</td>\n",
       "      <td>0.684211</td>\n",
       "      <td>1.368421</td>\n",
       "      <td>0.947368</td>\n",
       "      <td>20</td>\n",
       "      <td>19</td>\n",
       "      <td>0.666667</td>\n",
       "      <td>1.333333</td>\n",
       "      <td>0.000000</td>\n",
       "    </tr>\n",
       "    <tr>\n",
       "      <th>...</th>\n",
       "      <td>...</td>\n",
       "      <td>...</td>\n",
       "      <td>...</td>\n",
       "      <td>...</td>\n",
       "      <td>...</td>\n",
       "      <td>...</td>\n",
       "      <td>...</td>\n",
       "      <td>...</td>\n",
       "      <td>...</td>\n",
       "      <td>...</td>\n",
       "      <td>...</td>\n",
       "      <td>...</td>\n",
       "    </tr>\n",
       "    <tr>\n",
       "      <th>599995</th>\n",
       "      <td>WtQLTSHa</td>\n",
       "      <td>0.5</td>\n",
       "      <td>1.95</td>\n",
       "      <td>1.95</td>\n",
       "      <td>0.153846</td>\n",
       "      <td>0.842105</td>\n",
       "      <td>0.980769</td>\n",
       "      <td>20</td>\n",
       "      <td>13</td>\n",
       "      <td>0.173837</td>\n",
       "      <td>0.677966</td>\n",
       "      <td>0.385737</td>\n",
       "    </tr>\n",
       "    <tr>\n",
       "      <th>599996</th>\n",
       "      <td>WtQLTSHa</td>\n",
       "      <td>0.5</td>\n",
       "      <td>1.95</td>\n",
       "      <td>1.95</td>\n",
       "      <td>0.157895</td>\n",
       "      <td>0.315789</td>\n",
       "      <td>0.947368</td>\n",
       "      <td>20</td>\n",
       "      <td>19</td>\n",
       "      <td>0.173837</td>\n",
       "      <td>0.677966</td>\n",
       "      <td>0.385737</td>\n",
       "    </tr>\n",
       "    <tr>\n",
       "      <th>599997</th>\n",
       "      <td>WtQLTSHa</td>\n",
       "      <td>0.5</td>\n",
       "      <td>1.95</td>\n",
       "      <td>1.95</td>\n",
       "      <td>0.187500</td>\n",
       "      <td>0.631579</td>\n",
       "      <td>0.968750</td>\n",
       "      <td>20</td>\n",
       "      <td>16</td>\n",
       "      <td>0.173837</td>\n",
       "      <td>0.677966</td>\n",
       "      <td>0.385737</td>\n",
       "    </tr>\n",
       "    <tr>\n",
       "      <th>599998</th>\n",
       "      <td>WtQLTSHa</td>\n",
       "      <td>0.5</td>\n",
       "      <td>1.95</td>\n",
       "      <td>1.95</td>\n",
       "      <td>0.400000</td>\n",
       "      <td>1.052632</td>\n",
       "      <td>0.960000</td>\n",
       "      <td>20</td>\n",
       "      <td>15</td>\n",
       "      <td>0.173837</td>\n",
       "      <td>0.677966</td>\n",
       "      <td>0.385737</td>\n",
       "    </tr>\n",
       "    <tr>\n",
       "      <th>599999</th>\n",
       "      <td>WtQLTSHa</td>\n",
       "      <td>0.5</td>\n",
       "      <td>1.95</td>\n",
       "      <td>1.95</td>\n",
       "      <td>0.333333</td>\n",
       "      <td>0.823529</td>\n",
       "      <td>0.952381</td>\n",
       "      <td>20</td>\n",
       "      <td>15</td>\n",
       "      <td>0.173837</td>\n",
       "      <td>0.677966</td>\n",
       "      <td>0.385737</td>\n",
       "    </tr>\n",
       "  </tbody>\n",
       "</table>\n",
       "<p>600000 rows × 12 columns</p>\n",
       "</div>"
      ],
      "text/plain": [
       "          sim_id  p_SES_high  epsilon   rho   H_Share  Exposure  Friend_Bias  \\\n",
       "0       cAoqpRJp         0.5     0.50  1.00  0.736842  1.473684     0.947368   \n",
       "1       cAoqpRJp         0.5     0.50  1.00  0.789474  1.578947     0.947368   \n",
       "2       cAoqpRJp         0.5     0.50  1.00  0.750000  1.500000     0.950000   \n",
       "3       cAoqpRJp         0.5     0.50  1.00  0.550000  1.100000     0.950000   \n",
       "4       cAoqpRJp         0.5     0.50  1.00  0.684211  1.368421     0.947368   \n",
       "...          ...         ...      ...   ...       ...       ...          ...   \n",
       "599995  WtQLTSHa         0.5     1.95  1.95  0.153846  0.842105     0.980769   \n",
       "599996  WtQLTSHa         0.5     1.95  1.95  0.157895  0.315789     0.947368   \n",
       "599997  WtQLTSHa         0.5     1.95  1.95  0.187500  0.631579     0.968750   \n",
       "599998  WtQLTSHa         0.5     1.95  1.95  0.400000  1.052632     0.960000   \n",
       "599999  WtQLTSHa         0.5     1.95  1.95  0.333333  0.823529     0.952381   \n",
       "\n",
       "        N_exposure  Degree  Predicted_H_Share  Predicted_Exposure  \\\n",
       "0               20      19           0.666667            1.333333   \n",
       "1               20      19           0.666667            1.333333   \n",
       "2               20      20           0.666667            1.333333   \n",
       "3               20      20           0.666667            1.333333   \n",
       "4               20      19           0.666667            1.333333   \n",
       "...            ...     ...                ...                 ...   \n",
       "599995          20      13           0.173837            0.677966   \n",
       "599996          20      19           0.173837            0.677966   \n",
       "599997          20      16           0.173837            0.677966   \n",
       "599998          20      15           0.173837            0.677966   \n",
       "599999          20      15           0.173837            0.677966   \n",
       "\n",
       "        Predicted_Friend_Bias  \n",
       "0                    0.000000  \n",
       "1                    0.000000  \n",
       "2                    0.000000  \n",
       "3                    0.000000  \n",
       "4                    0.000000  \n",
       "...                       ...  \n",
       "599995               0.385737  \n",
       "599996               0.385737  \n",
       "599997               0.385737  \n",
       "599998               0.385737  \n",
       "599999               0.385737  \n",
       "\n",
       "[600000 rows x 12 columns]"
      ]
     },
     "execution_count": 7,
     "metadata": {},
     "output_type": "execute_result"
    }
   ],
   "source": [
    "\n",
    "df_rho_eps = pd.read_csv('big_boy.csv').drop(columns='Unnamed: 0')\n",
    "df_results = df_rho_eps.copy()\n",
    "\n"
   ]
  },
  {
   "cell_type": "code",
   "execution_count": 6,
   "metadata": {},
   "outputs": [
    {
     "ename": "FileNotFoundError",
     "evalue": "[Errno 2] No such file or directory: '/SimulationData/eps_rho_sim.csv'",
     "output_type": "error",
     "traceback": [
      "\u001b[1;31m---------------------------------------------------------------------------\u001b[0m",
      "\u001b[1;31mFileNotFoundError\u001b[0m                         Traceback (most recent call last)",
      "\u001b[1;32mc:\\Programming\\Code\\Dissertation\\Diss model\\Diss_work.ipynb Cell 20\u001b[0m in \u001b[0;36m<cell line: 11>\u001b[1;34m()\u001b[0m\n\u001b[0;32m      <a href='vscode-notebook-cell:/c%3A/Programming/Code/Dissertation/Diss%20model/Diss_work.ipynb#X25sZmlsZQ%3D%3D?line=5'>6</a>\u001b[0m num_MTO_per_sim \u001b[39m=\u001b[39m \u001b[39m100\u001b[39m \u001b[39m# number of simulations on each network\u001b[39;00m\n\u001b[0;32m      <a href='vscode-notebook-cell:/c%3A/Programming/Code/Dissertation/Diss%20model/Diss_work.ipynb#X25sZmlsZQ%3D%3D?line=7'>8</a>\u001b[0m \u001b[39m#df_rho_eps = MTO_simulator(list_eps_values=list_eps_values, list_rho_values=list_rho_values, num_MTO_per_sim=num_MTO_per_sim, num_sim_per_param=num_sim_per_param)\u001b[39;00m\n\u001b[0;32m      <a href='vscode-notebook-cell:/c%3A/Programming/Code/Dissertation/Diss%20model/Diss_work.ipynb#X25sZmlsZQ%3D%3D?line=8'>9</a>\u001b[0m \u001b[39m#df_rho_eps.to_csv('eps_rho_sim.csv')\u001b[39;00m\n\u001b[1;32m---> <a href='vscode-notebook-cell:/c%3A/Programming/Code/Dissertation/Diss%20model/Diss_work.ipynb#X25sZmlsZQ%3D%3D?line=10'>11</a>\u001b[0m df_eps_rho \u001b[39m=\u001b[39m pd\u001b[39m.\u001b[39;49mread_csv(\u001b[39m'\u001b[39;49m\u001b[39m/SimulationData/eps_rho_sim.csv\u001b[39;49m\u001b[39m'\u001b[39;49m)\n\u001b[0;32m     <a href='vscode-notebook-cell:/c%3A/Programming/Code/Dissertation/Diss%20model/Diss_work.ipynb#X25sZmlsZQ%3D%3D?line=12'>13</a>\u001b[0m df_eps_rho\u001b[39m.\u001b[39msample(\u001b[39m5\u001b[39m)\n",
      "File \u001b[1;32mc:\\Programming\\Python\\lib\\site-packages\\pandas\\util\\_decorators.py:311\u001b[0m, in \u001b[0;36mdeprecate_nonkeyword_arguments.<locals>.decorate.<locals>.wrapper\u001b[1;34m(*args, **kwargs)\u001b[0m\n\u001b[0;32m    305\u001b[0m \u001b[39mif\u001b[39;00m \u001b[39mlen\u001b[39m(args) \u001b[39m>\u001b[39m num_allow_args:\n\u001b[0;32m    306\u001b[0m     warnings\u001b[39m.\u001b[39mwarn(\n\u001b[0;32m    307\u001b[0m         msg\u001b[39m.\u001b[39mformat(arguments\u001b[39m=\u001b[39marguments),\n\u001b[0;32m    308\u001b[0m         \u001b[39mFutureWarning\u001b[39;00m,\n\u001b[0;32m    309\u001b[0m         stacklevel\u001b[39m=\u001b[39mstacklevel,\n\u001b[0;32m    310\u001b[0m     )\n\u001b[1;32m--> 311\u001b[0m \u001b[39mreturn\u001b[39;00m func(\u001b[39m*\u001b[39margs, \u001b[39m*\u001b[39m\u001b[39m*\u001b[39mkwargs)\n",
      "File \u001b[1;32mc:\\Programming\\Python\\lib\\site-packages\\pandas\\io\\parsers\\readers.py:680\u001b[0m, in \u001b[0;36mread_csv\u001b[1;34m(filepath_or_buffer, sep, delimiter, header, names, index_col, usecols, squeeze, prefix, mangle_dupe_cols, dtype, engine, converters, true_values, false_values, skipinitialspace, skiprows, skipfooter, nrows, na_values, keep_default_na, na_filter, verbose, skip_blank_lines, parse_dates, infer_datetime_format, keep_date_col, date_parser, dayfirst, cache_dates, iterator, chunksize, compression, thousands, decimal, lineterminator, quotechar, quoting, doublequote, escapechar, comment, encoding, encoding_errors, dialect, error_bad_lines, warn_bad_lines, on_bad_lines, delim_whitespace, low_memory, memory_map, float_precision, storage_options)\u001b[0m\n\u001b[0;32m    665\u001b[0m kwds_defaults \u001b[39m=\u001b[39m _refine_defaults_read(\n\u001b[0;32m    666\u001b[0m     dialect,\n\u001b[0;32m    667\u001b[0m     delimiter,\n\u001b[1;32m   (...)\u001b[0m\n\u001b[0;32m    676\u001b[0m     defaults\u001b[39m=\u001b[39m{\u001b[39m\"\u001b[39m\u001b[39mdelimiter\u001b[39m\u001b[39m\"\u001b[39m: \u001b[39m\"\u001b[39m\u001b[39m,\u001b[39m\u001b[39m\"\u001b[39m},\n\u001b[0;32m    677\u001b[0m )\n\u001b[0;32m    678\u001b[0m kwds\u001b[39m.\u001b[39mupdate(kwds_defaults)\n\u001b[1;32m--> 680\u001b[0m \u001b[39mreturn\u001b[39;00m _read(filepath_or_buffer, kwds)\n",
      "File \u001b[1;32mc:\\Programming\\Python\\lib\\site-packages\\pandas\\io\\parsers\\readers.py:575\u001b[0m, in \u001b[0;36m_read\u001b[1;34m(filepath_or_buffer, kwds)\u001b[0m\n\u001b[0;32m    572\u001b[0m _validate_names(kwds\u001b[39m.\u001b[39mget(\u001b[39m\"\u001b[39m\u001b[39mnames\u001b[39m\u001b[39m\"\u001b[39m, \u001b[39mNone\u001b[39;00m))\n\u001b[0;32m    574\u001b[0m \u001b[39m# Create the parser.\u001b[39;00m\n\u001b[1;32m--> 575\u001b[0m parser \u001b[39m=\u001b[39m TextFileReader(filepath_or_buffer, \u001b[39m*\u001b[39m\u001b[39m*\u001b[39mkwds)\n\u001b[0;32m    577\u001b[0m \u001b[39mif\u001b[39;00m chunksize \u001b[39mor\u001b[39;00m iterator:\n\u001b[0;32m    578\u001b[0m     \u001b[39mreturn\u001b[39;00m parser\n",
      "File \u001b[1;32mc:\\Programming\\Python\\lib\\site-packages\\pandas\\io\\parsers\\readers.py:934\u001b[0m, in \u001b[0;36mTextFileReader.__init__\u001b[1;34m(self, f, engine, **kwds)\u001b[0m\n\u001b[0;32m    931\u001b[0m     \u001b[39mself\u001b[39m\u001b[39m.\u001b[39moptions[\u001b[39m\"\u001b[39m\u001b[39mhas_index_names\u001b[39m\u001b[39m\"\u001b[39m] \u001b[39m=\u001b[39m kwds[\u001b[39m\"\u001b[39m\u001b[39mhas_index_names\u001b[39m\u001b[39m\"\u001b[39m]\n\u001b[0;32m    933\u001b[0m \u001b[39mself\u001b[39m\u001b[39m.\u001b[39mhandles: IOHandles \u001b[39m|\u001b[39m \u001b[39mNone\u001b[39;00m \u001b[39m=\u001b[39m \u001b[39mNone\u001b[39;00m\n\u001b[1;32m--> 934\u001b[0m \u001b[39mself\u001b[39m\u001b[39m.\u001b[39m_engine \u001b[39m=\u001b[39m \u001b[39mself\u001b[39;49m\u001b[39m.\u001b[39;49m_make_engine(f, \u001b[39mself\u001b[39;49m\u001b[39m.\u001b[39;49mengine)\n",
      "File \u001b[1;32mc:\\Programming\\Python\\lib\\site-packages\\pandas\\io\\parsers\\readers.py:1218\u001b[0m, in \u001b[0;36mTextFileReader._make_engine\u001b[1;34m(self, f, engine)\u001b[0m\n\u001b[0;32m   1214\u001b[0m     mode \u001b[39m=\u001b[39m \u001b[39m\"\u001b[39m\u001b[39mrb\u001b[39m\u001b[39m\"\u001b[39m\n\u001b[0;32m   1215\u001b[0m \u001b[39m# error: No overload variant of \"get_handle\" matches argument types\u001b[39;00m\n\u001b[0;32m   1216\u001b[0m \u001b[39m# \"Union[str, PathLike[str], ReadCsvBuffer[bytes], ReadCsvBuffer[str]]\"\u001b[39;00m\n\u001b[0;32m   1217\u001b[0m \u001b[39m# , \"str\", \"bool\", \"Any\", \"Any\", \"Any\", \"Any\", \"Any\"\u001b[39;00m\n\u001b[1;32m-> 1218\u001b[0m \u001b[39mself\u001b[39m\u001b[39m.\u001b[39mhandles \u001b[39m=\u001b[39m get_handle(  \u001b[39m# type: ignore[call-overload]\u001b[39;49;00m\n\u001b[0;32m   1219\u001b[0m     f,\n\u001b[0;32m   1220\u001b[0m     mode,\n\u001b[0;32m   1221\u001b[0m     encoding\u001b[39m=\u001b[39;49m\u001b[39mself\u001b[39;49m\u001b[39m.\u001b[39;49moptions\u001b[39m.\u001b[39;49mget(\u001b[39m\"\u001b[39;49m\u001b[39mencoding\u001b[39;49m\u001b[39m\"\u001b[39;49m, \u001b[39mNone\u001b[39;49;00m),\n\u001b[0;32m   1222\u001b[0m     compression\u001b[39m=\u001b[39;49m\u001b[39mself\u001b[39;49m\u001b[39m.\u001b[39;49moptions\u001b[39m.\u001b[39;49mget(\u001b[39m\"\u001b[39;49m\u001b[39mcompression\u001b[39;49m\u001b[39m\"\u001b[39;49m, \u001b[39mNone\u001b[39;49;00m),\n\u001b[0;32m   1223\u001b[0m     memory_map\u001b[39m=\u001b[39;49m\u001b[39mself\u001b[39;49m\u001b[39m.\u001b[39;49moptions\u001b[39m.\u001b[39;49mget(\u001b[39m\"\u001b[39;49m\u001b[39mmemory_map\u001b[39;49m\u001b[39m\"\u001b[39;49m, \u001b[39mFalse\u001b[39;49;00m),\n\u001b[0;32m   1224\u001b[0m     is_text\u001b[39m=\u001b[39;49mis_text,\n\u001b[0;32m   1225\u001b[0m     errors\u001b[39m=\u001b[39;49m\u001b[39mself\u001b[39;49m\u001b[39m.\u001b[39;49moptions\u001b[39m.\u001b[39;49mget(\u001b[39m\"\u001b[39;49m\u001b[39mencoding_errors\u001b[39;49m\u001b[39m\"\u001b[39;49m, \u001b[39m\"\u001b[39;49m\u001b[39mstrict\u001b[39;49m\u001b[39m\"\u001b[39;49m),\n\u001b[0;32m   1226\u001b[0m     storage_options\u001b[39m=\u001b[39;49m\u001b[39mself\u001b[39;49m\u001b[39m.\u001b[39;49moptions\u001b[39m.\u001b[39;49mget(\u001b[39m\"\u001b[39;49m\u001b[39mstorage_options\u001b[39;49m\u001b[39m\"\u001b[39;49m, \u001b[39mNone\u001b[39;49;00m),\n\u001b[0;32m   1227\u001b[0m )\n\u001b[0;32m   1228\u001b[0m \u001b[39massert\u001b[39;00m \u001b[39mself\u001b[39m\u001b[39m.\u001b[39mhandles \u001b[39mis\u001b[39;00m \u001b[39mnot\u001b[39;00m \u001b[39mNone\u001b[39;00m\n\u001b[0;32m   1229\u001b[0m f \u001b[39m=\u001b[39m \u001b[39mself\u001b[39m\u001b[39m.\u001b[39mhandles\u001b[39m.\u001b[39mhandle\n",
      "File \u001b[1;32mc:\\Programming\\Python\\lib\\site-packages\\pandas\\io\\common.py:786\u001b[0m, in \u001b[0;36mget_handle\u001b[1;34m(path_or_buf, mode, encoding, compression, memory_map, is_text, errors, storage_options)\u001b[0m\n\u001b[0;32m    781\u001b[0m \u001b[39melif\u001b[39;00m \u001b[39misinstance\u001b[39m(handle, \u001b[39mstr\u001b[39m):\n\u001b[0;32m    782\u001b[0m     \u001b[39m# Check whether the filename is to be opened in binary mode.\u001b[39;00m\n\u001b[0;32m    783\u001b[0m     \u001b[39m# Binary mode does not support 'encoding' and 'newline'.\u001b[39;00m\n\u001b[0;32m    784\u001b[0m     \u001b[39mif\u001b[39;00m ioargs\u001b[39m.\u001b[39mencoding \u001b[39mand\u001b[39;00m \u001b[39m\"\u001b[39m\u001b[39mb\u001b[39m\u001b[39m\"\u001b[39m \u001b[39mnot\u001b[39;00m \u001b[39min\u001b[39;00m ioargs\u001b[39m.\u001b[39mmode:\n\u001b[0;32m    785\u001b[0m         \u001b[39m# Encoding\u001b[39;00m\n\u001b[1;32m--> 786\u001b[0m         handle \u001b[39m=\u001b[39m \u001b[39mopen\u001b[39;49m(\n\u001b[0;32m    787\u001b[0m             handle,\n\u001b[0;32m    788\u001b[0m             ioargs\u001b[39m.\u001b[39;49mmode,\n\u001b[0;32m    789\u001b[0m             encoding\u001b[39m=\u001b[39;49mioargs\u001b[39m.\u001b[39;49mencoding,\n\u001b[0;32m    790\u001b[0m             errors\u001b[39m=\u001b[39;49merrors,\n\u001b[0;32m    791\u001b[0m             newline\u001b[39m=\u001b[39;49m\u001b[39m\"\u001b[39;49m\u001b[39m\"\u001b[39;49m,\n\u001b[0;32m    792\u001b[0m         )\n\u001b[0;32m    793\u001b[0m     \u001b[39melse\u001b[39;00m:\n\u001b[0;32m    794\u001b[0m         \u001b[39m# Binary mode\u001b[39;00m\n\u001b[0;32m    795\u001b[0m         handle \u001b[39m=\u001b[39m \u001b[39mopen\u001b[39m(handle, ioargs\u001b[39m.\u001b[39mmode)\n",
      "\u001b[1;31mFileNotFoundError\u001b[0m: [Errno 2] No such file or directory: '/SimulationData/eps_rho_sim.csv'"
     ]
    }
   ],
   "source": [
    "\n",
    "# general simulation stuff\n",
    "list_eps_values = np.arange(0.5, 2, 0.05)\n",
    "list_rho_values = np.arange(1, 2, 0.05)\n",
    "\n",
    "num_sim_per_param = 10 # number of simulations with given parameter set\n",
    "num_MTO_per_sim = 100 # number of simulations on each network\n",
    "\n",
    "#df_rho_eps = MTO_simulator(list_eps_values=list_eps_values, list_rho_values=list_rho_values, num_MTO_per_sim=num_MTO_per_sim, num_sim_per_param=num_sim_per_param)\n",
    "#df_rho_eps.to_csv('eps_rho_sim.csv')\n",
    "\n",
    "df_eps_rho = pd.read_csv('/SimulationData/eps_rho_sim.csv')\n",
    "\n",
    "df_eps_rho.sample(5)\n"
   ]
  },
  {
   "attachments": {},
   "cell_type": "markdown",
   "metadata": {},
   "source": [
    "### Share of H friends: redo this and the rho and only vary rho or epsilon (with more values)"
   ]
  },
  {
   "cell_type": "code",
   "execution_count": 23,
   "metadata": {},
   "outputs": [
    {
     "data": {
      "application/vnd.plotly.v1+json": {
       "config": {
        "plotlyServerURL": "https://plot.ly"
       },
       "data": [
        {
         "line": {
          "color": "rgba(0,0,255,1)",
          "width": 2
         },
         "mode": "lines",
         "name": "Low SES",
         "showlegend": true,
         "type": "scatter",
         "x": [
          0.5,
          0.55,
          0.6000000000000001,
          0.6500000000000001,
          0.7000000000000002,
          0.7500000000000002,
          0.8000000000000003,
          0.8500000000000003,
          0.9000000000000004,
          0.9500000000000004,
          1.0000000000000004,
          1.0500000000000005,
          1.1000000000000003,
          1.1500000000000006,
          1.2000000000000006,
          1.2500000000000009,
          1.3000000000000007,
          1.3500000000000008,
          1.4000000000000008,
          1.4500000000000008,
          1.5000000000000009,
          1.550000000000001,
          1.600000000000001,
          1.650000000000001,
          1.700000000000001,
          1.750000000000001,
          1.8000000000000012,
          1.8500000000000008,
          1.9000000000000008,
          1.9500000000000013
         ],
         "y": [
          0.5635950344103899,
          0.5384345465603168,
          0.5139533678914775,
          0.5063332146011936,
          0.4932103612513648,
          0.47548801496015486,
          0.4700833977559251,
          0.44951430560102834,
          0.4421802011026517,
          0.4286604927541509,
          0.41942254820450037,
          0.4120563705786709,
          0.4024663843578425,
          0.3847670035330334,
          0.3867899941674662,
          0.38058060328314725,
          0.3723428915285011,
          0.3566407471702762,
          0.3570237929835219,
          0.349291144208026,
          0.34244476437169835,
          0.3338243732056091,
          0.33549304859680984,
          0.32619730548720666,
          0.32123351384266996,
          0.31220704054266957,
          0.30762245903507507,
          0.30353063916002526,
          0.30221217366496855,
          0.2936675315735542
         ]
        },
        {
         "line": {
          "color": "rgba(0,0,255,0.25)",
          "width": 2
         },
         "mode": "lines",
         "showlegend": false,
         "type": "scatter",
         "x": [
          0.5,
          0.55,
          0.6000000000000001,
          0.6500000000000001,
          0.7000000000000002,
          0.7500000000000002,
          0.8000000000000003,
          0.8500000000000003,
          0.9000000000000004,
          0.9500000000000004,
          1.0000000000000004,
          1.0500000000000005,
          1.1000000000000003,
          1.1500000000000006,
          1.2000000000000006,
          1.2500000000000009,
          1.3000000000000007,
          1.3500000000000008,
          1.4000000000000008,
          1.4500000000000008,
          1.5000000000000009,
          1.550000000000001,
          1.600000000000001,
          1.650000000000001,
          1.700000000000001,
          1.750000000000001,
          1.8000000000000012,
          1.8500000000000008,
          1.9000000000000008,
          1.9500000000000013
         ],
         "y": [
          0.5683254934407582,
          0.5436688945672179,
          0.5191968556964126,
          0.5113988056920945,
          0.49812453056017997,
          0.4805594471896042,
          0.47479700961785803,
          0.45405693640861666,
          0.44668420467243086,
          0.43332259971225146,
          0.42404594653831773,
          0.4163926830559458,
          0.4072688692250621,
          0.3891570576793941,
          0.3909043346651228,
          0.3846130249473965,
          0.3768727723926122,
          0.3609473575735725,
          0.361270118303664,
          0.3533700615764707,
          0.346713894539033,
          0.3380362119968532,
          0.339695195742942,
          0.3300290484667313,
          0.3250666491882556,
          0.31596488882928403,
          0.31156514481167535,
          0.3073806332384682,
          0.306038760147876,
          0.29757478135233284
         ]
        },
        {
         "fill": "tonexty",
         "fillcolor": "rgba(68, 68, 68, 0.2)",
         "line": {
          "color": "rgba(0,0,255,0.25)",
          "width": 2
         },
         "mode": "lines",
         "showlegend": false,
         "type": "scatter",
         "x": [
          0.5,
          0.55,
          0.6000000000000001,
          0.6500000000000001,
          0.7000000000000002,
          0.7500000000000002,
          0.8000000000000003,
          0.8500000000000003,
          0.9000000000000004,
          0.9500000000000004,
          1.0000000000000004,
          1.0500000000000005,
          1.1000000000000003,
          1.1500000000000006,
          1.2000000000000006,
          1.2500000000000009,
          1.3000000000000007,
          1.3500000000000008,
          1.4000000000000008,
          1.4500000000000008,
          1.5000000000000009,
          1.550000000000001,
          1.600000000000001,
          1.650000000000001,
          1.700000000000001,
          1.750000000000001,
          1.8000000000000012,
          1.8500000000000008,
          1.9000000000000008,
          1.9500000000000013
         ],
         "y": [
          0.5588645753800217,
          0.5332001985534156,
          0.5087098800865424,
          0.5012676235102927,
          0.48829619194254964,
          0.4704165827307055,
          0.4653697858939922,
          0.44497167479344,
          0.43767619753287257,
          0.42399838579605037,
          0.414799149870683,
          0.407720058101396,
          0.39766389949062286,
          0.38037694938667266,
          0.38267565366980955,
          0.37654818161889797,
          0.36781301066439,
          0.35233413676697994,
          0.35277746766337975,
          0.34521222683958125,
          0.3381756342043637,
          0.329612534414365,
          0.3312909014506777,
          0.322365562507682,
          0.3174003784970843,
          0.3084491922560551,
          0.3036797732584748,
          0.2996806450815823,
          0.2983855871820611,
          0.28976028179477553
         ]
        },
        {
         "line": {
          "color": "rgba(255,0,0,1)",
          "width": 2
         },
         "mode": "lines",
         "name": "High SES",
         "showlegend": true,
         "type": "scatter",
         "x": [
          0.5,
          0.55,
          0.6000000000000001,
          0.6500000000000001,
          0.7000000000000002,
          0.7500000000000002,
          0.8000000000000003,
          0.8500000000000003,
          0.9000000000000004,
          0.9500000000000004,
          1.0000000000000004,
          1.0500000000000005,
          1.1000000000000003,
          1.1500000000000006,
          1.2000000000000006,
          1.2500000000000009,
          1.3000000000000007,
          1.3500000000000008,
          1.4000000000000008,
          1.4500000000000008,
          1.5000000000000009,
          1.550000000000001,
          1.600000000000001,
          1.650000000000001,
          1.700000000000001,
          1.750000000000001,
          1.8000000000000012,
          1.8500000000000008,
          1.9000000000000008,
          1.9500000000000013
         ],
         "y": [
          0.44641909906305144,
          0.45739222106925054,
          0.46477916914998796,
          0.49183549308154717,
          0.5088743027067404,
          0.5227774470237325,
          0.5345284117407926,
          0.5465675212427152,
          0.5594267782347615,
          0.5689732481692731,
          0.581909104244065,
          0.5886761988377364,
          0.5965801384844194,
          0.5973873040259902,
          0.6210238997620094,
          0.6239068431454224,
          0.6349307003385614,
          0.6351553433562966,
          0.6481110156895572,
          0.651461552710656,
          0.6612383971243813,
          0.665023124991206,
          0.6746741209433994,
          0.6768225634362726,
          0.6838462268139802,
          0.6881368756249079,
          0.6934979193896569,
          0.6966781532832322,
          0.7051245869317078,
          0.7072787803266892
         ]
        },
        {
         "line": {
          "color": "rgba(255,0,0,0.25)",
          "width": 2
         },
         "mode": "lines",
         "showlegend": false,
         "type": "scatter",
         "x": [
          0.5,
          0.55,
          0.6000000000000001,
          0.6500000000000001,
          0.7000000000000002,
          0.7500000000000002,
          0.8000000000000003,
          0.8500000000000003,
          0.9000000000000004,
          0.9500000000000004,
          1.0000000000000004,
          1.0500000000000005,
          1.1000000000000003,
          1.1500000000000006,
          1.2000000000000006,
          1.2500000000000009,
          1.3000000000000007,
          1.3500000000000008,
          1.4000000000000008,
          1.4500000000000008,
          1.5000000000000009,
          1.550000000000001,
          1.600000000000001,
          1.650000000000001,
          1.700000000000001,
          1.750000000000001,
          1.8000000000000012,
          1.8500000000000008,
          1.9000000000000008,
          1.9500000000000013
         ],
         "y": [
          0.4515169270835511,
          0.46219616271955716,
          0.4695834479983579,
          0.496996481689679,
          0.5137708015050524,
          0.5276680978832715,
          0.5391907834802161,
          0.5510844215632789,
          0.5639639644965215,
          0.5736908219757241,
          0.5864432114343093,
          0.5933349974207827,
          0.6009940847813597,
          0.6018923628865904,
          0.6252646049284416,
          0.6284913803546112,
          0.6388935816992708,
          0.639322027579232,
          0.6523072468510389,
          0.6556757959435364,
          0.6654167932942896,
          0.6691568847047205,
          0.678666126657068,
          0.680632283289524,
          0.6875555040466905,
          0.6922272293573404,
          0.6972651868867764,
          0.7006175365225695,
          0.709063493897421,
          0.7110735623312856
         ]
        },
        {
         "fill": "tonexty",
         "fillcolor": "rgba(68, 68, 68, 0.2)",
         "line": {
          "color": "rgba(255,0,0,0.25)",
          "width": 2
         },
         "mode": "lines",
         "showlegend": false,
         "type": "scatter",
         "x": [
          0.5,
          0.55,
          0.6000000000000001,
          0.6500000000000001,
          0.7000000000000002,
          0.7500000000000002,
          0.8000000000000003,
          0.8500000000000003,
          0.9000000000000004,
          0.9500000000000004,
          1.0000000000000004,
          1.0500000000000005,
          1.1000000000000003,
          1.1500000000000006,
          1.2000000000000006,
          1.2500000000000009,
          1.3000000000000007,
          1.3500000000000008,
          1.4000000000000008,
          1.4500000000000008,
          1.5000000000000009,
          1.550000000000001,
          1.600000000000001,
          1.650000000000001,
          1.700000000000001,
          1.750000000000001,
          1.8000000000000012,
          1.8500000000000008,
          1.9000000000000008,
          1.9500000000000013
         ],
         "y": [
          0.44132127104255175,
          0.4525882794189439,
          0.45997489030161803,
          0.4866745044734153,
          0.5039778039084284,
          0.5178867961641935,
          0.529866040001369,
          0.5420506209221516,
          0.5548895919730015,
          0.5642556743628221,
          0.5773749970538206,
          0.5840174002546901,
          0.592166192187479,
          0.5928822451653899,
          0.6167831945955773,
          0.6193223059362337,
          0.6309678189778519,
          0.6309886591333613,
          0.6439147845280755,
          0.6472473094777755,
          0.6570600009544729,
          0.6608893652776915,
          0.6706821152297308,
          0.6730128435830212,
          0.6801369495812699,
          0.6840465218924754,
          0.6897306518925373,
          0.692738770043895,
          0.7011856799659946,
          0.7034839983220929
         ]
        }
       ],
       "layout": {
        "annotations": [
         {
          "showarrow": false,
          "text": "Equal share",
          "x": 1,
          "xanchor": "right",
          "xref": "x domain",
          "y": 0.5,
          "yanchor": "bottom",
          "yref": "y"
         },
         {
          "showarrow": false,
          "text": "ϵ=1: no bias",
          "x": 1,
          "xanchor": "left",
          "xref": "x",
          "y": 1,
          "yanchor": "top",
          "yref": "y domain"
         }
        ],
        "font": {
         "size": 18
        },
        "height": 500,
        "legend": {
         "title": {
          "text": ""
         },
         "x": 0.75,
         "y": 1
        },
        "margin": {
         "b": 5,
         "l": 5,
         "r": 5,
         "t": 5
        },
        "plot_bgcolor": "rgba(0,0,0,0)",
        "shapes": [
         {
          "line": {
           "width": 1
          },
          "type": "line",
          "x0": 0,
          "x1": 1,
          "xref": "x domain",
          "y0": 0.5,
          "y1": 0.5,
          "yref": "y"
         },
         {
          "line": {
           "width": 1
          },
          "type": "line",
          "x0": 1,
          "x1": 1,
          "xref": "x",
          "y0": 0,
          "y1": 1,
          "yref": "y domain"
         }
        ],
        "showlegend": true,
        "template": {
         "data": {
          "bar": [
           {
            "error_x": {
             "color": "#2a3f5f"
            },
            "error_y": {
             "color": "#2a3f5f"
            },
            "marker": {
             "line": {
              "color": "#E5ECF6",
              "width": 0.5
             },
             "pattern": {
              "fillmode": "overlay",
              "size": 10,
              "solidity": 0.2
             }
            },
            "type": "bar"
           }
          ],
          "barpolar": [
           {
            "marker": {
             "line": {
              "color": "#E5ECF6",
              "width": 0.5
             },
             "pattern": {
              "fillmode": "overlay",
              "size": 10,
              "solidity": 0.2
             }
            },
            "type": "barpolar"
           }
          ],
          "carpet": [
           {
            "aaxis": {
             "endlinecolor": "#2a3f5f",
             "gridcolor": "white",
             "linecolor": "white",
             "minorgridcolor": "white",
             "startlinecolor": "#2a3f5f"
            },
            "baxis": {
             "endlinecolor": "#2a3f5f",
             "gridcolor": "white",
             "linecolor": "white",
             "minorgridcolor": "white",
             "startlinecolor": "#2a3f5f"
            },
            "type": "carpet"
           }
          ],
          "choropleth": [
           {
            "colorbar": {
             "outlinewidth": 0,
             "ticks": ""
            },
            "type": "choropleth"
           }
          ],
          "contour": [
           {
            "colorbar": {
             "outlinewidth": 0,
             "ticks": ""
            },
            "colorscale": [
             [
              0,
              "#0d0887"
             ],
             [
              0.1111111111111111,
              "#46039f"
             ],
             [
              0.2222222222222222,
              "#7201a8"
             ],
             [
              0.3333333333333333,
              "#9c179e"
             ],
             [
              0.4444444444444444,
              "#bd3786"
             ],
             [
              0.5555555555555556,
              "#d8576b"
             ],
             [
              0.6666666666666666,
              "#ed7953"
             ],
             [
              0.7777777777777778,
              "#fb9f3a"
             ],
             [
              0.8888888888888888,
              "#fdca26"
             ],
             [
              1,
              "#f0f921"
             ]
            ],
            "type": "contour"
           }
          ],
          "contourcarpet": [
           {
            "colorbar": {
             "outlinewidth": 0,
             "ticks": ""
            },
            "type": "contourcarpet"
           }
          ],
          "heatmap": [
           {
            "colorbar": {
             "outlinewidth": 0,
             "ticks": ""
            },
            "colorscale": [
             [
              0,
              "#0d0887"
             ],
             [
              0.1111111111111111,
              "#46039f"
             ],
             [
              0.2222222222222222,
              "#7201a8"
             ],
             [
              0.3333333333333333,
              "#9c179e"
             ],
             [
              0.4444444444444444,
              "#bd3786"
             ],
             [
              0.5555555555555556,
              "#d8576b"
             ],
             [
              0.6666666666666666,
              "#ed7953"
             ],
             [
              0.7777777777777778,
              "#fb9f3a"
             ],
             [
              0.8888888888888888,
              "#fdca26"
             ],
             [
              1,
              "#f0f921"
             ]
            ],
            "type": "heatmap"
           }
          ],
          "heatmapgl": [
           {
            "colorbar": {
             "outlinewidth": 0,
             "ticks": ""
            },
            "colorscale": [
             [
              0,
              "#0d0887"
             ],
             [
              0.1111111111111111,
              "#46039f"
             ],
             [
              0.2222222222222222,
              "#7201a8"
             ],
             [
              0.3333333333333333,
              "#9c179e"
             ],
             [
              0.4444444444444444,
              "#bd3786"
             ],
             [
              0.5555555555555556,
              "#d8576b"
             ],
             [
              0.6666666666666666,
              "#ed7953"
             ],
             [
              0.7777777777777778,
              "#fb9f3a"
             ],
             [
              0.8888888888888888,
              "#fdca26"
             ],
             [
              1,
              "#f0f921"
             ]
            ],
            "type": "heatmapgl"
           }
          ],
          "histogram": [
           {
            "marker": {
             "pattern": {
              "fillmode": "overlay",
              "size": 10,
              "solidity": 0.2
             }
            },
            "type": "histogram"
           }
          ],
          "histogram2d": [
           {
            "colorbar": {
             "outlinewidth": 0,
             "ticks": ""
            },
            "colorscale": [
             [
              0,
              "#0d0887"
             ],
             [
              0.1111111111111111,
              "#46039f"
             ],
             [
              0.2222222222222222,
              "#7201a8"
             ],
             [
              0.3333333333333333,
              "#9c179e"
             ],
             [
              0.4444444444444444,
              "#bd3786"
             ],
             [
              0.5555555555555556,
              "#d8576b"
             ],
             [
              0.6666666666666666,
              "#ed7953"
             ],
             [
              0.7777777777777778,
              "#fb9f3a"
             ],
             [
              0.8888888888888888,
              "#fdca26"
             ],
             [
              1,
              "#f0f921"
             ]
            ],
            "type": "histogram2d"
           }
          ],
          "histogram2dcontour": [
           {
            "colorbar": {
             "outlinewidth": 0,
             "ticks": ""
            },
            "colorscale": [
             [
              0,
              "#0d0887"
             ],
             [
              0.1111111111111111,
              "#46039f"
             ],
             [
              0.2222222222222222,
              "#7201a8"
             ],
             [
              0.3333333333333333,
              "#9c179e"
             ],
             [
              0.4444444444444444,
              "#bd3786"
             ],
             [
              0.5555555555555556,
              "#d8576b"
             ],
             [
              0.6666666666666666,
              "#ed7953"
             ],
             [
              0.7777777777777778,
              "#fb9f3a"
             ],
             [
              0.8888888888888888,
              "#fdca26"
             ],
             [
              1,
              "#f0f921"
             ]
            ],
            "type": "histogram2dcontour"
           }
          ],
          "mesh3d": [
           {
            "colorbar": {
             "outlinewidth": 0,
             "ticks": ""
            },
            "type": "mesh3d"
           }
          ],
          "parcoords": [
           {
            "line": {
             "colorbar": {
              "outlinewidth": 0,
              "ticks": ""
             }
            },
            "type": "parcoords"
           }
          ],
          "pie": [
           {
            "automargin": true,
            "type": "pie"
           }
          ],
          "scatter": [
           {
            "fillpattern": {
             "fillmode": "overlay",
             "size": 10,
             "solidity": 0.2
            },
            "type": "scatter"
           }
          ],
          "scatter3d": [
           {
            "line": {
             "colorbar": {
              "outlinewidth": 0,
              "ticks": ""
             }
            },
            "marker": {
             "colorbar": {
              "outlinewidth": 0,
              "ticks": ""
             }
            },
            "type": "scatter3d"
           }
          ],
          "scattercarpet": [
           {
            "marker": {
             "colorbar": {
              "outlinewidth": 0,
              "ticks": ""
             }
            },
            "type": "scattercarpet"
           }
          ],
          "scattergeo": [
           {
            "marker": {
             "colorbar": {
              "outlinewidth": 0,
              "ticks": ""
             }
            },
            "type": "scattergeo"
           }
          ],
          "scattergl": [
           {
            "marker": {
             "colorbar": {
              "outlinewidth": 0,
              "ticks": ""
             }
            },
            "type": "scattergl"
           }
          ],
          "scattermapbox": [
           {
            "marker": {
             "colorbar": {
              "outlinewidth": 0,
              "ticks": ""
             }
            },
            "type": "scattermapbox"
           }
          ],
          "scatterpolar": [
           {
            "marker": {
             "colorbar": {
              "outlinewidth": 0,
              "ticks": ""
             }
            },
            "type": "scatterpolar"
           }
          ],
          "scatterpolargl": [
           {
            "marker": {
             "colorbar": {
              "outlinewidth": 0,
              "ticks": ""
             }
            },
            "type": "scatterpolargl"
           }
          ],
          "scatterternary": [
           {
            "marker": {
             "colorbar": {
              "outlinewidth": 0,
              "ticks": ""
             }
            },
            "type": "scatterternary"
           }
          ],
          "surface": [
           {
            "colorbar": {
             "outlinewidth": 0,
             "ticks": ""
            },
            "colorscale": [
             [
              0,
              "#0d0887"
             ],
             [
              0.1111111111111111,
              "#46039f"
             ],
             [
              0.2222222222222222,
              "#7201a8"
             ],
             [
              0.3333333333333333,
              "#9c179e"
             ],
             [
              0.4444444444444444,
              "#bd3786"
             ],
             [
              0.5555555555555556,
              "#d8576b"
             ],
             [
              0.6666666666666666,
              "#ed7953"
             ],
             [
              0.7777777777777778,
              "#fb9f3a"
             ],
             [
              0.8888888888888888,
              "#fdca26"
             ],
             [
              1,
              "#f0f921"
             ]
            ],
            "type": "surface"
           }
          ],
          "table": [
           {
            "cells": {
             "fill": {
              "color": "#EBF0F8"
             },
             "line": {
              "color": "white"
             }
            },
            "header": {
             "fill": {
              "color": "#C8D4E3"
             },
             "line": {
              "color": "white"
             }
            },
            "type": "table"
           }
          ]
         },
         "layout": {
          "annotationdefaults": {
           "arrowcolor": "#2a3f5f",
           "arrowhead": 0,
           "arrowwidth": 1
          },
          "autotypenumbers": "strict",
          "coloraxis": {
           "colorbar": {
            "outlinewidth": 0,
            "ticks": ""
           }
          },
          "colorscale": {
           "diverging": [
            [
             0,
             "#8e0152"
            ],
            [
             0.1,
             "#c51b7d"
            ],
            [
             0.2,
             "#de77ae"
            ],
            [
             0.3,
             "#f1b6da"
            ],
            [
             0.4,
             "#fde0ef"
            ],
            [
             0.5,
             "#f7f7f7"
            ],
            [
             0.6,
             "#e6f5d0"
            ],
            [
             0.7,
             "#b8e186"
            ],
            [
             0.8,
             "#7fbc41"
            ],
            [
             0.9,
             "#4d9221"
            ],
            [
             1,
             "#276419"
            ]
           ],
           "sequential": [
            [
             0,
             "#0d0887"
            ],
            [
             0.1111111111111111,
             "#46039f"
            ],
            [
             0.2222222222222222,
             "#7201a8"
            ],
            [
             0.3333333333333333,
             "#9c179e"
            ],
            [
             0.4444444444444444,
             "#bd3786"
            ],
            [
             0.5555555555555556,
             "#d8576b"
            ],
            [
             0.6666666666666666,
             "#ed7953"
            ],
            [
             0.7777777777777778,
             "#fb9f3a"
            ],
            [
             0.8888888888888888,
             "#fdca26"
            ],
            [
             1,
             "#f0f921"
            ]
           ],
           "sequentialminus": [
            [
             0,
             "#0d0887"
            ],
            [
             0.1111111111111111,
             "#46039f"
            ],
            [
             0.2222222222222222,
             "#7201a8"
            ],
            [
             0.3333333333333333,
             "#9c179e"
            ],
            [
             0.4444444444444444,
             "#bd3786"
            ],
            [
             0.5555555555555556,
             "#d8576b"
            ],
            [
             0.6666666666666666,
             "#ed7953"
            ],
            [
             0.7777777777777778,
             "#fb9f3a"
            ],
            [
             0.8888888888888888,
             "#fdca26"
            ],
            [
             1,
             "#f0f921"
            ]
           ]
          },
          "colorway": [
           "#636efa",
           "#EF553B",
           "#00cc96",
           "#ab63fa",
           "#FFA15A",
           "#19d3f3",
           "#FF6692",
           "#B6E880",
           "#FF97FF",
           "#FECB52"
          ],
          "font": {
           "color": "#2a3f5f"
          },
          "geo": {
           "bgcolor": "white",
           "lakecolor": "white",
           "landcolor": "#E5ECF6",
           "showlakes": true,
           "showland": true,
           "subunitcolor": "white"
          },
          "hoverlabel": {
           "align": "left"
          },
          "hovermode": "closest",
          "mapbox": {
           "style": "light"
          },
          "paper_bgcolor": "white",
          "plot_bgcolor": "#E5ECF6",
          "polar": {
           "angularaxis": {
            "gridcolor": "white",
            "linecolor": "white",
            "ticks": ""
           },
           "bgcolor": "#E5ECF6",
           "radialaxis": {
            "gridcolor": "white",
            "linecolor": "white",
            "ticks": ""
           }
          },
          "scene": {
           "xaxis": {
            "backgroundcolor": "#E5ECF6",
            "gridcolor": "white",
            "gridwidth": 2,
            "linecolor": "white",
            "showbackground": true,
            "ticks": "",
            "zerolinecolor": "white"
           },
           "yaxis": {
            "backgroundcolor": "#E5ECF6",
            "gridcolor": "white",
            "gridwidth": 2,
            "linecolor": "white",
            "showbackground": true,
            "ticks": "",
            "zerolinecolor": "white"
           },
           "zaxis": {
            "backgroundcolor": "#E5ECF6",
            "gridcolor": "white",
            "gridwidth": 2,
            "linecolor": "white",
            "showbackground": true,
            "ticks": "",
            "zerolinecolor": "white"
           }
          },
          "shapedefaults": {
           "line": {
            "color": "#2a3f5f"
           }
          },
          "ternary": {
           "aaxis": {
            "gridcolor": "white",
            "linecolor": "white",
            "ticks": ""
           },
           "baxis": {
            "gridcolor": "white",
            "linecolor": "white",
            "ticks": ""
           },
           "bgcolor": "#E5ECF6",
           "caxis": {
            "gridcolor": "white",
            "linecolor": "white",
            "ticks": ""
           }
          },
          "title": {
           "x": 0.05
          },
          "xaxis": {
           "automargin": true,
           "gridcolor": "white",
           "linecolor": "white",
           "ticks": "",
           "title": {
            "standoff": 15
           },
           "zerolinecolor": "white",
           "zerolinewidth": 2
          },
          "yaxis": {
           "automargin": true,
           "gridcolor": "white",
           "linecolor": "white",
           "ticks": "",
           "title": {
            "standoff": 15
           },
           "zerolinecolor": "white",
           "zerolinewidth": 2
          }
         }
        },
        "title": {},
        "width": 500,
        "xaxis": {
         "linecolor": "rgb(0,0,0)",
         "linewidth": 2,
         "range": [
          0.5,
          2
         ],
         "showgrid": false,
         "showline": true,
         "title": {
          "text": "Epsilon"
         }
        },
        "yaxis": {
         "linecolor": "rgb(0,0,0)",
         "linewidth": 2,
         "range": [
          0.25,
          0.75
         ],
         "showgrid": false,
         "showline": true,
         "title": {
          "text": "Share of HSES friends"
         }
        }
       }
      }
     },
     "metadata": {},
     "output_type": "display_data"
    }
   ],
   "source": [
    "\n",
    "fig1 = plotly_lines.plot_MTO_sim_results(plotly_lines(), data=df_eps_rho, x_var='epsilon', y_var='Network_H_Share_H', x_range=[1,2], y_range=[0,2], x_title='epsilon', y_title='Exposure', with_predicted=False, colors=['rgba(255,0,0,1)'])\n",
    "fig2 = plotly_lines.plot_MTO_sim_results(plotly_lines(), data=df_eps_rho, x_var='epsilon', y_var='Network_H_Share_L', x_range=[1,2], y_range=[0,2], x_title='epsilon', y_title='Exposure', with_predicted=False, colors=['rgba(0,0,255,1)'])\n",
    "\n",
    "fig1['data'][0]['name'] = 'High SES'\n",
    "fig2['data'][0]['name'] = 'Low SES'\n",
    "\n",
    "fig = go.Figure(data = fig2.data + fig1.data)\n",
    "\n",
    "fig.update_layout(\n",
    "    title = None, \n",
    "    font=dict(size = 18),\n",
    "    xaxis_title = 'Epsilon', \n",
    "    yaxis_title = 'Share of HSES friends',\n",
    "    width = 500, height = 500,\n",
    "    showlegend = True, \n",
    "    legend=dict(x=0.75,y=1),\n",
    "    legend_title_text = '',\n",
    "    xaxis_range = [0.5,2],\n",
    "    yaxis_range = [0.25,0.75],\n",
    "    margin=dict(b=5,l=5,r=5,t=5),\n",
    "    xaxis = dict(showgrid = False, showline = True, linecolor = 'rgb(0,0,0)', linewidth = 2), \n",
    "    yaxis = dict(showgrid = False, showline = True, linecolor = 'rgb(0,0,0)', linewidth = 2),\n",
    "    plot_bgcolor='rgba(0,0,0,0)')\n",
    "\n",
    "\n",
    "fig.add_hline(y=0.5, line_width=1, annotation_text = 'Equal share')\n",
    "fig.add_vline(x=1, line_width=1, annotation_text = 'ϵ=1: no bias')\n"
   ]
  },
  {
   "cell_type": "code",
   "execution_count": 24,
   "metadata": {},
   "outputs": [
    {
     "data": {
      "application/vnd.plotly.v1+json": {
       "config": {
        "plotlyServerURL": "https://plot.ly"
       },
       "data": [
        {
         "line": {
          "color": "rgba(0,0,255,1)",
          "width": 2
         },
         "mode": "lines",
         "name": "Low SES",
         "showlegend": true,
         "type": "scatter",
         "x": [
          1,
          1.05,
          1.1,
          1.15,
          1.2000000000000002,
          1.2500000000000002,
          1.3000000000000005,
          1.3500000000000003,
          1.4000000000000004,
          1.4500000000000004,
          1.5000000000000004,
          1.5500000000000005,
          1.6000000000000003,
          1.6500000000000006,
          1.7000000000000006,
          1.7500000000000009,
          1.8000000000000007,
          1.8500000000000008,
          1.9000000000000008,
          1.9500000000000008
         ],
         "y": [
          0.4756933835071455,
          0.46698763605403343,
          0.4554521285259042,
          0.45087433974447433,
          0.43695640089931315,
          0.42805127966487705,
          0.4199030177761804,
          0.40729964241214267,
          0.4075378483162446,
          0.39420312641623995,
          0.3878793306110727,
          0.3781463730520159,
          0.3709330745042097,
          0.36538695019252226,
          0.3569587045214415,
          0.35823983641412604,
          0.3510485323136329,
          0.34432985529421745,
          0.3365540132036153,
          0.3284093708325412
         ]
        },
        {
         "line": {
          "color": "rgba(0,0,255,0.25)",
          "width": 2
         },
         "mode": "lines",
         "showlegend": false,
         "type": "scatter",
         "x": [
          1,
          1.05,
          1.1,
          1.15,
          1.2000000000000002,
          1.2500000000000002,
          1.3000000000000005,
          1.3500000000000003,
          1.4000000000000004,
          1.4500000000000004,
          1.5000000000000004,
          1.5500000000000005,
          1.6000000000000003,
          1.6500000000000006,
          1.7000000000000006,
          1.7500000000000009,
          1.8000000000000007,
          1.8500000000000008,
          1.9000000000000008,
          1.9500000000000008
         ],
         "y": [
          0.4844837596827248,
          0.47638806083126295,
          0.4648346618903512,
          0.46035586266761097,
          0.44571250404138646,
          0.43743376837667264,
          0.42904757241603386,
          0.4165081340796702,
          0.4169234604918821,
          0.4036606966716184,
          0.39673092854024283,
          0.38702596173045356,
          0.3797365394429865,
          0.374053802492033,
          0.3656929876993939,
          0.3668710692689502,
          0.3597799722618462,
          0.35267584703569577,
          0.3451724942982246,
          0.33673970496782885
         ]
        },
        {
         "fill": "tonexty",
         "fillcolor": "rgba(68, 68, 68, 0.2)",
         "line": {
          "color": "rgba(0,0,255,0.25)",
          "width": 2
         },
         "mode": "lines",
         "showlegend": false,
         "type": "scatter",
         "x": [
          1,
          1.05,
          1.1,
          1.15,
          1.2000000000000002,
          1.2500000000000002,
          1.3000000000000005,
          1.3500000000000003,
          1.4000000000000004,
          1.4500000000000004,
          1.5000000000000004,
          1.5500000000000005,
          1.6000000000000003,
          1.6500000000000006,
          1.7000000000000006,
          1.7500000000000009,
          1.8000000000000007,
          1.8500000000000008,
          1.9000000000000008,
          1.9500000000000008
         ],
         "y": [
          0.46690300733156626,
          0.4575872112768039,
          0.4460695951614572,
          0.4413928168213377,
          0.42820029775723983,
          0.41866879095308146,
          0.4107584631363269,
          0.39809115074461515,
          0.39815223614060713,
          0.3847455561608615,
          0.3790277326819026,
          0.3692667843735783,
          0.3621296095654329,
          0.3567200978930115,
          0.34822442134348913,
          0.3496086035593019,
          0.34231709236541963,
          0.3359838635527391,
          0.32793553210900594,
          0.3200790366972535
         ]
        },
        {
         "line": {
          "color": "rgba(255,0,0,1)",
          "width": 2
         },
         "mode": "lines",
         "name": "High SES",
         "showlegend": true,
         "type": "scatter",
         "x": [
          1,
          1.05,
          1.1,
          1.15,
          1.2000000000000002,
          1.2500000000000002,
          1.3000000000000005,
          1.3500000000000003,
          1.4000000000000004,
          1.4500000000000004,
          1.5000000000000004,
          1.5500000000000005,
          1.6000000000000003,
          1.6500000000000006,
          1.7000000000000006,
          1.7500000000000009,
          1.8000000000000007,
          1.8500000000000008,
          1.9000000000000008,
          1.9500000000000008
         ],
         "y": [
          0.5231456780255354,
          0.5342402359466205,
          0.5440954371037886,
          0.5563490635104874,
          0.5635370340598751,
          0.5718070465641065,
          0.5816767326145502,
          0.5897358316878297,
          0.6021850079926268,
          0.6059494694735339,
          0.6125299645576325,
          0.6186866200820361,
          0.6242490286468146,
          0.6300294539096705,
          0.6409038493960677,
          0.6461584704116066,
          0.6522513633228648,
          0.6594749265625639,
          0.6658805330116186,
          0.6658052804148373
         ]
        },
        {
         "line": {
          "color": "rgba(255,0,0,0.25)",
          "width": 2
         },
         "mode": "lines",
         "showlegend": false,
         "type": "scatter",
         "x": [
          1,
          1.05,
          1.1,
          1.15,
          1.2000000000000002,
          1.2500000000000002,
          1.3000000000000005,
          1.3500000000000003,
          1.4000000000000004,
          1.4500000000000004,
          1.5000000000000004,
          1.5500000000000005,
          1.6000000000000003,
          1.6500000000000006,
          1.7000000000000006,
          1.7500000000000009,
          1.8000000000000007,
          1.8500000000000008,
          1.9000000000000008,
          1.9500000000000008
         ],
         "y": [
          0.5325924046843836,
          0.5429448918181768,
          0.5535994194938701,
          0.5656519852239305,
          0.5736380452690605,
          0.58093736984794,
          0.5909755862532925,
          0.598602464108651,
          0.6111918851453763,
          0.6151315386771619,
          0.6213121712723982,
          0.6278459653045456,
          0.633548270784247,
          0.638988219295569,
          0.6500565903130738,
          0.6553876641621368,
          0.6609512005585257,
          0.6682684530596265,
          0.6742674998986823,
          0.6747134476323983
         ]
        },
        {
         "fill": "tonexty",
         "fillcolor": "rgba(68, 68, 68, 0.2)",
         "line": {
          "color": "rgba(255,0,0,0.25)",
          "width": 2
         },
         "mode": "lines",
         "showlegend": false,
         "type": "scatter",
         "x": [
          1,
          1.05,
          1.1,
          1.15,
          1.2000000000000002,
          1.2500000000000002,
          1.3000000000000005,
          1.3500000000000003,
          1.4000000000000004,
          1.4500000000000004,
          1.5000000000000004,
          1.5500000000000005,
          1.6000000000000003,
          1.6500000000000006,
          1.7000000000000006,
          1.7500000000000009,
          1.8000000000000007,
          1.8500000000000008,
          1.9000000000000008,
          1.9500000000000008
         ],
         "y": [
          0.5136989513666871,
          0.5255355800750642,
          0.5345914547137071,
          0.5470461417970444,
          0.5534360228506897,
          0.5626767232802731,
          0.5723778789758079,
          0.5808691992670084,
          0.5931781308398772,
          0.5967674002699059,
          0.6037477578428668,
          0.6095272748595266,
          0.6149497865093823,
          0.6210706885237719,
          0.6317511084790616,
          0.6369292766610763,
          0.6435515260872039,
          0.6506814000655013,
          0.657493566124555,
          0.6568971131972764
         ]
        }
       ],
       "layout": {
        "annotations": [
         {
          "showarrow": false,
          "text": "Equal share",
          "x": 1,
          "xanchor": "right",
          "xref": "x domain",
          "y": 0.5,
          "yanchor": "bottom",
          "yref": "y"
         },
         {
          "showarrow": false,
          "text": "rho=1: no bias",
          "x": 1,
          "xanchor": "left",
          "xref": "x",
          "y": 1,
          "yanchor": "top",
          "yref": "y domain"
         }
        ],
        "font": {
         "size": 18
        },
        "height": 500,
        "legend": {
         "title": {
          "text": ""
         },
         "x": 0.75,
         "y": 1
        },
        "margin": {
         "b": 5,
         "l": 5,
         "r": 5,
         "t": 5
        },
        "plot_bgcolor": "rgba(0,0,0,0)",
        "shapes": [
         {
          "line": {
           "width": 1
          },
          "type": "line",
          "x0": 0,
          "x1": 1,
          "xref": "x domain",
          "y0": 0.5,
          "y1": 0.5,
          "yref": "y"
         },
         {
          "line": {
           "width": 1
          },
          "type": "line",
          "x0": 1,
          "x1": 1,
          "xref": "x",
          "y0": 0,
          "y1": 1,
          "yref": "y domain"
         }
        ],
        "showlegend": true,
        "template": {
         "data": {
          "bar": [
           {
            "error_x": {
             "color": "#2a3f5f"
            },
            "error_y": {
             "color": "#2a3f5f"
            },
            "marker": {
             "line": {
              "color": "#E5ECF6",
              "width": 0.5
             },
             "pattern": {
              "fillmode": "overlay",
              "size": 10,
              "solidity": 0.2
             }
            },
            "type": "bar"
           }
          ],
          "barpolar": [
           {
            "marker": {
             "line": {
              "color": "#E5ECF6",
              "width": 0.5
             },
             "pattern": {
              "fillmode": "overlay",
              "size": 10,
              "solidity": 0.2
             }
            },
            "type": "barpolar"
           }
          ],
          "carpet": [
           {
            "aaxis": {
             "endlinecolor": "#2a3f5f",
             "gridcolor": "white",
             "linecolor": "white",
             "minorgridcolor": "white",
             "startlinecolor": "#2a3f5f"
            },
            "baxis": {
             "endlinecolor": "#2a3f5f",
             "gridcolor": "white",
             "linecolor": "white",
             "minorgridcolor": "white",
             "startlinecolor": "#2a3f5f"
            },
            "type": "carpet"
           }
          ],
          "choropleth": [
           {
            "colorbar": {
             "outlinewidth": 0,
             "ticks": ""
            },
            "type": "choropleth"
           }
          ],
          "contour": [
           {
            "colorbar": {
             "outlinewidth": 0,
             "ticks": ""
            },
            "colorscale": [
             [
              0,
              "#0d0887"
             ],
             [
              0.1111111111111111,
              "#46039f"
             ],
             [
              0.2222222222222222,
              "#7201a8"
             ],
             [
              0.3333333333333333,
              "#9c179e"
             ],
             [
              0.4444444444444444,
              "#bd3786"
             ],
             [
              0.5555555555555556,
              "#d8576b"
             ],
             [
              0.6666666666666666,
              "#ed7953"
             ],
             [
              0.7777777777777778,
              "#fb9f3a"
             ],
             [
              0.8888888888888888,
              "#fdca26"
             ],
             [
              1,
              "#f0f921"
             ]
            ],
            "type": "contour"
           }
          ],
          "contourcarpet": [
           {
            "colorbar": {
             "outlinewidth": 0,
             "ticks": ""
            },
            "type": "contourcarpet"
           }
          ],
          "heatmap": [
           {
            "colorbar": {
             "outlinewidth": 0,
             "ticks": ""
            },
            "colorscale": [
             [
              0,
              "#0d0887"
             ],
             [
              0.1111111111111111,
              "#46039f"
             ],
             [
              0.2222222222222222,
              "#7201a8"
             ],
             [
              0.3333333333333333,
              "#9c179e"
             ],
             [
              0.4444444444444444,
              "#bd3786"
             ],
             [
              0.5555555555555556,
              "#d8576b"
             ],
             [
              0.6666666666666666,
              "#ed7953"
             ],
             [
              0.7777777777777778,
              "#fb9f3a"
             ],
             [
              0.8888888888888888,
              "#fdca26"
             ],
             [
              1,
              "#f0f921"
             ]
            ],
            "type": "heatmap"
           }
          ],
          "heatmapgl": [
           {
            "colorbar": {
             "outlinewidth": 0,
             "ticks": ""
            },
            "colorscale": [
             [
              0,
              "#0d0887"
             ],
             [
              0.1111111111111111,
              "#46039f"
             ],
             [
              0.2222222222222222,
              "#7201a8"
             ],
             [
              0.3333333333333333,
              "#9c179e"
             ],
             [
              0.4444444444444444,
              "#bd3786"
             ],
             [
              0.5555555555555556,
              "#d8576b"
             ],
             [
              0.6666666666666666,
              "#ed7953"
             ],
             [
              0.7777777777777778,
              "#fb9f3a"
             ],
             [
              0.8888888888888888,
              "#fdca26"
             ],
             [
              1,
              "#f0f921"
             ]
            ],
            "type": "heatmapgl"
           }
          ],
          "histogram": [
           {
            "marker": {
             "pattern": {
              "fillmode": "overlay",
              "size": 10,
              "solidity": 0.2
             }
            },
            "type": "histogram"
           }
          ],
          "histogram2d": [
           {
            "colorbar": {
             "outlinewidth": 0,
             "ticks": ""
            },
            "colorscale": [
             [
              0,
              "#0d0887"
             ],
             [
              0.1111111111111111,
              "#46039f"
             ],
             [
              0.2222222222222222,
              "#7201a8"
             ],
             [
              0.3333333333333333,
              "#9c179e"
             ],
             [
              0.4444444444444444,
              "#bd3786"
             ],
             [
              0.5555555555555556,
              "#d8576b"
             ],
             [
              0.6666666666666666,
              "#ed7953"
             ],
             [
              0.7777777777777778,
              "#fb9f3a"
             ],
             [
              0.8888888888888888,
              "#fdca26"
             ],
             [
              1,
              "#f0f921"
             ]
            ],
            "type": "histogram2d"
           }
          ],
          "histogram2dcontour": [
           {
            "colorbar": {
             "outlinewidth": 0,
             "ticks": ""
            },
            "colorscale": [
             [
              0,
              "#0d0887"
             ],
             [
              0.1111111111111111,
              "#46039f"
             ],
             [
              0.2222222222222222,
              "#7201a8"
             ],
             [
              0.3333333333333333,
              "#9c179e"
             ],
             [
              0.4444444444444444,
              "#bd3786"
             ],
             [
              0.5555555555555556,
              "#d8576b"
             ],
             [
              0.6666666666666666,
              "#ed7953"
             ],
             [
              0.7777777777777778,
              "#fb9f3a"
             ],
             [
              0.8888888888888888,
              "#fdca26"
             ],
             [
              1,
              "#f0f921"
             ]
            ],
            "type": "histogram2dcontour"
           }
          ],
          "mesh3d": [
           {
            "colorbar": {
             "outlinewidth": 0,
             "ticks": ""
            },
            "type": "mesh3d"
           }
          ],
          "parcoords": [
           {
            "line": {
             "colorbar": {
              "outlinewidth": 0,
              "ticks": ""
             }
            },
            "type": "parcoords"
           }
          ],
          "pie": [
           {
            "automargin": true,
            "type": "pie"
           }
          ],
          "scatter": [
           {
            "fillpattern": {
             "fillmode": "overlay",
             "size": 10,
             "solidity": 0.2
            },
            "type": "scatter"
           }
          ],
          "scatter3d": [
           {
            "line": {
             "colorbar": {
              "outlinewidth": 0,
              "ticks": ""
             }
            },
            "marker": {
             "colorbar": {
              "outlinewidth": 0,
              "ticks": ""
             }
            },
            "type": "scatter3d"
           }
          ],
          "scattercarpet": [
           {
            "marker": {
             "colorbar": {
              "outlinewidth": 0,
              "ticks": ""
             }
            },
            "type": "scattercarpet"
           }
          ],
          "scattergeo": [
           {
            "marker": {
             "colorbar": {
              "outlinewidth": 0,
              "ticks": ""
             }
            },
            "type": "scattergeo"
           }
          ],
          "scattergl": [
           {
            "marker": {
             "colorbar": {
              "outlinewidth": 0,
              "ticks": ""
             }
            },
            "type": "scattergl"
           }
          ],
          "scattermapbox": [
           {
            "marker": {
             "colorbar": {
              "outlinewidth": 0,
              "ticks": ""
             }
            },
            "type": "scattermapbox"
           }
          ],
          "scatterpolar": [
           {
            "marker": {
             "colorbar": {
              "outlinewidth": 0,
              "ticks": ""
             }
            },
            "type": "scatterpolar"
           }
          ],
          "scatterpolargl": [
           {
            "marker": {
             "colorbar": {
              "outlinewidth": 0,
              "ticks": ""
             }
            },
            "type": "scatterpolargl"
           }
          ],
          "scatterternary": [
           {
            "marker": {
             "colorbar": {
              "outlinewidth": 0,
              "ticks": ""
             }
            },
            "type": "scatterternary"
           }
          ],
          "surface": [
           {
            "colorbar": {
             "outlinewidth": 0,
             "ticks": ""
            },
            "colorscale": [
             [
              0,
              "#0d0887"
             ],
             [
              0.1111111111111111,
              "#46039f"
             ],
             [
              0.2222222222222222,
              "#7201a8"
             ],
             [
              0.3333333333333333,
              "#9c179e"
             ],
             [
              0.4444444444444444,
              "#bd3786"
             ],
             [
              0.5555555555555556,
              "#d8576b"
             ],
             [
              0.6666666666666666,
              "#ed7953"
             ],
             [
              0.7777777777777778,
              "#fb9f3a"
             ],
             [
              0.8888888888888888,
              "#fdca26"
             ],
             [
              1,
              "#f0f921"
             ]
            ],
            "type": "surface"
           }
          ],
          "table": [
           {
            "cells": {
             "fill": {
              "color": "#EBF0F8"
             },
             "line": {
              "color": "white"
             }
            },
            "header": {
             "fill": {
              "color": "#C8D4E3"
             },
             "line": {
              "color": "white"
             }
            },
            "type": "table"
           }
          ]
         },
         "layout": {
          "annotationdefaults": {
           "arrowcolor": "#2a3f5f",
           "arrowhead": 0,
           "arrowwidth": 1
          },
          "autotypenumbers": "strict",
          "coloraxis": {
           "colorbar": {
            "outlinewidth": 0,
            "ticks": ""
           }
          },
          "colorscale": {
           "diverging": [
            [
             0,
             "#8e0152"
            ],
            [
             0.1,
             "#c51b7d"
            ],
            [
             0.2,
             "#de77ae"
            ],
            [
             0.3,
             "#f1b6da"
            ],
            [
             0.4,
             "#fde0ef"
            ],
            [
             0.5,
             "#f7f7f7"
            ],
            [
             0.6,
             "#e6f5d0"
            ],
            [
             0.7,
             "#b8e186"
            ],
            [
             0.8,
             "#7fbc41"
            ],
            [
             0.9,
             "#4d9221"
            ],
            [
             1,
             "#276419"
            ]
           ],
           "sequential": [
            [
             0,
             "#0d0887"
            ],
            [
             0.1111111111111111,
             "#46039f"
            ],
            [
             0.2222222222222222,
             "#7201a8"
            ],
            [
             0.3333333333333333,
             "#9c179e"
            ],
            [
             0.4444444444444444,
             "#bd3786"
            ],
            [
             0.5555555555555556,
             "#d8576b"
            ],
            [
             0.6666666666666666,
             "#ed7953"
            ],
            [
             0.7777777777777778,
             "#fb9f3a"
            ],
            [
             0.8888888888888888,
             "#fdca26"
            ],
            [
             1,
             "#f0f921"
            ]
           ],
           "sequentialminus": [
            [
             0,
             "#0d0887"
            ],
            [
             0.1111111111111111,
             "#46039f"
            ],
            [
             0.2222222222222222,
             "#7201a8"
            ],
            [
             0.3333333333333333,
             "#9c179e"
            ],
            [
             0.4444444444444444,
             "#bd3786"
            ],
            [
             0.5555555555555556,
             "#d8576b"
            ],
            [
             0.6666666666666666,
             "#ed7953"
            ],
            [
             0.7777777777777778,
             "#fb9f3a"
            ],
            [
             0.8888888888888888,
             "#fdca26"
            ],
            [
             1,
             "#f0f921"
            ]
           ]
          },
          "colorway": [
           "#636efa",
           "#EF553B",
           "#00cc96",
           "#ab63fa",
           "#FFA15A",
           "#19d3f3",
           "#FF6692",
           "#B6E880",
           "#FF97FF",
           "#FECB52"
          ],
          "font": {
           "color": "#2a3f5f"
          },
          "geo": {
           "bgcolor": "white",
           "lakecolor": "white",
           "landcolor": "#E5ECF6",
           "showlakes": true,
           "showland": true,
           "subunitcolor": "white"
          },
          "hoverlabel": {
           "align": "left"
          },
          "hovermode": "closest",
          "mapbox": {
           "style": "light"
          },
          "paper_bgcolor": "white",
          "plot_bgcolor": "#E5ECF6",
          "polar": {
           "angularaxis": {
            "gridcolor": "white",
            "linecolor": "white",
            "ticks": ""
           },
           "bgcolor": "#E5ECF6",
           "radialaxis": {
            "gridcolor": "white",
            "linecolor": "white",
            "ticks": ""
           }
          },
          "scene": {
           "xaxis": {
            "backgroundcolor": "#E5ECF6",
            "gridcolor": "white",
            "gridwidth": 2,
            "linecolor": "white",
            "showbackground": true,
            "ticks": "",
            "zerolinecolor": "white"
           },
           "yaxis": {
            "backgroundcolor": "#E5ECF6",
            "gridcolor": "white",
            "gridwidth": 2,
            "linecolor": "white",
            "showbackground": true,
            "ticks": "",
            "zerolinecolor": "white"
           },
           "zaxis": {
            "backgroundcolor": "#E5ECF6",
            "gridcolor": "white",
            "gridwidth": 2,
            "linecolor": "white",
            "showbackground": true,
            "ticks": "",
            "zerolinecolor": "white"
           }
          },
          "shapedefaults": {
           "line": {
            "color": "#2a3f5f"
           }
          },
          "ternary": {
           "aaxis": {
            "gridcolor": "white",
            "linecolor": "white",
            "ticks": ""
           },
           "baxis": {
            "gridcolor": "white",
            "linecolor": "white",
            "ticks": ""
           },
           "bgcolor": "#E5ECF6",
           "caxis": {
            "gridcolor": "white",
            "linecolor": "white",
            "ticks": ""
           }
          },
          "title": {
           "x": 0.05
          },
          "xaxis": {
           "automargin": true,
           "gridcolor": "white",
           "linecolor": "white",
           "ticks": "",
           "title": {
            "standoff": 15
           },
           "zerolinecolor": "white",
           "zerolinewidth": 2
          },
          "yaxis": {
           "automargin": true,
           "gridcolor": "white",
           "linecolor": "white",
           "ticks": "",
           "title": {
            "standoff": 15
           },
           "zerolinecolor": "white",
           "zerolinewidth": 2
          }
         }
        },
        "title": {},
        "width": 500,
        "xaxis": {
         "linecolor": "rgb(0,0,0)",
         "linewidth": 2,
         "range": [
          1,
          2
         ],
         "showgrid": false,
         "showline": true,
         "title": {
          "text": "Rho"
         }
        },
        "yaxis": {
         "linecolor": "rgb(0,0,0)",
         "linewidth": 2,
         "range": [
          0.25,
          0.75
         ],
         "showgrid": false,
         "showline": true,
         "title": {
          "text": "Share of HSES friends"
         }
        }
       }
      }
     },
     "metadata": {},
     "output_type": "display_data"
    }
   ],
   "source": [
    "\n",
    "\n",
    "\n",
    "fig1 = plotly_lines.plot_MTO_sim_results(plotly_lines(), data=df_eps_rho, x_var='rho', y_var='Network_H_Share_H', x_range=[1,2], y_range=[0,2], x_title='rho', y_title='Exposure', with_predicted=False, colors=['rgba(255,0,0,1)'])\n",
    "fig2 = plotly_lines.plot_MTO_sim_results(plotly_lines(), data=df_eps_rho, x_var='rho', y_var='Network_H_Share_L', x_range=[1,2], y_range=[0,2], x_title='rho', y_title='Exposure', with_predicted=False, colors=['rgba(0,0,255,1)'])\n",
    "\n",
    "fig1['data'][0]['name'] = 'High SES'\n",
    "fig2['data'][0]['name'] = 'Low SES'\n",
    "\n",
    "fig = go.Figure(data = fig2.data + fig1.data)\n",
    "\n",
    "fig.update_layout(\n",
    "    title = None, \n",
    "    font=dict(size = 18),\n",
    "    xaxis_title = 'Rho', \n",
    "    yaxis_title = 'Share of HSES friends',\n",
    "    width = 500, height = 500,\n",
    "    showlegend = True, \n",
    "    legend=dict(x=0.75,y=1),\n",
    "    legend_title_text = '',\n",
    "    xaxis_range = [1,2],\n",
    "    yaxis_range = [0.25,0.75],\n",
    "    margin=dict(b=5,l=5,r=5,t=5),\n",
    "    xaxis = dict(showgrid = False, showline = True, linecolor = 'rgb(0,0,0)', linewidth = 2), \n",
    "    yaxis = dict(showgrid = False, showline = True, linecolor = 'rgb(0,0,0)', linewidth = 2),\n",
    "    plot_bgcolor='rgba(0,0,0,0)')\n",
    "\n",
    "\n",
    "fig.add_hline(y=0.5, line_width=1, annotation_text = 'Equal share')\n",
    "fig.add_vline(x=1, line_width=1, annotation_text = 'rho=1: no bias')\n",
    "\n",
    "\n"
   ]
  },
  {
   "attachments": {},
   "cell_type": "markdown",
   "metadata": {},
   "source": [
    "### SES Assortativity"
   ]
  },
  {
   "cell_type": "code",
   "execution_count": 25,
   "metadata": {},
   "outputs": [
    {
     "data": {
      "application/vnd.plotly.v1+json": {
       "config": {
        "plotlyServerURL": "https://plot.ly"
       },
       "data": [
        {
         "line": {
          "color": "rgba(100,0,100,1)",
          "width": 2
         },
         "mode": "lines",
         "name": "",
         "showlegend": true,
         "type": "scatter",
         "x": [
          0.5,
          0.55,
          0.6000000000000001,
          0.6500000000000001,
          0.7000000000000002,
          0.7500000000000002,
          0.8000000000000003,
          0.8500000000000003,
          0.9000000000000004,
          0.9500000000000004,
          1.0000000000000004,
          1.0500000000000005,
          1.1000000000000003,
          1.1500000000000006,
          1.2000000000000006,
          1.2500000000000009,
          1.3000000000000007,
          1.3500000000000008,
          1.4000000000000008,
          1.4500000000000008,
          1.5000000000000009,
          1.550000000000001,
          1.600000000000001,
          1.650000000000001,
          1.700000000000001,
          1.750000000000001,
          1.8000000000000012,
          1.8500000000000008,
          1.9000000000000008,
          1.9500000000000013
         ],
         "y": [
          -0.10801771527407773,
          -0.0743594422453407,
          -0.04369972786136879,
          -0.01118490341881302,
          0.016995208861626067,
          0.04836631526963383,
          0.06311248093799816,
          0.09484471808762102,
          0.1132146742477629,
          0.13564727544095548,
          0.15752996337718872,
          0.1702037999055064,
          0.18696063142638003,
          0.20489415007206377,
          0.22512540679886378,
          0.23439210056548285,
          0.2523627785025152,
          0.2673928233893989,
          0.27948424761033996,
          0.2901731751023573,
          0.30510358535260645,
          0.3174928627082358,
          0.3248493852181101,
          0.33521960259543426,
          0.34792768800952084,
          0.3605603300100269,
          0.3697779794522952,
          0.3769300555613703,
          0.385833639185395,
          0.39735807191563777
         ]
        },
        {
         "line": {
          "color": "rgba(100,0,100,0.25)",
          "width": 2
         },
         "mode": "lines",
         "showlegend": false,
         "type": "scatter",
         "x": [
          0.5,
          0.55,
          0.6000000000000001,
          0.6500000000000001,
          0.7000000000000002,
          0.7500000000000002,
          0.8000000000000003,
          0.8500000000000003,
          0.9000000000000004,
          0.9500000000000004,
          1.0000000000000004,
          1.0500000000000005,
          1.1000000000000003,
          1.1500000000000006,
          1.2000000000000006,
          1.2500000000000009,
          1.3000000000000007,
          1.3500000000000008,
          1.4000000000000008,
          1.4500000000000008,
          1.5000000000000009,
          1.550000000000001,
          1.600000000000001,
          1.650000000000001,
          1.700000000000001,
          1.750000000000001,
          1.8000000000000012,
          1.8500000000000008,
          1.9000000000000008,
          1.9500000000000013
         ],
         "y": [
          -0.10204717522709797,
          -0.06836935060448011,
          -0.03750755241532684,
          -0.005155975386159373,
          0.022936142301903027,
          0.05449417064463258,
          0.06905757942142504,
          0.10086116951212984,
          0.11937183125889826,
          0.14184916168026315,
          0.163640073596935,
          0.17642576468925475,
          0.19302571208935726,
          0.21071672423458276,
          0.23110362293168138,
          0.24030696738375618,
          0.258354265472686,
          0.27319261096003816,
          0.28546656350473515,
          0.29586638538080523,
          0.31102494316486734,
          0.3231262048453363,
          0.3306443551631682,
          0.34087322608959136,
          0.3535968513535722,
          0.36609795124623223,
          0.3752951600464127,
          0.3825025614189241,
          0.39149079856092717,
          0.4029118902080944
         ]
        },
        {
         "fill": "tonexty",
         "fillcolor": "rgba(68, 68, 68, 0.2)",
         "line": {
          "color": "rgba(100,0,100,0.25)",
          "width": 2
         },
         "mode": "lines",
         "showlegend": false,
         "type": "scatter",
         "x": [
          0.5,
          0.55,
          0.6000000000000001,
          0.6500000000000001,
          0.7000000000000002,
          0.7500000000000002,
          0.8000000000000003,
          0.8500000000000003,
          0.9000000000000004,
          0.9500000000000004,
          1.0000000000000004,
          1.0500000000000005,
          1.1000000000000003,
          1.1500000000000006,
          1.2000000000000006,
          1.2500000000000009,
          1.3000000000000007,
          1.3500000000000008,
          1.4000000000000008,
          1.4500000000000008,
          1.5000000000000009,
          1.550000000000001,
          1.600000000000001,
          1.650000000000001,
          1.700000000000001,
          1.750000000000001,
          1.8000000000000012,
          1.8500000000000008,
          1.9000000000000008,
          1.9500000000000013
         ],
         "y": [
          -0.1139882553210575,
          -0.0803495338862013,
          -0.04989190330741074,
          -0.01721383145146667,
          0.011054275421349107,
          0.04223845989463508,
          0.05716738245457129,
          0.0888282666631122,
          0.10705751723662753,
          0.1294453892016478,
          0.15141985315744244,
          0.16398183512175807,
          0.1808955507634028,
          0.19907157590954477,
          0.21914719066604618,
          0.22847723374720952,
          0.24637129153234444,
          0.26159303581875964,
          0.2735019317159448,
          0.28447996482390936,
          0.29918222754034557,
          0.3118595205711353,
          0.31905441527305195,
          0.32956597910127716,
          0.34225852466546947,
          0.3550227087738216,
          0.36426079885817764,
          0.37135754970381657,
          0.3801764798098628,
          0.3918042536231811
         ]
        }
       ],
       "layout": {
        "annotations": [
         {
          "showarrow": false,
          "text": "Random mixing",
          "x": 1,
          "xanchor": "right",
          "xref": "x domain",
          "y": 0,
          "yanchor": "bottom",
          "yref": "y"
         },
         {
          "showarrow": false,
          "text": "ϵ=1: no bias",
          "x": 1,
          "xanchor": "left",
          "xref": "x",
          "y": 1,
          "yanchor": "top",
          "yref": "y domain"
         }
        ],
        "font": {
         "size": 18
        },
        "height": 500,
        "legend": {
         "title": {
          "text": ""
         },
         "x": 0.75,
         "y": 1
        },
        "margin": {
         "b": 5,
         "l": 5,
         "r": 5,
         "t": 5
        },
        "plot_bgcolor": "rgba(0,0,0,0)",
        "shapes": [
         {
          "line": {
           "width": 1
          },
          "type": "line",
          "x0": 0,
          "x1": 1,
          "xref": "x domain",
          "y0": 0,
          "y1": 0,
          "yref": "y"
         },
         {
          "line": {
           "width": 1
          },
          "type": "line",
          "x0": 1,
          "x1": 1,
          "xref": "x",
          "y0": 0,
          "y1": 1,
          "yref": "y domain"
         }
        ],
        "showlegend": false,
        "template": {
         "data": {
          "bar": [
           {
            "error_x": {
             "color": "#2a3f5f"
            },
            "error_y": {
             "color": "#2a3f5f"
            },
            "marker": {
             "line": {
              "color": "#E5ECF6",
              "width": 0.5
             },
             "pattern": {
              "fillmode": "overlay",
              "size": 10,
              "solidity": 0.2
             }
            },
            "type": "bar"
           }
          ],
          "barpolar": [
           {
            "marker": {
             "line": {
              "color": "#E5ECF6",
              "width": 0.5
             },
             "pattern": {
              "fillmode": "overlay",
              "size": 10,
              "solidity": 0.2
             }
            },
            "type": "barpolar"
           }
          ],
          "carpet": [
           {
            "aaxis": {
             "endlinecolor": "#2a3f5f",
             "gridcolor": "white",
             "linecolor": "white",
             "minorgridcolor": "white",
             "startlinecolor": "#2a3f5f"
            },
            "baxis": {
             "endlinecolor": "#2a3f5f",
             "gridcolor": "white",
             "linecolor": "white",
             "minorgridcolor": "white",
             "startlinecolor": "#2a3f5f"
            },
            "type": "carpet"
           }
          ],
          "choropleth": [
           {
            "colorbar": {
             "outlinewidth": 0,
             "ticks": ""
            },
            "type": "choropleth"
           }
          ],
          "contour": [
           {
            "colorbar": {
             "outlinewidth": 0,
             "ticks": ""
            },
            "colorscale": [
             [
              0,
              "#0d0887"
             ],
             [
              0.1111111111111111,
              "#46039f"
             ],
             [
              0.2222222222222222,
              "#7201a8"
             ],
             [
              0.3333333333333333,
              "#9c179e"
             ],
             [
              0.4444444444444444,
              "#bd3786"
             ],
             [
              0.5555555555555556,
              "#d8576b"
             ],
             [
              0.6666666666666666,
              "#ed7953"
             ],
             [
              0.7777777777777778,
              "#fb9f3a"
             ],
             [
              0.8888888888888888,
              "#fdca26"
             ],
             [
              1,
              "#f0f921"
             ]
            ],
            "type": "contour"
           }
          ],
          "contourcarpet": [
           {
            "colorbar": {
             "outlinewidth": 0,
             "ticks": ""
            },
            "type": "contourcarpet"
           }
          ],
          "heatmap": [
           {
            "colorbar": {
             "outlinewidth": 0,
             "ticks": ""
            },
            "colorscale": [
             [
              0,
              "#0d0887"
             ],
             [
              0.1111111111111111,
              "#46039f"
             ],
             [
              0.2222222222222222,
              "#7201a8"
             ],
             [
              0.3333333333333333,
              "#9c179e"
             ],
             [
              0.4444444444444444,
              "#bd3786"
             ],
             [
              0.5555555555555556,
              "#d8576b"
             ],
             [
              0.6666666666666666,
              "#ed7953"
             ],
             [
              0.7777777777777778,
              "#fb9f3a"
             ],
             [
              0.8888888888888888,
              "#fdca26"
             ],
             [
              1,
              "#f0f921"
             ]
            ],
            "type": "heatmap"
           }
          ],
          "heatmapgl": [
           {
            "colorbar": {
             "outlinewidth": 0,
             "ticks": ""
            },
            "colorscale": [
             [
              0,
              "#0d0887"
             ],
             [
              0.1111111111111111,
              "#46039f"
             ],
             [
              0.2222222222222222,
              "#7201a8"
             ],
             [
              0.3333333333333333,
              "#9c179e"
             ],
             [
              0.4444444444444444,
              "#bd3786"
             ],
             [
              0.5555555555555556,
              "#d8576b"
             ],
             [
              0.6666666666666666,
              "#ed7953"
             ],
             [
              0.7777777777777778,
              "#fb9f3a"
             ],
             [
              0.8888888888888888,
              "#fdca26"
             ],
             [
              1,
              "#f0f921"
             ]
            ],
            "type": "heatmapgl"
           }
          ],
          "histogram": [
           {
            "marker": {
             "pattern": {
              "fillmode": "overlay",
              "size": 10,
              "solidity": 0.2
             }
            },
            "type": "histogram"
           }
          ],
          "histogram2d": [
           {
            "colorbar": {
             "outlinewidth": 0,
             "ticks": ""
            },
            "colorscale": [
             [
              0,
              "#0d0887"
             ],
             [
              0.1111111111111111,
              "#46039f"
             ],
             [
              0.2222222222222222,
              "#7201a8"
             ],
             [
              0.3333333333333333,
              "#9c179e"
             ],
             [
              0.4444444444444444,
              "#bd3786"
             ],
             [
              0.5555555555555556,
              "#d8576b"
             ],
             [
              0.6666666666666666,
              "#ed7953"
             ],
             [
              0.7777777777777778,
              "#fb9f3a"
             ],
             [
              0.8888888888888888,
              "#fdca26"
             ],
             [
              1,
              "#f0f921"
             ]
            ],
            "type": "histogram2d"
           }
          ],
          "histogram2dcontour": [
           {
            "colorbar": {
             "outlinewidth": 0,
             "ticks": ""
            },
            "colorscale": [
             [
              0,
              "#0d0887"
             ],
             [
              0.1111111111111111,
              "#46039f"
             ],
             [
              0.2222222222222222,
              "#7201a8"
             ],
             [
              0.3333333333333333,
              "#9c179e"
             ],
             [
              0.4444444444444444,
              "#bd3786"
             ],
             [
              0.5555555555555556,
              "#d8576b"
             ],
             [
              0.6666666666666666,
              "#ed7953"
             ],
             [
              0.7777777777777778,
              "#fb9f3a"
             ],
             [
              0.8888888888888888,
              "#fdca26"
             ],
             [
              1,
              "#f0f921"
             ]
            ],
            "type": "histogram2dcontour"
           }
          ],
          "mesh3d": [
           {
            "colorbar": {
             "outlinewidth": 0,
             "ticks": ""
            },
            "type": "mesh3d"
           }
          ],
          "parcoords": [
           {
            "line": {
             "colorbar": {
              "outlinewidth": 0,
              "ticks": ""
             }
            },
            "type": "parcoords"
           }
          ],
          "pie": [
           {
            "automargin": true,
            "type": "pie"
           }
          ],
          "scatter": [
           {
            "fillpattern": {
             "fillmode": "overlay",
             "size": 10,
             "solidity": 0.2
            },
            "type": "scatter"
           }
          ],
          "scatter3d": [
           {
            "line": {
             "colorbar": {
              "outlinewidth": 0,
              "ticks": ""
             }
            },
            "marker": {
             "colorbar": {
              "outlinewidth": 0,
              "ticks": ""
             }
            },
            "type": "scatter3d"
           }
          ],
          "scattercarpet": [
           {
            "marker": {
             "colorbar": {
              "outlinewidth": 0,
              "ticks": ""
             }
            },
            "type": "scattercarpet"
           }
          ],
          "scattergeo": [
           {
            "marker": {
             "colorbar": {
              "outlinewidth": 0,
              "ticks": ""
             }
            },
            "type": "scattergeo"
           }
          ],
          "scattergl": [
           {
            "marker": {
             "colorbar": {
              "outlinewidth": 0,
              "ticks": ""
             }
            },
            "type": "scattergl"
           }
          ],
          "scattermapbox": [
           {
            "marker": {
             "colorbar": {
              "outlinewidth": 0,
              "ticks": ""
             }
            },
            "type": "scattermapbox"
           }
          ],
          "scatterpolar": [
           {
            "marker": {
             "colorbar": {
              "outlinewidth": 0,
              "ticks": ""
             }
            },
            "type": "scatterpolar"
           }
          ],
          "scatterpolargl": [
           {
            "marker": {
             "colorbar": {
              "outlinewidth": 0,
              "ticks": ""
             }
            },
            "type": "scatterpolargl"
           }
          ],
          "scatterternary": [
           {
            "marker": {
             "colorbar": {
              "outlinewidth": 0,
              "ticks": ""
             }
            },
            "type": "scatterternary"
           }
          ],
          "surface": [
           {
            "colorbar": {
             "outlinewidth": 0,
             "ticks": ""
            },
            "colorscale": [
             [
              0,
              "#0d0887"
             ],
             [
              0.1111111111111111,
              "#46039f"
             ],
             [
              0.2222222222222222,
              "#7201a8"
             ],
             [
              0.3333333333333333,
              "#9c179e"
             ],
             [
              0.4444444444444444,
              "#bd3786"
             ],
             [
              0.5555555555555556,
              "#d8576b"
             ],
             [
              0.6666666666666666,
              "#ed7953"
             ],
             [
              0.7777777777777778,
              "#fb9f3a"
             ],
             [
              0.8888888888888888,
              "#fdca26"
             ],
             [
              1,
              "#f0f921"
             ]
            ],
            "type": "surface"
           }
          ],
          "table": [
           {
            "cells": {
             "fill": {
              "color": "#EBF0F8"
             },
             "line": {
              "color": "white"
             }
            },
            "header": {
             "fill": {
              "color": "#C8D4E3"
             },
             "line": {
              "color": "white"
             }
            },
            "type": "table"
           }
          ]
         },
         "layout": {
          "annotationdefaults": {
           "arrowcolor": "#2a3f5f",
           "arrowhead": 0,
           "arrowwidth": 1
          },
          "autotypenumbers": "strict",
          "coloraxis": {
           "colorbar": {
            "outlinewidth": 0,
            "ticks": ""
           }
          },
          "colorscale": {
           "diverging": [
            [
             0,
             "#8e0152"
            ],
            [
             0.1,
             "#c51b7d"
            ],
            [
             0.2,
             "#de77ae"
            ],
            [
             0.3,
             "#f1b6da"
            ],
            [
             0.4,
             "#fde0ef"
            ],
            [
             0.5,
             "#f7f7f7"
            ],
            [
             0.6,
             "#e6f5d0"
            ],
            [
             0.7,
             "#b8e186"
            ],
            [
             0.8,
             "#7fbc41"
            ],
            [
             0.9,
             "#4d9221"
            ],
            [
             1,
             "#276419"
            ]
           ],
           "sequential": [
            [
             0,
             "#0d0887"
            ],
            [
             0.1111111111111111,
             "#46039f"
            ],
            [
             0.2222222222222222,
             "#7201a8"
            ],
            [
             0.3333333333333333,
             "#9c179e"
            ],
            [
             0.4444444444444444,
             "#bd3786"
            ],
            [
             0.5555555555555556,
             "#d8576b"
            ],
            [
             0.6666666666666666,
             "#ed7953"
            ],
            [
             0.7777777777777778,
             "#fb9f3a"
            ],
            [
             0.8888888888888888,
             "#fdca26"
            ],
            [
             1,
             "#f0f921"
            ]
           ],
           "sequentialminus": [
            [
             0,
             "#0d0887"
            ],
            [
             0.1111111111111111,
             "#46039f"
            ],
            [
             0.2222222222222222,
             "#7201a8"
            ],
            [
             0.3333333333333333,
             "#9c179e"
            ],
            [
             0.4444444444444444,
             "#bd3786"
            ],
            [
             0.5555555555555556,
             "#d8576b"
            ],
            [
             0.6666666666666666,
             "#ed7953"
            ],
            [
             0.7777777777777778,
             "#fb9f3a"
            ],
            [
             0.8888888888888888,
             "#fdca26"
            ],
            [
             1,
             "#f0f921"
            ]
           ]
          },
          "colorway": [
           "#636efa",
           "#EF553B",
           "#00cc96",
           "#ab63fa",
           "#FFA15A",
           "#19d3f3",
           "#FF6692",
           "#B6E880",
           "#FF97FF",
           "#FECB52"
          ],
          "font": {
           "color": "#2a3f5f"
          },
          "geo": {
           "bgcolor": "white",
           "lakecolor": "white",
           "landcolor": "#E5ECF6",
           "showlakes": true,
           "showland": true,
           "subunitcolor": "white"
          },
          "hoverlabel": {
           "align": "left"
          },
          "hovermode": "closest",
          "mapbox": {
           "style": "light"
          },
          "paper_bgcolor": "white",
          "plot_bgcolor": "#E5ECF6",
          "polar": {
           "angularaxis": {
            "gridcolor": "white",
            "linecolor": "white",
            "ticks": ""
           },
           "bgcolor": "#E5ECF6",
           "radialaxis": {
            "gridcolor": "white",
            "linecolor": "white",
            "ticks": ""
           }
          },
          "scene": {
           "xaxis": {
            "backgroundcolor": "#E5ECF6",
            "gridcolor": "white",
            "gridwidth": 2,
            "linecolor": "white",
            "showbackground": true,
            "ticks": "",
            "zerolinecolor": "white"
           },
           "yaxis": {
            "backgroundcolor": "#E5ECF6",
            "gridcolor": "white",
            "gridwidth": 2,
            "linecolor": "white",
            "showbackground": true,
            "ticks": "",
            "zerolinecolor": "white"
           },
           "zaxis": {
            "backgroundcolor": "#E5ECF6",
            "gridcolor": "white",
            "gridwidth": 2,
            "linecolor": "white",
            "showbackground": true,
            "ticks": "",
            "zerolinecolor": "white"
           }
          },
          "shapedefaults": {
           "line": {
            "color": "#2a3f5f"
           }
          },
          "ternary": {
           "aaxis": {
            "gridcolor": "white",
            "linecolor": "white",
            "ticks": ""
           },
           "baxis": {
            "gridcolor": "white",
            "linecolor": "white",
            "ticks": ""
           },
           "bgcolor": "#E5ECF6",
           "caxis": {
            "gridcolor": "white",
            "linecolor": "white",
            "ticks": ""
           }
          },
          "title": {
           "x": 0.05
          },
          "xaxis": {
           "automargin": true,
           "gridcolor": "white",
           "linecolor": "white",
           "ticks": "",
           "title": {
            "standoff": 15
           },
           "zerolinecolor": "white",
           "zerolinewidth": 2
          },
          "yaxis": {
           "automargin": true,
           "gridcolor": "white",
           "linecolor": "white",
           "ticks": "",
           "title": {
            "standoff": 15
           },
           "zerolinecolor": "white",
           "zerolinewidth": 2
          }
         }
        },
        "title": {},
        "width": 500,
        "xaxis": {
         "linecolor": "rgb(0,0,0)",
         "linewidth": 2,
         "range": [
          0.5,
          2
         ],
         "showgrid": false,
         "showline": true,
         "title": {
          "text": "Epsilon"
         }
        },
        "yaxis": {
         "linecolor": "rgb(0,0,0)",
         "linewidth": 2,
         "range": [
          -0.5,
          0.5
         ],
         "showgrid": false,
         "showline": true,
         "title": {
          "text": "SES Assortativity"
         }
        }
       }
      }
     },
     "metadata": {},
     "output_type": "display_data"
    }
   ],
   "source": [
    "\n",
    "fig_eps = plotly_lines.line_with_error(plotly_lines(), data=df_eps_rho, x_var='epsilon', y_var='Network_SES_assortativity', color='rgba(100,0,100,1)', legend_text='')\n",
    "\n",
    "fig_eps.update_layout(\n",
    "    title = None, \n",
    "    font=dict(size = 18),\n",
    "    xaxis_title = 'Epsilon', \n",
    "    yaxis_title = 'SES Assortativity',\n",
    "    width = 500, height = 500,\n",
    "    showlegend = False, \n",
    "    legend=dict(x=0.75,y=1),\n",
    "    legend_title_text = '',\n",
    "    xaxis_range = [0.5,2],\n",
    "    yaxis_range = [-0.5,0.5],\n",
    "    margin=dict(b=5,l=5,r=5,t=5),\n",
    "    xaxis = dict(showgrid = False, showline = True, linecolor = 'rgb(0,0,0)', linewidth = 2), \n",
    "    yaxis = dict(showgrid = False, showline = True, linecolor = 'rgb(0,0,0)', linewidth = 2),\n",
    "    plot_bgcolor='rgba(0,0,0,0)')\n",
    "\n",
    "#fig_eps.data[0].line.color = \"rgb(0,100,0,1)\"\n",
    "fig_eps.add_hline(y=0, line_width=1, annotation_text = 'Random mixing')\n",
    "fig_eps.add_vline(x=1, line_width=1, annotation_text = 'ϵ=1: no bias')\n",
    "\n",
    "\n"
   ]
  },
  {
   "cell_type": "code",
   "execution_count": 26,
   "metadata": {},
   "outputs": [
    {
     "data": {
      "application/vnd.plotly.v1+json": {
       "config": {
        "plotlyServerURL": "https://plot.ly"
       },
       "data": [
        {
         "line": {
          "color": "rgba(100,0,100,1)",
          "width": 2
         },
         "mode": "lines",
         "name": "",
         "showlegend": true,
         "type": "scatter",
         "x": [
          1,
          1.05,
          1.1,
          1.15,
          1.2000000000000002,
          1.2500000000000002,
          1.3000000000000005,
          1.3500000000000003,
          1.4000000000000004,
          1.4500000000000004,
          1.5000000000000004,
          1.5500000000000005,
          1.6000000000000003,
          1.6500000000000006,
          1.7000000000000006,
          1.7500000000000009,
          1.8000000000000007,
          1.8500000000000008,
          1.9000000000000008,
          1.9500000000000008
         ],
         "y": [
          0.043214162368698315,
          0.06203754281589553,
          0.08371557333942733,
          0.09941817941141154,
          0.12007709769278527,
          0.13731132805107285,
          0.15447100762391347,
          0.17475786322237852,
          0.18753999669038127,
          0.20387042910902456,
          0.21684210532581732,
          0.2328522259508973,
          0.2447336362118416,
          0.2562277089298252,
          0.2744311032877818,
          0.2795480710270943,
          0.29196074441117587,
          0.3053366567524963,
          0.31953592052322893,
          0.32844608779133727
         ]
        },
        {
         "line": {
          "color": "rgba(100,0,100,0.25)",
          "width": 2
         },
         "mode": "lines",
         "showlegend": false,
         "type": "scatter",
         "x": [
          1,
          1.05,
          1.1,
          1.15,
          1.2000000000000002,
          1.2500000000000002,
          1.3000000000000005,
          1.3500000000000003,
          1.4000000000000004,
          1.4500000000000004,
          1.5000000000000004,
          1.5500000000000005,
          1.6000000000000003,
          1.6500000000000006,
          1.7000000000000006,
          1.7500000000000009,
          1.8000000000000007,
          1.8500000000000008,
          1.9000000000000008,
          1.9500000000000008
         ],
         "y": [
          0.05790935381285196,
          0.07661861612516549,
          0.09862048935119051,
          0.11423790840652896,
          0.1350604416883042,
          0.15194051702513733,
          0.1691411533940487,
          0.18925047887963525,
          0.20223743250124274,
          0.21855756396671877,
          0.23121460891814744,
          0.24766564240752548,
          0.2593284841789399,
          0.270614700673875,
          0.2886018189506102,
          0.2937600236305671,
          0.30615860030932757,
          0.3194894078065255,
          0.333460521489762,
          0.34285504787127946
         ]
        },
        {
         "fill": "tonexty",
         "fillcolor": "rgba(68, 68, 68, 0.2)",
         "line": {
          "color": "rgba(100,0,100,0.25)",
          "width": 2
         },
         "mode": "lines",
         "showlegend": false,
         "type": "scatter",
         "x": [
          1,
          1.05,
          1.1,
          1.15,
          1.2000000000000002,
          1.2500000000000002,
          1.3000000000000005,
          1.3500000000000003,
          1.4000000000000004,
          1.4500000000000004,
          1.5000000000000004,
          1.5500000000000005,
          1.6000000000000003,
          1.6500000000000006,
          1.7000000000000006,
          1.7500000000000009,
          1.8000000000000007,
          1.8500000000000008,
          1.9000000000000008,
          1.9500000000000008
         ],
         "y": [
          0.02851897092454467,
          0.04745646950662558,
          0.06881065732766416,
          0.08459845041629412,
          0.10509375369726635,
          0.12268213907700837,
          0.13980086185377824,
          0.16026524756512178,
          0.1728425608795198,
          0.18918329425133035,
          0.20246960173348721,
          0.21803880949426913,
          0.23013878824474332,
          0.24184071718577543,
          0.2602603876249534,
          0.2653361184236215,
          0.27776288851302416,
          0.29118390569846714,
          0.30561131955669585,
          0.3140371277113951
         ]
        }
       ],
       "layout": {
        "annotations": [
         {
          "showarrow": false,
          "text": "Random mixing",
          "x": 1,
          "xanchor": "right",
          "xref": "x domain",
          "y": 0,
          "yanchor": "bottom",
          "yref": "y"
         },
         {
          "showarrow": false,
          "text": "ρ=1: no bias",
          "x": 1,
          "xanchor": "left",
          "xref": "x",
          "y": 1,
          "yanchor": "top",
          "yref": "y domain"
         }
        ],
        "font": {
         "size": 18
        },
        "height": 500,
        "legend": {
         "title": {
          "text": ""
         },
         "x": 0.75,
         "y": 1
        },
        "margin": {
         "b": 5,
         "l": 5,
         "r": 5,
         "t": 5
        },
        "plot_bgcolor": "rgba(0,0,0,0)",
        "shapes": [
         {
          "line": {
           "width": 1
          },
          "type": "line",
          "x0": 0,
          "x1": 1,
          "xref": "x domain",
          "y0": 0,
          "y1": 0,
          "yref": "y"
         },
         {
          "line": {
           "width": 1
          },
          "type": "line",
          "x0": 1,
          "x1": 1,
          "xref": "x",
          "y0": 0,
          "y1": 1,
          "yref": "y domain"
         }
        ],
        "showlegend": false,
        "template": {
         "data": {
          "bar": [
           {
            "error_x": {
             "color": "#2a3f5f"
            },
            "error_y": {
             "color": "#2a3f5f"
            },
            "marker": {
             "line": {
              "color": "#E5ECF6",
              "width": 0.5
             },
             "pattern": {
              "fillmode": "overlay",
              "size": 10,
              "solidity": 0.2
             }
            },
            "type": "bar"
           }
          ],
          "barpolar": [
           {
            "marker": {
             "line": {
              "color": "#E5ECF6",
              "width": 0.5
             },
             "pattern": {
              "fillmode": "overlay",
              "size": 10,
              "solidity": 0.2
             }
            },
            "type": "barpolar"
           }
          ],
          "carpet": [
           {
            "aaxis": {
             "endlinecolor": "#2a3f5f",
             "gridcolor": "white",
             "linecolor": "white",
             "minorgridcolor": "white",
             "startlinecolor": "#2a3f5f"
            },
            "baxis": {
             "endlinecolor": "#2a3f5f",
             "gridcolor": "white",
             "linecolor": "white",
             "minorgridcolor": "white",
             "startlinecolor": "#2a3f5f"
            },
            "type": "carpet"
           }
          ],
          "choropleth": [
           {
            "colorbar": {
             "outlinewidth": 0,
             "ticks": ""
            },
            "type": "choropleth"
           }
          ],
          "contour": [
           {
            "colorbar": {
             "outlinewidth": 0,
             "ticks": ""
            },
            "colorscale": [
             [
              0,
              "#0d0887"
             ],
             [
              0.1111111111111111,
              "#46039f"
             ],
             [
              0.2222222222222222,
              "#7201a8"
             ],
             [
              0.3333333333333333,
              "#9c179e"
             ],
             [
              0.4444444444444444,
              "#bd3786"
             ],
             [
              0.5555555555555556,
              "#d8576b"
             ],
             [
              0.6666666666666666,
              "#ed7953"
             ],
             [
              0.7777777777777778,
              "#fb9f3a"
             ],
             [
              0.8888888888888888,
              "#fdca26"
             ],
             [
              1,
              "#f0f921"
             ]
            ],
            "type": "contour"
           }
          ],
          "contourcarpet": [
           {
            "colorbar": {
             "outlinewidth": 0,
             "ticks": ""
            },
            "type": "contourcarpet"
           }
          ],
          "heatmap": [
           {
            "colorbar": {
             "outlinewidth": 0,
             "ticks": ""
            },
            "colorscale": [
             [
              0,
              "#0d0887"
             ],
             [
              0.1111111111111111,
              "#46039f"
             ],
             [
              0.2222222222222222,
              "#7201a8"
             ],
             [
              0.3333333333333333,
              "#9c179e"
             ],
             [
              0.4444444444444444,
              "#bd3786"
             ],
             [
              0.5555555555555556,
              "#d8576b"
             ],
             [
              0.6666666666666666,
              "#ed7953"
             ],
             [
              0.7777777777777778,
              "#fb9f3a"
             ],
             [
              0.8888888888888888,
              "#fdca26"
             ],
             [
              1,
              "#f0f921"
             ]
            ],
            "type": "heatmap"
           }
          ],
          "heatmapgl": [
           {
            "colorbar": {
             "outlinewidth": 0,
             "ticks": ""
            },
            "colorscale": [
             [
              0,
              "#0d0887"
             ],
             [
              0.1111111111111111,
              "#46039f"
             ],
             [
              0.2222222222222222,
              "#7201a8"
             ],
             [
              0.3333333333333333,
              "#9c179e"
             ],
             [
              0.4444444444444444,
              "#bd3786"
             ],
             [
              0.5555555555555556,
              "#d8576b"
             ],
             [
              0.6666666666666666,
              "#ed7953"
             ],
             [
              0.7777777777777778,
              "#fb9f3a"
             ],
             [
              0.8888888888888888,
              "#fdca26"
             ],
             [
              1,
              "#f0f921"
             ]
            ],
            "type": "heatmapgl"
           }
          ],
          "histogram": [
           {
            "marker": {
             "pattern": {
              "fillmode": "overlay",
              "size": 10,
              "solidity": 0.2
             }
            },
            "type": "histogram"
           }
          ],
          "histogram2d": [
           {
            "colorbar": {
             "outlinewidth": 0,
             "ticks": ""
            },
            "colorscale": [
             [
              0,
              "#0d0887"
             ],
             [
              0.1111111111111111,
              "#46039f"
             ],
             [
              0.2222222222222222,
              "#7201a8"
             ],
             [
              0.3333333333333333,
              "#9c179e"
             ],
             [
              0.4444444444444444,
              "#bd3786"
             ],
             [
              0.5555555555555556,
              "#d8576b"
             ],
             [
              0.6666666666666666,
              "#ed7953"
             ],
             [
              0.7777777777777778,
              "#fb9f3a"
             ],
             [
              0.8888888888888888,
              "#fdca26"
             ],
             [
              1,
              "#f0f921"
             ]
            ],
            "type": "histogram2d"
           }
          ],
          "histogram2dcontour": [
           {
            "colorbar": {
             "outlinewidth": 0,
             "ticks": ""
            },
            "colorscale": [
             [
              0,
              "#0d0887"
             ],
             [
              0.1111111111111111,
              "#46039f"
             ],
             [
              0.2222222222222222,
              "#7201a8"
             ],
             [
              0.3333333333333333,
              "#9c179e"
             ],
             [
              0.4444444444444444,
              "#bd3786"
             ],
             [
              0.5555555555555556,
              "#d8576b"
             ],
             [
              0.6666666666666666,
              "#ed7953"
             ],
             [
              0.7777777777777778,
              "#fb9f3a"
             ],
             [
              0.8888888888888888,
              "#fdca26"
             ],
             [
              1,
              "#f0f921"
             ]
            ],
            "type": "histogram2dcontour"
           }
          ],
          "mesh3d": [
           {
            "colorbar": {
             "outlinewidth": 0,
             "ticks": ""
            },
            "type": "mesh3d"
           }
          ],
          "parcoords": [
           {
            "line": {
             "colorbar": {
              "outlinewidth": 0,
              "ticks": ""
             }
            },
            "type": "parcoords"
           }
          ],
          "pie": [
           {
            "automargin": true,
            "type": "pie"
           }
          ],
          "scatter": [
           {
            "fillpattern": {
             "fillmode": "overlay",
             "size": 10,
             "solidity": 0.2
            },
            "type": "scatter"
           }
          ],
          "scatter3d": [
           {
            "line": {
             "colorbar": {
              "outlinewidth": 0,
              "ticks": ""
             }
            },
            "marker": {
             "colorbar": {
              "outlinewidth": 0,
              "ticks": ""
             }
            },
            "type": "scatter3d"
           }
          ],
          "scattercarpet": [
           {
            "marker": {
             "colorbar": {
              "outlinewidth": 0,
              "ticks": ""
             }
            },
            "type": "scattercarpet"
           }
          ],
          "scattergeo": [
           {
            "marker": {
             "colorbar": {
              "outlinewidth": 0,
              "ticks": ""
             }
            },
            "type": "scattergeo"
           }
          ],
          "scattergl": [
           {
            "marker": {
             "colorbar": {
              "outlinewidth": 0,
              "ticks": ""
             }
            },
            "type": "scattergl"
           }
          ],
          "scattermapbox": [
           {
            "marker": {
             "colorbar": {
              "outlinewidth": 0,
              "ticks": ""
             }
            },
            "type": "scattermapbox"
           }
          ],
          "scatterpolar": [
           {
            "marker": {
             "colorbar": {
              "outlinewidth": 0,
              "ticks": ""
             }
            },
            "type": "scatterpolar"
           }
          ],
          "scatterpolargl": [
           {
            "marker": {
             "colorbar": {
              "outlinewidth": 0,
              "ticks": ""
             }
            },
            "type": "scatterpolargl"
           }
          ],
          "scatterternary": [
           {
            "marker": {
             "colorbar": {
              "outlinewidth": 0,
              "ticks": ""
             }
            },
            "type": "scatterternary"
           }
          ],
          "surface": [
           {
            "colorbar": {
             "outlinewidth": 0,
             "ticks": ""
            },
            "colorscale": [
             [
              0,
              "#0d0887"
             ],
             [
              0.1111111111111111,
              "#46039f"
             ],
             [
              0.2222222222222222,
              "#7201a8"
             ],
             [
              0.3333333333333333,
              "#9c179e"
             ],
             [
              0.4444444444444444,
              "#bd3786"
             ],
             [
              0.5555555555555556,
              "#d8576b"
             ],
             [
              0.6666666666666666,
              "#ed7953"
             ],
             [
              0.7777777777777778,
              "#fb9f3a"
             ],
             [
              0.8888888888888888,
              "#fdca26"
             ],
             [
              1,
              "#f0f921"
             ]
            ],
            "type": "surface"
           }
          ],
          "table": [
           {
            "cells": {
             "fill": {
              "color": "#EBF0F8"
             },
             "line": {
              "color": "white"
             }
            },
            "header": {
             "fill": {
              "color": "#C8D4E3"
             },
             "line": {
              "color": "white"
             }
            },
            "type": "table"
           }
          ]
         },
         "layout": {
          "annotationdefaults": {
           "arrowcolor": "#2a3f5f",
           "arrowhead": 0,
           "arrowwidth": 1
          },
          "autotypenumbers": "strict",
          "coloraxis": {
           "colorbar": {
            "outlinewidth": 0,
            "ticks": ""
           }
          },
          "colorscale": {
           "diverging": [
            [
             0,
             "#8e0152"
            ],
            [
             0.1,
             "#c51b7d"
            ],
            [
             0.2,
             "#de77ae"
            ],
            [
             0.3,
             "#f1b6da"
            ],
            [
             0.4,
             "#fde0ef"
            ],
            [
             0.5,
             "#f7f7f7"
            ],
            [
             0.6,
             "#e6f5d0"
            ],
            [
             0.7,
             "#b8e186"
            ],
            [
             0.8,
             "#7fbc41"
            ],
            [
             0.9,
             "#4d9221"
            ],
            [
             1,
             "#276419"
            ]
           ],
           "sequential": [
            [
             0,
             "#0d0887"
            ],
            [
             0.1111111111111111,
             "#46039f"
            ],
            [
             0.2222222222222222,
             "#7201a8"
            ],
            [
             0.3333333333333333,
             "#9c179e"
            ],
            [
             0.4444444444444444,
             "#bd3786"
            ],
            [
             0.5555555555555556,
             "#d8576b"
            ],
            [
             0.6666666666666666,
             "#ed7953"
            ],
            [
             0.7777777777777778,
             "#fb9f3a"
            ],
            [
             0.8888888888888888,
             "#fdca26"
            ],
            [
             1,
             "#f0f921"
            ]
           ],
           "sequentialminus": [
            [
             0,
             "#0d0887"
            ],
            [
             0.1111111111111111,
             "#46039f"
            ],
            [
             0.2222222222222222,
             "#7201a8"
            ],
            [
             0.3333333333333333,
             "#9c179e"
            ],
            [
             0.4444444444444444,
             "#bd3786"
            ],
            [
             0.5555555555555556,
             "#d8576b"
            ],
            [
             0.6666666666666666,
             "#ed7953"
            ],
            [
             0.7777777777777778,
             "#fb9f3a"
            ],
            [
             0.8888888888888888,
             "#fdca26"
            ],
            [
             1,
             "#f0f921"
            ]
           ]
          },
          "colorway": [
           "#636efa",
           "#EF553B",
           "#00cc96",
           "#ab63fa",
           "#FFA15A",
           "#19d3f3",
           "#FF6692",
           "#B6E880",
           "#FF97FF",
           "#FECB52"
          ],
          "font": {
           "color": "#2a3f5f"
          },
          "geo": {
           "bgcolor": "white",
           "lakecolor": "white",
           "landcolor": "#E5ECF6",
           "showlakes": true,
           "showland": true,
           "subunitcolor": "white"
          },
          "hoverlabel": {
           "align": "left"
          },
          "hovermode": "closest",
          "mapbox": {
           "style": "light"
          },
          "paper_bgcolor": "white",
          "plot_bgcolor": "#E5ECF6",
          "polar": {
           "angularaxis": {
            "gridcolor": "white",
            "linecolor": "white",
            "ticks": ""
           },
           "bgcolor": "#E5ECF6",
           "radialaxis": {
            "gridcolor": "white",
            "linecolor": "white",
            "ticks": ""
           }
          },
          "scene": {
           "xaxis": {
            "backgroundcolor": "#E5ECF6",
            "gridcolor": "white",
            "gridwidth": 2,
            "linecolor": "white",
            "showbackground": true,
            "ticks": "",
            "zerolinecolor": "white"
           },
           "yaxis": {
            "backgroundcolor": "#E5ECF6",
            "gridcolor": "white",
            "gridwidth": 2,
            "linecolor": "white",
            "showbackground": true,
            "ticks": "",
            "zerolinecolor": "white"
           },
           "zaxis": {
            "backgroundcolor": "#E5ECF6",
            "gridcolor": "white",
            "gridwidth": 2,
            "linecolor": "white",
            "showbackground": true,
            "ticks": "",
            "zerolinecolor": "white"
           }
          },
          "shapedefaults": {
           "line": {
            "color": "#2a3f5f"
           }
          },
          "ternary": {
           "aaxis": {
            "gridcolor": "white",
            "linecolor": "white",
            "ticks": ""
           },
           "baxis": {
            "gridcolor": "white",
            "linecolor": "white",
            "ticks": ""
           },
           "bgcolor": "#E5ECF6",
           "caxis": {
            "gridcolor": "white",
            "linecolor": "white",
            "ticks": ""
           }
          },
          "title": {
           "x": 0.05
          },
          "xaxis": {
           "automargin": true,
           "gridcolor": "white",
           "linecolor": "white",
           "ticks": "",
           "title": {
            "standoff": 15
           },
           "zerolinecolor": "white",
           "zerolinewidth": 2
          },
          "yaxis": {
           "automargin": true,
           "gridcolor": "white",
           "linecolor": "white",
           "ticks": "",
           "title": {
            "standoff": 15
           },
           "zerolinecolor": "white",
           "zerolinewidth": 2
          }
         }
        },
        "title": {},
        "width": 500,
        "xaxis": {
         "linecolor": "rgb(0,0,0)",
         "linewidth": 2,
         "range": [
          1,
          2
         ],
         "showgrid": false,
         "showline": true,
         "title": {
          "text": "Rho"
         }
        },
        "yaxis": {
         "linecolor": "rgb(0,0,0)",
         "linewidth": 2,
         "range": [
          -0.5,
          0.5
         ],
         "showgrid": false,
         "showline": true,
         "title": {
          "text": "SES Assortativity"
         }
        }
       }
      }
     },
     "metadata": {},
     "output_type": "display_data"
    }
   ],
   "source": [
    "\n",
    "fig_rho = plotly_lines.line_with_error(plotly_lines(), data=df_eps_rho, x_var='rho', y_var='Network_SES_assortativity', color='rgba(100,0,100,1)', legend_text='')\n",
    "\n",
    "fig_rho.update_layout(\n",
    "    title = None, \n",
    "    font=dict(size = 18),\n",
    "    xaxis_title = 'Rho', \n",
    "    yaxis_title = 'SES Assortativity',\n",
    "    width = 500, height = 500,\n",
    "    showlegend = False, \n",
    "    legend=dict(x=0.75,y=1),\n",
    "    legend_title_text = '',\n",
    "    xaxis_range = [1,2],\n",
    "    yaxis_range = [-0.5,0.5],\n",
    "    margin=dict(b=5,l=5,r=5,t=5),\n",
    "    xaxis = dict(showgrid = False, showline = True, linecolor = 'rgb(0,0,0)', linewidth = 2), \n",
    "    yaxis = dict(showgrid = False, showline = True, linecolor = 'rgb(0,0,0)', linewidth = 2),\n",
    "    plot_bgcolor='rgba(0,0,0,0)')\n",
    "\n",
    "\n",
    "fig_rho.add_hline(y=0, line_width=1, annotation_text = 'Random mixing')\n",
    "fig_rho.add_vline(x=1, line_width=1, annotation_text = 'ρ=1: no bias')\n",
    "\n",
    "\n"
   ]
  },
  {
   "attachments": {},
   "cell_type": "markdown",
   "metadata": {},
   "source": [
    "### MTO Outcomes"
   ]
  },
  {
   "cell_type": "code",
   "execution_count": 4,
   "metadata": {},
   "outputs": [
    {
     "ename": "NameError",
     "evalue": "name 'df_eps_rho' is not defined",
     "output_type": "error",
     "traceback": [
      "\u001b[1;31m---------------------------------------------------------------------------\u001b[0m",
      "\u001b[1;31mNameError\u001b[0m                                 Traceback (most recent call last)",
      "\u001b[1;32mc:\\Programming\\Code\\Dissertation\\Diss model\\Diss_work.ipynb Cell 28\u001b[0m in \u001b[0;36m<cell line: 1>\u001b[1;34m()\u001b[0m\n\u001b[1;32m----> <a href='vscode-notebook-cell:/c%3A/Programming/Code/Dissertation/Diss%20model/Diss_work.ipynb#X36sZmlsZQ%3D%3D?line=0'>1</a>\u001b[0m fig_exposure \u001b[39m=\u001b[39m px\u001b[39m.\u001b[39mdensity_heatmap(x\u001b[39m=\u001b[39mdf_eps_rho[\u001b[39m'\u001b[39m\u001b[39mepsilon\u001b[39m\u001b[39m'\u001b[39m], y\u001b[39m=\u001b[39mdf_eps_rho[\u001b[39m'\u001b[39m\u001b[39mrho\u001b[39m\u001b[39m'\u001b[39m], z\u001b[39m=\u001b[39mdf_eps_rho[\u001b[39m'\u001b[39m\u001b[39mExposure\u001b[39m\u001b[39m'\u001b[39m], range_x\u001b[39m=\u001b[39m[\u001b[39m0.5\u001b[39m,\u001b[39m2\u001b[39m], range_y\u001b[39m=\u001b[39m[\u001b[39m1\u001b[39m,\u001b[39m2\u001b[39m], histfunc\u001b[39m=\u001b[39m\u001b[39m'\u001b[39m\u001b[39mavg\u001b[39m\u001b[39m'\u001b[39m, color_continuous_scale\u001b[39m=\u001b[39mpx\u001b[39m.\u001b[39mcolors\u001b[39m.\u001b[39mdiverging\u001b[39m.\u001b[39mRdYlBu_r, range_color\u001b[39m=\u001b[39m(\u001b[39m0.6\u001b[39m,\u001b[39m1.4\u001b[39m))\n\u001b[0;32m      <a href='vscode-notebook-cell:/c%3A/Programming/Code/Dissertation/Diss%20model/Diss_work.ipynb#X36sZmlsZQ%3D%3D?line=2'>3</a>\u001b[0m fig_exposure\u001b[39m.\u001b[39mupdate_layout(\n\u001b[0;32m      <a href='vscode-notebook-cell:/c%3A/Programming/Code/Dissertation/Diss%20model/Diss_work.ipynb#X36sZmlsZQ%3D%3D?line=3'>4</a>\u001b[0m     title \u001b[39m=\u001b[39m \u001b[39mNone\u001b[39;00m, \n\u001b[0;32m      <a href='vscode-notebook-cell:/c%3A/Programming/Code/Dissertation/Diss%20model/Diss_work.ipynb#X36sZmlsZQ%3D%3D?line=4'>5</a>\u001b[0m     font\u001b[39m=\u001b[39m\u001b[39mdict\u001b[39m(size \u001b[39m=\u001b[39m \u001b[39m18\u001b[39m),\n\u001b[1;32m   (...)\u001b[0m\n\u001b[0;32m     <a href='vscode-notebook-cell:/c%3A/Programming/Code/Dissertation/Diss%20model/Diss_work.ipynb#X36sZmlsZQ%3D%3D?line=16'>17</a>\u001b[0m     yaxis \u001b[39m=\u001b[39m \u001b[39mdict\u001b[39m(showgrid \u001b[39m=\u001b[39m \u001b[39mFalse\u001b[39;00m, showline \u001b[39m=\u001b[39m \u001b[39mTrue\u001b[39;00m, linecolor \u001b[39m=\u001b[39m \u001b[39m'\u001b[39m\u001b[39mrgb(0,0,0)\u001b[39m\u001b[39m'\u001b[39m, linewidth \u001b[39m=\u001b[39m \u001b[39m2\u001b[39m),\n\u001b[0;32m     <a href='vscode-notebook-cell:/c%3A/Programming/Code/Dissertation/Diss%20model/Diss_work.ipynb#X36sZmlsZQ%3D%3D?line=17'>18</a>\u001b[0m     plot_bgcolor\u001b[39m=\u001b[39m\u001b[39m'\u001b[39m\u001b[39mrgba(0,0,0,0)\u001b[39m\u001b[39m'\u001b[39m)\n\u001b[0;32m     <a href='vscode-notebook-cell:/c%3A/Programming/Code/Dissertation/Diss%20model/Diss_work.ipynb#X36sZmlsZQ%3D%3D?line=20'>21</a>\u001b[0m fig_exposure\u001b[39m.\u001b[39madd_hline(y\u001b[39m=\u001b[39m\u001b[39m1\u001b[39m, line_width\u001b[39m=\u001b[39m\u001b[39m1\u001b[39m, annotation_text \u001b[39m=\u001b[39m \u001b[39m'\u001b[39m\u001b[39mρ=1: no friending bias\u001b[39m\u001b[39m'\u001b[39m)\n",
      "\u001b[1;31mNameError\u001b[0m: name 'df_eps_rho' is not defined"
     ]
    }
   ],
   "source": [
    "\n",
    "\n",
    "fig_exposure = px.density_heatmap(x=df_eps_rho['epsilon'], y=df_eps_rho['rho'], z=df_eps_rho['Exposure'], range_x=[0.5,2], range_y=[1,2], histfunc='avg', color_continuous_scale=px.colors.diverging.RdYlBu_r, range_color=(0.6,1.4))\n",
    "\n",
    "fig_exposure.update_layout(\n",
    "    title = None, \n",
    "    font=dict(size = 18),\n",
    "    xaxis_title = 'Epsilon', \n",
    "    yaxis_title = 'Rho',\n",
    "    width = 800, height = 400,\n",
    "    showlegend = True, \n",
    "    legend=dict(x=0.75,y=1, title='Mean Exposure'),\n",
    "    coloraxis_colorbar_title_text = 'Mean<br>Exposure',\n",
    "    legend_title_text = '',\n",
    "    xaxis_range = [0.5,2],\n",
    "    yaxis_range = [1,2],\n",
    "    margin=dict(b=5,l=5,r=5,t=5),\n",
    "    xaxis = dict(showgrid = False, showline = True, linecolor = 'rgb(0,0,0)', linewidth = 2), \n",
    "    yaxis = dict(showgrid = False, showline = True, linecolor = 'rgb(0,0,0)', linewidth = 2),\n",
    "    plot_bgcolor='rgba(0,0,0,0)')\n",
    "\n",
    "\n",
    "fig_exposure.add_hline(y=1, line_width=1, annotation_text = 'ρ=1: no friending bias')\n",
    "fig_exposure.add_vline(x=1, line_width=1, annotation_text = 'ϵ=1: no exposure bias')\n",
    "\n",
    "\n"
   ]
  },
  {
   "cell_type": "code",
   "execution_count": 7,
   "metadata": {},
   "outputs": [
    {
     "ename": "NameError",
     "evalue": "name 'df_eps_rho' is not defined",
     "output_type": "error",
     "traceback": [
      "\u001b[1;31m---------------------------------------------------------------------------\u001b[0m",
      "\u001b[1;31mNameError\u001b[0m                                 Traceback (most recent call last)",
      "\u001b[1;32mc:\\Programming\\Code\\Dissertation\\Diss model\\Diss_work.ipynb Cell 29\u001b[0m in \u001b[0;36m<cell line: 1>\u001b[1;34m()\u001b[0m\n\u001b[1;32m----> <a href='vscode-notebook-cell:/c%3A/Programming/Code/Dissertation/Diss%20model/Diss_work.ipynb#X56sZmlsZQ%3D%3D?line=0'>1</a>\u001b[0m px\u001b[39m.\u001b[39mdensity_heatmap(x\u001b[39m=\u001b[39mdf_eps_rho[\u001b[39m'\u001b[39m\u001b[39mepsilon\u001b[39m\u001b[39m'\u001b[39m], y\u001b[39m=\u001b[39mdf_eps_rho[\u001b[39m'\u001b[39m\u001b[39mrho\u001b[39m\u001b[39m'\u001b[39m], z\u001b[39m=\u001b[39mdf_eps_rho[\u001b[39m'\u001b[39m\u001b[39mFriend_Bias\u001b[39m\u001b[39m'\u001b[39m], range_x\u001b[39m=\u001b[39m[\u001b[39m0.5\u001b[39m,\u001b[39m2\u001b[39m], range_y\u001b[39m=\u001b[39m[\u001b[39m1\u001b[39m,\u001b[39m2\u001b[39m], histfunc\u001b[39m=\u001b[39m\u001b[39m'\u001b[39m\u001b[39mavg\u001b[39m\u001b[39m'\u001b[39m, color_continuous_scale\u001b[39m=\u001b[39mpx\u001b[39m.\u001b[39mcolors\u001b[39m.\u001b[39msequential\u001b[39m.\u001b[39mRdBu_r)\n\u001b[0;32m      <a href='vscode-notebook-cell:/c%3A/Programming/Code/Dissertation/Diss%20model/Diss_work.ipynb#X56sZmlsZQ%3D%3D?line=2'>3</a>\u001b[0m fig_exposure\u001b[39m.\u001b[39mupdate_layout(\n\u001b[0;32m      <a href='vscode-notebook-cell:/c%3A/Programming/Code/Dissertation/Diss%20model/Diss_work.ipynb#X56sZmlsZQ%3D%3D?line=3'>4</a>\u001b[0m     title \u001b[39m=\u001b[39m \u001b[39mNone\u001b[39;00m, \n\u001b[0;32m      <a href='vscode-notebook-cell:/c%3A/Programming/Code/Dissertation/Diss%20model/Diss_work.ipynb#X56sZmlsZQ%3D%3D?line=4'>5</a>\u001b[0m     font\u001b[39m=\u001b[39m\u001b[39mdict\u001b[39m(size \u001b[39m=\u001b[39m \u001b[39m18\u001b[39m),\n\u001b[1;32m   (...)\u001b[0m\n\u001b[0;32m     <a href='vscode-notebook-cell:/c%3A/Programming/Code/Dissertation/Diss%20model/Diss_work.ipynb#X56sZmlsZQ%3D%3D?line=16'>17</a>\u001b[0m     yaxis \u001b[39m=\u001b[39m \u001b[39mdict\u001b[39m(showgrid \u001b[39m=\u001b[39m \u001b[39mFalse\u001b[39;00m, showline \u001b[39m=\u001b[39m \u001b[39mTrue\u001b[39;00m, linecolor \u001b[39m=\u001b[39m \u001b[39m'\u001b[39m\u001b[39mrgb(0,0,0)\u001b[39m\u001b[39m'\u001b[39m, linewidth \u001b[39m=\u001b[39m \u001b[39m2\u001b[39m),\n\u001b[0;32m     <a href='vscode-notebook-cell:/c%3A/Programming/Code/Dissertation/Diss%20model/Diss_work.ipynb#X56sZmlsZQ%3D%3D?line=17'>18</a>\u001b[0m     plot_bgcolor\u001b[39m=\u001b[39m\u001b[39m'\u001b[39m\u001b[39mrgba(0,0,0,0)\u001b[39m\u001b[39m'\u001b[39m)\n\u001b[0;32m     <a href='vscode-notebook-cell:/c%3A/Programming/Code/Dissertation/Diss%20model/Diss_work.ipynb#X56sZmlsZQ%3D%3D?line=20'>21</a>\u001b[0m fig_exposure\u001b[39m.\u001b[39madd_hline(y\u001b[39m=\u001b[39m\u001b[39m1\u001b[39m, line_width\u001b[39m=\u001b[39m\u001b[39m1\u001b[39m, annotation_text \u001b[39m=\u001b[39m \u001b[39m'\u001b[39m\u001b[39mρ=1: no friending bias\u001b[39m\u001b[39m'\u001b[39m)\n",
      "\u001b[1;31mNameError\u001b[0m: name 'df_eps_rho' is not defined"
     ]
    }
   ],
   "source": [
    "\n",
    "px.density_heatmap(x=df_eps_rho['epsilon'], y=df_eps_rho['rho'], z=df_eps_rho['Friend_Bias'], range_x=[0.5,2], range_y=[1,2], histfunc='avg', color_continuous_scale=px.colors.sequential.RdBu_r)\n",
    "\n",
    "fig_exposure.update_layout(\n",
    "    title = None, \n",
    "    font=dict(size = 18),\n",
    "    xaxis_title = 'Epsilon', \n",
    "    yaxis_title = 'Rho',\n",
    "    width = 800, height = 400,\n",
    "    showlegend = True, \n",
    "    legend=dict(x=0.75,y=1, title='Mean Exposure'),\n",
    "    coloraxis_colorbar_title_text = 'Mean<br>Exposure',\n",
    "    legend_title_text = '',\n",
    "    xaxis_range = [0.5,2],\n",
    "    yaxis_range = [1,2],\n",
    "    margin=dict(b=5,l=5,r=5,t=5),\n",
    "    xaxis = dict(showgrid = False, showline = True, linecolor = 'rgb(0,0,0)', linewidth = 2), \n",
    "    yaxis = dict(showgrid = False, showline = True, linecolor = 'rgb(0,0,0)', linewidth = 2),\n",
    "    plot_bgcolor='rgba(0,0,0,0)')\n",
    "\n",
    "\n",
    "fig_exposure.add_hline(y=1, line_width=1, annotation_text = 'ρ=1: no friending bias')\n",
    "fig_exposure.add_vline(x=1, line_width=1, annotation_text = 'ϵ=1: no exposure bias')\n"
   ]
  },
  {
   "cell_type": "code",
   "execution_count": 8,
   "metadata": {},
   "outputs": [
    {
     "ename": "NameError",
     "evalue": "name 'df_eps_rho' is not defined",
     "output_type": "error",
     "traceback": [
      "\u001b[1;31m---------------------------------------------------------------------------\u001b[0m",
      "\u001b[1;31mNameError\u001b[0m                                 Traceback (most recent call last)",
      "\u001b[1;32mc:\\Programming\\Code\\Dissertation\\Diss model\\Diss_work.ipynb Cell 30\u001b[0m in \u001b[0;36m<cell line: 1>\u001b[1;34m()\u001b[0m\n\u001b[1;32m----> <a href='vscode-notebook-cell:/c%3A/Programming/Code/Dissertation/Diss%20model/Diss_work.ipynb#X60sZmlsZQ%3D%3D?line=0'>1</a>\u001b[0m px\u001b[39m.\u001b[39mdensity_heatmap(x\u001b[39m=\u001b[39mdf_eps_rho[\u001b[39m'\u001b[39m\u001b[39mepsilon\u001b[39m\u001b[39m'\u001b[39m], y\u001b[39m=\u001b[39mdf_eps_rho[\u001b[39m'\u001b[39m\u001b[39mrho\u001b[39m\u001b[39m'\u001b[39m], z\u001b[39m=\u001b[39mdf_eps_rho[\u001b[39m'\u001b[39m\u001b[39mH_Share\u001b[39m\u001b[39m'\u001b[39m], range_x\u001b[39m=\u001b[39m[\u001b[39m0.5\u001b[39m,\u001b[39m2\u001b[39m], range_y\u001b[39m=\u001b[39m[\u001b[39m1\u001b[39m,\u001b[39m2\u001b[39m], histfunc\u001b[39m=\u001b[39m\u001b[39m'\u001b[39m\u001b[39mavg\u001b[39m\u001b[39m'\u001b[39m, color_continuous_scale\u001b[39m=\u001b[39mpx\u001b[39m.\u001b[39mcolors\u001b[39m.\u001b[39msequential\u001b[39m.\u001b[39mGreens)\n",
      "\u001b[1;31mNameError\u001b[0m: name 'df_eps_rho' is not defined"
     ]
    }
   ],
   "source": [
    "px.density_heatmap(x=df_eps_rho['epsilon'], y=df_eps_rho['rho'], z=df_eps_rho['H_Share'], range_x=[0.5,2], range_y=[1,2], histfunc='avg', color_continuous_scale=px.colors.sequential.Greens)"
   ]
  },
  {
   "attachments": {},
   "cell_type": "markdown",
   "metadata": {},
   "source": [
    "### Randomly sampled values"
   ]
  },
  {
   "cell_type": "code",
   "execution_count": 2,
   "metadata": {},
   "outputs": [
    {
     "name": "stdout",
     "output_type": "stream",
     "text": [
      "Running 5000 simulations over 100 parameter combinations\n",
      " Finished 5000 simulations in 1.69 minutes, average time: 0.000338 min/sim"
     ]
    },
    {
     "data": {
      "text/html": [
       "<div>\n",
       "<style scoped>\n",
       "    .dataframe tbody tr th:only-of-type {\n",
       "        vertical-align: middle;\n",
       "    }\n",
       "\n",
       "    .dataframe tbody tr th {\n",
       "        vertical-align: top;\n",
       "    }\n",
       "\n",
       "    .dataframe thead th {\n",
       "        text-align: right;\n",
       "    }\n",
       "</style>\n",
       "<table border=\"1\" class=\"dataframe\">\n",
       "  <thead>\n",
       "    <tr style=\"text-align: right;\">\n",
       "      <th></th>\n",
       "      <th>sim_id</th>\n",
       "      <th>p_SES_high</th>\n",
       "      <th>epsilon</th>\n",
       "      <th>rho</th>\n",
       "      <th>H_Share</th>\n",
       "      <th>Exposure</th>\n",
       "      <th>Friend_Bias</th>\n",
       "      <th>N_exposure</th>\n",
       "      <th>Degree</th>\n",
       "      <th>Network_SES_assortativity</th>\n",
       "      <th>Network_H_Share_H</th>\n",
       "      <th>Network_H_Share_L</th>\n",
       "      <th>Network_Degree</th>\n",
       "      <th>Network_Clustering</th>\n",
       "      <th>Predicted_H_Share</th>\n",
       "      <th>Predicted_Exposure</th>\n",
       "      <th>Predicted_Friend_Bias</th>\n",
       "    </tr>\n",
       "  </thead>\n",
       "  <tbody>\n",
       "    <tr>\n",
       "      <th>3938</th>\n",
       "      <td>PioXsrhM</td>\n",
       "      <td>0.5</td>\n",
       "      <td>1.146198</td>\n",
       "      <td>1.018463</td>\n",
       "      <td>0.615385</td>\n",
       "      <td>1.230769</td>\n",
       "      <td>0.923077</td>\n",
       "      <td>14</td>\n",
       "      <td>13</td>\n",
       "      <td>0.024510</td>\n",
       "      <td>0.434923</td>\n",
       "      <td>0.409328</td>\n",
       "      <td>24.16</td>\n",
       "      <td>0.295267</td>\n",
       "      <td>0.457494</td>\n",
       "      <td>0.931880</td>\n",
       "      <td>0.009764</td>\n",
       "    </tr>\n",
       "    <tr>\n",
       "      <th>4861</th>\n",
       "      <td>UgeUzwMb</td>\n",
       "      <td>0.5</td>\n",
       "      <td>1.168129</td>\n",
       "      <td>0.950575</td>\n",
       "      <td>0.230769</td>\n",
       "      <td>0.461538</td>\n",
       "      <td>0.923077</td>\n",
       "      <td>14</td>\n",
       "      <td>13</td>\n",
       "      <td>0.064136</td>\n",
       "      <td>0.525026</td>\n",
       "      <td>0.459174</td>\n",
       "      <td>24.42</td>\n",
       "      <td>0.292484</td>\n",
       "      <td>0.485209</td>\n",
       "      <td>0.922454</td>\n",
       "      <td>-0.027357</td>\n",
       "    </tr>\n",
       "    <tr>\n",
       "      <th>3201</th>\n",
       "      <td>kqlPdREJ</td>\n",
       "      <td>0.5</td>\n",
       "      <td>1.108535</td>\n",
       "      <td>1.041340</td>\n",
       "      <td>0.357143</td>\n",
       "      <td>0.714286</td>\n",
       "      <td>0.928571</td>\n",
       "      <td>14</td>\n",
       "      <td>14</td>\n",
       "      <td>0.067729</td>\n",
       "      <td>0.510370</td>\n",
       "      <td>0.441027</td>\n",
       "      <td>23.92</td>\n",
       "      <td>0.292147</td>\n",
       "      <td>0.455435</td>\n",
       "      <td>0.948526</td>\n",
       "      <td>0.021272</td>\n",
       "    </tr>\n",
       "    <tr>\n",
       "      <th>537</th>\n",
       "      <td>nHajByjJ</td>\n",
       "      <td>0.5</td>\n",
       "      <td>0.717291</td>\n",
       "      <td>1.027146</td>\n",
       "      <td>0.571429</td>\n",
       "      <td>1.142857</td>\n",
       "      <td>0.928571</td>\n",
       "      <td>14</td>\n",
       "      <td>14</td>\n",
       "      <td>-0.139457</td>\n",
       "      <td>0.466883</td>\n",
       "      <td>0.611711</td>\n",
       "      <td>24.08</td>\n",
       "      <td>0.290593</td>\n",
       "      <td>0.566923</td>\n",
       "      <td>1.164625</td>\n",
       "      <td>0.011212</td>\n",
       "    </tr>\n",
       "    <tr>\n",
       "      <th>3752</th>\n",
       "      <td>mUkidFhH</td>\n",
       "      <td>0.5</td>\n",
       "      <td>1.146198</td>\n",
       "      <td>1.139185</td>\n",
       "      <td>0.500000</td>\n",
       "      <td>1.000000</td>\n",
       "      <td>0.928571</td>\n",
       "      <td>14</td>\n",
       "      <td>14</td>\n",
       "      <td>0.094537</td>\n",
       "      <td>0.625529</td>\n",
       "      <td>0.524474</td>\n",
       "      <td>23.10</td>\n",
       "      <td>0.283844</td>\n",
       "      <td>0.409012</td>\n",
       "      <td>0.931880</td>\n",
       "      <td>0.069190</td>\n",
       "    </tr>\n",
       "  </tbody>\n",
       "</table>\n",
       "</div>"
      ],
      "text/plain": [
       "        sim_id  p_SES_high   epsilon       rho   H_Share  Exposure  \\\n",
       "3938  PioXsrhM         0.5  1.146198  1.018463  0.615385  1.230769   \n",
       "4861  UgeUzwMb         0.5  1.168129  0.950575  0.230769  0.461538   \n",
       "3201  kqlPdREJ         0.5  1.108535  1.041340  0.357143  0.714286   \n",
       "537   nHajByjJ         0.5  0.717291  1.027146  0.571429  1.142857   \n",
       "3752  mUkidFhH         0.5  1.146198  1.139185  0.500000  1.000000   \n",
       "\n",
       "      Friend_Bias  N_exposure  Degree  Network_SES_assortativity  \\\n",
       "3938     0.923077          14      13                   0.024510   \n",
       "4861     0.923077          14      13                   0.064136   \n",
       "3201     0.928571          14      14                   0.067729   \n",
       "537      0.928571          14      14                  -0.139457   \n",
       "3752     0.928571          14      14                   0.094537   \n",
       "\n",
       "      Network_H_Share_H  Network_H_Share_L  Network_Degree  \\\n",
       "3938           0.434923           0.409328           24.16   \n",
       "4861           0.525026           0.459174           24.42   \n",
       "3201           0.510370           0.441027           23.92   \n",
       "537            0.466883           0.611711           24.08   \n",
       "3752           0.625529           0.524474           23.10   \n",
       "\n",
       "      Network_Clustering  Predicted_H_Share  Predicted_Exposure  \\\n",
       "3938            0.295267           0.457494            0.931880   \n",
       "4861            0.292484           0.485209            0.922454   \n",
       "3201            0.292147           0.455435            0.948526   \n",
       "537             0.290593           0.566923            1.164625   \n",
       "3752            0.283844           0.409012            0.931880   \n",
       "\n",
       "      Predicted_Friend_Bias  \n",
       "3938               0.009764  \n",
       "4861              -0.027357  \n",
       "3201               0.021272  \n",
       "537                0.011212  \n",
       "3752               0.069190  "
      ]
     },
     "execution_count": 2,
     "metadata": {},
     "output_type": "execute_result"
    }
   ],
   "source": [
    "\n",
    "list_eps_values_random = np.random.normal(loc=1.1, scale=0.3, size=[10])\n",
    "list_rho_values_random = np.random.normal(loc=1.1, scale=0.1, size=[10])\n",
    "\n",
    "num_sim_per_param = 1 # number of simulations with given parameter set\n",
    "num_MTO_per_sim = 50 # number of simulations on each network\n",
    "\n",
    "df_rho_eps = MTO_simulator(list_eps_values=list_eps_values_random, list_rho_values=list_rho_values_random, num_MTO_per_sim=num_MTO_per_sim, num_sim_per_param=num_sim_per_param)\n",
    "df_rho_eps.sample(5)\n"
   ]
  },
  {
   "attachments": {},
   "cell_type": "markdown",
   "metadata": {},
   "source": [
    "### Descriptive statistics"
   ]
  },
  {
   "attachments": {},
   "cell_type": "markdown",
   "metadata": {},
   "source": [
    "How does the variance change with rho and epsilon?\n",
    "\n",
    "Would appear that variance in Exposure and Friend bias increases some, as does degree. Vriance in H_Share might be going down(although need to test thsi)\n",
    "\n",
    "I can run regressions on thisssss"
   ]
  },
  {
   "attachments": {},
   "cell_type": "markdown",
   "metadata": {},
   "source": [
    "### Regressions"
   ]
  },
  {
   "cell_type": "code",
   "execution_count": 3,
   "metadata": {},
   "outputs": [
    {
     "data": {
      "text/html": [
       "<div>\n",
       "<style scoped>\n",
       "    .dataframe tbody tr th:only-of-type {\n",
       "        vertical-align: middle;\n",
       "    }\n",
       "\n",
       "    .dataframe tbody tr th {\n",
       "        vertical-align: top;\n",
       "    }\n",
       "\n",
       "    .dataframe thead th {\n",
       "        text-align: right;\n",
       "    }\n",
       "</style>\n",
       "<table border=\"1\" class=\"dataframe\">\n",
       "  <thead>\n",
       "    <tr style=\"text-align: right;\">\n",
       "      <th></th>\n",
       "      <th></th>\n",
       "      <th>p_SES_high</th>\n",
       "      <th>H_Share</th>\n",
       "      <th>Exposure</th>\n",
       "      <th>Friend_Bias</th>\n",
       "      <th>N_exposure</th>\n",
       "      <th>Degree</th>\n",
       "      <th>Network_SES_assortativity</th>\n",
       "      <th>Network_H_Share_H</th>\n",
       "      <th>Network_H_Share_L</th>\n",
       "      <th>Network_Degree</th>\n",
       "      <th>Network_Clustering</th>\n",
       "      <th>Predicted_H_Share</th>\n",
       "      <th>Predicted_Exposure</th>\n",
       "      <th>Predicted_Friend_Bias</th>\n",
       "    </tr>\n",
       "    <tr>\n",
       "      <th>epsilon</th>\n",
       "      <th>rho</th>\n",
       "      <th></th>\n",
       "      <th></th>\n",
       "      <th></th>\n",
       "      <th></th>\n",
       "      <th></th>\n",
       "      <th></th>\n",
       "      <th></th>\n",
       "      <th></th>\n",
       "      <th></th>\n",
       "      <th></th>\n",
       "      <th></th>\n",
       "      <th></th>\n",
       "      <th></th>\n",
       "      <th></th>\n",
       "    </tr>\n",
       "  </thead>\n",
       "  <tbody>\n",
       "    <tr>\n",
       "      <th rowspan=\"5\" valign=\"top\">0.585438</th>\n",
       "      <th>0.950575</th>\n",
       "      <td>0.0</td>\n",
       "      <td>0.009206</td>\n",
       "      <td>0.036823</td>\n",
       "      <td>0.000011</td>\n",
       "      <td>0.0</td>\n",
       "      <td>0.336327</td>\n",
       "      <td>0.0</td>\n",
       "      <td>0.0</td>\n",
       "      <td>0.0</td>\n",
       "      <td>0.0</td>\n",
       "      <td>0.0</td>\n",
       "      <td>0.0</td>\n",
       "      <td>0.0</td>\n",
       "      <td>0.0</td>\n",
       "    </tr>\n",
       "    <tr>\n",
       "      <th>0.979175</th>\n",
       "      <td>0.0</td>\n",
       "      <td>0.017794</td>\n",
       "      <td>0.071175</td>\n",
       "      <td>0.000023</td>\n",
       "      <td>0.0</td>\n",
       "      <td>0.630204</td>\n",
       "      <td>0.0</td>\n",
       "      <td>0.0</td>\n",
       "      <td>0.0</td>\n",
       "      <td>0.0</td>\n",
       "      <td>0.0</td>\n",
       "      <td>0.0</td>\n",
       "      <td>0.0</td>\n",
       "      <td>0.0</td>\n",
       "    </tr>\n",
       "    <tr>\n",
       "      <th>1.018463</th>\n",
       "      <td>0.0</td>\n",
       "      <td>0.016220</td>\n",
       "      <td>0.064143</td>\n",
       "      <td>0.000014</td>\n",
       "      <td>0.0</td>\n",
       "      <td>0.455510</td>\n",
       "      <td>0.0</td>\n",
       "      <td>0.0</td>\n",
       "      <td>0.0</td>\n",
       "      <td>0.0</td>\n",
       "      <td>0.0</td>\n",
       "      <td>0.0</td>\n",
       "      <td>0.0</td>\n",
       "      <td>0.0</td>\n",
       "    </tr>\n",
       "    <tr>\n",
       "      <th>1.027146</th>\n",
       "      <td>0.0</td>\n",
       "      <td>0.012896</td>\n",
       "      <td>0.053308</td>\n",
       "      <td>0.000016</td>\n",
       "      <td>0.0</td>\n",
       "      <td>0.622449</td>\n",
       "      <td>0.0</td>\n",
       "      <td>0.0</td>\n",
       "      <td>0.0</td>\n",
       "      <td>0.0</td>\n",
       "      <td>0.0</td>\n",
       "      <td>0.0</td>\n",
       "      <td>0.0</td>\n",
       "      <td>0.0</td>\n",
       "    </tr>\n",
       "    <tr>\n",
       "      <th>1.041340</th>\n",
       "      <td>0.0</td>\n",
       "      <td>0.014763</td>\n",
       "      <td>0.054338</td>\n",
       "      <td>0.000026</td>\n",
       "      <td>0.0</td>\n",
       "      <td>0.654694</td>\n",
       "      <td>0.0</td>\n",
       "      <td>0.0</td>\n",
       "      <td>0.0</td>\n",
       "      <td>0.0</td>\n",
       "      <td>0.0</td>\n",
       "      <td>0.0</td>\n",
       "      <td>0.0</td>\n",
       "      <td>0.0</td>\n",
       "    </tr>\n",
       "    <tr>\n",
       "      <th>...</th>\n",
       "      <th>...</th>\n",
       "      <td>...</td>\n",
       "      <td>...</td>\n",
       "      <td>...</td>\n",
       "      <td>...</td>\n",
       "      <td>...</td>\n",
       "      <td>...</td>\n",
       "      <td>...</td>\n",
       "      <td>...</td>\n",
       "      <td>...</td>\n",
       "      <td>...</td>\n",
       "      <td>...</td>\n",
       "      <td>...</td>\n",
       "      <td>...</td>\n",
       "      <td>...</td>\n",
       "    </tr>\n",
       "    <tr>\n",
       "      <th rowspan=\"5\" valign=\"top\">1.445301</th>\n",
       "      <th>1.098516</th>\n",
       "      <td>0.0</td>\n",
       "      <td>0.013270</td>\n",
       "      <td>0.056260</td>\n",
       "      <td>0.000046</td>\n",
       "      <td>0.0</td>\n",
       "      <td>0.762857</td>\n",
       "      <td>0.0</td>\n",
       "      <td>0.0</td>\n",
       "      <td>0.0</td>\n",
       "      <td>0.0</td>\n",
       "      <td>0.0</td>\n",
       "      <td>0.0</td>\n",
       "      <td>0.0</td>\n",
       "      <td>0.0</td>\n",
       "    </tr>\n",
       "    <tr>\n",
       "      <th>1.101921</th>\n",
       "      <td>0.0</td>\n",
       "      <td>0.013851</td>\n",
       "      <td>0.062114</td>\n",
       "      <td>0.000038</td>\n",
       "      <td>0.0</td>\n",
       "      <td>0.803673</td>\n",
       "      <td>0.0</td>\n",
       "      <td>0.0</td>\n",
       "      <td>0.0</td>\n",
       "      <td>0.0</td>\n",
       "      <td>0.0</td>\n",
       "      <td>0.0</td>\n",
       "      <td>0.0</td>\n",
       "      <td>0.0</td>\n",
       "    </tr>\n",
       "    <tr>\n",
       "      <th>1.139185</th>\n",
       "      <td>0.0</td>\n",
       "      <td>0.021214</td>\n",
       "      <td>0.079809</td>\n",
       "      <td>0.000050</td>\n",
       "      <td>0.0</td>\n",
       "      <td>0.640408</td>\n",
       "      <td>0.0</td>\n",
       "      <td>0.0</td>\n",
       "      <td>0.0</td>\n",
       "      <td>0.0</td>\n",
       "      <td>0.0</td>\n",
       "      <td>0.0</td>\n",
       "      <td>0.0</td>\n",
       "      <td>0.0</td>\n",
       "    </tr>\n",
       "    <tr>\n",
       "      <th>1.143984</th>\n",
       "      <td>0.0</td>\n",
       "      <td>0.013919</td>\n",
       "      <td>0.060916</td>\n",
       "      <td>0.000048</td>\n",
       "      <td>0.0</td>\n",
       "      <td>1.112245</td>\n",
       "      <td>0.0</td>\n",
       "      <td>0.0</td>\n",
       "      <td>0.0</td>\n",
       "      <td>0.0</td>\n",
       "      <td>0.0</td>\n",
       "      <td>0.0</td>\n",
       "      <td>0.0</td>\n",
       "      <td>0.0</td>\n",
       "    </tr>\n",
       "    <tr>\n",
       "      <th>1.156695</th>\n",
       "      <td>0.0</td>\n",
       "      <td>0.021858</td>\n",
       "      <td>0.090642</td>\n",
       "      <td>0.000064</td>\n",
       "      <td>0.0</td>\n",
       "      <td>0.877143</td>\n",
       "      <td>0.0</td>\n",
       "      <td>0.0</td>\n",
       "      <td>0.0</td>\n",
       "      <td>0.0</td>\n",
       "      <td>0.0</td>\n",
       "      <td>0.0</td>\n",
       "      <td>0.0</td>\n",
       "      <td>0.0</td>\n",
       "    </tr>\n",
       "  </tbody>\n",
       "</table>\n",
       "<p>100 rows × 14 columns</p>\n",
       "</div>"
      ],
      "text/plain": [
       "                   p_SES_high   H_Share  Exposure  Friend_Bias  N_exposure  \\\n",
       "epsilon  rho                                                                 \n",
       "0.585438 0.950575         0.0  0.009206  0.036823     0.000011         0.0   \n",
       "         0.979175         0.0  0.017794  0.071175     0.000023         0.0   \n",
       "         1.018463         0.0  0.016220  0.064143     0.000014         0.0   \n",
       "         1.027146         0.0  0.012896  0.053308     0.000016         0.0   \n",
       "         1.041340         0.0  0.014763  0.054338     0.000026         0.0   \n",
       "...                       ...       ...       ...          ...         ...   \n",
       "1.445301 1.098516         0.0  0.013270  0.056260     0.000046         0.0   \n",
       "         1.101921         0.0  0.013851  0.062114     0.000038         0.0   \n",
       "         1.139185         0.0  0.021214  0.079809     0.000050         0.0   \n",
       "         1.143984         0.0  0.013919  0.060916     0.000048         0.0   \n",
       "         1.156695         0.0  0.021858  0.090642     0.000064         0.0   \n",
       "\n",
       "                     Degree  Network_SES_assortativity  Network_H_Share_H  \\\n",
       "epsilon  rho                                                                \n",
       "0.585438 0.950575  0.336327                        0.0                0.0   \n",
       "         0.979175  0.630204                        0.0                0.0   \n",
       "         1.018463  0.455510                        0.0                0.0   \n",
       "         1.027146  0.622449                        0.0                0.0   \n",
       "         1.041340  0.654694                        0.0                0.0   \n",
       "...                     ...                        ...                ...   \n",
       "1.445301 1.098516  0.762857                        0.0                0.0   \n",
       "         1.101921  0.803673                        0.0                0.0   \n",
       "         1.139185  0.640408                        0.0                0.0   \n",
       "         1.143984  1.112245                        0.0                0.0   \n",
       "         1.156695  0.877143                        0.0                0.0   \n",
       "\n",
       "                   Network_H_Share_L  Network_Degree  Network_Clustering  \\\n",
       "epsilon  rho                                                               \n",
       "0.585438 0.950575                0.0             0.0                 0.0   \n",
       "         0.979175                0.0             0.0                 0.0   \n",
       "         1.018463                0.0             0.0                 0.0   \n",
       "         1.027146                0.0             0.0                 0.0   \n",
       "         1.041340                0.0             0.0                 0.0   \n",
       "...                              ...             ...                 ...   \n",
       "1.445301 1.098516                0.0             0.0                 0.0   \n",
       "         1.101921                0.0             0.0                 0.0   \n",
       "         1.139185                0.0             0.0                 0.0   \n",
       "         1.143984                0.0             0.0                 0.0   \n",
       "         1.156695                0.0             0.0                 0.0   \n",
       "\n",
       "                   Predicted_H_Share  Predicted_Exposure  \\\n",
       "epsilon  rho                                               \n",
       "0.585438 0.950575                0.0                 0.0   \n",
       "         0.979175                0.0                 0.0   \n",
       "         1.018463                0.0                 0.0   \n",
       "         1.027146                0.0                 0.0   \n",
       "         1.041340                0.0                 0.0   \n",
       "...                              ...                 ...   \n",
       "1.445301 1.098516                0.0                 0.0   \n",
       "         1.101921                0.0                 0.0   \n",
       "         1.139185                0.0                 0.0   \n",
       "         1.143984                0.0                 0.0   \n",
       "         1.156695                0.0                 0.0   \n",
       "\n",
       "                   Predicted_Friend_Bias  \n",
       "epsilon  rho                              \n",
       "0.585438 0.950575                    0.0  \n",
       "         0.979175                    0.0  \n",
       "         1.018463                    0.0  \n",
       "         1.027146                    0.0  \n",
       "         1.041340                    0.0  \n",
       "...                                  ...  \n",
       "1.445301 1.098516                    0.0  \n",
       "         1.101921                    0.0  \n",
       "         1.139185                    0.0  \n",
       "         1.143984                    0.0  \n",
       "         1.156695                    0.0  \n",
       "\n",
       "[100 rows x 14 columns]"
      ]
     },
     "execution_count": 3,
     "metadata": {},
     "output_type": "execute_result"
    }
   ],
   "source": [
    "\n",
    "df_rho_eps.groupby(['epsilon', 'rho']).var()\n",
    "#df_test = df_results[['Predicted_H_Share', 'H_Share', 'Predicted_Exposure', 'Exposure', 'Predicted_Friend_Bias', 'Friend_Bias', 'Degree', 'N_exposure']].describe()\n",
    "\n"
   ]
  },
  {
   "cell_type": "code",
   "execution_count": 4,
   "metadata": {},
   "outputs": [
    {
     "name": "stdout",
     "output_type": "stream",
     "text": [
      "Intercept    0.777015\n",
      "epsilon     -0.220436\n",
      "rho         -0.059284\n",
      "dtype: float64\n",
      "                            OLS Regression Results                            \n",
      "==============================================================================\n",
      "Dep. Variable:                H_Share   R-squared:                       0.172\n",
      "Model:                            OLS   Adj. R-squared:                  0.171\n",
      "Method:                 Least Squares   F-statistic:                     517.2\n",
      "Date:                Mon, 01 May 2023   Prob (F-statistic):          7.02e-205\n",
      "Time:                        11:45:45   Log-Likelihood:                 2855.5\n",
      "No. Observations:                5000   AIC:                            -5705.\n",
      "Df Residuals:                    4997   BIC:                            -5685.\n",
      "Df Model:                           2                                         \n",
      "Covariance Type:            nonrobust                                         \n",
      "==============================================================================\n",
      "                 coef    std err          t      P>|t|      [0.025      0.975]\n",
      "------------------------------------------------------------------------------\n",
      "Intercept      0.7770      0.031     25.141      0.000       0.716       0.838\n",
      "epsilon       -0.2204      0.007    -32.093      0.000      -0.234      -0.207\n",
      "rho           -0.0593      0.028     -2.107      0.035      -0.114      -0.004\n",
      "==============================================================================\n",
      "Omnibus:                        4.316   Durbin-Watson:                   1.778\n",
      "Prob(Omnibus):                  0.116   Jarque-Bera (JB):                4.316\n",
      "Skew:                           0.060   Prob(JB):                        0.116\n",
      "Kurtosis:                       2.920   Cond. No.                         38.9\n",
      "==============================================================================\n",
      "\n",
      "Notes:\n",
      "[1] Standard Errors assume that the covariance matrix of the errors is correctly specified.\n"
     ]
    }
   ],
   "source": [
    "\n",
    "result = sm.ols(formula=\"H_Share ~ epsilon + rho\", data=df_rho_eps).fit()\n",
    "print(result.params)\n",
    "print(result.summary())\n"
   ]
  },
  {
   "attachments": {},
   "cell_type": "markdown",
   "metadata": {},
   "source": [
    "### Predicted versus realised"
   ]
  },
  {
   "cell_type": "code",
   "execution_count": 5,
   "metadata": {},
   "outputs": [
    {
     "name": "stdout",
     "output_type": "stream",
     "text": [
      "Intercept            0.108410\n",
      "Predicted_H_Share    0.797058\n",
      "dtype: float64\n",
      "                            OLS Regression Results                            \n",
      "==============================================================================\n",
      "Dep. Variable:                H_Share   R-squared:                       0.154\n",
      "Model:                            OLS   Adj. R-squared:                  0.154\n",
      "Method:                 Least Squares   F-statistic:                     912.2\n",
      "Date:                Mon, 01 May 2023   Prob (F-statistic):          3.23e-184\n",
      "Time:                        11:45:57   Log-Likelihood:                 2804.2\n",
      "No. Observations:                5000   AIC:                            -5604.\n",
      "Df Residuals:                    4998   BIC:                            -5591.\n",
      "Df Model:                           1                                         \n",
      "Covariance Type:            nonrobust                                         \n",
      "=====================================================================================\n",
      "                        coef    std err          t      P>|t|      [0.025      0.975]\n",
      "-------------------------------------------------------------------------------------\n",
      "Intercept             0.1084      0.012      8.684      0.000       0.084       0.133\n",
      "Predicted_H_Share     0.7971      0.026     30.203      0.000       0.745       0.849\n",
      "==============================================================================\n",
      "Omnibus:                       10.068   Durbin-Watson:                   1.744\n",
      "Prob(Omnibus):                  0.007   Jarque-Bera (JB):               10.022\n",
      "Skew:                           0.099   Prob(JB):                      0.00666\n",
      "Kurtosis:                       2.904   Cond. No.                         16.5\n",
      "==============================================================================\n",
      "\n",
      "Notes:\n",
      "[1] Standard Errors assume that the covariance matrix of the errors is correctly specified.\n"
     ]
    }
   ],
   "source": [
    "\n",
    "result = sm.ols(formula=\"H_Share ~ Predicted_H_Share\", data=df_rho_eps).fit()\n",
    "print(result.params)\n",
    "print(result.summary())\n",
    "\n",
    "#px.scatter(df_rho_eps, x='Predicted_Friend_Bias', y='Friend_Bias', height=400, width=400)\n"
   ]
  },
  {
   "cell_type": "code",
   "execution_count": 5,
   "metadata": {},
   "outputs": [
    {
     "name": "stdout",
     "output_type": "stream",
     "text": [
      "Intercept             0.249063\n",
      "Predicted_Exposure    0.749443\n",
      "dtype: float64\n",
      "                            OLS Regression Results                            \n",
      "==============================================================================\n",
      "Dep. Variable:               Exposure   R-squared:                       0.094\n",
      "Model:                            OLS   Adj. R-squared:                  0.094\n",
      "Method:                 Least Squares   F-statistic:                     1302.\n",
      "Date:                Sat, 29 Apr 2023   Prob (F-statistic):          2.41e-271\n",
      "Time:                        20:17:36   Log-Likelihood:                -1407.3\n",
      "No. Observations:               12500   AIC:                             2819.\n",
      "Df Residuals:                   12498   BIC:                             2834.\n",
      "Df Model:                           1                                         \n",
      "Covariance Type:            nonrobust                                         \n",
      "======================================================================================\n",
      "                         coef    std err          t      P>|t|      [0.025      0.975]\n",
      "--------------------------------------------------------------------------------------\n",
      "Intercept              0.2491      0.019     13.052      0.000       0.212       0.286\n",
      "Predicted_Exposure     0.7494      0.021     36.086      0.000       0.709       0.790\n",
      "==============================================================================\n",
      "Omnibus:                        9.189   Durbin-Watson:                   1.762\n",
      "Prob(Omnibus):                  0.010   Jarque-Bera (JB):                8.770\n",
      "Skew:                           0.041   Prob(JB):                       0.0125\n",
      "Kurtosis:                       2.900   Cond. No.                         15.7\n",
      "==============================================================================\n",
      "\n",
      "Notes:\n",
      "[1] Standard Errors assume that the covariance matrix of the errors is correctly specified.\n"
     ]
    }
   ],
   "source": [
    "\n",
    "result = sm.ols(formula=\"Exposure ~ Predicted_Exposure\", data=df_rho_eps).fit()\n",
    "print(result.params)\n",
    "print(result.summary())\n",
    "\n",
    "#px.scatter(df_rho_eps, x='Predicted_Friend_Bias', y='Friend_Bias', height=400, width=400)\n"
   ]
  },
  {
   "cell_type": "code",
   "execution_count": 6,
   "metadata": {},
   "outputs": [
    {
     "name": "stdout",
     "output_type": "stream",
     "text": [
      "Intercept                0.925382\n",
      "Predicted_Friend_Bias    0.089281\n",
      "dtype: float64\n",
      "                            OLS Regression Results                            \n",
      "==============================================================================\n",
      "Dep. Variable:            Friend_Bias   R-squared:                       0.026\n",
      "Model:                            OLS   Adj. R-squared:                  0.026\n",
      "Method:                 Least Squares   F-statistic:                     339.3\n",
      "Date:                Sat, 29 Apr 2023   Prob (F-statistic):           8.68e-75\n",
      "Time:                        20:17:40   Log-Likelihood:                 31285.\n",
      "No. Observations:               12500   AIC:                        -6.257e+04\n",
      "Df Residuals:                   12498   BIC:                        -6.255e+04\n",
      "Df Model:                           1                                         \n",
      "Covariance Type:            nonrobust                                         \n",
      "=========================================================================================\n",
      "                            coef    std err          t      P>|t|      [0.025      0.975]\n",
      "-----------------------------------------------------------------------------------------\n",
      "Intercept                 0.9254      0.000   3199.057      0.000       0.925       0.926\n",
      "Predicted_Friend_Bias     0.0893      0.005     18.421      0.000       0.080       0.099\n",
      "==============================================================================\n",
      "Omnibus:                    36596.017   Durbin-Watson:                   1.976\n",
      "Prob(Omnibus):                  0.000   Jarque-Bera (JB):       1938568057.653\n",
      "Skew:                         -41.125   Prob(JB):                         0.00\n",
      "Kurtosis:                    1930.508   Cond. No.                         27.4\n",
      "==============================================================================\n",
      "\n",
      "Notes:\n",
      "[1] Standard Errors assume that the covariance matrix of the errors is correctly specified.\n"
     ]
    }
   ],
   "source": [
    "\n",
    "result = sm.ols(formula=\"Friend_Bias ~ Predicted_Friend_Bias\", data=df_rho_eps).fit()\n",
    "print(result.params)\n",
    "print(result.summary())\n",
    "\n",
    "#px.scatter(df_rho_eps, x='Predicted_Friend_Bias', y='Friend_Bias', height=400, width=400)\n"
   ]
  },
  {
   "attachments": {},
   "cell_type": "markdown",
   "metadata": {},
   "source": [
    "### Sample rho and epsilon from the distribution, run MTO 100 times per simulation, and vary w_H: this shouild hopefully show how important it is to consider friendingf bias "
   ]
  }
 ],
 "metadata": {
  "kernelspec": {
   "display_name": "Python 3",
   "language": "python",
   "name": "python3"
  },
  "language_info": {
   "codemirror_mode": {
    "name": "ipython",
    "version": 3
   },
   "file_extension": ".py",
   "mimetype": "text/x-python",
   "name": "python",
   "nbconvert_exporter": "python",
   "pygments_lexer": "ipython3",
   "version": "3.10.6"
  },
  "orig_nbformat": 4,
  "vscode": {
   "interpreter": {
    "hash": "289e6dbf0cbe13abb58a8c6441fb07dbab3e022f897dda6d31a08b19d28acfde"
   }
  }
 },
 "nbformat": 4,
 "nbformat_minor": 2
}
