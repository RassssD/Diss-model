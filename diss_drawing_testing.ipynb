{
 "cells": [
  {
   "cell_type": "code",
   "execution_count": 1,
   "metadata": {},
   "outputs": [],
   "source": [
    "import networkx as nx\n",
    "import numpy as np\n",
    "import random, math\n",
    "import graphviz\n",
    "import functools, collections, operator\n",
    "\n",
    "import time\n",
    "\n",
    "import kaleido\n",
    "\n",
    "import pandas as pd\n",
    "\n",
    "import scipy as sp\n",
    "from scipy import stats\n",
    "\n",
    "\n",
    "import matplotlib.pyplot as plt\n",
    "import matplotlib.colors as mcolors\n",
    "import matplotlib.cm as cm\n",
    "\n",
    "import plotly.graph_objects as go\n",
    "from pyvis.network import Network\n",
    "from networkx.drawing.nx_agraph import graphviz_layout\n",
    "import plotly.express as px\n",
    "\n",
    "\n",
    "# import models\n",
    "from classes.jackson_model import JacksonSimulationV2\n",
    "from classes.network_drawing import plotly_sim_drawing"
   ]
  },
  {
   "cell_type": "code",
   "execution_count": 17,
   "metadata": {},
   "outputs": [
    {
     "data": {
      "application/vnd.plotly.v1+json": {
       "config": {
        "plotlyServerURL": "https://plot.ly"
       },
       "data": [
        {
         "hovertemplate": "variable=wide_variable_0<br>x=%{x}<br>value=%{y}<extra></extra>",
         "legendgroup": "wide_variable_0",
         "line": {
          "color": "rgb(250, 20, 20)",
          "dash": "solid"
         },
         "marker": {
          "symbol": "circle"
         },
         "mode": "lines",
         "name": "wide_variable_0",
         "orientation": "v",
         "showlegend": true,
         "type": "scatter",
         "x": [
          0,
          0.1,
          0.2,
          0.30000000000000004,
          0.4,
          0.5,
          0.6000000000000001,
          0.7000000000000001,
          0.8,
          0.9,
          1,
          1.1,
          1.2000000000000002,
          1.3,
          1.4000000000000001,
          1.5,
          1.6,
          1.7000000000000002,
          1.8,
          1.9000000000000001,
          2,
          2.1,
          2.2,
          2.3000000000000003,
          2.4000000000000004,
          2.5,
          2.6,
          2.7,
          2.8000000000000003,
          2.9000000000000004,
          3,
          3.1,
          3.2,
          3.3000000000000003,
          3.4000000000000004,
          3.5,
          3.6,
          3.7,
          3.8000000000000003,
          3.9000000000000004,
          4,
          4.1000000000000005,
          4.2,
          4.3,
          4.4,
          4.5,
          4.6000000000000005,
          4.7,
          4.800000000000001,
          4.9,
          5,
          5.1000000000000005,
          5.2,
          5.300000000000001,
          5.4,
          5.5,
          5.6000000000000005,
          5.7,
          5.800000000000001,
          5.9,
          6,
          6.1000000000000005,
          6.2,
          6.300000000000001,
          6.4,
          6.5,
          6.6000000000000005,
          6.7,
          6.800000000000001,
          6.9,
          7,
          7.1000000000000005,
          7.2,
          7.300000000000001,
          7.4,
          7.5,
          7.6000000000000005,
          7.7,
          7.800000000000001,
          7.9,
          8,
          8.1,
          8.200000000000001,
          8.3,
          8.4,
          8.5,
          8.6,
          8.700000000000001,
          8.8,
          8.9,
          9,
          9.1,
          9.200000000000001,
          9.3,
          9.4,
          9.5,
          9.600000000000001,
          9.700000000000001,
          9.8,
          9.9
         ],
         "xaxis": "x",
         "y": [
          6.695621326605609,
          1.9752095427782432,
          7.524299212758907,
          2.6891622212310464,
          7.499884286962672,
          3.11274804794693,
          3.492325590600707,
          0.3276011202881497,
          2.2390634427983214,
          4.6868966526442675,
          2.630939392306961,
          7.924302794666045,
          5.549553044381986,
          7.217930642763515,
          2.9399867712809185,
          1.131816689125496,
          7.8381509097787925,
          1.9725557670858551,
          4.8404636015024165,
          4.649547692204645,
          2.515012890897828,
          4.165755450808289,
          0.5732785942003185,
          2.0696171262491525,
          6.77131123637098,
          3.0977569907309803,
          6.980995579586299,
          7.959469598742888,
          3.7613694326369833,
          2.674804071418019,
          2.5029292356643076,
          2.13846642447485,
          4.579592613721974,
          1.686911559016326,
          0.6870557602307814,
          3.9256631563981177,
          3.9085219872380597,
          3.4174775166730136,
          4.862245628669609,
          2.388577617116047,
          5.418898882972589,
          2.4659674618197895,
          6.7678492309324225,
          1.5412739954330377,
          4.488337932699974,
          4.578921694068718,
          6.32576296916347,
          1.940740801993809,
          3.5227423029662592,
          1.4545516391433964,
          5.652417586164358,
          4.278878456207641,
          2.691853900229507,
          2.244210542984761,
          6.165337670553425,
          3.387959819893804,
          1.8273324284121157,
          3.1966277031337027,
          4.81315467727813,
          5.217017748583851,
          0.5607667540436863,
          5.850161208049589,
          2.6287385740801845,
          2.346796724602518,
          2.076352383462873,
          4.445532662634799,
          2.9780199312960054,
          4.836700756488439,
          1.251876969415374,
          2.633110035588416,
          6.306609692419331,
          6.032685698398065,
          1.6877046237746436,
          5.715584480132151,
          0.589104895457635,
          2.031244387716769,
          2.748760523508043,
          1.5113603202714323,
          7.5009158607345245,
          1.723449114846619,
          7.772366515236985,
          1.457563339462606,
          6.27346101823872,
          7.157178551206822,
          5.879964181139814,
          2.9368525760216766,
          7.906128082186985,
          7.162556757272632,
          6.474345215362775,
          2.0680262114700385,
          1.284987235129715,
          2.8439229121327045,
          7.725858055525533,
          6.429780870418297,
          4.1471335947892145,
          1.1043449504960652,
          7.119917923556124,
          5.106167554534061,
          0.9945751350874037,
          4.305747664115911
         ],
         "yaxis": "y"
        },
        {
         "hovertemplate": "variable=wide_variable_1<br>x=%{x}<br>value=%{y}<extra></extra>",
         "legendgroup": "wide_variable_1",
         "line": {
          "color": "rgb(20, 20, 250)",
          "dash": "solid"
         },
         "marker": {
          "symbol": "circle"
         },
         "mode": "lines",
         "name": "wide_variable_1",
         "orientation": "v",
         "showlegend": true,
         "type": "scatter",
         "x": [
          0,
          0.1,
          0.2,
          0.30000000000000004,
          0.4,
          0.5,
          0.6000000000000001,
          0.7000000000000001,
          0.8,
          0.9,
          1,
          1.1,
          1.2000000000000002,
          1.3,
          1.4000000000000001,
          1.5,
          1.6,
          1.7000000000000002,
          1.8,
          1.9000000000000001,
          2,
          2.1,
          2.2,
          2.3000000000000003,
          2.4000000000000004,
          2.5,
          2.6,
          2.7,
          2.8000000000000003,
          2.9000000000000004,
          3,
          3.1,
          3.2,
          3.3000000000000003,
          3.4000000000000004,
          3.5,
          3.6,
          3.7,
          3.8000000000000003,
          3.9000000000000004,
          4,
          4.1000000000000005,
          4.2,
          4.3,
          4.4,
          4.5,
          4.6000000000000005,
          4.7,
          4.800000000000001,
          4.9,
          5,
          5.1000000000000005,
          5.2,
          5.300000000000001,
          5.4,
          5.5,
          5.6000000000000005,
          5.7,
          5.800000000000001,
          5.9,
          6,
          6.1000000000000005,
          6.2,
          6.300000000000001,
          6.4,
          6.5,
          6.6000000000000005,
          6.7,
          6.800000000000001,
          6.9,
          7,
          7.1000000000000005,
          7.2,
          7.300000000000001,
          7.4,
          7.5,
          7.6000000000000005,
          7.7,
          7.800000000000001,
          7.9,
          8,
          8.1,
          8.200000000000001,
          8.3,
          8.4,
          8.5,
          8.6,
          8.700000000000001,
          8.8,
          8.9,
          9,
          9.1,
          9.200000000000001,
          9.3,
          9.4,
          9.5,
          9.600000000000001,
          9.700000000000001,
          9.8,
          9.9
         ],
         "xaxis": "x",
         "y": [
          2.8141056041725467,
          3.4069442573028845,
          2.200641810049429,
          1.3315406224976,
          2.787757747689441,
          3.4769179975296947,
          1.7301327539141163,
          3.1854034629649397,
          3.7970333178308007,
          0.9684330075819054,
          1.6184556523421625,
          0.049782550836293904,
          0.09506403506341998,
          2.238016728891778,
          1.5870015261753747,
          2.7665406647040576,
          3.1358485190178413,
          0.5063541189073355,
          2.105152853946571,
          2.7505381309902965,
          0.9697395378194766,
          1.8972411098165467,
          0.7023063933022584,
          3.1614775083462483,
          2.5219058846767197,
          0.22259475533703332,
          3.557906747796051,
          0.6075062131553621,
          3.1264148056028773,
          0.38331769486111966,
          3.833296703193427,
          0.55587293619738,
          3.150409826224092,
          0.25466937770761167,
          0.028387836869196104,
          1.767214926252365,
          3.9581141419274712,
          1.3520377386143636,
          0.11196186671292097,
          0.9477155972872424,
          1.5211949976907646,
          0.7370250073730644,
          2.8552740629012114,
          3.0323557409867496,
          0.8062576968611164,
          3.382200253334847,
          3.5819222799747434,
          3.3644131827121058,
          2.9539555500317753,
          2.02024510046188,
          2.0538369558364944,
          2.4242697905620476,
          3.3489419025569167,
          2.2369956911600606,
          1.9961691930026024,
          3.4149833971577985,
          3.3245157202903535,
          1.067305912712198,
          3.6244727463105577,
          3.8943802227349367,
          1.8997486561405212,
          0.5528937484223406,
          2.855241399610047,
          0.6946158558856821,
          3.4682820663827005,
          1.8455357778887724,
          3.0496266546535677,
          0.6874454623966741,
          0.9178469351669505,
          3.645052967826294,
          0.27010043177522824,
          3.5817204225075163,
          0.6341887272664897,
          1.642482061113511,
          2.0128260892042698,
          3.3510095915745954,
          1.3702723620968467,
          2.9635185096297554,
          0.6197937004235907,
          0.6766373804990935,
          1.384796457017524,
          3.9567304102187966,
          3.013314502522198,
          2.9163742343436754,
          2.807235073815976,
          2.727382935294328,
          1.1851956386008782,
          1.932237699481881,
          3.5257596576456574,
          1.6949339406372812,
          2.486580916921737,
          3.267097149202549,
          0.21326184967066242,
          2.827418304781937,
          0.9560435497201905,
          1.2069342183076093,
          0.4672722152077573,
          0.419986746002476,
          2.515158960893611,
          3.9848905497790312
         ],
         "yaxis": "y"
        }
       ],
       "layout": {
        "annotations": [
         {
          "showarrow": false,
          "text": "test",
          "x": 1,
          "xanchor": "right",
          "xref": "x domain",
          "y": 5,
          "yanchor": "bottom",
          "yref": "y"
         },
         {
          "showarrow": false,
          "text": "heya",
          "x": 8,
          "xanchor": "left",
          "xref": "x",
          "y": 1,
          "yanchor": "top",
          "yref": "y domain"
         }
        ],
        "font": {
         "size": 18
        },
        "height": 500,
        "legend": {
         "title": {
          "text": ""
         },
         "tracegroupgap": 0,
         "x": 0.75,
         "y": 1
        },
        "margin": {
         "b": 5,
         "l": 5,
         "r": 5,
         "t": 5
        },
        "plot_bgcolor": "rgba(0,0,0,0)",
        "shapes": [
         {
          "line": {
           "width": 1
          },
          "type": "line",
          "x0": 0,
          "x1": 1,
          "xref": "x domain",
          "y0": 5,
          "y1": 5,
          "yref": "y"
         },
         {
          "line": {
           "width": 1
          },
          "type": "line",
          "x0": 8,
          "x1": 8,
          "xref": "x",
          "y0": 0,
          "y1": 1,
          "yref": "y domain"
         }
        ],
        "showlegend": false,
        "template": {
         "data": {
          "bar": [
           {
            "error_x": {
             "color": "#2a3f5f"
            },
            "error_y": {
             "color": "#2a3f5f"
            },
            "marker": {
             "line": {
              "color": "#E5ECF6",
              "width": 0.5
             },
             "pattern": {
              "fillmode": "overlay",
              "size": 10,
              "solidity": 0.2
             }
            },
            "type": "bar"
           }
          ],
          "barpolar": [
           {
            "marker": {
             "line": {
              "color": "#E5ECF6",
              "width": 0.5
             },
             "pattern": {
              "fillmode": "overlay",
              "size": 10,
              "solidity": 0.2
             }
            },
            "type": "barpolar"
           }
          ],
          "carpet": [
           {
            "aaxis": {
             "endlinecolor": "#2a3f5f",
             "gridcolor": "white",
             "linecolor": "white",
             "minorgridcolor": "white",
             "startlinecolor": "#2a3f5f"
            },
            "baxis": {
             "endlinecolor": "#2a3f5f",
             "gridcolor": "white",
             "linecolor": "white",
             "minorgridcolor": "white",
             "startlinecolor": "#2a3f5f"
            },
            "type": "carpet"
           }
          ],
          "choropleth": [
           {
            "colorbar": {
             "outlinewidth": 0,
             "ticks": ""
            },
            "type": "choropleth"
           }
          ],
          "contour": [
           {
            "colorbar": {
             "outlinewidth": 0,
             "ticks": ""
            },
            "colorscale": [
             [
              0,
              "#0d0887"
             ],
             [
              0.1111111111111111,
              "#46039f"
             ],
             [
              0.2222222222222222,
              "#7201a8"
             ],
             [
              0.3333333333333333,
              "#9c179e"
             ],
             [
              0.4444444444444444,
              "#bd3786"
             ],
             [
              0.5555555555555556,
              "#d8576b"
             ],
             [
              0.6666666666666666,
              "#ed7953"
             ],
             [
              0.7777777777777778,
              "#fb9f3a"
             ],
             [
              0.8888888888888888,
              "#fdca26"
             ],
             [
              1,
              "#f0f921"
             ]
            ],
            "type": "contour"
           }
          ],
          "contourcarpet": [
           {
            "colorbar": {
             "outlinewidth": 0,
             "ticks": ""
            },
            "type": "contourcarpet"
           }
          ],
          "heatmap": [
           {
            "colorbar": {
             "outlinewidth": 0,
             "ticks": ""
            },
            "colorscale": [
             [
              0,
              "#0d0887"
             ],
             [
              0.1111111111111111,
              "#46039f"
             ],
             [
              0.2222222222222222,
              "#7201a8"
             ],
             [
              0.3333333333333333,
              "#9c179e"
             ],
             [
              0.4444444444444444,
              "#bd3786"
             ],
             [
              0.5555555555555556,
              "#d8576b"
             ],
             [
              0.6666666666666666,
              "#ed7953"
             ],
             [
              0.7777777777777778,
              "#fb9f3a"
             ],
             [
              0.8888888888888888,
              "#fdca26"
             ],
             [
              1,
              "#f0f921"
             ]
            ],
            "type": "heatmap"
           }
          ],
          "heatmapgl": [
           {
            "colorbar": {
             "outlinewidth": 0,
             "ticks": ""
            },
            "colorscale": [
             [
              0,
              "#0d0887"
             ],
             [
              0.1111111111111111,
              "#46039f"
             ],
             [
              0.2222222222222222,
              "#7201a8"
             ],
             [
              0.3333333333333333,
              "#9c179e"
             ],
             [
              0.4444444444444444,
              "#bd3786"
             ],
             [
              0.5555555555555556,
              "#d8576b"
             ],
             [
              0.6666666666666666,
              "#ed7953"
             ],
             [
              0.7777777777777778,
              "#fb9f3a"
             ],
             [
              0.8888888888888888,
              "#fdca26"
             ],
             [
              1,
              "#f0f921"
             ]
            ],
            "type": "heatmapgl"
           }
          ],
          "histogram": [
           {
            "marker": {
             "pattern": {
              "fillmode": "overlay",
              "size": 10,
              "solidity": 0.2
             }
            },
            "type": "histogram"
           }
          ],
          "histogram2d": [
           {
            "colorbar": {
             "outlinewidth": 0,
             "ticks": ""
            },
            "colorscale": [
             [
              0,
              "#0d0887"
             ],
             [
              0.1111111111111111,
              "#46039f"
             ],
             [
              0.2222222222222222,
              "#7201a8"
             ],
             [
              0.3333333333333333,
              "#9c179e"
             ],
             [
              0.4444444444444444,
              "#bd3786"
             ],
             [
              0.5555555555555556,
              "#d8576b"
             ],
             [
              0.6666666666666666,
              "#ed7953"
             ],
             [
              0.7777777777777778,
              "#fb9f3a"
             ],
             [
              0.8888888888888888,
              "#fdca26"
             ],
             [
              1,
              "#f0f921"
             ]
            ],
            "type": "histogram2d"
           }
          ],
          "histogram2dcontour": [
           {
            "colorbar": {
             "outlinewidth": 0,
             "ticks": ""
            },
            "colorscale": [
             [
              0,
              "#0d0887"
             ],
             [
              0.1111111111111111,
              "#46039f"
             ],
             [
              0.2222222222222222,
              "#7201a8"
             ],
             [
              0.3333333333333333,
              "#9c179e"
             ],
             [
              0.4444444444444444,
              "#bd3786"
             ],
             [
              0.5555555555555556,
              "#d8576b"
             ],
             [
              0.6666666666666666,
              "#ed7953"
             ],
             [
              0.7777777777777778,
              "#fb9f3a"
             ],
             [
              0.8888888888888888,
              "#fdca26"
             ],
             [
              1,
              "#f0f921"
             ]
            ],
            "type": "histogram2dcontour"
           }
          ],
          "mesh3d": [
           {
            "colorbar": {
             "outlinewidth": 0,
             "ticks": ""
            },
            "type": "mesh3d"
           }
          ],
          "parcoords": [
           {
            "line": {
             "colorbar": {
              "outlinewidth": 0,
              "ticks": ""
             }
            },
            "type": "parcoords"
           }
          ],
          "pie": [
           {
            "automargin": true,
            "type": "pie"
           }
          ],
          "scatter": [
           {
            "fillpattern": {
             "fillmode": "overlay",
             "size": 10,
             "solidity": 0.2
            },
            "type": "scatter"
           }
          ],
          "scatter3d": [
           {
            "line": {
             "colorbar": {
              "outlinewidth": 0,
              "ticks": ""
             }
            },
            "marker": {
             "colorbar": {
              "outlinewidth": 0,
              "ticks": ""
             }
            },
            "type": "scatter3d"
           }
          ],
          "scattercarpet": [
           {
            "marker": {
             "colorbar": {
              "outlinewidth": 0,
              "ticks": ""
             }
            },
            "type": "scattercarpet"
           }
          ],
          "scattergeo": [
           {
            "marker": {
             "colorbar": {
              "outlinewidth": 0,
              "ticks": ""
             }
            },
            "type": "scattergeo"
           }
          ],
          "scattergl": [
           {
            "marker": {
             "colorbar": {
              "outlinewidth": 0,
              "ticks": ""
             }
            },
            "type": "scattergl"
           }
          ],
          "scattermapbox": [
           {
            "marker": {
             "colorbar": {
              "outlinewidth": 0,
              "ticks": ""
             }
            },
            "type": "scattermapbox"
           }
          ],
          "scatterpolar": [
           {
            "marker": {
             "colorbar": {
              "outlinewidth": 0,
              "ticks": ""
             }
            },
            "type": "scatterpolar"
           }
          ],
          "scatterpolargl": [
           {
            "marker": {
             "colorbar": {
              "outlinewidth": 0,
              "ticks": ""
             }
            },
            "type": "scatterpolargl"
           }
          ],
          "scatterternary": [
           {
            "marker": {
             "colorbar": {
              "outlinewidth": 0,
              "ticks": ""
             }
            },
            "type": "scatterternary"
           }
          ],
          "surface": [
           {
            "colorbar": {
             "outlinewidth": 0,
             "ticks": ""
            },
            "colorscale": [
             [
              0,
              "#0d0887"
             ],
             [
              0.1111111111111111,
              "#46039f"
             ],
             [
              0.2222222222222222,
              "#7201a8"
             ],
             [
              0.3333333333333333,
              "#9c179e"
             ],
             [
              0.4444444444444444,
              "#bd3786"
             ],
             [
              0.5555555555555556,
              "#d8576b"
             ],
             [
              0.6666666666666666,
              "#ed7953"
             ],
             [
              0.7777777777777778,
              "#fb9f3a"
             ],
             [
              0.8888888888888888,
              "#fdca26"
             ],
             [
              1,
              "#f0f921"
             ]
            ],
            "type": "surface"
           }
          ],
          "table": [
           {
            "cells": {
             "fill": {
              "color": "#EBF0F8"
             },
             "line": {
              "color": "white"
             }
            },
            "header": {
             "fill": {
              "color": "#C8D4E3"
             },
             "line": {
              "color": "white"
             }
            },
            "type": "table"
           }
          ]
         },
         "layout": {
          "annotationdefaults": {
           "arrowcolor": "#2a3f5f",
           "arrowhead": 0,
           "arrowwidth": 1
          },
          "autotypenumbers": "strict",
          "coloraxis": {
           "colorbar": {
            "outlinewidth": 0,
            "ticks": ""
           }
          },
          "colorscale": {
           "diverging": [
            [
             0,
             "#8e0152"
            ],
            [
             0.1,
             "#c51b7d"
            ],
            [
             0.2,
             "#de77ae"
            ],
            [
             0.3,
             "#f1b6da"
            ],
            [
             0.4,
             "#fde0ef"
            ],
            [
             0.5,
             "#f7f7f7"
            ],
            [
             0.6,
             "#e6f5d0"
            ],
            [
             0.7,
             "#b8e186"
            ],
            [
             0.8,
             "#7fbc41"
            ],
            [
             0.9,
             "#4d9221"
            ],
            [
             1,
             "#276419"
            ]
           ],
           "sequential": [
            [
             0,
             "#0d0887"
            ],
            [
             0.1111111111111111,
             "#46039f"
            ],
            [
             0.2222222222222222,
             "#7201a8"
            ],
            [
             0.3333333333333333,
             "#9c179e"
            ],
            [
             0.4444444444444444,
             "#bd3786"
            ],
            [
             0.5555555555555556,
             "#d8576b"
            ],
            [
             0.6666666666666666,
             "#ed7953"
            ],
            [
             0.7777777777777778,
             "#fb9f3a"
            ],
            [
             0.8888888888888888,
             "#fdca26"
            ],
            [
             1,
             "#f0f921"
            ]
           ],
           "sequentialminus": [
            [
             0,
             "#0d0887"
            ],
            [
             0.1111111111111111,
             "#46039f"
            ],
            [
             0.2222222222222222,
             "#7201a8"
            ],
            [
             0.3333333333333333,
             "#9c179e"
            ],
            [
             0.4444444444444444,
             "#bd3786"
            ],
            [
             0.5555555555555556,
             "#d8576b"
            ],
            [
             0.6666666666666666,
             "#ed7953"
            ],
            [
             0.7777777777777778,
             "#fb9f3a"
            ],
            [
             0.8888888888888888,
             "#fdca26"
            ],
            [
             1,
             "#f0f921"
            ]
           ]
          },
          "colorway": [
           "#636efa",
           "#EF553B",
           "#00cc96",
           "#ab63fa",
           "#FFA15A",
           "#19d3f3",
           "#FF6692",
           "#B6E880",
           "#FF97FF",
           "#FECB52"
          ],
          "font": {
           "color": "#2a3f5f"
          },
          "geo": {
           "bgcolor": "white",
           "lakecolor": "white",
           "landcolor": "#E5ECF6",
           "showlakes": true,
           "showland": true,
           "subunitcolor": "white"
          },
          "hoverlabel": {
           "align": "left"
          },
          "hovermode": "closest",
          "mapbox": {
           "style": "light"
          },
          "paper_bgcolor": "white",
          "plot_bgcolor": "#E5ECF6",
          "polar": {
           "angularaxis": {
            "gridcolor": "white",
            "linecolor": "white",
            "ticks": ""
           },
           "bgcolor": "#E5ECF6",
           "radialaxis": {
            "gridcolor": "white",
            "linecolor": "white",
            "ticks": ""
           }
          },
          "scene": {
           "xaxis": {
            "backgroundcolor": "#E5ECF6",
            "gridcolor": "white",
            "gridwidth": 2,
            "linecolor": "white",
            "showbackground": true,
            "ticks": "",
            "zerolinecolor": "white"
           },
           "yaxis": {
            "backgroundcolor": "#E5ECF6",
            "gridcolor": "white",
            "gridwidth": 2,
            "linecolor": "white",
            "showbackground": true,
            "ticks": "",
            "zerolinecolor": "white"
           },
           "zaxis": {
            "backgroundcolor": "#E5ECF6",
            "gridcolor": "white",
            "gridwidth": 2,
            "linecolor": "white",
            "showbackground": true,
            "ticks": "",
            "zerolinecolor": "white"
           }
          },
          "shapedefaults": {
           "line": {
            "color": "#2a3f5f"
           }
          },
          "ternary": {
           "aaxis": {
            "gridcolor": "white",
            "linecolor": "white",
            "ticks": ""
           },
           "baxis": {
            "gridcolor": "white",
            "linecolor": "white",
            "ticks": ""
           },
           "bgcolor": "#E5ECF6",
           "caxis": {
            "gridcolor": "white",
            "linecolor": "white",
            "ticks": ""
           }
          },
          "title": {
           "x": 0.05
          },
          "xaxis": {
           "automargin": true,
           "gridcolor": "white",
           "linecolor": "white",
           "ticks": "",
           "title": {
            "standoff": 15
           },
           "zerolinecolor": "white",
           "zerolinewidth": 2
          },
          "yaxis": {
           "automargin": true,
           "gridcolor": "white",
           "linecolor": "white",
           "ticks": "",
           "title": {
            "standoff": 15
           },
           "zerolinecolor": "white",
           "zerolinewidth": 2
          }
         }
        },
        "title": {},
        "width": 500,
        "xaxis": {
         "anchor": "y",
         "domain": [
          0,
          1
         ],
         "linecolor": "rgb(0,0,0)",
         "linewidth": 2,
         "range": [
          0,
          10
         ],
         "showgrid": false,
         "showline": true,
         "title": {
          "text": "Rho"
         }
        },
        "yaxis": {
         "anchor": "x",
         "domain": [
          0,
          1
         ],
         "linecolor": "rgb(0,0,0)",
         "linewidth": 2,
         "range": [
          0,
          10
         ],
         "showgrid": false,
         "showline": true,
         "title": {
          "text": "SES Assortativity"
         }
        }
       }
      }
     },
     "metadata": {},
     "output_type": "display_data"
    }
   ],
   "source": [
    "\n",
    "x_range = np.arange(0, 10, 0.1)\n",
    "y_range1 = np.random.uniform(low=0, high=8, size=(100, ))\n",
    "y_range2 = np.random.uniform(low=0, high=4, size=(100, ))\n",
    "\n",
    "\n",
    "\n",
    "example_param_dict = {\n",
    "    'xaxis_title': 'Rho', \n",
    "    'yaxis_title': 'SES Assortativity',\n",
    "    'showlegend': False, \n",
    "    'xaxis_range': [0,10],\n",
    "    'yaxis_range': [0,10]\n",
    "    }\n",
    "\n",
    "plotly_lines().line_graph(x_range, [y_range1, y_range2], example_param_dict, colors = [\"rgb(250, 20, 20)\", \"rgb(20, 20, 250)\"], hline_y = 5, hline_text = 'test', vline_x = 8, vline_text = 'heya')\n",
    "\n"
   ]
  },
  {
   "cell_type": "code",
   "execution_count": 10,
   "metadata": {},
   "outputs": [],
   "source": [
    "\n",
    "class plotly_lines(object):\n",
    "    \n",
    "    basic_dict = {\n",
    "        'title': None, \n",
    "        'font':dict(size = 18),\n",
    "        'width': 500, 'height': 500,\n",
    "        'legend': dict(x=0.75,y=1),\n",
    "        'legend_title_text': '',\n",
    "        'margin': dict(b=5,l=5,r=5,t=5),\n",
    "        'xaxis': dict(showgrid = False, showline = True, linecolor = 'rgb(0,0,0)', linewidth = 2), \n",
    "        'yaxis': dict(showgrid = False, showline = True, linecolor = 'rgb(0,0,0)', linewidth = 2),\n",
    "        'plot_bgcolor': 'rgba(0,0,0,0)'\n",
    "    }\n",
    "\n",
    "\n",
    "    def line_graph(self, x_vals, y_vals, param_dict, colors = None, hline_y = None, hline_text = None, vline_x = None, vline_text = None):\n",
    "        simple_graph = px.line(x=x_vals, y=y_vals)\n",
    "\n",
    "\n",
    "        layout_dict = param_dict | self.basic_dict\n",
    "\n",
    "        full_graph = simple_graph.update_layout(layout_dict)\n",
    "\n",
    "        # add lines if needed\n",
    "        if (hline_y != None) & (hline_text != None):\n",
    "            full_graph.add_hline(y=hline_y, line_width=1, annotation_text=hline_text)\n",
    "        if (vline_x != None) & (vline_text != None):\n",
    "            full_graph.add_vline(x=vline_x, line_width=1, annotation_text=vline_text)\n",
    "\n",
    "        # add colours\n",
    "        if colors != None:\n",
    "            for i in range(len(colors)):\n",
    "                full_graph.data[i].line.color = colors[i]\n",
    "\n",
    "        return full_graph\n",
    "\n",
    "\n",
    "\n",
    "    def line_graph_se():\n",
    "\n",
    "\n",
    "        return full_graph\n",
    "\n",
    "\n",
    "\n"
   ]
  }
 ],
 "metadata": {
  "kernelspec": {
   "display_name": "Python 3",
   "language": "python",
   "name": "python3"
  },
  "language_info": {
   "codemirror_mode": {
    "name": "ipython",
    "version": 3
   },
   "file_extension": ".py",
   "mimetype": "text/x-python",
   "name": "python",
   "nbconvert_exporter": "python",
   "pygments_lexer": "ipython3",
   "version": "3.10.6"
  },
  "orig_nbformat": 4
 },
 "nbformat": 4,
 "nbformat_minor": 2
}
