{
 "cells": [
  {
   "cell_type": "code",
   "execution_count": null,
   "metadata": {},
   "outputs": [],
   "source": []
  },
  {
   "cell_type": "markdown",
   "metadata": {},
   "source": [
    "## Old stuff"
   ]
  },
  {
   "cell_type": "markdown",
   "metadata": {},
   "source": [
    "### Rho effect on HSES assortativity"
   ]
  },
  {
   "cell_type": "code",
   "execution_count": null,
   "metadata": {},
   "outputs": [],
   "source": [
    "\n",
    "# initial nodes and time\n",
    "initial_n = 0\n",
    "T = 100\n",
    "\n",
    "p = 0.25\n",
    "\n",
    "# parent nodes and prob\n",
    "m = 4\n",
    "pm_o = p\n",
    "\n",
    "# parent neighbours and prob\n",
    "n = 16\n",
    "pn_o = p\n",
    "\n",
    "rho = 3\n",
    "\n",
    "# p high SES\n",
    "p_SES_high = 0.5\n",
    "\n",
    "rho_list = np.arange(0.5, 5, 0.05)\n",
    "rho_list = [rho_val for rho_val in rho_list]\n",
    "test_sims = [JacksonSimulationV2(initial_n, T, m, pm_o, n, pn_o, p_SES_high, biased=True, rho=rho_val) for rho_val in rho_list]\n",
    "\n",
    "\n",
    "SES_assortativity_list = [nx.assortativity.attribute_assortativity_coefficient(sim.graph_history[-1], 'SES_High') for sim in test_sims]\n",
    "\n",
    "\n",
    "#plt.plot(rho_list, SES_assortativity_list)\n",
    "\n",
    "\n",
    "\n",
    "\n"
   ]
  },
  {
   "cell_type": "code",
   "execution_count": null,
   "metadata": {},
   "outputs": [
    {
     "data": {
      "application/vnd.plotly.v1+json": {
       "config": {
        "plotlyServerURL": "https://plot.ly"
       },
       "data": [
        {
         "hovertemplate": "x=%{x}<br>y=%{y}<extra></extra>",
         "legendgroup": "",
         "line": {
          "color": "rgb(250, 20, 20)",
          "dash": "solid"
         },
         "marker": {
          "symbol": "circle"
         },
         "mode": "lines",
         "name": "",
         "orientation": "v",
         "showlegend": false,
         "type": "scatter",
         "x": [
          0.5,
          0.55,
          0.6000000000000001,
          0.6500000000000001,
          0.7000000000000002,
          0.7500000000000002,
          0.8000000000000003,
          0.8500000000000003,
          0.9000000000000004,
          0.9500000000000004,
          1.0000000000000004,
          1.0500000000000005,
          1.1000000000000005,
          1.1500000000000006,
          1.2000000000000006,
          1.2500000000000007,
          1.3000000000000007,
          1.3500000000000008,
          1.4000000000000008,
          1.4500000000000008,
          1.5000000000000009,
          1.550000000000001,
          1.600000000000001,
          1.650000000000001,
          1.700000000000001,
          1.750000000000001,
          1.8000000000000012,
          1.8500000000000012,
          1.9000000000000012,
          1.9500000000000013,
          2.0000000000000013,
          2.0500000000000016,
          2.1000000000000014,
          2.1500000000000012,
          2.2000000000000015,
          2.2500000000000018,
          2.3000000000000016,
          2.3500000000000014,
          2.4000000000000017,
          2.450000000000002,
          2.5000000000000018,
          2.5500000000000016,
          2.600000000000002,
          2.650000000000002,
          2.700000000000002,
          2.7500000000000018,
          2.800000000000002,
          2.8500000000000023,
          2.900000000000002,
          2.950000000000002,
          3.000000000000002,
          3.0500000000000025,
          3.1000000000000023,
          3.150000000000002,
          3.2000000000000024,
          3.2500000000000027,
          3.3000000000000025,
          3.3500000000000023,
          3.4000000000000026,
          3.450000000000003,
          3.5000000000000027,
          3.5500000000000025,
          3.6000000000000028,
          3.650000000000003,
          3.700000000000003,
          3.7500000000000027,
          3.800000000000003,
          3.850000000000003,
          3.900000000000003,
          3.950000000000003,
          4.0000000000000036,
          4.050000000000003,
          4.100000000000003,
          4.150000000000003,
          4.200000000000003,
          4.2500000000000036,
          4.300000000000003,
          4.350000000000003,
          4.400000000000004,
          4.450000000000004,
          4.5000000000000036,
          4.550000000000003,
          4.600000000000003,
          4.650000000000004,
          4.700000000000004,
          4.7500000000000036,
          4.800000000000004,
          4.850000000000004,
          4.900000000000004,
          4.950000000000004
         ],
         "xaxis": "x",
         "y": [
          -0.3525431869751728,
          -0.2708062327453092,
          -0.24529767421333723,
          -0.19809898508086315,
          -0.23819560397448908,
          -0.09659442724458216,
          -0.11277836510588984,
          -0.05016421319373813,
          -0.09744094488188976,
          0.011798239485818096,
          -0.011347078844476893,
          0.06147036484115147,
          0.056512035708592354,
          0.12894711115456048,
          0.09267309267309258,
          -0.009282700421940807,
          0.09193574375967664,
          0.12510380689976325,
          0.07752153375937773,
          0.1936479317638086,
          0.19002267573696136,
          0.19498769006780697,
          0.1198851956715665,
          0.27256751757306685,
          0.2908251756474704,
          0.1646586345381524,
          0.29988595229830906,
          0.2896606156274665,
          0.40599714421703953,
          0.2550281984665105,
          0.22094572314185865,
          0.349246378511524,
          0.31017214397496096,
          0.26809523809523794,
          0.3486868686868686,
          0.41824690943670656,
          0.3669381163453939,
          0.4210449173206839,
          0.452020202020202,
          0.3898566180827113,
          0.34797168006123236,
          0.431477573986907,
          0.44110671936758883,
          0.4737793851717903,
          0.4758744904730306,
          0.42187757795743264,
          0.36250000000000004,
          0.45325596389426187,
          0.4098230673225166,
          0.596425080296048,
          0.5562712470925032,
          0.4607417307049783,
          0.46408529741863086,
          0.4251879407889637,
          0.49715320910973076,
          0.569478237361449,
          0.5715065644092032,
          0.5250593675790528,
          0.4633591731266149,
          0.5236830926083261,
          0.4346327422621797,
          0.5282051282051282,
          0.5871428571428572,
          0.5841834256290682,
          0.5222495222495221,
          0.5039968208843442,
          0.5400696864111497,
          0.5756890291088753,
          0.6127925746569816,
          0.5869560736297488,
          0.5257037943696451,
          0.58183199149324,
          0.5784444004636827,
          0.5924459335973197,
          0.5142479844314706,
          0.642232734153264,
          0.4960592309529496,
          0.6900660507779068,
          0.6917886178861788,
          0.603411513859275,
          0.484931506849315,
          0.6191120998162296,
          0.6615689606343813,
          0.7931464174454829,
          0.5843713838404465,
          0.6902356902356902,
          0.6423213580734307,
          0.6651017214397497,
          0.5207591933570583,
          0.6037646314457448
         ],
         "yaxis": "y"
        }
       ],
       "layout": {
        "annotations": [
         {
          "showarrow": false,
          "text": "",
          "x": 1,
          "xanchor": "right",
          "xref": "x domain",
          "y": 0,
          "yanchor": "bottom",
          "yref": "y"
         },
         {
          "showarrow": false,
          "text": "No friending bias",
          "x": 1,
          "xanchor": "left",
          "xref": "x",
          "y": 1,
          "yanchor": "top",
          "yref": "y domain"
         }
        ],
        "font": {
         "size": 18
        },
        "height": 500,
        "legend": {
         "title": {
          "text": ""
         },
         "tracegroupgap": 0,
         "x": 0.75,
         "y": 1
        },
        "margin": {
         "b": 5,
         "l": 5,
         "r": 5,
         "t": 5
        },
        "plot_bgcolor": "rgba(0,0,0,0)",
        "shapes": [
         {
          "line": {
           "width": 1
          },
          "type": "line",
          "x0": 0,
          "x1": 1,
          "xref": "x domain",
          "y0": 0,
          "y1": 0,
          "yref": "y"
         },
         {
          "line": {
           "width": 1
          },
          "type": "line",
          "x0": 1,
          "x1": 1,
          "xref": "x",
          "y0": 0,
          "y1": 1,
          "yref": "y domain"
         }
        ],
        "showlegend": false,
        "template": {
         "data": {
          "bar": [
           {
            "error_x": {
             "color": "#2a3f5f"
            },
            "error_y": {
             "color": "#2a3f5f"
            },
            "marker": {
             "line": {
              "color": "#E5ECF6",
              "width": 0.5
             },
             "pattern": {
              "fillmode": "overlay",
              "size": 10,
              "solidity": 0.2
             }
            },
            "type": "bar"
           }
          ],
          "barpolar": [
           {
            "marker": {
             "line": {
              "color": "#E5ECF6",
              "width": 0.5
             },
             "pattern": {
              "fillmode": "overlay",
              "size": 10,
              "solidity": 0.2
             }
            },
            "type": "barpolar"
           }
          ],
          "carpet": [
           {
            "aaxis": {
             "endlinecolor": "#2a3f5f",
             "gridcolor": "white",
             "linecolor": "white",
             "minorgridcolor": "white",
             "startlinecolor": "#2a3f5f"
            },
            "baxis": {
             "endlinecolor": "#2a3f5f",
             "gridcolor": "white",
             "linecolor": "white",
             "minorgridcolor": "white",
             "startlinecolor": "#2a3f5f"
            },
            "type": "carpet"
           }
          ],
          "choropleth": [
           {
            "colorbar": {
             "outlinewidth": 0,
             "ticks": ""
            },
            "type": "choropleth"
           }
          ],
          "contour": [
           {
            "colorbar": {
             "outlinewidth": 0,
             "ticks": ""
            },
            "colorscale": [
             [
              0,
              "#0d0887"
             ],
             [
              0.1111111111111111,
              "#46039f"
             ],
             [
              0.2222222222222222,
              "#7201a8"
             ],
             [
              0.3333333333333333,
              "#9c179e"
             ],
             [
              0.4444444444444444,
              "#bd3786"
             ],
             [
              0.5555555555555556,
              "#d8576b"
             ],
             [
              0.6666666666666666,
              "#ed7953"
             ],
             [
              0.7777777777777778,
              "#fb9f3a"
             ],
             [
              0.8888888888888888,
              "#fdca26"
             ],
             [
              1,
              "#f0f921"
             ]
            ],
            "type": "contour"
           }
          ],
          "contourcarpet": [
           {
            "colorbar": {
             "outlinewidth": 0,
             "ticks": ""
            },
            "type": "contourcarpet"
           }
          ],
          "heatmap": [
           {
            "colorbar": {
             "outlinewidth": 0,
             "ticks": ""
            },
            "colorscale": [
             [
              0,
              "#0d0887"
             ],
             [
              0.1111111111111111,
              "#46039f"
             ],
             [
              0.2222222222222222,
              "#7201a8"
             ],
             [
              0.3333333333333333,
              "#9c179e"
             ],
             [
              0.4444444444444444,
              "#bd3786"
             ],
             [
              0.5555555555555556,
              "#d8576b"
             ],
             [
              0.6666666666666666,
              "#ed7953"
             ],
             [
              0.7777777777777778,
              "#fb9f3a"
             ],
             [
              0.8888888888888888,
              "#fdca26"
             ],
             [
              1,
              "#f0f921"
             ]
            ],
            "type": "heatmap"
           }
          ],
          "heatmapgl": [
           {
            "colorbar": {
             "outlinewidth": 0,
             "ticks": ""
            },
            "colorscale": [
             [
              0,
              "#0d0887"
             ],
             [
              0.1111111111111111,
              "#46039f"
             ],
             [
              0.2222222222222222,
              "#7201a8"
             ],
             [
              0.3333333333333333,
              "#9c179e"
             ],
             [
              0.4444444444444444,
              "#bd3786"
             ],
             [
              0.5555555555555556,
              "#d8576b"
             ],
             [
              0.6666666666666666,
              "#ed7953"
             ],
             [
              0.7777777777777778,
              "#fb9f3a"
             ],
             [
              0.8888888888888888,
              "#fdca26"
             ],
             [
              1,
              "#f0f921"
             ]
            ],
            "type": "heatmapgl"
           }
          ],
          "histogram": [
           {
            "marker": {
             "pattern": {
              "fillmode": "overlay",
              "size": 10,
              "solidity": 0.2
             }
            },
            "type": "histogram"
           }
          ],
          "histogram2d": [
           {
            "colorbar": {
             "outlinewidth": 0,
             "ticks": ""
            },
            "colorscale": [
             [
              0,
              "#0d0887"
             ],
             [
              0.1111111111111111,
              "#46039f"
             ],
             [
              0.2222222222222222,
              "#7201a8"
             ],
             [
              0.3333333333333333,
              "#9c179e"
             ],
             [
              0.4444444444444444,
              "#bd3786"
             ],
             [
              0.5555555555555556,
              "#d8576b"
             ],
             [
              0.6666666666666666,
              "#ed7953"
             ],
             [
              0.7777777777777778,
              "#fb9f3a"
             ],
             [
              0.8888888888888888,
              "#fdca26"
             ],
             [
              1,
              "#f0f921"
             ]
            ],
            "type": "histogram2d"
           }
          ],
          "histogram2dcontour": [
           {
            "colorbar": {
             "outlinewidth": 0,
             "ticks": ""
            },
            "colorscale": [
             [
              0,
              "#0d0887"
             ],
             [
              0.1111111111111111,
              "#46039f"
             ],
             [
              0.2222222222222222,
              "#7201a8"
             ],
             [
              0.3333333333333333,
              "#9c179e"
             ],
             [
              0.4444444444444444,
              "#bd3786"
             ],
             [
              0.5555555555555556,
              "#d8576b"
             ],
             [
              0.6666666666666666,
              "#ed7953"
             ],
             [
              0.7777777777777778,
              "#fb9f3a"
             ],
             [
              0.8888888888888888,
              "#fdca26"
             ],
             [
              1,
              "#f0f921"
             ]
            ],
            "type": "histogram2dcontour"
           }
          ],
          "mesh3d": [
           {
            "colorbar": {
             "outlinewidth": 0,
             "ticks": ""
            },
            "type": "mesh3d"
           }
          ],
          "parcoords": [
           {
            "line": {
             "colorbar": {
              "outlinewidth": 0,
              "ticks": ""
             }
            },
            "type": "parcoords"
           }
          ],
          "pie": [
           {
            "automargin": true,
            "type": "pie"
           }
          ],
          "scatter": [
           {
            "fillpattern": {
             "fillmode": "overlay",
             "size": 10,
             "solidity": 0.2
            },
            "type": "scatter"
           }
          ],
          "scatter3d": [
           {
            "line": {
             "colorbar": {
              "outlinewidth": 0,
              "ticks": ""
             }
            },
            "marker": {
             "colorbar": {
              "outlinewidth": 0,
              "ticks": ""
             }
            },
            "type": "scatter3d"
           }
          ],
          "scattercarpet": [
           {
            "marker": {
             "colorbar": {
              "outlinewidth": 0,
              "ticks": ""
             }
            },
            "type": "scattercarpet"
           }
          ],
          "scattergeo": [
           {
            "marker": {
             "colorbar": {
              "outlinewidth": 0,
              "ticks": ""
             }
            },
            "type": "scattergeo"
           }
          ],
          "scattergl": [
           {
            "marker": {
             "colorbar": {
              "outlinewidth": 0,
              "ticks": ""
             }
            },
            "type": "scattergl"
           }
          ],
          "scattermapbox": [
           {
            "marker": {
             "colorbar": {
              "outlinewidth": 0,
              "ticks": ""
             }
            },
            "type": "scattermapbox"
           }
          ],
          "scatterpolar": [
           {
            "marker": {
             "colorbar": {
              "outlinewidth": 0,
              "ticks": ""
             }
            },
            "type": "scatterpolar"
           }
          ],
          "scatterpolargl": [
           {
            "marker": {
             "colorbar": {
              "outlinewidth": 0,
              "ticks": ""
             }
            },
            "type": "scatterpolargl"
           }
          ],
          "scatterternary": [
           {
            "marker": {
             "colorbar": {
              "outlinewidth": 0,
              "ticks": ""
             }
            },
            "type": "scatterternary"
           }
          ],
          "surface": [
           {
            "colorbar": {
             "outlinewidth": 0,
             "ticks": ""
            },
            "colorscale": [
             [
              0,
              "#0d0887"
             ],
             [
              0.1111111111111111,
              "#46039f"
             ],
             [
              0.2222222222222222,
              "#7201a8"
             ],
             [
              0.3333333333333333,
              "#9c179e"
             ],
             [
              0.4444444444444444,
              "#bd3786"
             ],
             [
              0.5555555555555556,
              "#d8576b"
             ],
             [
              0.6666666666666666,
              "#ed7953"
             ],
             [
              0.7777777777777778,
              "#fb9f3a"
             ],
             [
              0.8888888888888888,
              "#fdca26"
             ],
             [
              1,
              "#f0f921"
             ]
            ],
            "type": "surface"
           }
          ],
          "table": [
           {
            "cells": {
             "fill": {
              "color": "#EBF0F8"
             },
             "line": {
              "color": "white"
             }
            },
            "header": {
             "fill": {
              "color": "#C8D4E3"
             },
             "line": {
              "color": "white"
             }
            },
            "type": "table"
           }
          ]
         },
         "layout": {
          "annotationdefaults": {
           "arrowcolor": "#2a3f5f",
           "arrowhead": 0,
           "arrowwidth": 1
          },
          "autotypenumbers": "strict",
          "coloraxis": {
           "colorbar": {
            "outlinewidth": 0,
            "ticks": ""
           }
          },
          "colorscale": {
           "diverging": [
            [
             0,
             "#8e0152"
            ],
            [
             0.1,
             "#c51b7d"
            ],
            [
             0.2,
             "#de77ae"
            ],
            [
             0.3,
             "#f1b6da"
            ],
            [
             0.4,
             "#fde0ef"
            ],
            [
             0.5,
             "#f7f7f7"
            ],
            [
             0.6,
             "#e6f5d0"
            ],
            [
             0.7,
             "#b8e186"
            ],
            [
             0.8,
             "#7fbc41"
            ],
            [
             0.9,
             "#4d9221"
            ],
            [
             1,
             "#276419"
            ]
           ],
           "sequential": [
            [
             0,
             "#0d0887"
            ],
            [
             0.1111111111111111,
             "#46039f"
            ],
            [
             0.2222222222222222,
             "#7201a8"
            ],
            [
             0.3333333333333333,
             "#9c179e"
            ],
            [
             0.4444444444444444,
             "#bd3786"
            ],
            [
             0.5555555555555556,
             "#d8576b"
            ],
            [
             0.6666666666666666,
             "#ed7953"
            ],
            [
             0.7777777777777778,
             "#fb9f3a"
            ],
            [
             0.8888888888888888,
             "#fdca26"
            ],
            [
             1,
             "#f0f921"
            ]
           ],
           "sequentialminus": [
            [
             0,
             "#0d0887"
            ],
            [
             0.1111111111111111,
             "#46039f"
            ],
            [
             0.2222222222222222,
             "#7201a8"
            ],
            [
             0.3333333333333333,
             "#9c179e"
            ],
            [
             0.4444444444444444,
             "#bd3786"
            ],
            [
             0.5555555555555556,
             "#d8576b"
            ],
            [
             0.6666666666666666,
             "#ed7953"
            ],
            [
             0.7777777777777778,
             "#fb9f3a"
            ],
            [
             0.8888888888888888,
             "#fdca26"
            ],
            [
             1,
             "#f0f921"
            ]
           ]
          },
          "colorway": [
           "#636efa",
           "#EF553B",
           "#00cc96",
           "#ab63fa",
           "#FFA15A",
           "#19d3f3",
           "#FF6692",
           "#B6E880",
           "#FF97FF",
           "#FECB52"
          ],
          "font": {
           "color": "#2a3f5f"
          },
          "geo": {
           "bgcolor": "white",
           "lakecolor": "white",
           "landcolor": "#E5ECF6",
           "showlakes": true,
           "showland": true,
           "subunitcolor": "white"
          },
          "hoverlabel": {
           "align": "left"
          },
          "hovermode": "closest",
          "mapbox": {
           "style": "light"
          },
          "paper_bgcolor": "white",
          "plot_bgcolor": "#E5ECF6",
          "polar": {
           "angularaxis": {
            "gridcolor": "white",
            "linecolor": "white",
            "ticks": ""
           },
           "bgcolor": "#E5ECF6",
           "radialaxis": {
            "gridcolor": "white",
            "linecolor": "white",
            "ticks": ""
           }
          },
          "scene": {
           "xaxis": {
            "backgroundcolor": "#E5ECF6",
            "gridcolor": "white",
            "gridwidth": 2,
            "linecolor": "white",
            "showbackground": true,
            "ticks": "",
            "zerolinecolor": "white"
           },
           "yaxis": {
            "backgroundcolor": "#E5ECF6",
            "gridcolor": "white",
            "gridwidth": 2,
            "linecolor": "white",
            "showbackground": true,
            "ticks": "",
            "zerolinecolor": "white"
           },
           "zaxis": {
            "backgroundcolor": "#E5ECF6",
            "gridcolor": "white",
            "gridwidth": 2,
            "linecolor": "white",
            "showbackground": true,
            "ticks": "",
            "zerolinecolor": "white"
           }
          },
          "shapedefaults": {
           "line": {
            "color": "#2a3f5f"
           }
          },
          "ternary": {
           "aaxis": {
            "gridcolor": "white",
            "linecolor": "white",
            "ticks": ""
           },
           "baxis": {
            "gridcolor": "white",
            "linecolor": "white",
            "ticks": ""
           },
           "bgcolor": "#E5ECF6",
           "caxis": {
            "gridcolor": "white",
            "linecolor": "white",
            "ticks": ""
           }
          },
          "title": {
           "x": 0.05
          },
          "xaxis": {
           "automargin": true,
           "gridcolor": "white",
           "linecolor": "white",
           "ticks": "",
           "title": {
            "standoff": 15
           },
           "zerolinecolor": "white",
           "zerolinewidth": 2
          },
          "yaxis": {
           "automargin": true,
           "gridcolor": "white",
           "linecolor": "white",
           "ticks": "",
           "title": {
            "standoff": 15
           },
           "zerolinecolor": "white",
           "zerolinewidth": 2
          }
         }
        },
        "title": {},
        "width": 500,
        "xaxis": {
         "anchor": "y",
         "domain": [
          0,
          1
         ],
         "linecolor": "rgb(0,0,0)",
         "linewidth": 2,
         "range": [
          0.5,
          5
         ],
         "showgrid": false,
         "showline": true,
         "title": {
          "text": "Rho"
         }
        },
        "yaxis": {
         "anchor": "x",
         "domain": [
          0,
          1
         ],
         "linecolor": "rgb(0,0,0)",
         "linewidth": 2,
         "range": [
          -1,
          1
         ],
         "showgrid": false,
         "showline": true,
         "title": {
          "text": "SES Assortativity"
         }
        }
       }
      }
     },
     "metadata": {},
     "output_type": "display_data"
    }
   ],
   "source": [
    "\n",
    "param_dict = {\n",
    "    'xaxis_title': 'Rho', \n",
    "    'yaxis_title': 'SES Assortativity',\n",
    "    'showlegend': False, \n",
    "    'xaxis_range': [0.5,5],\n",
    "    'yaxis_range': [-1,1]\n",
    "    }\n",
    "\n",
    "plotly_lines().line_graph(x_vals=rho_list,y_vals=SES_assortativity_list, param_dict=param_dict, colors = [\"rgb(250, 20, 20)\"], hline_y = 0, hline_text = '', vline_x = 1, vline_text = 'No friending bias')\n"
   ]
  },
  {
   "cell_type": "code",
   "execution_count": null,
   "metadata": {},
   "outputs": [
    {
     "data": {
      "application/vnd.plotly.v1+json": {
       "config": {
        "plotlyServerURL": "https://plot.ly"
       },
       "data": [
        {
         "hovertemplate": "Rho=%{x}<br>SES Assortativity=%{y}<extra></extra>",
         "legendgroup": "",
         "line": {
          "color": "rgb(250, 20, 250)",
          "dash": "solid"
         },
         "marker": {
          "symbol": "circle"
         },
         "mode": "lines",
         "name": "",
         "orientation": "v",
         "showlegend": false,
         "type": "scatter",
         "x": [
          0.25,
          0.3,
          0.35,
          0.39999999999999997,
          0.44999999999999996,
          0.49999999999999994,
          0.5499999999999999,
          0.5999999999999999,
          0.6499999999999999,
          0.7,
          0.7499999999999999,
          0.7999999999999998,
          0.8499999999999999,
          0.8999999999999999,
          0.9499999999999998,
          0.9999999999999998,
          1.0499999999999998,
          1.0999999999999999,
          1.15,
          1.1999999999999997,
          1.2499999999999998,
          1.2999999999999998,
          1.3499999999999996,
          1.3999999999999997,
          1.4499999999999997,
          1.4999999999999998,
          1.5499999999999998,
          1.5999999999999996,
          1.6499999999999997,
          1.6999999999999997,
          1.7499999999999996,
          1.7999999999999996,
          1.8499999999999996,
          1.8999999999999997,
          1.9499999999999997,
          1.9999999999999996,
          2.05,
          2.0999999999999996,
          2.1499999999999995,
          2.1999999999999993,
          2.2499999999999996,
          2.2999999999999994,
          2.3499999999999996,
          2.3999999999999995,
          2.4499999999999993,
          2.4999999999999996,
          2.5499999999999994,
          2.5999999999999996,
          2.6499999999999995,
          2.6999999999999993,
          2.7499999999999996,
          2.7999999999999994,
          2.8499999999999996,
          2.8999999999999995,
          2.9499999999999993,
          2.9999999999999996,
          3.0499999999999994,
          3.099999999999999,
          3.1499999999999995,
          3.1999999999999993,
          3.249999999999999,
          3.2999999999999994,
          3.349999999999999,
          3.3999999999999995,
          3.4499999999999993,
          3.499999999999999,
          3.5499999999999994,
          3.599999999999999,
          3.6499999999999995,
          3.6999999999999993,
          3.749999999999999,
          3.7999999999999994,
          3.849999999999999,
          3.899999999999999,
          3.9499999999999993,
          3.999999999999999,
          4.049999999999999,
          4.1,
          4.149999999999999,
          4.199999999999999,
          4.249999999999999,
          4.299999999999999,
          4.349999999999999,
          4.3999999999999995,
          4.449999999999999,
          4.499999999999999,
          4.549999999999999,
          4.599999999999999,
          4.649999999999999,
          4.699999999999999,
          4.749999999999999,
          4.799999999999999,
          4.849999999999999,
          4.899999999999999,
          4.949999999999999
         ],
         "xaxis": "x",
         "y": [
          -0.5556423537699542,
          -0.521112279471901,
          -0.43982798320465955,
          -0.4328934663662696,
          -0.36087106017191994,
          -0.34671389216843773,
          -0.2827560177198836,
          -0.27305236270753525,
          -0.2290951515559445,
          -0.15370102595882387,
          -0.10816338287821174,
          -0.11705923376301994,
          -0.06734039184370307,
          0.009088010204081677,
          -0.03477295307112385,
          -0.021525378687217597,
          0.048425476332453074,
          -0.11408163265306123,
          0.08285832300702188,
          0.0797807250221043,
          0.04509283819628649,
          0.12519549293315774,
          0.184921039225675,
          0.19681717956092404,
          0.21375161335054227,
          0.11045296167247391,
          0.19340519974635387,
          0.21707674759654536,
          0.1415704563279555,
          0.2920055125833405,
          0.22217979720843403,
          0.2631453250009951,
          0.22940509866002295,
          0.33123473541384,
          0.24088502782679522,
          0.28600864074443333,
          0.4133722029975633,
          0.4517414112728277,
          0.31723326079977177,
          0.311212202301311,
          0.33575757575757575,
          0.3413728277316703,
          0.3010473397570172,
          0.48984096950038286,
          0.44403064481804627,
          0.3713432835820894,
          0.47530864197530864,
          0.42456327182616904,
          0.44373127941805734,
          0.4347194176130884,
          0.43789022458298393,
          0.4566441755422964,
          0.39013918376975715,
          0.48420380538883917,
          0.4589830508474577,
          0.5020490586208946,
          0.5001438456763018,
          0.519195932916496,
          0.5217697335344395,
          0.576792374637381,
          0.5447409733124019,
          0.5095508262517653,
          0.4928073321378762,
          0.5367346938775511,
          0.5420504960877633,
          0.5014463798880355,
          0.5316321562562649,
          0.5723458343161151,
          0.5631493881320712,
          0.4786206896551724,
          0.6356752712308268,
          0.5831087151841868,
          0.5683323299217338,
          0.5313402636247672,
          0.5577852099591231,
          0.4926052332195677,
          0.7055946791862284,
          0.5179704016913318,
          0.44267703546600684,
          0.5630965005302228,
          0.6684240524365916,
          0.518240803857709,
          0.5857108290622731,
          0.45838686652391136,
          0.6830461283768531,
          0.7416183107672472,
          0.6526590693257358,
          0.5722222222222221,
          0.6379277530356668,
          0.6369386464263126,
          0.5139876718824089,
          0.6528128587830082,
          0.6813240471846007,
          0.5856014047410009,
          0.6993087557603686
         ],
         "yaxis": "y"
        }
       ],
       "layout": {
        "annotations": [
         {
          "showarrow": false,
          "text": "Equal share",
          "x": 1,
          "xanchor": "right",
          "xref": "x domain",
          "y": 0,
          "yanchor": "bottom",
          "yref": "y"
         },
         {
          "showarrow": false,
          "text": "rho=1: no bias",
          "x": 1,
          "xanchor": "left",
          "xref": "x",
          "y": 1,
          "yanchor": "top",
          "yref": "y domain"
         }
        ],
        "font": {
         "size": 18
        },
        "height": 500,
        "legend": {
         "title": {
          "text": ""
         },
         "tracegroupgap": 0,
         "x": 0.75,
         "y": 1
        },
        "margin": {
         "b": 5,
         "l": 5,
         "r": 5,
         "t": 5
        },
        "plot_bgcolor": "rgba(0,0,0,0)",
        "shapes": [
         {
          "line": {
           "width": 1
          },
          "type": "line",
          "x0": 0,
          "x1": 1,
          "xref": "x domain",
          "y0": 0,
          "y1": 0,
          "yref": "y"
         },
         {
          "line": {
           "width": 1
          },
          "type": "line",
          "x0": 1,
          "x1": 1,
          "xref": "x",
          "y0": 0,
          "y1": 1,
          "yref": "y domain"
         }
        ],
        "showlegend": true,
        "template": {
         "data": {
          "bar": [
           {
            "error_x": {
             "color": "#2a3f5f"
            },
            "error_y": {
             "color": "#2a3f5f"
            },
            "marker": {
             "line": {
              "color": "#E5ECF6",
              "width": 0.5
             },
             "pattern": {
              "fillmode": "overlay",
              "size": 10,
              "solidity": 0.2
             }
            },
            "type": "bar"
           }
          ],
          "barpolar": [
           {
            "marker": {
             "line": {
              "color": "#E5ECF6",
              "width": 0.5
             },
             "pattern": {
              "fillmode": "overlay",
              "size": 10,
              "solidity": 0.2
             }
            },
            "type": "barpolar"
           }
          ],
          "carpet": [
           {
            "aaxis": {
             "endlinecolor": "#2a3f5f",
             "gridcolor": "white",
             "linecolor": "white",
             "minorgridcolor": "white",
             "startlinecolor": "#2a3f5f"
            },
            "baxis": {
             "endlinecolor": "#2a3f5f",
             "gridcolor": "white",
             "linecolor": "white",
             "minorgridcolor": "white",
             "startlinecolor": "#2a3f5f"
            },
            "type": "carpet"
           }
          ],
          "choropleth": [
           {
            "colorbar": {
             "outlinewidth": 0,
             "ticks": ""
            },
            "type": "choropleth"
           }
          ],
          "contour": [
           {
            "colorbar": {
             "outlinewidth": 0,
             "ticks": ""
            },
            "colorscale": [
             [
              0,
              "#0d0887"
             ],
             [
              0.1111111111111111,
              "#46039f"
             ],
             [
              0.2222222222222222,
              "#7201a8"
             ],
             [
              0.3333333333333333,
              "#9c179e"
             ],
             [
              0.4444444444444444,
              "#bd3786"
             ],
             [
              0.5555555555555556,
              "#d8576b"
             ],
             [
              0.6666666666666666,
              "#ed7953"
             ],
             [
              0.7777777777777778,
              "#fb9f3a"
             ],
             [
              0.8888888888888888,
              "#fdca26"
             ],
             [
              1,
              "#f0f921"
             ]
            ],
            "type": "contour"
           }
          ],
          "contourcarpet": [
           {
            "colorbar": {
             "outlinewidth": 0,
             "ticks": ""
            },
            "type": "contourcarpet"
           }
          ],
          "heatmap": [
           {
            "colorbar": {
             "outlinewidth": 0,
             "ticks": ""
            },
            "colorscale": [
             [
              0,
              "#0d0887"
             ],
             [
              0.1111111111111111,
              "#46039f"
             ],
             [
              0.2222222222222222,
              "#7201a8"
             ],
             [
              0.3333333333333333,
              "#9c179e"
             ],
             [
              0.4444444444444444,
              "#bd3786"
             ],
             [
              0.5555555555555556,
              "#d8576b"
             ],
             [
              0.6666666666666666,
              "#ed7953"
             ],
             [
              0.7777777777777778,
              "#fb9f3a"
             ],
             [
              0.8888888888888888,
              "#fdca26"
             ],
             [
              1,
              "#f0f921"
             ]
            ],
            "type": "heatmap"
           }
          ],
          "heatmapgl": [
           {
            "colorbar": {
             "outlinewidth": 0,
             "ticks": ""
            },
            "colorscale": [
             [
              0,
              "#0d0887"
             ],
             [
              0.1111111111111111,
              "#46039f"
             ],
             [
              0.2222222222222222,
              "#7201a8"
             ],
             [
              0.3333333333333333,
              "#9c179e"
             ],
             [
              0.4444444444444444,
              "#bd3786"
             ],
             [
              0.5555555555555556,
              "#d8576b"
             ],
             [
              0.6666666666666666,
              "#ed7953"
             ],
             [
              0.7777777777777778,
              "#fb9f3a"
             ],
             [
              0.8888888888888888,
              "#fdca26"
             ],
             [
              1,
              "#f0f921"
             ]
            ],
            "type": "heatmapgl"
           }
          ],
          "histogram": [
           {
            "marker": {
             "pattern": {
              "fillmode": "overlay",
              "size": 10,
              "solidity": 0.2
             }
            },
            "type": "histogram"
           }
          ],
          "histogram2d": [
           {
            "colorbar": {
             "outlinewidth": 0,
             "ticks": ""
            },
            "colorscale": [
             [
              0,
              "#0d0887"
             ],
             [
              0.1111111111111111,
              "#46039f"
             ],
             [
              0.2222222222222222,
              "#7201a8"
             ],
             [
              0.3333333333333333,
              "#9c179e"
             ],
             [
              0.4444444444444444,
              "#bd3786"
             ],
             [
              0.5555555555555556,
              "#d8576b"
             ],
             [
              0.6666666666666666,
              "#ed7953"
             ],
             [
              0.7777777777777778,
              "#fb9f3a"
             ],
             [
              0.8888888888888888,
              "#fdca26"
             ],
             [
              1,
              "#f0f921"
             ]
            ],
            "type": "histogram2d"
           }
          ],
          "histogram2dcontour": [
           {
            "colorbar": {
             "outlinewidth": 0,
             "ticks": ""
            },
            "colorscale": [
             [
              0,
              "#0d0887"
             ],
             [
              0.1111111111111111,
              "#46039f"
             ],
             [
              0.2222222222222222,
              "#7201a8"
             ],
             [
              0.3333333333333333,
              "#9c179e"
             ],
             [
              0.4444444444444444,
              "#bd3786"
             ],
             [
              0.5555555555555556,
              "#d8576b"
             ],
             [
              0.6666666666666666,
              "#ed7953"
             ],
             [
              0.7777777777777778,
              "#fb9f3a"
             ],
             [
              0.8888888888888888,
              "#fdca26"
             ],
             [
              1,
              "#f0f921"
             ]
            ],
            "type": "histogram2dcontour"
           }
          ],
          "mesh3d": [
           {
            "colorbar": {
             "outlinewidth": 0,
             "ticks": ""
            },
            "type": "mesh3d"
           }
          ],
          "parcoords": [
           {
            "line": {
             "colorbar": {
              "outlinewidth": 0,
              "ticks": ""
             }
            },
            "type": "parcoords"
           }
          ],
          "pie": [
           {
            "automargin": true,
            "type": "pie"
           }
          ],
          "scatter": [
           {
            "fillpattern": {
             "fillmode": "overlay",
             "size": 10,
             "solidity": 0.2
            },
            "type": "scatter"
           }
          ],
          "scatter3d": [
           {
            "line": {
             "colorbar": {
              "outlinewidth": 0,
              "ticks": ""
             }
            },
            "marker": {
             "colorbar": {
              "outlinewidth": 0,
              "ticks": ""
             }
            },
            "type": "scatter3d"
           }
          ],
          "scattercarpet": [
           {
            "marker": {
             "colorbar": {
              "outlinewidth": 0,
              "ticks": ""
             }
            },
            "type": "scattercarpet"
           }
          ],
          "scattergeo": [
           {
            "marker": {
             "colorbar": {
              "outlinewidth": 0,
              "ticks": ""
             }
            },
            "type": "scattergeo"
           }
          ],
          "scattergl": [
           {
            "marker": {
             "colorbar": {
              "outlinewidth": 0,
              "ticks": ""
             }
            },
            "type": "scattergl"
           }
          ],
          "scattermapbox": [
           {
            "marker": {
             "colorbar": {
              "outlinewidth": 0,
              "ticks": ""
             }
            },
            "type": "scattermapbox"
           }
          ],
          "scatterpolar": [
           {
            "marker": {
             "colorbar": {
              "outlinewidth": 0,
              "ticks": ""
             }
            },
            "type": "scatterpolar"
           }
          ],
          "scatterpolargl": [
           {
            "marker": {
             "colorbar": {
              "outlinewidth": 0,
              "ticks": ""
             }
            },
            "type": "scatterpolargl"
           }
          ],
          "scatterternary": [
           {
            "marker": {
             "colorbar": {
              "outlinewidth": 0,
              "ticks": ""
             }
            },
            "type": "scatterternary"
           }
          ],
          "surface": [
           {
            "colorbar": {
             "outlinewidth": 0,
             "ticks": ""
            },
            "colorscale": [
             [
              0,
              "#0d0887"
             ],
             [
              0.1111111111111111,
              "#46039f"
             ],
             [
              0.2222222222222222,
              "#7201a8"
             ],
             [
              0.3333333333333333,
              "#9c179e"
             ],
             [
              0.4444444444444444,
              "#bd3786"
             ],
             [
              0.5555555555555556,
              "#d8576b"
             ],
             [
              0.6666666666666666,
              "#ed7953"
             ],
             [
              0.7777777777777778,
              "#fb9f3a"
             ],
             [
              0.8888888888888888,
              "#fdca26"
             ],
             [
              1,
              "#f0f921"
             ]
            ],
            "type": "surface"
           }
          ],
          "table": [
           {
            "cells": {
             "fill": {
              "color": "#EBF0F8"
             },
             "line": {
              "color": "white"
             }
            },
            "header": {
             "fill": {
              "color": "#C8D4E3"
             },
             "line": {
              "color": "white"
             }
            },
            "type": "table"
           }
          ]
         },
         "layout": {
          "annotationdefaults": {
           "arrowcolor": "#2a3f5f",
           "arrowhead": 0,
           "arrowwidth": 1
          },
          "autotypenumbers": "strict",
          "coloraxis": {
           "colorbar": {
            "outlinewidth": 0,
            "ticks": ""
           }
          },
          "colorscale": {
           "diverging": [
            [
             0,
             "#8e0152"
            ],
            [
             0.1,
             "#c51b7d"
            ],
            [
             0.2,
             "#de77ae"
            ],
            [
             0.3,
             "#f1b6da"
            ],
            [
             0.4,
             "#fde0ef"
            ],
            [
             0.5,
             "#f7f7f7"
            ],
            [
             0.6,
             "#e6f5d0"
            ],
            [
             0.7,
             "#b8e186"
            ],
            [
             0.8,
             "#7fbc41"
            ],
            [
             0.9,
             "#4d9221"
            ],
            [
             1,
             "#276419"
            ]
           ],
           "sequential": [
            [
             0,
             "#0d0887"
            ],
            [
             0.1111111111111111,
             "#46039f"
            ],
            [
             0.2222222222222222,
             "#7201a8"
            ],
            [
             0.3333333333333333,
             "#9c179e"
            ],
            [
             0.4444444444444444,
             "#bd3786"
            ],
            [
             0.5555555555555556,
             "#d8576b"
            ],
            [
             0.6666666666666666,
             "#ed7953"
            ],
            [
             0.7777777777777778,
             "#fb9f3a"
            ],
            [
             0.8888888888888888,
             "#fdca26"
            ],
            [
             1,
             "#f0f921"
            ]
           ],
           "sequentialminus": [
            [
             0,
             "#0d0887"
            ],
            [
             0.1111111111111111,
             "#46039f"
            ],
            [
             0.2222222222222222,
             "#7201a8"
            ],
            [
             0.3333333333333333,
             "#9c179e"
            ],
            [
             0.4444444444444444,
             "#bd3786"
            ],
            [
             0.5555555555555556,
             "#d8576b"
            ],
            [
             0.6666666666666666,
             "#ed7953"
            ],
            [
             0.7777777777777778,
             "#fb9f3a"
            ],
            [
             0.8888888888888888,
             "#fdca26"
            ],
            [
             1,
             "#f0f921"
            ]
           ]
          },
          "colorway": [
           "#636efa",
           "#EF553B",
           "#00cc96",
           "#ab63fa",
           "#FFA15A",
           "#19d3f3",
           "#FF6692",
           "#B6E880",
           "#FF97FF",
           "#FECB52"
          ],
          "font": {
           "color": "#2a3f5f"
          },
          "geo": {
           "bgcolor": "white",
           "lakecolor": "white",
           "landcolor": "#E5ECF6",
           "showlakes": true,
           "showland": true,
           "subunitcolor": "white"
          },
          "hoverlabel": {
           "align": "left"
          },
          "hovermode": "closest",
          "mapbox": {
           "style": "light"
          },
          "paper_bgcolor": "white",
          "plot_bgcolor": "#E5ECF6",
          "polar": {
           "angularaxis": {
            "gridcolor": "white",
            "linecolor": "white",
            "ticks": ""
           },
           "bgcolor": "#E5ECF6",
           "radialaxis": {
            "gridcolor": "white",
            "linecolor": "white",
            "ticks": ""
           }
          },
          "scene": {
           "xaxis": {
            "backgroundcolor": "#E5ECF6",
            "gridcolor": "white",
            "gridwidth": 2,
            "linecolor": "white",
            "showbackground": true,
            "ticks": "",
            "zerolinecolor": "white"
           },
           "yaxis": {
            "backgroundcolor": "#E5ECF6",
            "gridcolor": "white",
            "gridwidth": 2,
            "linecolor": "white",
            "showbackground": true,
            "ticks": "",
            "zerolinecolor": "white"
           },
           "zaxis": {
            "backgroundcolor": "#E5ECF6",
            "gridcolor": "white",
            "gridwidth": 2,
            "linecolor": "white",
            "showbackground": true,
            "ticks": "",
            "zerolinecolor": "white"
           }
          },
          "shapedefaults": {
           "line": {
            "color": "#2a3f5f"
           }
          },
          "ternary": {
           "aaxis": {
            "gridcolor": "white",
            "linecolor": "white",
            "ticks": ""
           },
           "baxis": {
            "gridcolor": "white",
            "linecolor": "white",
            "ticks": ""
           },
           "bgcolor": "#E5ECF6",
           "caxis": {
            "gridcolor": "white",
            "linecolor": "white",
            "ticks": ""
           }
          },
          "title": {
           "x": 0.05
          },
          "xaxis": {
           "automargin": true,
           "gridcolor": "white",
           "linecolor": "white",
           "ticks": "",
           "title": {
            "standoff": 15
           },
           "zerolinecolor": "white",
           "zerolinewidth": 2
          },
          "yaxis": {
           "automargin": true,
           "gridcolor": "white",
           "linecolor": "white",
           "ticks": "",
           "title": {
            "standoff": 15
           },
           "zerolinecolor": "white",
           "zerolinewidth": 2
          }
         }
        },
        "title": {},
        "width": 500,
        "xaxis": {
         "anchor": "y",
         "domain": [
          0,
          1
         ],
         "linecolor": "rgb(0,0,0)",
         "linewidth": 2,
         "range": [
          0,
          5
         ],
         "showgrid": false,
         "showline": true,
         "title": {
          "text": "Rho"
         }
        },
        "yaxis": {
         "anchor": "x",
         "domain": [
          0,
          1
         ],
         "linecolor": "rgb(0,0,0)",
         "linewidth": 2,
         "range": [
          -1,
          1
         ],
         "showgrid": false,
         "showline": true,
         "title": {
          "text": "SES Assortativity"
         }
        }
       }
      }
     },
     "metadata": {},
     "output_type": "display_data"
    }
   ],
   "source": [
    "\n",
    "df_rho_SES_ass = pd.DataFrame(np.transpose([rho_list, SES_assortativity_list]), columns=['Rho', 'SES Assortativity'])\n",
    "\n",
    "rho_ass = px.line(df_rho_SES_ass, x='Rho', y='SES Assortativity')\n",
    "\n",
    "rho_ass.update_layout(\n",
    "    title = None, \n",
    "    font=dict(size = 18),\n",
    "    xaxis_title = 'Rho', \n",
    "    yaxis_title = 'SES Assortativity',\n",
    "    width = 500, height = 500,\n",
    "    showlegend = True, \n",
    "    legend=dict(x=0.75,y=1),\n",
    "    legend_title_text = '',\n",
    "    xaxis_range = [0,5],\n",
    "    yaxis_range = [-1,1],\n",
    "    margin=dict(b=5,l=5,r=5,t=5),\n",
    "    xaxis = dict(showgrid = False, showline = True, linecolor = 'rgb(0,0,0)', linewidth = 2), \n",
    "    yaxis = dict(showgrid = False, showline = True, linecolor = 'rgb(0,0,0)', linewidth = 2),\n",
    "    plot_bgcolor='rgba(0,0,0,0)')\n",
    "\n",
    "rho_ass.data[0].line.color = \"rgb(250, 20, 250)\"\n",
    "rho_ass.add_hline(y=0, line_width=1, annotation_text = 'Equal share')\n",
    "rho_ass.add_vline(x=1, line_width=1, annotation_text = 'rho=1: no bias')\n"
   ]
  },
  {
   "cell_type": "markdown",
   "metadata": {},
   "source": [
    "### Rho effect on share HSES"
   ]
  },
  {
   "cell_type": "code",
   "execution_count": null,
   "metadata": {},
   "outputs": [],
   "source": [
    "\n",
    "# initial nodes and time\n",
    "initial_n = 0\n",
    "T = 100\n",
    "\n",
    "p = 0.25\n",
    "\n",
    "# parent nodes and prob\n",
    "m = 4\n",
    "pm_o = p\n",
    "\n",
    "# parent neighbours and prob\n",
    "n = 16\n",
    "pn_o = p\n",
    "\n",
    "rho = 3\n",
    "\n",
    "# p high SES\n",
    "p_SES_high = 0.5\n",
    "\n",
    "# run several simulations\n",
    "rho_list = np.arange(0.25, 5, 0.05)\n",
    "n_per_rho = 10\n",
    "\n",
    "test_sims = [[JacksonSimulationV2(initial_n, T, m, pm_o, n, pn_o, p_SES_high, biased=True, rho=rho_val) for i in range(n_per_rho)] for rho_val in rho_list]\n",
    "\n",
    "\n",
    "\n"
   ]
  },
  {
   "cell_type": "code",
   "execution_count": null,
   "metadata": {},
   "outputs": [
    {
     "data": {
      "application/vnd.plotly.v1+json": {
       "config": {
        "plotlyServerURL": "https://plot.ly"
       },
       "data": [
        {
         "hovertemplate": "variable=High SES<br>Rho_val=%{x}<br>value=%{y}<extra></extra>",
         "legendgroup": "High SES",
         "line": {
          "color": "rgb(200, 20, 0)",
          "dash": "solid"
         },
         "marker": {
          "symbol": "circle"
         },
         "mode": "lines",
         "name": "High SES",
         "orientation": "v",
         "showlegend": true,
         "type": "scatter",
         "x": [
          0.25,
          0.3,
          0.35,
          0.39999999999999997,
          0.44999999999999996,
          0.49999999999999994,
          0.5499999999999999,
          0.5999999999999999,
          0.6499999999999999,
          0.7,
          0.7499999999999999,
          0.7999999999999998,
          0.8499999999999999,
          0.8999999999999999,
          0.9499999999999998,
          0.9999999999999998,
          1.0499999999999998,
          1.0999999999999999,
          1.15,
          1.1999999999999997,
          1.2499999999999998,
          1.2999999999999998,
          1.3499999999999996,
          1.3999999999999997,
          1.4499999999999997,
          1.4999999999999998,
          1.5499999999999998,
          1.5999999999999996,
          1.6499999999999997,
          1.6999999999999997,
          1.7499999999999996,
          1.7999999999999996,
          1.8499999999999996,
          1.8999999999999997,
          1.9499999999999997,
          1.9999999999999996,
          2.05,
          2.0999999999999996,
          2.1499999999999995,
          2.1999999999999993,
          2.2499999999999996,
          2.2999999999999994,
          2.3499999999999996,
          2.3999999999999995,
          2.4499999999999993,
          2.4999999999999996,
          2.5499999999999994,
          2.5999999999999996,
          2.6499999999999995,
          2.6999999999999993,
          2.7499999999999996,
          2.7999999999999994,
          2.8499999999999996,
          2.8999999999999995,
          2.9499999999999993,
          2.9999999999999996,
          3.0499999999999994,
          3.099999999999999,
          3.1499999999999995,
          3.1999999999999993,
          3.249999999999999,
          3.2999999999999994,
          3.349999999999999,
          3.3999999999999995,
          3.4499999999999993,
          3.499999999999999,
          3.5499999999999994,
          3.599999999999999,
          3.6499999999999995,
          3.6999999999999993,
          3.749999999999999,
          3.7999999999999994,
          3.849999999999999,
          3.899999999999999,
          3.9499999999999993,
          3.999999999999999,
          4.049999999999999,
          4.1,
          4.149999999999999,
          4.199999999999999,
          4.249999999999999,
          4.299999999999999,
          4.349999999999999,
          4.3999999999999995,
          4.449999999999999,
          4.499999999999999,
          4.549999999999999,
          4.599999999999999,
          4.649999999999999,
          4.699999999999999,
          4.749999999999999,
          4.799999999999999,
          4.849999999999999,
          4.899999999999999,
          4.949999999999999
         ],
         "xaxis": "x",
         "y": [
          0.20216334747318504,
          0.21915679453294995,
          0.25080496125262847,
          0.3016465143270622,
          0.3217590777023589,
          0.34904350510169346,
          0.3677965175447545,
          0.3546222275877491,
          0.3810436085826073,
          0.40066462511655987,
          0.4211359246465025,
          0.45704611359670116,
          0.4593962834842872,
          0.46179152727606604,
          0.5234197090195478,
          0.4891223342240417,
          0.5363204499327867,
          0.5170753342019198,
          0.5194845283901816,
          0.5579459868617358,
          0.5676696007990529,
          0.5097948515451761,
          0.5462796859270393,
          0.5491422446591345,
          0.6013378815157356,
          0.6222223719012823,
          0.5974077192991278,
          0.6097035722543509,
          0.6069093063077238,
          0.5979113995196259,
          0.5877503245261917,
          0.6505837720808607,
          0.6445277431301643,
          0.646241439932702,
          0.6298338641565253,
          0.6346513536571325,
          0.608841457141098,
          0.68913039340708,
          0.6276915643427512,
          0.6718920624008236,
          0.6678679670022099,
          0.6438590303291168,
          0.7048939101549068,
          0.6456017539830581,
          0.6391260147788826,
          0.6849733292706995,
          0.7287442237288351,
          0.6963562070362024,
          0.6822954292486731,
          0.7167480466472,
          0.6585529060566541,
          0.6949031166359559,
          0.6415757740884094,
          0.7027542895892579,
          0.6993953638884968,
          0.7356596995965418,
          0.7042433051811494,
          0.7132523565758209,
          0.6615000664379732,
          0.7377229013832565,
          0.7397124295858857,
          0.7191759492620552,
          0.7169939746594445,
          0.6892131494571585,
          0.6678423857925883,
          0.724963659472493,
          0.7433220580444919,
          0.7189727651170252,
          0.7205729914221556,
          0.7349896202454773,
          0.7185827445125134,
          0.723666704470175,
          0.7732782605127576,
          0.7493800020940221,
          0.7835945830653117,
          0.72369794545173,
          0.6947633534001187,
          0.7248124165359388,
          0.7375983211496386,
          0.7394986725545756,
          0.7301922223441647,
          0.7054392794766344,
          0.7399117118814705,
          0.7379959213710015,
          0.7718519207535612,
          0.7202799012128812,
          0.7503327965513475,
          0.7291819835325215,
          0.7241890506283081,
          0.7469204273835544,
          0.7477191000192144,
          0.7888069676757856,
          0.7359245579755787,
          0.7223887725123905,
          0.757649161789782
         ],
         "yaxis": "y"
        },
        {
         "hovertemplate": "variable=Low SES<br>Rho_val=%{x}<br>value=%{y}<extra></extra>",
         "legendgroup": "Low SES",
         "line": {
          "color": "rgb(0, 20, 200)",
          "dash": "solid"
         },
         "marker": {
          "symbol": "circle"
         },
         "mode": "lines",
         "name": "Low SES",
         "orientation": "v",
         "showlegend": true,
         "type": "scatter",
         "x": [
          0.25,
          0.3,
          0.35,
          0.39999999999999997,
          0.44999999999999996,
          0.49999999999999994,
          0.5499999999999999,
          0.5999999999999999,
          0.6499999999999999,
          0.7,
          0.7499999999999999,
          0.7999999999999998,
          0.8499999999999999,
          0.8999999999999999,
          0.9499999999999998,
          0.9999999999999998,
          1.0499999999999998,
          1.0999999999999999,
          1.15,
          1.1999999999999997,
          1.2499999999999998,
          1.2999999999999998,
          1.3499999999999996,
          1.3999999999999997,
          1.4499999999999997,
          1.4999999999999998,
          1.5499999999999998,
          1.5999999999999996,
          1.6499999999999997,
          1.6999999999999997,
          1.7499999999999996,
          1.7999999999999996,
          1.8499999999999996,
          1.8999999999999997,
          1.9499999999999997,
          1.9999999999999996,
          2.05,
          2.0999999999999996,
          2.1499999999999995,
          2.1999999999999993,
          2.2499999999999996,
          2.2999999999999994,
          2.3499999999999996,
          2.3999999999999995,
          2.4499999999999993,
          2.4999999999999996,
          2.5499999999999994,
          2.5999999999999996,
          2.6499999999999995,
          2.6999999999999993,
          2.7499999999999996,
          2.7999999999999994,
          2.8499999999999996,
          2.8999999999999995,
          2.9499999999999993,
          2.9999999999999996,
          3.0499999999999994,
          3.099999999999999,
          3.1499999999999995,
          3.1999999999999993,
          3.249999999999999,
          3.2999999999999994,
          3.349999999999999,
          3.3999999999999995,
          3.4499999999999993,
          3.499999999999999,
          3.5499999999999994,
          3.599999999999999,
          3.6499999999999995,
          3.6999999999999993,
          3.749999999999999,
          3.7999999999999994,
          3.849999999999999,
          3.899999999999999,
          3.9499999999999993,
          3.999999999999999,
          4.049999999999999,
          4.1,
          4.149999999999999,
          4.199999999999999,
          4.249999999999999,
          4.299999999999999,
          4.349999999999999,
          4.3999999999999995,
          4.449999999999999,
          4.499999999999999,
          4.549999999999999,
          4.599999999999999,
          4.649999999999999,
          4.699999999999999,
          4.749999999999999,
          4.799999999999999,
          4.849999999999999,
          4.899999999999999,
          4.949999999999999
         ],
         "xaxis": "x",
         "y": [
          0.7968943017270393,
          0.7595434962661862,
          0.7115482203693173,
          0.7336898511164536,
          0.7005536797472132,
          0.6775696937619486,
          0.6715073520205852,
          0.6273752394511292,
          0.6071484165606191,
          0.6039998452428843,
          0.5857963839518552,
          0.5821093897401397,
          0.5287566518695797,
          0.5312516915726325,
          0.516454448777814,
          0.48160270116154946,
          0.48232885778487855,
          0.4735283258208879,
          0.43600621750576607,
          0.48369115691531384,
          0.45446446522636774,
          0.39209807774821803,
          0.44583181244476977,
          0.38939352670531224,
          0.45454590703184544,
          0.4366659733031799,
          0.3833277972797256,
          0.4170430496145115,
          0.4115831947616849,
          0.3571492887868002,
          0.3708627900856693,
          0.3643354027204516,
          0.37824493066990017,
          0.3384891209524895,
          0.32755422456036887,
          0.334694051306097,
          0.30606771302234426,
          0.3495638631410108,
          0.29498114349257665,
          0.3286309762387234,
          0.2934214556558504,
          0.3051973695438998,
          0.30152916499817184,
          0.2775499103988694,
          0.29460721159794534,
          0.29712877675602084,
          0.29902760164253406,
          0.25969765099389397,
          0.29243274716244994,
          0.2896687964071694,
          0.25703983007473785,
          0.2457751102980948,
          0.22365164220877704,
          0.2529663723704795,
          0.25796941441407173,
          0.24559982737212294,
          0.2295946771542206,
          0.2602064195827719,
          0.19889377819619877,
          0.2626936722609043,
          0.23072867461400862,
          0.2435296432190457,
          0.24297485158844095,
          0.20269750605240017,
          0.18087488885845865,
          0.2397876973302829,
          0.2308125085909681,
          0.21500816234632714,
          0.22041670467110466,
          0.2646759670584481,
          0.20364904939625972,
          0.18564275467851607,
          0.2538816778154633,
          0.20580547721742642,
          0.224824348223036,
          0.1961867477240236,
          0.16565462199472883,
          0.18636099537316334,
          0.18218700377829083,
          0.21251738437788967,
          0.18863883689858785,
          0.17766748659687953,
          0.16865902050113293,
          0.15367568861978767,
          0.1821064205393943,
          0.18480655117812678,
          0.2000289078827573,
          0.19666679478513,
          0.1697752102672294,
          0.16013775460770152,
          0.1846305117090985,
          0.15743612766751042,
          0.14668649461215139,
          0.17724510044609335,
          0.16568502082838238
         ],
         "yaxis": "y"
        }
       ],
       "layout": {
        "annotations": [
         {
          "showarrow": false,
          "text": "Equal share",
          "x": 1,
          "xanchor": "right",
          "xref": "x domain",
          "y": 0.5,
          "yanchor": "bottom",
          "yref": "y"
         },
         {
          "showarrow": false,
          "text": "rho=1: no bias",
          "x": 1,
          "xanchor": "left",
          "xref": "x",
          "y": 1,
          "yanchor": "top",
          "yref": "y domain"
         }
        ],
        "font": {
         "size": 18
        },
        "height": 500,
        "legend": {
         "title": {
          "text": ""
         },
         "tracegroupgap": 0,
         "x": 0.75,
         "y": 1
        },
        "margin": {
         "b": 5,
         "l": 5,
         "r": 5,
         "t": 5
        },
        "plot_bgcolor": "rgba(0,0,0,0)",
        "shapes": [
         {
          "line": {
           "width": 1
          },
          "type": "line",
          "x0": 0,
          "x1": 1,
          "xref": "x domain",
          "y0": 0.5,
          "y1": 0.5,
          "yref": "y"
         },
         {
          "line": {
           "width": 1
          },
          "type": "line",
          "x0": 1,
          "x1": 1,
          "xref": "x",
          "y0": 0,
          "y1": 1,
          "yref": "y domain"
         }
        ],
        "showlegend": true,
        "template": {
         "data": {
          "bar": [
           {
            "error_x": {
             "color": "#2a3f5f"
            },
            "error_y": {
             "color": "#2a3f5f"
            },
            "marker": {
             "line": {
              "color": "#E5ECF6",
              "width": 0.5
             },
             "pattern": {
              "fillmode": "overlay",
              "size": 10,
              "solidity": 0.2
             }
            },
            "type": "bar"
           }
          ],
          "barpolar": [
           {
            "marker": {
             "line": {
              "color": "#E5ECF6",
              "width": 0.5
             },
             "pattern": {
              "fillmode": "overlay",
              "size": 10,
              "solidity": 0.2
             }
            },
            "type": "barpolar"
           }
          ],
          "carpet": [
           {
            "aaxis": {
             "endlinecolor": "#2a3f5f",
             "gridcolor": "white",
             "linecolor": "white",
             "minorgridcolor": "white",
             "startlinecolor": "#2a3f5f"
            },
            "baxis": {
             "endlinecolor": "#2a3f5f",
             "gridcolor": "white",
             "linecolor": "white",
             "minorgridcolor": "white",
             "startlinecolor": "#2a3f5f"
            },
            "type": "carpet"
           }
          ],
          "choropleth": [
           {
            "colorbar": {
             "outlinewidth": 0,
             "ticks": ""
            },
            "type": "choropleth"
           }
          ],
          "contour": [
           {
            "colorbar": {
             "outlinewidth": 0,
             "ticks": ""
            },
            "colorscale": [
             [
              0,
              "#0d0887"
             ],
             [
              0.1111111111111111,
              "#46039f"
             ],
             [
              0.2222222222222222,
              "#7201a8"
             ],
             [
              0.3333333333333333,
              "#9c179e"
             ],
             [
              0.4444444444444444,
              "#bd3786"
             ],
             [
              0.5555555555555556,
              "#d8576b"
             ],
             [
              0.6666666666666666,
              "#ed7953"
             ],
             [
              0.7777777777777778,
              "#fb9f3a"
             ],
             [
              0.8888888888888888,
              "#fdca26"
             ],
             [
              1,
              "#f0f921"
             ]
            ],
            "type": "contour"
           }
          ],
          "contourcarpet": [
           {
            "colorbar": {
             "outlinewidth": 0,
             "ticks": ""
            },
            "type": "contourcarpet"
           }
          ],
          "heatmap": [
           {
            "colorbar": {
             "outlinewidth": 0,
             "ticks": ""
            },
            "colorscale": [
             [
              0,
              "#0d0887"
             ],
             [
              0.1111111111111111,
              "#46039f"
             ],
             [
              0.2222222222222222,
              "#7201a8"
             ],
             [
              0.3333333333333333,
              "#9c179e"
             ],
             [
              0.4444444444444444,
              "#bd3786"
             ],
             [
              0.5555555555555556,
              "#d8576b"
             ],
             [
              0.6666666666666666,
              "#ed7953"
             ],
             [
              0.7777777777777778,
              "#fb9f3a"
             ],
             [
              0.8888888888888888,
              "#fdca26"
             ],
             [
              1,
              "#f0f921"
             ]
            ],
            "type": "heatmap"
           }
          ],
          "heatmapgl": [
           {
            "colorbar": {
             "outlinewidth": 0,
             "ticks": ""
            },
            "colorscale": [
             [
              0,
              "#0d0887"
             ],
             [
              0.1111111111111111,
              "#46039f"
             ],
             [
              0.2222222222222222,
              "#7201a8"
             ],
             [
              0.3333333333333333,
              "#9c179e"
             ],
             [
              0.4444444444444444,
              "#bd3786"
             ],
             [
              0.5555555555555556,
              "#d8576b"
             ],
             [
              0.6666666666666666,
              "#ed7953"
             ],
             [
              0.7777777777777778,
              "#fb9f3a"
             ],
             [
              0.8888888888888888,
              "#fdca26"
             ],
             [
              1,
              "#f0f921"
             ]
            ],
            "type": "heatmapgl"
           }
          ],
          "histogram": [
           {
            "marker": {
             "pattern": {
              "fillmode": "overlay",
              "size": 10,
              "solidity": 0.2
             }
            },
            "type": "histogram"
           }
          ],
          "histogram2d": [
           {
            "colorbar": {
             "outlinewidth": 0,
             "ticks": ""
            },
            "colorscale": [
             [
              0,
              "#0d0887"
             ],
             [
              0.1111111111111111,
              "#46039f"
             ],
             [
              0.2222222222222222,
              "#7201a8"
             ],
             [
              0.3333333333333333,
              "#9c179e"
             ],
             [
              0.4444444444444444,
              "#bd3786"
             ],
             [
              0.5555555555555556,
              "#d8576b"
             ],
             [
              0.6666666666666666,
              "#ed7953"
             ],
             [
              0.7777777777777778,
              "#fb9f3a"
             ],
             [
              0.8888888888888888,
              "#fdca26"
             ],
             [
              1,
              "#f0f921"
             ]
            ],
            "type": "histogram2d"
           }
          ],
          "histogram2dcontour": [
           {
            "colorbar": {
             "outlinewidth": 0,
             "ticks": ""
            },
            "colorscale": [
             [
              0,
              "#0d0887"
             ],
             [
              0.1111111111111111,
              "#46039f"
             ],
             [
              0.2222222222222222,
              "#7201a8"
             ],
             [
              0.3333333333333333,
              "#9c179e"
             ],
             [
              0.4444444444444444,
              "#bd3786"
             ],
             [
              0.5555555555555556,
              "#d8576b"
             ],
             [
              0.6666666666666666,
              "#ed7953"
             ],
             [
              0.7777777777777778,
              "#fb9f3a"
             ],
             [
              0.8888888888888888,
              "#fdca26"
             ],
             [
              1,
              "#f0f921"
             ]
            ],
            "type": "histogram2dcontour"
           }
          ],
          "mesh3d": [
           {
            "colorbar": {
             "outlinewidth": 0,
             "ticks": ""
            },
            "type": "mesh3d"
           }
          ],
          "parcoords": [
           {
            "line": {
             "colorbar": {
              "outlinewidth": 0,
              "ticks": ""
             }
            },
            "type": "parcoords"
           }
          ],
          "pie": [
           {
            "automargin": true,
            "type": "pie"
           }
          ],
          "scatter": [
           {
            "fillpattern": {
             "fillmode": "overlay",
             "size": 10,
             "solidity": 0.2
            },
            "type": "scatter"
           }
          ],
          "scatter3d": [
           {
            "line": {
             "colorbar": {
              "outlinewidth": 0,
              "ticks": ""
             }
            },
            "marker": {
             "colorbar": {
              "outlinewidth": 0,
              "ticks": ""
             }
            },
            "type": "scatter3d"
           }
          ],
          "scattercarpet": [
           {
            "marker": {
             "colorbar": {
              "outlinewidth": 0,
              "ticks": ""
             }
            },
            "type": "scattercarpet"
           }
          ],
          "scattergeo": [
           {
            "marker": {
             "colorbar": {
              "outlinewidth": 0,
              "ticks": ""
             }
            },
            "type": "scattergeo"
           }
          ],
          "scattergl": [
           {
            "marker": {
             "colorbar": {
              "outlinewidth": 0,
              "ticks": ""
             }
            },
            "type": "scattergl"
           }
          ],
          "scattermapbox": [
           {
            "marker": {
             "colorbar": {
              "outlinewidth": 0,
              "ticks": ""
             }
            },
            "type": "scattermapbox"
           }
          ],
          "scatterpolar": [
           {
            "marker": {
             "colorbar": {
              "outlinewidth": 0,
              "ticks": ""
             }
            },
            "type": "scatterpolar"
           }
          ],
          "scatterpolargl": [
           {
            "marker": {
             "colorbar": {
              "outlinewidth": 0,
              "ticks": ""
             }
            },
            "type": "scatterpolargl"
           }
          ],
          "scatterternary": [
           {
            "marker": {
             "colorbar": {
              "outlinewidth": 0,
              "ticks": ""
             }
            },
            "type": "scatterternary"
           }
          ],
          "surface": [
           {
            "colorbar": {
             "outlinewidth": 0,
             "ticks": ""
            },
            "colorscale": [
             [
              0,
              "#0d0887"
             ],
             [
              0.1111111111111111,
              "#46039f"
             ],
             [
              0.2222222222222222,
              "#7201a8"
             ],
             [
              0.3333333333333333,
              "#9c179e"
             ],
             [
              0.4444444444444444,
              "#bd3786"
             ],
             [
              0.5555555555555556,
              "#d8576b"
             ],
             [
              0.6666666666666666,
              "#ed7953"
             ],
             [
              0.7777777777777778,
              "#fb9f3a"
             ],
             [
              0.8888888888888888,
              "#fdca26"
             ],
             [
              1,
              "#f0f921"
             ]
            ],
            "type": "surface"
           }
          ],
          "table": [
           {
            "cells": {
             "fill": {
              "color": "#EBF0F8"
             },
             "line": {
              "color": "white"
             }
            },
            "header": {
             "fill": {
              "color": "#C8D4E3"
             },
             "line": {
              "color": "white"
             }
            },
            "type": "table"
           }
          ]
         },
         "layout": {
          "annotationdefaults": {
           "arrowcolor": "#2a3f5f",
           "arrowhead": 0,
           "arrowwidth": 1
          },
          "autotypenumbers": "strict",
          "coloraxis": {
           "colorbar": {
            "outlinewidth": 0,
            "ticks": ""
           }
          },
          "colorscale": {
           "diverging": [
            [
             0,
             "#8e0152"
            ],
            [
             0.1,
             "#c51b7d"
            ],
            [
             0.2,
             "#de77ae"
            ],
            [
             0.3,
             "#f1b6da"
            ],
            [
             0.4,
             "#fde0ef"
            ],
            [
             0.5,
             "#f7f7f7"
            ],
            [
             0.6,
             "#e6f5d0"
            ],
            [
             0.7,
             "#b8e186"
            ],
            [
             0.8,
             "#7fbc41"
            ],
            [
             0.9,
             "#4d9221"
            ],
            [
             1,
             "#276419"
            ]
           ],
           "sequential": [
            [
             0,
             "#0d0887"
            ],
            [
             0.1111111111111111,
             "#46039f"
            ],
            [
             0.2222222222222222,
             "#7201a8"
            ],
            [
             0.3333333333333333,
             "#9c179e"
            ],
            [
             0.4444444444444444,
             "#bd3786"
            ],
            [
             0.5555555555555556,
             "#d8576b"
            ],
            [
             0.6666666666666666,
             "#ed7953"
            ],
            [
             0.7777777777777778,
             "#fb9f3a"
            ],
            [
             0.8888888888888888,
             "#fdca26"
            ],
            [
             1,
             "#f0f921"
            ]
           ],
           "sequentialminus": [
            [
             0,
             "#0d0887"
            ],
            [
             0.1111111111111111,
             "#46039f"
            ],
            [
             0.2222222222222222,
             "#7201a8"
            ],
            [
             0.3333333333333333,
             "#9c179e"
            ],
            [
             0.4444444444444444,
             "#bd3786"
            ],
            [
             0.5555555555555556,
             "#d8576b"
            ],
            [
             0.6666666666666666,
             "#ed7953"
            ],
            [
             0.7777777777777778,
             "#fb9f3a"
            ],
            [
             0.8888888888888888,
             "#fdca26"
            ],
            [
             1,
             "#f0f921"
            ]
           ]
          },
          "colorway": [
           "#636efa",
           "#EF553B",
           "#00cc96",
           "#ab63fa",
           "#FFA15A",
           "#19d3f3",
           "#FF6692",
           "#B6E880",
           "#FF97FF",
           "#FECB52"
          ],
          "font": {
           "color": "#2a3f5f"
          },
          "geo": {
           "bgcolor": "white",
           "lakecolor": "white",
           "landcolor": "#E5ECF6",
           "showlakes": true,
           "showland": true,
           "subunitcolor": "white"
          },
          "hoverlabel": {
           "align": "left"
          },
          "hovermode": "closest",
          "mapbox": {
           "style": "light"
          },
          "paper_bgcolor": "white",
          "plot_bgcolor": "#E5ECF6",
          "polar": {
           "angularaxis": {
            "gridcolor": "white",
            "linecolor": "white",
            "ticks": ""
           },
           "bgcolor": "#E5ECF6",
           "radialaxis": {
            "gridcolor": "white",
            "linecolor": "white",
            "ticks": ""
           }
          },
          "scene": {
           "xaxis": {
            "backgroundcolor": "#E5ECF6",
            "gridcolor": "white",
            "gridwidth": 2,
            "linecolor": "white",
            "showbackground": true,
            "ticks": "",
            "zerolinecolor": "white"
           },
           "yaxis": {
            "backgroundcolor": "#E5ECF6",
            "gridcolor": "white",
            "gridwidth": 2,
            "linecolor": "white",
            "showbackground": true,
            "ticks": "",
            "zerolinecolor": "white"
           },
           "zaxis": {
            "backgroundcolor": "#E5ECF6",
            "gridcolor": "white",
            "gridwidth": 2,
            "linecolor": "white",
            "showbackground": true,
            "ticks": "",
            "zerolinecolor": "white"
           }
          },
          "shapedefaults": {
           "line": {
            "color": "#2a3f5f"
           }
          },
          "ternary": {
           "aaxis": {
            "gridcolor": "white",
            "linecolor": "white",
            "ticks": ""
           },
           "baxis": {
            "gridcolor": "white",
            "linecolor": "white",
            "ticks": ""
           },
           "bgcolor": "#E5ECF6",
           "caxis": {
            "gridcolor": "white",
            "linecolor": "white",
            "ticks": ""
           }
          },
          "title": {
           "x": 0.05
          },
          "xaxis": {
           "automargin": true,
           "gridcolor": "white",
           "linecolor": "white",
           "ticks": "",
           "title": {
            "standoff": 15
           },
           "zerolinecolor": "white",
           "zerolinewidth": 2
          },
          "yaxis": {
           "automargin": true,
           "gridcolor": "white",
           "linecolor": "white",
           "ticks": "",
           "title": {
            "standoff": 15
           },
           "zerolinecolor": "white",
           "zerolinewidth": 2
          }
         }
        },
        "title": {},
        "width": 500,
        "xaxis": {
         "anchor": "y",
         "domain": [
          0,
          1
         ],
         "linecolor": "rgb(0,0,0)",
         "linewidth": 2,
         "range": [
          0.025,
          5
         ],
         "showgrid": false,
         "showline": true,
         "title": {
          "text": "Rho"
         }
        },
        "yaxis": {
         "anchor": "x",
         "domain": [
          0,
          1
         ],
         "linecolor": "rgb(0,0,0)",
         "linewidth": 2,
         "range": [
          0,
          1
         ],
         "showgrid": false,
         "showline": true,
         "title": {
          "text": "Share of HSES friends"
         }
        }
       }
      }
     },
     "metadata": {},
     "output_type": "display_data"
    }
   ],
   "source": [
    "\n",
    "# \n",
    "H_shares = [np.transpose([new_sim.helper_functions().average_neighbour_type_per_SES(test_sims[i][j].graph_history[-1]) for j in range(n_per_rho)]) for i in range(len(rho_list))]\n",
    "avg_H_shares = np.transpose(np.average(H_shares, axis=2))\n",
    "df_avg_H_shares = pd.DataFrame(np.transpose(avg_H_shares), columns=['High SES', 'Low SES'])\n",
    "df_avg_H_shares['Rho_val'] = rho_list\n",
    "\n",
    "rho_lines = px.line(df_avg_H_shares, x='Rho_val', y=['High SES', 'Low SES'])\n",
    "\n",
    "rho_lines.update_layout(\n",
    "    title = None, \n",
    "    font=dict(size = 18),\n",
    "    xaxis_title = 'Rho', \n",
    "    yaxis_title = 'Share of HSES friends',\n",
    "    width = 500, height = 500,\n",
    "    showlegend = True, \n",
    "    legend=dict(x=0.75,y=1),\n",
    "    legend_title_text = '',\n",
    "    xaxis_range = [0.025,5],\n",
    "    yaxis_range = [0,1],\n",
    "    margin=dict(b=5,l=5,r=5,t=5),\n",
    "    xaxis = dict(showgrid = False, showline = True, linecolor = 'rgb(0,0,0)', linewidth = 2), \n",
    "    yaxis = dict(showgrid = False, showline = True, linecolor = 'rgb(0,0,0)', linewidth = 2),\n",
    "    plot_bgcolor='rgba(0,0,0,0)')\n",
    "\n",
    "rho_lines.data[0].line.color = \"rgb(200, 20, 0)\"\n",
    "rho_lines.data[1].line.color = \"rgb(0, 20, 200)\"\n",
    "rho_lines.add_hline(y=0.5, line_width=1, annotation_text = 'Equal share')\n",
    "rho_lines.add_vline(x=1, line_width=1, annotation_text = 'rho=1: no bias')\n",
    "\n",
    "rho_lines\n",
    "\n"
   ]
  }
 ],
 "metadata": {
  "language_info": {
   "name": "python"
  },
  "orig_nbformat": 4
 },
 "nbformat": 4,
 "nbformat_minor": 2
}
